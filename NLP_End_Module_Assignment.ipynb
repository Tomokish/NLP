{
  "cells": [
    {
      "cell_type": "markdown",
      "metadata": {
        "id": "view-in-github",
        "colab_type": "text"
      },
      "source": [
        "<a href=\"https://colab.research.google.com/github/Tomokish/NLP/blob/main/NLP_End_Module_Assignment.ipynb\" target=\"_parent\"><img src=\"https://colab.research.google.com/assets/colab-badge.svg\" alt=\"Open In Colab\"/></a>"
      ]
    },
    {
      "cell_type": "code",
      "execution_count": 115,
      "metadata": {
        "colab": {
          "base_uri": "https://localhost:8080/"
        },
        "id": "CEgCV2b_pNaT",
        "outputId": "1821251c-f6ee-42c3-8908-3f9b1425cc3d"
      },
      "outputs": [
        {
          "output_type": "stream",
          "name": "stdout",
          "text": [
            "Drive already mounted at /content/drive; to attempt to forcibly remount, call drive.mount(\"/content/drive\", force_remount=True).\n",
            "Dataset path set successfully: /content/drive/MyDrive/Question_Answer_Dataset_v1.2\n",
            "['LICENSE-S08,S09', 'README.v1.2', 'S09', 'S08', 'S10']\n"
          ]
        }
      ],
      "source": [
        "from google.colab import drive\n",
        "import os\n",
        "\n",
        "drive.mount('/content/drive')\n",
        "\n",
        "dataset_path = '/content/drive/MyDrive/Question_Answer_Dataset_v1.2'\n",
        "\n",
        "if not os.path.exists(dataset_path):\n",
        "    raise FileNotFoundError(f\"The dataset path does not exist: {dataset_path}\")\n",
        "else:\n",
        "    print(f\"Dataset path set successfully: {dataset_path}\")\n",
        "    print(os.listdir(dataset_path))"
      ]
    },
    {
      "cell_type": "markdown",
      "metadata": {
        "id": "60VdsmteOq6w"
      },
      "source": [
        "#Import libraries"
      ]
    },
    {
      "cell_type": "code",
      "execution_count": 116,
      "metadata": {
        "id": "SLqd9lQgOwe_"
      },
      "outputs": [],
      "source": [
        "    import os\n",
        "    import numpy as np\n",
        "    import pandas as pd\n",
        "    import re\n",
        "    import string\n",
        "    import nltk\n",
        "    from nltk.corpus import stopwords\n",
        "    from sklearn.model_selection import train_test_split\n",
        "    from sklearn.metrics import mean_absolute_error, mean_absolute_error, r2_score\n",
        "    from tensorflow.keras.utils import plot_model, to_categorical\n",
        "    from tensorflow.keras.models import Model\n",
        "    from tensorflow.keras.layers import Input, Embedding, LSTM, Attention, Dense, Concatenate, Lambda, TimeDistributed, Dropout, RepeatVector\n",
        "    from tensorflow.keras.preprocessing.text import Tokenizer\n",
        "    from tensorflow.keras.preprocessing.sequence import pad_sequences\n",
        "    from tensorflow.keras import layers\n",
        "    import tensorflow as tf\n",
        "    from nltk.translate.bleu_score import sentence_bleu, SmoothingFunction\n",
        "    import pickle\n",
        "    from google.colab import drive\n",
        "    from tensorflow.keras.preprocessing.text import Tokenizer\n",
        "    from tensorflow.keras.preprocessing.sequence import pad_sequences\n",
        "    from tensorflow.keras.callbacks import EarlyStopping\n",
        "    from tensorflow import keras\n",
        "    from collections import Counter\n",
        "    import matplotlib.pyplot as plt\n",
        "    import seaborn as sns"
      ]
    },
    {
      "cell_type": "markdown",
      "metadata": {
        "id": "8I1tD7h2RqJv"
      },
      "source": [
        "#Setup GPU"
      ]
    },
    {
      "cell_type": "code",
      "execution_count": 117,
      "metadata": {
        "colab": {
          "base_uri": "https://localhost:8080/"
        },
        "id": "qiorCoUMSOE9",
        "outputId": "6f73dacd-a950-4f0e-efa2-dd14918e86d2"
      },
      "outputs": [
        {
          "output_type": "stream",
          "name": "stdout",
          "text": [
            "Num GPUs Available: 0\n",
            "No GPU detected, running on CPU.\n"
          ]
        }
      ],
      "source": [
        "import tensorflow as tf\n",
        "\n",
        "# Check GPUs\n",
        "gpus = tf.config.list_physical_devices('GPU')\n",
        "\n",
        "print(\"Num GPUs Available:\", len(gpus))\n",
        "if gpus:\n",
        "    try:\n",
        "        # Currently, memory growth needs to be the same across GPUs\n",
        "        for gpu in gpus:\n",
        "            tf.config.experimental.set_memory_growth(gpu, True)\n",
        "        print(\"Available GPUs:\", gpus)  # This will print the list of GPUs now that it's defined\n",
        "    except RuntimeError as e:\n",
        "        print(e)\n",
        "else:\n",
        "    print(\"No GPU detected, running on CPU.\")"
      ]
    },
    {
      "cell_type": "markdown",
      "metadata": {
        "id": "LVEYyy2kTunp"
      },
      "source": [
        "#preview data"
      ]
    },
    {
      "cell_type": "code",
      "execution_count": 118,
      "metadata": {
        "colab": {
          "base_uri": "https://localhost:8080/"
        },
        "id": "dav2bTkgTxV2",
        "outputId": "549a1e7e-fcf0-4a0f-83f7-85525f302532"
      },
      "outputs": [
        {
          "output_type": "stream",
          "name": "stdout",
          "text": [
            "\n",
            "--- Raw Data Sample from S08 ---\n",
            "                                            Question Answer\n",
            "0  Was Abraham Lincoln the sixteenth President of...    yes\n",
            "1  Was Abraham Lincoln the sixteenth President of...   Yes.\n",
            "2  Did Lincoln sign the National Banking Act of 1...    yes\n",
            "3  Did Lincoln sign the National Banking Act of 1...   Yes.\n",
            "4                   Did his mother die of pneumonia?     no\n",
            "\n",
            "Unique Characters in Questions (S08):\n",
            "{'u', '3', '2', 'R', '¤', 'Y', 'i', '8', \"'\", '1', '#', 'z', 'A', 'Q', 'W', ':', 'N', '%', 'j', 'g', 'Ä', 'C', 's', 'I', 'b', 'K', '-', 't', 'q', 'F', 'f', '9', 'l', 'e', 'y', 'p', 'P', 'Ã', '0', 'J', '$', '7', 'U', '5', '&', '.', '©', 'm', 'w', 'd', '\\x87', 'L', 'G', 'a', ';', 'x', 'h', '`', 'n', 'S', 'V', 'B', 'H', 'c', '4', 'O', 'r', 'v', ')', 'M', '(', '\"', 'D', 'o', '\\x85', 'k', ' ', 'T', ',', 'X', '6', 'E', 'Z', '?'}\n",
            "\n",
            "Unique Characters in Answers (S08):\n",
            "{'u', '3', '2', '*', 'R', 'Y', 'i', '8', \"'\", '1', '#', 'z', 'A', 'Q', 'W', ':', '\\\\', 'N', '÷', '%', 'j', 'g', 'Ä', 'C', '=', '\\x93', 's', 'I', 'b', 'K', '-', 't', '_', 'q', 'F', 'f', '9', 'l', 'e', 'y', 'p', 'P', '0', 'J', '7', 'U', '5', '&', '.', '©', 'm', '\\x83', 'w', 'd', 'L', 'G', 'a', ';', 'x', 'h', 'n', 'S', 'V', 'B', 'H', 'c', '4', 'O', '!', '\\x80', 'r', 'v', 'M', ')', '(', '\"', 'D', 'o', 'â', 'k', ' ', 'T', ',', 'X', '6', 'E', 'Z', '?'}\n",
            "\n",
            "--- Raw Data Sample from S09 ---\n",
            "                                            Question Answer\n",
            "0                    Was Volta an Italian physicist?    yes\n",
            "1                    Was Volta an Italian physicist?    yes\n",
            "2         Is Volta buried in the city of Pittsburgh?     no\n",
            "3         Is Volta buried in the city of Pittsburgh?     no\n",
            "4  Did Volta have a passion for the study of elec...    yes\n",
            "\n",
            "Unique Characters in Questions (S09):\n",
            "{'u', '3', '2', '*', 'R', '¤', 'Y', 'i', '8', \"'\", '1', '¡', 'z', 'A', '\\x8c', 'Q', 'W', ':', 'N', '\\xa0', '%', 'j', 'g', '¦', 'C', '\\x93', 's', 'I', 'b', 'K', '-', 't', 'q', '>', 'F', 'f', '9', 'l', 'e', 'y', 'p', 'P', 'Ã', '0', 'J', '$', '7', 'U', '5', '.', '\\x9f', '©', 'm', 'w', '+', 'd', 'L', 'G', 'a', 'x', 'h', 'ª', '`', 'n', 'S', 'V', 'B', 'H', 'c', '4', 'O', '\\x80', 'r', 'v', 'M', ')', '(', '\"', 'D', 'o', 'â', 'k', ' ', 'T', ',', '6', 'E', '/', 'Z', '?'}\n",
            "\n",
            "Unique Characters in Answers (S09):\n",
            "{'\\x99', 'u', '3', '2', '*', 'Å', 'R', 'Y', 'i', '8', \"'\", '1', '[', '#', '¡', 'z', 'A', 'Q', 'W', ':', 'N', 'j', 'g', 'Ä', 'C', 's', 'I', 'b', 'K', '-', 't', 'q', 'F', 'f', '9', 'l', 'e', 'y', 'p', 'P', 'Ã', '0', 'J', 'º', 'á', '\\x81', '7', 'U', '5', '&', '.', 'm', 'w', '+', 'd', 'L', 'G', 'a', ';', 'x', 'h', 'n', 'S', 'V', 'B', 'H', 'c', '4', 'O', 'r', 'v', ')', 'M', '(', '\\xad', '\"', 'D', 'o', 'k', ' ', 'T', ',', '6', ']', 'E', 'Z'}\n",
            "\n",
            "--- Raw Data Sample from S10 ---\n",
            "                                            Question  \\\n",
            "0     Was Alessandro Volta a professor of chemistry?   \n",
            "1     Was Alessandro Volta a professor of chemistry?   \n",
            "2  Did Alessandro Volta invent the remotely opera...   \n",
            "3  Did Alessandro Volta invent the remotely opera...   \n",
            "4     Was Alessandro Volta taught in public schools?   \n",
            "\n",
            "                                              Answer  \n",
            "0  Alessandro Volta was not a professor of chemis...  \n",
            "1                                                 No  \n",
            "2  Alessandro Volta did invent the remotely opera...  \n",
            "3                                                Yes  \n",
            "4                Volta was taught in public schools.  \n",
            "\n",
            "Unique Characters in Questions (S10):\n",
            "{'u', '3', '2', 'R', 'Y', 'i', '8', \"'\", '1', '#', 'z', 'A', 'Q', 'W', ':', 'N', 'j', 'g', 'C', '\\x93', 'è', 's', 'I', 'b', 'K', '-', 't', 'É', 'q', 'F', 'f', '9', 'l', 'e', 'y', 'p', 'P', 'Ã', '0', 'J', '7', 'U', '5', '&', '.', 'm', 'w', 'd', 'L', 'G', 'é', 'a', ';', 'x', 'h', 'ª', '`', 'n', 'S', 'V', 'B', 'H', 'c', '4', 'O', 'r', 'v', 'M', ')', '(', '\"', 'D', 'o', 'k', ' ', 'T', ',', '\\x01', '\\x94', 'X', '6', 'E', '/', 'Z', '?'}\n",
            "\n",
            "Unique Characters in Answers (S10):\n",
            "{'u', '3', '2', '*', 'R', 'Y', 'i', 'ö', '8', \"'\", '1', 'z', 'A', 'Q', 'W', ':', 'N', '%', 'j', 'g', 'C', '\\x93', 's', 'I', 'b', 'K', '-', 't', 'q', 'F', 'f', '9', 'l', '\\x89', 'e', 'y', 'p', 'P', 'Ã', '0', 'J', '$', '7', 'U', '5', '.', '©', 'm', 'w', 'd', 'L', 'G', 'é', 'a', 'x', 'h', 'ª', 'n', 'S', 'V', 'B', 'H', 'c', '4', 'O', '\\x80', 'r', '¶', 'v', ')', 'M', '(', '\"', 'D', 'o', 'â', 'k', ' ', 'T', ',', 'X', '6', 'E', '/', 'Z'}\n"
          ]
        }
      ],
      "source": [
        "import os\n",
        "import pandas as pd\n",
        "\n",
        "dataset_path = '/content/drive/MyDrive/Question_Answer_Dataset_v1.2'\n",
        "folders = ['S08', 'S09', 'S10']\n",
        "\n",
        "# Iterate over folders and preview data\n",
        "for folder in folders:\n",
        "    file_path = os.path.join(dataset_path, folder, 'question_answer_pairs.txt')\n",
        "    try:\n",
        "        if os.path.exists(file_path):\n",
        "            data = pd.read_csv(file_path, sep='\\t', encoding='ISO-8859-1', quoting=3)\n",
        "\n",
        "            # Preview raw data\n",
        "            print(f\"\\n--- Raw Data Sample from {folder} ---\")\n",
        "            print(data[['Question', 'Answer']].head(5))\n",
        "\n",
        "            # Check for special characters\n",
        "            questions_chars = set(''.join(data['Question'].dropna()))\n",
        "            answers_chars = set(''.join(data['Answer'].dropna()))\n",
        "\n",
        "            print(f\"\\nUnique Characters in Questions ({folder}):\")\n",
        "            print(questions_chars)\n",
        "\n",
        "            print(f\"\\nUnique Characters in Answers ({folder}):\")\n",
        "            print(answers_chars)\n",
        "        else:\n",
        "            print(f\"Error: File not found at {file_path}\")\n",
        "\n",
        "    except Exception as e:\n",
        "        print(f\"An unexpected error occurred while processing {file_path}: {e}\")"
      ]
    },
    {
      "cell_type": "markdown",
      "metadata": {
        "id": "2B92j8CEZRjB"
      },
      "source": [
        "Clean data"
      ]
    },
    {
      "cell_type": "code",
      "execution_count": 120,
      "metadata": {
        "id": "yMDy2WvVVdxv"
      },
      "outputs": [],
      "source": [
        "def preprocess_text(text):\n",
        "    text = text.lower()\n",
        "    text = re.sub(r'[^\\x00-\\x7f]', '', text)\n",
        "    text = re.sub(r'.*?', '', text)\n",
        "    text = re.sub(r'[%s]' % re.escape(string.punctuation), '', text)\n",
        "    text = re.sub(r'\\w*\\d\\w*', '', text)\n",
        "    text = re.sub(r'\\s+', ' ', text).strip()\n",
        "    return text\n",
        "\n",
        "dataset_path = '/content/drive/MyDrive/Question_Answer_Dataset_v1.2'\n",
        "folders = ['S08', 'S09', 'S10']\n",
        "all_data = pd.DataFrame()"
      ]
    },
    {
      "cell_type": "markdown",
      "metadata": {
        "id": "VSujVIyvcT51"
      },
      "source": [
        "load Data S8,S9,S10 and concatenate data"
      ]
    },
    {
      "cell_type": "code",
      "execution_count": null,
      "metadata": {
        "colab": {
          "base_uri": "https://localhost:8080/"
        },
        "id": "6Fh4D3wbcakJ",
        "outputId": "1f830101-79fa-457a-dc61-b07f157c7db7"
      },
      "outputs": [
        {
          "output_type": "stream",
          "name": "stdout",
          "text": [
            "Index(['ArticleTitle', 'Question', 'Answer', 'DifficultyFromQuestioner',\n",
            "       'DifficultyFromAnswerer', 'ArticleFile'],\n",
            "      dtype='object')\n"
          ]
        }
      ],
      "source": [
        "for folder in folders:\n",
        "    file_path = os.path.join(dataset_path, folder, 'question_answer_pairs.txt')\n",
        "    if os.path.exists(file_path):\n",
        "        data = pd.read_csv(file_path, sep='\\t', encoding='ISO-8859-1', quoting=3)\n",
        "        all_data = pd.concat([all_data, data], ignore_index=True)\n",
        "print(all_data.columns)\n"
      ]
    },
    {
      "cell_type": "code",
      "execution_count": null,
      "metadata": {
        "colab": {
          "base_uri": "https://localhost:8080/"
        },
        "id": "8HejF6UqOlZx",
        "outputId": "1dee626c-221d-49c5-ec39-4656224c7156"
      },
      "outputs": [
        {
          "output_type": "stream",
          "name": "stdout",
          "text": [
            "Train set size: (2394, 6)\n",
            "Validation set size: (513, 6)\n",
            "Test set size: (513, 6)\n"
          ]
        },
        {
          "output_type": "stream",
          "name": "stderr",
          "text": [
            "<ipython-input-6-62aaae04eedd>:4: SettingWithCopyWarning: \n",
            "A value is trying to be set on a copy of a slice from a DataFrame.\n",
            "Try using .loc[row_indexer,col_indexer] = value instead\n",
            "\n",
            "See the caveats in the documentation: https://pandas.pydata.org/pandas-docs/stable/user_guide/indexing.html#returning-a-view-versus-a-copy\n",
            "  cleaned_data['Question'] = cleaned_data['Question'].apply(preprocess_text)\n",
            "<ipython-input-6-62aaae04eedd>:5: SettingWithCopyWarning: \n",
            "A value is trying to be set on a copy of a slice from a DataFrame.\n",
            "Try using .loc[row_indexer,col_indexer] = value instead\n",
            "\n",
            "See the caveats in the documentation: https://pandas.pydata.org/pandas-docs/stable/user_guide/indexing.html#returning-a-view-versus-a-copy\n",
            "  cleaned_data['Answer'] = cleaned_data['Answer'].apply(preprocess_text)\n"
          ]
        }
      ],
      "source": [
        "cleaned_data = all_data.dropna(subset=['Question', 'Answer'])\n",
        "\n",
        "# Preprocess text clearly (apply your defined preprocess_text function)\n",
        "cleaned_data['Question'] = cleaned_data['Question'].apply(preprocess_text)\n",
        "cleaned_data['Answer'] = cleaned_data['Answer'].apply(preprocess_text)\n",
        "\n",
        "# Splitting into train, validation, test sets clearly:\n",
        "train_data, temp_data = train_test_split(cleaned_data, test_size=0.3, random_state=42)\n",
        "val_data, test_data = train_test_split(temp_data, test_size=0.5, random_state=42)\n",
        "\n",
        "print(f\"Train set size: {train_data.shape}\")\n",
        "print(f\"Validation set size: {val_data.shape}\")\n",
        "print(f\"Test set size: {test_data.shape}\")"
      ]
    },
    {
      "cell_type": "markdown",
      "metadata": {
        "id": "hHHEeJY7RjPN"
      },
      "source": [
        "#Tokenize"
      ]
    },
    {
      "cell_type": "code",
      "execution_count": null,
      "metadata": {
        "id": "90rMUXbcRmE7"
      },
      "outputs": [],
      "source": [
        "tokenizer = Tokenizer()\n",
        "tokenizer.fit_on_texts(cleaned_data['Question'].tolist() + cleaned_data['Answer'].tolist())\n",
        "\n",
        "# Add special tokens\n",
        "word_index = tokenizer.word_index\n",
        "next_index = len(word_index) + 1\n",
        "word_index['starttoken'] = next_index\n",
        "next_index += 1\n",
        "word_index['endtoken'] = next_index\n",
        "tokenizer.word_index = word_index\n",
        "tokenizer.index_word = {v: k for k, v in word_index.items()}\n",
        "\n",
        "# Calculate vocabulary size AFTER adding special tokens\n",
        "vocab_size = len(tokenizer.word_index) + 1\n",
        "\n",
        "# Prepare answers with special tokens\n",
        "train_answers_with_tokens = ['starttoken ' + answer + ' endtoken' for answer in train_data['Answer']]\n",
        "val_answers_with_tokens = ['starttoken ' + answer + ' endtoken' for answer in val_data['Answer']]\n",
        "test_answers_with_tokens = ['starttoken ' + answer + ' endtoken' for answer in test_data['Answer']]\n",
        "\n",
        "max_question_len = max(len(seq) for seq in tokenizer.texts_to_sequences(cleaned_data['Question'].tolist()))\n",
        "max_answer_len = max(len(seq) for seq in tokenizer.texts_to_sequences(train_answers_with_tokens + val_answers_with_tokens + test_answers_with_tokens))\n",
        "\n",
        "def tokenize_and_pad(data, tokenizer, max_len):\n",
        "    sequences = tokenizer.texts_to_sequences(data)\n",
        "    return pad_sequences(sequences, maxlen=max_len, padding='post')\n",
        "\n",
        "train_questions = tokenize_and_pad(train_data['Question'], tokenizer, max_question_len)\n",
        "val_questions = tokenize_and_pad(val_data['Question'], tokenizer, max_question_len)\n",
        "test_questions = tokenize_and_pad(test_data['Question'], tokenizer, max_question_len)\n",
        "\n",
        "train_answers = tokenize_and_pad(train_answers_with_tokens, tokenizer, max_answer_len)\n",
        "val_answers = tokenize_and_pad(val_answers_with_tokens, tokenizer, max_answer_len)\n",
        "test_answers = tokenize_and_pad(test_answers_with_tokens, tokenizer, max_answer_len)"
      ]
    },
    {
      "cell_type": "markdown",
      "metadata": {
        "id": "VK456kt7UTt0"
      },
      "source": [
        "#Seq2Seq without Attention"
      ]
    },
    {
      "cell_type": "markdown",
      "metadata": {
        "id": "kWJlsnhwaeNI"
      },
      "source": [
        "Define Model architecture"
      ]
    },
    {
      "cell_type": "code",
      "execution_count": null,
      "metadata": {
        "colab": {
          "base_uri": "https://localhost:8080/",
          "height": 461
        },
        "id": "iBcrc_n3Udiu",
        "outputId": "57fe5f5f-46d6-4834-b112-a6f95dfd2e33"
      },
      "outputs": [
        {
          "output_type": "display_data",
          "data": {
            "text/plain": [
              "\u001b[1mModel: \"functional\"\u001b[0m\n"
            ],
            "text/html": [
              "<pre style=\"white-space:pre;overflow-x:auto;line-height:normal;font-family:Menlo,'DejaVu Sans Mono',consolas,'Courier New',monospace\"><span style=\"font-weight: bold\">Model: \"functional\"</span>\n",
              "</pre>\n"
            ]
          },
          "metadata": {}
        },
        {
          "output_type": "display_data",
          "data": {
            "text/plain": [
              "┏━━━━━━━━━━━━━━━━━━━━━━━━━━━┳━━━━━━━━━━━━━━━━━━━━━━━━┳━━━━━━━━━━━━━━━━┳━━━━━━━━━━━━━━━━━━━━━━━━┓\n",
              "┃\u001b[1m \u001b[0m\u001b[1mLayer (type)             \u001b[0m\u001b[1m \u001b[0m┃\u001b[1m \u001b[0m\u001b[1mOutput Shape          \u001b[0m\u001b[1m \u001b[0m┃\u001b[1m \u001b[0m\u001b[1m       Param #\u001b[0m\u001b[1m \u001b[0m┃\u001b[1m \u001b[0m\u001b[1mConnected to          \u001b[0m\u001b[1m \u001b[0m┃\n",
              "┡━━━━━━━━━━━━━━━━━━━━━━━━━━━╇━━━━━━━━━━━━━━━━━━━━━━━━╇━━━━━━━━━━━━━━━━╇━━━━━━━━━━━━━━━━━━━━━━━━┩\n",
              "│ input_layer (\u001b[38;5;33mInputLayer\u001b[0m)  │ (\u001b[38;5;45mNone\u001b[0m, \u001b[38;5;34m43\u001b[0m)             │              \u001b[38;5;34m0\u001b[0m │ -                      │\n",
              "├───────────────────────────┼────────────────────────┼────────────────┼────────────────────────┤\n",
              "│ input_layer_1             │ (\u001b[38;5;45mNone\u001b[0m, \u001b[38;5;34m157\u001b[0m)            │              \u001b[38;5;34m0\u001b[0m │ -                      │\n",
              "│ (\u001b[38;5;33mInputLayer\u001b[0m)              │                        │                │                        │\n",
              "├───────────────────────────┼────────────────────────┼────────────────┼────────────────────────┤\n",
              "│ embedding (\u001b[38;5;33mEmbedding\u001b[0m)     │ (\u001b[38;5;45mNone\u001b[0m, \u001b[38;5;34m43\u001b[0m, \u001b[38;5;34m256\u001b[0m)        │      \u001b[38;5;34m1,376,768\u001b[0m │ input_layer[\u001b[38;5;34m0\u001b[0m][\u001b[38;5;34m0\u001b[0m]      │\n",
              "├───────────────────────────┼────────────────────────┼────────────────┼────────────────────────┤\n",
              "│ not_equal (\u001b[38;5;33mNotEqual\u001b[0m)      │ (\u001b[38;5;45mNone\u001b[0m, \u001b[38;5;34m43\u001b[0m)             │              \u001b[38;5;34m0\u001b[0m │ input_layer[\u001b[38;5;34m0\u001b[0m][\u001b[38;5;34m0\u001b[0m]      │\n",
              "├───────────────────────────┼────────────────────────┼────────────────┼────────────────────────┤\n",
              "│ embedding_1 (\u001b[38;5;33mEmbedding\u001b[0m)   │ (\u001b[38;5;45mNone\u001b[0m, \u001b[38;5;34m157\u001b[0m, \u001b[38;5;34m256\u001b[0m)       │      \u001b[38;5;34m1,376,768\u001b[0m │ input_layer_1[\u001b[38;5;34m0\u001b[0m][\u001b[38;5;34m0\u001b[0m]    │\n",
              "├───────────────────────────┼────────────────────────┼────────────────┼────────────────────────┤\n",
              "│ lstm (\u001b[38;5;33mLSTM\u001b[0m)               │ [(\u001b[38;5;45mNone\u001b[0m, \u001b[38;5;34m256\u001b[0m), (\u001b[38;5;45mNone\u001b[0m,   │        \u001b[38;5;34m525,312\u001b[0m │ embedding[\u001b[38;5;34m0\u001b[0m][\u001b[38;5;34m0\u001b[0m],       │\n",
              "│                           │ \u001b[38;5;34m256\u001b[0m), (\u001b[38;5;45mNone\u001b[0m, \u001b[38;5;34m256\u001b[0m)]     │                │ not_equal[\u001b[38;5;34m0\u001b[0m][\u001b[38;5;34m0\u001b[0m]        │\n",
              "├───────────────────────────┼────────────────────────┼────────────────┼────────────────────────┤\n",
              "│ lstm_1 (\u001b[38;5;33mLSTM\u001b[0m)             │ [(\u001b[38;5;45mNone\u001b[0m, \u001b[38;5;34m157\u001b[0m, \u001b[38;5;34m256\u001b[0m),     │        \u001b[38;5;34m525,312\u001b[0m │ embedding_1[\u001b[38;5;34m0\u001b[0m][\u001b[38;5;34m0\u001b[0m],     │\n",
              "│                           │ (\u001b[38;5;45mNone\u001b[0m, \u001b[38;5;34m256\u001b[0m), (\u001b[38;5;45mNone\u001b[0m,    │                │ lstm[\u001b[38;5;34m0\u001b[0m][\u001b[38;5;34m1\u001b[0m], lstm[\u001b[38;5;34m0\u001b[0m][\u001b[38;5;34m2\u001b[0m] │\n",
              "│                           │ \u001b[38;5;34m256\u001b[0m)]                  │                │                        │\n",
              "├───────────────────────────┼────────────────────────┼────────────────┼────────────────────────┤\n",
              "│ dense (\u001b[38;5;33mDense\u001b[0m)             │ (\u001b[38;5;45mNone\u001b[0m, \u001b[38;5;34m157\u001b[0m, \u001b[38;5;34m5378\u001b[0m)      │      \u001b[38;5;34m1,382,146\u001b[0m │ lstm_1[\u001b[38;5;34m0\u001b[0m][\u001b[38;5;34m0\u001b[0m]           │\n",
              "└───────────────────────────┴────────────────────────┴────────────────┴────────────────────────┘\n"
            ],
            "text/html": [
              "<pre style=\"white-space:pre;overflow-x:auto;line-height:normal;font-family:Menlo,'DejaVu Sans Mono',consolas,'Courier New',monospace\">┏━━━━━━━━━━━━━━━━━━━━━━━━━━━┳━━━━━━━━━━━━━━━━━━━━━━━━┳━━━━━━━━━━━━━━━━┳━━━━━━━━━━━━━━━━━━━━━━━━┓\n",
              "┃<span style=\"font-weight: bold\"> Layer (type)              </span>┃<span style=\"font-weight: bold\"> Output Shape           </span>┃<span style=\"font-weight: bold\">        Param # </span>┃<span style=\"font-weight: bold\"> Connected to           </span>┃\n",
              "┡━━━━━━━━━━━━━━━━━━━━━━━━━━━╇━━━━━━━━━━━━━━━━━━━━━━━━╇━━━━━━━━━━━━━━━━╇━━━━━━━━━━━━━━━━━━━━━━━━┩\n",
              "│ input_layer (<span style=\"color: #0087ff; text-decoration-color: #0087ff\">InputLayer</span>)  │ (<span style=\"color: #00d7ff; text-decoration-color: #00d7ff\">None</span>, <span style=\"color: #00af00; text-decoration-color: #00af00\">43</span>)             │              <span style=\"color: #00af00; text-decoration-color: #00af00\">0</span> │ -                      │\n",
              "├───────────────────────────┼────────────────────────┼────────────────┼────────────────────────┤\n",
              "│ input_layer_1             │ (<span style=\"color: #00d7ff; text-decoration-color: #00d7ff\">None</span>, <span style=\"color: #00af00; text-decoration-color: #00af00\">157</span>)            │              <span style=\"color: #00af00; text-decoration-color: #00af00\">0</span> │ -                      │\n",
              "│ (<span style=\"color: #0087ff; text-decoration-color: #0087ff\">InputLayer</span>)              │                        │                │                        │\n",
              "├───────────────────────────┼────────────────────────┼────────────────┼────────────────────────┤\n",
              "│ embedding (<span style=\"color: #0087ff; text-decoration-color: #0087ff\">Embedding</span>)     │ (<span style=\"color: #00d7ff; text-decoration-color: #00d7ff\">None</span>, <span style=\"color: #00af00; text-decoration-color: #00af00\">43</span>, <span style=\"color: #00af00; text-decoration-color: #00af00\">256</span>)        │      <span style=\"color: #00af00; text-decoration-color: #00af00\">1,376,768</span> │ input_layer[<span style=\"color: #00af00; text-decoration-color: #00af00\">0</span>][<span style=\"color: #00af00; text-decoration-color: #00af00\">0</span>]      │\n",
              "├───────────────────────────┼────────────────────────┼────────────────┼────────────────────────┤\n",
              "│ not_equal (<span style=\"color: #0087ff; text-decoration-color: #0087ff\">NotEqual</span>)      │ (<span style=\"color: #00d7ff; text-decoration-color: #00d7ff\">None</span>, <span style=\"color: #00af00; text-decoration-color: #00af00\">43</span>)             │              <span style=\"color: #00af00; text-decoration-color: #00af00\">0</span> │ input_layer[<span style=\"color: #00af00; text-decoration-color: #00af00\">0</span>][<span style=\"color: #00af00; text-decoration-color: #00af00\">0</span>]      │\n",
              "├───────────────────────────┼────────────────────────┼────────────────┼────────────────────────┤\n",
              "│ embedding_1 (<span style=\"color: #0087ff; text-decoration-color: #0087ff\">Embedding</span>)   │ (<span style=\"color: #00d7ff; text-decoration-color: #00d7ff\">None</span>, <span style=\"color: #00af00; text-decoration-color: #00af00\">157</span>, <span style=\"color: #00af00; text-decoration-color: #00af00\">256</span>)       │      <span style=\"color: #00af00; text-decoration-color: #00af00\">1,376,768</span> │ input_layer_1[<span style=\"color: #00af00; text-decoration-color: #00af00\">0</span>][<span style=\"color: #00af00; text-decoration-color: #00af00\">0</span>]    │\n",
              "├───────────────────────────┼────────────────────────┼────────────────┼────────────────────────┤\n",
              "│ lstm (<span style=\"color: #0087ff; text-decoration-color: #0087ff\">LSTM</span>)               │ [(<span style=\"color: #00d7ff; text-decoration-color: #00d7ff\">None</span>, <span style=\"color: #00af00; text-decoration-color: #00af00\">256</span>), (<span style=\"color: #00d7ff; text-decoration-color: #00d7ff\">None</span>,   │        <span style=\"color: #00af00; text-decoration-color: #00af00\">525,312</span> │ embedding[<span style=\"color: #00af00; text-decoration-color: #00af00\">0</span>][<span style=\"color: #00af00; text-decoration-color: #00af00\">0</span>],       │\n",
              "│                           │ <span style=\"color: #00af00; text-decoration-color: #00af00\">256</span>), (<span style=\"color: #00d7ff; text-decoration-color: #00d7ff\">None</span>, <span style=\"color: #00af00; text-decoration-color: #00af00\">256</span>)]     │                │ not_equal[<span style=\"color: #00af00; text-decoration-color: #00af00\">0</span>][<span style=\"color: #00af00; text-decoration-color: #00af00\">0</span>]        │\n",
              "├───────────────────────────┼────────────────────────┼────────────────┼────────────────────────┤\n",
              "│ lstm_1 (<span style=\"color: #0087ff; text-decoration-color: #0087ff\">LSTM</span>)             │ [(<span style=\"color: #00d7ff; text-decoration-color: #00d7ff\">None</span>, <span style=\"color: #00af00; text-decoration-color: #00af00\">157</span>, <span style=\"color: #00af00; text-decoration-color: #00af00\">256</span>),     │        <span style=\"color: #00af00; text-decoration-color: #00af00\">525,312</span> │ embedding_1[<span style=\"color: #00af00; text-decoration-color: #00af00\">0</span>][<span style=\"color: #00af00; text-decoration-color: #00af00\">0</span>],     │\n",
              "│                           │ (<span style=\"color: #00d7ff; text-decoration-color: #00d7ff\">None</span>, <span style=\"color: #00af00; text-decoration-color: #00af00\">256</span>), (<span style=\"color: #00d7ff; text-decoration-color: #00d7ff\">None</span>,    │                │ lstm[<span style=\"color: #00af00; text-decoration-color: #00af00\">0</span>][<span style=\"color: #00af00; text-decoration-color: #00af00\">1</span>], lstm[<span style=\"color: #00af00; text-decoration-color: #00af00\">0</span>][<span style=\"color: #00af00; text-decoration-color: #00af00\">2</span>] │\n",
              "│                           │ <span style=\"color: #00af00; text-decoration-color: #00af00\">256</span>)]                  │                │                        │\n",
              "├───────────────────────────┼────────────────────────┼────────────────┼────────────────────────┤\n",
              "│ dense (<span style=\"color: #0087ff; text-decoration-color: #0087ff\">Dense</span>)             │ (<span style=\"color: #00d7ff; text-decoration-color: #00d7ff\">None</span>, <span style=\"color: #00af00; text-decoration-color: #00af00\">157</span>, <span style=\"color: #00af00; text-decoration-color: #00af00\">5378</span>)      │      <span style=\"color: #00af00; text-decoration-color: #00af00\">1,382,146</span> │ lstm_1[<span style=\"color: #00af00; text-decoration-color: #00af00\">0</span>][<span style=\"color: #00af00; text-decoration-color: #00af00\">0</span>]           │\n",
              "└───────────────────────────┴────────────────────────┴────────────────┴────────────────────────┘\n",
              "</pre>\n"
            ]
          },
          "metadata": {}
        },
        {
          "output_type": "display_data",
          "data": {
            "text/plain": [
              "\u001b[1m Total params: \u001b[0m\u001b[38;5;34m5,186,306\u001b[0m (19.78 MB)\n"
            ],
            "text/html": [
              "<pre style=\"white-space:pre;overflow-x:auto;line-height:normal;font-family:Menlo,'DejaVu Sans Mono',consolas,'Courier New',monospace\"><span style=\"font-weight: bold\"> Total params: </span><span style=\"color: #00af00; text-decoration-color: #00af00\">5,186,306</span> (19.78 MB)\n",
              "</pre>\n"
            ]
          },
          "metadata": {}
        },
        {
          "output_type": "display_data",
          "data": {
            "text/plain": [
              "\u001b[1m Trainable params: \u001b[0m\u001b[38;5;34m5,186,306\u001b[0m (19.78 MB)\n"
            ],
            "text/html": [
              "<pre style=\"white-space:pre;overflow-x:auto;line-height:normal;font-family:Menlo,'DejaVu Sans Mono',consolas,'Courier New',monospace\"><span style=\"font-weight: bold\"> Trainable params: </span><span style=\"color: #00af00; text-decoration-color: #00af00\">5,186,306</span> (19.78 MB)\n",
              "</pre>\n"
            ]
          },
          "metadata": {}
        },
        {
          "output_type": "display_data",
          "data": {
            "text/plain": [
              "\u001b[1m Non-trainable params: \u001b[0m\u001b[38;5;34m0\u001b[0m (0.00 B)\n"
            ],
            "text/html": [
              "<pre style=\"white-space:pre;overflow-x:auto;line-height:normal;font-family:Menlo,'DejaVu Sans Mono',consolas,'Courier New',monospace\"><span style=\"font-weight: bold\"> Non-trainable params: </span><span style=\"color: #00af00; text-decoration-color: #00af00\">0</span> (0.00 B)\n",
              "</pre>\n"
            ]
          },
          "metadata": {}
        }
      ],
      "source": [
        "encoder_inputs_1 = Input(shape=(max_question_len,))\n",
        "encoder_embedding_1 = Embedding(vocab_size, 256, mask_zero=True)(encoder_inputs_1)\n",
        "encoder_lstm_1 = LSTM(256, return_state=True, dropout=0.3)\n",
        "encoder_outputs_1, state_h_1, state_c_1 = encoder_lstm_1(encoder_embedding_1)\n",
        "\n",
        "decoder_inputs_1 = Input(shape=(max_answer_len,))\n",
        "decoder_embedding_1 = Embedding(vocab_size, 256, mask_zero=True)(decoder_inputs_1)\n",
        "decoder_lstm_1 = LSTM(256, return_sequences=True, return_state=True, dropout=0.3)\n",
        "decoder_outputs_1, _, _ = decoder_lstm_1(decoder_embedding_1, initial_state=[state_h_1, state_c_1])\n",
        "decoder_dense_1 = Dense(vocab_size, activation=\"softmax\")\n",
        "decoder_outputs_1 = decoder_dense_1(decoder_outputs_1)\n",
        "\n",
        "model_without_attention = Model([encoder_inputs_1, decoder_inputs_1], decoder_outputs_1)\n",
        "model_without_attention.compile(optimizer='adam', loss='sparse_categorical_crossentropy')\n",
        "\n",
        "model_without_attention.summary()"
      ]
    },
    {
      "cell_type": "markdown",
      "metadata": {
        "id": "uY8y4lIdallD"
      },
      "source": [
        "Model Training"
      ]
    },
    {
      "cell_type": "code",
      "execution_count": null,
      "metadata": {
        "colab": {
          "base_uri": "https://localhost:8080/"
        },
        "id": "eGdB0SulUif6",
        "outputId": "c561a519-1d90-4493-ab77-37464ae3947e"
      },
      "outputs": [
        {
          "output_type": "stream",
          "name": "stdout",
          "text": [
            "Epoch 1/10\n",
            "\u001b[1m38/38\u001b[0m \u001b[32m━━━━━━━━━━━━━━━━━━━━\u001b[0m\u001b[37m\u001b[0m \u001b[1m13s\u001b[0m 115ms/step - loss: 7.6037 - val_loss: 4.8844\n",
            "Epoch 2/10\n",
            "\u001b[1m38/38\u001b[0m \u001b[32m━━━━━━━━━━━━━━━━━━━━\u001b[0m\u001b[37m\u001b[0m \u001b[1m3s\u001b[0m 72ms/step - loss: 4.3735 - val_loss: 4.2751\n",
            "Epoch 3/10\n",
            "\u001b[1m38/38\u001b[0m \u001b[32m━━━━━━━━━━━━━━━━━━━━\u001b[0m\u001b[37m\u001b[0m \u001b[1m3s\u001b[0m 73ms/step - loss: 3.9753 - val_loss: 4.0273\n",
            "Epoch 4/10\n",
            "\u001b[1m38/38\u001b[0m \u001b[32m━━━━━━━━━━━━━━━━━━━━\u001b[0m\u001b[37m\u001b[0m \u001b[1m3s\u001b[0m 75ms/step - loss: 3.6065 - val_loss: 3.9027\n",
            "Epoch 5/10\n",
            "\u001b[1m38/38\u001b[0m \u001b[32m━━━━━━━━━━━━━━━━━━━━\u001b[0m\u001b[37m\u001b[0m \u001b[1m5s\u001b[0m 74ms/step - loss: 3.4916 - val_loss: 3.7991\n",
            "Epoch 6/10\n",
            "\u001b[1m38/38\u001b[0m \u001b[32m━━━━━━━━━━━━━━━━━━━━\u001b[0m\u001b[37m\u001b[0m \u001b[1m5s\u001b[0m 75ms/step - loss: 3.2243 - val_loss: 3.7120\n",
            "Epoch 7/10\n",
            "\u001b[1m38/38\u001b[0m \u001b[32m━━━━━━━━━━━━━━━━━━━━\u001b[0m\u001b[37m\u001b[0m \u001b[1m3s\u001b[0m 76ms/step - loss: 3.1502 - val_loss: 3.6428\n",
            "Epoch 8/10\n",
            "\u001b[1m38/38\u001b[0m \u001b[32m━━━━━━━━━━━━━━━━━━━━\u001b[0m\u001b[37m\u001b[0m \u001b[1m5s\u001b[0m 73ms/step - loss: 3.0543 - val_loss: 3.5797\n",
            "Epoch 9/10\n",
            "\u001b[1m38/38\u001b[0m \u001b[32m━━━━━━━━━━━━━━━━━━━━\u001b[0m\u001b[37m\u001b[0m \u001b[1m3s\u001b[0m 73ms/step - loss: 2.9728 - val_loss: 3.5209\n",
            "Epoch 10/10\n",
            "\u001b[1m38/38\u001b[0m \u001b[32m━━━━━━━━━━━━━━━━━━━━\u001b[0m\u001b[37m\u001b[0m \u001b[1m6s\u001b[0m 96ms/step - loss: 2.8110 - val_loss: 3.4686\n"
          ]
        },
        {
          "output_type": "execute_result",
          "data": {
            "text/plain": [
              "<keras.src.callbacks.history.History at 0x7f6aacbde5d0>"
            ]
          },
          "metadata": {},
          "execution_count": 11
        }
      ],
      "source": [
        "early_stopping = EarlyStopping(monitor='val_loss', patience=3, restore_best_weights=True)\n",
        "\n",
        "model_without_attention.fit(\n",
        "    [train_questions, train_answers],\n",
        "    np.expand_dims(train_answers, axis=-1),\n",
        "    batch_size=64,\n",
        "    epochs=10,\n",
        "    validation_data=([val_questions, val_answers], np.expand_dims(val_answers, axis=-1)),\n",
        "    callbacks=[early_stopping]\n",
        ")"
      ]
    },
    {
      "cell_type": "markdown",
      "metadata": {
        "id": "B301Sz0Aci3v"
      },
      "source": [
        "Evaluate"
      ]
    },
    {
      "cell_type": "code",
      "execution_count": null,
      "metadata": {
        "colab": {
          "base_uri": "https://localhost:8080/"
        },
        "id": "uMGfiepsbKSC",
        "outputId": "53640ac1-e5d9-48c5-8175-59cc9a6024ce"
      },
      "outputs": [
        {
          "output_type": "stream",
          "name": "stdout",
          "text": [
            "\u001b[1m17/17\u001b[0m \u001b[32m━━━━━━━━━━━━━━━━━━━━\u001b[0m\u001b[37m\u001b[0m \u001b[1m2s\u001b[0m 30ms/step - loss: 12.2422\n",
            "Test loss: 12.264827728271484\n"
          ]
        }
      ],
      "source": [
        "loss = model_without_attention.evaluate(\n",
        "    [test_questions, test_answers[:, :-1]],\n",
        "    test_answers[:, 1:, np.newaxis]\n",
        ")\n",
        "print(f\"Test loss: {loss}\")"
      ]
    },
    {
      "cell_type": "markdown",
      "metadata": {
        "id": "4wSDFO-d7Fti"
      },
      "source": [
        "#backup part for JC model"
      ]
    },
    {
      "cell_type": "markdown",
      "metadata": {
        "id": "G1wVgrHC73tb"
      },
      "source": [
        "Seq2Seq Model with Bahdanau Attention"
      ]
    },
    {
      "cell_type": "code",
      "execution_count": null,
      "metadata": {
        "id": "fK1H_wb17JZt"
      },
      "outputs": [],
      "source": [
        "class BahdanauAttention(tf.keras.layers.Layer):\n",
        "    def __init__(self, units):\n",
        "        super(BahdanauAttention, self).__init__()\n",
        "        self.W1 = Dense(units)\n",
        "        self.W2 = Dense(units)\n",
        "        self.V = Dense(1)\n",
        "\n",
        "    def call(self, query, values):\n",
        "        query_with_time_axis = tf.expand_dims(query, axis=1)\n",
        "        score = self.V(tf.nn.tanh(self.W1(query_with_time_axis) + self.W2(values)))\n",
        "        attention_weights = tf.nn.softmax(score, axis=1)\n",
        "        context_vector = tf.reduce_sum(attention_weights * values, axis=1)\n",
        "        return context_vector, attention_weights"
      ]
    },
    {
      "cell_type": "markdown",
      "metadata": {
        "id": "IZNL5SeT8F3c"
      },
      "source": [
        "Encoder"
      ]
    },
    {
      "cell_type": "code",
      "execution_count": null,
      "metadata": {
        "id": "TcZ-NRy18HlG"
      },
      "outputs": [],
      "source": [
        "encoder_inputs_2 = Input(shape=(max_question_len,))\n",
        "encoder_embedding_2 = Embedding(vocab_size, 256, mask_zero=True)(encoder_inputs_2)\n",
        "encoder_lstm_2 = LSTM(256, return_sequences=True, return_state=True, dropout=0.3)\n",
        "encoder_outputs_2, state_h_2, state_c_2 = encoder_lstm_2(encoder_embedding_2)"
      ]
    },
    {
      "cell_type": "markdown",
      "metadata": {
        "id": "3wU2EOiY8J2Y"
      },
      "source": [
        "Decoder"
      ]
    },
    {
      "cell_type": "code",
      "execution_count": null,
      "metadata": {
        "id": "pmAHTuHE8LF3"
      },
      "outputs": [],
      "source": [
        "decoder_inputs_2 = Input(shape=(max_answer_len,))\n",
        "decoder_embedding_2 = Embedding(vocab_size, 256, mask_zero=True)(decoder_inputs_2)\n",
        "decoder_lstm_2 = LSTM(256, return_sequences=True, return_state=True, dropout=0.3)\n",
        "decoder_outputs_2, _, _ = decoder_lstm_2(decoder_embedding_2, initial_state=[state_h_2, state_c_2])"
      ]
    },
    {
      "cell_type": "markdown",
      "metadata": {
        "id": "yQwCBdmo8T3E"
      },
      "source": [
        "Attention & ouput layer"
      ]
    },
    {
      "cell_type": "code",
      "execution_count": null,
      "metadata": {
        "colab": {
          "base_uri": "https://localhost:8080/"
        },
        "id": "FyMLEhd68VYa",
        "outputId": "960dc344-a17f-4f3c-f7a8-269f275fc456"
      },
      "outputs": [
        {
          "output_type": "stream",
          "name": "stderr",
          "text": [
            "/usr/local/lib/python3.11/dist-packages/keras/src/layers/layer.py:938: UserWarning: Layer 'lambda' (of type Lambda) was passed an input with a mask attached to it. However, this layer does not support masking and will therefore destroy the mask information. Downstream layers will not see the mask.\n",
            "  warnings.warn(\n"
          ]
        }
      ],
      "source": [
        "attention_layer = BahdanauAttention(256)\n",
        "context_vector, attention_weights = attention_layer(state_h_2, encoder_outputs_2)\n",
        "\n",
        "context_vector_repeated = Lambda(lambda x: tf.repeat(tf.expand_dims(x[0], axis=1), tf.shape(x[1])[1], axis=1))(\n",
        "    [context_vector, decoder_outputs_2]\n",
        ")\n",
        "\n",
        "decoder_combined_context = Concatenate(axis=-1)([context_vector_repeated, decoder_outputs_2])\n",
        "decoder_combined_context = Dense(256, activation=\"tanh\")(decoder_combined_context)\n",
        "output_layer = Dense(vocab_size, activation=\"softmax\")\n",
        "decoder_outputs_2 = output_layer(decoder_combined_context)"
      ]
    },
    {
      "cell_type": "code",
      "execution_count": null,
      "metadata": {
        "colab": {
          "base_uri": "https://localhost:8080/",
          "height": 724
        },
        "id": "ire8fbM88pJh",
        "outputId": "ec97ee84-e30f-4457-e175-8bf7dbac7e97"
      },
      "outputs": [
        {
          "output_type": "display_data",
          "data": {
            "text/plain": [
              "\u001b[1mModel: \"functional_1\"\u001b[0m\n"
            ],
            "text/html": [
              "<pre style=\"white-space:pre;overflow-x:auto;line-height:normal;font-family:Menlo,'DejaVu Sans Mono',consolas,'Courier New',monospace\"><span style=\"font-weight: bold\">Model: \"functional_1\"</span>\n",
              "</pre>\n"
            ]
          },
          "metadata": {}
        },
        {
          "output_type": "display_data",
          "data": {
            "text/plain": [
              "┏━━━━━━━━━━━━━━━━━━━━━━━━━━━┳━━━━━━━━━━━━━━━━━━━━━━━━┳━━━━━━━━━━━━━━━━┳━━━━━━━━━━━━━━━━━━━━━━━━┓\n",
              "┃\u001b[1m \u001b[0m\u001b[1mLayer (type)             \u001b[0m\u001b[1m \u001b[0m┃\u001b[1m \u001b[0m\u001b[1mOutput Shape          \u001b[0m\u001b[1m \u001b[0m┃\u001b[1m \u001b[0m\u001b[1m       Param #\u001b[0m\u001b[1m \u001b[0m┃\u001b[1m \u001b[0m\u001b[1mConnected to          \u001b[0m\u001b[1m \u001b[0m┃\n",
              "┡━━━━━━━━━━━━━━━━━━━━━━━━━━━╇━━━━━━━━━━━━━━━━━━━━━━━━╇━━━━━━━━━━━━━━━━╇━━━━━━━━━━━━━━━━━━━━━━━━┩\n",
              "│ input_layer_2             │ (\u001b[38;5;45mNone\u001b[0m, \u001b[38;5;34m43\u001b[0m)             │              \u001b[38;5;34m0\u001b[0m │ -                      │\n",
              "│ (\u001b[38;5;33mInputLayer\u001b[0m)              │                        │                │                        │\n",
              "├───────────────────────────┼────────────────────────┼────────────────┼────────────────────────┤\n",
              "│ embedding_2 (\u001b[38;5;33mEmbedding\u001b[0m)   │ (\u001b[38;5;45mNone\u001b[0m, \u001b[38;5;34m43\u001b[0m, \u001b[38;5;34m256\u001b[0m)        │      \u001b[38;5;34m1,376,768\u001b[0m │ input_layer_2[\u001b[38;5;34m0\u001b[0m][\u001b[38;5;34m0\u001b[0m]    │\n",
              "├───────────────────────────┼────────────────────────┼────────────────┼────────────────────────┤\n",
              "│ not_equal_2 (\u001b[38;5;33mNotEqual\u001b[0m)    │ (\u001b[38;5;45mNone\u001b[0m, \u001b[38;5;34m43\u001b[0m)             │              \u001b[38;5;34m0\u001b[0m │ input_layer_2[\u001b[38;5;34m0\u001b[0m][\u001b[38;5;34m0\u001b[0m]    │\n",
              "├───────────────────────────┼────────────────────────┼────────────────┼────────────────────────┤\n",
              "│ input_layer_3             │ (\u001b[38;5;45mNone\u001b[0m, \u001b[38;5;34m157\u001b[0m)            │              \u001b[38;5;34m0\u001b[0m │ -                      │\n",
              "│ (\u001b[38;5;33mInputLayer\u001b[0m)              │                        │                │                        │\n",
              "├───────────────────────────┼────────────────────────┼────────────────┼────────────────────────┤\n",
              "│ lstm_2 (\u001b[38;5;33mLSTM\u001b[0m)             │ [(\u001b[38;5;45mNone\u001b[0m, \u001b[38;5;34m43\u001b[0m, \u001b[38;5;34m256\u001b[0m),      │        \u001b[38;5;34m525,312\u001b[0m │ embedding_2[\u001b[38;5;34m0\u001b[0m][\u001b[38;5;34m0\u001b[0m],     │\n",
              "│                           │ (\u001b[38;5;45mNone\u001b[0m, \u001b[38;5;34m256\u001b[0m), (\u001b[38;5;45mNone\u001b[0m,    │                │ not_equal_2[\u001b[38;5;34m0\u001b[0m][\u001b[38;5;34m0\u001b[0m]      │\n",
              "│                           │ \u001b[38;5;34m256\u001b[0m)]                  │                │                        │\n",
              "├───────────────────────────┼────────────────────────┼────────────────┼────────────────────────┤\n",
              "│ embedding_3 (\u001b[38;5;33mEmbedding\u001b[0m)   │ (\u001b[38;5;45mNone\u001b[0m, \u001b[38;5;34m157\u001b[0m, \u001b[38;5;34m256\u001b[0m)       │      \u001b[38;5;34m1,376,768\u001b[0m │ input_layer_3[\u001b[38;5;34m0\u001b[0m][\u001b[38;5;34m0\u001b[0m]    │\n",
              "├───────────────────────────┼────────────────────────┼────────────────┼────────────────────────┤\n",
              "│ bahdanau_attention        │ [(\u001b[38;5;45mNone\u001b[0m, \u001b[38;5;34m256\u001b[0m), (\u001b[38;5;45mNone\u001b[0m,   │        \u001b[38;5;34m131,841\u001b[0m │ lstm_2[\u001b[38;5;34m0\u001b[0m][\u001b[38;5;34m1\u001b[0m],          │\n",
              "│ (\u001b[38;5;33mBahdanauAttention\u001b[0m)       │ \u001b[38;5;34m43\u001b[0m, \u001b[38;5;34m1\u001b[0m)]                │                │ lstm_2[\u001b[38;5;34m0\u001b[0m][\u001b[38;5;34m0\u001b[0m]           │\n",
              "├───────────────────────────┼────────────────────────┼────────────────┼────────────────────────┤\n",
              "│ lstm_3 (\u001b[38;5;33mLSTM\u001b[0m)             │ [(\u001b[38;5;45mNone\u001b[0m, \u001b[38;5;34m157\u001b[0m, \u001b[38;5;34m256\u001b[0m),     │        \u001b[38;5;34m525,312\u001b[0m │ embedding_3[\u001b[38;5;34m0\u001b[0m][\u001b[38;5;34m0\u001b[0m],     │\n",
              "│                           │ (\u001b[38;5;45mNone\u001b[0m, \u001b[38;5;34m256\u001b[0m), (\u001b[38;5;45mNone\u001b[0m,    │                │ lstm_2[\u001b[38;5;34m0\u001b[0m][\u001b[38;5;34m1\u001b[0m],          │\n",
              "│                           │ \u001b[38;5;34m256\u001b[0m)]                  │                │ lstm_2[\u001b[38;5;34m0\u001b[0m][\u001b[38;5;34m2\u001b[0m]           │\n",
              "├───────────────────────────┼────────────────────────┼────────────────┼────────────────────────┤\n",
              "│ not_equal_3 (\u001b[38;5;33mNotEqual\u001b[0m)    │ (\u001b[38;5;45mNone\u001b[0m, \u001b[38;5;34m157\u001b[0m)            │              \u001b[38;5;34m0\u001b[0m │ input_layer_3[\u001b[38;5;34m0\u001b[0m][\u001b[38;5;34m0\u001b[0m]    │\n",
              "├───────────────────────────┼────────────────────────┼────────────────┼────────────────────────┤\n",
              "│ lambda (\u001b[38;5;33mLambda\u001b[0m)           │ (\u001b[38;5;45mNone\u001b[0m, \u001b[38;5;34m157\u001b[0m, \u001b[38;5;34m256\u001b[0m)       │              \u001b[38;5;34m0\u001b[0m │ bahdanau_attention[\u001b[38;5;34m0\u001b[0m]… │\n",
              "│                           │                        │                │ lstm_3[\u001b[38;5;34m0\u001b[0m][\u001b[38;5;34m0\u001b[0m],          │\n",
              "│                           │                        │                │ not_equal_3[\u001b[38;5;34m0\u001b[0m][\u001b[38;5;34m0\u001b[0m]      │\n",
              "├───────────────────────────┼────────────────────────┼────────────────┼────────────────────────┤\n",
              "│ concatenate (\u001b[38;5;33mConcatenate\u001b[0m) │ (\u001b[38;5;45mNone\u001b[0m, \u001b[38;5;34m157\u001b[0m, \u001b[38;5;34m512\u001b[0m)       │              \u001b[38;5;34m0\u001b[0m │ lambda[\u001b[38;5;34m0\u001b[0m][\u001b[38;5;34m0\u001b[0m],          │\n",
              "│                           │                        │                │ lstm_3[\u001b[38;5;34m0\u001b[0m][\u001b[38;5;34m0\u001b[0m]           │\n",
              "├───────────────────────────┼────────────────────────┼────────────────┼────────────────────────┤\n",
              "│ dense_4 (\u001b[38;5;33mDense\u001b[0m)           │ (\u001b[38;5;45mNone\u001b[0m, \u001b[38;5;34m157\u001b[0m, \u001b[38;5;34m256\u001b[0m)       │        \u001b[38;5;34m131,328\u001b[0m │ concatenate[\u001b[38;5;34m0\u001b[0m][\u001b[38;5;34m0\u001b[0m]      │\n",
              "├───────────────────────────┼────────────────────────┼────────────────┼────────────────────────┤\n",
              "│ dense_5 (\u001b[38;5;33mDense\u001b[0m)           │ (\u001b[38;5;45mNone\u001b[0m, \u001b[38;5;34m157\u001b[0m, \u001b[38;5;34m5378\u001b[0m)      │      \u001b[38;5;34m1,382,146\u001b[0m │ dense_4[\u001b[38;5;34m0\u001b[0m][\u001b[38;5;34m0\u001b[0m]          │\n",
              "└───────────────────────────┴────────────────────────┴────────────────┴────────────────────────┘\n"
            ],
            "text/html": [
              "<pre style=\"white-space:pre;overflow-x:auto;line-height:normal;font-family:Menlo,'DejaVu Sans Mono',consolas,'Courier New',monospace\">┏━━━━━━━━━━━━━━━━━━━━━━━━━━━┳━━━━━━━━━━━━━━━━━━━━━━━━┳━━━━━━━━━━━━━━━━┳━━━━━━━━━━━━━━━━━━━━━━━━┓\n",
              "┃<span style=\"font-weight: bold\"> Layer (type)              </span>┃<span style=\"font-weight: bold\"> Output Shape           </span>┃<span style=\"font-weight: bold\">        Param # </span>┃<span style=\"font-weight: bold\"> Connected to           </span>┃\n",
              "┡━━━━━━━━━━━━━━━━━━━━━━━━━━━╇━━━━━━━━━━━━━━━━━━━━━━━━╇━━━━━━━━━━━━━━━━╇━━━━━━━━━━━━━━━━━━━━━━━━┩\n",
              "│ input_layer_2             │ (<span style=\"color: #00d7ff; text-decoration-color: #00d7ff\">None</span>, <span style=\"color: #00af00; text-decoration-color: #00af00\">43</span>)             │              <span style=\"color: #00af00; text-decoration-color: #00af00\">0</span> │ -                      │\n",
              "│ (<span style=\"color: #0087ff; text-decoration-color: #0087ff\">InputLayer</span>)              │                        │                │                        │\n",
              "├───────────────────────────┼────────────────────────┼────────────────┼────────────────────────┤\n",
              "│ embedding_2 (<span style=\"color: #0087ff; text-decoration-color: #0087ff\">Embedding</span>)   │ (<span style=\"color: #00d7ff; text-decoration-color: #00d7ff\">None</span>, <span style=\"color: #00af00; text-decoration-color: #00af00\">43</span>, <span style=\"color: #00af00; text-decoration-color: #00af00\">256</span>)        │      <span style=\"color: #00af00; text-decoration-color: #00af00\">1,376,768</span> │ input_layer_2[<span style=\"color: #00af00; text-decoration-color: #00af00\">0</span>][<span style=\"color: #00af00; text-decoration-color: #00af00\">0</span>]    │\n",
              "├───────────────────────────┼────────────────────────┼────────────────┼────────────────────────┤\n",
              "│ not_equal_2 (<span style=\"color: #0087ff; text-decoration-color: #0087ff\">NotEqual</span>)    │ (<span style=\"color: #00d7ff; text-decoration-color: #00d7ff\">None</span>, <span style=\"color: #00af00; text-decoration-color: #00af00\">43</span>)             │              <span style=\"color: #00af00; text-decoration-color: #00af00\">0</span> │ input_layer_2[<span style=\"color: #00af00; text-decoration-color: #00af00\">0</span>][<span style=\"color: #00af00; text-decoration-color: #00af00\">0</span>]    │\n",
              "├───────────────────────────┼────────────────────────┼────────────────┼────────────────────────┤\n",
              "│ input_layer_3             │ (<span style=\"color: #00d7ff; text-decoration-color: #00d7ff\">None</span>, <span style=\"color: #00af00; text-decoration-color: #00af00\">157</span>)            │              <span style=\"color: #00af00; text-decoration-color: #00af00\">0</span> │ -                      │\n",
              "│ (<span style=\"color: #0087ff; text-decoration-color: #0087ff\">InputLayer</span>)              │                        │                │                        │\n",
              "├───────────────────────────┼────────────────────────┼────────────────┼────────────────────────┤\n",
              "│ lstm_2 (<span style=\"color: #0087ff; text-decoration-color: #0087ff\">LSTM</span>)             │ [(<span style=\"color: #00d7ff; text-decoration-color: #00d7ff\">None</span>, <span style=\"color: #00af00; text-decoration-color: #00af00\">43</span>, <span style=\"color: #00af00; text-decoration-color: #00af00\">256</span>),      │        <span style=\"color: #00af00; text-decoration-color: #00af00\">525,312</span> │ embedding_2[<span style=\"color: #00af00; text-decoration-color: #00af00\">0</span>][<span style=\"color: #00af00; text-decoration-color: #00af00\">0</span>],     │\n",
              "│                           │ (<span style=\"color: #00d7ff; text-decoration-color: #00d7ff\">None</span>, <span style=\"color: #00af00; text-decoration-color: #00af00\">256</span>), (<span style=\"color: #00d7ff; text-decoration-color: #00d7ff\">None</span>,    │                │ not_equal_2[<span style=\"color: #00af00; text-decoration-color: #00af00\">0</span>][<span style=\"color: #00af00; text-decoration-color: #00af00\">0</span>]      │\n",
              "│                           │ <span style=\"color: #00af00; text-decoration-color: #00af00\">256</span>)]                  │                │                        │\n",
              "├───────────────────────────┼────────────────────────┼────────────────┼────────────────────────┤\n",
              "│ embedding_3 (<span style=\"color: #0087ff; text-decoration-color: #0087ff\">Embedding</span>)   │ (<span style=\"color: #00d7ff; text-decoration-color: #00d7ff\">None</span>, <span style=\"color: #00af00; text-decoration-color: #00af00\">157</span>, <span style=\"color: #00af00; text-decoration-color: #00af00\">256</span>)       │      <span style=\"color: #00af00; text-decoration-color: #00af00\">1,376,768</span> │ input_layer_3[<span style=\"color: #00af00; text-decoration-color: #00af00\">0</span>][<span style=\"color: #00af00; text-decoration-color: #00af00\">0</span>]    │\n",
              "├───────────────────────────┼────────────────────────┼────────────────┼────────────────────────┤\n",
              "│ bahdanau_attention        │ [(<span style=\"color: #00d7ff; text-decoration-color: #00d7ff\">None</span>, <span style=\"color: #00af00; text-decoration-color: #00af00\">256</span>), (<span style=\"color: #00d7ff; text-decoration-color: #00d7ff\">None</span>,   │        <span style=\"color: #00af00; text-decoration-color: #00af00\">131,841</span> │ lstm_2[<span style=\"color: #00af00; text-decoration-color: #00af00\">0</span>][<span style=\"color: #00af00; text-decoration-color: #00af00\">1</span>],          │\n",
              "│ (<span style=\"color: #0087ff; text-decoration-color: #0087ff\">BahdanauAttention</span>)       │ <span style=\"color: #00af00; text-decoration-color: #00af00\">43</span>, <span style=\"color: #00af00; text-decoration-color: #00af00\">1</span>)]                │                │ lstm_2[<span style=\"color: #00af00; text-decoration-color: #00af00\">0</span>][<span style=\"color: #00af00; text-decoration-color: #00af00\">0</span>]           │\n",
              "├───────────────────────────┼────────────────────────┼────────────────┼────────────────────────┤\n",
              "│ lstm_3 (<span style=\"color: #0087ff; text-decoration-color: #0087ff\">LSTM</span>)             │ [(<span style=\"color: #00d7ff; text-decoration-color: #00d7ff\">None</span>, <span style=\"color: #00af00; text-decoration-color: #00af00\">157</span>, <span style=\"color: #00af00; text-decoration-color: #00af00\">256</span>),     │        <span style=\"color: #00af00; text-decoration-color: #00af00\">525,312</span> │ embedding_3[<span style=\"color: #00af00; text-decoration-color: #00af00\">0</span>][<span style=\"color: #00af00; text-decoration-color: #00af00\">0</span>],     │\n",
              "│                           │ (<span style=\"color: #00d7ff; text-decoration-color: #00d7ff\">None</span>, <span style=\"color: #00af00; text-decoration-color: #00af00\">256</span>), (<span style=\"color: #00d7ff; text-decoration-color: #00d7ff\">None</span>,    │                │ lstm_2[<span style=\"color: #00af00; text-decoration-color: #00af00\">0</span>][<span style=\"color: #00af00; text-decoration-color: #00af00\">1</span>],          │\n",
              "│                           │ <span style=\"color: #00af00; text-decoration-color: #00af00\">256</span>)]                  │                │ lstm_2[<span style=\"color: #00af00; text-decoration-color: #00af00\">0</span>][<span style=\"color: #00af00; text-decoration-color: #00af00\">2</span>]           │\n",
              "├───────────────────────────┼────────────────────────┼────────────────┼────────────────────────┤\n",
              "│ not_equal_3 (<span style=\"color: #0087ff; text-decoration-color: #0087ff\">NotEqual</span>)    │ (<span style=\"color: #00d7ff; text-decoration-color: #00d7ff\">None</span>, <span style=\"color: #00af00; text-decoration-color: #00af00\">157</span>)            │              <span style=\"color: #00af00; text-decoration-color: #00af00\">0</span> │ input_layer_3[<span style=\"color: #00af00; text-decoration-color: #00af00\">0</span>][<span style=\"color: #00af00; text-decoration-color: #00af00\">0</span>]    │\n",
              "├───────────────────────────┼────────────────────────┼────────────────┼────────────────────────┤\n",
              "│ lambda (<span style=\"color: #0087ff; text-decoration-color: #0087ff\">Lambda</span>)           │ (<span style=\"color: #00d7ff; text-decoration-color: #00d7ff\">None</span>, <span style=\"color: #00af00; text-decoration-color: #00af00\">157</span>, <span style=\"color: #00af00; text-decoration-color: #00af00\">256</span>)       │              <span style=\"color: #00af00; text-decoration-color: #00af00\">0</span> │ bahdanau_attention[<span style=\"color: #00af00; text-decoration-color: #00af00\">0</span>]… │\n",
              "│                           │                        │                │ lstm_3[<span style=\"color: #00af00; text-decoration-color: #00af00\">0</span>][<span style=\"color: #00af00; text-decoration-color: #00af00\">0</span>],          │\n",
              "│                           │                        │                │ not_equal_3[<span style=\"color: #00af00; text-decoration-color: #00af00\">0</span>][<span style=\"color: #00af00; text-decoration-color: #00af00\">0</span>]      │\n",
              "├───────────────────────────┼────────────────────────┼────────────────┼────────────────────────┤\n",
              "│ concatenate (<span style=\"color: #0087ff; text-decoration-color: #0087ff\">Concatenate</span>) │ (<span style=\"color: #00d7ff; text-decoration-color: #00d7ff\">None</span>, <span style=\"color: #00af00; text-decoration-color: #00af00\">157</span>, <span style=\"color: #00af00; text-decoration-color: #00af00\">512</span>)       │              <span style=\"color: #00af00; text-decoration-color: #00af00\">0</span> │ lambda[<span style=\"color: #00af00; text-decoration-color: #00af00\">0</span>][<span style=\"color: #00af00; text-decoration-color: #00af00\">0</span>],          │\n",
              "│                           │                        │                │ lstm_3[<span style=\"color: #00af00; text-decoration-color: #00af00\">0</span>][<span style=\"color: #00af00; text-decoration-color: #00af00\">0</span>]           │\n",
              "├───────────────────────────┼────────────────────────┼────────────────┼────────────────────────┤\n",
              "│ dense_4 (<span style=\"color: #0087ff; text-decoration-color: #0087ff\">Dense</span>)           │ (<span style=\"color: #00d7ff; text-decoration-color: #00d7ff\">None</span>, <span style=\"color: #00af00; text-decoration-color: #00af00\">157</span>, <span style=\"color: #00af00; text-decoration-color: #00af00\">256</span>)       │        <span style=\"color: #00af00; text-decoration-color: #00af00\">131,328</span> │ concatenate[<span style=\"color: #00af00; text-decoration-color: #00af00\">0</span>][<span style=\"color: #00af00; text-decoration-color: #00af00\">0</span>]      │\n",
              "├───────────────────────────┼────────────────────────┼────────────────┼────────────────────────┤\n",
              "│ dense_5 (<span style=\"color: #0087ff; text-decoration-color: #0087ff\">Dense</span>)           │ (<span style=\"color: #00d7ff; text-decoration-color: #00d7ff\">None</span>, <span style=\"color: #00af00; text-decoration-color: #00af00\">157</span>, <span style=\"color: #00af00; text-decoration-color: #00af00\">5378</span>)      │      <span style=\"color: #00af00; text-decoration-color: #00af00\">1,382,146</span> │ dense_4[<span style=\"color: #00af00; text-decoration-color: #00af00\">0</span>][<span style=\"color: #00af00; text-decoration-color: #00af00\">0</span>]          │\n",
              "└───────────────────────────┴────────────────────────┴────────────────┴────────────────────────┘\n",
              "</pre>\n"
            ]
          },
          "metadata": {}
        },
        {
          "output_type": "display_data",
          "data": {
            "text/plain": [
              "\u001b[1m Total params: \u001b[0m\u001b[38;5;34m5,449,475\u001b[0m (20.79 MB)\n"
            ],
            "text/html": [
              "<pre style=\"white-space:pre;overflow-x:auto;line-height:normal;font-family:Menlo,'DejaVu Sans Mono',consolas,'Courier New',monospace\"><span style=\"font-weight: bold\"> Total params: </span><span style=\"color: #00af00; text-decoration-color: #00af00\">5,449,475</span> (20.79 MB)\n",
              "</pre>\n"
            ]
          },
          "metadata": {}
        },
        {
          "output_type": "display_data",
          "data": {
            "text/plain": [
              "\u001b[1m Trainable params: \u001b[0m\u001b[38;5;34m5,449,475\u001b[0m (20.79 MB)\n"
            ],
            "text/html": [
              "<pre style=\"white-space:pre;overflow-x:auto;line-height:normal;font-family:Menlo,'DejaVu Sans Mono',consolas,'Courier New',monospace\"><span style=\"font-weight: bold\"> Trainable params: </span><span style=\"color: #00af00; text-decoration-color: #00af00\">5,449,475</span> (20.79 MB)\n",
              "</pre>\n"
            ]
          },
          "metadata": {}
        },
        {
          "output_type": "display_data",
          "data": {
            "text/plain": [
              "\u001b[1m Non-trainable params: \u001b[0m\u001b[38;5;34m0\u001b[0m (0.00 B)\n"
            ],
            "text/html": [
              "<pre style=\"white-space:pre;overflow-x:auto;line-height:normal;font-family:Menlo,'DejaVu Sans Mono',consolas,'Courier New',monospace\"><span style=\"font-weight: bold\"> Non-trainable params: </span><span style=\"color: #00af00; text-decoration-color: #00af00\">0</span> (0.00 B)\n",
              "</pre>\n"
            ]
          },
          "metadata": {}
        }
      ],
      "source": [
        "# Create model\n",
        "model_with_attention = Model([encoder_inputs_2, decoder_inputs_2], decoder_outputs_2)\n",
        "model_with_attention.compile(optimizer='adam', loss='sparse_categorical_crossentropy')\n",
        "model_with_attention.summary()"
      ]
    },
    {
      "cell_type": "markdown",
      "metadata": {
        "id": "IjS473aa8rtX"
      },
      "source": [
        "Model training"
      ]
    },
    {
      "cell_type": "code",
      "execution_count": null,
      "metadata": {
        "colab": {
          "base_uri": "https://localhost:8080/"
        },
        "id": "J_4nhko38tFm",
        "outputId": "8c8ae3b1-704f-4205-bbe0-a606b720204a"
      },
      "outputs": [
        {
          "output_type": "stream",
          "name": "stdout",
          "text": [
            "Epoch 1/10\n",
            "\u001b[1m38/38\u001b[0m \u001b[32m━━━━━━━━━━━━━━━━━━━━\u001b[0m\u001b[37m\u001b[0m \u001b[1m8s\u001b[0m 100ms/step - loss: 4.2333 - val_loss: 0.2281\n",
            "Epoch 2/10\n",
            "\u001b[1m38/38\u001b[0m \u001b[32m━━━━━━━━━━━━━━━━━━━━\u001b[0m\u001b[37m\u001b[0m \u001b[1m3s\u001b[0m 81ms/step - loss: 0.2099 - val_loss: 0.1903\n",
            "Epoch 3/10\n",
            "\u001b[1m38/38\u001b[0m \u001b[32m━━━━━━━━━━━━━━━━━━━━\u001b[0m\u001b[37m\u001b[0m \u001b[1m5s\u001b[0m 82ms/step - loss: 0.1841 - val_loss: 0.1761\n",
            "Epoch 4/10\n",
            "\u001b[1m38/38\u001b[0m \u001b[32m━━━━━━━━━━━━━━━━━━━━\u001b[0m\u001b[37m\u001b[0m \u001b[1m5s\u001b[0m 84ms/step - loss: 0.1651 - val_loss: 0.1616\n",
            "Epoch 5/10\n",
            "\u001b[1m38/38\u001b[0m \u001b[32m━━━━━━━━━━━━━━━━━━━━\u001b[0m\u001b[37m\u001b[0m \u001b[1m5s\u001b[0m 82ms/step - loss: 0.1533 - val_loss: 0.1548\n",
            "Epoch 6/10\n",
            "\u001b[1m38/38\u001b[0m \u001b[32m━━━━━━━━━━━━━━━━━━━━\u001b[0m\u001b[37m\u001b[0m \u001b[1m4s\u001b[0m 94ms/step - loss: 0.1462 - val_loss: 0.1502\n",
            "Epoch 7/10\n",
            "\u001b[1m38/38\u001b[0m \u001b[32m━━━━━━━━━━━━━━━━━━━━\u001b[0m\u001b[37m\u001b[0m \u001b[1m5s\u001b[0m 82ms/step - loss: 0.1270 - val_loss: 0.1454\n",
            "Epoch 8/10\n",
            "\u001b[1m38/38\u001b[0m \u001b[32m━━━━━━━━━━━━━━━━━━━━\u001b[0m\u001b[37m\u001b[0m \u001b[1m6s\u001b[0m 98ms/step - loss: 0.1414 - val_loss: 0.1421\n",
            "Epoch 9/10\n",
            "\u001b[1m38/38\u001b[0m \u001b[32m━━━━━━━━━━━━━━━━━━━━\u001b[0m\u001b[37m\u001b[0m \u001b[1m4s\u001b[0m 102ms/step - loss: 0.1304 - val_loss: 0.1399\n",
            "Epoch 10/10\n",
            "\u001b[1m38/38\u001b[0m \u001b[32m━━━━━━━━━━━━━━━━━━━━\u001b[0m\u001b[37m\u001b[0m \u001b[1m3s\u001b[0m 81ms/step - loss: 0.1329 - val_loss: 0.1383\n"
          ]
        },
        {
          "output_type": "execute_result",
          "data": {
            "text/plain": [
              "<keras.src.callbacks.history.History at 0x7f6a97958a10>"
            ]
          },
          "metadata": {},
          "execution_count": 18
        }
      ],
      "source": [
        "model_with_attention.fit(\n",
        "    [train_questions, train_answers],\n",
        "    np.expand_dims(train_answers, axis=-1),\n",
        "    batch_size=64,\n",
        "    epochs=10,\n",
        "    validation_data=([val_questions, val_answers], np.expand_dims(val_answers, axis=-1)),\n",
        "    callbacks=[early_stopping]\n",
        ")"
      ]
    },
    {
      "cell_type": "markdown",
      "metadata": {
        "id": "beiJ6P2e9JNW"
      },
      "source": [
        "Inference model setup without attention"
      ]
    },
    {
      "cell_type": "code",
      "execution_count": null,
      "metadata": {
        "id": "ccBOFrVf-GQg"
      },
      "outputs": [],
      "source": [
        "# Encoder Model for Inference (Without Attention)\n",
        "encoder_model_1 = Model(encoder_inputs_1, [state_h_1, state_c_1])\n",
        "\n",
        "# Decoder Model for Inference (Without Attention)\n",
        "decoder_state_input_h_1 = Input(shape=(256,))\n",
        "decoder_state_input_c_1 = Input(shape=(256,))\n",
        "decoder_inputs_1_inf = Input(shape=(1,))\n",
        "\n",
        "decoder_embedding_1_inf = Embedding(vocab_size, 256, mask_zero=True)(decoder_inputs_1_inf)\n",
        "decoder_outputs_1_inf, state_h_1_inf, state_c_1_inf = decoder_lstm_1(\n",
        "    decoder_embedding_1_inf, initial_state=[decoder_state_input_h_1, decoder_state_input_c_1]\n",
        ")\n",
        "decoder_outputs_1_inf = decoder_dense_1(decoder_outputs_1_inf)\n",
        "\n",
        "decoder_model_1 = Model(\n",
        "    [decoder_inputs_1_inf, decoder_state_input_h_1, decoder_state_input_c_1],\n",
        "    [decoder_outputs_1_inf, state_h_1_inf, state_c_1_inf]\n",
        ")"
      ]
    },
    {
      "cell_type": "markdown",
      "metadata": {
        "id": "qwswepRG-KY0"
      },
      "source": [
        "Inference model setup with attention"
      ]
    },
    {
      "cell_type": "code",
      "execution_count": null,
      "metadata": {
        "id": "D_RrlGVA-Kym"
      },
      "outputs": [],
      "source": [
        "# Encoder\n",
        "encoder_model_2 = Model(encoder_inputs_2, [encoder_outputs_2, state_h_2, state_c_2])\n",
        "\n",
        "# Decoder\n",
        "decoder_state_input_h_2 = Input(shape=(256,))\n",
        "decoder_state_input_c_2 = Input(shape=(256,))\n",
        "encoder_outputs_input = Input(shape=(max_question_len, 256))\n",
        "decoder_inputs_2_inf = Input(shape=(1,))\n",
        "\n",
        "# Embed the single input token\n",
        "decoder_embedding_2_inf = Embedding(vocab_size, 256, mask_zero=True)(decoder_inputs_2_inf)\n",
        "\n",
        "# Run LSTM\n",
        "decoder_outputs_2_inf, state_h_2_inf, state_c_2_inf = decoder_lstm_2(\n",
        "    decoder_embedding_2_inf,\n",
        "    initial_state=[decoder_state_input_h_2, decoder_state_input_c_2]\n",
        ")\n",
        "\n",
        "# Apply the same attention mechanism used in training\n",
        "context_vector_inf, _ = attention_layer(state_h_2_inf, encoder_outputs_input)\n",
        "\n",
        "# Create a repeated context vector for concatenation\n",
        "context_vector_inf_repeated = Lambda(lambda x: tf.expand_dims(x, axis=1))(context_vector_inf)\n",
        "\n",
        "# Combine context vector with decoder output\n",
        "combined_context = Concatenate(axis=-1)([decoder_outputs_2_inf, context_vector_inf_repeated])\n",
        "output_inf = Dense(256, activation=\"tanh\")(combined_context)\n",
        "output_inf = output_layer(output_inf)\n",
        "\n",
        "# Create decoder model for inference\n",
        "decoder_model_2 = Model(\n",
        "    [decoder_inputs_2_inf, encoder_outputs_input, decoder_state_input_h_2, decoder_state_input_c_2],\n",
        "    [output_inf, state_h_2_inf, state_c_2_inf]\n",
        ")"
      ]
    },
    {
      "cell_type": "markdown",
      "metadata": {
        "id": "qEXfm85l-R6l"
      },
      "source": [
        "Text Generation Functions without attention"
      ]
    },
    {
      "cell_type": "code",
      "execution_count": null,
      "metadata": {
        "id": "adS5pKGQ-oWB"
      },
      "outputs": [],
      "source": [
        "def decode_sequence_without_attention(input_seq, max_tokens=None):\n",
        "    if max_tokens is None:\n",
        "        max_tokens = max_answer_len\n",
        "\n",
        "    # Encode the input sequence\n",
        "    state_h, state_c = encoder_model_1.predict(input_seq)\n",
        "\n",
        "    # Start with the start token\n",
        "    target_seq = np.zeros((1, 1))\n",
        "    target_seq[0, 0] = tokenizer.word_index['starttoken']\n",
        "\n",
        "    decoded_sentence = \"\"\n",
        "\n",
        "    for _ in range(min(max_tokens, max_answer_len)):\n",
        "        # Generate next token\n",
        "        output_tokens, h, c = decoder_model_1.predict([target_seq, state_h, state_c])\n",
        "\n",
        "        # Sample a token\n",
        "        sampled_token_index = np.argmax(output_tokens[0, 0, :])\n",
        "        sampled_word = tokenizer.index_word.get(sampled_token_index, '')\n",
        "\n",
        "        # Exit condition: end token or unknown token\n",
        "        if sampled_word == 'endtoken' or sampled_word == '':\n",
        "            break\n",
        "\n",
        "        decoded_sentence += ' ' + sampled_word\n",
        "\n",
        "        # Update the target sequence\n",
        "        target_seq = np.zeros((1, 1))\n",
        "        target_seq[0, 0] = sampled_token_index\n",
        "\n",
        "        # Update states\n",
        "        state_h, state_c = h, c\n",
        "\n",
        "    return decoded_sentence.strip()"
      ]
    },
    {
      "cell_type": "markdown",
      "metadata": {
        "id": "dq3b0piF-zGk"
      },
      "source": [
        "Test Generation Functions with attention"
      ]
    },
    {
      "cell_type": "code",
      "execution_count": null,
      "metadata": {
        "id": "YX7xom6c-KEf"
      },
      "outputs": [],
      "source": [
        "def decode_sequence_with_attention(input_seq, max_tokens=None):\n",
        "    if max_tokens is None:\n",
        "        max_tokens = max_answer_len\n",
        "\n",
        "    # Encode the input sequence\n",
        "    encoder_out, state_h, state_c = encoder_model_2.predict(input_seq)\n",
        "\n",
        "    # Start with the start token\n",
        "    target_seq = np.zeros((1, 1))\n",
        "    target_seq[0, 0] = tokenizer.word_index['starttoken']\n",
        "\n",
        "    decoded_sentence = []\n",
        "\n",
        "    for _ in range(min(max_tokens, max_answer_len)):\n",
        "        # Generate next token with attention\n",
        "        output_tokens, state_h, state_c = decoder_model_2.predict(\n",
        "            [target_seq, encoder_out, state_h, state_c]\n",
        "        )\n",
        "\n",
        "        # Sample a token\n",
        "        sampled_token_index = np.argmax(output_tokens[0, 0, :])\n",
        "        sampled_word = tokenizer.index_word.get(sampled_token_index, '')\n",
        "\n",
        "        # Exit condition: end token or unknown token\n",
        "        if sampled_word == 'endtoken' or sampled_word == '':\n",
        "            break\n",
        "\n",
        "        decoded_sentence.append(sampled_word)\n",
        "\n",
        "        # Update the target sequence\n",
        "        target_seq = np.zeros((1, 1))\n",
        "        target_seq[0, 0] = sampled_token_index\n",
        "\n",
        "    return ' '.join(decoded_sentence)"
      ]
    },
    {
      "cell_type": "markdown",
      "metadata": {
        "id": "mU2iNPd5-J0H"
      },
      "source": [
        "BLEU Scores"
      ]
    },
    {
      "cell_type": "code",
      "execution_count": null,
      "metadata": {
        "colab": {
          "base_uri": "https://localhost:8080/"
        },
        "id": "qgQSx_kau4Ag",
        "outputId": "7b3bd6ef-4244-46fa-a557-f47b09d65770"
      },
      "outputs": [
        {
          "output_type": "stream",
          "name": "stdout",
          "text": [
            "Evaluating Seq2Seq Without Attention on 50 test examples...\n",
            "Processing example 0/50\n",
            "\u001b[1m1/1\u001b[0m \u001b[32m━━━━━━━━━━━━━━━━━━━━\u001b[0m\u001b[37m\u001b[0m \u001b[1m0s\u001b[0m 156ms/step\n",
            "\u001b[1m1/1\u001b[0m \u001b[32m━━━━━━━━━━━━━━━━━━━━\u001b[0m\u001b[37m\u001b[0m \u001b[1m0s\u001b[0m 153ms/step\n",
            "\u001b[1m1/1\u001b[0m \u001b[32m━━━━━━━━━━━━━━━━━━━━\u001b[0m\u001b[37m\u001b[0m \u001b[1m0s\u001b[0m 32ms/step\n",
            "\u001b[1m1/1\u001b[0m \u001b[32m━━━━━━━━━━━━━━━━━━━━\u001b[0m\u001b[37m\u001b[0m \u001b[1m0s\u001b[0m 33ms/step\n",
            "\u001b[1m1/1\u001b[0m \u001b[32m━━━━━━━━━━━━━━━━━━━━\u001b[0m\u001b[37m\u001b[0m \u001b[1m0s\u001b[0m 32ms/step\n",
            "\u001b[1m1/1\u001b[0m \u001b[32m━━━━━━━━━━━━━━━━━━━━\u001b[0m\u001b[37m\u001b[0m \u001b[1m0s\u001b[0m 32ms/step\n",
            "\u001b[1m1/1\u001b[0m \u001b[32m━━━━━━━━━━━━━━━━━━━━\u001b[0m\u001b[37m\u001b[0m \u001b[1m0s\u001b[0m 38ms/step\n",
            "\u001b[1m1/1\u001b[0m \u001b[32m━━━━━━━━━━━━━━━━━━━━\u001b[0m\u001b[37m\u001b[0m \u001b[1m0s\u001b[0m 32ms/step\n",
            "\u001b[1m1/1\u001b[0m \u001b[32m━━━━━━━━━━━━━━━━━━━━\u001b[0m\u001b[37m\u001b[0m \u001b[1m0s\u001b[0m 34ms/step\n",
            "\u001b[1m1/1\u001b[0m \u001b[32m━━━━━━━━━━━━━━━━━━━━\u001b[0m\u001b[37m\u001b[0m \u001b[1m0s\u001b[0m 33ms/step\n",
            "\u001b[1m1/1\u001b[0m \u001b[32m━━━━━━━━━━━━━━━━━━━━\u001b[0m\u001b[37m\u001b[0m \u001b[1m0s\u001b[0m 33ms/step\n",
            "\u001b[1m1/1\u001b[0m \u001b[32m━━━━━━━━━━━━━━━━━━━━\u001b[0m\u001b[37m\u001b[0m \u001b[1m0s\u001b[0m 30ms/step\n",
            "\u001b[1m1/1\u001b[0m \u001b[32m━━━━━━━━━━━━━━━━━━━━\u001b[0m\u001b[37m\u001b[0m \u001b[1m0s\u001b[0m 40ms/step\n",
            "\u001b[1m1/1\u001b[0m \u001b[32m━━━━━━━━━━━━━━━━━━━━\u001b[0m\u001b[37m\u001b[0m \u001b[1m0s\u001b[0m 31ms/step\n",
            "\u001b[1m1/1\u001b[0m \u001b[32m━━━━━━━━━━━━━━━━━━━━\u001b[0m\u001b[37m\u001b[0m \u001b[1m0s\u001b[0m 32ms/step\n",
            "\u001b[1m1/1\u001b[0m \u001b[32m━━━━━━━━━━━━━━━━━━━━\u001b[0m\u001b[37m\u001b[0m \u001b[1m0s\u001b[0m 37ms/step\n",
            "\u001b[1m1/1\u001b[0m \u001b[32m━━━━━━━━━━━━━━━━━━━━\u001b[0m\u001b[37m\u001b[0m \u001b[1m0s\u001b[0m 35ms/step\n",
            "\u001b[1m1/1\u001b[0m \u001b[32m━━━━━━━━━━━━━━━━━━━━\u001b[0m\u001b[37m\u001b[0m \u001b[1m0s\u001b[0m 32ms/step\n",
            "\u001b[1m1/1\u001b[0m \u001b[32m━━━━━━━━━━━━━━━━━━━━\u001b[0m\u001b[37m\u001b[0m \u001b[1m0s\u001b[0m 35ms/step\n",
            "\u001b[1m1/1\u001b[0m \u001b[32m━━━━━━━━━━━━━━━━━━━━\u001b[0m\u001b[37m\u001b[0m \u001b[1m0s\u001b[0m 34ms/step\n",
            "\u001b[1m1/1\u001b[0m \u001b[32m━━━━━━━━━━━━━━━━━━━━\u001b[0m\u001b[37m\u001b[0m \u001b[1m0s\u001b[0m 32ms/step\n",
            "\u001b[1m1/1\u001b[0m \u001b[32m━━━━━━━━━━━━━━━━━━━━\u001b[0m\u001b[37m\u001b[0m \u001b[1m0s\u001b[0m 29ms/step\n",
            "\u001b[1m1/1\u001b[0m \u001b[32m━━━━━━━━━━━━━━━━━━━━\u001b[0m\u001b[37m\u001b[0m \u001b[1m0s\u001b[0m 33ms/step\n",
            "\u001b[1m1/1\u001b[0m \u001b[32m━━━━━━━━━━━━━━━━━━━━\u001b[0m\u001b[37m\u001b[0m \u001b[1m0s\u001b[0m 32ms/step\n",
            "\u001b[1m1/1\u001b[0m \u001b[32m━━━━━━━━━━━━━━━━━━━━\u001b[0m\u001b[37m\u001b[0m \u001b[1m0s\u001b[0m 32ms/step\n",
            "\u001b[1m1/1\u001b[0m \u001b[32m━━━━━━━━━━━━━━━━━━━━\u001b[0m\u001b[37m\u001b[0m \u001b[1m0s\u001b[0m 32ms/step\n",
            "\u001b[1m1/1\u001b[0m \u001b[32m━━━━━━━━━━━━━━━━━━━━\u001b[0m\u001b[37m\u001b[0m \u001b[1m0s\u001b[0m 32ms/step\n",
            "\u001b[1m1/1\u001b[0m \u001b[32m━━━━━━━━━━━━━━━━━━━━\u001b[0m\u001b[37m\u001b[0m \u001b[1m0s\u001b[0m 35ms/step\n",
            "\u001b[1m1/1\u001b[0m \u001b[32m━━━━━━━━━━━━━━━━━━━━\u001b[0m\u001b[37m\u001b[0m \u001b[1m0s\u001b[0m 37ms/step\n",
            "\u001b[1m1/1\u001b[0m \u001b[32m━━━━━━━━━━━━━━━━━━━━\u001b[0m\u001b[37m\u001b[0m \u001b[1m0s\u001b[0m 50ms/step\n",
            "\u001b[1m1/1\u001b[0m \u001b[32m━━━━━━━━━━━━━━━━━━━━\u001b[0m\u001b[37m\u001b[0m \u001b[1m0s\u001b[0m 47ms/step\n",
            "\u001b[1m1/1\u001b[0m \u001b[32m━━━━━━━━━━━━━━━━━━━━\u001b[0m\u001b[37m\u001b[0m \u001b[1m0s\u001b[0m 49ms/step\n",
            "\u001b[1m1/1\u001b[0m \u001b[32m━━━━━━━━━━━━━━━━━━━━\u001b[0m\u001b[37m\u001b[0m \u001b[1m0s\u001b[0m 58ms/step\n",
            "\u001b[1m1/1\u001b[0m \u001b[32m━━━━━━━━━━━━━━━━━━━━\u001b[0m\u001b[37m\u001b[0m \u001b[1m0s\u001b[0m 48ms/step\n",
            "\u001b[1m1/1\u001b[0m \u001b[32m━━━━━━━━━━━━━━━━━━━━\u001b[0m\u001b[37m\u001b[0m \u001b[1m0s\u001b[0m 49ms/step\n",
            "\u001b[1m1/1\u001b[0m \u001b[32m━━━━━━━━━━━━━━━━━━━━\u001b[0m\u001b[37m\u001b[0m \u001b[1m0s\u001b[0m 47ms/step\n",
            "\u001b[1m1/1\u001b[0m \u001b[32m━━━━━━━━━━━━━━━━━━━━\u001b[0m\u001b[37m\u001b[0m \u001b[1m0s\u001b[0m 45ms/step\n",
            "\u001b[1m1/1\u001b[0m \u001b[32m━━━━━━━━━━━━━━━━━━━━\u001b[0m\u001b[37m\u001b[0m \u001b[1m0s\u001b[0m 47ms/step\n",
            "\u001b[1m1/1\u001b[0m \u001b[32m━━━━━━━━━━━━━━━━━━━━\u001b[0m\u001b[37m\u001b[0m \u001b[1m0s\u001b[0m 50ms/step\n",
            "\u001b[1m1/1\u001b[0m \u001b[32m━━━━━━━━━━━━━━━━━━━━\u001b[0m\u001b[37m\u001b[0m \u001b[1m0s\u001b[0m 49ms/step\n",
            "\u001b[1m1/1\u001b[0m \u001b[32m━━━━━━━━━━━━━━━━━━━━\u001b[0m\u001b[37m\u001b[0m \u001b[1m0s\u001b[0m 55ms/step\n",
            "\u001b[1m1/1\u001b[0m \u001b[32m━━━━━━━━━━━━━━━━━━━━\u001b[0m\u001b[37m\u001b[0m \u001b[1m0s\u001b[0m 59ms/step\n",
            "\u001b[1m1/1\u001b[0m \u001b[32m━━━━━━━━━━━━━━━━━━━━\u001b[0m\u001b[37m\u001b[0m \u001b[1m0s\u001b[0m 43ms/step\n",
            "\u001b[1m1/1\u001b[0m \u001b[32m━━━━━━━━━━━━━━━━━━━━\u001b[0m\u001b[37m\u001b[0m \u001b[1m0s\u001b[0m 55ms/step\n",
            "\u001b[1m1/1\u001b[0m \u001b[32m━━━━━━━━━━━━━━━━━━━━\u001b[0m\u001b[37m\u001b[0m \u001b[1m0s\u001b[0m 61ms/step\n",
            "\u001b[1m1/1\u001b[0m \u001b[32m━━━━━━━━━━━━━━━━━━━━\u001b[0m\u001b[37m\u001b[0m \u001b[1m0s\u001b[0m 57ms/step\n",
            "\u001b[1m1/1\u001b[0m \u001b[32m━━━━━━━━━━━━━━━━━━━━\u001b[0m\u001b[37m\u001b[0m \u001b[1m0s\u001b[0m 48ms/step\n",
            "\u001b[1m1/1\u001b[0m \u001b[32m━━━━━━━━━━━━━━━━━━━━\u001b[0m\u001b[37m\u001b[0m \u001b[1m0s\u001b[0m 47ms/step\n",
            "\u001b[1m1/1\u001b[0m \u001b[32m━━━━━━━━━━━━━━━━━━━━\u001b[0m\u001b[37m\u001b[0m \u001b[1m0s\u001b[0m 50ms/step\n",
            "\u001b[1m1/1\u001b[0m \u001b[32m━━━━━━━━━━━━━━━━━━━━\u001b[0m\u001b[37m\u001b[0m \u001b[1m0s\u001b[0m 48ms/step\n",
            "\u001b[1m1/1\u001b[0m \u001b[32m━━━━━━━━━━━━━━━━━━━━\u001b[0m\u001b[37m\u001b[0m \u001b[1m0s\u001b[0m 50ms/step\n",
            "\u001b[1m1/1\u001b[0m \u001b[32m━━━━━━━━━━━━━━━━━━━━\u001b[0m\u001b[37m\u001b[0m \u001b[1m0s\u001b[0m 58ms/step\n",
            "\u001b[1m1/1\u001b[0m \u001b[32m━━━━━━━━━━━━━━━━━━━━\u001b[0m\u001b[37m\u001b[0m \u001b[1m0s\u001b[0m 54ms/step\n",
            "\u001b[1m1/1\u001b[0m \u001b[32m━━━━━━━━━━━━━━━━━━━━\u001b[0m\u001b[37m\u001b[0m \u001b[1m0s\u001b[0m 32ms/step\n",
            "\u001b[1m1/1\u001b[0m \u001b[32m━━━━━━━━━━━━━━━━━━━━\u001b[0m\u001b[37m\u001b[0m \u001b[1m0s\u001b[0m 36ms/step\n",
            "\u001b[1m1/1\u001b[0m \u001b[32m━━━━━━━━━━━━━━━━━━━━\u001b[0m\u001b[37m\u001b[0m \u001b[1m0s\u001b[0m 32ms/step\n",
            "\u001b[1m1/1\u001b[0m \u001b[32m━━━━━━━━━━━━━━━━━━━━\u001b[0m\u001b[37m\u001b[0m \u001b[1m0s\u001b[0m 32ms/step\n",
            "\u001b[1m1/1\u001b[0m \u001b[32m━━━━━━━━━━━━━━━━━━━━\u001b[0m\u001b[37m\u001b[0m \u001b[1m0s\u001b[0m 33ms/step\n",
            "\u001b[1m1/1\u001b[0m \u001b[32m━━━━━━━━━━━━━━━━━━━━\u001b[0m\u001b[37m\u001b[0m \u001b[1m0s\u001b[0m 32ms/step\n",
            "\u001b[1m1/1\u001b[0m \u001b[32m━━━━━━━━━━━━━━━━━━━━\u001b[0m\u001b[37m\u001b[0m \u001b[1m0s\u001b[0m 39ms/step\n",
            "\u001b[1m1/1\u001b[0m \u001b[32m━━━━━━━━━━━━━━━━━━━━\u001b[0m\u001b[37m\u001b[0m \u001b[1m0s\u001b[0m 32ms/step\n",
            "\u001b[1m1/1\u001b[0m \u001b[32m━━━━━━━━━━━━━━━━━━━━\u001b[0m\u001b[37m\u001b[0m \u001b[1m0s\u001b[0m 32ms/step\n",
            "\u001b[1m1/1\u001b[0m \u001b[32m━━━━━━━━━━━━━━━━━━━━\u001b[0m\u001b[37m\u001b[0m \u001b[1m0s\u001b[0m 40ms/step\n",
            "\u001b[1m1/1\u001b[0m \u001b[32m━━━━━━━━━━━━━━━━━━━━\u001b[0m\u001b[37m\u001b[0m \u001b[1m0s\u001b[0m 34ms/step\n",
            "\u001b[1m1/1\u001b[0m \u001b[32m━━━━━━━━━━━━━━━━━━━━\u001b[0m\u001b[37m\u001b[0m \u001b[1m0s\u001b[0m 34ms/step\n",
            "\u001b[1m1/1\u001b[0m \u001b[32m━━━━━━━━━━━━━━━━━━━━\u001b[0m\u001b[37m\u001b[0m \u001b[1m0s\u001b[0m 34ms/step\n",
            "\u001b[1m1/1\u001b[0m \u001b[32m━━━━━━━━━━━━━━━━━━━━\u001b[0m\u001b[37m\u001b[0m \u001b[1m0s\u001b[0m 34ms/step\n",
            "\u001b[1m1/1\u001b[0m \u001b[32m━━━━━━━━━━━━━━━━━━━━\u001b[0m\u001b[37m\u001b[0m \u001b[1m0s\u001b[0m 33ms/step\n",
            "\u001b[1m1/1\u001b[0m \u001b[32m━━━━━━━━━━━━━━━━━━━━\u001b[0m\u001b[37m\u001b[0m \u001b[1m0s\u001b[0m 34ms/step\n",
            "\u001b[1m1/1\u001b[0m \u001b[32m━━━━━━━━━━━━━━━━━━━━\u001b[0m\u001b[37m\u001b[0m \u001b[1m0s\u001b[0m 33ms/step\n",
            "\u001b[1m1/1\u001b[0m \u001b[32m━━━━━━━━━━━━━━━━━━━━\u001b[0m\u001b[37m\u001b[0m \u001b[1m0s\u001b[0m 37ms/step\n",
            "\u001b[1m1/1\u001b[0m \u001b[32m━━━━━━━━━━━━━━━━━━━━\u001b[0m\u001b[37m\u001b[0m \u001b[1m0s\u001b[0m 33ms/step\n",
            "\u001b[1m1/1\u001b[0m \u001b[32m━━━━━━━━━━━━━━━━━━━━\u001b[0m\u001b[37m\u001b[0m \u001b[1m0s\u001b[0m 36ms/step\n",
            "\u001b[1m1/1\u001b[0m \u001b[32m━━━━━━━━━━━━━━━━━━━━\u001b[0m\u001b[37m\u001b[0m \u001b[1m0s\u001b[0m 32ms/step\n",
            "\u001b[1m1/1\u001b[0m \u001b[32m━━━━━━━━━━━━━━━━━━━━\u001b[0m\u001b[37m\u001b[0m \u001b[1m0s\u001b[0m 33ms/step\n",
            "\u001b[1m1/1\u001b[0m \u001b[32m━━━━━━━━━━━━━━━━━━━━\u001b[0m\u001b[37m\u001b[0m \u001b[1m0s\u001b[0m 34ms/step\n",
            "\u001b[1m1/1\u001b[0m \u001b[32m━━━━━━━━━━━━━━━━━━━━\u001b[0m\u001b[37m\u001b[0m \u001b[1m0s\u001b[0m 35ms/step\n",
            "\u001b[1m1/1\u001b[0m \u001b[32m━━━━━━━━━━━━━━━━━━━━\u001b[0m\u001b[37m\u001b[0m \u001b[1m0s\u001b[0m 33ms/step\n",
            "\u001b[1m1/1\u001b[0m \u001b[32m━━━━━━━━━━━━━━━━━━━━\u001b[0m\u001b[37m\u001b[0m \u001b[1m0s\u001b[0m 34ms/step\n",
            "\u001b[1m1/1\u001b[0m \u001b[32m━━━━━━━━━━━━━━━━━━━━\u001b[0m\u001b[37m\u001b[0m \u001b[1m0s\u001b[0m 33ms/step\n",
            "\u001b[1m1/1\u001b[0m \u001b[32m━━━━━━━━━━━━━━━━━━━━\u001b[0m\u001b[37m\u001b[0m \u001b[1m0s\u001b[0m 34ms/step\n",
            "\u001b[1m1/1\u001b[0m \u001b[32m━━━━━━━━━━━━━━━━━━━━\u001b[0m\u001b[37m\u001b[0m \u001b[1m0s\u001b[0m 34ms/step\n",
            "\u001b[1m1/1\u001b[0m \u001b[32m━━━━━━━━━━━━━━━━━━━━\u001b[0m\u001b[37m\u001b[0m \u001b[1m0s\u001b[0m 34ms/step\n",
            "\u001b[1m1/1\u001b[0m \u001b[32m━━━━━━━━━━━━━━━━━━━━\u001b[0m\u001b[37m\u001b[0m \u001b[1m0s\u001b[0m 33ms/step\n",
            "\u001b[1m1/1\u001b[0m \u001b[32m━━━━━━━━━━━━━━━━━━━━\u001b[0m\u001b[37m\u001b[0m \u001b[1m0s\u001b[0m 30ms/step\n",
            "\u001b[1m1/1\u001b[0m \u001b[32m━━━━━━━━━━━━━━━━━━━━\u001b[0m\u001b[37m\u001b[0m \u001b[1m0s\u001b[0m 33ms/step\n",
            "\u001b[1m1/1\u001b[0m \u001b[32m━━━━━━━━━━━━━━━━━━━━\u001b[0m\u001b[37m\u001b[0m \u001b[1m0s\u001b[0m 33ms/step\n",
            "\u001b[1m1/1\u001b[0m \u001b[32m━━━━━━━━━━━━━━━━━━━━\u001b[0m\u001b[37m\u001b[0m \u001b[1m0s\u001b[0m 35ms/step\n",
            "\u001b[1m1/1\u001b[0m \u001b[32m━━━━━━━━━━━━━━━━━━━━\u001b[0m\u001b[37m\u001b[0m \u001b[1m0s\u001b[0m 34ms/step\n",
            "\u001b[1m1/1\u001b[0m \u001b[32m━━━━━━━━━━━━━━━━━━━━\u001b[0m\u001b[37m\u001b[0m \u001b[1m0s\u001b[0m 33ms/step\n",
            "\u001b[1m1/1\u001b[0m \u001b[32m━━━━━━━━━━━━━━━━━━━━\u001b[0m\u001b[37m\u001b[0m \u001b[1m0s\u001b[0m 45ms/step\n",
            "\u001b[1m1/1\u001b[0m \u001b[32m━━━━━━━━━━━━━━━━━━━━\u001b[0m\u001b[37m\u001b[0m \u001b[1m0s\u001b[0m 33ms/step\n",
            "\u001b[1m1/1\u001b[0m \u001b[32m━━━━━━━━━━━━━━━━━━━━\u001b[0m\u001b[37m\u001b[0m \u001b[1m0s\u001b[0m 33ms/step\n",
            "\u001b[1m1/1\u001b[0m \u001b[32m━━━━━━━━━━━━━━━━━━━━\u001b[0m\u001b[37m\u001b[0m \u001b[1m0s\u001b[0m 34ms/step\n",
            "\u001b[1m1/1\u001b[0m \u001b[32m━━━━━━━━━━━━━━━━━━━━\u001b[0m\u001b[37m\u001b[0m \u001b[1m0s\u001b[0m 33ms/step\n",
            "\u001b[1m1/1\u001b[0m \u001b[32m━━━━━━━━━━━━━━━━━━━━\u001b[0m\u001b[37m\u001b[0m \u001b[1m0s\u001b[0m 33ms/step\n",
            "\u001b[1m1/1\u001b[0m \u001b[32m━━━━━━━━━━━━━━━━━━━━\u001b[0m\u001b[37m\u001b[0m \u001b[1m0s\u001b[0m 33ms/step\n",
            "\u001b[1m1/1\u001b[0m \u001b[32m━━━━━━━━━━━━━━━━━━━━\u001b[0m\u001b[37m\u001b[0m \u001b[1m0s\u001b[0m 32ms/step\n",
            "\u001b[1m1/1\u001b[0m \u001b[32m━━━━━━━━━━━━━━━━━━━━\u001b[0m\u001b[37m\u001b[0m \u001b[1m0s\u001b[0m 34ms/step\n",
            "\u001b[1m1/1\u001b[0m \u001b[32m━━━━━━━━━━━━━━━━━━━━\u001b[0m\u001b[37m\u001b[0m \u001b[1m0s\u001b[0m 34ms/step\n",
            "\u001b[1m1/1\u001b[0m \u001b[32m━━━━━━━━━━━━━━━━━━━━\u001b[0m\u001b[37m\u001b[0m \u001b[1m0s\u001b[0m 35ms/step\n",
            "\u001b[1m1/1\u001b[0m \u001b[32m━━━━━━━━━━━━━━━━━━━━\u001b[0m\u001b[37m\u001b[0m \u001b[1m0s\u001b[0m 41ms/step\n",
            "\u001b[1m1/1\u001b[0m \u001b[32m━━━━━━━━━━━━━━━━━━━━\u001b[0m\u001b[37m\u001b[0m \u001b[1m0s\u001b[0m 33ms/step\n",
            "\u001b[1m1/1\u001b[0m \u001b[32m━━━━━━━━━━━━━━━━━━━━\u001b[0m\u001b[37m\u001b[0m \u001b[1m0s\u001b[0m 33ms/step\n",
            "\u001b[1m1/1\u001b[0m \u001b[32m━━━━━━━━━━━━━━━━━━━━\u001b[0m\u001b[37m\u001b[0m \u001b[1m0s\u001b[0m 32ms/step\n",
            "\u001b[1m1/1\u001b[0m \u001b[32m━━━━━━━━━━━━━━━━━━━━\u001b[0m\u001b[37m\u001b[0m \u001b[1m0s\u001b[0m 29ms/step\n",
            "\u001b[1m1/1\u001b[0m \u001b[32m━━━━━━━━━━━━━━━━━━━━\u001b[0m\u001b[37m\u001b[0m \u001b[1m0s\u001b[0m 33ms/step\n",
            "\u001b[1m1/1\u001b[0m \u001b[32m━━━━━━━━━━━━━━━━━━━━\u001b[0m\u001b[37m\u001b[0m \u001b[1m0s\u001b[0m 31ms/step\n",
            "\u001b[1m1/1\u001b[0m \u001b[32m━━━━━━━━━━━━━━━━━━━━\u001b[0m\u001b[37m\u001b[0m \u001b[1m0s\u001b[0m 32ms/step\n",
            "\u001b[1m1/1\u001b[0m \u001b[32m━━━━━━━━━━━━━━━━━━━━\u001b[0m\u001b[37m\u001b[0m \u001b[1m0s\u001b[0m 32ms/step\n",
            "\u001b[1m1/1\u001b[0m \u001b[32m━━━━━━━━━━━━━━━━━━━━\u001b[0m\u001b[37m\u001b[0m \u001b[1m0s\u001b[0m 34ms/step\n",
            "\u001b[1m1/1\u001b[0m \u001b[32m━━━━━━━━━━━━━━━━━━━━\u001b[0m\u001b[37m\u001b[0m \u001b[1m0s\u001b[0m 33ms/step\n",
            "\u001b[1m1/1\u001b[0m \u001b[32m━━━━━━━━━━━━━━━━━━━━\u001b[0m\u001b[37m\u001b[0m \u001b[1m0s\u001b[0m 35ms/step\n",
            "\u001b[1m1/1\u001b[0m \u001b[32m━━━━━━━━━━━━━━━━━━━━\u001b[0m\u001b[37m\u001b[0m \u001b[1m0s\u001b[0m 34ms/step\n",
            "\u001b[1m1/1\u001b[0m \u001b[32m━━━━━━━━━━━━━━━━━━━━\u001b[0m\u001b[37m\u001b[0m \u001b[1m0s\u001b[0m 33ms/step\n",
            "\u001b[1m1/1\u001b[0m \u001b[32m━━━━━━━━━━━━━━━━━━━━\u001b[0m\u001b[37m\u001b[0m \u001b[1m0s\u001b[0m 33ms/step\n",
            "\u001b[1m1/1\u001b[0m \u001b[32m━━━━━━━━━━━━━━━━━━━━\u001b[0m\u001b[37m\u001b[0m \u001b[1m0s\u001b[0m 32ms/step\n",
            "\u001b[1m1/1\u001b[0m \u001b[32m━━━━━━━━━━━━━━━━━━━━\u001b[0m\u001b[37m\u001b[0m \u001b[1m0s\u001b[0m 32ms/step\n",
            "\u001b[1m1/1\u001b[0m \u001b[32m━━━━━━━━━━━━━━━━━━━━\u001b[0m\u001b[37m\u001b[0m \u001b[1m0s\u001b[0m 32ms/step\n",
            "\u001b[1m1/1\u001b[0m \u001b[32m━━━━━━━━━━━━━━━━━━━━\u001b[0m\u001b[37m\u001b[0m \u001b[1m0s\u001b[0m 32ms/step\n",
            "\u001b[1m1/1\u001b[0m \u001b[32m━━━━━━━━━━━━━━━━━━━━\u001b[0m\u001b[37m\u001b[0m \u001b[1m0s\u001b[0m 32ms/step\n",
            "\u001b[1m1/1\u001b[0m \u001b[32m━━━━━━━━━━━━━━━━━━━━\u001b[0m\u001b[37m\u001b[0m \u001b[1m0s\u001b[0m 33ms/step\n",
            "\u001b[1m1/1\u001b[0m \u001b[32m━━━━━━━━━━━━━━━━━━━━\u001b[0m\u001b[37m\u001b[0m \u001b[1m0s\u001b[0m 31ms/step\n",
            "\u001b[1m1/1\u001b[0m \u001b[32m━━━━━━━━━━━━━━━━━━━━\u001b[0m\u001b[37m\u001b[0m \u001b[1m0s\u001b[0m 32ms/step\n",
            "\u001b[1m1/1\u001b[0m \u001b[32m━━━━━━━━━━━━━━━━━━━━\u001b[0m\u001b[37m\u001b[0m \u001b[1m0s\u001b[0m 35ms/step\n",
            "\u001b[1m1/1\u001b[0m \u001b[32m━━━━━━━━━━━━━━━━━━━━\u001b[0m\u001b[37m\u001b[0m \u001b[1m0s\u001b[0m 34ms/step\n",
            "\u001b[1m1/1\u001b[0m \u001b[32m━━━━━━━━━━━━━━━━━━━━\u001b[0m\u001b[37m\u001b[0m \u001b[1m0s\u001b[0m 32ms/step\n",
            "\u001b[1m1/1\u001b[0m \u001b[32m━━━━━━━━━━━━━━━━━━━━\u001b[0m\u001b[37m\u001b[0m \u001b[1m0s\u001b[0m 33ms/step\n",
            "\u001b[1m1/1\u001b[0m \u001b[32m━━━━━━━━━━━━━━━━━━━━\u001b[0m\u001b[37m\u001b[0m \u001b[1m0s\u001b[0m 32ms/step\n",
            "\u001b[1m1/1\u001b[0m \u001b[32m━━━━━━━━━━━━━━━━━━━━\u001b[0m\u001b[37m\u001b[0m \u001b[1m0s\u001b[0m 38ms/step\n",
            "\u001b[1m1/1\u001b[0m \u001b[32m━━━━━━━━━━━━━━━━━━━━\u001b[0m\u001b[37m\u001b[0m \u001b[1m0s\u001b[0m 35ms/step\n",
            "\u001b[1m1/1\u001b[0m \u001b[32m━━━━━━━━━━━━━━━━━━━━\u001b[0m\u001b[37m\u001b[0m \u001b[1m0s\u001b[0m 32ms/step\n",
            "\u001b[1m1/1\u001b[0m \u001b[32m━━━━━━━━━━━━━━━━━━━━\u001b[0m\u001b[37m\u001b[0m \u001b[1m0s\u001b[0m 34ms/step\n",
            "\u001b[1m1/1\u001b[0m \u001b[32m━━━━━━━━━━━━━━━━━━━━\u001b[0m\u001b[37m\u001b[0m \u001b[1m0s\u001b[0m 34ms/step\n",
            "\u001b[1m1/1\u001b[0m \u001b[32m━━━━━━━━━━━━━━━━━━━━\u001b[0m\u001b[37m\u001b[0m \u001b[1m0s\u001b[0m 31ms/step\n",
            "\u001b[1m1/1\u001b[0m \u001b[32m━━━━━━━━━━━━━━━━━━━━\u001b[0m\u001b[37m\u001b[0m \u001b[1m0s\u001b[0m 31ms/step\n",
            "\u001b[1m1/1\u001b[0m \u001b[32m━━━━━━━━━━━━━━━━━━━━\u001b[0m\u001b[37m\u001b[0m \u001b[1m0s\u001b[0m 36ms/step\n",
            "\u001b[1m1/1\u001b[0m \u001b[32m━━━━━━━━━━━━━━━━━━━━\u001b[0m\u001b[37m\u001b[0m \u001b[1m0s\u001b[0m 33ms/step\n",
            "\u001b[1m1/1\u001b[0m \u001b[32m━━━━━━━━━━━━━━━━━━━━\u001b[0m\u001b[37m\u001b[0m \u001b[1m0s\u001b[0m 32ms/step\n",
            "\u001b[1m1/1\u001b[0m \u001b[32m━━━━━━━━━━━━━━━━━━━━\u001b[0m\u001b[37m\u001b[0m \u001b[1m0s\u001b[0m 31ms/step\n",
            "\u001b[1m1/1\u001b[0m \u001b[32m━━━━━━━━━━━━━━━━━━━━\u001b[0m\u001b[37m\u001b[0m \u001b[1m0s\u001b[0m 40ms/step\n",
            "\u001b[1m1/1\u001b[0m \u001b[32m━━━━━━━━━━━━━━━━━━━━\u001b[0m\u001b[37m\u001b[0m \u001b[1m0s\u001b[0m 33ms/step\n",
            "\u001b[1m1/1\u001b[0m \u001b[32m━━━━━━━━━━━━━━━━━━━━\u001b[0m\u001b[37m\u001b[0m \u001b[1m0s\u001b[0m 34ms/step\n",
            "\u001b[1m1/1\u001b[0m \u001b[32m━━━━━━━━━━━━━━━━━━━━\u001b[0m\u001b[37m\u001b[0m \u001b[1m0s\u001b[0m 32ms/step\n",
            "\u001b[1m1/1\u001b[0m \u001b[32m━━━━━━━━━━━━━━━━━━━━\u001b[0m\u001b[37m\u001b[0m \u001b[1m0s\u001b[0m 31ms/step\n",
            "\u001b[1m1/1\u001b[0m \u001b[32m━━━━━━━━━━━━━━━━━━━━\u001b[0m\u001b[37m\u001b[0m \u001b[1m0s\u001b[0m 31ms/step\n",
            "\u001b[1m1/1\u001b[0m \u001b[32m━━━━━━━━━━━━━━━━━━━━\u001b[0m\u001b[37m\u001b[0m \u001b[1m0s\u001b[0m 32ms/step\n",
            "\u001b[1m1/1\u001b[0m \u001b[32m━━━━━━━━━━━━━━━━━━━━\u001b[0m\u001b[37m\u001b[0m \u001b[1m0s\u001b[0m 29ms/step\n",
            "\u001b[1m1/1\u001b[0m \u001b[32m━━━━━━━━━━━━━━━━━━━━\u001b[0m\u001b[37m\u001b[0m \u001b[1m0s\u001b[0m 40ms/step\n",
            "\u001b[1m1/1\u001b[0m \u001b[32m━━━━━━━━━━━━━━━━━━━━\u001b[0m\u001b[37m\u001b[0m \u001b[1m0s\u001b[0m 34ms/step\n",
            "\u001b[1m1/1\u001b[0m \u001b[32m━━━━━━━━━━━━━━━━━━━━\u001b[0m\u001b[37m\u001b[0m \u001b[1m0s\u001b[0m 33ms/step\n",
            "\u001b[1m1/1\u001b[0m \u001b[32m━━━━━━━━━━━━━━━━━━━━\u001b[0m\u001b[37m\u001b[0m \u001b[1m0s\u001b[0m 50ms/step\n",
            "\u001b[1m1/1\u001b[0m \u001b[32m━━━━━━━━━━━━━━━━━━━━\u001b[0m\u001b[37m\u001b[0m \u001b[1m0s\u001b[0m 50ms/step\n",
            "\u001b[1m1/1\u001b[0m \u001b[32m━━━━━━━━━━━━━━━━━━━━\u001b[0m\u001b[37m\u001b[0m \u001b[1m0s\u001b[0m 51ms/step\n",
            "\u001b[1m1/1\u001b[0m \u001b[32m━━━━━━━━━━━━━━━━━━━━\u001b[0m\u001b[37m\u001b[0m \u001b[1m0s\u001b[0m 56ms/step\n",
            "\u001b[1m1/1\u001b[0m \u001b[32m━━━━━━━━━━━━━━━━━━━━\u001b[0m\u001b[37m\u001b[0m \u001b[1m0s\u001b[0m 52ms/step\n",
            "\u001b[1m1/1\u001b[0m \u001b[32m━━━━━━━━━━━━━━━━━━━━\u001b[0m\u001b[37m\u001b[0m \u001b[1m0s\u001b[0m 55ms/step\n",
            "\u001b[1m1/1\u001b[0m \u001b[32m━━━━━━━━━━━━━━━━━━━━\u001b[0m\u001b[37m\u001b[0m \u001b[1m0s\u001b[0m 161ms/step\n",
            "\u001b[1m1/1\u001b[0m \u001b[32m━━━━━━━━━━━━━━━━━━━━\u001b[0m\u001b[37m\u001b[0m \u001b[1m0s\u001b[0m 150ms/step\n",
            "\u001b[1m1/1\u001b[0m \u001b[32m━━━━━━━━━━━━━━━━━━━━\u001b[0m\u001b[37m\u001b[0m \u001b[1m0s\u001b[0m 48ms/step\n",
            "\u001b[1m1/1\u001b[0m \u001b[32m━━━━━━━━━━━━━━━━━━━━\u001b[0m\u001b[37m\u001b[0m \u001b[1m0s\u001b[0m 100ms/step\n",
            "\u001b[1m1/1\u001b[0m \u001b[32m━━━━━━━━━━━━━━━━━━━━\u001b[0m\u001b[37m\u001b[0m \u001b[1m0s\u001b[0m 61ms/step\n",
            "\u001b[1m1/1\u001b[0m \u001b[32m━━━━━━━━━━━━━━━━━━━━\u001b[0m\u001b[37m\u001b[0m \u001b[1m0s\u001b[0m 106ms/step\n",
            "\u001b[1m1/1\u001b[0m \u001b[32m━━━━━━━━━━━━━━━━━━━━\u001b[0m\u001b[37m\u001b[0m \u001b[1m0s\u001b[0m 134ms/step\n",
            "\u001b[1m1/1\u001b[0m \u001b[32m━━━━━━━━━━━━━━━━━━━━\u001b[0m\u001b[37m\u001b[0m \u001b[1m0s\u001b[0m 79ms/step\n",
            "\u001b[1m1/1\u001b[0m \u001b[32m━━━━━━━━━━━━━━━━━━━━\u001b[0m\u001b[37m\u001b[0m \u001b[1m0s\u001b[0m 111ms/step\n",
            "\u001b[1m1/1\u001b[0m \u001b[32m━━━━━━━━━━━━━━━━━━━━\u001b[0m\u001b[37m\u001b[0m \u001b[1m0s\u001b[0m 104ms/step\n",
            "\u001b[1m1/1\u001b[0m \u001b[32m━━━━━━━━━━━━━━━━━━━━\u001b[0m\u001b[37m\u001b[0m \u001b[1m0s\u001b[0m 131ms/step\n",
            "\u001b[1m1/1\u001b[0m \u001b[32m━━━━━━━━━━━━━━━━━━━━\u001b[0m\u001b[37m\u001b[0m \u001b[1m0s\u001b[0m 41ms/step\n",
            "\u001b[1m1/1\u001b[0m \u001b[32m━━━━━━━━━━━━━━━━━━━━\u001b[0m\u001b[37m\u001b[0m \u001b[1m0s\u001b[0m 91ms/step\n",
            "\u001b[1m1/1\u001b[0m \u001b[32m━━━━━━━━━━━━━━━━━━━━\u001b[0m\u001b[37m\u001b[0m \u001b[1m0s\u001b[0m 57ms/step\n",
            "\u001b[1m1/1\u001b[0m \u001b[32m━━━━━━━━━━━━━━━━━━━━\u001b[0m\u001b[37m\u001b[0m \u001b[1m0s\u001b[0m 61ms/step\n",
            "\u001b[1m1/1\u001b[0m \u001b[32m━━━━━━━━━━━━━━━━━━━━\u001b[0m\u001b[37m\u001b[0m \u001b[1m0s\u001b[0m 37ms/step\n",
            "\u001b[1m1/1\u001b[0m \u001b[32m━━━━━━━━━━━━━━━━━━━━\u001b[0m\u001b[37m\u001b[0m \u001b[1m0s\u001b[0m 36ms/step\n",
            "\u001b[1m1/1\u001b[0m \u001b[32m━━━━━━━━━━━━━━━━━━━━\u001b[0m\u001b[37m\u001b[0m \u001b[1m0s\u001b[0m 61ms/step\n",
            "\u001b[1m1/1\u001b[0m \u001b[32m━━━━━━━━━━━━━━━━━━━━\u001b[0m\u001b[37m\u001b[0m \u001b[1m0s\u001b[0m 62ms/step\n",
            "\u001b[1m1/1\u001b[0m \u001b[32m━━━━━━━━━━━━━━━━━━━━\u001b[0m\u001b[37m\u001b[0m \u001b[1m0s\u001b[0m 61ms/step\n",
            "\u001b[1m1/1\u001b[0m \u001b[32m━━━━━━━━━━━━━━━━━━━━\u001b[0m\u001b[37m\u001b[0m \u001b[1m0s\u001b[0m 60ms/step\n",
            "\u001b[1m1/1\u001b[0m \u001b[32m━━━━━━━━━━━━━━━━━━━━\u001b[0m\u001b[37m\u001b[0m \u001b[1m0s\u001b[0m 54ms/step\n",
            "\u001b[1m1/1\u001b[0m \u001b[32m━━━━━━━━━━━━━━━━━━━━\u001b[0m\u001b[37m\u001b[0m \u001b[1m0s\u001b[0m 52ms/step\n",
            "\u001b[1m1/1\u001b[0m \u001b[32m━━━━━━━━━━━━━━━━━━━━\u001b[0m\u001b[37m\u001b[0m \u001b[1m0s\u001b[0m 51ms/step\n",
            "\u001b[1m1/1\u001b[0m \u001b[32m━━━━━━━━━━━━━━━━━━━━\u001b[0m\u001b[37m\u001b[0m \u001b[1m0s\u001b[0m 50ms/step\n",
            "\u001b[1m1/1\u001b[0m \u001b[32m━━━━━━━━━━━━━━━━━━━━\u001b[0m\u001b[37m\u001b[0m \u001b[1m0s\u001b[0m 87ms/step\n",
            "\u001b[1m1/1\u001b[0m \u001b[32m━━━━━━━━━━━━━━━━━━━━\u001b[0m\u001b[37m\u001b[0m \u001b[1m0s\u001b[0m 64ms/step\n",
            "\u001b[1m1/1\u001b[0m \u001b[32m━━━━━━━━━━━━━━━━━━━━\u001b[0m\u001b[37m\u001b[0m \u001b[1m0s\u001b[0m 35ms/step\n",
            "\u001b[1m1/1\u001b[0m \u001b[32m━━━━━━━━━━━━━━━━━━━━\u001b[0m\u001b[37m\u001b[0m \u001b[1m0s\u001b[0m 35ms/step\n",
            "\u001b[1m1/1\u001b[0m \u001b[32m━━━━━━━━━━━━━━━━━━━━\u001b[0m\u001b[37m\u001b[0m \u001b[1m0s\u001b[0m 45ms/step\n",
            "\u001b[1m1/1\u001b[0m \u001b[32m━━━━━━━━━━━━━━━━━━━━\u001b[0m\u001b[37m\u001b[0m \u001b[1m0s\u001b[0m 34ms/step\n",
            "\u001b[1m1/1\u001b[0m \u001b[32m━━━━━━━━━━━━━━━━━━━━\u001b[0m\u001b[37m\u001b[0m \u001b[1m0s\u001b[0m 34ms/step\n",
            "\u001b[1m1/1\u001b[0m \u001b[32m━━━━━━━━━━━━━━━━━━━━\u001b[0m\u001b[37m\u001b[0m \u001b[1m0s\u001b[0m 32ms/step\n",
            "\u001b[1m1/1\u001b[0m \u001b[32m━━━━━━━━━━━━━━━━━━━━\u001b[0m\u001b[37m\u001b[0m \u001b[1m0s\u001b[0m 33ms/step\n",
            "\u001b[1m1/1\u001b[0m \u001b[32m━━━━━━━━━━━━━━━━━━━━\u001b[0m\u001b[37m\u001b[0m \u001b[1m0s\u001b[0m 33ms/step\n",
            "\u001b[1m1/1\u001b[0m \u001b[32m━━━━━━━━━━━━━━━━━━━━\u001b[0m\u001b[37m\u001b[0m \u001b[1m0s\u001b[0m 33ms/step\n",
            "\u001b[1m1/1\u001b[0m \u001b[32m━━━━━━━━━━━━━━━━━━━━\u001b[0m\u001b[37m\u001b[0m \u001b[1m0s\u001b[0m 43ms/step\n",
            "\u001b[1m1/1\u001b[0m \u001b[32m━━━━━━━━━━━━━━━━━━━━\u001b[0m\u001b[37m\u001b[0m \u001b[1m0s\u001b[0m 32ms/step\n",
            "\u001b[1m1/1\u001b[0m \u001b[32m━━━━━━━━━━━━━━━━━━━━\u001b[0m\u001b[37m\u001b[0m \u001b[1m0s\u001b[0m 32ms/step\n",
            "\u001b[1m1/1\u001b[0m \u001b[32m━━━━━━━━━━━━━━━━━━━━\u001b[0m\u001b[37m\u001b[0m \u001b[1m0s\u001b[0m 35ms/step\n",
            "\u001b[1m1/1\u001b[0m \u001b[32m━━━━━━━━━━━━━━━━━━━━\u001b[0m\u001b[37m\u001b[0m \u001b[1m0s\u001b[0m 33ms/step\n",
            "\u001b[1m1/1\u001b[0m \u001b[32m━━━━━━━━━━━━━━━━━━━━\u001b[0m\u001b[37m\u001b[0m \u001b[1m0s\u001b[0m 35ms/step\n",
            "\u001b[1m1/1\u001b[0m \u001b[32m━━━━━━━━━━━━━━━━━━━━\u001b[0m\u001b[37m\u001b[0m \u001b[1m0s\u001b[0m 34ms/step\n",
            "\u001b[1m1/1\u001b[0m \u001b[32m━━━━━━━━━━━━━━━━━━━━\u001b[0m\u001b[37m\u001b[0m \u001b[1m0s\u001b[0m 33ms/step\n",
            "\u001b[1m1/1\u001b[0m \u001b[32m━━━━━━━━━━━━━━━━━━━━\u001b[0m\u001b[37m\u001b[0m \u001b[1m0s\u001b[0m 32ms/step\n",
            "\u001b[1m1/1\u001b[0m \u001b[32m━━━━━━━━━━━━━━━━━━━━\u001b[0m\u001b[37m\u001b[0m \u001b[1m0s\u001b[0m 40ms/step\n",
            "\u001b[1m1/1\u001b[0m \u001b[32m━━━━━━━━━━━━━━━━━━━━\u001b[0m\u001b[37m\u001b[0m \u001b[1m0s\u001b[0m 35ms/step\n",
            "\u001b[1m1/1\u001b[0m \u001b[32m━━━━━━━━━━━━━━━━━━━━\u001b[0m\u001b[37m\u001b[0m \u001b[1m0s\u001b[0m 33ms/step\n",
            "\u001b[1m1/1\u001b[0m \u001b[32m━━━━━━━━━━━━━━━━━━━━\u001b[0m\u001b[37m\u001b[0m \u001b[1m0s\u001b[0m 33ms/step\n",
            "\u001b[1m1/1\u001b[0m \u001b[32m━━━━━━━━━━━━━━━━━━━━\u001b[0m\u001b[37m\u001b[0m \u001b[1m0s\u001b[0m 32ms/step\n",
            "\u001b[1m1/1\u001b[0m \u001b[32m━━━━━━━━━━━━━━━━━━━━\u001b[0m\u001b[37m\u001b[0m \u001b[1m0s\u001b[0m 31ms/step\n",
            "\u001b[1m1/1\u001b[0m \u001b[32m━━━━━━━━━━━━━━━━━━━━\u001b[0m\u001b[37m\u001b[0m \u001b[1m0s\u001b[0m 34ms/step\n",
            "\u001b[1m1/1\u001b[0m \u001b[32m━━━━━━━━━━━━━━━━━━━━\u001b[0m\u001b[37m\u001b[0m \u001b[1m0s\u001b[0m 40ms/step\n",
            "Processing example 10/50\n",
            "\u001b[1m1/1\u001b[0m \u001b[32m━━━━━━━━━━━━━━━━━━━━\u001b[0m\u001b[37m\u001b[0m \u001b[1m0s\u001b[0m 32ms/step\n",
            "\u001b[1m1/1\u001b[0m \u001b[32m━━━━━━━━━━━━━━━━━━━━\u001b[0m\u001b[37m\u001b[0m \u001b[1m0s\u001b[0m 33ms/step\n",
            "\u001b[1m1/1\u001b[0m \u001b[32m━━━━━━━━━━━━━━━━━━━━\u001b[0m\u001b[37m\u001b[0m \u001b[1m0s\u001b[0m 41ms/step\n",
            "\u001b[1m1/1\u001b[0m \u001b[32m━━━━━━━━━━━━━━━━━━━━\u001b[0m\u001b[37m\u001b[0m \u001b[1m0s\u001b[0m 32ms/step\n",
            "\u001b[1m1/1\u001b[0m \u001b[32m━━━━━━━━━━━━━━━━━━━━\u001b[0m\u001b[37m\u001b[0m \u001b[1m0s\u001b[0m 36ms/step\n",
            "\u001b[1m1/1\u001b[0m \u001b[32m━━━━━━━━━━━━━━━━━━━━\u001b[0m\u001b[37m\u001b[0m \u001b[1m0s\u001b[0m 40ms/step\n",
            "\u001b[1m1/1\u001b[0m \u001b[32m━━━━━━━━━━━━━━━━━━━━\u001b[0m\u001b[37m\u001b[0m \u001b[1m0s\u001b[0m 33ms/step\n",
            "\u001b[1m1/1\u001b[0m \u001b[32m━━━━━━━━━━━━━━━━━━━━\u001b[0m\u001b[37m\u001b[0m \u001b[1m0s\u001b[0m 32ms/step\n",
            "\u001b[1m1/1\u001b[0m \u001b[32m━━━━━━━━━━━━━━━━━━━━\u001b[0m\u001b[37m\u001b[0m \u001b[1m0s\u001b[0m 32ms/step\n",
            "\u001b[1m1/1\u001b[0m \u001b[32m━━━━━━━━━━━━━━━━━━━━\u001b[0m\u001b[37m\u001b[0m \u001b[1m0s\u001b[0m 32ms/step\n",
            "\u001b[1m1/1\u001b[0m \u001b[32m━━━━━━━━━━━━━━━━━━━━\u001b[0m\u001b[37m\u001b[0m \u001b[1m0s\u001b[0m 35ms/step\n",
            "\u001b[1m1/1\u001b[0m \u001b[32m━━━━━━━━━━━━━━━━━━━━\u001b[0m\u001b[37m\u001b[0m \u001b[1m0s\u001b[0m 34ms/step\n",
            "\u001b[1m1/1\u001b[0m \u001b[32m━━━━━━━━━━━━━━━━━━━━\u001b[0m\u001b[37m\u001b[0m \u001b[1m0s\u001b[0m 42ms/step\n",
            "\u001b[1m1/1\u001b[0m \u001b[32m━━━━━━━━━━━━━━━━━━━━\u001b[0m\u001b[37m\u001b[0m \u001b[1m0s\u001b[0m 33ms/step\n",
            "\u001b[1m1/1\u001b[0m \u001b[32m━━━━━━━━━━━━━━━━━━━━\u001b[0m\u001b[37m\u001b[0m \u001b[1m0s\u001b[0m 34ms/step\n",
            "\u001b[1m1/1\u001b[0m \u001b[32m━━━━━━━━━━━━━━━━━━━━\u001b[0m\u001b[37m\u001b[0m \u001b[1m0s\u001b[0m 35ms/step\n",
            "\u001b[1m1/1\u001b[0m \u001b[32m━━━━━━━━━━━━━━━━━━━━\u001b[0m\u001b[37m\u001b[0m \u001b[1m0s\u001b[0m 33ms/step\n",
            "\u001b[1m1/1\u001b[0m \u001b[32m━━━━━━━━━━━━━━━━━━━━\u001b[0m\u001b[37m\u001b[0m \u001b[1m0s\u001b[0m 32ms/step\n",
            "\u001b[1m1/1\u001b[0m \u001b[32m━━━━━━━━━━━━━━━━━━━━\u001b[0m\u001b[37m\u001b[0m \u001b[1m0s\u001b[0m 31ms/step\n",
            "\u001b[1m1/1\u001b[0m \u001b[32m━━━━━━━━━━━━━━━━━━━━\u001b[0m\u001b[37m\u001b[0m \u001b[1m0s\u001b[0m 34ms/step\n",
            "\u001b[1m1/1\u001b[0m \u001b[32m━━━━━━━━━━━━━━━━━━━━\u001b[0m\u001b[37m\u001b[0m \u001b[1m0s\u001b[0m 34ms/step\n",
            "\u001b[1m1/1\u001b[0m \u001b[32m━━━━━━━━━━━━━━━━━━━━\u001b[0m\u001b[37m\u001b[0m \u001b[1m0s\u001b[0m 30ms/step\n",
            "\u001b[1m1/1\u001b[0m \u001b[32m━━━━━━━━━━━━━━━━━━━━\u001b[0m\u001b[37m\u001b[0m \u001b[1m0s\u001b[0m 33ms/step\n",
            "\u001b[1m1/1\u001b[0m \u001b[32m━━━━━━━━━━━━━━━━━━━━\u001b[0m\u001b[37m\u001b[0m \u001b[1m0s\u001b[0m 35ms/step\n",
            "\u001b[1m1/1\u001b[0m \u001b[32m━━━━━━━━━━━━━━━━━━━━\u001b[0m\u001b[37m\u001b[0m \u001b[1m0s\u001b[0m 34ms/step\n",
            "\u001b[1m1/1\u001b[0m \u001b[32m━━━━━━━━━━━━━━━━━━━━\u001b[0m\u001b[37m\u001b[0m \u001b[1m0s\u001b[0m 34ms/step\n",
            "\u001b[1m1/1\u001b[0m \u001b[32m━━━━━━━━━━━━━━━━━━━━\u001b[0m\u001b[37m\u001b[0m \u001b[1m0s\u001b[0m 41ms/step\n",
            "\u001b[1m1/1\u001b[0m \u001b[32m━━━━━━━━━━━━━━━━━━━━\u001b[0m\u001b[37m\u001b[0m \u001b[1m0s\u001b[0m 33ms/step\n",
            "\u001b[1m1/1\u001b[0m \u001b[32m━━━━━━━━━━━━━━━━━━━━\u001b[0m\u001b[37m\u001b[0m \u001b[1m0s\u001b[0m 34ms/step\n",
            "\u001b[1m1/1\u001b[0m \u001b[32m━━━━━━━━━━━━━━━━━━━━\u001b[0m\u001b[37m\u001b[0m \u001b[1m0s\u001b[0m 33ms/step\n",
            "\u001b[1m1/1\u001b[0m \u001b[32m━━━━━━━━━━━━━━━━━━━━\u001b[0m\u001b[37m\u001b[0m \u001b[1m0s\u001b[0m 33ms/step\n",
            "\u001b[1m1/1\u001b[0m \u001b[32m━━━━━━━━━━━━━━━━━━━━\u001b[0m\u001b[37m\u001b[0m \u001b[1m0s\u001b[0m 34ms/step\n",
            "\u001b[1m1/1\u001b[0m \u001b[32m━━━━━━━━━━━━━━━━━━━━\u001b[0m\u001b[37m\u001b[0m \u001b[1m0s\u001b[0m 31ms/step\n",
            "\u001b[1m1/1\u001b[0m \u001b[32m━━━━━━━━━━━━━━━━━━━━\u001b[0m\u001b[37m\u001b[0m \u001b[1m0s\u001b[0m 32ms/step\n",
            "\u001b[1m1/1\u001b[0m \u001b[32m━━━━━━━━━━━━━━━━━━━━\u001b[0m\u001b[37m\u001b[0m \u001b[1m0s\u001b[0m 37ms/step\n",
            "\u001b[1m1/1\u001b[0m \u001b[32m━━━━━━━━━━━━━━━━━━━━\u001b[0m\u001b[37m\u001b[0m \u001b[1m0s\u001b[0m 35ms/step\n",
            "\u001b[1m1/1\u001b[0m \u001b[32m━━━━━━━━━━━━━━━━━━━━\u001b[0m\u001b[37m\u001b[0m \u001b[1m0s\u001b[0m 44ms/step\n",
            "\u001b[1m1/1\u001b[0m \u001b[32m━━━━━━━━━━━━━━━━━━━━\u001b[0m\u001b[37m\u001b[0m \u001b[1m0s\u001b[0m 33ms/step\n",
            "\u001b[1m1/1\u001b[0m \u001b[32m━━━━━━━━━━━━━━━━━━━━\u001b[0m\u001b[37m\u001b[0m \u001b[1m0s\u001b[0m 32ms/step\n",
            "\u001b[1m1/1\u001b[0m \u001b[32m━━━━━━━━━━━━━━━━━━━━\u001b[0m\u001b[37m\u001b[0m \u001b[1m0s\u001b[0m 37ms/step\n",
            "\u001b[1m1/1\u001b[0m \u001b[32m━━━━━━━━━━━━━━━━━━━━\u001b[0m\u001b[37m\u001b[0m \u001b[1m0s\u001b[0m 34ms/step\n",
            "\u001b[1m1/1\u001b[0m \u001b[32m━━━━━━━━━━━━━━━━━━━━\u001b[0m\u001b[37m\u001b[0m \u001b[1m0s\u001b[0m 32ms/step\n",
            "\u001b[1m1/1\u001b[0m \u001b[32m━━━━━━━━━━━━━━━━━━━━\u001b[0m\u001b[37m\u001b[0m \u001b[1m0s\u001b[0m 38ms/step\n",
            "\u001b[1m1/1\u001b[0m \u001b[32m━━━━━━━━━━━━━━━━━━━━\u001b[0m\u001b[37m\u001b[0m \u001b[1m0s\u001b[0m 33ms/step\n",
            "\u001b[1m1/1\u001b[0m \u001b[32m━━━━━━━━━━━━━━━━━━━━\u001b[0m\u001b[37m\u001b[0m \u001b[1m0s\u001b[0m 32ms/step\n",
            "\u001b[1m1/1\u001b[0m \u001b[32m━━━━━━━━━━━━━━━━━━━━\u001b[0m\u001b[37m\u001b[0m \u001b[1m0s\u001b[0m 33ms/step\n",
            "\u001b[1m1/1\u001b[0m \u001b[32m━━━━━━━━━━━━━━━━━━━━\u001b[0m\u001b[37m\u001b[0m \u001b[1m0s\u001b[0m 36ms/step\n",
            "\u001b[1m1/1\u001b[0m \u001b[32m━━━━━━━━━━━━━━━━━━━━\u001b[0m\u001b[37m\u001b[0m \u001b[1m0s\u001b[0m 36ms/step\n",
            "\u001b[1m1/1\u001b[0m \u001b[32m━━━━━━━━━━━━━━━━━━━━\u001b[0m\u001b[37m\u001b[0m \u001b[1m0s\u001b[0m 34ms/step\n",
            "\u001b[1m1/1\u001b[0m \u001b[32m━━━━━━━━━━━━━━━━━━━━\u001b[0m\u001b[37m\u001b[0m \u001b[1m0s\u001b[0m 53ms/step\n",
            "\u001b[1m1/1\u001b[0m \u001b[32m━━━━━━━━━━━━━━━━━━━━\u001b[0m\u001b[37m\u001b[0m \u001b[1m0s\u001b[0m 57ms/step\n",
            "\u001b[1m1/1\u001b[0m \u001b[32m━━━━━━━━━━━━━━━━━━━━\u001b[0m\u001b[37m\u001b[0m \u001b[1m0s\u001b[0m 54ms/step\n",
            "\u001b[1m1/1\u001b[0m \u001b[32m━━━━━━━━━━━━━━━━━━━━\u001b[0m\u001b[37m\u001b[0m \u001b[1m0s\u001b[0m 55ms/step\n",
            "\u001b[1m1/1\u001b[0m \u001b[32m━━━━━━━━━━━━━━━━━━━━\u001b[0m\u001b[37m\u001b[0m \u001b[1m0s\u001b[0m 54ms/step\n",
            "\u001b[1m1/1\u001b[0m \u001b[32m━━━━━━━━━━━━━━━━━━━━\u001b[0m\u001b[37m\u001b[0m \u001b[1m0s\u001b[0m 50ms/step\n",
            "\u001b[1m1/1\u001b[0m \u001b[32m━━━━━━━━━━━━━━━━━━━━\u001b[0m\u001b[37m\u001b[0m \u001b[1m0s\u001b[0m 187ms/step\n",
            "\u001b[1m1/1\u001b[0m \u001b[32m━━━━━━━━━━━━━━━━━━━━\u001b[0m\u001b[37m\u001b[0m \u001b[1m0s\u001b[0m 286ms/step\n",
            "\u001b[1m1/1\u001b[0m \u001b[32m━━━━━━━━━━━━━━━━━━━━\u001b[0m\u001b[37m\u001b[0m \u001b[1m0s\u001b[0m 149ms/step\n",
            "\u001b[1m1/1\u001b[0m \u001b[32m━━━━━━━━━━━━━━━━━━━━\u001b[0m\u001b[37m\u001b[0m \u001b[1m0s\u001b[0m 57ms/step\n",
            "\u001b[1m1/1\u001b[0m \u001b[32m━━━━━━━━━━━━━━━━━━━━\u001b[0m\u001b[37m\u001b[0m \u001b[1m0s\u001b[0m 312ms/step\n",
            "\u001b[1m1/1\u001b[0m \u001b[32m━━━━━━━━━━━━━━━━━━━━\u001b[0m\u001b[37m\u001b[0m \u001b[1m0s\u001b[0m 57ms/step\n",
            "\u001b[1m1/1\u001b[0m \u001b[32m━━━━━━━━━━━━━━━━━━━━\u001b[0m\u001b[37m\u001b[0m \u001b[1m0s\u001b[0m 68ms/step\n",
            "\u001b[1m1/1\u001b[0m \u001b[32m━━━━━━━━━━━━━━━━━━━━\u001b[0m\u001b[37m\u001b[0m \u001b[1m0s\u001b[0m 95ms/step\n",
            "\u001b[1m1/1\u001b[0m \u001b[32m━━━━━━━━━━━━━━━━━━━━\u001b[0m\u001b[37m\u001b[0m \u001b[1m0s\u001b[0m 58ms/step\n",
            "\u001b[1m1/1\u001b[0m \u001b[32m━━━━━━━━━━━━━━━━━━━━\u001b[0m\u001b[37m\u001b[0m \u001b[1m0s\u001b[0m 58ms/step\n",
            "\u001b[1m1/1\u001b[0m \u001b[32m━━━━━━━━━━━━━━━━━━━━\u001b[0m\u001b[37m\u001b[0m \u001b[1m0s\u001b[0m 71ms/step\n",
            "\u001b[1m1/1\u001b[0m \u001b[32m━━━━━━━━━━━━━━━━━━━━\u001b[0m\u001b[37m\u001b[0m \u001b[1m0s\u001b[0m 60ms/step\n",
            "\u001b[1m1/1\u001b[0m \u001b[32m━━━━━━━━━━━━━━━━━━━━\u001b[0m\u001b[37m\u001b[0m \u001b[1m0s\u001b[0m 49ms/step\n",
            "\u001b[1m1/1\u001b[0m \u001b[32m━━━━━━━━━━━━━━━━━━━━\u001b[0m\u001b[37m\u001b[0m \u001b[1m0s\u001b[0m 50ms/step\n",
            "\u001b[1m1/1\u001b[0m \u001b[32m━━━━━━━━━━━━━━━━━━━━\u001b[0m\u001b[37m\u001b[0m \u001b[1m0s\u001b[0m 51ms/step\n",
            "\u001b[1m1/1\u001b[0m \u001b[32m━━━━━━━━━━━━━━━━━━━━\u001b[0m\u001b[37m\u001b[0m \u001b[1m0s\u001b[0m 58ms/step\n",
            "\u001b[1m1/1\u001b[0m \u001b[32m━━━━━━━━━━━━━━━━━━━━\u001b[0m\u001b[37m\u001b[0m \u001b[1m0s\u001b[0m 36ms/step\n",
            "\u001b[1m1/1\u001b[0m \u001b[32m━━━━━━━━━━━━━━━━━━━━\u001b[0m\u001b[37m\u001b[0m \u001b[1m0s\u001b[0m 34ms/step\n",
            "\u001b[1m1/1\u001b[0m \u001b[32m━━━━━━━━━━━━━━━━━━━━\u001b[0m\u001b[37m\u001b[0m \u001b[1m0s\u001b[0m 34ms/step\n",
            "\u001b[1m1/1\u001b[0m \u001b[32m━━━━━━━━━━━━━━━━━━━━\u001b[0m\u001b[37m\u001b[0m \u001b[1m0s\u001b[0m 36ms/step\n",
            "\u001b[1m1/1\u001b[0m \u001b[32m━━━━━━━━━━━━━━━━━━━━\u001b[0m\u001b[37m\u001b[0m \u001b[1m0s\u001b[0m 36ms/step\n",
            "\u001b[1m1/1\u001b[0m \u001b[32m━━━━━━━━━━━━━━━━━━━━\u001b[0m\u001b[37m\u001b[0m \u001b[1m0s\u001b[0m 33ms/step\n",
            "\u001b[1m1/1\u001b[0m \u001b[32m━━━━━━━━━━━━━━━━━━━━\u001b[0m\u001b[37m\u001b[0m \u001b[1m0s\u001b[0m 33ms/step\n",
            "\u001b[1m1/1\u001b[0m \u001b[32m━━━━━━━━━━━━━━━━━━━━\u001b[0m\u001b[37m\u001b[0m \u001b[1m0s\u001b[0m 31ms/step\n",
            "\u001b[1m1/1\u001b[0m \u001b[32m━━━━━━━━━━━━━━━━━━━━\u001b[0m\u001b[37m\u001b[0m \u001b[1m0s\u001b[0m 32ms/step\n",
            "\u001b[1m1/1\u001b[0m \u001b[32m━━━━━━━━━━━━━━━━━━━━\u001b[0m\u001b[37m\u001b[0m \u001b[1m0s\u001b[0m 31ms/step\n",
            "\u001b[1m1/1\u001b[0m \u001b[32m━━━━━━━━━━━━━━━━━━━━\u001b[0m\u001b[37m\u001b[0m \u001b[1m0s\u001b[0m 32ms/step\n",
            "\u001b[1m1/1\u001b[0m \u001b[32m━━━━━━━━━━━━━━━━━━━━\u001b[0m\u001b[37m\u001b[0m \u001b[1m0s\u001b[0m 34ms/step\n",
            "\u001b[1m1/1\u001b[0m \u001b[32m━━━━━━━━━━━━━━━━━━━━\u001b[0m\u001b[37m\u001b[0m \u001b[1m0s\u001b[0m 33ms/step\n",
            "\u001b[1m1/1\u001b[0m \u001b[32m━━━━━━━━━━━━━━━━━━━━\u001b[0m\u001b[37m\u001b[0m \u001b[1m0s\u001b[0m 39ms/step\n",
            "\u001b[1m1/1\u001b[0m \u001b[32m━━━━━━━━━━━━━━━━━━━━\u001b[0m\u001b[37m\u001b[0m \u001b[1m0s\u001b[0m 36ms/step\n",
            "\u001b[1m1/1\u001b[0m \u001b[32m━━━━━━━━━━━━━━━━━━━━\u001b[0m\u001b[37m\u001b[0m \u001b[1m0s\u001b[0m 36ms/step\n",
            "\u001b[1m1/1\u001b[0m \u001b[32m━━━━━━━━━━━━━━━━━━━━\u001b[0m\u001b[37m\u001b[0m \u001b[1m0s\u001b[0m 34ms/step\n",
            "\u001b[1m1/1\u001b[0m \u001b[32m━━━━━━━━━━━━━━━━━━━━\u001b[0m\u001b[37m\u001b[0m \u001b[1m0s\u001b[0m 33ms/step\n",
            "\u001b[1m1/1\u001b[0m \u001b[32m━━━━━━━━━━━━━━━━━━━━\u001b[0m\u001b[37m\u001b[0m \u001b[1m0s\u001b[0m 33ms/step\n",
            "\u001b[1m1/1\u001b[0m \u001b[32m━━━━━━━━━━━━━━━━━━━━\u001b[0m\u001b[37m\u001b[0m \u001b[1m0s\u001b[0m 32ms/step\n",
            "\u001b[1m1/1\u001b[0m \u001b[32m━━━━━━━━━━━━━━━━━━━━\u001b[0m\u001b[37m\u001b[0m \u001b[1m0s\u001b[0m 32ms/step\n",
            "\u001b[1m1/1\u001b[0m \u001b[32m━━━━━━━━━━━━━━━━━━━━\u001b[0m\u001b[37m\u001b[0m \u001b[1m0s\u001b[0m 32ms/step\n",
            "\u001b[1m1/1\u001b[0m \u001b[32m━━━━━━━━━━━━━━━━━━━━\u001b[0m\u001b[37m\u001b[0m \u001b[1m0s\u001b[0m 32ms/step\n",
            "\u001b[1m1/1\u001b[0m \u001b[32m━━━━━━━━━━━━━━━━━━━━\u001b[0m\u001b[37m\u001b[0m \u001b[1m0s\u001b[0m 34ms/step\n",
            "\u001b[1m1/1\u001b[0m \u001b[32m━━━━━━━━━━━━━━━━━━━━\u001b[0m\u001b[37m\u001b[0m \u001b[1m0s\u001b[0m 34ms/step\n",
            "\u001b[1m1/1\u001b[0m \u001b[32m━━━━━━━━━━━━━━━━━━━━\u001b[0m\u001b[37m\u001b[0m \u001b[1m0s\u001b[0m 34ms/step\n",
            "\u001b[1m1/1\u001b[0m \u001b[32m━━━━━━━━━━━━━━━━━━━━\u001b[0m\u001b[37m\u001b[0m \u001b[1m0s\u001b[0m 42ms/step\n",
            "\u001b[1m1/1\u001b[0m \u001b[32m━━━━━━━━━━━━━━━━━━━━\u001b[0m\u001b[37m\u001b[0m \u001b[1m0s\u001b[0m 46ms/step\n",
            "\u001b[1m1/1\u001b[0m \u001b[32m━━━━━━━━━━━━━━━━━━━━\u001b[0m\u001b[37m\u001b[0m \u001b[1m0s\u001b[0m 34ms/step\n",
            "\u001b[1m1/1\u001b[0m \u001b[32m━━━━━━━━━━━━━━━━━━━━\u001b[0m\u001b[37m\u001b[0m \u001b[1m0s\u001b[0m 33ms/step\n",
            "\u001b[1m1/1\u001b[0m \u001b[32m━━━━━━━━━━━━━━━━━━━━\u001b[0m\u001b[37m\u001b[0m \u001b[1m0s\u001b[0m 33ms/step\n",
            "\u001b[1m1/1\u001b[0m \u001b[32m━━━━━━━━━━━━━━━━━━━━\u001b[0m\u001b[37m\u001b[0m \u001b[1m0s\u001b[0m 31ms/step\n",
            "\u001b[1m1/1\u001b[0m \u001b[32m━━━━━━━━━━━━━━━━━━━━\u001b[0m\u001b[37m\u001b[0m \u001b[1m0s\u001b[0m 32ms/step\n",
            "\u001b[1m1/1\u001b[0m \u001b[32m━━━━━━━━━━━━━━━━━━━━\u001b[0m\u001b[37m\u001b[0m \u001b[1m0s\u001b[0m 33ms/step\n",
            "\u001b[1m1/1\u001b[0m \u001b[32m━━━━━━━━━━━━━━━━━━━━\u001b[0m\u001b[37m\u001b[0m \u001b[1m0s\u001b[0m 32ms/step\n",
            "\u001b[1m1/1\u001b[0m \u001b[32m━━━━━━━━━━━━━━━━━━━━\u001b[0m\u001b[37m\u001b[0m \u001b[1m0s\u001b[0m 39ms/step\n",
            "\u001b[1m1/1\u001b[0m \u001b[32m━━━━━━━━━━━━━━━━━━━━\u001b[0m\u001b[37m\u001b[0m \u001b[1m0s\u001b[0m 35ms/step\n",
            "\u001b[1m1/1\u001b[0m \u001b[32m━━━━━━━━━━━━━━━━━━━━\u001b[0m\u001b[37m\u001b[0m \u001b[1m0s\u001b[0m 41ms/step\n",
            "\u001b[1m1/1\u001b[0m \u001b[32m━━━━━━━━━━━━━━━━━━━━\u001b[0m\u001b[37m\u001b[0m \u001b[1m0s\u001b[0m 33ms/step\n",
            "\u001b[1m1/1\u001b[0m \u001b[32m━━━━━━━━━━━━━━━━━━━━\u001b[0m\u001b[37m\u001b[0m \u001b[1m0s\u001b[0m 36ms/step\n",
            "\u001b[1m1/1\u001b[0m \u001b[32m━━━━━━━━━━━━━━━━━━━━\u001b[0m\u001b[37m\u001b[0m \u001b[1m0s\u001b[0m 35ms/step\n",
            "\u001b[1m1/1\u001b[0m \u001b[32m━━━━━━━━━━━━━━━━━━━━\u001b[0m\u001b[37m\u001b[0m \u001b[1m0s\u001b[0m 35ms/step\n",
            "\u001b[1m1/1\u001b[0m \u001b[32m━━━━━━━━━━━━━━━━━━━━\u001b[0m\u001b[37m\u001b[0m \u001b[1m0s\u001b[0m 36ms/step\n",
            "\u001b[1m1/1\u001b[0m \u001b[32m━━━━━━━━━━━━━━━━━━━━\u001b[0m\u001b[37m\u001b[0m \u001b[1m0s\u001b[0m 37ms/step\n",
            "\u001b[1m1/1\u001b[0m \u001b[32m━━━━━━━━━━━━━━━━━━━━\u001b[0m\u001b[37m\u001b[0m \u001b[1m0s\u001b[0m 34ms/step\n",
            "\u001b[1m1/1\u001b[0m \u001b[32m━━━━━━━━━━━━━━━━━━━━\u001b[0m\u001b[37m\u001b[0m \u001b[1m0s\u001b[0m 35ms/step\n",
            "\u001b[1m1/1\u001b[0m \u001b[32m━━━━━━━━━━━━━━━━━━━━\u001b[0m\u001b[37m\u001b[0m \u001b[1m0s\u001b[0m 31ms/step\n",
            "\u001b[1m1/1\u001b[0m \u001b[32m━━━━━━━━━━━━━━━━━━━━\u001b[0m\u001b[37m\u001b[0m \u001b[1m0s\u001b[0m 39ms/step\n",
            "\u001b[1m1/1\u001b[0m \u001b[32m━━━━━━━━━━━━━━━━━━━━\u001b[0m\u001b[37m\u001b[0m \u001b[1m0s\u001b[0m 36ms/step\n",
            "\u001b[1m1/1\u001b[0m \u001b[32m━━━━━━━━━━━━━━━━━━━━\u001b[0m\u001b[37m\u001b[0m \u001b[1m0s\u001b[0m 35ms/step\n",
            "\u001b[1m1/1\u001b[0m \u001b[32m━━━━━━━━━━━━━━━━━━━━\u001b[0m\u001b[37m\u001b[0m \u001b[1m0s\u001b[0m 34ms/step\n",
            "\u001b[1m1/1\u001b[0m \u001b[32m━━━━━━━━━━━━━━━━━━━━\u001b[0m\u001b[37m\u001b[0m \u001b[1m0s\u001b[0m 33ms/step\n",
            "\u001b[1m1/1\u001b[0m \u001b[32m━━━━━━━━━━━━━━━━━━━━\u001b[0m\u001b[37m\u001b[0m \u001b[1m0s\u001b[0m 34ms/step\n",
            "\u001b[1m1/1\u001b[0m \u001b[32m━━━━━━━━━━━━━━━━━━━━\u001b[0m\u001b[37m\u001b[0m \u001b[1m0s\u001b[0m 33ms/step\n",
            "\u001b[1m1/1\u001b[0m \u001b[32m━━━━━━━━━━━━━━━━━━━━\u001b[0m\u001b[37m\u001b[0m \u001b[1m0s\u001b[0m 32ms/step\n",
            "\u001b[1m1/1\u001b[0m \u001b[32m━━━━━━━━━━━━━━━━━━━━\u001b[0m\u001b[37m\u001b[0m \u001b[1m0s\u001b[0m 38ms/step\n",
            "\u001b[1m1/1\u001b[0m \u001b[32m━━━━━━━━━━━━━━━━━━━━\u001b[0m\u001b[37m\u001b[0m \u001b[1m0s\u001b[0m 34ms/step\n",
            "\u001b[1m1/1\u001b[0m \u001b[32m━━━━━━━━━━━━━━━━━━━━\u001b[0m\u001b[37m\u001b[0m \u001b[1m0s\u001b[0m 41ms/step\n",
            "\u001b[1m1/1\u001b[0m \u001b[32m━━━━━━━━━━━━━━━━━━━━\u001b[0m\u001b[37m\u001b[0m \u001b[1m0s\u001b[0m 32ms/step\n",
            "\u001b[1m1/1\u001b[0m \u001b[32m━━━━━━━━━━━━━━━━━━━━\u001b[0m\u001b[37m\u001b[0m \u001b[1m0s\u001b[0m 36ms/step\n",
            "\u001b[1m1/1\u001b[0m \u001b[32m━━━━━━━━━━━━━━━━━━━━\u001b[0m\u001b[37m\u001b[0m \u001b[1m0s\u001b[0m 35ms/step\n",
            "\u001b[1m1/1\u001b[0m \u001b[32m━━━━━━━━━━━━━━━━━━━━\u001b[0m\u001b[37m\u001b[0m \u001b[1m0s\u001b[0m 35ms/step\n",
            "\u001b[1m1/1\u001b[0m \u001b[32m━━━━━━━━━━━━━━━━━━━━\u001b[0m\u001b[37m\u001b[0m \u001b[1m0s\u001b[0m 36ms/step\n",
            "\u001b[1m1/1\u001b[0m \u001b[32m━━━━━━━━━━━━━━━━━━━━\u001b[0m\u001b[37m\u001b[0m \u001b[1m0s\u001b[0m 36ms/step\n",
            "\u001b[1m1/1\u001b[0m \u001b[32m━━━━━━━━━━━━━━━━━━━━\u001b[0m\u001b[37m\u001b[0m \u001b[1m0s\u001b[0m 32ms/step\n",
            "\u001b[1m1/1\u001b[0m \u001b[32m━━━━━━━━━━━━━━━━━━━━\u001b[0m\u001b[37m\u001b[0m \u001b[1m0s\u001b[0m 44ms/step\n",
            "\u001b[1m1/1\u001b[0m \u001b[32m━━━━━━━━━━━━━━━━━━━━\u001b[0m\u001b[37m\u001b[0m \u001b[1m0s\u001b[0m 34ms/step\n",
            "\u001b[1m1/1\u001b[0m \u001b[32m━━━━━━━━━━━━━━━━━━━━\u001b[0m\u001b[37m\u001b[0m \u001b[1m0s\u001b[0m 41ms/step\n",
            "\u001b[1m1/1\u001b[0m \u001b[32m━━━━━━━━━━━━━━━━━━━━\u001b[0m\u001b[37m\u001b[0m \u001b[1m0s\u001b[0m 33ms/step\n",
            "\u001b[1m1/1\u001b[0m \u001b[32m━━━━━━━━━━━━━━━━━━━━\u001b[0m\u001b[37m\u001b[0m \u001b[1m0s\u001b[0m 33ms/step\n",
            "\u001b[1m1/1\u001b[0m \u001b[32m━━━━━━━━━━━━━━━━━━━━\u001b[0m\u001b[37m\u001b[0m \u001b[1m0s\u001b[0m 32ms/step\n",
            "\u001b[1m1/1\u001b[0m \u001b[32m━━━━━━━━━━━━━━━━━━━━\u001b[0m\u001b[37m\u001b[0m \u001b[1m0s\u001b[0m 35ms/step\n",
            "\u001b[1m1/1\u001b[0m \u001b[32m━━━━━━━━━━━━━━━━━━━━\u001b[0m\u001b[37m\u001b[0m \u001b[1m0s\u001b[0m 35ms/step\n",
            "\u001b[1m1/1\u001b[0m \u001b[32m━━━━━━━━━━━━━━━━━━━━\u001b[0m\u001b[37m\u001b[0m \u001b[1m0s\u001b[0m 34ms/step\n",
            "\u001b[1m1/1\u001b[0m \u001b[32m━━━━━━━━━━━━━━━━━━━━\u001b[0m\u001b[37m\u001b[0m \u001b[1m0s\u001b[0m 35ms/step\n",
            "\u001b[1m1/1\u001b[0m \u001b[32m━━━━━━━━━━━━━━━━━━━━\u001b[0m\u001b[37m\u001b[0m \u001b[1m0s\u001b[0m 34ms/step\n",
            "\u001b[1m1/1\u001b[0m \u001b[32m━━━━━━━━━━━━━━━━━━━━\u001b[0m\u001b[37m\u001b[0m \u001b[1m0s\u001b[0m 36ms/step\n",
            "\u001b[1m1/1\u001b[0m \u001b[32m━━━━━━━━━━━━━━━━━━━━\u001b[0m\u001b[37m\u001b[0m \u001b[1m0s\u001b[0m 35ms/step\n",
            "\u001b[1m1/1\u001b[0m \u001b[32m━━━━━━━━━━━━━━━━━━━━\u001b[0m\u001b[37m\u001b[0m \u001b[1m0s\u001b[0m 35ms/step\n",
            "\u001b[1m1/1\u001b[0m \u001b[32m━━━━━━━━━━━━━━━━━━━━\u001b[0m\u001b[37m\u001b[0m \u001b[1m0s\u001b[0m 34ms/step\n",
            "\u001b[1m1/1\u001b[0m \u001b[32m━━━━━━━━━━━━━━━━━━━━\u001b[0m\u001b[37m\u001b[0m \u001b[1m0s\u001b[0m 33ms/step\n",
            "\u001b[1m1/1\u001b[0m \u001b[32m━━━━━━━━━━━━━━━━━━━━\u001b[0m\u001b[37m\u001b[0m \u001b[1m0s\u001b[0m 36ms/step\n",
            "\u001b[1m1/1\u001b[0m \u001b[32m━━━━━━━━━━━━━━━━━━━━\u001b[0m\u001b[37m\u001b[0m \u001b[1m0s\u001b[0m 33ms/step\n",
            "\u001b[1m1/1\u001b[0m \u001b[32m━━━━━━━━━━━━━━━━━━━━\u001b[0m\u001b[37m\u001b[0m \u001b[1m0s\u001b[0m 35ms/step\n",
            "\u001b[1m1/1\u001b[0m \u001b[32m━━━━━━━━━━━━━━━━━━━━\u001b[0m\u001b[37m\u001b[0m \u001b[1m0s\u001b[0m 34ms/step\n",
            "\u001b[1m1/1\u001b[0m \u001b[32m━━━━━━━━━━━━━━━━━━━━\u001b[0m\u001b[37m\u001b[0m \u001b[1m0s\u001b[0m 34ms/step\n",
            "\u001b[1m1/1\u001b[0m \u001b[32m━━━━━━━━━━━━━━━━━━━━\u001b[0m\u001b[37m\u001b[0m \u001b[1m0s\u001b[0m 36ms/step\n",
            "\u001b[1m1/1\u001b[0m \u001b[32m━━━━━━━━━━━━━━━━━━━━\u001b[0m\u001b[37m\u001b[0m \u001b[1m0s\u001b[0m 37ms/step\n",
            "\u001b[1m1/1\u001b[0m \u001b[32m━━━━━━━━━━━━━━━━━━━━\u001b[0m\u001b[37m\u001b[0m \u001b[1m0s\u001b[0m 36ms/step\n",
            "\u001b[1m1/1\u001b[0m \u001b[32m━━━━━━━━━━━━━━━━━━━━\u001b[0m\u001b[37m\u001b[0m \u001b[1m0s\u001b[0m 34ms/step\n",
            "\u001b[1m1/1\u001b[0m \u001b[32m━━━━━━━━━━━━━━━━━━━━\u001b[0m\u001b[37m\u001b[0m \u001b[1m0s\u001b[0m 34ms/step\n",
            "\u001b[1m1/1\u001b[0m \u001b[32m━━━━━━━━━━━━━━━━━━━━\u001b[0m\u001b[37m\u001b[0m \u001b[1m0s\u001b[0m 40ms/step\n",
            "\u001b[1m1/1\u001b[0m \u001b[32m━━━━━━━━━━━━━━━━━━━━\u001b[0m\u001b[37m\u001b[0m \u001b[1m0s\u001b[0m 47ms/step\n",
            "\u001b[1m1/1\u001b[0m \u001b[32m━━━━━━━━━━━━━━━━━━━━\u001b[0m\u001b[37m\u001b[0m \u001b[1m0s\u001b[0m 54ms/step\n",
            "\u001b[1m1/1\u001b[0m \u001b[32m━━━━━━━━━━━━━━━━━━━━\u001b[0m\u001b[37m\u001b[0m \u001b[1m0s\u001b[0m 49ms/step\n",
            "\u001b[1m1/1\u001b[0m \u001b[32m━━━━━━━━━━━━━━━━━━━━\u001b[0m\u001b[37m\u001b[0m \u001b[1m0s\u001b[0m 76ms/step\n",
            "\u001b[1m1/1\u001b[0m \u001b[32m━━━━━━━━━━━━━━━━━━━━\u001b[0m\u001b[37m\u001b[0m \u001b[1m0s\u001b[0m 56ms/step\n",
            "\u001b[1m1/1\u001b[0m \u001b[32m━━━━━━━━━━━━━━━━━━━━\u001b[0m\u001b[37m\u001b[0m \u001b[1m0s\u001b[0m 53ms/step\n",
            "\u001b[1m1/1\u001b[0m \u001b[32m━━━━━━━━━━━━━━━━━━━━\u001b[0m\u001b[37m\u001b[0m \u001b[1m0s\u001b[0m 55ms/step\n",
            "\u001b[1m1/1\u001b[0m \u001b[32m━━━━━━━━━━━━━━━━━━━━\u001b[0m\u001b[37m\u001b[0m \u001b[1m0s\u001b[0m 55ms/step\n",
            "\u001b[1m1/1\u001b[0m \u001b[32m━━━━━━━━━━━━━━━━━━━━\u001b[0m\u001b[37m\u001b[0m \u001b[1m0s\u001b[0m 50ms/step\n",
            "\u001b[1m1/1\u001b[0m \u001b[32m━━━━━━━━━━━━━━━━━━━━\u001b[0m\u001b[37m\u001b[0m \u001b[1m0s\u001b[0m 46ms/step\n",
            "\u001b[1m1/1\u001b[0m \u001b[32m━━━━━━━━━━━━━━━━━━━━\u001b[0m\u001b[37m\u001b[0m \u001b[1m0s\u001b[0m 52ms/step\n",
            "\u001b[1m1/1\u001b[0m \u001b[32m━━━━━━━━━━━━━━━━━━━━\u001b[0m\u001b[37m\u001b[0m \u001b[1m0s\u001b[0m 58ms/step\n",
            "\u001b[1m1/1\u001b[0m \u001b[32m━━━━━━━━━━━━━━━━━━━━\u001b[0m\u001b[37m\u001b[0m \u001b[1m0s\u001b[0m 72ms/step\n",
            "\u001b[1m1/1\u001b[0m \u001b[32m━━━━━━━━━━━━━━━━━━━━\u001b[0m\u001b[37m\u001b[0m \u001b[1m0s\u001b[0m 48ms/step\n",
            "\u001b[1m1/1\u001b[0m \u001b[32m━━━━━━━━━━━━━━━━━━━━\u001b[0m\u001b[37m\u001b[0m \u001b[1m0s\u001b[0m 51ms/step\n",
            "\u001b[1m1/1\u001b[0m \u001b[32m━━━━━━━━━━━━━━━━━━━━\u001b[0m\u001b[37m\u001b[0m \u001b[1m0s\u001b[0m 54ms/step\n",
            "\u001b[1m1/1\u001b[0m \u001b[32m━━━━━━━━━━━━━━━━━━━━\u001b[0m\u001b[37m\u001b[0m \u001b[1m0s\u001b[0m 62ms/step\n",
            "\u001b[1m1/1\u001b[0m \u001b[32m━━━━━━━━━━━━━━━━━━━━\u001b[0m\u001b[37m\u001b[0m \u001b[1m0s\u001b[0m 49ms/step\n",
            "\u001b[1m1/1\u001b[0m \u001b[32m━━━━━━━━━━━━━━━━━━━━\u001b[0m\u001b[37m\u001b[0m \u001b[1m0s\u001b[0m 59ms/step\n",
            "\u001b[1m1/1\u001b[0m \u001b[32m━━━━━━━━━━━━━━━━━━━━\u001b[0m\u001b[37m\u001b[0m \u001b[1m0s\u001b[0m 57ms/step\n",
            "\u001b[1m1/1\u001b[0m \u001b[32m━━━━━━━━━━━━━━━━━━━━\u001b[0m\u001b[37m\u001b[0m \u001b[1m0s\u001b[0m 58ms/step\n",
            "\u001b[1m1/1\u001b[0m \u001b[32m━━━━━━━━━━━━━━━━━━━━\u001b[0m\u001b[37m\u001b[0m \u001b[1m0s\u001b[0m 47ms/step\n",
            "\u001b[1m1/1\u001b[0m \u001b[32m━━━━━━━━━━━━━━━━━━━━\u001b[0m\u001b[37m\u001b[0m \u001b[1m0s\u001b[0m 53ms/step\n",
            "\u001b[1m1/1\u001b[0m \u001b[32m━━━━━━━━━━━━━━━━━━━━\u001b[0m\u001b[37m\u001b[0m \u001b[1m0s\u001b[0m 50ms/step\n",
            "\u001b[1m1/1\u001b[0m \u001b[32m━━━━━━━━━━━━━━━━━━━━\u001b[0m\u001b[37m\u001b[0m \u001b[1m0s\u001b[0m 54ms/step\n",
            "\u001b[1m1/1\u001b[0m \u001b[32m━━━━━━━━━━━━━━━━━━━━\u001b[0m\u001b[37m\u001b[0m \u001b[1m0s\u001b[0m 56ms/step\n",
            "\u001b[1m1/1\u001b[0m \u001b[32m━━━━━━━━━━━━━━━━━━━━\u001b[0m\u001b[37m\u001b[0m \u001b[1m0s\u001b[0m 31ms/step\n",
            "\u001b[1m1/1\u001b[0m \u001b[32m━━━━━━━━━━━━━━━━━━━━\u001b[0m\u001b[37m\u001b[0m \u001b[1m0s\u001b[0m 36ms/step\n",
            "\u001b[1m1/1\u001b[0m \u001b[32m━━━━━━━━━━━━━━━━━━━━\u001b[0m\u001b[37m\u001b[0m \u001b[1m0s\u001b[0m 38ms/step\n",
            "\u001b[1m1/1\u001b[0m \u001b[32m━━━━━━━━━━━━━━━━━━━━\u001b[0m\u001b[37m\u001b[0m \u001b[1m0s\u001b[0m 37ms/step\n",
            "\u001b[1m1/1\u001b[0m \u001b[32m━━━━━━━━━━━━━━━━━━━━\u001b[0m\u001b[37m\u001b[0m \u001b[1m0s\u001b[0m 43ms/step\n",
            "\u001b[1m1/1\u001b[0m \u001b[32m━━━━━━━━━━━━━━━━━━━━\u001b[0m\u001b[37m\u001b[0m \u001b[1m0s\u001b[0m 37ms/step\n",
            "\u001b[1m1/1\u001b[0m \u001b[32m━━━━━━━━━━━━━━━━━━━━\u001b[0m\u001b[37m\u001b[0m \u001b[1m0s\u001b[0m 33ms/step\n",
            "\u001b[1m1/1\u001b[0m \u001b[32m━━━━━━━━━━━━━━━━━━━━\u001b[0m\u001b[37m\u001b[0m \u001b[1m0s\u001b[0m 35ms/step\n",
            "\u001b[1m1/1\u001b[0m \u001b[32m━━━━━━━━━━━━━━━━━━━━\u001b[0m\u001b[37m\u001b[0m \u001b[1m0s\u001b[0m 33ms/step\n",
            "\u001b[1m1/1\u001b[0m \u001b[32m━━━━━━━━━━━━━━━━━━━━\u001b[0m\u001b[37m\u001b[0m \u001b[1m0s\u001b[0m 32ms/step\n",
            "\u001b[1m1/1\u001b[0m \u001b[32m━━━━━━━━━━━━━━━━━━━━\u001b[0m\u001b[37m\u001b[0m \u001b[1m0s\u001b[0m 34ms/step\n",
            "\u001b[1m1/1\u001b[0m \u001b[32m━━━━━━━━━━━━━━━━━━━━\u001b[0m\u001b[37m\u001b[0m \u001b[1m0s\u001b[0m 36ms/step\n",
            "\u001b[1m1/1\u001b[0m \u001b[32m━━━━━━━━━━━━━━━━━━━━\u001b[0m\u001b[37m\u001b[0m \u001b[1m0s\u001b[0m 36ms/step\n",
            "\u001b[1m1/1\u001b[0m \u001b[32m━━━━━━━━━━━━━━━━━━━━\u001b[0m\u001b[37m\u001b[0m \u001b[1m0s\u001b[0m 43ms/step\n",
            "\u001b[1m1/1\u001b[0m \u001b[32m━━━━━━━━━━━━━━━━━━━━\u001b[0m\u001b[37m\u001b[0m \u001b[1m0s\u001b[0m 38ms/step\n",
            "\u001b[1m1/1\u001b[0m \u001b[32m━━━━━━━━━━━━━━━━━━━━\u001b[0m\u001b[37m\u001b[0m \u001b[1m0s\u001b[0m 35ms/step\n",
            "\u001b[1m1/1\u001b[0m \u001b[32m━━━━━━━━━━━━━━━━━━━━\u001b[0m\u001b[37m\u001b[0m \u001b[1m0s\u001b[0m 34ms/step\n",
            "\u001b[1m1/1\u001b[0m \u001b[32m━━━━━━━━━━━━━━━━━━━━\u001b[0m\u001b[37m\u001b[0m \u001b[1m0s\u001b[0m 35ms/step\n",
            "\u001b[1m1/1\u001b[0m \u001b[32m━━━━━━━━━━━━━━━━━━━━\u001b[0m\u001b[37m\u001b[0m \u001b[1m0s\u001b[0m 34ms/step\n",
            "\u001b[1m1/1\u001b[0m \u001b[32m━━━━━━━━━━━━━━━━━━━━\u001b[0m\u001b[37m\u001b[0m \u001b[1m0s\u001b[0m 36ms/step\n",
            "\u001b[1m1/1\u001b[0m \u001b[32m━━━━━━━━━━━━━━━━━━━━\u001b[0m\u001b[37m\u001b[0m \u001b[1m0s\u001b[0m 40ms/step\n",
            "Processing example 20/50\n",
            "\u001b[1m1/1\u001b[0m \u001b[32m━━━━━━━━━━━━━━━━━━━━\u001b[0m\u001b[37m\u001b[0m \u001b[1m0s\u001b[0m 31ms/step\n",
            "\u001b[1m1/1\u001b[0m \u001b[32m━━━━━━━━━━━━━━━━━━━━\u001b[0m\u001b[37m\u001b[0m \u001b[1m0s\u001b[0m 34ms/step\n",
            "\u001b[1m1/1\u001b[0m \u001b[32m━━━━━━━━━━━━━━━━━━━━\u001b[0m\u001b[37m\u001b[0m \u001b[1m0s\u001b[0m 42ms/step\n",
            "\u001b[1m1/1\u001b[0m \u001b[32m━━━━━━━━━━━━━━━━━━━━\u001b[0m\u001b[37m\u001b[0m \u001b[1m0s\u001b[0m 34ms/step\n",
            "\u001b[1m1/1\u001b[0m \u001b[32m━━━━━━━━━━━━━━━━━━━━\u001b[0m\u001b[37m\u001b[0m \u001b[1m0s\u001b[0m 35ms/step\n",
            "\u001b[1m1/1\u001b[0m \u001b[32m━━━━━━━━━━━━━━━━━━━━\u001b[0m\u001b[37m\u001b[0m \u001b[1m0s\u001b[0m 38ms/step\n",
            "\u001b[1m1/1\u001b[0m \u001b[32m━━━━━━━━━━━━━━━━━━━━\u001b[0m\u001b[37m\u001b[0m \u001b[1m0s\u001b[0m 40ms/step\n",
            "\u001b[1m1/1\u001b[0m \u001b[32m━━━━━━━━━━━━━━━━━━━━\u001b[0m\u001b[37m\u001b[0m \u001b[1m0s\u001b[0m 34ms/step\n",
            "\u001b[1m1/1\u001b[0m \u001b[32m━━━━━━━━━━━━━━━━━━━━\u001b[0m\u001b[37m\u001b[0m \u001b[1m0s\u001b[0m 38ms/step\n",
            "\u001b[1m1/1\u001b[0m \u001b[32m━━━━━━━━━━━━━━━━━━━━\u001b[0m\u001b[37m\u001b[0m \u001b[1m0s\u001b[0m 33ms/step\n",
            "\u001b[1m1/1\u001b[0m \u001b[32m━━━━━━━━━━━━━━━━━━━━\u001b[0m\u001b[37m\u001b[0m \u001b[1m0s\u001b[0m 35ms/step\n",
            "\u001b[1m1/1\u001b[0m \u001b[32m━━━━━━━━━━━━━━━━━━━━\u001b[0m\u001b[37m\u001b[0m \u001b[1m0s\u001b[0m 36ms/step\n",
            "\u001b[1m1/1\u001b[0m \u001b[32m━━━━━━━━━━━━━━━━━━━━\u001b[0m\u001b[37m\u001b[0m \u001b[1m0s\u001b[0m 36ms/step\n",
            "\u001b[1m1/1\u001b[0m \u001b[32m━━━━━━━━━━━━━━━━━━━━\u001b[0m\u001b[37m\u001b[0m \u001b[1m0s\u001b[0m 33ms/step\n",
            "\u001b[1m1/1\u001b[0m \u001b[32m━━━━━━━━━━━━━━━━━━━━\u001b[0m\u001b[37m\u001b[0m \u001b[1m0s\u001b[0m 47ms/step\n",
            "\u001b[1m1/1\u001b[0m \u001b[32m━━━━━━━━━━━━━━━━━━━━\u001b[0m\u001b[37m\u001b[0m \u001b[1m0s\u001b[0m 32ms/step\n",
            "\u001b[1m1/1\u001b[0m \u001b[32m━━━━━━━━━━━━━━━━━━━━\u001b[0m\u001b[37m\u001b[0m \u001b[1m0s\u001b[0m 37ms/step\n",
            "\u001b[1m1/1\u001b[0m \u001b[32m━━━━━━━━━━━━━━━━━━━━\u001b[0m\u001b[37m\u001b[0m \u001b[1m0s\u001b[0m 35ms/step\n",
            "\u001b[1m1/1\u001b[0m \u001b[32m━━━━━━━━━━━━━━━━━━━━\u001b[0m\u001b[37m\u001b[0m \u001b[1m0s\u001b[0m 35ms/step\n",
            "\u001b[1m1/1\u001b[0m \u001b[32m━━━━━━━━━━━━━━━━━━━━\u001b[0m\u001b[37m\u001b[0m \u001b[1m0s\u001b[0m 35ms/step\n",
            "\u001b[1m1/1\u001b[0m \u001b[32m━━━━━━━━━━━━━━━━━━━━\u001b[0m\u001b[37m\u001b[0m \u001b[1m0s\u001b[0m 33ms/step\n",
            "\u001b[1m1/1\u001b[0m \u001b[32m━━━━━━━━━━━━━━━━━━━━\u001b[0m\u001b[37m\u001b[0m \u001b[1m0s\u001b[0m 30ms/step\n",
            "\u001b[1m1/1\u001b[0m \u001b[32m━━━━━━━━━━━━━━━━━━━━\u001b[0m\u001b[37m\u001b[0m \u001b[1m0s\u001b[0m 38ms/step\n",
            "\u001b[1m1/1\u001b[0m \u001b[32m━━━━━━━━━━━━━━━━━━━━\u001b[0m\u001b[37m\u001b[0m \u001b[1m0s\u001b[0m 35ms/step\n",
            "\u001b[1m1/1\u001b[0m \u001b[32m━━━━━━━━━━━━━━━━━━━━\u001b[0m\u001b[37m\u001b[0m \u001b[1m0s\u001b[0m 33ms/step\n",
            "\u001b[1m1/1\u001b[0m \u001b[32m━━━━━━━━━━━━━━━━━━━━\u001b[0m\u001b[37m\u001b[0m \u001b[1m0s\u001b[0m 47ms/step\n",
            "\u001b[1m1/1\u001b[0m \u001b[32m━━━━━━━━━━━━━━━━━━━━\u001b[0m\u001b[37m\u001b[0m \u001b[1m0s\u001b[0m 37ms/step\n",
            "\u001b[1m1/1\u001b[0m \u001b[32m━━━━━━━━━━━━━━━━━━━━\u001b[0m\u001b[37m\u001b[0m \u001b[1m0s\u001b[0m 33ms/step\n",
            "\u001b[1m1/1\u001b[0m \u001b[32m━━━━━━━━━━━━━━━━━━━━\u001b[0m\u001b[37m\u001b[0m \u001b[1m0s\u001b[0m 35ms/step\n",
            "\u001b[1m1/1\u001b[0m \u001b[32m━━━━━━━━━━━━━━━━━━━━\u001b[0m\u001b[37m\u001b[0m \u001b[1m0s\u001b[0m 38ms/step\n",
            "\u001b[1m1/1\u001b[0m \u001b[32m━━━━━━━━━━━━━━━━━━━━\u001b[0m\u001b[37m\u001b[0m \u001b[1m0s\u001b[0m 38ms/step\n",
            "\u001b[1m1/1\u001b[0m \u001b[32m━━━━━━━━━━━━━━━━━━━━\u001b[0m\u001b[37m\u001b[0m \u001b[1m0s\u001b[0m 34ms/step\n",
            "\u001b[1m1/1\u001b[0m \u001b[32m━━━━━━━━━━━━━━━━━━━━\u001b[0m\u001b[37m\u001b[0m \u001b[1m0s\u001b[0m 39ms/step\n",
            "\u001b[1m1/1\u001b[0m \u001b[32m━━━━━━━━━━━━━━━━━━━━\u001b[0m\u001b[37m\u001b[0m \u001b[1m0s\u001b[0m 38ms/step\n",
            "\u001b[1m1/1\u001b[0m \u001b[32m━━━━━━━━━━━━━━━━━━━━\u001b[0m\u001b[37m\u001b[0m \u001b[1m0s\u001b[0m 37ms/step\n",
            "\u001b[1m1/1\u001b[0m \u001b[32m━━━━━━━━━━━━━━━━━━━━\u001b[0m\u001b[37m\u001b[0m \u001b[1m0s\u001b[0m 33ms/step\n",
            "\u001b[1m1/1\u001b[0m \u001b[32m━━━━━━━━━━━━━━━━━━━━\u001b[0m\u001b[37m\u001b[0m \u001b[1m0s\u001b[0m 33ms/step\n",
            "\u001b[1m1/1\u001b[0m \u001b[32m━━━━━━━━━━━━━━━━━━━━\u001b[0m\u001b[37m\u001b[0m \u001b[1m0s\u001b[0m 36ms/step\n",
            "\u001b[1m1/1\u001b[0m \u001b[32m━━━━━━━━━━━━━━━━━━━━\u001b[0m\u001b[37m\u001b[0m \u001b[1m0s\u001b[0m 32ms/step\n",
            "\u001b[1m1/1\u001b[0m \u001b[32m━━━━━━━━━━━━━━━━━━━━\u001b[0m\u001b[37m\u001b[0m \u001b[1m0s\u001b[0m 37ms/step\n",
            "\u001b[1m1/1\u001b[0m \u001b[32m━━━━━━━━━━━━━━━━━━━━\u001b[0m\u001b[37m\u001b[0m \u001b[1m0s\u001b[0m 35ms/step\n",
            "\u001b[1m1/1\u001b[0m \u001b[32m━━━━━━━━━━━━━━━━━━━━\u001b[0m\u001b[37m\u001b[0m \u001b[1m0s\u001b[0m 36ms/step\n",
            "\u001b[1m1/1\u001b[0m \u001b[32m━━━━━━━━━━━━━━━━━━━━\u001b[0m\u001b[37m\u001b[0m \u001b[1m0s\u001b[0m 39ms/step\n",
            "\u001b[1m1/1\u001b[0m \u001b[32m━━━━━━━━━━━━━━━━━━━━\u001b[0m\u001b[37m\u001b[0m \u001b[1m0s\u001b[0m 35ms/step\n",
            "\u001b[1m1/1\u001b[0m \u001b[32m━━━━━━━━━━━━━━━━━━━━\u001b[0m\u001b[37m\u001b[0m \u001b[1m0s\u001b[0m 33ms/step\n",
            "\u001b[1m1/1\u001b[0m \u001b[32m━━━━━━━━━━━━━━━━━━━━\u001b[0m\u001b[37m\u001b[0m \u001b[1m0s\u001b[0m 39ms/step\n",
            "\u001b[1m1/1\u001b[0m \u001b[32m━━━━━━━━━━━━━━━━━━━━\u001b[0m\u001b[37m\u001b[0m \u001b[1m0s\u001b[0m 36ms/step\n",
            "\u001b[1m1/1\u001b[0m \u001b[32m━━━━━━━━━━━━━━━━━━━━\u001b[0m\u001b[37m\u001b[0m \u001b[1m0s\u001b[0m 35ms/step\n",
            "\u001b[1m1/1\u001b[0m \u001b[32m━━━━━━━━━━━━━━━━━━━━\u001b[0m\u001b[37m\u001b[0m \u001b[1m0s\u001b[0m 39ms/step\n",
            "\u001b[1m1/1\u001b[0m \u001b[32m━━━━━━━━━━━━━━━━━━━━\u001b[0m\u001b[37m\u001b[0m \u001b[1m0s\u001b[0m 36ms/step\n",
            "\u001b[1m1/1\u001b[0m \u001b[32m━━━━━━━━━━━━━━━━━━━━\u001b[0m\u001b[37m\u001b[0m \u001b[1m0s\u001b[0m 35ms/step\n",
            "\u001b[1m1/1\u001b[0m \u001b[32m━━━━━━━━━━━━━━━━━━━━\u001b[0m\u001b[37m\u001b[0m \u001b[1m0s\u001b[0m 33ms/step\n",
            "\u001b[1m1/1\u001b[0m \u001b[32m━━━━━━━━━━━━━━━━━━━━\u001b[0m\u001b[37m\u001b[0m \u001b[1m0s\u001b[0m 36ms/step\n",
            "\u001b[1m1/1\u001b[0m \u001b[32m━━━━━━━━━━━━━━━━━━━━\u001b[0m\u001b[37m\u001b[0m \u001b[1m0s\u001b[0m 35ms/step\n",
            "\u001b[1m1/1\u001b[0m \u001b[32m━━━━━━━━━━━━━━━━━━━━\u001b[0m\u001b[37m\u001b[0m \u001b[1m0s\u001b[0m 36ms/step\n",
            "\u001b[1m1/1\u001b[0m \u001b[32m━━━━━━━━━━━━━━━━━━━━\u001b[0m\u001b[37m\u001b[0m \u001b[1m0s\u001b[0m 37ms/step\n",
            "\u001b[1m1/1\u001b[0m \u001b[32m━━━━━━━━━━━━━━━━━━━━\u001b[0m\u001b[37m\u001b[0m \u001b[1m0s\u001b[0m 35ms/step\n",
            "\u001b[1m1/1\u001b[0m \u001b[32m━━━━━━━━━━━━━━━━━━━━\u001b[0m\u001b[37m\u001b[0m \u001b[1m0s\u001b[0m 35ms/step\n",
            "\u001b[1m1/1\u001b[0m \u001b[32m━━━━━━━━━━━━━━━━━━━━\u001b[0m\u001b[37m\u001b[0m \u001b[1m0s\u001b[0m 34ms/step\n",
            "\u001b[1m1/1\u001b[0m \u001b[32m━━━━━━━━━━━━━━━━━━━━\u001b[0m\u001b[37m\u001b[0m \u001b[1m0s\u001b[0m 36ms/step\n",
            "\u001b[1m1/1\u001b[0m \u001b[32m━━━━━━━━━━━━━━━━━━━━\u001b[0m\u001b[37m\u001b[0m \u001b[1m0s\u001b[0m 34ms/step\n",
            "\u001b[1m1/1\u001b[0m \u001b[32m━━━━━━━━━━━━━━━━━━━━\u001b[0m\u001b[37m\u001b[0m \u001b[1m0s\u001b[0m 35ms/step\n",
            "\u001b[1m1/1\u001b[0m \u001b[32m━━━━━━━━━━━━━━━━━━━━\u001b[0m\u001b[37m\u001b[0m \u001b[1m0s\u001b[0m 35ms/step\n",
            "\u001b[1m1/1\u001b[0m \u001b[32m━━━━━━━━━━━━━━━━━━━━\u001b[0m\u001b[37m\u001b[0m \u001b[1m0s\u001b[0m 31ms/step\n",
            "\u001b[1m1/1\u001b[0m \u001b[32m━━━━━━━━━━━━━━━━━━━━\u001b[0m\u001b[37m\u001b[0m \u001b[1m0s\u001b[0m 45ms/step\n",
            "\u001b[1m1/1\u001b[0m \u001b[32m━━━━━━━━━━━━━━━━━━━━\u001b[0m\u001b[37m\u001b[0m \u001b[1m0s\u001b[0m 37ms/step\n",
            "\u001b[1m1/1\u001b[0m \u001b[32m━━━━━━━━━━━━━━━━━━━━\u001b[0m\u001b[37m\u001b[0m \u001b[1m0s\u001b[0m 33ms/step\n",
            "\u001b[1m1/1\u001b[0m \u001b[32m━━━━━━━━━━━━━━━━━━━━\u001b[0m\u001b[37m\u001b[0m \u001b[1m0s\u001b[0m 36ms/step\n",
            "\u001b[1m1/1\u001b[0m \u001b[32m━━━━━━━━━━━━━━━━━━━━\u001b[0m\u001b[37m\u001b[0m \u001b[1m0s\u001b[0m 36ms/step\n",
            "\u001b[1m1/1\u001b[0m \u001b[32m━━━━━━━━━━━━━━━━━━━━\u001b[0m\u001b[37m\u001b[0m \u001b[1m0s\u001b[0m 34ms/step\n",
            "\u001b[1m1/1\u001b[0m \u001b[32m━━━━━━━━━━━━━━━━━━━━\u001b[0m\u001b[37m\u001b[0m \u001b[1m0s\u001b[0m 37ms/step\n",
            "\u001b[1m1/1\u001b[0m \u001b[32m━━━━━━━━━━━━━━━━━━━━\u001b[0m\u001b[37m\u001b[0m \u001b[1m0s\u001b[0m 40ms/step\n",
            "\u001b[1m1/1\u001b[0m \u001b[32m━━━━━━━━━━━━━━━━━━━━\u001b[0m\u001b[37m\u001b[0m \u001b[1m0s\u001b[0m 34ms/step\n",
            "\u001b[1m1/1\u001b[0m \u001b[32m━━━━━━━━━━━━━━━━━━━━\u001b[0m\u001b[37m\u001b[0m \u001b[1m0s\u001b[0m 33ms/step\n",
            "\u001b[1m1/1\u001b[0m \u001b[32m━━━━━━━━━━━━━━━━━━━━\u001b[0m\u001b[37m\u001b[0m \u001b[1m0s\u001b[0m 36ms/step\n",
            "\u001b[1m1/1\u001b[0m \u001b[32m━━━━━━━━━━━━━━━━━━━━\u001b[0m\u001b[37m\u001b[0m \u001b[1m0s\u001b[0m 34ms/step\n",
            "\u001b[1m1/1\u001b[0m \u001b[32m━━━━━━━━━━━━━━━━━━━━\u001b[0m\u001b[37m\u001b[0m \u001b[1m0s\u001b[0m 36ms/step\n",
            "\u001b[1m1/1\u001b[0m \u001b[32m━━━━━━━━━━━━━━━━━━━━\u001b[0m\u001b[37m\u001b[0m \u001b[1m0s\u001b[0m 39ms/step\n",
            "\u001b[1m1/1\u001b[0m \u001b[32m━━━━━━━━━━━━━━━━━━━━\u001b[0m\u001b[37m\u001b[0m \u001b[1m0s\u001b[0m 35ms/step\n",
            "\u001b[1m1/1\u001b[0m \u001b[32m━━━━━━━━━━━━━━━━━━━━\u001b[0m\u001b[37m\u001b[0m \u001b[1m0s\u001b[0m 66ms/step\n",
            "\u001b[1m1/1\u001b[0m \u001b[32m━━━━━━━━━━━━━━━━━━━━\u001b[0m\u001b[37m\u001b[0m \u001b[1m0s\u001b[0m 57ms/step\n",
            "\u001b[1m1/1\u001b[0m \u001b[32m━━━━━━━━━━━━━━━━━━━━\u001b[0m\u001b[37m\u001b[0m \u001b[1m0s\u001b[0m 58ms/step\n",
            "\u001b[1m1/1\u001b[0m \u001b[32m━━━━━━━━━━━━━━━━━━━━\u001b[0m\u001b[37m\u001b[0m \u001b[1m0s\u001b[0m 60ms/step\n",
            "\u001b[1m1/1\u001b[0m \u001b[32m━━━━━━━━━━━━━━━━━━━━\u001b[0m\u001b[37m\u001b[0m \u001b[1m0s\u001b[0m 56ms/step\n",
            "\u001b[1m1/1\u001b[0m \u001b[32m━━━━━━━━━━━━━━━━━━━━\u001b[0m\u001b[37m\u001b[0m \u001b[1m0s\u001b[0m 42ms/step\n",
            "\u001b[1m1/1\u001b[0m \u001b[32m━━━━━━━━━━━━━━━━━━━━\u001b[0m\u001b[37m\u001b[0m \u001b[1m0s\u001b[0m 48ms/step\n",
            "\u001b[1m1/1\u001b[0m \u001b[32m━━━━━━━━━━━━━━━━━━━━\u001b[0m\u001b[37m\u001b[0m \u001b[1m0s\u001b[0m 50ms/step\n",
            "\u001b[1m1/1\u001b[0m \u001b[32m━━━━━━━━━━━━━━━━━━━━\u001b[0m\u001b[37m\u001b[0m \u001b[1m0s\u001b[0m 53ms/step\n",
            "\u001b[1m1/1\u001b[0m \u001b[32m━━━━━━━━━━━━━━━━━━━━\u001b[0m\u001b[37m\u001b[0m \u001b[1m0s\u001b[0m 57ms/step\n",
            "\u001b[1m1/1\u001b[0m \u001b[32m━━━━━━━━━━━━━━━━━━━━\u001b[0m\u001b[37m\u001b[0m \u001b[1m0s\u001b[0m 57ms/step\n",
            "\u001b[1m1/1\u001b[0m \u001b[32m━━━━━━━━━━━━━━━━━━━━\u001b[0m\u001b[37m\u001b[0m \u001b[1m0s\u001b[0m 59ms/step\n",
            "\u001b[1m1/1\u001b[0m \u001b[32m━━━━━━━━━━━━━━━━━━━━\u001b[0m\u001b[37m\u001b[0m \u001b[1m0s\u001b[0m 59ms/step\n",
            "\u001b[1m1/1\u001b[0m \u001b[32m━━━━━━━━━━━━━━━━━━━━\u001b[0m\u001b[37m\u001b[0m \u001b[1m0s\u001b[0m 65ms/step\n",
            "\u001b[1m1/1\u001b[0m \u001b[32m━━━━━━━━━━━━━━━━━━━━\u001b[0m\u001b[37m\u001b[0m \u001b[1m0s\u001b[0m 57ms/step\n",
            "\u001b[1m1/1\u001b[0m \u001b[32m━━━━━━━━━━━━━━━━━━━━\u001b[0m\u001b[37m\u001b[0m \u001b[1m0s\u001b[0m 58ms/step\n",
            "\u001b[1m1/1\u001b[0m \u001b[32m━━━━━━━━━━━━━━━━━━━━\u001b[0m\u001b[37m\u001b[0m \u001b[1m0s\u001b[0m 45ms/step\n",
            "\u001b[1m1/1\u001b[0m \u001b[32m━━━━━━━━━━━━━━━━━━━━\u001b[0m\u001b[37m\u001b[0m \u001b[1m0s\u001b[0m 47ms/step\n",
            "\u001b[1m1/1\u001b[0m \u001b[32m━━━━━━━━━━━━━━━━━━━━\u001b[0m\u001b[37m\u001b[0m \u001b[1m0s\u001b[0m 55ms/step\n",
            "\u001b[1m1/1\u001b[0m \u001b[32m━━━━━━━━━━━━━━━━━━━━\u001b[0m\u001b[37m\u001b[0m \u001b[1m0s\u001b[0m 50ms/step\n",
            "\u001b[1m1/1\u001b[0m \u001b[32m━━━━━━━━━━━━━━━━━━━━\u001b[0m\u001b[37m\u001b[0m \u001b[1m0s\u001b[0m 47ms/step\n",
            "\u001b[1m1/1\u001b[0m \u001b[32m━━━━━━━━━━━━━━━━━━━━\u001b[0m\u001b[37m\u001b[0m \u001b[1m0s\u001b[0m 61ms/step\n",
            "\u001b[1m1/1\u001b[0m \u001b[32m━━━━━━━━━━━━━━━━━━━━\u001b[0m\u001b[37m\u001b[0m \u001b[1m0s\u001b[0m 57ms/step\n",
            "\u001b[1m1/1\u001b[0m \u001b[32m━━━━━━━━━━━━━━━━━━━━\u001b[0m\u001b[37m\u001b[0m \u001b[1m0s\u001b[0m 57ms/step\n",
            "\u001b[1m1/1\u001b[0m \u001b[32m━━━━━━━━━━━━━━━━━━━━\u001b[0m\u001b[37m\u001b[0m \u001b[1m0s\u001b[0m 64ms/step\n",
            "\u001b[1m1/1\u001b[0m \u001b[32m━━━━━━━━━━━━━━━━━━━━\u001b[0m\u001b[37m\u001b[0m \u001b[1m0s\u001b[0m 54ms/step\n",
            "\u001b[1m1/1\u001b[0m \u001b[32m━━━━━━━━━━━━━━━━━━━━\u001b[0m\u001b[37m\u001b[0m \u001b[1m0s\u001b[0m 34ms/step\n",
            "\u001b[1m1/1\u001b[0m \u001b[32m━━━━━━━━━━━━━━━━━━━━\u001b[0m\u001b[37m\u001b[0m \u001b[1m0s\u001b[0m 37ms/step\n",
            "\u001b[1m1/1\u001b[0m \u001b[32m━━━━━━━━━━━━━━━━━━━━\u001b[0m\u001b[37m\u001b[0m \u001b[1m0s\u001b[0m 33ms/step\n",
            "\u001b[1m1/1\u001b[0m \u001b[32m━━━━━━━━━━━━━━━━━━━━\u001b[0m\u001b[37m\u001b[0m \u001b[1m0s\u001b[0m 34ms/step\n",
            "\u001b[1m1/1\u001b[0m \u001b[32m━━━━━━━━━━━━━━━━━━━━\u001b[0m\u001b[37m\u001b[0m \u001b[1m0s\u001b[0m 36ms/step\n",
            "\u001b[1m1/1\u001b[0m \u001b[32m━━━━━━━━━━━━━━━━━━━━\u001b[0m\u001b[37m\u001b[0m \u001b[1m0s\u001b[0m 42ms/step\n",
            "\u001b[1m1/1\u001b[0m \u001b[32m━━━━━━━━━━━━━━━━━━━━\u001b[0m\u001b[37m\u001b[0m \u001b[1m0s\u001b[0m 32ms/step\n",
            "\u001b[1m1/1\u001b[0m \u001b[32m━━━━━━━━━━━━━━━━━━━━\u001b[0m\u001b[37m\u001b[0m \u001b[1m0s\u001b[0m 35ms/step\n",
            "\u001b[1m1/1\u001b[0m \u001b[32m━━━━━━━━━━━━━━━━━━━━\u001b[0m\u001b[37m\u001b[0m \u001b[1m0s\u001b[0m 37ms/step\n",
            "\u001b[1m1/1\u001b[0m \u001b[32m━━━━━━━━━━━━━━━━━━━━\u001b[0m\u001b[37m\u001b[0m \u001b[1m0s\u001b[0m 36ms/step\n",
            "\u001b[1m1/1\u001b[0m \u001b[32m━━━━━━━━━━━━━━━━━━━━\u001b[0m\u001b[37m\u001b[0m \u001b[1m0s\u001b[0m 40ms/step\n",
            "\u001b[1m1/1\u001b[0m \u001b[32m━━━━━━━━━━━━━━━━━━━━\u001b[0m\u001b[37m\u001b[0m \u001b[1m0s\u001b[0m 35ms/step\n",
            "\u001b[1m1/1\u001b[0m \u001b[32m━━━━━━━━━━━━━━━━━━━━\u001b[0m\u001b[37m\u001b[0m \u001b[1m0s\u001b[0m 35ms/step\n",
            "\u001b[1m1/1\u001b[0m \u001b[32m━━━━━━━━━━━━━━━━━━━━\u001b[0m\u001b[37m\u001b[0m \u001b[1m0s\u001b[0m 34ms/step\n",
            "\u001b[1m1/1\u001b[0m \u001b[32m━━━━━━━━━━━━━━━━━━━━\u001b[0m\u001b[37m\u001b[0m \u001b[1m0s\u001b[0m 35ms/step\n",
            "\u001b[1m1/1\u001b[0m \u001b[32m━━━━━━━━━━━━━━━━━━━━\u001b[0m\u001b[37m\u001b[0m \u001b[1m0s\u001b[0m 42ms/step\n",
            "\u001b[1m1/1\u001b[0m \u001b[32m━━━━━━━━━━━━━━━━━━━━\u001b[0m\u001b[37m\u001b[0m \u001b[1m0s\u001b[0m 33ms/step\n",
            "\u001b[1m1/1\u001b[0m \u001b[32m━━━━━━━━━━━━━━━━━━━━\u001b[0m\u001b[37m\u001b[0m \u001b[1m0s\u001b[0m 33ms/step\n",
            "\u001b[1m1/1\u001b[0m \u001b[32m━━━━━━━━━━━━━━━━━━━━\u001b[0m\u001b[37m\u001b[0m \u001b[1m0s\u001b[0m 33ms/step\n",
            "\u001b[1m1/1\u001b[0m \u001b[32m━━━━━━━━━━━━━━━━━━━━\u001b[0m\u001b[37m\u001b[0m \u001b[1m0s\u001b[0m 40ms/step\n",
            "\u001b[1m1/1\u001b[0m \u001b[32m━━━━━━━━━━━━━━━━━━━━\u001b[0m\u001b[37m\u001b[0m \u001b[1m0s\u001b[0m 37ms/step\n",
            "\u001b[1m1/1\u001b[0m \u001b[32m━━━━━━━━━━━━━━━━━━━━\u001b[0m\u001b[37m\u001b[0m \u001b[1m0s\u001b[0m 35ms/step\n",
            "\u001b[1m1/1\u001b[0m \u001b[32m━━━━━━━━━━━━━━━━━━━━\u001b[0m\u001b[37m\u001b[0m \u001b[1m0s\u001b[0m 36ms/step\n",
            "\u001b[1m1/1\u001b[0m \u001b[32m━━━━━━━━━━━━━━━━━━━━\u001b[0m\u001b[37m\u001b[0m \u001b[1m0s\u001b[0m 37ms/step\n",
            "\u001b[1m1/1\u001b[0m \u001b[32m━━━━━━━━━━━━━━━━━━━━\u001b[0m\u001b[37m\u001b[0m \u001b[1m0s\u001b[0m 35ms/step\n",
            "\u001b[1m1/1\u001b[0m \u001b[32m━━━━━━━━━━━━━━━━━━━━\u001b[0m\u001b[37m\u001b[0m \u001b[1m0s\u001b[0m 34ms/step\n",
            "\u001b[1m1/1\u001b[0m \u001b[32m━━━━━━━━━━━━━━━━━━━━\u001b[0m\u001b[37m\u001b[0m \u001b[1m0s\u001b[0m 33ms/step\n",
            "\u001b[1m1/1\u001b[0m \u001b[32m━━━━━━━━━━━━━━━━━━━━\u001b[0m\u001b[37m\u001b[0m \u001b[1m0s\u001b[0m 36ms/step\n",
            "\u001b[1m1/1\u001b[0m \u001b[32m━━━━━━━━━━━━━━━━━━━━\u001b[0m\u001b[37m\u001b[0m \u001b[1m0s\u001b[0m 35ms/step\n",
            "\u001b[1m1/1\u001b[0m \u001b[32m━━━━━━━━━━━━━━━━━━━━\u001b[0m\u001b[37m\u001b[0m \u001b[1m0s\u001b[0m 33ms/step\n",
            "\u001b[1m1/1\u001b[0m \u001b[32m━━━━━━━━━━━━━━━━━━━━\u001b[0m\u001b[37m\u001b[0m \u001b[1m0s\u001b[0m 32ms/step\n",
            "\u001b[1m1/1\u001b[0m \u001b[32m━━━━━━━━━━━━━━━━━━━━\u001b[0m\u001b[37m\u001b[0m \u001b[1m0s\u001b[0m 38ms/step\n",
            "\u001b[1m1/1\u001b[0m \u001b[32m━━━━━━━━━━━━━━━━━━━━\u001b[0m\u001b[37m\u001b[0m \u001b[1m0s\u001b[0m 38ms/step\n",
            "\u001b[1m1/1\u001b[0m \u001b[32m━━━━━━━━━━━━━━━━━━━━\u001b[0m\u001b[37m\u001b[0m \u001b[1m0s\u001b[0m 35ms/step\n",
            "\u001b[1m1/1\u001b[0m \u001b[32m━━━━━━━━━━━━━━━━━━━━\u001b[0m\u001b[37m\u001b[0m \u001b[1m0s\u001b[0m 45ms/step\n",
            "\u001b[1m1/1\u001b[0m \u001b[32m━━━━━━━━━━━━━━━━━━━━\u001b[0m\u001b[37m\u001b[0m \u001b[1m0s\u001b[0m 45ms/step\n",
            "\u001b[1m1/1\u001b[0m \u001b[32m━━━━━━━━━━━━━━━━━━━━\u001b[0m\u001b[37m\u001b[0m \u001b[1m0s\u001b[0m 42ms/step\n",
            "\u001b[1m1/1\u001b[0m \u001b[32m━━━━━━━━━━━━━━━━━━━━\u001b[0m\u001b[37m\u001b[0m \u001b[1m0s\u001b[0m 40ms/step\n",
            "\u001b[1m1/1\u001b[0m \u001b[32m━━━━━━━━━━━━━━━━━━━━\u001b[0m\u001b[37m\u001b[0m \u001b[1m0s\u001b[0m 42ms/step\n",
            "\u001b[1m1/1\u001b[0m \u001b[32m━━━━━━━━━━━━━━━━━━━━\u001b[0m\u001b[37m\u001b[0m \u001b[1m0s\u001b[0m 37ms/step\n",
            "\u001b[1m1/1\u001b[0m \u001b[32m━━━━━━━━━━━━━━━━━━━━\u001b[0m\u001b[37m\u001b[0m \u001b[1m0s\u001b[0m 33ms/step\n",
            "\u001b[1m1/1\u001b[0m \u001b[32m━━━━━━━━━━━━━━━━━━━━\u001b[0m\u001b[37m\u001b[0m \u001b[1m0s\u001b[0m 32ms/step\n",
            "\u001b[1m1/1\u001b[0m \u001b[32m━━━━━━━━━━━━━━━━━━━━\u001b[0m\u001b[37m\u001b[0m \u001b[1m0s\u001b[0m 32ms/step\n",
            "\u001b[1m1/1\u001b[0m \u001b[32m━━━━━━━━━━━━━━━━━━━━\u001b[0m\u001b[37m\u001b[0m \u001b[1m0s\u001b[0m 35ms/step\n",
            "\u001b[1m1/1\u001b[0m \u001b[32m━━━━━━━━━━━━━━━━━━━━\u001b[0m\u001b[37m\u001b[0m \u001b[1m0s\u001b[0m 37ms/step\n",
            "\u001b[1m1/1\u001b[0m \u001b[32m━━━━━━━━━━━━━━━━━━━━\u001b[0m\u001b[37m\u001b[0m \u001b[1m0s\u001b[0m 39ms/step\n",
            "\u001b[1m1/1\u001b[0m \u001b[32m━━━━━━━━━━━━━━━━━━━━\u001b[0m\u001b[37m\u001b[0m \u001b[1m0s\u001b[0m 40ms/step\n",
            "\u001b[1m1/1\u001b[0m \u001b[32m━━━━━━━━━━━━━━━━━━━━\u001b[0m\u001b[37m\u001b[0m \u001b[1m0s\u001b[0m 37ms/step\n",
            "\u001b[1m1/1\u001b[0m \u001b[32m━━━━━━━━━━━━━━━━━━━━\u001b[0m\u001b[37m\u001b[0m \u001b[1m0s\u001b[0m 38ms/step\n",
            "\u001b[1m1/1\u001b[0m \u001b[32m━━━━━━━━━━━━━━━━━━━━\u001b[0m\u001b[37m\u001b[0m \u001b[1m0s\u001b[0m 33ms/step\n",
            "\u001b[1m1/1\u001b[0m \u001b[32m━━━━━━━━━━━━━━━━━━━━\u001b[0m\u001b[37m\u001b[0m \u001b[1m0s\u001b[0m 36ms/step\n",
            "\u001b[1m1/1\u001b[0m \u001b[32m━━━━━━━━━━━━━━━━━━━━\u001b[0m\u001b[37m\u001b[0m \u001b[1m0s\u001b[0m 37ms/step\n",
            "\u001b[1m1/1\u001b[0m \u001b[32m━━━━━━━━━━━━━━━━━━━━\u001b[0m\u001b[37m\u001b[0m \u001b[1m0s\u001b[0m 33ms/step\n",
            "\u001b[1m1/1\u001b[0m \u001b[32m━━━━━━━━━━━━━━━━━━━━\u001b[0m\u001b[37m\u001b[0m \u001b[1m0s\u001b[0m 32ms/step\n",
            "\u001b[1m1/1\u001b[0m \u001b[32m━━━━━━━━━━━━━━━━━━━━\u001b[0m\u001b[37m\u001b[0m \u001b[1m0s\u001b[0m 45ms/step\n",
            "\u001b[1m1/1\u001b[0m \u001b[32m━━━━━━━━━━━━━━━━━━━━\u001b[0m\u001b[37m\u001b[0m \u001b[1m0s\u001b[0m 39ms/step\n",
            "\u001b[1m1/1\u001b[0m \u001b[32m━━━━━━━━━━━━━━━━━━━━\u001b[0m\u001b[37m\u001b[0m \u001b[1m0s\u001b[0m 37ms/step\n",
            "\u001b[1m1/1\u001b[0m \u001b[32m━━━━━━━━━━━━━━━━━━━━\u001b[0m\u001b[37m\u001b[0m \u001b[1m0s\u001b[0m 37ms/step\n",
            "\u001b[1m1/1\u001b[0m \u001b[32m━━━━━━━━━━━━━━━━━━━━\u001b[0m\u001b[37m\u001b[0m \u001b[1m0s\u001b[0m 37ms/step\n",
            "\u001b[1m1/1\u001b[0m \u001b[32m━━━━━━━━━━━━━━━━━━━━\u001b[0m\u001b[37m\u001b[0m \u001b[1m0s\u001b[0m 35ms/step\n",
            "\u001b[1m1/1\u001b[0m \u001b[32m━━━━━━━━━━━━━━━━━━━━\u001b[0m\u001b[37m\u001b[0m \u001b[1m0s\u001b[0m 38ms/step\n",
            "\u001b[1m1/1\u001b[0m \u001b[32m━━━━━━━━━━━━━━━━━━━━\u001b[0m\u001b[37m\u001b[0m \u001b[1m0s\u001b[0m 37ms/step\n",
            "\u001b[1m1/1\u001b[0m \u001b[32m━━━━━━━━━━━━━━━━━━━━\u001b[0m\u001b[37m\u001b[0m \u001b[1m0s\u001b[0m 35ms/step\n",
            "\u001b[1m1/1\u001b[0m \u001b[32m━━━━━━━━━━━━━━━━━━━━\u001b[0m\u001b[37m\u001b[0m \u001b[1m0s\u001b[0m 32ms/step\n",
            "\u001b[1m1/1\u001b[0m \u001b[32m━━━━━━━━━━━━━━━━━━━━\u001b[0m\u001b[37m\u001b[0m \u001b[1m0s\u001b[0m 36ms/step\n",
            "\u001b[1m1/1\u001b[0m \u001b[32m━━━━━━━━━━━━━━━━━━━━\u001b[0m\u001b[37m\u001b[0m \u001b[1m0s\u001b[0m 34ms/step\n",
            "\u001b[1m1/1\u001b[0m \u001b[32m━━━━━━━━━━━━━━━━━━━━\u001b[0m\u001b[37m\u001b[0m \u001b[1m0s\u001b[0m 35ms/step\n",
            "\u001b[1m1/1\u001b[0m \u001b[32m━━━━━━━━━━━━━━━━━━━━\u001b[0m\u001b[37m\u001b[0m \u001b[1m0s\u001b[0m 37ms/step\n",
            "\u001b[1m1/1\u001b[0m \u001b[32m━━━━━━━━━━━━━━━━━━━━\u001b[0m\u001b[37m\u001b[0m \u001b[1m0s\u001b[0m 47ms/step\n",
            "\u001b[1m1/1\u001b[0m \u001b[32m━━━━━━━━━━━━━━━━━━━━\u001b[0m\u001b[37m\u001b[0m \u001b[1m0s\u001b[0m 38ms/step\n",
            "\u001b[1m1/1\u001b[0m \u001b[32m━━━━━━━━━━━━━━━━━━━━\u001b[0m\u001b[37m\u001b[0m \u001b[1m0s\u001b[0m 38ms/step\n",
            "\u001b[1m1/1\u001b[0m \u001b[32m━━━━━━━━━━━━━━━━━━━━\u001b[0m\u001b[37m\u001b[0m \u001b[1m0s\u001b[0m 36ms/step\n",
            "\u001b[1m1/1\u001b[0m \u001b[32m━━━━━━━━━━━━━━━━━━━━\u001b[0m\u001b[37m\u001b[0m \u001b[1m0s\u001b[0m 35ms/step\n",
            "\u001b[1m1/1\u001b[0m \u001b[32m━━━━━━━━━━━━━━━━━━━━\u001b[0m\u001b[37m\u001b[0m \u001b[1m0s\u001b[0m 43ms/step\n",
            "\u001b[1m1/1\u001b[0m \u001b[32m━━━━━━━━━━━━━━━━━━━━\u001b[0m\u001b[37m\u001b[0m \u001b[1m0s\u001b[0m 33ms/step\n",
            "\u001b[1m1/1\u001b[0m \u001b[32m━━━━━━━━━━━━━━━━━━━━\u001b[0m\u001b[37m\u001b[0m \u001b[1m0s\u001b[0m 36ms/step\n",
            "\u001b[1m1/1\u001b[0m \u001b[32m━━━━━━━━━━━━━━━━━━━━\u001b[0m\u001b[37m\u001b[0m \u001b[1m0s\u001b[0m 34ms/step\n",
            "\u001b[1m1/1\u001b[0m \u001b[32m━━━━━━━━━━━━━━━━━━━━\u001b[0m\u001b[37m\u001b[0m \u001b[1m0s\u001b[0m 33ms/step\n",
            "\u001b[1m1/1\u001b[0m \u001b[32m━━━━━━━━━━━━━━━━━━━━\u001b[0m\u001b[37m\u001b[0m \u001b[1m0s\u001b[0m 37ms/step\n",
            "\u001b[1m1/1\u001b[0m \u001b[32m━━━━━━━━━━━━━━━━━━━━\u001b[0m\u001b[37m\u001b[0m \u001b[1m0s\u001b[0m 36ms/step\n",
            "\u001b[1m1/1\u001b[0m \u001b[32m━━━━━━━━━━━━━━━━━━━━\u001b[0m\u001b[37m\u001b[0m \u001b[1m0s\u001b[0m 37ms/step\n",
            "\u001b[1m1/1\u001b[0m \u001b[32m━━━━━━━━━━━━━━━━━━━━\u001b[0m\u001b[37m\u001b[0m \u001b[1m0s\u001b[0m 35ms/step\n",
            "\u001b[1m1/1\u001b[0m \u001b[32m━━━━━━━━━━━━━━━━━━━━\u001b[0m\u001b[37m\u001b[0m \u001b[1m0s\u001b[0m 39ms/step\n",
            "\u001b[1m1/1\u001b[0m \u001b[32m━━━━━━━━━━━━━━━━━━━━\u001b[0m\u001b[37m\u001b[0m \u001b[1m0s\u001b[0m 35ms/step\n",
            "\u001b[1m1/1\u001b[0m \u001b[32m━━━━━━━━━━━━━━━━━━━━\u001b[0m\u001b[37m\u001b[0m \u001b[1m0s\u001b[0m 41ms/step\n",
            "\u001b[1m1/1\u001b[0m \u001b[32m━━━━━━━━━━━━━━━━━━━━\u001b[0m\u001b[37m\u001b[0m \u001b[1m0s\u001b[0m 37ms/step\n",
            "\u001b[1m1/1\u001b[0m \u001b[32m━━━━━━━━━━━━━━━━━━━━\u001b[0m\u001b[37m\u001b[0m \u001b[1m0s\u001b[0m 36ms/step\n",
            "\u001b[1m1/1\u001b[0m \u001b[32m━━━━━━━━━━━━━━━━━━━━\u001b[0m\u001b[37m\u001b[0m \u001b[1m0s\u001b[0m 41ms/step\n",
            "\u001b[1m1/1\u001b[0m \u001b[32m━━━━━━━━━━━━━━━━━━━━\u001b[0m\u001b[37m\u001b[0m \u001b[1m0s\u001b[0m 34ms/step\n",
            "\u001b[1m1/1\u001b[0m \u001b[32m━━━━━━━━━━━━━━━━━━━━\u001b[0m\u001b[37m\u001b[0m \u001b[1m0s\u001b[0m 37ms/step\n",
            "\u001b[1m1/1\u001b[0m \u001b[32m━━━━━━━━━━━━━━━━━━━━\u001b[0m\u001b[37m\u001b[0m \u001b[1m0s\u001b[0m 36ms/step\n",
            "\u001b[1m1/1\u001b[0m \u001b[32m━━━━━━━━━━━━━━━━━━━━\u001b[0m\u001b[37m\u001b[0m \u001b[1m0s\u001b[0m 40ms/step\n",
            "\u001b[1m1/1\u001b[0m \u001b[32m━━━━━━━━━━━━━━━━━━━━\u001b[0m\u001b[37m\u001b[0m \u001b[1m0s\u001b[0m 36ms/step\n",
            "\u001b[1m1/1\u001b[0m \u001b[32m━━━━━━━━━━━━━━━━━━━━\u001b[0m\u001b[37m\u001b[0m \u001b[1m0s\u001b[0m 39ms/step\n",
            "\u001b[1m1/1\u001b[0m \u001b[32m━━━━━━━━━━━━━━━━━━━━\u001b[0m\u001b[37m\u001b[0m \u001b[1m0s\u001b[0m 41ms/step\n",
            "\u001b[1m1/1\u001b[0m \u001b[32m━━━━━━━━━━━━━━━━━━━━\u001b[0m\u001b[37m\u001b[0m \u001b[1m0s\u001b[0m 37ms/step\n",
            "\u001b[1m1/1\u001b[0m \u001b[32m━━━━━━━━━━━━━━━━━━━━\u001b[0m\u001b[37m\u001b[0m \u001b[1m0s\u001b[0m 38ms/step\n",
            "\u001b[1m1/1\u001b[0m \u001b[32m━━━━━━━━━━━━━━━━━━━━\u001b[0m\u001b[37m\u001b[0m \u001b[1m0s\u001b[0m 60ms/step\n",
            "\u001b[1m1/1\u001b[0m \u001b[32m━━━━━━━━━━━━━━━━━━━━\u001b[0m\u001b[37m\u001b[0m \u001b[1m0s\u001b[0m 54ms/step\n",
            "\u001b[1m1/1\u001b[0m \u001b[32m━━━━━━━━━━━━━━━━━━━━\u001b[0m\u001b[37m\u001b[0m \u001b[1m0s\u001b[0m 57ms/step\n",
            "\u001b[1m1/1\u001b[0m \u001b[32m━━━━━━━━━━━━━━━━━━━━\u001b[0m\u001b[37m\u001b[0m \u001b[1m0s\u001b[0m 58ms/step\n",
            "\u001b[1m1/1\u001b[0m \u001b[32m━━━━━━━━━━━━━━━━━━━━\u001b[0m\u001b[37m\u001b[0m \u001b[1m0s\u001b[0m 54ms/step\n",
            "\u001b[1m1/1\u001b[0m \u001b[32m━━━━━━━━━━━━━━━━━━━━\u001b[0m\u001b[37m\u001b[0m \u001b[1m0s\u001b[0m 53ms/step\n",
            "\u001b[1m1/1\u001b[0m \u001b[32m━━━━━━━━━━━━━━━━━━━━\u001b[0m\u001b[37m\u001b[0m \u001b[1m0s\u001b[0m 61ms/step\n",
            "\u001b[1m1/1\u001b[0m \u001b[32m━━━━━━━━━━━━━━━━━━━━\u001b[0m\u001b[37m\u001b[0m \u001b[1m0s\u001b[0m 58ms/step\n",
            "Processing example 30/50\n",
            "\u001b[1m1/1\u001b[0m \u001b[32m━━━━━━━━━━━━━━━━━━━━\u001b[0m\u001b[37m\u001b[0m \u001b[1m0s\u001b[0m 44ms/step\n",
            "\u001b[1m1/1\u001b[0m \u001b[32m━━━━━━━━━━━━━━━━━━━━\u001b[0m\u001b[37m\u001b[0m \u001b[1m0s\u001b[0m 54ms/step\n",
            "\u001b[1m1/1\u001b[0m \u001b[32m━━━━━━━━━━━━━━━━━━━━\u001b[0m\u001b[37m\u001b[0m \u001b[1m0s\u001b[0m 47ms/step\n",
            "\u001b[1m1/1\u001b[0m \u001b[32m━━━━━━━━━━━━━━━━━━━━\u001b[0m\u001b[37m\u001b[0m \u001b[1m0s\u001b[0m 51ms/step\n",
            "\u001b[1m1/1\u001b[0m \u001b[32m━━━━━━━━━━━━━━━━━━━━\u001b[0m\u001b[37m\u001b[0m \u001b[1m0s\u001b[0m 50ms/step\n",
            "\u001b[1m1/1\u001b[0m \u001b[32m━━━━━━━━━━━━━━━━━━━━\u001b[0m\u001b[37m\u001b[0m \u001b[1m0s\u001b[0m 50ms/step\n",
            "\u001b[1m1/1\u001b[0m \u001b[32m━━━━━━━━━━━━━━━━━━━━\u001b[0m\u001b[37m\u001b[0m \u001b[1m0s\u001b[0m 55ms/step\n",
            "\u001b[1m1/1\u001b[0m \u001b[32m━━━━━━━━━━━━━━━━━━━━\u001b[0m\u001b[37m\u001b[0m \u001b[1m0s\u001b[0m 54ms/step\n",
            "\u001b[1m1/1\u001b[0m \u001b[32m━━━━━━━━━━━━━━━━━━━━\u001b[0m\u001b[37m\u001b[0m \u001b[1m0s\u001b[0m 55ms/step\n",
            "\u001b[1m1/1\u001b[0m \u001b[32m━━━━━━━━━━━━━━━━━━━━\u001b[0m\u001b[37m\u001b[0m \u001b[1m0s\u001b[0m 54ms/step\n",
            "\u001b[1m1/1\u001b[0m \u001b[32m━━━━━━━━━━━━━━━━━━━━\u001b[0m\u001b[37m\u001b[0m \u001b[1m0s\u001b[0m 57ms/step\n",
            "\u001b[1m1/1\u001b[0m \u001b[32m━━━━━━━━━━━━━━━━━━━━\u001b[0m\u001b[37m\u001b[0m \u001b[1m0s\u001b[0m 55ms/step\n",
            "\u001b[1m1/1\u001b[0m \u001b[32m━━━━━━━━━━━━━━━━━━━━\u001b[0m\u001b[37m\u001b[0m \u001b[1m0s\u001b[0m 54ms/step\n",
            "\u001b[1m1/1\u001b[0m \u001b[32m━━━━━━━━━━━━━━━━━━━━\u001b[0m\u001b[37m\u001b[0m \u001b[1m0s\u001b[0m 54ms/step\n",
            "\u001b[1m1/1\u001b[0m \u001b[32m━━━━━━━━━━━━━━━━━━━━\u001b[0m\u001b[37m\u001b[0m \u001b[1m0s\u001b[0m 55ms/step\n",
            "\u001b[1m1/1\u001b[0m \u001b[32m━━━━━━━━━━━━━━━━━━━━\u001b[0m\u001b[37m\u001b[0m \u001b[1m0s\u001b[0m 51ms/step\n",
            "\u001b[1m1/1\u001b[0m \u001b[32m━━━━━━━━━━━━━━━━━━━━\u001b[0m\u001b[37m\u001b[0m \u001b[1m0s\u001b[0m 51ms/step\n",
            "\u001b[1m1/1\u001b[0m \u001b[32m━━━━━━━━━━━━━━━━━━━━\u001b[0m\u001b[37m\u001b[0m \u001b[1m0s\u001b[0m 60ms/step\n",
            "\u001b[1m1/1\u001b[0m \u001b[32m━━━━━━━━━━━━━━━━━━━━\u001b[0m\u001b[37m\u001b[0m \u001b[1m0s\u001b[0m 35ms/step\n",
            "\u001b[1m1/1\u001b[0m \u001b[32m━━━━━━━━━━━━━━━━━━━━\u001b[0m\u001b[37m\u001b[0m \u001b[1m0s\u001b[0m 33ms/step\n",
            "\u001b[1m1/1\u001b[0m \u001b[32m━━━━━━━━━━━━━━━━━━━━\u001b[0m\u001b[37m\u001b[0m \u001b[1m0s\u001b[0m 33ms/step\n",
            "\u001b[1m1/1\u001b[0m \u001b[32m━━━━━━━━━━━━━━━━━━━━\u001b[0m\u001b[37m\u001b[0m \u001b[1m0s\u001b[0m 33ms/step\n",
            "\u001b[1m1/1\u001b[0m \u001b[32m━━━━━━━━━━━━━━━━━━━━\u001b[0m\u001b[37m\u001b[0m \u001b[1m0s\u001b[0m 42ms/step\n",
            "\u001b[1m1/1\u001b[0m \u001b[32m━━━━━━━━━━━━━━━━━━━━\u001b[0m\u001b[37m\u001b[0m \u001b[1m0s\u001b[0m 47ms/step\n",
            "\u001b[1m1/1\u001b[0m \u001b[32m━━━━━━━━━━━━━━━━━━━━\u001b[0m\u001b[37m\u001b[0m \u001b[1m0s\u001b[0m 42ms/step\n",
            "\u001b[1m1/1\u001b[0m \u001b[32m━━━━━━━━━━━━━━━━━━━━\u001b[0m\u001b[37m\u001b[0m \u001b[1m0s\u001b[0m 37ms/step\n",
            "\u001b[1m1/1\u001b[0m \u001b[32m━━━━━━━━━━━━━━━━━━━━\u001b[0m\u001b[37m\u001b[0m \u001b[1m0s\u001b[0m 36ms/step\n",
            "\u001b[1m1/1\u001b[0m \u001b[32m━━━━━━━━━━━━━━━━━━━━\u001b[0m\u001b[37m\u001b[0m \u001b[1m0s\u001b[0m 37ms/step\n",
            "\u001b[1m1/1\u001b[0m \u001b[32m━━━━━━━━━━━━━━━━━━━━\u001b[0m\u001b[37m\u001b[0m \u001b[1m0s\u001b[0m 37ms/step\n",
            "\u001b[1m1/1\u001b[0m \u001b[32m━━━━━━━━━━━━━━━━━━━━\u001b[0m\u001b[37m\u001b[0m \u001b[1m0s\u001b[0m 37ms/step\n",
            "\u001b[1m1/1\u001b[0m \u001b[32m━━━━━━━━━━━━━━━━━━━━\u001b[0m\u001b[37m\u001b[0m \u001b[1m0s\u001b[0m 37ms/step\n",
            "\u001b[1m1/1\u001b[0m \u001b[32m━━━━━━━━━━━━━━━━━━━━\u001b[0m\u001b[37m\u001b[0m \u001b[1m0s\u001b[0m 36ms/step\n",
            "\u001b[1m1/1\u001b[0m \u001b[32m━━━━━━━━━━━━━━━━━━━━\u001b[0m\u001b[37m\u001b[0m \u001b[1m0s\u001b[0m 36ms/step\n",
            "\u001b[1m1/1\u001b[0m \u001b[32m━━━━━━━━━━━━━━━━━━━━\u001b[0m\u001b[37m\u001b[0m \u001b[1m0s\u001b[0m 37ms/step\n",
            "\u001b[1m1/1\u001b[0m \u001b[32m━━━━━━━━━━━━━━━━━━━━\u001b[0m\u001b[37m\u001b[0m \u001b[1m0s\u001b[0m 53ms/step\n",
            "\u001b[1m1/1\u001b[0m \u001b[32m━━━━━━━━━━━━━━━━━━━━\u001b[0m\u001b[37m\u001b[0m \u001b[1m0s\u001b[0m 38ms/step\n",
            "\u001b[1m1/1\u001b[0m \u001b[32m━━━━━━━━━━━━━━━━━━━━\u001b[0m\u001b[37m\u001b[0m \u001b[1m0s\u001b[0m 38ms/step\n",
            "\u001b[1m1/1\u001b[0m \u001b[32m━━━━━━━━━━━━━━━━━━━━\u001b[0m\u001b[37m\u001b[0m \u001b[1m0s\u001b[0m 37ms/step\n",
            "\u001b[1m1/1\u001b[0m \u001b[32m━━━━━━━━━━━━━━━━━━━━\u001b[0m\u001b[37m\u001b[0m \u001b[1m0s\u001b[0m 34ms/step\n",
            "\u001b[1m1/1\u001b[0m \u001b[32m━━━━━━━━━━━━━━━━━━━━\u001b[0m\u001b[37m\u001b[0m \u001b[1m0s\u001b[0m 34ms/step\n",
            "\u001b[1m1/1\u001b[0m \u001b[32m━━━━━━━━━━━━━━━━━━━━\u001b[0m\u001b[37m\u001b[0m \u001b[1m0s\u001b[0m 34ms/step\n",
            "\u001b[1m1/1\u001b[0m \u001b[32m━━━━━━━━━━━━━━━━━━━━\u001b[0m\u001b[37m\u001b[0m \u001b[1m0s\u001b[0m 34ms/step\n",
            "\u001b[1m1/1\u001b[0m \u001b[32m━━━━━━━━━━━━━━━━━━━━\u001b[0m\u001b[37m\u001b[0m \u001b[1m0s\u001b[0m 31ms/step\n",
            "\u001b[1m1/1\u001b[0m \u001b[32m━━━━━━━━━━━━━━━━━━━━\u001b[0m\u001b[37m\u001b[0m \u001b[1m0s\u001b[0m 33ms/step\n",
            "\u001b[1m1/1\u001b[0m \u001b[32m━━━━━━━━━━━━━━━━━━━━\u001b[0m\u001b[37m\u001b[0m \u001b[1m0s\u001b[0m 38ms/step\n",
            "\u001b[1m1/1\u001b[0m \u001b[32m━━━━━━━━━━━━━━━━━━━━\u001b[0m\u001b[37m\u001b[0m \u001b[1m0s\u001b[0m 36ms/step\n",
            "\u001b[1m1/1\u001b[0m \u001b[32m━━━━━━━━━━━━━━━━━━━━\u001b[0m\u001b[37m\u001b[0m \u001b[1m0s\u001b[0m 39ms/step\n",
            "\u001b[1m1/1\u001b[0m \u001b[32m━━━━━━━━━━━━━━━━━━━━\u001b[0m\u001b[37m\u001b[0m \u001b[1m0s\u001b[0m 39ms/step\n",
            "\u001b[1m1/1\u001b[0m \u001b[32m━━━━━━━━━━━━━━━━━━━━\u001b[0m\u001b[37m\u001b[0m \u001b[1m0s\u001b[0m 37ms/step\n",
            "\u001b[1m1/1\u001b[0m \u001b[32m━━━━━━━━━━━━━━━━━━━━\u001b[0m\u001b[37m\u001b[0m \u001b[1m0s\u001b[0m 38ms/step\n",
            "\u001b[1m1/1\u001b[0m \u001b[32m━━━━━━━━━━━━━━━━━━━━\u001b[0m\u001b[37m\u001b[0m \u001b[1m0s\u001b[0m 36ms/step\n",
            "\u001b[1m1/1\u001b[0m \u001b[32m━━━━━━━━━━━━━━━━━━━━\u001b[0m\u001b[37m\u001b[0m \u001b[1m0s\u001b[0m 36ms/step\n",
            "\u001b[1m1/1\u001b[0m \u001b[32m━━━━━━━━━━━━━━━━━━━━\u001b[0m\u001b[37m\u001b[0m \u001b[1m0s\u001b[0m 35ms/step\n",
            "\u001b[1m1/1\u001b[0m \u001b[32m━━━━━━━━━━━━━━━━━━━━\u001b[0m\u001b[37m\u001b[0m \u001b[1m0s\u001b[0m 36ms/step\n",
            "\u001b[1m1/1\u001b[0m \u001b[32m━━━━━━━━━━━━━━━━━━━━\u001b[0m\u001b[37m\u001b[0m \u001b[1m0s\u001b[0m 37ms/step\n",
            "\u001b[1m1/1\u001b[0m \u001b[32m━━━━━━━━━━━━━━━━━━━━\u001b[0m\u001b[37m\u001b[0m \u001b[1m0s\u001b[0m 34ms/step\n",
            "\u001b[1m1/1\u001b[0m \u001b[32m━━━━━━━━━━━━━━━━━━━━\u001b[0m\u001b[37m\u001b[0m \u001b[1m0s\u001b[0m 35ms/step\n",
            "\u001b[1m1/1\u001b[0m \u001b[32m━━━━━━━━━━━━━━━━━━━━\u001b[0m\u001b[37m\u001b[0m \u001b[1m0s\u001b[0m 34ms/step\n",
            "\u001b[1m1/1\u001b[0m \u001b[32m━━━━━━━━━━━━━━━━━━━━\u001b[0m\u001b[37m\u001b[0m \u001b[1m0s\u001b[0m 36ms/step\n",
            "\u001b[1m1/1\u001b[0m \u001b[32m━━━━━━━━━━━━━━━━━━━━\u001b[0m\u001b[37m\u001b[0m \u001b[1m0s\u001b[0m 37ms/step\n",
            "\u001b[1m1/1\u001b[0m \u001b[32m━━━━━━━━━━━━━━━━━━━━\u001b[0m\u001b[37m\u001b[0m \u001b[1m0s\u001b[0m 37ms/step\n",
            "\u001b[1m1/1\u001b[0m \u001b[32m━━━━━━━━━━━━━━━━━━━━\u001b[0m\u001b[37m\u001b[0m \u001b[1m0s\u001b[0m 35ms/step\n",
            "\u001b[1m1/1\u001b[0m \u001b[32m━━━━━━━━━━━━━━━━━━━━\u001b[0m\u001b[37m\u001b[0m \u001b[1m0s\u001b[0m 35ms/step\n",
            "\u001b[1m1/1\u001b[0m \u001b[32m━━━━━━━━━━━━━━━━━━━━\u001b[0m\u001b[37m\u001b[0m \u001b[1m0s\u001b[0m 35ms/step\n",
            "\u001b[1m1/1\u001b[0m \u001b[32m━━━━━━━━━━━━━━━━━━━━\u001b[0m\u001b[37m\u001b[0m \u001b[1m0s\u001b[0m 37ms/step\n",
            "\u001b[1m1/1\u001b[0m \u001b[32m━━━━━━━━━━━━━━━━━━━━\u001b[0m\u001b[37m\u001b[0m \u001b[1m0s\u001b[0m 35ms/step\n",
            "\u001b[1m1/1\u001b[0m \u001b[32m━━━━━━━━━━━━━━━━━━━━\u001b[0m\u001b[37m\u001b[0m \u001b[1m0s\u001b[0m 36ms/step\n",
            "\u001b[1m1/1\u001b[0m \u001b[32m━━━━━━━━━━━━━━━━━━━━\u001b[0m\u001b[37m\u001b[0m \u001b[1m0s\u001b[0m 37ms/step\n",
            "\u001b[1m1/1\u001b[0m \u001b[32m━━━━━━━━━━━━━━━━━━━━\u001b[0m\u001b[37m\u001b[0m \u001b[1m0s\u001b[0m 37ms/step\n",
            "\u001b[1m1/1\u001b[0m \u001b[32m━━━━━━━━━━━━━━━━━━━━\u001b[0m\u001b[37m\u001b[0m \u001b[1m0s\u001b[0m 36ms/step\n",
            "\u001b[1m1/1\u001b[0m \u001b[32m━━━━━━━━━━━━━━━━━━━━\u001b[0m\u001b[37m\u001b[0m \u001b[1m0s\u001b[0m 36ms/step\n",
            "\u001b[1m1/1\u001b[0m \u001b[32m━━━━━━━━━━━━━━━━━━━━\u001b[0m\u001b[37m\u001b[0m \u001b[1m0s\u001b[0m 37ms/step\n",
            "\u001b[1m1/1\u001b[0m \u001b[32m━━━━━━━━━━━━━━━━━━━━\u001b[0m\u001b[37m\u001b[0m \u001b[1m0s\u001b[0m 36ms/step\n",
            "\u001b[1m1/1\u001b[0m \u001b[32m━━━━━━━━━━━━━━━━━━━━\u001b[0m\u001b[37m\u001b[0m \u001b[1m0s\u001b[0m 54ms/step\n",
            "\u001b[1m1/1\u001b[0m \u001b[32m━━━━━━━━━━━━━━━━━━━━\u001b[0m\u001b[37m\u001b[0m \u001b[1m0s\u001b[0m 38ms/step\n",
            "\u001b[1m1/1\u001b[0m \u001b[32m━━━━━━━━━━━━━━━━━━━━\u001b[0m\u001b[37m\u001b[0m \u001b[1m0s\u001b[0m 39ms/step\n",
            "\u001b[1m1/1\u001b[0m \u001b[32m━━━━━━━━━━━━━━━━━━━━\u001b[0m\u001b[37m\u001b[0m \u001b[1m0s\u001b[0m 36ms/step\n",
            "\u001b[1m1/1\u001b[0m \u001b[32m━━━━━━━━━━━━━━━━━━━━\u001b[0m\u001b[37m\u001b[0m \u001b[1m0s\u001b[0m 39ms/step\n",
            "\u001b[1m1/1\u001b[0m \u001b[32m━━━━━━━━━━━━━━━━━━━━\u001b[0m\u001b[37m\u001b[0m \u001b[1m0s\u001b[0m 37ms/step\n",
            "\u001b[1m1/1\u001b[0m \u001b[32m━━━━━━━━━━━━━━━━━━━━\u001b[0m\u001b[37m\u001b[0m \u001b[1m0s\u001b[0m 36ms/step\n",
            "\u001b[1m1/1\u001b[0m \u001b[32m━━━━━━━━━━━━━━━━━━━━\u001b[0m\u001b[37m\u001b[0m \u001b[1m0s\u001b[0m 37ms/step\n",
            "\u001b[1m1/1\u001b[0m \u001b[32m━━━━━━━━━━━━━━━━━━━━\u001b[0m\u001b[37m\u001b[0m \u001b[1m0s\u001b[0m 38ms/step\n",
            "\u001b[1m1/1\u001b[0m \u001b[32m━━━━━━━━━━━━━━━━━━━━\u001b[0m\u001b[37m\u001b[0m \u001b[1m0s\u001b[0m 45ms/step\n",
            "\u001b[1m1/1\u001b[0m \u001b[32m━━━━━━━━━━━━━━━━━━━━\u001b[0m\u001b[37m\u001b[0m \u001b[1m0s\u001b[0m 40ms/step\n",
            "\u001b[1m1/1\u001b[0m \u001b[32m━━━━━━━━━━━━━━━━━━━━\u001b[0m\u001b[37m\u001b[0m \u001b[1m0s\u001b[0m 35ms/step\n",
            "\u001b[1m1/1\u001b[0m \u001b[32m━━━━━━━━━━━━━━━━━━━━\u001b[0m\u001b[37m\u001b[0m \u001b[1m0s\u001b[0m 38ms/step\n",
            "\u001b[1m1/1\u001b[0m \u001b[32m━━━━━━━━━━━━━━━━━━━━\u001b[0m\u001b[37m\u001b[0m \u001b[1m0s\u001b[0m 36ms/step\n",
            "\u001b[1m1/1\u001b[0m \u001b[32m━━━━━━━━━━━━━━━━━━━━\u001b[0m\u001b[37m\u001b[0m \u001b[1m0s\u001b[0m 34ms/step\n",
            "\u001b[1m1/1\u001b[0m \u001b[32m━━━━━━━━━━━━━━━━━━━━\u001b[0m\u001b[37m\u001b[0m \u001b[1m0s\u001b[0m 35ms/step\n",
            "\u001b[1m1/1\u001b[0m \u001b[32m━━━━━━━━━━━━━━━━━━━━\u001b[0m\u001b[37m\u001b[0m \u001b[1m0s\u001b[0m 37ms/step\n",
            "\u001b[1m1/1\u001b[0m \u001b[32m━━━━━━━━━━━━━━━━━━━━\u001b[0m\u001b[37m\u001b[0m \u001b[1m0s\u001b[0m 38ms/step\n",
            "\u001b[1m1/1\u001b[0m \u001b[32m━━━━━━━━━━━━━━━━━━━━\u001b[0m\u001b[37m\u001b[0m \u001b[1m0s\u001b[0m 36ms/step\n",
            "\u001b[1m1/1\u001b[0m \u001b[32m━━━━━━━━━━━━━━━━━━━━\u001b[0m\u001b[37m\u001b[0m \u001b[1m0s\u001b[0m 34ms/step\n",
            "\u001b[1m1/1\u001b[0m \u001b[32m━━━━━━━━━━━━━━━━━━━━\u001b[0m\u001b[37m\u001b[0m \u001b[1m0s\u001b[0m 41ms/step\n",
            "\u001b[1m1/1\u001b[0m \u001b[32m━━━━━━━━━━━━━━━━━━━━\u001b[0m\u001b[37m\u001b[0m \u001b[1m0s\u001b[0m 38ms/step\n",
            "\u001b[1m1/1\u001b[0m \u001b[32m━━━━━━━━━━━━━━━━━━━━\u001b[0m\u001b[37m\u001b[0m \u001b[1m0s\u001b[0m 130ms/step\n",
            "\u001b[1m1/1\u001b[0m \u001b[32m━━━━━━━━━━━━━━━━━━━━\u001b[0m\u001b[37m\u001b[0m \u001b[1m0s\u001b[0m 77ms/step\n",
            "\u001b[1m1/1\u001b[0m \u001b[32m━━━━━━━━━━━━━━━━━━━━\u001b[0m\u001b[37m\u001b[0m \u001b[1m0s\u001b[0m 61ms/step\n",
            "\u001b[1m1/1\u001b[0m \u001b[32m━━━━━━━━━━━━━━━━━━━━\u001b[0m\u001b[37m\u001b[0m \u001b[1m0s\u001b[0m 43ms/step\n",
            "\u001b[1m1/1\u001b[0m \u001b[32m━━━━━━━━━━━━━━━━━━━━\u001b[0m\u001b[37m\u001b[0m \u001b[1m0s\u001b[0m 38ms/step\n",
            "\u001b[1m1/1\u001b[0m \u001b[32m━━━━━━━━━━━━━━━━━━━━\u001b[0m\u001b[37m\u001b[0m \u001b[1m0s\u001b[0m 35ms/step\n",
            "\u001b[1m1/1\u001b[0m \u001b[32m━━━━━━━━━━━━━━━━━━━━\u001b[0m\u001b[37m\u001b[0m \u001b[1m0s\u001b[0m 35ms/step\n",
            "\u001b[1m1/1\u001b[0m \u001b[32m━━━━━━━━━━━━━━━━━━━━\u001b[0m\u001b[37m\u001b[0m \u001b[1m0s\u001b[0m 36ms/step\n",
            "\u001b[1m1/1\u001b[0m \u001b[32m━━━━━━━━━━━━━━━━━━━━\u001b[0m\u001b[37m\u001b[0m \u001b[1m0s\u001b[0m 38ms/step\n",
            "\u001b[1m1/1\u001b[0m \u001b[32m━━━━━━━━━━━━━━━━━━━━\u001b[0m\u001b[37m\u001b[0m \u001b[1m0s\u001b[0m 34ms/step\n",
            "\u001b[1m1/1\u001b[0m \u001b[32m━━━━━━━━━━━━━━━━━━━━\u001b[0m\u001b[37m\u001b[0m \u001b[1m0s\u001b[0m 32ms/step\n",
            "\u001b[1m1/1\u001b[0m \u001b[32m━━━━━━━━━━━━━━━━━━━━\u001b[0m\u001b[37m\u001b[0m \u001b[1m0s\u001b[0m 37ms/step\n",
            "\u001b[1m1/1\u001b[0m \u001b[32m━━━━━━━━━━━━━━━━━━━━\u001b[0m\u001b[37m\u001b[0m \u001b[1m0s\u001b[0m 36ms/step\n",
            "\u001b[1m1/1\u001b[0m \u001b[32m━━━━━━━━━━━━━━━━━━━━\u001b[0m\u001b[37m\u001b[0m \u001b[1m0s\u001b[0m 41ms/step\n",
            "\u001b[1m1/1\u001b[0m \u001b[32m━━━━━━━━━━━━━━━━━━━━\u001b[0m\u001b[37m\u001b[0m \u001b[1m0s\u001b[0m 38ms/step\n",
            "\u001b[1m1/1\u001b[0m \u001b[32m━━━━━━━━━━━━━━━━━━━━\u001b[0m\u001b[37m\u001b[0m \u001b[1m0s\u001b[0m 38ms/step\n",
            "\u001b[1m1/1\u001b[0m \u001b[32m━━━━━━━━━━━━━━━━━━━━\u001b[0m\u001b[37m\u001b[0m \u001b[1m0s\u001b[0m 41ms/step\n",
            "\u001b[1m1/1\u001b[0m \u001b[32m━━━━━━━━━━━━━━━━━━━━\u001b[0m\u001b[37m\u001b[0m \u001b[1m0s\u001b[0m 53ms/step\n",
            "\u001b[1m1/1\u001b[0m \u001b[32m━━━━━━━━━━━━━━━━━━━━\u001b[0m\u001b[37m\u001b[0m \u001b[1m0s\u001b[0m 71ms/step\n",
            "\u001b[1m1/1\u001b[0m \u001b[32m━━━━━━━━━━━━━━━━━━━━\u001b[0m\u001b[37m\u001b[0m \u001b[1m0s\u001b[0m 60ms/step\n",
            "\u001b[1m1/1\u001b[0m \u001b[32m━━━━━━━━━━━━━━━━━━━━\u001b[0m\u001b[37m\u001b[0m \u001b[1m0s\u001b[0m 53ms/step\n",
            "\u001b[1m1/1\u001b[0m \u001b[32m━━━━━━━━━━━━━━━━━━━━\u001b[0m\u001b[37m\u001b[0m \u001b[1m0s\u001b[0m 48ms/step\n",
            "\u001b[1m1/1\u001b[0m \u001b[32m━━━━━━━━━━━━━━━━━━━━\u001b[0m\u001b[37m\u001b[0m \u001b[1m0s\u001b[0m 46ms/step\n",
            "\u001b[1m1/1\u001b[0m \u001b[32m━━━━━━━━━━━━━━━━━━━━\u001b[0m\u001b[37m\u001b[0m \u001b[1m0s\u001b[0m 56ms/step\n",
            "\u001b[1m1/1\u001b[0m \u001b[32m━━━━━━━━━━━━━━━━━━━━\u001b[0m\u001b[37m\u001b[0m \u001b[1m0s\u001b[0m 55ms/step\n",
            "\u001b[1m1/1\u001b[0m \u001b[32m━━━━━━━━━━━━━━━━━━━━\u001b[0m\u001b[37m\u001b[0m \u001b[1m0s\u001b[0m 48ms/step\n",
            "\u001b[1m1/1\u001b[0m \u001b[32m━━━━━━━━━━━━━━━━━━━━\u001b[0m\u001b[37m\u001b[0m \u001b[1m0s\u001b[0m 45ms/step\n",
            "\u001b[1m1/1\u001b[0m \u001b[32m━━━━━━━━━━━━━━━━━━━━\u001b[0m\u001b[37m\u001b[0m \u001b[1m0s\u001b[0m 52ms/step\n",
            "\u001b[1m1/1\u001b[0m \u001b[32m━━━━━━━━━━━━━━━━━━━━\u001b[0m\u001b[37m\u001b[0m \u001b[1m0s\u001b[0m 54ms/step\n",
            "\u001b[1m1/1\u001b[0m \u001b[32m━━━━━━━━━━━━━━━━━━━━\u001b[0m\u001b[37m\u001b[0m \u001b[1m0s\u001b[0m 62ms/step\n",
            "\u001b[1m1/1\u001b[0m \u001b[32m━━━━━━━━━━━━━━━━━━━━\u001b[0m\u001b[37m\u001b[0m \u001b[1m0s\u001b[0m 44ms/step\n",
            "\u001b[1m1/1\u001b[0m \u001b[32m━━━━━━━━━━━━━━━━━━━━\u001b[0m\u001b[37m\u001b[0m \u001b[1m0s\u001b[0m 49ms/step\n",
            "\u001b[1m1/1\u001b[0m \u001b[32m━━━━━━━━━━━━━━━━━━━━\u001b[0m\u001b[37m\u001b[0m \u001b[1m0s\u001b[0m 52ms/step\n",
            "\u001b[1m1/1\u001b[0m \u001b[32m━━━━━━━━━━━━━━━━━━━━\u001b[0m\u001b[37m\u001b[0m \u001b[1m0s\u001b[0m 43ms/step\n",
            "\u001b[1m1/1\u001b[0m \u001b[32m━━━━━━━━━━━━━━━━━━━━\u001b[0m\u001b[37m\u001b[0m \u001b[1m0s\u001b[0m 43ms/step\n",
            "\u001b[1m1/1\u001b[0m \u001b[32m━━━━━━━━━━━━━━━━━━━━\u001b[0m\u001b[37m\u001b[0m \u001b[1m0s\u001b[0m 53ms/step\n",
            "\u001b[1m1/1\u001b[0m \u001b[32m━━━━━━━━━━━━━━━━━━━━\u001b[0m\u001b[37m\u001b[0m \u001b[1m0s\u001b[0m 65ms/step\n",
            "\u001b[1m1/1\u001b[0m \u001b[32m━━━━━━━━━━━━━━━━━━━━\u001b[0m\u001b[37m\u001b[0m \u001b[1m0s\u001b[0m 53ms/step\n",
            "\u001b[1m1/1\u001b[0m \u001b[32m━━━━━━━━━━━━━━━━━━━━\u001b[0m\u001b[37m\u001b[0m \u001b[1m0s\u001b[0m 58ms/step\n",
            "\u001b[1m1/1\u001b[0m \u001b[32m━━━━━━━━━━━━━━━━━━━━\u001b[0m\u001b[37m\u001b[0m \u001b[1m0s\u001b[0m 52ms/step\n",
            "\u001b[1m1/1\u001b[0m \u001b[32m━━━━━━━━━━━━━━━━━━━━\u001b[0m\u001b[37m\u001b[0m \u001b[1m0s\u001b[0m 59ms/step\n",
            "\u001b[1m1/1\u001b[0m \u001b[32m━━━━━━━━━━━━━━━━━━━━\u001b[0m\u001b[37m\u001b[0m \u001b[1m0s\u001b[0m 52ms/step\n",
            "\u001b[1m1/1\u001b[0m \u001b[32m━━━━━━━━━━━━━━━━━━━━\u001b[0m\u001b[37m\u001b[0m \u001b[1m0s\u001b[0m 46ms/step\n",
            "\u001b[1m1/1\u001b[0m \u001b[32m━━━━━━━━━━━━━━━━━━━━\u001b[0m\u001b[37m\u001b[0m \u001b[1m0s\u001b[0m 35ms/step\n",
            "\u001b[1m1/1\u001b[0m \u001b[32m━━━━━━━━━━━━━━━━━━━━\u001b[0m\u001b[37m\u001b[0m \u001b[1m0s\u001b[0m 34ms/step\n",
            "\u001b[1m1/1\u001b[0m \u001b[32m━━━━━━━━━━━━━━━━━━━━\u001b[0m\u001b[37m\u001b[0m \u001b[1m0s\u001b[0m 33ms/step\n",
            "\u001b[1m1/1\u001b[0m \u001b[32m━━━━━━━━━━━━━━━━━━━━\u001b[0m\u001b[37m\u001b[0m \u001b[1m0s\u001b[0m 39ms/step\n",
            "\u001b[1m1/1\u001b[0m \u001b[32m━━━━━━━━━━━━━━━━━━━━\u001b[0m\u001b[37m\u001b[0m \u001b[1m0s\u001b[0m 40ms/step\n",
            "\u001b[1m1/1\u001b[0m \u001b[32m━━━━━━━━━━━━━━━━━━━━\u001b[0m\u001b[37m\u001b[0m \u001b[1m0s\u001b[0m 44ms/step\n",
            "\u001b[1m1/1\u001b[0m \u001b[32m━━━━━━━━━━━━━━━━━━━━\u001b[0m\u001b[37m\u001b[0m \u001b[1m0s\u001b[0m 38ms/step\n",
            "\u001b[1m1/1\u001b[0m \u001b[32m━━━━━━━━━━━━━━━━━━━━\u001b[0m\u001b[37m\u001b[0m \u001b[1m0s\u001b[0m 36ms/step\n",
            "\u001b[1m1/1\u001b[0m \u001b[32m━━━━━━━━━━━━━━━━━━━━\u001b[0m\u001b[37m\u001b[0m \u001b[1m0s\u001b[0m 36ms/step\n",
            "\u001b[1m1/1\u001b[0m \u001b[32m━━━━━━━━━━━━━━━━━━━━\u001b[0m\u001b[37m\u001b[0m \u001b[1m0s\u001b[0m 35ms/step\n",
            "\u001b[1m1/1\u001b[0m \u001b[32m━━━━━━━━━━━━━━━━━━━━\u001b[0m\u001b[37m\u001b[0m \u001b[1m0s\u001b[0m 38ms/step\n",
            "\u001b[1m1/1\u001b[0m \u001b[32m━━━━━━━━━━━━━━━━━━━━\u001b[0m\u001b[37m\u001b[0m \u001b[1m0s\u001b[0m 38ms/step\n",
            "\u001b[1m1/1\u001b[0m \u001b[32m━━━━━━━━━━━━━━━━━━━━\u001b[0m\u001b[37m\u001b[0m \u001b[1m0s\u001b[0m 38ms/step\n",
            "\u001b[1m1/1\u001b[0m \u001b[32m━━━━━━━━━━━━━━━━━━━━\u001b[0m\u001b[37m\u001b[0m \u001b[1m0s\u001b[0m 36ms/step\n",
            "\u001b[1m1/1\u001b[0m \u001b[32m━━━━━━━━━━━━━━━━━━━━\u001b[0m\u001b[37m\u001b[0m \u001b[1m0s\u001b[0m 36ms/step\n",
            "\u001b[1m1/1\u001b[0m \u001b[32m━━━━━━━━━━━━━━━━━━━━\u001b[0m\u001b[37m\u001b[0m \u001b[1m0s\u001b[0m 42ms/step\n",
            "\u001b[1m1/1\u001b[0m \u001b[32m━━━━━━━━━━━━━━━━━━━━\u001b[0m\u001b[37m\u001b[0m \u001b[1m0s\u001b[0m 38ms/step\n",
            "\u001b[1m1/1\u001b[0m \u001b[32m━━━━━━━━━━━━━━━━━━━━\u001b[0m\u001b[37m\u001b[0m \u001b[1m0s\u001b[0m 39ms/step\n",
            "\u001b[1m1/1\u001b[0m \u001b[32m━━━━━━━━━━━━━━━━━━━━\u001b[0m\u001b[37m\u001b[0m \u001b[1m0s\u001b[0m 41ms/step\n",
            "\u001b[1m1/1\u001b[0m \u001b[32m━━━━━━━━━━━━━━━━━━━━\u001b[0m\u001b[37m\u001b[0m \u001b[1m0s\u001b[0m 39ms/step\n",
            "\u001b[1m1/1\u001b[0m \u001b[32m━━━━━━━━━━━━━━━━━━━━\u001b[0m\u001b[37m\u001b[0m \u001b[1m0s\u001b[0m 40ms/step\n",
            "\u001b[1m1/1\u001b[0m \u001b[32m━━━━━━━━━━━━━━━━━━━━\u001b[0m\u001b[37m\u001b[0m \u001b[1m0s\u001b[0m 38ms/step\n",
            "\u001b[1m1/1\u001b[0m \u001b[32m━━━━━━━━━━━━━━━━━━━━\u001b[0m\u001b[37m\u001b[0m \u001b[1m0s\u001b[0m 37ms/step\n",
            "\u001b[1m1/1\u001b[0m \u001b[32m━━━━━━━━━━━━━━━━━━━━\u001b[0m\u001b[37m\u001b[0m \u001b[1m0s\u001b[0m 37ms/step\n",
            "\u001b[1m1/1\u001b[0m \u001b[32m━━━━━━━━━━━━━━━━━━━━\u001b[0m\u001b[37m\u001b[0m \u001b[1m0s\u001b[0m 35ms/step\n",
            "\u001b[1m1/1\u001b[0m \u001b[32m━━━━━━━━━━━━━━━━━━━━\u001b[0m\u001b[37m\u001b[0m \u001b[1m0s\u001b[0m 36ms/step\n",
            "\u001b[1m1/1\u001b[0m \u001b[32m━━━━━━━━━━━━━━━━━━━━\u001b[0m\u001b[37m\u001b[0m \u001b[1m0s\u001b[0m 37ms/step\n",
            "\u001b[1m1/1\u001b[0m \u001b[32m━━━━━━━━━━━━━━━━━━━━\u001b[0m\u001b[37m\u001b[0m \u001b[1m0s\u001b[0m 33ms/step\n",
            "\u001b[1m1/1\u001b[0m \u001b[32m━━━━━━━━━━━━━━━━━━━━\u001b[0m\u001b[37m\u001b[0m \u001b[1m0s\u001b[0m 37ms/step\n",
            "\u001b[1m1/1\u001b[0m \u001b[32m━━━━━━━━━━━━━━━━━━━━\u001b[0m\u001b[37m\u001b[0m \u001b[1m0s\u001b[0m 38ms/step\n",
            "\u001b[1m1/1\u001b[0m \u001b[32m━━━━━━━━━━━━━━━━━━━━\u001b[0m\u001b[37m\u001b[0m \u001b[1m0s\u001b[0m 33ms/step\n",
            "\u001b[1m1/1\u001b[0m \u001b[32m━━━━━━━━━━━━━━━━━━━━\u001b[0m\u001b[37m\u001b[0m \u001b[1m0s\u001b[0m 45ms/step\n",
            "\u001b[1m1/1\u001b[0m \u001b[32m━━━━━━━━━━━━━━━━━━━━\u001b[0m\u001b[37m\u001b[0m \u001b[1m0s\u001b[0m 36ms/step\n",
            "\u001b[1m1/1\u001b[0m \u001b[32m━━━━━━━━━━━━━━━━━━━━\u001b[0m\u001b[37m\u001b[0m \u001b[1m0s\u001b[0m 36ms/step\n",
            "\u001b[1m1/1\u001b[0m \u001b[32m━━━━━━━━━━━━━━━━━━━━\u001b[0m\u001b[37m\u001b[0m \u001b[1m0s\u001b[0m 37ms/step\n",
            "\u001b[1m1/1\u001b[0m \u001b[32m━━━━━━━━━━━━━━━━━━━━\u001b[0m\u001b[37m\u001b[0m \u001b[1m0s\u001b[0m 38ms/step\n",
            "\u001b[1m1/1\u001b[0m \u001b[32m━━━━━━━━━━━━━━━━━━━━\u001b[0m\u001b[37m\u001b[0m \u001b[1m0s\u001b[0m 38ms/step\n",
            "\u001b[1m1/1\u001b[0m \u001b[32m━━━━━━━━━━━━━━━━━━━━\u001b[0m\u001b[37m\u001b[0m \u001b[1m0s\u001b[0m 34ms/step\n",
            "\u001b[1m1/1\u001b[0m \u001b[32m━━━━━━━━━━━━━━━━━━━━\u001b[0m\u001b[37m\u001b[0m \u001b[1m0s\u001b[0m 34ms/step\n",
            "\u001b[1m1/1\u001b[0m \u001b[32m━━━━━━━━━━━━━━━━━━━━\u001b[0m\u001b[37m\u001b[0m \u001b[1m0s\u001b[0m 36ms/step\n",
            "\u001b[1m1/1\u001b[0m \u001b[32m━━━━━━━━━━━━━━━━━━━━\u001b[0m\u001b[37m\u001b[0m \u001b[1m0s\u001b[0m 38ms/step\n",
            "\u001b[1m1/1\u001b[0m \u001b[32m━━━━━━━━━━━━━━━━━━━━\u001b[0m\u001b[37m\u001b[0m \u001b[1m0s\u001b[0m 45ms/step\n",
            "\u001b[1m1/1\u001b[0m \u001b[32m━━━━━━━━━━━━━━━━━━━━\u001b[0m\u001b[37m\u001b[0m \u001b[1m0s\u001b[0m 38ms/step\n",
            "\u001b[1m1/1\u001b[0m \u001b[32m━━━━━━━━━━━━━━━━━━━━\u001b[0m\u001b[37m\u001b[0m \u001b[1m0s\u001b[0m 40ms/step\n",
            "\u001b[1m1/1\u001b[0m \u001b[32m━━━━━━━━━━━━━━━━━━━━\u001b[0m\u001b[37m\u001b[0m \u001b[1m0s\u001b[0m 39ms/step\n",
            "\u001b[1m1/1\u001b[0m \u001b[32m━━━━━━━━━━━━━━━━━━━━\u001b[0m\u001b[37m\u001b[0m \u001b[1m0s\u001b[0m 49ms/step\n",
            "\u001b[1m1/1\u001b[0m \u001b[32m━━━━━━━━━━━━━━━━━━━━\u001b[0m\u001b[37m\u001b[0m \u001b[1m0s\u001b[0m 38ms/step\n",
            "\u001b[1m1/1\u001b[0m \u001b[32m━━━━━━━━━━━━━━━━━━━━\u001b[0m\u001b[37m\u001b[0m \u001b[1m0s\u001b[0m 38ms/step\n",
            "\u001b[1m1/1\u001b[0m \u001b[32m━━━━━━━━━━━━━━━━━━━━\u001b[0m\u001b[37m\u001b[0m \u001b[1m0s\u001b[0m 38ms/step\n",
            "\u001b[1m1/1\u001b[0m \u001b[32m━━━━━━━━━━━━━━━━━━━━\u001b[0m\u001b[37m\u001b[0m \u001b[1m0s\u001b[0m 35ms/step\n",
            "\u001b[1m1/1\u001b[0m \u001b[32m━━━━━━━━━━━━━━━━━━━━\u001b[0m\u001b[37m\u001b[0m \u001b[1m0s\u001b[0m 36ms/step\n",
            "\u001b[1m1/1\u001b[0m \u001b[32m━━━━━━━━━━━━━━━━━━━━\u001b[0m\u001b[37m\u001b[0m \u001b[1m0s\u001b[0m 42ms/step\n",
            "\u001b[1m1/1\u001b[0m \u001b[32m━━━━━━━━━━━━━━━━━━━━\u001b[0m\u001b[37m\u001b[0m \u001b[1m0s\u001b[0m 39ms/step\n",
            "\u001b[1m1/1\u001b[0m \u001b[32m━━━━━━━━━━━━━━━━━━━━\u001b[0m\u001b[37m\u001b[0m \u001b[1m0s\u001b[0m 39ms/step\n",
            "\u001b[1m1/1\u001b[0m \u001b[32m━━━━━━━━━━━━━━━━━━━━\u001b[0m\u001b[37m\u001b[0m \u001b[1m0s\u001b[0m 39ms/step\n",
            "\u001b[1m1/1\u001b[0m \u001b[32m━━━━━━━━━━━━━━━━━━━━\u001b[0m\u001b[37m\u001b[0m \u001b[1m0s\u001b[0m 40ms/step\n",
            "\u001b[1m1/1\u001b[0m \u001b[32m━━━━━━━━━━━━━━━━━━━━\u001b[0m\u001b[37m\u001b[0m \u001b[1m0s\u001b[0m 39ms/step\n",
            "\u001b[1m1/1\u001b[0m \u001b[32m━━━━━━━━━━━━━━━━━━━━\u001b[0m\u001b[37m\u001b[0m \u001b[1m0s\u001b[0m 37ms/step\n",
            "\u001b[1m1/1\u001b[0m \u001b[32m━━━━━━━━━━━━━━━━━━━━\u001b[0m\u001b[37m\u001b[0m \u001b[1m0s\u001b[0m 37ms/step\n",
            "\u001b[1m1/1\u001b[0m \u001b[32m━━━━━━━━━━━━━━━━━━━━\u001b[0m\u001b[37m\u001b[0m \u001b[1m0s\u001b[0m 37ms/step\n",
            "\u001b[1m1/1\u001b[0m \u001b[32m━━━━━━━━━━━━━━━━━━━━\u001b[0m\u001b[37m\u001b[0m \u001b[1m0s\u001b[0m 42ms/step\n",
            "\u001b[1m1/1\u001b[0m \u001b[32m━━━━━━━━━━━━━━━━━━━━\u001b[0m\u001b[37m\u001b[0m \u001b[1m0s\u001b[0m 38ms/step\n",
            "\u001b[1m1/1\u001b[0m \u001b[32m━━━━━━━━━━━━━━━━━━━━\u001b[0m\u001b[37m\u001b[0m \u001b[1m0s\u001b[0m 36ms/step\n",
            "\u001b[1m1/1\u001b[0m \u001b[32m━━━━━━━━━━━━━━━━━━━━\u001b[0m\u001b[37m\u001b[0m \u001b[1m0s\u001b[0m 39ms/step\n",
            "\u001b[1m1/1\u001b[0m \u001b[32m━━━━━━━━━━━━━━━━━━━━\u001b[0m\u001b[37m\u001b[0m \u001b[1m0s\u001b[0m 44ms/step\n",
            "\u001b[1m1/1\u001b[0m \u001b[32m━━━━━━━━━━━━━━━━━━━━\u001b[0m\u001b[37m\u001b[0m \u001b[1m0s\u001b[0m 39ms/step\n",
            "\u001b[1m1/1\u001b[0m \u001b[32m━━━━━━━━━━━━━━━━━━━━\u001b[0m\u001b[37m\u001b[0m \u001b[1m0s\u001b[0m 40ms/step\n",
            "\u001b[1m1/1\u001b[0m \u001b[32m━━━━━━━━━━━━━━━━━━━━\u001b[0m\u001b[37m\u001b[0m \u001b[1m0s\u001b[0m 40ms/step\n",
            "\u001b[1m1/1\u001b[0m \u001b[32m━━━━━━━━━━━━━━━━━━━━\u001b[0m\u001b[37m\u001b[0m \u001b[1m0s\u001b[0m 41ms/step\n",
            "\u001b[1m1/1\u001b[0m \u001b[32m━━━━━━━━━━━━━━━━━━━━\u001b[0m\u001b[37m\u001b[0m \u001b[1m0s\u001b[0m 44ms/step\n",
            "\u001b[1m1/1\u001b[0m \u001b[32m━━━━━━━━━━━━━━━━━━━━\u001b[0m\u001b[37m\u001b[0m \u001b[1m0s\u001b[0m 39ms/step\n",
            "\u001b[1m1/1\u001b[0m \u001b[32m━━━━━━━━━━━━━━━━━━━━\u001b[0m\u001b[37m\u001b[0m \u001b[1m0s\u001b[0m 41ms/step\n",
            "Processing example 40/50\n",
            "\u001b[1m1/1\u001b[0m \u001b[32m━━━━━━━━━━━━━━━━━━━━\u001b[0m\u001b[37m\u001b[0m \u001b[1m0s\u001b[0m 32ms/step\n",
            "\u001b[1m1/1\u001b[0m \u001b[32m━━━━━━━━━━━━━━━━━━━━\u001b[0m\u001b[37m\u001b[0m \u001b[1m0s\u001b[0m 34ms/step\n",
            "\u001b[1m1/1\u001b[0m \u001b[32m━━━━━━━━━━━━━━━━━━━━\u001b[0m\u001b[37m\u001b[0m \u001b[1m0s\u001b[0m 37ms/step\n",
            "\u001b[1m1/1\u001b[0m \u001b[32m━━━━━━━━━━━━━━━━━━━━\u001b[0m\u001b[37m\u001b[0m \u001b[1m0s\u001b[0m 36ms/step\n",
            "\u001b[1m1/1\u001b[0m \u001b[32m━━━━━━━━━━━━━━━━━━━━\u001b[0m\u001b[37m\u001b[0m \u001b[1m0s\u001b[0m 40ms/step\n",
            "\u001b[1m1/1\u001b[0m \u001b[32m━━━━━━━━━━━━━━━━━━━━\u001b[0m\u001b[37m\u001b[0m \u001b[1m0s\u001b[0m 38ms/step\n",
            "\u001b[1m1/1\u001b[0m \u001b[32m━━━━━━━━━━━━━━━━━━━━\u001b[0m\u001b[37m\u001b[0m \u001b[1m0s\u001b[0m 38ms/step\n",
            "\u001b[1m1/1\u001b[0m \u001b[32m━━━━━━━━━━━━━━━━━━━━\u001b[0m\u001b[37m\u001b[0m \u001b[1m0s\u001b[0m 41ms/step\n",
            "\u001b[1m1/1\u001b[0m \u001b[32m━━━━━━━━━━━━━━━━━━━━\u001b[0m\u001b[37m\u001b[0m \u001b[1m0s\u001b[0m 41ms/step\n",
            "\u001b[1m1/1\u001b[0m \u001b[32m━━━━━━━━━━━━━━━━━━━━\u001b[0m\u001b[37m\u001b[0m \u001b[1m0s\u001b[0m 39ms/step\n",
            "\u001b[1m1/1\u001b[0m \u001b[32m━━━━━━━━━━━━━━━━━━━━\u001b[0m\u001b[37m\u001b[0m \u001b[1m0s\u001b[0m 41ms/step\n",
            "\u001b[1m1/1\u001b[0m \u001b[32m━━━━━━━━━━━━━━━━━━━━\u001b[0m\u001b[37m\u001b[0m \u001b[1m0s\u001b[0m 38ms/step\n",
            "\u001b[1m1/1\u001b[0m \u001b[32m━━━━━━━━━━━━━━━━━━━━\u001b[0m\u001b[37m\u001b[0m \u001b[1m0s\u001b[0m 39ms/step\n",
            "\u001b[1m1/1\u001b[0m \u001b[32m━━━━━━━━━━━━━━━━━━━━\u001b[0m\u001b[37m\u001b[0m \u001b[1m0s\u001b[0m 35ms/step\n",
            "\u001b[1m1/1\u001b[0m \u001b[32m━━━━━━━━━━━━━━━━━━━━\u001b[0m\u001b[37m\u001b[0m \u001b[1m0s\u001b[0m 36ms/step\n",
            "\u001b[1m1/1\u001b[0m \u001b[32m━━━━━━━━━━━━━━━━━━━━\u001b[0m\u001b[37m\u001b[0m \u001b[1m0s\u001b[0m 35ms/step\n",
            "\u001b[1m1/1\u001b[0m \u001b[32m━━━━━━━━━━━━━━━━━━━━\u001b[0m\u001b[37m\u001b[0m \u001b[1m0s\u001b[0m 37ms/step\n",
            "\u001b[1m1/1\u001b[0m \u001b[32m━━━━━━━━━━━━━━━━━━━━\u001b[0m\u001b[37m\u001b[0m \u001b[1m0s\u001b[0m 37ms/step\n",
            "\u001b[1m1/1\u001b[0m \u001b[32m━━━━━━━━━━━━━━━━━━━━\u001b[0m\u001b[37m\u001b[0m \u001b[1m0s\u001b[0m 43ms/step\n",
            "\u001b[1m1/1\u001b[0m \u001b[32m━━━━━━━━━━━━━━━━━━━━\u001b[0m\u001b[37m\u001b[0m \u001b[1m0s\u001b[0m 39ms/step\n",
            "\u001b[1m1/1\u001b[0m \u001b[32m━━━━━━━━━━━━━━━━━━━━\u001b[0m\u001b[37m\u001b[0m \u001b[1m0s\u001b[0m 39ms/step\n",
            "\u001b[1m1/1\u001b[0m \u001b[32m━━━━━━━━━━━━━━━━━━━━\u001b[0m\u001b[37m\u001b[0m \u001b[1m0s\u001b[0m 35ms/step\n",
            "\u001b[1m1/1\u001b[0m \u001b[32m━━━━━━━━━━━━━━━━━━━━\u001b[0m\u001b[37m\u001b[0m \u001b[1m0s\u001b[0m 38ms/step\n",
            "\u001b[1m1/1\u001b[0m \u001b[32m━━━━━━━━━━━━━━━━━━━━\u001b[0m\u001b[37m\u001b[0m \u001b[1m0s\u001b[0m 45ms/step\n",
            "\u001b[1m1/1\u001b[0m \u001b[32m━━━━━━━━━━━━━━━━━━━━\u001b[0m\u001b[37m\u001b[0m \u001b[1m0s\u001b[0m 49ms/step\n",
            "\u001b[1m1/1\u001b[0m \u001b[32m━━━━━━━━━━━━━━━━━━━━\u001b[0m\u001b[37m\u001b[0m \u001b[1m0s\u001b[0m 46ms/step\n",
            "\u001b[1m1/1\u001b[0m \u001b[32m━━━━━━━━━━━━━━━━━━━━\u001b[0m\u001b[37m\u001b[0m \u001b[1m0s\u001b[0m 60ms/step\n",
            "\u001b[1m1/1\u001b[0m \u001b[32m━━━━━━━━━━━━━━━━━━━━\u001b[0m\u001b[37m\u001b[0m \u001b[1m0s\u001b[0m 55ms/step\n",
            "\u001b[1m1/1\u001b[0m \u001b[32m━━━━━━━━━━━━━━━━━━━━\u001b[0m\u001b[37m\u001b[0m \u001b[1m0s\u001b[0m 50ms/step\n",
            "\u001b[1m1/1\u001b[0m \u001b[32m━━━━━━━━━━━━━━━━━━━━\u001b[0m\u001b[37m\u001b[0m \u001b[1m0s\u001b[0m 52ms/step\n",
            "\u001b[1m1/1\u001b[0m \u001b[32m━━━━━━━━━━━━━━━━━━━━\u001b[0m\u001b[37m\u001b[0m \u001b[1m0s\u001b[0m 50ms/step\n",
            "\u001b[1m1/1\u001b[0m \u001b[32m━━━━━━━━━━━━━━━━━━━━\u001b[0m\u001b[37m\u001b[0m \u001b[1m0s\u001b[0m 68ms/step\n",
            "\u001b[1m1/1\u001b[0m \u001b[32m━━━━━━━━━━━━━━━━━━━━\u001b[0m\u001b[37m\u001b[0m \u001b[1m0s\u001b[0m 62ms/step\n",
            "\u001b[1m1/1\u001b[0m \u001b[32m━━━━━━━━━━━━━━━━━━━━\u001b[0m\u001b[37m\u001b[0m \u001b[1m0s\u001b[0m 54ms/step\n",
            "\u001b[1m1/1\u001b[0m \u001b[32m━━━━━━━━━━━━━━━━━━━━\u001b[0m\u001b[37m\u001b[0m \u001b[1m0s\u001b[0m 52ms/step\n",
            "\u001b[1m1/1\u001b[0m \u001b[32m━━━━━━━━━━━━━━━━━━━━\u001b[0m\u001b[37m\u001b[0m \u001b[1m0s\u001b[0m 59ms/step\n",
            "\u001b[1m1/1\u001b[0m \u001b[32m━━━━━━━━━━━━━━━━━━━━\u001b[0m\u001b[37m\u001b[0m \u001b[1m0s\u001b[0m 60ms/step\n",
            "\u001b[1m1/1\u001b[0m \u001b[32m━━━━━━━━━━━━━━━━━━━━\u001b[0m\u001b[37m\u001b[0m \u001b[1m0s\u001b[0m 64ms/step\n",
            "\u001b[1m1/1\u001b[0m \u001b[32m━━━━━━━━━━━━━━━━━━━━\u001b[0m\u001b[37m\u001b[0m \u001b[1m0s\u001b[0m 60ms/step\n",
            "\u001b[1m1/1\u001b[0m \u001b[32m━━━━━━━━━━━━━━━━━━━━\u001b[0m\u001b[37m\u001b[0m \u001b[1m0s\u001b[0m 73ms/step\n",
            "\u001b[1m1/1\u001b[0m \u001b[32m━━━━━━━━━━━━━━━━━━━━\u001b[0m\u001b[37m\u001b[0m \u001b[1m0s\u001b[0m 58ms/step\n",
            "\u001b[1m1/1\u001b[0m \u001b[32m━━━━━━━━━━━━━━━━━━━━\u001b[0m\u001b[37m\u001b[0m \u001b[1m0s\u001b[0m 58ms/step\n",
            "\u001b[1m1/1\u001b[0m \u001b[32m━━━━━━━━━━━━━━━━━━━━\u001b[0m\u001b[37m\u001b[0m \u001b[1m0s\u001b[0m 51ms/step\n",
            "\u001b[1m1/1\u001b[0m \u001b[32m━━━━━━━━━━━━━━━━━━━━\u001b[0m\u001b[37m\u001b[0m \u001b[1m0s\u001b[0m 57ms/step\n",
            "\u001b[1m1/1\u001b[0m \u001b[32m━━━━━━━━━━━━━━━━━━━━\u001b[0m\u001b[37m\u001b[0m \u001b[1m0s\u001b[0m 64ms/step\n",
            "\u001b[1m1/1\u001b[0m \u001b[32m━━━━━━━━━━━━━━━━━━━━\u001b[0m\u001b[37m\u001b[0m \u001b[1m0s\u001b[0m 55ms/step\n",
            "\u001b[1m1/1\u001b[0m \u001b[32m━━━━━━━━━━━━━━━━━━━━\u001b[0m\u001b[37m\u001b[0m \u001b[1m0s\u001b[0m 58ms/step\n",
            "\u001b[1m1/1\u001b[0m \u001b[32m━━━━━━━━━━━━━━━━━━━━\u001b[0m\u001b[37m\u001b[0m \u001b[1m0s\u001b[0m 60ms/step\n",
            "\u001b[1m1/1\u001b[0m \u001b[32m━━━━━━━━━━━━━━━━━━━━\u001b[0m\u001b[37m\u001b[0m \u001b[1m0s\u001b[0m 50ms/step\n",
            "\u001b[1m1/1\u001b[0m \u001b[32m━━━━━━━━━━━━━━━━━━━━\u001b[0m\u001b[37m\u001b[0m \u001b[1m0s\u001b[0m 49ms/step\n",
            "\u001b[1m1/1\u001b[0m \u001b[32m━━━━━━━━━━━━━━━━━━━━\u001b[0m\u001b[37m\u001b[0m \u001b[1m0s\u001b[0m 60ms/step\n",
            "\u001b[1m1/1\u001b[0m \u001b[32m━━━━━━━━━━━━━━━━━━━━\u001b[0m\u001b[37m\u001b[0m \u001b[1m0s\u001b[0m 35ms/step\n",
            "\u001b[1m1/1\u001b[0m \u001b[32m━━━━━━━━━━━━━━━━━━━━\u001b[0m\u001b[37m\u001b[0m \u001b[1m0s\u001b[0m 39ms/step\n",
            "\u001b[1m1/1\u001b[0m \u001b[32m━━━━━━━━━━━━━━━━━━━━\u001b[0m\u001b[37m\u001b[0m \u001b[1m0s\u001b[0m 38ms/step\n",
            "\u001b[1m1/1\u001b[0m \u001b[32m━━━━━━━━━━━━━━━━━━━━\u001b[0m\u001b[37m\u001b[0m \u001b[1m0s\u001b[0m 40ms/step\n",
            "\u001b[1m1/1\u001b[0m \u001b[32m━━━━━━━━━━━━━━━━━━━━\u001b[0m\u001b[37m\u001b[0m \u001b[1m0s\u001b[0m 37ms/step\n",
            "\u001b[1m1/1\u001b[0m \u001b[32m━━━━━━━━━━━━━━━━━━━━\u001b[0m\u001b[37m\u001b[0m \u001b[1m0s\u001b[0m 42ms/step\n",
            "\u001b[1m1/1\u001b[0m \u001b[32m━━━━━━━━━━━━━━━━━━━━\u001b[0m\u001b[37m\u001b[0m \u001b[1m0s\u001b[0m 40ms/step\n",
            "\u001b[1m1/1\u001b[0m \u001b[32m━━━━━━━━━━━━━━━━━━━━\u001b[0m\u001b[37m\u001b[0m \u001b[1m0s\u001b[0m 46ms/step\n",
            "\u001b[1m1/1\u001b[0m \u001b[32m━━━━━━━━━━━━━━━━━━━━\u001b[0m\u001b[37m\u001b[0m \u001b[1m0s\u001b[0m 37ms/step\n",
            "\u001b[1m1/1\u001b[0m \u001b[32m━━━━━━━━━━━━━━━━━━━━\u001b[0m\u001b[37m\u001b[0m \u001b[1m0s\u001b[0m 36ms/step\n",
            "\u001b[1m1/1\u001b[0m \u001b[32m━━━━━━━━━━━━━━━━━━━━\u001b[0m\u001b[37m\u001b[0m \u001b[1m0s\u001b[0m 35ms/step\n",
            "\u001b[1m1/1\u001b[0m \u001b[32m━━━━━━━━━━━━━━━━━━━━\u001b[0m\u001b[37m\u001b[0m \u001b[1m0s\u001b[0m 34ms/step\n",
            "\u001b[1m1/1\u001b[0m \u001b[32m━━━━━━━━━━━━━━━━━━━━\u001b[0m\u001b[37m\u001b[0m \u001b[1m0s\u001b[0m 33ms/step\n",
            "\u001b[1m1/1\u001b[0m \u001b[32m━━━━━━━━━━━━━━━━━━━━\u001b[0m\u001b[37m\u001b[0m \u001b[1m0s\u001b[0m 40ms/step\n",
            "\u001b[1m1/1\u001b[0m \u001b[32m━━━━━━━━━━━━━━━━━━━━\u001b[0m\u001b[37m\u001b[0m \u001b[1m0s\u001b[0m 39ms/step\n",
            "\u001b[1m1/1\u001b[0m \u001b[32m━━━━━━━━━━━━━━━━━━━━\u001b[0m\u001b[37m\u001b[0m \u001b[1m0s\u001b[0m 37ms/step\n",
            "\u001b[1m1/1\u001b[0m \u001b[32m━━━━━━━━━━━━━━━━━━━━\u001b[0m\u001b[37m\u001b[0m \u001b[1m0s\u001b[0m 42ms/step\n",
            "\u001b[1m1/1\u001b[0m \u001b[32m━━━━━━━━━━━━━━━━━━━━\u001b[0m\u001b[37m\u001b[0m \u001b[1m0s\u001b[0m 38ms/step\n",
            "\u001b[1m1/1\u001b[0m \u001b[32m━━━━━━━━━━━━━━━━━━━━\u001b[0m\u001b[37m\u001b[0m \u001b[1m0s\u001b[0m 37ms/step\n",
            "\u001b[1m1/1\u001b[0m \u001b[32m━━━━━━━━━━━━━━━━━━━━\u001b[0m\u001b[37m\u001b[0m \u001b[1m0s\u001b[0m 40ms/step\n",
            "\u001b[1m1/1\u001b[0m \u001b[32m━━━━━━━━━━━━━━━━━━━━\u001b[0m\u001b[37m\u001b[0m \u001b[1m0s\u001b[0m 35ms/step\n",
            "\u001b[1m1/1\u001b[0m \u001b[32m━━━━━━━━━━━━━━━━━━━━\u001b[0m\u001b[37m\u001b[0m \u001b[1m0s\u001b[0m 37ms/step\n",
            "\u001b[1m1/1\u001b[0m \u001b[32m━━━━━━━━━━━━━━━━━━━━\u001b[0m\u001b[37m\u001b[0m \u001b[1m0s\u001b[0m 36ms/step\n",
            "\u001b[1m1/1\u001b[0m \u001b[32m━━━━━━━━━━━━━━━━━━━━\u001b[0m\u001b[37m\u001b[0m \u001b[1m0s\u001b[0m 34ms/step\n",
            "\u001b[1m1/1\u001b[0m \u001b[32m━━━━━━━━━━━━━━━━━━━━\u001b[0m\u001b[37m\u001b[0m \u001b[1m0s\u001b[0m 34ms/step\n",
            "\u001b[1m1/1\u001b[0m \u001b[32m━━━━━━━━━━━━━━━━━━━━\u001b[0m\u001b[37m\u001b[0m \u001b[1m0s\u001b[0m 38ms/step\n",
            "\u001b[1m1/1\u001b[0m \u001b[32m━━━━━━━━━━━━━━━━━━━━\u001b[0m\u001b[37m\u001b[0m \u001b[1m0s\u001b[0m 45ms/step\n",
            "\u001b[1m1/1\u001b[0m \u001b[32m━━━━━━━━━━━━━━━━━━━━\u001b[0m\u001b[37m\u001b[0m \u001b[1m0s\u001b[0m 39ms/step\n",
            "\u001b[1m1/1\u001b[0m \u001b[32m━━━━━━━━━━━━━━━━━━━━\u001b[0m\u001b[37m\u001b[0m \u001b[1m0s\u001b[0m 38ms/step\n",
            "\u001b[1m1/1\u001b[0m \u001b[32m━━━━━━━━━━━━━━━━━━━━\u001b[0m\u001b[37m\u001b[0m \u001b[1m0s\u001b[0m 38ms/step\n",
            "\u001b[1m1/1\u001b[0m \u001b[32m━━━━━━━━━━━━━━━━━━━━\u001b[0m\u001b[37m\u001b[0m \u001b[1m0s\u001b[0m 37ms/step\n",
            "\u001b[1m1/1\u001b[0m \u001b[32m━━━━━━━━━━━━━━━━━━━━\u001b[0m\u001b[37m\u001b[0m \u001b[1m0s\u001b[0m 36ms/step\n",
            "\u001b[1m1/1\u001b[0m \u001b[32m━━━━━━━━━━━━━━━━━━━━\u001b[0m\u001b[37m\u001b[0m \u001b[1m0s\u001b[0m 38ms/step\n",
            "\u001b[1m1/1\u001b[0m \u001b[32m━━━━━━━━━━━━━━━━━━━━\u001b[0m\u001b[37m\u001b[0m \u001b[1m0s\u001b[0m 34ms/step\n",
            "\u001b[1m1/1\u001b[0m \u001b[32m━━━━━━━━━━━━━━━━━━━━\u001b[0m\u001b[37m\u001b[0m \u001b[1m0s\u001b[0m 38ms/step\n",
            "\u001b[1m1/1\u001b[0m \u001b[32m━━━━━━━━━━━━━━━━━━━━\u001b[0m\u001b[37m\u001b[0m \u001b[1m0s\u001b[0m 36ms/step\n",
            "\u001b[1m1/1\u001b[0m \u001b[32m━━━━━━━━━━━━━━━━━━━━\u001b[0m\u001b[37m\u001b[0m \u001b[1m0s\u001b[0m 37ms/step\n",
            "\u001b[1m1/1\u001b[0m \u001b[32m━━━━━━━━━━━━━━━━━━━━\u001b[0m\u001b[37m\u001b[0m \u001b[1m0s\u001b[0m 40ms/step\n",
            "\u001b[1m1/1\u001b[0m \u001b[32m━━━━━━━━━━━━━━━━━━━━\u001b[0m\u001b[37m\u001b[0m \u001b[1m0s\u001b[0m 43ms/step\n",
            "\u001b[1m1/1\u001b[0m \u001b[32m━━━━━━━━━━━━━━━━━━━━\u001b[0m\u001b[37m\u001b[0m \u001b[1m0s\u001b[0m 40ms/step\n",
            "\u001b[1m1/1\u001b[0m \u001b[32m━━━━━━━━━━━━━━━━━━━━\u001b[0m\u001b[37m\u001b[0m \u001b[1m0s\u001b[0m 39ms/step\n",
            "\u001b[1m1/1\u001b[0m \u001b[32m━━━━━━━━━━━━━━━━━━━━\u001b[0m\u001b[37m\u001b[0m \u001b[1m0s\u001b[0m 39ms/step\n",
            "\u001b[1m1/1\u001b[0m \u001b[32m━━━━━━━━━━━━━━━━━━━━\u001b[0m\u001b[37m\u001b[0m \u001b[1m0s\u001b[0m 37ms/step\n",
            "\u001b[1m1/1\u001b[0m \u001b[32m━━━━━━━━━━━━━━━━━━━━\u001b[0m\u001b[37m\u001b[0m \u001b[1m0s\u001b[0m 40ms/step\n",
            "\u001b[1m1/1\u001b[0m \u001b[32m━━━━━━━━━━━━━━━━━━━━\u001b[0m\u001b[37m\u001b[0m \u001b[1m0s\u001b[0m 37ms/step\n",
            "\u001b[1m1/1\u001b[0m \u001b[32m━━━━━━━━━━━━━━━━━━━━\u001b[0m\u001b[37m\u001b[0m \u001b[1m0s\u001b[0m 37ms/step\n",
            "\u001b[1m1/1\u001b[0m \u001b[32m━━━━━━━━━━━━━━━━━━━━\u001b[0m\u001b[37m\u001b[0m \u001b[1m0s\u001b[0m 36ms/step\n",
            "\u001b[1m1/1\u001b[0m \u001b[32m━━━━━━━━━━━━━━━━━━━━\u001b[0m\u001b[37m\u001b[0m \u001b[1m0s\u001b[0m 37ms/step\n",
            "\u001b[1m1/1\u001b[0m \u001b[32m━━━━━━━━━━━━━━━━━━━━\u001b[0m\u001b[37m\u001b[0m \u001b[1m0s\u001b[0m 38ms/step\n",
            "\u001b[1m1/1\u001b[0m \u001b[32m━━━━━━━━━━━━━━━━━━━━\u001b[0m\u001b[37m\u001b[0m \u001b[1m0s\u001b[0m 40ms/step\n",
            "\u001b[1m1/1\u001b[0m \u001b[32m━━━━━━━━━━━━━━━━━━━━\u001b[0m\u001b[37m\u001b[0m \u001b[1m0s\u001b[0m 43ms/step\n",
            "\u001b[1m1/1\u001b[0m \u001b[32m━━━━━━━━━━━━━━━━━━━━\u001b[0m\u001b[37m\u001b[0m \u001b[1m0s\u001b[0m 45ms/step\n",
            "\u001b[1m1/1\u001b[0m \u001b[32m━━━━━━━━━━━━━━━━━━━━\u001b[0m\u001b[37m\u001b[0m \u001b[1m0s\u001b[0m 39ms/step\n",
            "\u001b[1m1/1\u001b[0m \u001b[32m━━━━━━━━━━━━━━━━━━━━\u001b[0m\u001b[37m\u001b[0m \u001b[1m0s\u001b[0m 37ms/step\n",
            "\u001b[1m1/1\u001b[0m \u001b[32m━━━━━━━━━━━━━━━━━━━━\u001b[0m\u001b[37m\u001b[0m \u001b[1m0s\u001b[0m 42ms/step\n",
            "\u001b[1m1/1\u001b[0m \u001b[32m━━━━━━━━━━━━━━━━━━━━\u001b[0m\u001b[37m\u001b[0m \u001b[1m0s\u001b[0m 40ms/step\n",
            "\u001b[1m1/1\u001b[0m \u001b[32m━━━━━━━━━━━━━━━━━━━━\u001b[0m\u001b[37m\u001b[0m \u001b[1m0s\u001b[0m 40ms/step\n",
            "\u001b[1m1/1\u001b[0m \u001b[32m━━━━━━━━━━━━━━━━━━━━\u001b[0m\u001b[37m\u001b[0m \u001b[1m0s\u001b[0m 37ms/step\n",
            "\u001b[1m1/1\u001b[0m \u001b[32m━━━━━━━━━━━━━━━━━━━━\u001b[0m\u001b[37m\u001b[0m \u001b[1m0s\u001b[0m 39ms/step\n",
            "\u001b[1m1/1\u001b[0m \u001b[32m━━━━━━━━━━━━━━━━━━━━\u001b[0m\u001b[37m\u001b[0m \u001b[1m0s\u001b[0m 36ms/step\n",
            "\u001b[1m1/1\u001b[0m \u001b[32m━━━━━━━━━━━━━━━━━━━━\u001b[0m\u001b[37m\u001b[0m \u001b[1m0s\u001b[0m 38ms/step\n",
            "\u001b[1m1/1\u001b[0m \u001b[32m━━━━━━━━━━━━━━━━━━━━\u001b[0m\u001b[37m\u001b[0m \u001b[1m0s\u001b[0m 40ms/step\n",
            "\u001b[1m1/1\u001b[0m \u001b[32m━━━━━━━━━━━━━━━━━━━━\u001b[0m\u001b[37m\u001b[0m \u001b[1m0s\u001b[0m 38ms/step\n",
            "\u001b[1m1/1\u001b[0m \u001b[32m━━━━━━━━━━━━━━━━━━━━\u001b[0m\u001b[37m\u001b[0m \u001b[1m0s\u001b[0m 41ms/step\n",
            "\u001b[1m1/1\u001b[0m \u001b[32m━━━━━━━━━━━━━━━━━━━━\u001b[0m\u001b[37m\u001b[0m \u001b[1m0s\u001b[0m 53ms/step\n",
            "\u001b[1m1/1\u001b[0m \u001b[32m━━━━━━━━━━━━━━━━━━━━\u001b[0m\u001b[37m\u001b[0m \u001b[1m0s\u001b[0m 41ms/step\n",
            "\u001b[1m1/1\u001b[0m \u001b[32m━━━━━━━━━━━━━━━━━━━━\u001b[0m\u001b[37m\u001b[0m \u001b[1m0s\u001b[0m 40ms/step\n",
            "\u001b[1m1/1\u001b[0m \u001b[32m━━━━━━━━━━━━━━━━━━━━\u001b[0m\u001b[37m\u001b[0m \u001b[1m0s\u001b[0m 40ms/step\n",
            "\u001b[1m1/1\u001b[0m \u001b[32m━━━━━━━━━━━━━━━━━━━━\u001b[0m\u001b[37m\u001b[0m \u001b[1m0s\u001b[0m 40ms/step\n",
            "\u001b[1m1/1\u001b[0m \u001b[32m━━━━━━━━━━━━━━━━━━━━\u001b[0m\u001b[37m\u001b[0m \u001b[1m0s\u001b[0m 38ms/step\n",
            "\u001b[1m1/1\u001b[0m \u001b[32m━━━━━━━━━━━━━━━━━━━━\u001b[0m\u001b[37m\u001b[0m \u001b[1m0s\u001b[0m 38ms/step\n",
            "\u001b[1m1/1\u001b[0m \u001b[32m━━━━━━━━━━━━━━━━━━━━\u001b[0m\u001b[37m\u001b[0m \u001b[1m0s\u001b[0m 35ms/step\n",
            "\u001b[1m1/1\u001b[0m \u001b[32m━━━━━━━━━━━━━━━━━━━━\u001b[0m\u001b[37m\u001b[0m \u001b[1m0s\u001b[0m 37ms/step\n",
            "\u001b[1m1/1\u001b[0m \u001b[32m━━━━━━━━━━━━━━━━━━━━\u001b[0m\u001b[37m\u001b[0m \u001b[1m0s\u001b[0m 38ms/step\n",
            "\u001b[1m1/1\u001b[0m \u001b[32m━━━━━━━━━━━━━━━━━━━━\u001b[0m\u001b[37m\u001b[0m \u001b[1m0s\u001b[0m 54ms/step\n",
            "\u001b[1m1/1\u001b[0m \u001b[32m━━━━━━━━━━━━━━━━━━━━\u001b[0m\u001b[37m\u001b[0m \u001b[1m0s\u001b[0m 34ms/step\n",
            "\u001b[1m1/1\u001b[0m \u001b[32m━━━━━━━━━━━━━━━━━━━━\u001b[0m\u001b[37m\u001b[0m \u001b[1m0s\u001b[0m 39ms/step\n",
            "\u001b[1m1/1\u001b[0m \u001b[32m━━━━━━━━━━━━━━━━━━━━\u001b[0m\u001b[37m\u001b[0m \u001b[1m0s\u001b[0m 38ms/step\n",
            "\u001b[1m1/1\u001b[0m \u001b[32m━━━━━━━━━━━━━━━━━━━━\u001b[0m\u001b[37m\u001b[0m \u001b[1m0s\u001b[0m 38ms/step\n",
            "\u001b[1m1/1\u001b[0m \u001b[32m━━━━━━━━━━━━━━━━━━━━\u001b[0m\u001b[37m\u001b[0m \u001b[1m0s\u001b[0m 36ms/step\n",
            "\u001b[1m1/1\u001b[0m \u001b[32m━━━━━━━━━━━━━━━━━━━━\u001b[0m\u001b[37m\u001b[0m \u001b[1m0s\u001b[0m 38ms/step\n",
            "\u001b[1m1/1\u001b[0m \u001b[32m━━━━━━━━━━━━━━━━━━━━\u001b[0m\u001b[37m\u001b[0m \u001b[1m0s\u001b[0m 38ms/step\n",
            "\u001b[1m1/1\u001b[0m \u001b[32m━━━━━━━━━━━━━━━━━━━━\u001b[0m\u001b[37m\u001b[0m \u001b[1m0s\u001b[0m 36ms/step\n",
            "\u001b[1m1/1\u001b[0m \u001b[32m━━━━━━━━━━━━━━━━━━━━\u001b[0m\u001b[37m\u001b[0m \u001b[1m0s\u001b[0m 38ms/step\n",
            "\u001b[1m1/1\u001b[0m \u001b[32m━━━━━━━━━━━━━━━━━━━━\u001b[0m\u001b[37m\u001b[0m \u001b[1m0s\u001b[0m 36ms/step\n",
            "\u001b[1m1/1\u001b[0m \u001b[32m━━━━━━━━━━━━━━━━━━━━\u001b[0m\u001b[37m\u001b[0m \u001b[1m0s\u001b[0m 41ms/step\n",
            "\u001b[1m1/1\u001b[0m \u001b[32m━━━━━━━━━━━━━━━━━━━━\u001b[0m\u001b[37m\u001b[0m \u001b[1m0s\u001b[0m 46ms/step\n",
            "\u001b[1m1/1\u001b[0m \u001b[32m━━━━━━━━━━━━━━━━━━━━\u001b[0m\u001b[37m\u001b[0m \u001b[1m0s\u001b[0m 41ms/step\n",
            "\u001b[1m1/1\u001b[0m \u001b[32m━━━━━━━━━━━━━━━━━━━━\u001b[0m\u001b[37m\u001b[0m \u001b[1m0s\u001b[0m 39ms/step\n",
            "\u001b[1m1/1\u001b[0m \u001b[32m━━━━━━━━━━━━━━━━━━━━\u001b[0m\u001b[37m\u001b[0m \u001b[1m0s\u001b[0m 37ms/step\n",
            "\u001b[1m1/1\u001b[0m \u001b[32m━━━━━━━━━━━━━━━━━━━━\u001b[0m\u001b[37m\u001b[0m \u001b[1m0s\u001b[0m 39ms/step\n",
            "\u001b[1m1/1\u001b[0m \u001b[32m━━━━━━━━━━━━━━━━━━━━\u001b[0m\u001b[37m\u001b[0m \u001b[1m0s\u001b[0m 38ms/step\n",
            "\u001b[1m1/1\u001b[0m \u001b[32m━━━━━━━━━━━━━━━━━━━━\u001b[0m\u001b[37m\u001b[0m \u001b[1m0s\u001b[0m 38ms/step\n",
            "\u001b[1m1/1\u001b[0m \u001b[32m━━━━━━━━━━━━━━━━━━━━\u001b[0m\u001b[37m\u001b[0m \u001b[1m0s\u001b[0m 49ms/step\n",
            "\u001b[1m1/1\u001b[0m \u001b[32m━━━━━━━━━━━━━━━━━━━━\u001b[0m\u001b[37m\u001b[0m \u001b[1m0s\u001b[0m 60ms/step\n",
            "\u001b[1m1/1\u001b[0m \u001b[32m━━━━━━━━━━━━━━━━━━━━\u001b[0m\u001b[37m\u001b[0m \u001b[1m0s\u001b[0m 53ms/step\n",
            "\u001b[1m1/1\u001b[0m \u001b[32m━━━━━━━━━━━━━━━━━━━━\u001b[0m\u001b[37m\u001b[0m \u001b[1m0s\u001b[0m 45ms/step\n",
            "\u001b[1m1/1\u001b[0m \u001b[32m━━━━━━━━━━━━━━━━━━━━\u001b[0m\u001b[37m\u001b[0m \u001b[1m0s\u001b[0m 52ms/step\n",
            "\u001b[1m1/1\u001b[0m \u001b[32m━━━━━━━━━━━━━━━━━━━━\u001b[0m\u001b[37m\u001b[0m \u001b[1m0s\u001b[0m 49ms/step\n",
            "\u001b[1m1/1\u001b[0m \u001b[32m━━━━━━━━━━━━━━━━━━━━\u001b[0m\u001b[37m\u001b[0m \u001b[1m0s\u001b[0m 49ms/step\n",
            "\u001b[1m1/1\u001b[0m \u001b[32m━━━━━━━━━━━━━━━━━━━━\u001b[0m\u001b[37m\u001b[0m \u001b[1m0s\u001b[0m 61ms/step\n",
            "\u001b[1m1/1\u001b[0m \u001b[32m━━━━━━━━━━━━━━━━━━━━\u001b[0m\u001b[37m\u001b[0m \u001b[1m0s\u001b[0m 77ms/step\n",
            "\u001b[1m1/1\u001b[0m \u001b[32m━━━━━━━━━━━━━━━━━━━━\u001b[0m\u001b[37m\u001b[0m \u001b[1m0s\u001b[0m 46ms/step\n",
            "\u001b[1m1/1\u001b[0m \u001b[32m━━━━━━━━━━━━━━━━━━━━\u001b[0m\u001b[37m\u001b[0m \u001b[1m0s\u001b[0m 52ms/step\n",
            "\u001b[1m1/1\u001b[0m \u001b[32m━━━━━━━━━━━━━━━━━━━━\u001b[0m\u001b[37m\u001b[0m \u001b[1m0s\u001b[0m 47ms/step\n",
            "\u001b[1m1/1\u001b[0m \u001b[32m━━━━━━━━━━━━━━━━━━━━\u001b[0m\u001b[37m\u001b[0m \u001b[1m0s\u001b[0m 60ms/step\n",
            "\u001b[1m1/1\u001b[0m \u001b[32m━━━━━━━━━━━━━━━━━━━━\u001b[0m\u001b[37m\u001b[0m \u001b[1m0s\u001b[0m 65ms/step\n",
            "\u001b[1m1/1\u001b[0m \u001b[32m━━━━━━━━━━━━━━━━━━━━\u001b[0m\u001b[37m\u001b[0m \u001b[1m0s\u001b[0m 62ms/step\n",
            "\u001b[1m1/1\u001b[0m \u001b[32m━━━━━━━━━━━━━━━━━━━━\u001b[0m\u001b[37m\u001b[0m \u001b[1m0s\u001b[0m 62ms/step\n",
            "\u001b[1m1/1\u001b[0m \u001b[32m━━━━━━━━━━━━━━━━━━━━\u001b[0m\u001b[37m\u001b[0m \u001b[1m0s\u001b[0m 75ms/step\n",
            "\u001b[1m1/1\u001b[0m \u001b[32m━━━━━━━━━━━━━━━━━━━━\u001b[0m\u001b[37m\u001b[0m \u001b[1m0s\u001b[0m 49ms/step\n",
            "\u001b[1m1/1\u001b[0m \u001b[32m━━━━━━━━━━━━━━━━━━━━\u001b[0m\u001b[37m\u001b[0m \u001b[1m0s\u001b[0m 60ms/step\n",
            "\u001b[1m1/1\u001b[0m \u001b[32m━━━━━━━━━━━━━━━━━━━━\u001b[0m\u001b[37m\u001b[0m \u001b[1m0s\u001b[0m 55ms/step\n",
            "\u001b[1m1/1\u001b[0m \u001b[32m━━━━━━━━━━━━━━━━━━━━\u001b[0m\u001b[37m\u001b[0m \u001b[1m0s\u001b[0m 56ms/step\n",
            "\u001b[1m1/1\u001b[0m \u001b[32m━━━━━━━━━━━━━━━━━━━━\u001b[0m\u001b[37m\u001b[0m \u001b[1m0s\u001b[0m 71ms/step\n",
            "\u001b[1m1/1\u001b[0m \u001b[32m━━━━━━━━━━━━━━━━━━━━\u001b[0m\u001b[37m\u001b[0m \u001b[1m0s\u001b[0m 63ms/step\n",
            "\u001b[1m1/1\u001b[0m \u001b[32m━━━━━━━━━━━━━━━━━━━━\u001b[0m\u001b[37m\u001b[0m \u001b[1m0s\u001b[0m 54ms/step\n",
            "\u001b[1m1/1\u001b[0m \u001b[32m━━━━━━━━━━━━━━━━━━━━\u001b[0m\u001b[37m\u001b[0m \u001b[1m0s\u001b[0m 62ms/step\n",
            "\u001b[1m1/1\u001b[0m \u001b[32m━━━━━━━━━━━━━━━━━━━━\u001b[0m\u001b[37m\u001b[0m \u001b[1m0s\u001b[0m 63ms/step\n",
            "\u001b[1m1/1\u001b[0m \u001b[32m━━━━━━━━━━━━━━━━━━━━\u001b[0m\u001b[37m\u001b[0m \u001b[1m0s\u001b[0m 49ms/step\n",
            "\u001b[1m1/1\u001b[0m \u001b[32m━━━━━━━━━━━━━━━━━━━━\u001b[0m\u001b[37m\u001b[0m \u001b[1m0s\u001b[0m 36ms/step\n",
            "\u001b[1m1/1\u001b[0m \u001b[32m━━━━━━━━━━━━━━━━━━━━\u001b[0m\u001b[37m\u001b[0m \u001b[1m0s\u001b[0m 41ms/step\n",
            "\u001b[1m1/1\u001b[0m \u001b[32m━━━━━━━━━━━━━━━━━━━━\u001b[0m\u001b[37m\u001b[0m \u001b[1m0s\u001b[0m 41ms/step\n",
            "\u001b[1m1/1\u001b[0m \u001b[32m━━━━━━━━━━━━━━━━━━━━\u001b[0m\u001b[37m\u001b[0m \u001b[1m0s\u001b[0m 41ms/step\n",
            "\u001b[1m1/1\u001b[0m \u001b[32m━━━━━━━━━━━━━━━━━━━━\u001b[0m\u001b[37m\u001b[0m \u001b[1m0s\u001b[0m 37ms/step\n",
            "\u001b[1m1/1\u001b[0m \u001b[32m━━━━━━━━━━━━━━━━━━━━\u001b[0m\u001b[37m\u001b[0m \u001b[1m0s\u001b[0m 39ms/step\n",
            "\u001b[1m1/1\u001b[0m \u001b[32m━━━━━━━━━━━━━━━━━━━━\u001b[0m\u001b[37m\u001b[0m \u001b[1m0s\u001b[0m 48ms/step\n",
            "\u001b[1m1/1\u001b[0m \u001b[32m━━━━━━━━━━━━━━━━━━━━\u001b[0m\u001b[37m\u001b[0m \u001b[1m0s\u001b[0m 37ms/step\n",
            "\u001b[1m1/1\u001b[0m \u001b[32m━━━━━━━━━━━━━━━━━━━━\u001b[0m\u001b[37m\u001b[0m \u001b[1m0s\u001b[0m 38ms/step\n",
            "\u001b[1m1/1\u001b[0m \u001b[32m━━━━━━━━━━━━━━━━━━━━\u001b[0m\u001b[37m\u001b[0m \u001b[1m0s\u001b[0m 36ms/step\n",
            "\u001b[1m1/1\u001b[0m \u001b[32m━━━━━━━━━━━━━━━━━━━━\u001b[0m\u001b[37m\u001b[0m \u001b[1m0s\u001b[0m 35ms/step\n",
            "\u001b[1m1/1\u001b[0m \u001b[32m━━━━━━━━━━━━━━━━━━━━\u001b[0m\u001b[37m\u001b[0m \u001b[1m0s\u001b[0m 36ms/step\n",
            "\u001b[1m1/1\u001b[0m \u001b[32m━━━━━━━━━━━━━━━━━━━━\u001b[0m\u001b[37m\u001b[0m \u001b[1m0s\u001b[0m 36ms/step\n",
            "\u001b[1m1/1\u001b[0m \u001b[32m━━━━━━━━━━━━━━━━━━━━\u001b[0m\u001b[37m\u001b[0m \u001b[1m0s\u001b[0m 37ms/step\n",
            "\u001b[1m1/1\u001b[0m \u001b[32m━━━━━━━━━━━━━━━━━━━━\u001b[0m\u001b[37m\u001b[0m \u001b[1m0s\u001b[0m 50ms/step\n",
            "\u001b[1m1/1\u001b[0m \u001b[32m━━━━━━━━━━━━━━━━━━━━\u001b[0m\u001b[37m\u001b[0m \u001b[1m0s\u001b[0m 43ms/step\n",
            "\u001b[1m1/1\u001b[0m \u001b[32m━━━━━━━━━━━━━━━━━━━━\u001b[0m\u001b[37m\u001b[0m \u001b[1m0s\u001b[0m 40ms/step\n",
            "\u001b[1m1/1\u001b[0m \u001b[32m━━━━━━━━━━━━━━━━━━━━\u001b[0m\u001b[37m\u001b[0m \u001b[1m0s\u001b[0m 41ms/step\n",
            "\u001b[1m1/1\u001b[0m \u001b[32m━━━━━━━━━━━━━━━━━━━━\u001b[0m\u001b[37m\u001b[0m \u001b[1m0s\u001b[0m 33ms/step\n",
            "\u001b[1m1/1\u001b[0m \u001b[32m━━━━━━━━━━━━━━━━━━━━\u001b[0m\u001b[37m\u001b[0m \u001b[1m0s\u001b[0m 38ms/step\n",
            "\u001b[1m1/1\u001b[0m \u001b[32m━━━━━━━━━━━━━━━━━━━━\u001b[0m\u001b[37m\u001b[0m \u001b[1m0s\u001b[0m 41ms/step\n",
            "\u001b[1m1/1\u001b[0m \u001b[32m━━━━━━━━━━━━━━━━━━━━\u001b[0m\u001b[37m\u001b[0m \u001b[1m0s\u001b[0m 35ms/step\n",
            "\u001b[1m1/1\u001b[0m \u001b[32m━━━━━━━━━━━━━━━━━━━━\u001b[0m\u001b[37m\u001b[0m \u001b[1m0s\u001b[0m 39ms/step\n",
            "\u001b[1m1/1\u001b[0m \u001b[32m━━━━━━━━━━━━━━━━━━━━\u001b[0m\u001b[37m\u001b[0m \u001b[1m0s\u001b[0m 48ms/step\n",
            "\u001b[1m1/1\u001b[0m \u001b[32m━━━━━━━━━━━━━━━━━━━━\u001b[0m\u001b[37m\u001b[0m \u001b[1m0s\u001b[0m 37ms/step\n",
            "\u001b[1m1/1\u001b[0m \u001b[32m━━━━━━━━━━━━━━━━━━━━\u001b[0m\u001b[37m\u001b[0m \u001b[1m0s\u001b[0m 41ms/step\n",
            "\u001b[1m1/1\u001b[0m \u001b[32m━━━━━━━━━━━━━━━━━━━━\u001b[0m\u001b[37m\u001b[0m \u001b[1m0s\u001b[0m 42ms/step\n",
            "\u001b[1m1/1\u001b[0m \u001b[32m━━━━━━━━━━━━━━━━━━━━\u001b[0m\u001b[37m\u001b[0m \u001b[1m0s\u001b[0m 43ms/step\n",
            "\u001b[1m1/1\u001b[0m \u001b[32m━━━━━━━━━━━━━━━━━━━━\u001b[0m\u001b[37m\u001b[0m \u001b[1m0s\u001b[0m 39ms/step\n",
            "\u001b[1m1/1\u001b[0m \u001b[32m━━━━━━━━━━━━━━━━━━━━\u001b[0m\u001b[37m\u001b[0m \u001b[1m0s\u001b[0m 41ms/step\n",
            "\u001b[1m1/1\u001b[0m \u001b[32m━━━━━━━━━━━━━━━━━━━━\u001b[0m\u001b[37m\u001b[0m \u001b[1m0s\u001b[0m 40ms/step\n",
            "\u001b[1m1/1\u001b[0m \u001b[32m━━━━━━━━━━━━━━━━━━━━\u001b[0m\u001b[37m\u001b[0m \u001b[1m0s\u001b[0m 39ms/step\n",
            "\u001b[1m1/1\u001b[0m \u001b[32m━━━━━━━━━━━━━━━━━━━━\u001b[0m\u001b[37m\u001b[0m \u001b[1m0s\u001b[0m 45ms/step\n",
            "\u001b[1m1/1\u001b[0m \u001b[32m━━━━━━━━━━━━━━━━━━━━\u001b[0m\u001b[37m\u001b[0m \u001b[1m0s\u001b[0m 39ms/step\n",
            "\u001b[1m1/1\u001b[0m \u001b[32m━━━━━━━━━━━━━━━━━━━━\u001b[0m\u001b[37m\u001b[0m \u001b[1m0s\u001b[0m 42ms/step\n",
            "\u001b[1m1/1\u001b[0m \u001b[32m━━━━━━━━━━━━━━━━━━━━\u001b[0m\u001b[37m\u001b[0m \u001b[1m0s\u001b[0m 38ms/step\n",
            "\u001b[1m1/1\u001b[0m \u001b[32m━━━━━━━━━━━━━━━━━━━━\u001b[0m\u001b[37m\u001b[0m \u001b[1m0s\u001b[0m 40ms/step\n",
            "\u001b[1m1/1\u001b[0m \u001b[32m━━━━━━━━━━━━━━━━━━━━\u001b[0m\u001b[37m\u001b[0m \u001b[1m0s\u001b[0m 39ms/step\n",
            "\u001b[1m1/1\u001b[0m \u001b[32m━━━━━━━━━━━━━━━━━━━━\u001b[0m\u001b[37m\u001b[0m \u001b[1m0s\u001b[0m 41ms/step\n",
            "Average BLEU Score for Seq2Seq Without Attention: 0.0003\n",
            "Evaluating Seq2Seq With Attention on 50 test examples...\n",
            "Processing example 0/50\n",
            "\u001b[1m1/1\u001b[0m \u001b[32m━━━━━━━━━━━━━━━━━━━━\u001b[0m\u001b[37m\u001b[0m \u001b[1m0s\u001b[0m 164ms/step\n",
            "\u001b[1m1/1\u001b[0m \u001b[32m━━━━━━━━━━━━━━━━━━━━\u001b[0m\u001b[37m\u001b[0m \u001b[1m0s\u001b[0m 219ms/step\n",
            "\u001b[1m1/1\u001b[0m \u001b[32m━━━━━━━━━━━━━━━━━━━━\u001b[0m\u001b[37m\u001b[0m \u001b[1m0s\u001b[0m 49ms/step\n",
            "\u001b[1m1/1\u001b[0m \u001b[32m━━━━━━━━━━━━━━━━━━━━\u001b[0m\u001b[37m\u001b[0m \u001b[1m0s\u001b[0m 40ms/step\n",
            "\u001b[1m1/1\u001b[0m \u001b[32m━━━━━━━━━━━━━━━━━━━━\u001b[0m\u001b[37m\u001b[0m \u001b[1m0s\u001b[0m 41ms/step\n",
            "\u001b[1m1/1\u001b[0m \u001b[32m━━━━━━━━━━━━━━━━━━━━\u001b[0m\u001b[37m\u001b[0m \u001b[1m0s\u001b[0m 39ms/step\n",
            "\u001b[1m1/1\u001b[0m \u001b[32m━━━━━━━━━━━━━━━━━━━━\u001b[0m\u001b[37m\u001b[0m \u001b[1m0s\u001b[0m 38ms/step\n",
            "\u001b[1m1/1\u001b[0m \u001b[32m━━━━━━━━━━━━━━━━━━━━\u001b[0m\u001b[37m\u001b[0m \u001b[1m0s\u001b[0m 39ms/step\n",
            "\u001b[1m1/1\u001b[0m \u001b[32m━━━━━━━━━━━━━━━━━━━━\u001b[0m\u001b[37m\u001b[0m \u001b[1m0s\u001b[0m 42ms/step\n",
            "\u001b[1m1/1\u001b[0m \u001b[32m━━━━━━━━━━━━━━━━━━━━\u001b[0m\u001b[37m\u001b[0m \u001b[1m0s\u001b[0m 39ms/step\n",
            "\u001b[1m1/1\u001b[0m \u001b[32m━━━━━━━━━━━━━━━━━━━━\u001b[0m\u001b[37m\u001b[0m \u001b[1m0s\u001b[0m 40ms/step\n",
            "\u001b[1m1/1\u001b[0m \u001b[32m━━━━━━━━━━━━━━━━━━━━\u001b[0m\u001b[37m\u001b[0m \u001b[1m0s\u001b[0m 39ms/step\n",
            "\u001b[1m1/1\u001b[0m \u001b[32m━━━━━━━━━━━━━━━━━━━━\u001b[0m\u001b[37m\u001b[0m \u001b[1m0s\u001b[0m 40ms/step\n",
            "\u001b[1m1/1\u001b[0m \u001b[32m━━━━━━━━━━━━━━━━━━━━\u001b[0m\u001b[37m\u001b[0m \u001b[1m0s\u001b[0m 37ms/step\n",
            "\u001b[1m1/1\u001b[0m \u001b[32m━━━━━━━━━━━━━━━━━━━━\u001b[0m\u001b[37m\u001b[0m \u001b[1m0s\u001b[0m 38ms/step\n",
            "\u001b[1m1/1\u001b[0m \u001b[32m━━━━━━━━━━━━━━━━━━━━\u001b[0m\u001b[37m\u001b[0m \u001b[1m0s\u001b[0m 38ms/step\n",
            "\u001b[1m1/1\u001b[0m \u001b[32m━━━━━━━━━━━━━━━━━━━━\u001b[0m\u001b[37m\u001b[0m \u001b[1m0s\u001b[0m 41ms/step\n",
            "\u001b[1m1/1\u001b[0m \u001b[32m━━━━━━━━━━━━━━━━━━━━\u001b[0m\u001b[37m\u001b[0m \u001b[1m0s\u001b[0m 45ms/step\n",
            "\u001b[1m1/1\u001b[0m \u001b[32m━━━━━━━━━━━━━━━━━━━━\u001b[0m\u001b[37m\u001b[0m \u001b[1m0s\u001b[0m 42ms/step\n",
            "\u001b[1m1/1\u001b[0m \u001b[32m━━━━━━━━━━━━━━━━━━━━\u001b[0m\u001b[37m\u001b[0m \u001b[1m0s\u001b[0m 39ms/step\n",
            "\u001b[1m1/1\u001b[0m \u001b[32m━━━━━━━━━━━━━━━━━━━━\u001b[0m\u001b[37m\u001b[0m \u001b[1m0s\u001b[0m 39ms/step\n",
            "\u001b[1m1/1\u001b[0m \u001b[32m━━━━━━━━━━━━━━━━━━━━\u001b[0m\u001b[37m\u001b[0m \u001b[1m0s\u001b[0m 44ms/step\n",
            "\u001b[1m1/1\u001b[0m \u001b[32m━━━━━━━━━━━━━━━━━━━━\u001b[0m\u001b[37m\u001b[0m \u001b[1m0s\u001b[0m 39ms/step\n",
            "\u001b[1m1/1\u001b[0m \u001b[32m━━━━━━━━━━━━━━━━━━━━\u001b[0m\u001b[37m\u001b[0m \u001b[1m0s\u001b[0m 39ms/step\n",
            "\u001b[1m1/1\u001b[0m \u001b[32m━━━━━━━━━━━━━━━━━━━━\u001b[0m\u001b[37m\u001b[0m \u001b[1m0s\u001b[0m 39ms/step\n",
            "\u001b[1m1/1\u001b[0m \u001b[32m━━━━━━━━━━━━━━━━━━━━\u001b[0m\u001b[37m\u001b[0m \u001b[1m0s\u001b[0m 37ms/step\n",
            "\u001b[1m1/1\u001b[0m \u001b[32m━━━━━━━━━━━━━━━━━━━━\u001b[0m\u001b[37m\u001b[0m \u001b[1m0s\u001b[0m 38ms/step\n",
            "\u001b[1m1/1\u001b[0m \u001b[32m━━━━━━━━━━━━━━━━━━━━\u001b[0m\u001b[37m\u001b[0m \u001b[1m0s\u001b[0m 46ms/step\n",
            "\u001b[1m1/1\u001b[0m \u001b[32m━━━━━━━━━━━━━━━━━━━━\u001b[0m\u001b[37m\u001b[0m \u001b[1m0s\u001b[0m 41ms/step\n",
            "\u001b[1m1/1\u001b[0m \u001b[32m━━━━━━━━━━━━━━━━━━━━\u001b[0m\u001b[37m\u001b[0m \u001b[1m0s\u001b[0m 39ms/step\n",
            "\u001b[1m1/1\u001b[0m \u001b[32m━━━━━━━━━━━━━━━━━━━━\u001b[0m\u001b[37m\u001b[0m \u001b[1m0s\u001b[0m 39ms/step\n",
            "\u001b[1m1/1\u001b[0m \u001b[32m━━━━━━━━━━━━━━━━━━━━\u001b[0m\u001b[37m\u001b[0m \u001b[1m0s\u001b[0m 46ms/step\n",
            "\u001b[1m1/1\u001b[0m \u001b[32m━━━━━━━━━━━━━━━━━━━━\u001b[0m\u001b[37m\u001b[0m \u001b[1m0s\u001b[0m 38ms/step\n",
            "\u001b[1m1/1\u001b[0m \u001b[32m━━━━━━━━━━━━━━━━━━━━\u001b[0m\u001b[37m\u001b[0m \u001b[1m0s\u001b[0m 39ms/step\n",
            "\u001b[1m1/1\u001b[0m \u001b[32m━━━━━━━━━━━━━━━━━━━━\u001b[0m\u001b[37m\u001b[0m \u001b[1m0s\u001b[0m 36ms/step\n",
            "\u001b[1m1/1\u001b[0m \u001b[32m━━━━━━━━━━━━━━━━━━━━\u001b[0m\u001b[37m\u001b[0m \u001b[1m0s\u001b[0m 39ms/step\n",
            "\u001b[1m1/1\u001b[0m \u001b[32m━━━━━━━━━━━━━━━━━━━━\u001b[0m\u001b[37m\u001b[0m \u001b[1m0s\u001b[0m 38ms/step\n",
            "\u001b[1m1/1\u001b[0m \u001b[32m━━━━━━━━━━━━━━━━━━━━\u001b[0m\u001b[37m\u001b[0m \u001b[1m0s\u001b[0m 46ms/step\n",
            "\u001b[1m1/1\u001b[0m \u001b[32m━━━━━━━━━━━━━━━━━━━━\u001b[0m\u001b[37m\u001b[0m \u001b[1m0s\u001b[0m 36ms/step\n",
            "\u001b[1m1/1\u001b[0m \u001b[32m━━━━━━━━━━━━━━━━━━━━\u001b[0m\u001b[37m\u001b[0m \u001b[1m0s\u001b[0m 39ms/step\n",
            "\u001b[1m1/1\u001b[0m \u001b[32m━━━━━━━━━━━━━━━━━━━━\u001b[0m\u001b[37m\u001b[0m \u001b[1m0s\u001b[0m 40ms/step\n",
            "\u001b[1m1/1\u001b[0m \u001b[32m━━━━━━━━━━━━━━━━━━━━\u001b[0m\u001b[37m\u001b[0m \u001b[1m0s\u001b[0m 40ms/step\n",
            "\u001b[1m1/1\u001b[0m \u001b[32m━━━━━━━━━━━━━━━━━━━━\u001b[0m\u001b[37m\u001b[0m \u001b[1m0s\u001b[0m 34ms/step\n",
            "\u001b[1m1/1\u001b[0m \u001b[32m━━━━━━━━━━━━━━━━━━━━\u001b[0m\u001b[37m\u001b[0m \u001b[1m0s\u001b[0m 37ms/step\n",
            "\u001b[1m1/1\u001b[0m \u001b[32m━━━━━━━━━━━━━━━━━━━━\u001b[0m\u001b[37m\u001b[0m \u001b[1m0s\u001b[0m 39ms/step\n",
            "\u001b[1m1/1\u001b[0m \u001b[32m━━━━━━━━━━━━━━━━━━━━\u001b[0m\u001b[37m\u001b[0m \u001b[1m0s\u001b[0m 42ms/step\n",
            "\u001b[1m1/1\u001b[0m \u001b[32m━━━━━━━━━━━━━━━━━━━━\u001b[0m\u001b[37m\u001b[0m \u001b[1m0s\u001b[0m 48ms/step\n",
            "\u001b[1m1/1\u001b[0m \u001b[32m━━━━━━━━━━━━━━━━━━━━\u001b[0m\u001b[37m\u001b[0m \u001b[1m0s\u001b[0m 39ms/step\n",
            "\u001b[1m1/1\u001b[0m \u001b[32m━━━━━━━━━━━━━━━━━━━━\u001b[0m\u001b[37m\u001b[0m \u001b[1m0s\u001b[0m 39ms/step\n",
            "\u001b[1m1/1\u001b[0m \u001b[32m━━━━━━━━━━━━━━━━━━━━\u001b[0m\u001b[37m\u001b[0m \u001b[1m0s\u001b[0m 37ms/step\n",
            "\u001b[1m1/1\u001b[0m \u001b[32m━━━━━━━━━━━━━━━━━━━━\u001b[0m\u001b[37m\u001b[0m \u001b[1m0s\u001b[0m 39ms/step\n",
            "\u001b[1m1/1\u001b[0m \u001b[32m━━━━━━━━━━━━━━━━━━━━\u001b[0m\u001b[37m\u001b[0m \u001b[1m0s\u001b[0m 43ms/step\n",
            "\u001b[1m1/1\u001b[0m \u001b[32m━━━━━━━━━━━━━━━━━━━━\u001b[0m\u001b[37m\u001b[0m \u001b[1m0s\u001b[0m 61ms/step\n",
            "\u001b[1m1/1\u001b[0m \u001b[32m━━━━━━━━━━━━━━━━━━━━\u001b[0m\u001b[37m\u001b[0m \u001b[1m0s\u001b[0m 73ms/step\n",
            "\u001b[1m1/1\u001b[0m \u001b[32m━━━━━━━━━━━━━━━━━━━━\u001b[0m\u001b[37m\u001b[0m \u001b[1m0s\u001b[0m 70ms/step\n",
            "\u001b[1m1/1\u001b[0m \u001b[32m━━━━━━━━━━━━━━━━━━━━\u001b[0m\u001b[37m\u001b[0m \u001b[1m0s\u001b[0m 50ms/step\n",
            "\u001b[1m1/1\u001b[0m \u001b[32m━━━━━━━━━━━━━━━━━━━━\u001b[0m\u001b[37m\u001b[0m \u001b[1m0s\u001b[0m 52ms/step\n",
            "\u001b[1m1/1\u001b[0m \u001b[32m━━━━━━━━━━━━━━━━━━━━\u001b[0m\u001b[37m\u001b[0m \u001b[1m0s\u001b[0m 48ms/step\n",
            "\u001b[1m1/1\u001b[0m \u001b[32m━━━━━━━━━━━━━━━━━━━━\u001b[0m\u001b[37m\u001b[0m \u001b[1m0s\u001b[0m 52ms/step\n",
            "\u001b[1m1/1\u001b[0m \u001b[32m━━━━━━━━━━━━━━━━━━━━\u001b[0m\u001b[37m\u001b[0m \u001b[1m0s\u001b[0m 48ms/step\n",
            "\u001b[1m1/1\u001b[0m \u001b[32m━━━━━━━━━━━━━━━━━━━━\u001b[0m\u001b[37m\u001b[0m \u001b[1m0s\u001b[0m 60ms/step\n",
            "\u001b[1m1/1\u001b[0m \u001b[32m━━━━━━━━━━━━━━━━━━━━\u001b[0m\u001b[37m\u001b[0m \u001b[1m0s\u001b[0m 60ms/step\n",
            "\u001b[1m1/1\u001b[0m \u001b[32m━━━━━━━━━━━━━━━━━━━━\u001b[0m\u001b[37m\u001b[0m \u001b[1m0s\u001b[0m 50ms/step\n",
            "\u001b[1m1/1\u001b[0m \u001b[32m━━━━━━━━━━━━━━━━━━━━\u001b[0m\u001b[37m\u001b[0m \u001b[1m0s\u001b[0m 44ms/step\n",
            "\u001b[1m1/1\u001b[0m \u001b[32m━━━━━━━━━━━━━━━━━━━━\u001b[0m\u001b[37m\u001b[0m \u001b[1m0s\u001b[0m 53ms/step\n",
            "\u001b[1m1/1\u001b[0m \u001b[32m━━━━━━━━━━━━━━━━━━━━\u001b[0m\u001b[37m\u001b[0m \u001b[1m0s\u001b[0m 54ms/step\n",
            "\u001b[1m1/1\u001b[0m \u001b[32m━━━━━━━━━━━━━━━━━━━━\u001b[0m\u001b[37m\u001b[0m \u001b[1m0s\u001b[0m 59ms/step\n",
            "\u001b[1m1/1\u001b[0m \u001b[32m━━━━━━━━━━━━━━━━━━━━\u001b[0m\u001b[37m\u001b[0m \u001b[1m0s\u001b[0m 54ms/step\n",
            "\u001b[1m1/1\u001b[0m \u001b[32m━━━━━━━━━━━━━━━━━━━━\u001b[0m\u001b[37m\u001b[0m \u001b[1m0s\u001b[0m 66ms/step\n",
            "\u001b[1m1/1\u001b[0m \u001b[32m━━━━━━━━━━━━━━━━━━━━\u001b[0m\u001b[37m\u001b[0m \u001b[1m0s\u001b[0m 59ms/step\n",
            "\u001b[1m1/1\u001b[0m \u001b[32m━━━━━━━━━━━━━━━━━━━━\u001b[0m\u001b[37m\u001b[0m \u001b[1m0s\u001b[0m 59ms/step\n",
            "\u001b[1m1/1\u001b[0m \u001b[32m━━━━━━━━━━━━━━━━━━━━\u001b[0m\u001b[37m\u001b[0m \u001b[1m0s\u001b[0m 59ms/step\n",
            "\u001b[1m1/1\u001b[0m \u001b[32m━━━━━━━━━━━━━━━━━━━━\u001b[0m\u001b[37m\u001b[0m \u001b[1m0s\u001b[0m 59ms/step\n",
            "\u001b[1m1/1\u001b[0m \u001b[32m━━━━━━━━━━━━━━━━━━━━\u001b[0m\u001b[37m\u001b[0m \u001b[1m0s\u001b[0m 49ms/step\n",
            "\u001b[1m1/1\u001b[0m \u001b[32m━━━━━━━━━━━━━━━━━━━━\u001b[0m\u001b[37m\u001b[0m \u001b[1m0s\u001b[0m 73ms/step\n",
            "\u001b[1m1/1\u001b[0m \u001b[32m━━━━━━━━━━━━━━━━━━━━\u001b[0m\u001b[37m\u001b[0m \u001b[1m0s\u001b[0m 51ms/step\n",
            "\u001b[1m1/1\u001b[0m \u001b[32m━━━━━━━━━━━━━━━━━━━━\u001b[0m\u001b[37m\u001b[0m \u001b[1m0s\u001b[0m 70ms/step\n",
            "\u001b[1m1/1\u001b[0m \u001b[32m━━━━━━━━━━━━━━━━━━━━\u001b[0m\u001b[37m\u001b[0m \u001b[1m0s\u001b[0m 68ms/step\n",
            "\u001b[1m1/1\u001b[0m \u001b[32m━━━━━━━━━━━━━━━━━━━━\u001b[0m\u001b[37m\u001b[0m \u001b[1m0s\u001b[0m 40ms/step\n",
            "\u001b[1m1/1\u001b[0m \u001b[32m━━━━━━━━━━━━━━━━━━━━\u001b[0m\u001b[37m\u001b[0m \u001b[1m0s\u001b[0m 40ms/step\n",
            "\u001b[1m1/1\u001b[0m \u001b[32m━━━━━━━━━━━━━━━━━━━━\u001b[0m\u001b[37m\u001b[0m \u001b[1m0s\u001b[0m 39ms/step\n",
            "\u001b[1m1/1\u001b[0m \u001b[32m━━━━━━━━━━━━━━━━━━━━\u001b[0m\u001b[37m\u001b[0m \u001b[1m0s\u001b[0m 39ms/step\n",
            "\u001b[1m1/1\u001b[0m \u001b[32m━━━━━━━━━━━━━━━━━━━━\u001b[0m\u001b[37m\u001b[0m \u001b[1m0s\u001b[0m 39ms/step\n",
            "\u001b[1m1/1\u001b[0m \u001b[32m━━━━━━━━━━━━━━━━━━━━\u001b[0m\u001b[37m\u001b[0m \u001b[1m0s\u001b[0m 37ms/step\n",
            "\u001b[1m1/1\u001b[0m \u001b[32m━━━━━━━━━━━━━━━━━━━━\u001b[0m\u001b[37m\u001b[0m \u001b[1m0s\u001b[0m 36ms/step\n",
            "\u001b[1m1/1\u001b[0m \u001b[32m━━━━━━━━━━━━━━━━━━━━\u001b[0m\u001b[37m\u001b[0m \u001b[1m0s\u001b[0m 45ms/step\n",
            "\u001b[1m1/1\u001b[0m \u001b[32m━━━━━━━━━━━━━━━━━━━━\u001b[0m\u001b[37m\u001b[0m \u001b[1m0s\u001b[0m 40ms/step\n",
            "\u001b[1m1/1\u001b[0m \u001b[32m━━━━━━━━━━━━━━━━━━━━\u001b[0m\u001b[37m\u001b[0m \u001b[1m0s\u001b[0m 40ms/step\n",
            "\u001b[1m1/1\u001b[0m \u001b[32m━━━━━━━━━━━━━━━━━━━━\u001b[0m\u001b[37m\u001b[0m \u001b[1m0s\u001b[0m 50ms/step\n",
            "\u001b[1m1/1\u001b[0m \u001b[32m━━━━━━━━━━━━━━━━━━━━\u001b[0m\u001b[37m\u001b[0m \u001b[1m0s\u001b[0m 44ms/step\n",
            "\u001b[1m1/1\u001b[0m \u001b[32m━━━━━━━━━━━━━━━━━━━━\u001b[0m\u001b[37m\u001b[0m \u001b[1m0s\u001b[0m 41ms/step\n",
            "\u001b[1m1/1\u001b[0m \u001b[32m━━━━━━━━━━━━━━━━━━━━\u001b[0m\u001b[37m\u001b[0m \u001b[1m0s\u001b[0m 43ms/step\n",
            "\u001b[1m1/1\u001b[0m \u001b[32m━━━━━━━━━━━━━━━━━━━━\u001b[0m\u001b[37m\u001b[0m \u001b[1m0s\u001b[0m 50ms/step\n",
            "\u001b[1m1/1\u001b[0m \u001b[32m━━━━━━━━━━━━━━━━━━━━\u001b[0m\u001b[37m\u001b[0m \u001b[1m0s\u001b[0m 40ms/step\n",
            "\u001b[1m1/1\u001b[0m \u001b[32m━━━━━━━━━━━━━━━━━━━━\u001b[0m\u001b[37m\u001b[0m \u001b[1m0s\u001b[0m 39ms/step\n",
            "\u001b[1m1/1\u001b[0m \u001b[32m━━━━━━━━━━━━━━━━━━━━\u001b[0m\u001b[37m\u001b[0m \u001b[1m0s\u001b[0m 39ms/step\n",
            "\u001b[1m1/1\u001b[0m \u001b[32m━━━━━━━━━━━━━━━━━━━━\u001b[0m\u001b[37m\u001b[0m \u001b[1m0s\u001b[0m 39ms/step\n",
            "\u001b[1m1/1\u001b[0m \u001b[32m━━━━━━━━━━━━━━━━━━━━\u001b[0m\u001b[37m\u001b[0m \u001b[1m0s\u001b[0m 39ms/step\n",
            "\u001b[1m1/1\u001b[0m \u001b[32m━━━━━━━━━━━━━━━━━━━━\u001b[0m\u001b[37m\u001b[0m \u001b[1m0s\u001b[0m 43ms/step\n",
            "\u001b[1m1/1\u001b[0m \u001b[32m━━━━━━━━━━━━━━━━━━━━\u001b[0m\u001b[37m\u001b[0m \u001b[1m0s\u001b[0m 41ms/step\n",
            "\u001b[1m1/1\u001b[0m \u001b[32m━━━━━━━━━━━━━━━━━━━━\u001b[0m\u001b[37m\u001b[0m \u001b[1m0s\u001b[0m 43ms/step\n",
            "\u001b[1m1/1\u001b[0m \u001b[32m━━━━━━━━━━━━━━━━━━━━\u001b[0m\u001b[37m\u001b[0m \u001b[1m0s\u001b[0m 44ms/step\n",
            "\u001b[1m1/1\u001b[0m \u001b[32m━━━━━━━━━━━━━━━━━━━━\u001b[0m\u001b[37m\u001b[0m \u001b[1m0s\u001b[0m 40ms/step\n",
            "\u001b[1m1/1\u001b[0m \u001b[32m━━━━━━━━━━━━━━━━━━━━\u001b[0m\u001b[37m\u001b[0m \u001b[1m0s\u001b[0m 40ms/step\n",
            "\u001b[1m1/1\u001b[0m \u001b[32m━━━━━━━━━━━━━━━━━━━━\u001b[0m\u001b[37m\u001b[0m \u001b[1m0s\u001b[0m 42ms/step\n",
            "\u001b[1m1/1\u001b[0m \u001b[32m━━━━━━━━━━━━━━━━━━━━\u001b[0m\u001b[37m\u001b[0m \u001b[1m0s\u001b[0m 35ms/step\n",
            "\u001b[1m1/1\u001b[0m \u001b[32m━━━━━━━━━━━━━━━━━━━━\u001b[0m\u001b[37m\u001b[0m \u001b[1m0s\u001b[0m 40ms/step\n",
            "\u001b[1m1/1\u001b[0m \u001b[32m━━━━━━━━━━━━━━━━━━━━\u001b[0m\u001b[37m\u001b[0m \u001b[1m0s\u001b[0m 39ms/step\n",
            "\u001b[1m1/1\u001b[0m \u001b[32m━━━━━━━━━━━━━━━━━━━━\u001b[0m\u001b[37m\u001b[0m \u001b[1m0s\u001b[0m 39ms/step\n",
            "\u001b[1m1/1\u001b[0m \u001b[32m━━━━━━━━━━━━━━━━━━━━\u001b[0m\u001b[37m\u001b[0m \u001b[1m0s\u001b[0m 39ms/step\n",
            "\u001b[1m1/1\u001b[0m \u001b[32m━━━━━━━━━━━━━━━━━━━━\u001b[0m\u001b[37m\u001b[0m \u001b[1m0s\u001b[0m 40ms/step\n",
            "\u001b[1m1/1\u001b[0m \u001b[32m━━━━━━━━━━━━━━━━━━━━\u001b[0m\u001b[37m\u001b[0m \u001b[1m0s\u001b[0m 39ms/step\n",
            "\u001b[1m1/1\u001b[0m \u001b[32m━━━━━━━━━━━━━━━━━━━━\u001b[0m\u001b[37m\u001b[0m \u001b[1m0s\u001b[0m 40ms/step\n",
            "\u001b[1m1/1\u001b[0m \u001b[32m━━━━━━━━━━━━━━━━━━━━\u001b[0m\u001b[37m\u001b[0m \u001b[1m0s\u001b[0m 43ms/step\n",
            "\u001b[1m1/1\u001b[0m \u001b[32m━━━━━━━━━━━━━━━━━━━━\u001b[0m\u001b[37m\u001b[0m \u001b[1m0s\u001b[0m 42ms/step\n",
            "\u001b[1m1/1\u001b[0m \u001b[32m━━━━━━━━━━━━━━━━━━━━\u001b[0m\u001b[37m\u001b[0m \u001b[1m0s\u001b[0m 42ms/step\n",
            "\u001b[1m1/1\u001b[0m \u001b[32m━━━━━━━━━━━━━━━━━━━━\u001b[0m\u001b[37m\u001b[0m \u001b[1m0s\u001b[0m 42ms/step\n",
            "\u001b[1m1/1\u001b[0m \u001b[32m━━━━━━━━━━━━━━━━━━━━\u001b[0m\u001b[37m\u001b[0m \u001b[1m0s\u001b[0m 44ms/step\n",
            "\u001b[1m1/1\u001b[0m \u001b[32m━━━━━━━━━━━━━━━━━━━━\u001b[0m\u001b[37m\u001b[0m \u001b[1m0s\u001b[0m 41ms/step\n",
            "\u001b[1m1/1\u001b[0m \u001b[32m━━━━━━━━━━━━━━━━━━━━\u001b[0m\u001b[37m\u001b[0m \u001b[1m0s\u001b[0m 39ms/step\n",
            "\u001b[1m1/1\u001b[0m \u001b[32m━━━━━━━━━━━━━━━━━━━━\u001b[0m\u001b[37m\u001b[0m \u001b[1m0s\u001b[0m 40ms/step\n",
            "\u001b[1m1/1\u001b[0m \u001b[32m━━━━━━━━━━━━━━━━━━━━\u001b[0m\u001b[37m\u001b[0m \u001b[1m0s\u001b[0m 45ms/step\n",
            "\u001b[1m1/1\u001b[0m \u001b[32m━━━━━━━━━━━━━━━━━━━━\u001b[0m\u001b[37m\u001b[0m \u001b[1m0s\u001b[0m 39ms/step\n",
            "\u001b[1m1/1\u001b[0m \u001b[32m━━━━━━━━━━━━━━━━━━━━\u001b[0m\u001b[37m\u001b[0m \u001b[1m0s\u001b[0m 38ms/step\n",
            "\u001b[1m1/1\u001b[0m \u001b[32m━━━━━━━━━━━━━━━━━━━━\u001b[0m\u001b[37m\u001b[0m \u001b[1m0s\u001b[0m 41ms/step\n",
            "\u001b[1m1/1\u001b[0m \u001b[32m━━━━━━━━━━━━━━━━━━━━\u001b[0m\u001b[37m\u001b[0m \u001b[1m0s\u001b[0m 43ms/step\n",
            "\u001b[1m1/1\u001b[0m \u001b[32m━━━━━━━━━━━━━━━━━━━━\u001b[0m\u001b[37m\u001b[0m \u001b[1m0s\u001b[0m 36ms/step\n",
            "\u001b[1m1/1\u001b[0m \u001b[32m━━━━━━━━━━━━━━━━━━━━\u001b[0m\u001b[37m\u001b[0m \u001b[1m0s\u001b[0m 39ms/step\n",
            "\u001b[1m1/1\u001b[0m \u001b[32m━━━━━━━━━━━━━━━━━━━━\u001b[0m\u001b[37m\u001b[0m \u001b[1m0s\u001b[0m 42ms/step\n",
            "\u001b[1m1/1\u001b[0m \u001b[32m━━━━━━━━━━━━━━━━━━━━\u001b[0m\u001b[37m\u001b[0m \u001b[1m0s\u001b[0m 39ms/step\n",
            "\u001b[1m1/1\u001b[0m \u001b[32m━━━━━━━━━━━━━━━━━━━━\u001b[0m\u001b[37m\u001b[0m \u001b[1m0s\u001b[0m 41ms/step\n",
            "\u001b[1m1/1\u001b[0m \u001b[32m━━━━━━━━━━━━━━━━━━━━\u001b[0m\u001b[37m\u001b[0m \u001b[1m0s\u001b[0m 41ms/step\n",
            "\u001b[1m1/1\u001b[0m \u001b[32m━━━━━━━━━━━━━━━━━━━━\u001b[0m\u001b[37m\u001b[0m \u001b[1m0s\u001b[0m 47ms/step\n",
            "\u001b[1m1/1\u001b[0m \u001b[32m━━━━━━━━━━━━━━━━━━━━\u001b[0m\u001b[37m\u001b[0m \u001b[1m0s\u001b[0m 44ms/step\n",
            "\u001b[1m1/1\u001b[0m \u001b[32m━━━━━━━━━━━━━━━━━━━━\u001b[0m\u001b[37m\u001b[0m \u001b[1m0s\u001b[0m 40ms/step\n",
            "\u001b[1m1/1\u001b[0m \u001b[32m━━━━━━━━━━━━━━━━━━━━\u001b[0m\u001b[37m\u001b[0m \u001b[1m0s\u001b[0m 40ms/step\n",
            "\u001b[1m1/1\u001b[0m \u001b[32m━━━━━━━━━━━━━━━━━━━━\u001b[0m\u001b[37m\u001b[0m \u001b[1m0s\u001b[0m 39ms/step\n",
            "\u001b[1m1/1\u001b[0m \u001b[32m━━━━━━━━━━━━━━━━━━━━\u001b[0m\u001b[37m\u001b[0m \u001b[1m0s\u001b[0m 41ms/step\n",
            "\u001b[1m1/1\u001b[0m \u001b[32m━━━━━━━━━━━━━━━━━━━━\u001b[0m\u001b[37m\u001b[0m \u001b[1m0s\u001b[0m 41ms/step\n",
            "\u001b[1m1/1\u001b[0m \u001b[32m━━━━━━━━━━━━━━━━━━━━\u001b[0m\u001b[37m\u001b[0m \u001b[1m0s\u001b[0m 38ms/step\n",
            "\u001b[1m1/1\u001b[0m \u001b[32m━━━━━━━━━━━━━━━━━━━━\u001b[0m\u001b[37m\u001b[0m \u001b[1m0s\u001b[0m 41ms/step\n",
            "\u001b[1m1/1\u001b[0m \u001b[32m━━━━━━━━━━━━━━━━━━━━\u001b[0m\u001b[37m\u001b[0m \u001b[1m0s\u001b[0m 39ms/step\n",
            "\u001b[1m1/1\u001b[0m \u001b[32m━━━━━━━━━━━━━━━━━━━━\u001b[0m\u001b[37m\u001b[0m \u001b[1m0s\u001b[0m 49ms/step\n",
            "\u001b[1m1/1\u001b[0m \u001b[32m━━━━━━━━━━━━━━━━━━━━\u001b[0m\u001b[37m\u001b[0m \u001b[1m0s\u001b[0m 39ms/step\n",
            "\u001b[1m1/1\u001b[0m \u001b[32m━━━━━━━━━━━━━━━━━━━━\u001b[0m\u001b[37m\u001b[0m \u001b[1m0s\u001b[0m 39ms/step\n",
            "\u001b[1m1/1\u001b[0m \u001b[32m━━━━━━━━━━━━━━━━━━━━\u001b[0m\u001b[37m\u001b[0m \u001b[1m0s\u001b[0m 39ms/step\n",
            "\u001b[1m1/1\u001b[0m \u001b[32m━━━━━━━━━━━━━━━━━━━━\u001b[0m\u001b[37m\u001b[0m \u001b[1m0s\u001b[0m 40ms/step\n",
            "\u001b[1m1/1\u001b[0m \u001b[32m━━━━━━━━━━━━━━━━━━━━\u001b[0m\u001b[37m\u001b[0m \u001b[1m0s\u001b[0m 34ms/step\n",
            "\u001b[1m1/1\u001b[0m \u001b[32m━━━━━━━━━━━━━━━━━━━━\u001b[0m\u001b[37m\u001b[0m \u001b[1m0s\u001b[0m 39ms/step\n",
            "\u001b[1m1/1\u001b[0m \u001b[32m━━━━━━━━━━━━━━━━━━━━\u001b[0m\u001b[37m\u001b[0m \u001b[1m0s\u001b[0m 40ms/step\n",
            "\u001b[1m1/1\u001b[0m \u001b[32m━━━━━━━━━━━━━━━━━━━━\u001b[0m\u001b[37m\u001b[0m \u001b[1m0s\u001b[0m 42ms/step\n",
            "\u001b[1m1/1\u001b[0m \u001b[32m━━━━━━━━━━━━━━━━━━━━\u001b[0m\u001b[37m\u001b[0m \u001b[1m0s\u001b[0m 43ms/step\n",
            "\u001b[1m1/1\u001b[0m \u001b[32m━━━━━━━━━━━━━━━━━━━━\u001b[0m\u001b[37m\u001b[0m \u001b[1m0s\u001b[0m 40ms/step\n",
            "\u001b[1m1/1\u001b[0m \u001b[32m━━━━━━━━━━━━━━━━━━━━\u001b[0m\u001b[37m\u001b[0m \u001b[1m0s\u001b[0m 40ms/step\n",
            "\u001b[1m1/1\u001b[0m \u001b[32m━━━━━━━━━━━━━━━━━━━━\u001b[0m\u001b[37m\u001b[0m \u001b[1m0s\u001b[0m 40ms/step\n",
            "\u001b[1m1/1\u001b[0m \u001b[32m━━━━━━━━━━━━━━━━━━━━\u001b[0m\u001b[37m\u001b[0m \u001b[1m0s\u001b[0m 40ms/step\n",
            "\u001b[1m1/1\u001b[0m \u001b[32m━━━━━━━━━━━━━━━━━━━━\u001b[0m\u001b[37m\u001b[0m \u001b[1m0s\u001b[0m 46ms/step\n",
            "\u001b[1m1/1\u001b[0m \u001b[32m━━━━━━━━━━━━━━━━━━━━\u001b[0m\u001b[37m\u001b[0m \u001b[1m0s\u001b[0m 45ms/step\n",
            "\u001b[1m1/1\u001b[0m \u001b[32m━━━━━━━━━━━━━━━━━━━━\u001b[0m\u001b[37m\u001b[0m \u001b[1m0s\u001b[0m 42ms/step\n",
            "\u001b[1m1/1\u001b[0m \u001b[32m━━━━━━━━━━━━━━━━━━━━\u001b[0m\u001b[37m\u001b[0m \u001b[1m0s\u001b[0m 41ms/step\n",
            "\u001b[1m1/1\u001b[0m \u001b[32m━━━━━━━━━━━━━━━━━━━━\u001b[0m\u001b[37m\u001b[0m \u001b[1m0s\u001b[0m 42ms/step\n",
            "\u001b[1m1/1\u001b[0m \u001b[32m━━━━━━━━━━━━━━━━━━━━\u001b[0m\u001b[37m\u001b[0m \u001b[1m0s\u001b[0m 43ms/step\n",
            "\u001b[1m1/1\u001b[0m \u001b[32m━━━━━━━━━━━━━━━━━━━━\u001b[0m\u001b[37m\u001b[0m \u001b[1m0s\u001b[0m 41ms/step\n",
            "\u001b[1m1/1\u001b[0m \u001b[32m━━━━━━━━━━━━━━━━━━━━\u001b[0m\u001b[37m\u001b[0m \u001b[1m0s\u001b[0m 41ms/step\n",
            "\u001b[1m1/1\u001b[0m \u001b[32m━━━━━━━━━━━━━━━━━━━━\u001b[0m\u001b[37m\u001b[0m \u001b[1m0s\u001b[0m 39ms/step\n",
            "\u001b[1m1/1\u001b[0m \u001b[32m━━━━━━━━━━━━━━━━━━━━\u001b[0m\u001b[37m\u001b[0m \u001b[1m0s\u001b[0m 41ms/step\n",
            "\u001b[1m1/1\u001b[0m \u001b[32m━━━━━━━━━━━━━━━━━━━━\u001b[0m\u001b[37m\u001b[0m \u001b[1m0s\u001b[0m 40ms/step\n",
            "\u001b[1m1/1\u001b[0m \u001b[32m━━━━━━━━━━━━━━━━━━━━\u001b[0m\u001b[37m\u001b[0m \u001b[1m0s\u001b[0m 38ms/step\n",
            "\u001b[1m1/1\u001b[0m \u001b[32m━━━━━━━━━━━━━━━━━━━━\u001b[0m\u001b[37m\u001b[0m \u001b[1m0s\u001b[0m 32ms/step\n",
            "\u001b[1m1/1\u001b[0m \u001b[32m━━━━━━━━━━━━━━━━━━━━\u001b[0m\u001b[37m\u001b[0m \u001b[1m0s\u001b[0m 39ms/step\n",
            "\u001b[1m1/1\u001b[0m \u001b[32m━━━━━━━━━━━━━━━━━━━━\u001b[0m\u001b[37m\u001b[0m \u001b[1m0s\u001b[0m 38ms/step\n",
            "\u001b[1m1/1\u001b[0m \u001b[32m━━━━━━━━━━━━━━━━━━━━\u001b[0m\u001b[37m\u001b[0m \u001b[1m0s\u001b[0m 39ms/step\n",
            "\u001b[1m1/1\u001b[0m \u001b[32m━━━━━━━━━━━━━━━━━━━━\u001b[0m\u001b[37m\u001b[0m \u001b[1m0s\u001b[0m 47ms/step\n",
            "\u001b[1m1/1\u001b[0m \u001b[32m━━━━━━━━━━━━━━━━━━━━\u001b[0m\u001b[37m\u001b[0m \u001b[1m0s\u001b[0m 57ms/step\n",
            "\u001b[1m1/1\u001b[0m \u001b[32m━━━━━━━━━━━━━━━━━━━━\u001b[0m\u001b[37m\u001b[0m \u001b[1m0s\u001b[0m 67ms/step\n",
            "\u001b[1m1/1\u001b[0m \u001b[32m━━━━━━━━━━━━━━━━━━━━\u001b[0m\u001b[37m\u001b[0m \u001b[1m0s\u001b[0m 50ms/step\n",
            "\u001b[1m1/1\u001b[0m \u001b[32m━━━━━━━━━━━━━━━━━━━━\u001b[0m\u001b[37m\u001b[0m \u001b[1m0s\u001b[0m 52ms/step\n",
            "\u001b[1m1/1\u001b[0m \u001b[32m━━━━━━━━━━━━━━━━━━━━\u001b[0m\u001b[37m\u001b[0m \u001b[1m0s\u001b[0m 57ms/step\n",
            "\u001b[1m1/1\u001b[0m \u001b[32m━━━━━━━━━━━━━━━━━━━━\u001b[0m\u001b[37m\u001b[0m \u001b[1m0s\u001b[0m 67ms/step\n",
            "\u001b[1m1/1\u001b[0m \u001b[32m━━━━━━━━━━━━━━━━━━━━\u001b[0m\u001b[37m\u001b[0m \u001b[1m0s\u001b[0m 50ms/step\n",
            "\u001b[1m1/1\u001b[0m \u001b[32m━━━━━━━━━━━━━━━━━━━━\u001b[0m\u001b[37m\u001b[0m \u001b[1m0s\u001b[0m 48ms/step\n",
            "\u001b[1m1/1\u001b[0m \u001b[32m━━━━━━━━━━━━━━━━━━━━\u001b[0m\u001b[37m\u001b[0m \u001b[1m0s\u001b[0m 52ms/step\n",
            "\u001b[1m1/1\u001b[0m \u001b[32m━━━━━━━━━━━━━━━━━━━━\u001b[0m\u001b[37m\u001b[0m \u001b[1m0s\u001b[0m 73ms/step\n",
            "\u001b[1m1/1\u001b[0m \u001b[32m━━━━━━━━━━━━━━━━━━━━\u001b[0m\u001b[37m\u001b[0m \u001b[1m0s\u001b[0m 56ms/step\n",
            "\u001b[1m1/1\u001b[0m \u001b[32m━━━━━━━━━━━━━━━━━━━━\u001b[0m\u001b[37m\u001b[0m \u001b[1m0s\u001b[0m 56ms/step\n",
            "\u001b[1m1/1\u001b[0m \u001b[32m━━━━━━━━━━━━━━━━━━━━\u001b[0m\u001b[37m\u001b[0m \u001b[1m0s\u001b[0m 54ms/step\n",
            "\u001b[1m1/1\u001b[0m \u001b[32m━━━━━━━━━━━━━━━━━━━━\u001b[0m\u001b[37m\u001b[0m \u001b[1m0s\u001b[0m 76ms/step\n",
            "\u001b[1m1/1\u001b[0m \u001b[32m━━━━━━━━━━━━━━━━━━━━\u001b[0m\u001b[37m\u001b[0m \u001b[1m0s\u001b[0m 71ms/step\n",
            "\u001b[1m1/1\u001b[0m \u001b[32m━━━━━━━━━━━━━━━━━━━━\u001b[0m\u001b[37m\u001b[0m \u001b[1m0s\u001b[0m 49ms/step\n",
            "\u001b[1m1/1\u001b[0m \u001b[32m━━━━━━━━━━━━━━━━━━━━\u001b[0m\u001b[37m\u001b[0m \u001b[1m0s\u001b[0m 45ms/step\n",
            "\u001b[1m1/1\u001b[0m \u001b[32m━━━━━━━━━━━━━━━━━━━━\u001b[0m\u001b[37m\u001b[0m \u001b[1m0s\u001b[0m 72ms/step\n",
            "\u001b[1m1/1\u001b[0m \u001b[32m━━━━━━━━━━━━━━━━━━━━\u001b[0m\u001b[37m\u001b[0m \u001b[1m0s\u001b[0m 60ms/step\n",
            "\u001b[1m1/1\u001b[0m \u001b[32m━━━━━━━━━━━━━━━━━━━━\u001b[0m\u001b[37m\u001b[0m \u001b[1m0s\u001b[0m 70ms/step\n",
            "\u001b[1m1/1\u001b[0m \u001b[32m━━━━━━━━━━━━━━━━━━━━\u001b[0m\u001b[37m\u001b[0m \u001b[1m0s\u001b[0m 70ms/step\n",
            "\u001b[1m1/1\u001b[0m \u001b[32m━━━━━━━━━━━━━━━━━━━━\u001b[0m\u001b[37m\u001b[0m \u001b[1m0s\u001b[0m 66ms/step\n",
            "\u001b[1m1/1\u001b[0m \u001b[32m━━━━━━━━━━━━━━━━━━━━\u001b[0m\u001b[37m\u001b[0m \u001b[1m0s\u001b[0m 64ms/step\n",
            "\u001b[1m1/1\u001b[0m \u001b[32m━━━━━━━━━━━━━━━━━━━━\u001b[0m\u001b[37m\u001b[0m \u001b[1m0s\u001b[0m 75ms/step\n",
            "\u001b[1m1/1\u001b[0m \u001b[32m━━━━━━━━━━━━━━━━━━━━\u001b[0m\u001b[37m\u001b[0m \u001b[1m0s\u001b[0m 54ms/step\n",
            "\u001b[1m1/1\u001b[0m \u001b[32m━━━━━━━━━━━━━━━━━━━━\u001b[0m\u001b[37m\u001b[0m \u001b[1m0s\u001b[0m 41ms/step\n",
            "\u001b[1m1/1\u001b[0m \u001b[32m━━━━━━━━━━━━━━━━━━━━\u001b[0m\u001b[37m\u001b[0m \u001b[1m0s\u001b[0m 53ms/step\n",
            "\u001b[1m1/1\u001b[0m \u001b[32m━━━━━━━━━━━━━━━━━━━━\u001b[0m\u001b[37m\u001b[0m \u001b[1m0s\u001b[0m 39ms/step\n",
            "\u001b[1m1/1\u001b[0m \u001b[32m━━━━━━━━━━━━━━━━━━━━\u001b[0m\u001b[37m\u001b[0m \u001b[1m0s\u001b[0m 47ms/step\n",
            "\u001b[1m1/1\u001b[0m \u001b[32m━━━━━━━━━━━━━━━━━━━━\u001b[0m\u001b[37m\u001b[0m \u001b[1m0s\u001b[0m 41ms/step\n",
            "\u001b[1m1/1\u001b[0m \u001b[32m━━━━━━━━━━━━━━━━━━━━\u001b[0m\u001b[37m\u001b[0m \u001b[1m0s\u001b[0m 40ms/step\n",
            "\u001b[1m1/1\u001b[0m \u001b[32m━━━━━━━━━━━━━━━━━━━━\u001b[0m\u001b[37m\u001b[0m \u001b[1m0s\u001b[0m 40ms/step\n",
            "\u001b[1m1/1\u001b[0m \u001b[32m━━━━━━━━━━━━━━━━━━━━\u001b[0m\u001b[37m\u001b[0m \u001b[1m0s\u001b[0m 41ms/step\n",
            "\u001b[1m1/1\u001b[0m \u001b[32m━━━━━━━━━━━━━━━━━━━━\u001b[0m\u001b[37m\u001b[0m \u001b[1m0s\u001b[0m 40ms/step\n",
            "\u001b[1m1/1\u001b[0m \u001b[32m━━━━━━━━━━━━━━━━━━━━\u001b[0m\u001b[37m\u001b[0m \u001b[1m0s\u001b[0m 42ms/step\n",
            "\u001b[1m1/1\u001b[0m \u001b[32m━━━━━━━━━━━━━━━━━━━━\u001b[0m\u001b[37m\u001b[0m \u001b[1m0s\u001b[0m 40ms/step\n",
            "\u001b[1m1/1\u001b[0m \u001b[32m━━━━━━━━━━━━━━━━━━━━\u001b[0m\u001b[37m\u001b[0m \u001b[1m0s\u001b[0m 42ms/step\n",
            "Processing example 10/50\n",
            "\u001b[1m1/1\u001b[0m \u001b[32m━━━━━━━━━━━━━━━━━━━━\u001b[0m\u001b[37m\u001b[0m \u001b[1m0s\u001b[0m 37ms/step\n",
            "\u001b[1m1/1\u001b[0m \u001b[32m━━━━━━━━━━━━━━━━━━━━\u001b[0m\u001b[37m\u001b[0m \u001b[1m0s\u001b[0m 41ms/step\n",
            "\u001b[1m1/1\u001b[0m \u001b[32m━━━━━━━━━━━━━━━━━━━━\u001b[0m\u001b[37m\u001b[0m \u001b[1m0s\u001b[0m 40ms/step\n",
            "\u001b[1m1/1\u001b[0m \u001b[32m━━━━━━━━━━━━━━━━━━━━\u001b[0m\u001b[37m\u001b[0m \u001b[1m0s\u001b[0m 38ms/step\n",
            "\u001b[1m1/1\u001b[0m \u001b[32m━━━━━━━━━━━━━━━━━━━━\u001b[0m\u001b[37m\u001b[0m \u001b[1m0s\u001b[0m 41ms/step\n",
            "\u001b[1m1/1\u001b[0m \u001b[32m━━━━━━━━━━━━━━━━━━━━\u001b[0m\u001b[37m\u001b[0m \u001b[1m0s\u001b[0m 39ms/step\n",
            "\u001b[1m1/1\u001b[0m \u001b[32m━━━━━━━━━━━━━━━━━━━━\u001b[0m\u001b[37m\u001b[0m \u001b[1m0s\u001b[0m 42ms/step\n",
            "\u001b[1m1/1\u001b[0m \u001b[32m━━━━━━━━━━━━━━━━━━━━\u001b[0m\u001b[37m\u001b[0m \u001b[1m0s\u001b[0m 42ms/step\n",
            "\u001b[1m1/1\u001b[0m \u001b[32m━━━━━━━━━━━━━━━━━━━━\u001b[0m\u001b[37m\u001b[0m \u001b[1m0s\u001b[0m 49ms/step\n",
            "\u001b[1m1/1\u001b[0m \u001b[32m━━━━━━━━━━━━━━━━━━━━\u001b[0m\u001b[37m\u001b[0m \u001b[1m0s\u001b[0m 39ms/step\n",
            "\u001b[1m1/1\u001b[0m \u001b[32m━━━━━━━━━━━━━━━━━━━━\u001b[0m\u001b[37m\u001b[0m \u001b[1m0s\u001b[0m 51ms/step\n",
            "\u001b[1m1/1\u001b[0m \u001b[32m━━━━━━━━━━━━━━━━━━━━\u001b[0m\u001b[37m\u001b[0m \u001b[1m0s\u001b[0m 42ms/step\n",
            "\u001b[1m1/1\u001b[0m \u001b[32m━━━━━━━━━━━━━━━━━━━━\u001b[0m\u001b[37m\u001b[0m \u001b[1m0s\u001b[0m 41ms/step\n",
            "\u001b[1m1/1\u001b[0m \u001b[32m━━━━━━━━━━━━━━━━━━━━\u001b[0m\u001b[37m\u001b[0m \u001b[1m0s\u001b[0m 40ms/step\n",
            "\u001b[1m1/1\u001b[0m \u001b[32m━━━━━━━━━━━━━━━━━━━━\u001b[0m\u001b[37m\u001b[0m \u001b[1m0s\u001b[0m 39ms/step\n",
            "\u001b[1m1/1\u001b[0m \u001b[32m━━━━━━━━━━━━━━━━━━━━\u001b[0m\u001b[37m\u001b[0m \u001b[1m0s\u001b[0m 41ms/step\n",
            "\u001b[1m1/1\u001b[0m \u001b[32m━━━━━━━━━━━━━━━━━━━━\u001b[0m\u001b[37m\u001b[0m \u001b[1m0s\u001b[0m 41ms/step\n",
            "\u001b[1m1/1\u001b[0m \u001b[32m━━━━━━━━━━━━━━━━━━━━\u001b[0m\u001b[37m\u001b[0m \u001b[1m0s\u001b[0m 43ms/step\n",
            "\u001b[1m1/1\u001b[0m \u001b[32m━━━━━━━━━━━━━━━━━━━━\u001b[0m\u001b[37m\u001b[0m \u001b[1m0s\u001b[0m 37ms/step\n",
            "\u001b[1m1/1\u001b[0m \u001b[32m━━━━━━━━━━━━━━━━━━━━\u001b[0m\u001b[37m\u001b[0m \u001b[1m0s\u001b[0m 42ms/step\n",
            "\u001b[1m1/1\u001b[0m \u001b[32m━━━━━━━━━━━━━━━━━━━━\u001b[0m\u001b[37m\u001b[0m \u001b[1m0s\u001b[0m 43ms/step\n",
            "\u001b[1m1/1\u001b[0m \u001b[32m━━━━━━━━━━━━━━━━━━━━\u001b[0m\u001b[37m\u001b[0m \u001b[1m0s\u001b[0m 39ms/step\n",
            "\u001b[1m1/1\u001b[0m \u001b[32m━━━━━━━━━━━━━━━━━━━━\u001b[0m\u001b[37m\u001b[0m \u001b[1m0s\u001b[0m 41ms/step\n",
            "\u001b[1m1/1\u001b[0m \u001b[32m━━━━━━━━━━━━━━━━━━━━\u001b[0m\u001b[37m\u001b[0m \u001b[1m0s\u001b[0m 44ms/step\n",
            "\u001b[1m1/1\u001b[0m \u001b[32m━━━━━━━━━━━━━━━━━━━━\u001b[0m\u001b[37m\u001b[0m \u001b[1m0s\u001b[0m 42ms/step\n",
            "\u001b[1m1/1\u001b[0m \u001b[32m━━━━━━━━━━━━━━━━━━━━\u001b[0m\u001b[37m\u001b[0m \u001b[1m0s\u001b[0m 43ms/step\n",
            "\u001b[1m1/1\u001b[0m \u001b[32m━━━━━━━━━━━━━━━━━━━━\u001b[0m\u001b[37m\u001b[0m \u001b[1m0s\u001b[0m 44ms/step\n",
            "\u001b[1m1/1\u001b[0m \u001b[32m━━━━━━━━━━━━━━━━━━━━\u001b[0m\u001b[37m\u001b[0m \u001b[1m0s\u001b[0m 39ms/step\n",
            "\u001b[1m1/1\u001b[0m \u001b[32m━━━━━━━━━━━━━━━━━━━━\u001b[0m\u001b[37m\u001b[0m \u001b[1m0s\u001b[0m 41ms/step\n",
            "\u001b[1m1/1\u001b[0m \u001b[32m━━━━━━━━━━━━━━━━━━━━\u001b[0m\u001b[37m\u001b[0m \u001b[1m0s\u001b[0m 49ms/step\n",
            "\u001b[1m1/1\u001b[0m \u001b[32m━━━━━━━━━━━━━━━━━━━━\u001b[0m\u001b[37m\u001b[0m \u001b[1m0s\u001b[0m 41ms/step\n",
            "\u001b[1m1/1\u001b[0m \u001b[32m━━━━━━━━━━━━━━━━━━━━\u001b[0m\u001b[37m\u001b[0m \u001b[1m0s\u001b[0m 38ms/step\n",
            "\u001b[1m1/1\u001b[0m \u001b[32m━━━━━━━━━━━━━━━━━━━━\u001b[0m\u001b[37m\u001b[0m \u001b[1m0s\u001b[0m 40ms/step\n",
            "\u001b[1m1/1\u001b[0m \u001b[32m━━━━━━━━━━━━━━━━━━━━\u001b[0m\u001b[37m\u001b[0m \u001b[1m0s\u001b[0m 40ms/step\n",
            "\u001b[1m1/1\u001b[0m \u001b[32m━━━━━━━━━━━━━━━━━━━━\u001b[0m\u001b[37m\u001b[0m \u001b[1m0s\u001b[0m 39ms/step\n",
            "\u001b[1m1/1\u001b[0m \u001b[32m━━━━━━━━━━━━━━━━━━━━\u001b[0m\u001b[37m\u001b[0m \u001b[1m0s\u001b[0m 41ms/step\n",
            "\u001b[1m1/1\u001b[0m \u001b[32m━━━━━━━━━━━━━━━━━━━━\u001b[0m\u001b[37m\u001b[0m \u001b[1m0s\u001b[0m 42ms/step\n",
            "\u001b[1m1/1\u001b[0m \u001b[32m━━━━━━━━━━━━━━━━━━━━\u001b[0m\u001b[37m\u001b[0m \u001b[1m0s\u001b[0m 42ms/step\n",
            "\u001b[1m1/1\u001b[0m \u001b[32m━━━━━━━━━━━━━━━━━━━━\u001b[0m\u001b[37m\u001b[0m \u001b[1m0s\u001b[0m 40ms/step\n",
            "\u001b[1m1/1\u001b[0m \u001b[32m━━━━━━━━━━━━━━━━━━━━\u001b[0m\u001b[37m\u001b[0m \u001b[1m0s\u001b[0m 46ms/step\n",
            "\u001b[1m1/1\u001b[0m \u001b[32m━━━━━━━━━━━━━━━━━━━━\u001b[0m\u001b[37m\u001b[0m \u001b[1m0s\u001b[0m 39ms/step\n",
            "\u001b[1m1/1\u001b[0m \u001b[32m━━━━━━━━━━━━━━━━━━━━\u001b[0m\u001b[37m\u001b[0m \u001b[1m0s\u001b[0m 40ms/step\n",
            "\u001b[1m1/1\u001b[0m \u001b[32m━━━━━━━━━━━━━━━━━━━━\u001b[0m\u001b[37m\u001b[0m \u001b[1m0s\u001b[0m 36ms/step\n",
            "\u001b[1m1/1\u001b[0m \u001b[32m━━━━━━━━━━━━━━━━━━━━\u001b[0m\u001b[37m\u001b[0m \u001b[1m0s\u001b[0m 41ms/step\n",
            "\u001b[1m1/1\u001b[0m \u001b[32m━━━━━━━━━━━━━━━━━━━━\u001b[0m\u001b[37m\u001b[0m \u001b[1m0s\u001b[0m 41ms/step\n",
            "\u001b[1m1/1\u001b[0m \u001b[32m━━━━━━━━━━━━━━━━━━━━\u001b[0m\u001b[37m\u001b[0m \u001b[1m0s\u001b[0m 45ms/step\n",
            "\u001b[1m1/1\u001b[0m \u001b[32m━━━━━━━━━━━━━━━━━━━━\u001b[0m\u001b[37m\u001b[0m \u001b[1m0s\u001b[0m 41ms/step\n",
            "\u001b[1m1/1\u001b[0m \u001b[32m━━━━━━━━━━━━━━━━━━━━\u001b[0m\u001b[37m\u001b[0m \u001b[1m0s\u001b[0m 41ms/step\n",
            "\u001b[1m1/1\u001b[0m \u001b[32m━━━━━━━━━━━━━━━━━━━━\u001b[0m\u001b[37m\u001b[0m \u001b[1m0s\u001b[0m 41ms/step\n",
            "\u001b[1m1/1\u001b[0m \u001b[32m━━━━━━━━━━━━━━━━━━━━\u001b[0m\u001b[37m\u001b[0m \u001b[1m0s\u001b[0m 41ms/step\n",
            "\u001b[1m1/1\u001b[0m \u001b[32m━━━━━━━━━━━━━━━━━━━━\u001b[0m\u001b[37m\u001b[0m \u001b[1m0s\u001b[0m 42ms/step\n",
            "\u001b[1m1/1\u001b[0m \u001b[32m━━━━━━━━━━━━━━━━━━━━\u001b[0m\u001b[37m\u001b[0m \u001b[1m0s\u001b[0m 41ms/step\n",
            "\u001b[1m1/1\u001b[0m \u001b[32m━━━━━━━━━━━━━━━━━━━━\u001b[0m\u001b[37m\u001b[0m \u001b[1m0s\u001b[0m 39ms/step\n",
            "\u001b[1m1/1\u001b[0m \u001b[32m━━━━━━━━━━━━━━━━━━━━\u001b[0m\u001b[37m\u001b[0m \u001b[1m0s\u001b[0m 42ms/step\n",
            "\u001b[1m1/1\u001b[0m \u001b[32m━━━━━━━━━━━━━━━━━━━━\u001b[0m\u001b[37m\u001b[0m \u001b[1m0s\u001b[0m 46ms/step\n",
            "\u001b[1m1/1\u001b[0m \u001b[32m━━━━━━━━━━━━━━━━━━━━\u001b[0m\u001b[37m\u001b[0m \u001b[1m0s\u001b[0m 39ms/step\n",
            "\u001b[1m1/1\u001b[0m \u001b[32m━━━━━━━━━━━━━━━━━━━━\u001b[0m\u001b[37m\u001b[0m \u001b[1m0s\u001b[0m 40ms/step\n",
            "\u001b[1m1/1\u001b[0m \u001b[32m━━━━━━━━━━━━━━━━━━━━\u001b[0m\u001b[37m\u001b[0m \u001b[1m0s\u001b[0m 40ms/step\n",
            "\u001b[1m1/1\u001b[0m \u001b[32m━━━━━━━━━━━━━━━━━━━━\u001b[0m\u001b[37m\u001b[0m \u001b[1m0s\u001b[0m 40ms/step\n",
            "\u001b[1m1/1\u001b[0m \u001b[32m━━━━━━━━━━━━━━━━━━━━\u001b[0m\u001b[37m\u001b[0m \u001b[1m0s\u001b[0m 40ms/step\n",
            "\u001b[1m1/1\u001b[0m \u001b[32m━━━━━━━━━━━━━━━━━━━━\u001b[0m\u001b[37m\u001b[0m \u001b[1m0s\u001b[0m 40ms/step\n",
            "\u001b[1m1/1\u001b[0m \u001b[32m━━━━━━━━━━━━━━━━━━━━\u001b[0m\u001b[37m\u001b[0m \u001b[1m0s\u001b[0m 43ms/step\n",
            "\u001b[1m1/1\u001b[0m \u001b[32m━━━━━━━━━━━━━━━━━━━━\u001b[0m\u001b[37m\u001b[0m \u001b[1m0s\u001b[0m 42ms/step\n",
            "\u001b[1m1/1\u001b[0m \u001b[32m━━━━━━━━━━━━━━━━━━━━\u001b[0m\u001b[37m\u001b[0m \u001b[1m0s\u001b[0m 33ms/step\n",
            "\u001b[1m1/1\u001b[0m \u001b[32m━━━━━━━━━━━━━━━━━━━━\u001b[0m\u001b[37m\u001b[0m \u001b[1m0s\u001b[0m 39ms/step\n",
            "\u001b[1m1/1\u001b[0m \u001b[32m━━━━━━━━━━━━━━━━━━━━\u001b[0m\u001b[37m\u001b[0m \u001b[1m0s\u001b[0m 40ms/step\n",
            "\u001b[1m1/1\u001b[0m \u001b[32m━━━━━━━━━━━━━━━━━━━━\u001b[0m\u001b[37m\u001b[0m \u001b[1m0s\u001b[0m 39ms/step\n",
            "\u001b[1m1/1\u001b[0m \u001b[32m━━━━━━━━━━━━━━━━━━━━\u001b[0m\u001b[37m\u001b[0m \u001b[1m0s\u001b[0m 41ms/step\n",
            "\u001b[1m1/1\u001b[0m \u001b[32m━━━━━━━━━━━━━━━━━━━━\u001b[0m\u001b[37m\u001b[0m \u001b[1m0s\u001b[0m 39ms/step\n",
            "\u001b[1m1/1\u001b[0m \u001b[32m━━━━━━━━━━━━━━━━━━━━\u001b[0m\u001b[37m\u001b[0m \u001b[1m0s\u001b[0m 39ms/step\n",
            "\u001b[1m1/1\u001b[0m \u001b[32m━━━━━━━━━━━━━━━━━━━━\u001b[0m\u001b[37m\u001b[0m \u001b[1m0s\u001b[0m 39ms/step\n",
            "\u001b[1m1/1\u001b[0m \u001b[32m━━━━━━━━━━━━━━━━━━━━\u001b[0m\u001b[37m\u001b[0m \u001b[1m0s\u001b[0m 41ms/step\n",
            "\u001b[1m1/1\u001b[0m \u001b[32m━━━━━━━━━━━━━━━━━━━━\u001b[0m\u001b[37m\u001b[0m \u001b[1m0s\u001b[0m 41ms/step\n",
            "\u001b[1m1/1\u001b[0m \u001b[32m━━━━━━━━━━━━━━━━━━━━\u001b[0m\u001b[37m\u001b[0m \u001b[1m0s\u001b[0m 40ms/step\n",
            "\u001b[1m1/1\u001b[0m \u001b[32m━━━━━━━━━━━━━━━━━━━━\u001b[0m\u001b[37m\u001b[0m \u001b[1m0s\u001b[0m 40ms/step\n",
            "\u001b[1m1/1\u001b[0m \u001b[32m━━━━━━━━━━━━━━━━━━━━\u001b[0m\u001b[37m\u001b[0m \u001b[1m0s\u001b[0m 39ms/step\n",
            "\u001b[1m1/1\u001b[0m \u001b[32m━━━━━━━━━━━━━━━━━━━━\u001b[0m\u001b[37m\u001b[0m \u001b[1m0s\u001b[0m 41ms/step\n",
            "\u001b[1m1/1\u001b[0m \u001b[32m━━━━━━━━━━━━━━━━━━━━\u001b[0m\u001b[37m\u001b[0m \u001b[1m0s\u001b[0m 41ms/step\n",
            "\u001b[1m1/1\u001b[0m \u001b[32m━━━━━━━━━━━━━━━━━━━━\u001b[0m\u001b[37m\u001b[0m \u001b[1m0s\u001b[0m 41ms/step\n",
            "\u001b[1m1/1\u001b[0m \u001b[32m━━━━━━━━━━━━━━━━━━━━\u001b[0m\u001b[37m\u001b[0m \u001b[1m0s\u001b[0m 38ms/step\n",
            "\u001b[1m1/1\u001b[0m \u001b[32m━━━━━━━━━━━━━━━━━━━━\u001b[0m\u001b[37m\u001b[0m \u001b[1m0s\u001b[0m 39ms/step\n",
            "\u001b[1m1/1\u001b[0m \u001b[32m━━━━━━━━━━━━━━━━━━━━\u001b[0m\u001b[37m\u001b[0m \u001b[1m0s\u001b[0m 59ms/step\n",
            "\u001b[1m1/1\u001b[0m \u001b[32m━━━━━━━━━━━━━━━━━━━━\u001b[0m\u001b[37m\u001b[0m \u001b[1m0s\u001b[0m 77ms/step\n",
            "\u001b[1m1/1\u001b[0m \u001b[32m━━━━━━━━━━━━━━━━━━━━\u001b[0m\u001b[37m\u001b[0m \u001b[1m0s\u001b[0m 62ms/step\n",
            "\u001b[1m1/1\u001b[0m \u001b[32m━━━━━━━━━━━━━━━━━━━━\u001b[0m\u001b[37m\u001b[0m \u001b[1m0s\u001b[0m 46ms/step\n",
            "\u001b[1m1/1\u001b[0m \u001b[32m━━━━━━━━━━━━━━━━━━━━\u001b[0m\u001b[37m\u001b[0m \u001b[1m0s\u001b[0m 63ms/step\n",
            "\u001b[1m1/1\u001b[0m \u001b[32m━━━━━━━━━━━━━━━━━━━━\u001b[0m\u001b[37m\u001b[0m \u001b[1m0s\u001b[0m 73ms/step\n",
            "\u001b[1m1/1\u001b[0m \u001b[32m━━━━━━━━━━━━━━━━━━━━\u001b[0m\u001b[37m\u001b[0m \u001b[1m0s\u001b[0m 63ms/step\n",
            "\u001b[1m1/1\u001b[0m \u001b[32m━━━━━━━━━━━━━━━━━━━━\u001b[0m\u001b[37m\u001b[0m \u001b[1m0s\u001b[0m 64ms/step\n",
            "\u001b[1m1/1\u001b[0m \u001b[32m━━━━━━━━━━━━━━━━━━━━\u001b[0m\u001b[37m\u001b[0m \u001b[1m0s\u001b[0m 67ms/step\n",
            "\u001b[1m1/1\u001b[0m \u001b[32m━━━━━━━━━━━━━━━━━━━━\u001b[0m\u001b[37m\u001b[0m \u001b[1m0s\u001b[0m 47ms/step\n",
            "\u001b[1m1/1\u001b[0m \u001b[32m━━━━━━━━━━━━━━━━━━━━\u001b[0m\u001b[37m\u001b[0m \u001b[1m0s\u001b[0m 63ms/step\n",
            "\u001b[1m1/1\u001b[0m \u001b[32m━━━━━━━━━━━━━━━━━━━━\u001b[0m\u001b[37m\u001b[0m \u001b[1m0s\u001b[0m 66ms/step\n",
            "\u001b[1m1/1\u001b[0m \u001b[32m━━━━━━━━━━━━━━━━━━━━\u001b[0m\u001b[37m\u001b[0m \u001b[1m0s\u001b[0m 77ms/step\n",
            "\u001b[1m1/1\u001b[0m \u001b[32m━━━━━━━━━━━━━━━━━━━━\u001b[0m\u001b[37m\u001b[0m \u001b[1m0s\u001b[0m 54ms/step\n",
            "\u001b[1m1/1\u001b[0m \u001b[32m━━━━━━━━━━━━━━━━━━━━\u001b[0m\u001b[37m\u001b[0m \u001b[1m0s\u001b[0m 61ms/step\n",
            "\u001b[1m1/1\u001b[0m \u001b[32m━━━━━━━━━━━━━━━━━━━━\u001b[0m\u001b[37m\u001b[0m \u001b[1m0s\u001b[0m 55ms/step\n",
            "\u001b[1m1/1\u001b[0m \u001b[32m━━━━━━━━━━━━━━━━━━━━\u001b[0m\u001b[37m\u001b[0m \u001b[1m0s\u001b[0m 61ms/step\n",
            "\u001b[1m1/1\u001b[0m \u001b[32m━━━━━━━━━━━━━━━━━━━━\u001b[0m\u001b[37m\u001b[0m \u001b[1m0s\u001b[0m 54ms/step\n",
            "\u001b[1m1/1\u001b[0m \u001b[32m━━━━━━━━━━━━━━━━━━━━\u001b[0m\u001b[37m\u001b[0m \u001b[1m0s\u001b[0m 55ms/step\n",
            "\u001b[1m1/1\u001b[0m \u001b[32m━━━━━━━━━━━━━━━━━━━━\u001b[0m\u001b[37m\u001b[0m \u001b[1m0s\u001b[0m 58ms/step\n",
            "\u001b[1m1/1\u001b[0m \u001b[32m━━━━━━━━━━━━━━━━━━━━\u001b[0m\u001b[37m\u001b[0m \u001b[1m0s\u001b[0m 55ms/step\n",
            "\u001b[1m1/1\u001b[0m \u001b[32m━━━━━━━━━━━━━━━━━━━━\u001b[0m\u001b[37m\u001b[0m \u001b[1m0s\u001b[0m 74ms/step\n",
            "\u001b[1m1/1\u001b[0m \u001b[32m━━━━━━━━━━━━━━━━━━━━\u001b[0m\u001b[37m\u001b[0m \u001b[1m0s\u001b[0m 53ms/step\n",
            "\u001b[1m1/1\u001b[0m \u001b[32m━━━━━━━━━━━━━━━━━━━━\u001b[0m\u001b[37m\u001b[0m \u001b[1m0s\u001b[0m 57ms/step\n",
            "\u001b[1m1/1\u001b[0m \u001b[32m━━━━━━━━━━━━━━━━━━━━\u001b[0m\u001b[37m\u001b[0m \u001b[1m0s\u001b[0m 46ms/step\n",
            "\u001b[1m1/1\u001b[0m \u001b[32m━━━━━━━━━━━━━━━━━━━━\u001b[0m\u001b[37m\u001b[0m \u001b[1m0s\u001b[0m 41ms/step\n",
            "\u001b[1m1/1\u001b[0m \u001b[32m━━━━━━━━━━━━━━━━━━━━\u001b[0m\u001b[37m\u001b[0m \u001b[1m0s\u001b[0m 41ms/step\n",
            "\u001b[1m1/1\u001b[0m \u001b[32m━━━━━━━━━━━━━━━━━━━━\u001b[0m\u001b[37m\u001b[0m \u001b[1m0s\u001b[0m 39ms/step\n",
            "\u001b[1m1/1\u001b[0m \u001b[32m━━━━━━━━━━━━━━━━━━━━\u001b[0m\u001b[37m\u001b[0m \u001b[1m0s\u001b[0m 52ms/step\n",
            "\u001b[1m1/1\u001b[0m \u001b[32m━━━━━━━━━━━━━━━━━━━━\u001b[0m\u001b[37m\u001b[0m \u001b[1m0s\u001b[0m 49ms/step\n",
            "\u001b[1m1/1\u001b[0m \u001b[32m━━━━━━━━━━━━━━━━━━━━\u001b[0m\u001b[37m\u001b[0m \u001b[1m0s\u001b[0m 41ms/step\n",
            "\u001b[1m1/1\u001b[0m \u001b[32m━━━━━━━━━━━━━━━━━━━━\u001b[0m\u001b[37m\u001b[0m \u001b[1m0s\u001b[0m 40ms/step\n",
            "\u001b[1m1/1\u001b[0m \u001b[32m━━━━━━━━━━━━━━━━━━━━\u001b[0m\u001b[37m\u001b[0m \u001b[1m0s\u001b[0m 44ms/step\n",
            "\u001b[1m1/1\u001b[0m \u001b[32m━━━━━━━━━━━━━━━━━━━━\u001b[0m\u001b[37m\u001b[0m \u001b[1m0s\u001b[0m 41ms/step\n",
            "\u001b[1m1/1\u001b[0m \u001b[32m━━━━━━━━━━━━━━━━━━━━\u001b[0m\u001b[37m\u001b[0m \u001b[1m0s\u001b[0m 40ms/step\n",
            "\u001b[1m1/1\u001b[0m \u001b[32m━━━━━━━━━━━━━━━━━━━━\u001b[0m\u001b[37m\u001b[0m \u001b[1m0s\u001b[0m 41ms/step\n",
            "\u001b[1m1/1\u001b[0m \u001b[32m━━━━━━━━━━━━━━━━━━━━\u001b[0m\u001b[37m\u001b[0m \u001b[1m0s\u001b[0m 41ms/step\n",
            "\u001b[1m1/1\u001b[0m \u001b[32m━━━━━━━━━━━━━━━━━━━━\u001b[0m\u001b[37m\u001b[0m \u001b[1m0s\u001b[0m 41ms/step\n",
            "\u001b[1m1/1\u001b[0m \u001b[32m━━━━━━━━━━━━━━━━━━━━\u001b[0m\u001b[37m\u001b[0m \u001b[1m0s\u001b[0m 43ms/step\n",
            "\u001b[1m1/1\u001b[0m \u001b[32m━━━━━━━━━━━━━━━━━━━━\u001b[0m\u001b[37m\u001b[0m \u001b[1m0s\u001b[0m 42ms/step\n",
            "\u001b[1m1/1\u001b[0m \u001b[32m━━━━━━━━━━━━━━━━━━━━\u001b[0m\u001b[37m\u001b[0m \u001b[1m0s\u001b[0m 42ms/step\n",
            "\u001b[1m1/1\u001b[0m \u001b[32m━━━━━━━━━━━━━━━━━━━━\u001b[0m\u001b[37m\u001b[0m \u001b[1m0s\u001b[0m 42ms/step\n",
            "\u001b[1m1/1\u001b[0m \u001b[32m━━━━━━━━━━━━━━━━━━━━\u001b[0m\u001b[37m\u001b[0m \u001b[1m0s\u001b[0m 43ms/step\n",
            "\u001b[1m1/1\u001b[0m \u001b[32m━━━━━━━━━━━━━━━━━━━━\u001b[0m\u001b[37m\u001b[0m \u001b[1m0s\u001b[0m 40ms/step\n",
            "\u001b[1m1/1\u001b[0m \u001b[32m━━━━━━━━━━━━━━━━━━━━\u001b[0m\u001b[37m\u001b[0m \u001b[1m0s\u001b[0m 41ms/step\n",
            "\u001b[1m1/1\u001b[0m \u001b[32m━━━━━━━━━━━━━━━━━━━━\u001b[0m\u001b[37m\u001b[0m \u001b[1m0s\u001b[0m 37ms/step\n",
            "\u001b[1m1/1\u001b[0m \u001b[32m━━━━━━━━━━━━━━━━━━━━\u001b[0m\u001b[37m\u001b[0m \u001b[1m0s\u001b[0m 38ms/step\n",
            "\u001b[1m1/1\u001b[0m \u001b[32m━━━━━━━━━━━━━━━━━━━━\u001b[0m\u001b[37m\u001b[0m \u001b[1m0s\u001b[0m 53ms/step\n",
            "\u001b[1m1/1\u001b[0m \u001b[32m━━━━━━━━━━━━━━━━━━━━\u001b[0m\u001b[37m\u001b[0m \u001b[1m0s\u001b[0m 40ms/step\n",
            "\u001b[1m1/1\u001b[0m \u001b[32m━━━━━━━━━━━━━━━━━━━━\u001b[0m\u001b[37m\u001b[0m \u001b[1m0s\u001b[0m 43ms/step\n",
            "\u001b[1m1/1\u001b[0m \u001b[32m━━━━━━━━━━━━━━━━━━━━\u001b[0m\u001b[37m\u001b[0m \u001b[1m0s\u001b[0m 41ms/step\n",
            "\u001b[1m1/1\u001b[0m \u001b[32m━━━━━━━━━━━━━━━━━━━━\u001b[0m\u001b[37m\u001b[0m \u001b[1m0s\u001b[0m 41ms/step\n",
            "\u001b[1m1/1\u001b[0m \u001b[32m━━━━━━━━━━━━━━━━━━━━\u001b[0m\u001b[37m\u001b[0m \u001b[1m0s\u001b[0m 43ms/step\n",
            "\u001b[1m1/1\u001b[0m \u001b[32m━━━━━━━━━━━━━━━━━━━━\u001b[0m\u001b[37m\u001b[0m \u001b[1m0s\u001b[0m 41ms/step\n",
            "\u001b[1m1/1\u001b[0m \u001b[32m━━━━━━━━━━━━━━━━━━━━\u001b[0m\u001b[37m\u001b[0m \u001b[1m0s\u001b[0m 41ms/step\n",
            "\u001b[1m1/1\u001b[0m \u001b[32m━━━━━━━━━━━━━━━━━━━━\u001b[0m\u001b[37m\u001b[0m \u001b[1m0s\u001b[0m 42ms/step\n",
            "\u001b[1m1/1\u001b[0m \u001b[32m━━━━━━━━━━━━━━━━━━━━\u001b[0m\u001b[37m\u001b[0m \u001b[1m0s\u001b[0m 42ms/step\n",
            "\u001b[1m1/1\u001b[0m \u001b[32m━━━━━━━━━━━━━━━━━━━━\u001b[0m\u001b[37m\u001b[0m \u001b[1m0s\u001b[0m 40ms/step\n",
            "\u001b[1m1/1\u001b[0m \u001b[32m━━━━━━━━━━━━━━━━━━━━\u001b[0m\u001b[37m\u001b[0m \u001b[1m0s\u001b[0m 38ms/step\n",
            "\u001b[1m1/1\u001b[0m \u001b[32m━━━━━━━━━━━━━━━━━━━━\u001b[0m\u001b[37m\u001b[0m \u001b[1m0s\u001b[0m 40ms/step\n",
            "\u001b[1m1/1\u001b[0m \u001b[32m━━━━━━━━━━━━━━━━━━━━\u001b[0m\u001b[37m\u001b[0m \u001b[1m0s\u001b[0m 39ms/step\n",
            "\u001b[1m1/1\u001b[0m \u001b[32m━━━━━━━━━━━━━━━━━━━━\u001b[0m\u001b[37m\u001b[0m \u001b[1m0s\u001b[0m 46ms/step\n",
            "\u001b[1m1/1\u001b[0m \u001b[32m━━━━━━━━━━━━━━━━━━━━\u001b[0m\u001b[37m\u001b[0m \u001b[1m0s\u001b[0m 40ms/step\n",
            "\u001b[1m1/1\u001b[0m \u001b[32m━━━━━━━━━━━━━━━━━━━━\u001b[0m\u001b[37m\u001b[0m \u001b[1m0s\u001b[0m 41ms/step\n",
            "\u001b[1m1/1\u001b[0m \u001b[32m━━━━━━━━━━━━━━━━━━━━\u001b[0m\u001b[37m\u001b[0m \u001b[1m0s\u001b[0m 39ms/step\n",
            "\u001b[1m1/1\u001b[0m \u001b[32m━━━━━━━━━━━━━━━━━━━━\u001b[0m\u001b[37m\u001b[0m \u001b[1m0s\u001b[0m 40ms/step\n",
            "\u001b[1m1/1\u001b[0m \u001b[32m━━━━━━━━━━━━━━━━━━━━\u001b[0m\u001b[37m\u001b[0m \u001b[1m0s\u001b[0m 42ms/step\n",
            "\u001b[1m1/1\u001b[0m \u001b[32m━━━━━━━━━━━━━━━━━━━━\u001b[0m\u001b[37m\u001b[0m \u001b[1m0s\u001b[0m 41ms/step\n",
            "\u001b[1m1/1\u001b[0m \u001b[32m━━━━━━━━━━━━━━━━━━━━\u001b[0m\u001b[37m\u001b[0m \u001b[1m0s\u001b[0m 41ms/step\n",
            "\u001b[1m1/1\u001b[0m \u001b[32m━━━━━━━━━━━━━━━━━━━━\u001b[0m\u001b[37m\u001b[0m \u001b[1m0s\u001b[0m 38ms/step\n",
            "\u001b[1m1/1\u001b[0m \u001b[32m━━━━━━━━━━━━━━━━━━━━\u001b[0m\u001b[37m\u001b[0m \u001b[1m0s\u001b[0m 38ms/step\n",
            "\u001b[1m1/1\u001b[0m \u001b[32m━━━━━━━━━━━━━━━━━━━━\u001b[0m\u001b[37m\u001b[0m \u001b[1m0s\u001b[0m 41ms/step\n",
            "\u001b[1m1/1\u001b[0m \u001b[32m━━━━━━━━━━━━━━━━━━━━\u001b[0m\u001b[37m\u001b[0m \u001b[1m0s\u001b[0m 38ms/step\n",
            "\u001b[1m1/1\u001b[0m \u001b[32m━━━━━━━━━━━━━━━━━━━━\u001b[0m\u001b[37m\u001b[0m \u001b[1m0s\u001b[0m 42ms/step\n",
            "\u001b[1m1/1\u001b[0m \u001b[32m━━━━━━━━━━━━━━━━━━━━\u001b[0m\u001b[37m\u001b[0m \u001b[1m0s\u001b[0m 40ms/step\n",
            "\u001b[1m1/1\u001b[0m \u001b[32m━━━━━━━━━━━━━━━━━━━━\u001b[0m\u001b[37m\u001b[0m \u001b[1m0s\u001b[0m 39ms/step\n",
            "\u001b[1m1/1\u001b[0m \u001b[32m━━━━━━━━━━━━━━━━━━━━\u001b[0m\u001b[37m\u001b[0m \u001b[1m0s\u001b[0m 40ms/step\n",
            "\u001b[1m1/1\u001b[0m \u001b[32m━━━━━━━━━━━━━━━━━━━━\u001b[0m\u001b[37m\u001b[0m \u001b[1m0s\u001b[0m 41ms/step\n",
            "\u001b[1m1/1\u001b[0m \u001b[32m━━━━━━━━━━━━━━━━━━━━\u001b[0m\u001b[37m\u001b[0m \u001b[1m0s\u001b[0m 45ms/step\n",
            "\u001b[1m1/1\u001b[0m \u001b[32m━━━━━━━━━━━━━━━━━━━━\u001b[0m\u001b[37m\u001b[0m \u001b[1m0s\u001b[0m 38ms/step\n",
            "\u001b[1m1/1\u001b[0m \u001b[32m━━━━━━━━━━━━━━━━━━━━\u001b[0m\u001b[37m\u001b[0m \u001b[1m0s\u001b[0m 42ms/step\n",
            "\u001b[1m1/1\u001b[0m \u001b[32m━━━━━━━━━━━━━━━━━━━━\u001b[0m\u001b[37m\u001b[0m \u001b[1m0s\u001b[0m 41ms/step\n",
            "\u001b[1m1/1\u001b[0m \u001b[32m━━━━━━━━━━━━━━━━━━━━\u001b[0m\u001b[37m\u001b[0m \u001b[1m0s\u001b[0m 40ms/step\n",
            "\u001b[1m1/1\u001b[0m \u001b[32m━━━━━━━━━━━━━━━━━━━━\u001b[0m\u001b[37m\u001b[0m \u001b[1m0s\u001b[0m 42ms/step\n",
            "\u001b[1m1/1\u001b[0m \u001b[32m━━━━━━━━━━━━━━━━━━━━\u001b[0m\u001b[37m\u001b[0m \u001b[1m0s\u001b[0m 38ms/step\n",
            "\u001b[1m1/1\u001b[0m \u001b[32m━━━━━━━━━━━━━━━━━━━━\u001b[0m\u001b[37m\u001b[0m \u001b[1m0s\u001b[0m 40ms/step\n",
            "\u001b[1m1/1\u001b[0m \u001b[32m━━━━━━━━━━━━━━━━━━━━\u001b[0m\u001b[37m\u001b[0m \u001b[1m0s\u001b[0m 55ms/step\n",
            "\u001b[1m1/1\u001b[0m \u001b[32m━━━━━━━━━━━━━━━━━━━━\u001b[0m\u001b[37m\u001b[0m \u001b[1m0s\u001b[0m 36ms/step\n",
            "\u001b[1m1/1\u001b[0m \u001b[32m━━━━━━━━━━━━━━━━━━━━\u001b[0m\u001b[37m\u001b[0m \u001b[1m0s\u001b[0m 42ms/step\n",
            "\u001b[1m1/1\u001b[0m \u001b[32m━━━━━━━━━━━━━━━━━━━━\u001b[0m\u001b[37m\u001b[0m \u001b[1m0s\u001b[0m 41ms/step\n",
            "\u001b[1m1/1\u001b[0m \u001b[32m━━━━━━━━━━━━━━━━━━━━\u001b[0m\u001b[37m\u001b[0m \u001b[1m0s\u001b[0m 43ms/step\n",
            "\u001b[1m1/1\u001b[0m \u001b[32m━━━━━━━━━━━━━━━━━━━━\u001b[0m\u001b[37m\u001b[0m \u001b[1m0s\u001b[0m 42ms/step\n",
            "\u001b[1m1/1\u001b[0m \u001b[32m━━━━━━━━━━━━━━━━━━━━\u001b[0m\u001b[37m\u001b[0m \u001b[1m0s\u001b[0m 41ms/step\n",
            "\u001b[1m1/1\u001b[0m \u001b[32m━━━━━━━━━━━━━━━━━━━━\u001b[0m\u001b[37m\u001b[0m \u001b[1m0s\u001b[0m 40ms/step\n",
            "\u001b[1m1/1\u001b[0m \u001b[32m━━━━━━━━━━━━━━━━━━━━\u001b[0m\u001b[37m\u001b[0m \u001b[1m0s\u001b[0m 40ms/step\n",
            "\u001b[1m1/1\u001b[0m \u001b[32m━━━━━━━━━━━━━━━━━━━━\u001b[0m\u001b[37m\u001b[0m \u001b[1m0s\u001b[0m 41ms/step\n",
            "\u001b[1m1/1\u001b[0m \u001b[32m━━━━━━━━━━━━━━━━━━━━\u001b[0m\u001b[37m\u001b[0m \u001b[1m0s\u001b[0m 52ms/step\n",
            "\u001b[1m1/1\u001b[0m \u001b[32m━━━━━━━━━━━━━━━━━━━━\u001b[0m\u001b[37m\u001b[0m \u001b[1m0s\u001b[0m 44ms/step\n",
            "\u001b[1m1/1\u001b[0m \u001b[32m━━━━━━━━━━━━━━━━━━━━\u001b[0m\u001b[37m\u001b[0m \u001b[1m0s\u001b[0m 41ms/step\n",
            "\u001b[1m1/1\u001b[0m \u001b[32m━━━━━━━━━━━━━━━━━━━━\u001b[0m\u001b[37m\u001b[0m \u001b[1m0s\u001b[0m 41ms/step\n",
            "\u001b[1m1/1\u001b[0m \u001b[32m━━━━━━━━━━━━━━━━━━━━\u001b[0m\u001b[37m\u001b[0m \u001b[1m0s\u001b[0m 39ms/step\n",
            "\u001b[1m1/1\u001b[0m \u001b[32m━━━━━━━━━━━━━━━━━━━━\u001b[0m\u001b[37m\u001b[0m \u001b[1m0s\u001b[0m 39ms/step\n",
            "\u001b[1m1/1\u001b[0m \u001b[32m━━━━━━━━━━━━━━━━━━━━\u001b[0m\u001b[37m\u001b[0m \u001b[1m0s\u001b[0m 39ms/step\n",
            "\u001b[1m1/1\u001b[0m \u001b[32m━━━━━━━━━━━━━━━━━━━━\u001b[0m\u001b[37m\u001b[0m \u001b[1m0s\u001b[0m 40ms/step\n",
            "\u001b[1m1/1\u001b[0m \u001b[32m━━━━━━━━━━━━━━━━━━━━\u001b[0m\u001b[37m\u001b[0m \u001b[1m0s\u001b[0m 43ms/step\n",
            "\u001b[1m1/1\u001b[0m \u001b[32m━━━━━━━━━━━━━━━━━━━━\u001b[0m\u001b[37m\u001b[0m \u001b[1m0s\u001b[0m 46ms/step\n",
            "\u001b[1m1/1\u001b[0m \u001b[32m━━━━━━━━━━━━━━━━━━━━\u001b[0m\u001b[37m\u001b[0m \u001b[1m0s\u001b[0m 41ms/step\n",
            "\u001b[1m1/1\u001b[0m \u001b[32m━━━━━━━━━━━━━━━━━━━━\u001b[0m\u001b[37m\u001b[0m \u001b[1m0s\u001b[0m 38ms/step\n",
            "\u001b[1m1/1\u001b[0m \u001b[32m━━━━━━━━━━━━━━━━━━━━\u001b[0m\u001b[37m\u001b[0m \u001b[1m0s\u001b[0m 34ms/step\n",
            "\u001b[1m1/1\u001b[0m \u001b[32m━━━━━━━━━━━━━━━━━━━━\u001b[0m\u001b[37m\u001b[0m \u001b[1m0s\u001b[0m 41ms/step\n",
            "\u001b[1m1/1\u001b[0m \u001b[32m━━━━━━━━━━━━━━━━━━━━\u001b[0m\u001b[37m\u001b[0m \u001b[1m0s\u001b[0m 152ms/step\n",
            "\u001b[1m1/1\u001b[0m \u001b[32m━━━━━━━━━━━━━━━━━━━━\u001b[0m\u001b[37m\u001b[0m \u001b[1m0s\u001b[0m 137ms/step\n",
            "\u001b[1m1/1\u001b[0m \u001b[32m━━━━━━━━━━━━━━━━━━━━\u001b[0m\u001b[37m\u001b[0m \u001b[1m0s\u001b[0m 41ms/step\n",
            "\u001b[1m1/1\u001b[0m \u001b[32m━━━━━━━━━━━━━━━━━━━━\u001b[0m\u001b[37m\u001b[0m \u001b[1m0s\u001b[0m 40ms/step\n",
            "\u001b[1m1/1\u001b[0m \u001b[32m━━━━━━━━━━━━━━━━━━━━\u001b[0m\u001b[37m\u001b[0m \u001b[1m0s\u001b[0m 54ms/step\n",
            "\u001b[1m1/1\u001b[0m \u001b[32m━━━━━━━━━━━━━━━━━━━━\u001b[0m\u001b[37m\u001b[0m \u001b[1m0s\u001b[0m 55ms/step\n",
            "\u001b[1m1/1\u001b[0m \u001b[32m━━━━━━━━━━━━━━━━━━━━\u001b[0m\u001b[37m\u001b[0m \u001b[1m0s\u001b[0m 55ms/step\n",
            "\u001b[1m1/1\u001b[0m \u001b[32m━━━━━━━━━━━━━━━━━━━━\u001b[0m\u001b[37m\u001b[0m \u001b[1m0s\u001b[0m 58ms/step\n",
            "\u001b[1m1/1\u001b[0m \u001b[32m━━━━━━━━━━━━━━━━━━━━\u001b[0m\u001b[37m\u001b[0m \u001b[1m0s\u001b[0m 54ms/step\n",
            "\u001b[1m1/1\u001b[0m \u001b[32m━━━━━━━━━━━━━━━━━━━━\u001b[0m\u001b[37m\u001b[0m \u001b[1m0s\u001b[0m 69ms/step\n",
            "\u001b[1m1/1\u001b[0m \u001b[32m━━━━━━━━━━━━━━━━━━━━\u001b[0m\u001b[37m\u001b[0m \u001b[1m0s\u001b[0m 69ms/step\n",
            "\u001b[1m1/1\u001b[0m \u001b[32m━━━━━━━━━━━━━━━━━━━━\u001b[0m\u001b[37m\u001b[0m \u001b[1m0s\u001b[0m 64ms/step\n",
            "\u001b[1m1/1\u001b[0m \u001b[32m━━━━━━━━━━━━━━━━━━━━\u001b[0m\u001b[37m\u001b[0m \u001b[1m0s\u001b[0m 59ms/step\n",
            "\u001b[1m1/1\u001b[0m \u001b[32m━━━━━━━━━━━━━━━━━━━━\u001b[0m\u001b[37m\u001b[0m \u001b[1m0s\u001b[0m 60ms/step\n",
            "\u001b[1m1/1\u001b[0m \u001b[32m━━━━━━━━━━━━━━━━━━━━\u001b[0m\u001b[37m\u001b[0m \u001b[1m0s\u001b[0m 61ms/step\n",
            "\u001b[1m1/1\u001b[0m \u001b[32m━━━━━━━━━━━━━━━━━━━━\u001b[0m\u001b[37m\u001b[0m \u001b[1m0s\u001b[0m 61ms/step\n",
            "\u001b[1m1/1\u001b[0m \u001b[32m━━━━━━━━━━━━━━━━━━━━\u001b[0m\u001b[37m\u001b[0m \u001b[1m0s\u001b[0m 75ms/step\n",
            "\u001b[1m1/1\u001b[0m \u001b[32m━━━━━━━━━━━━━━━━━━━━\u001b[0m\u001b[37m\u001b[0m \u001b[1m0s\u001b[0m 49ms/step\n",
            "\u001b[1m1/1\u001b[0m \u001b[32m━━━━━━━━━━━━━━━━━━━━\u001b[0m\u001b[37m\u001b[0m \u001b[1m0s\u001b[0m 68ms/step\n",
            "Processing example 20/50\n",
            "\u001b[1m1/1\u001b[0m \u001b[32m━━━━━━━━━━━━━━━━━━━━\u001b[0m\u001b[37m\u001b[0m \u001b[1m0s\u001b[0m 54ms/step\n",
            "\u001b[1m1/1\u001b[0m \u001b[32m━━━━━━━━━━━━━━━━━━━━\u001b[0m\u001b[37m\u001b[0m \u001b[1m0s\u001b[0m 54ms/step\n",
            "\u001b[1m1/1\u001b[0m \u001b[32m━━━━━━━━━━━━━━━━━━━━\u001b[0m\u001b[37m\u001b[0m \u001b[1m0s\u001b[0m 50ms/step\n",
            "\u001b[1m1/1\u001b[0m \u001b[32m━━━━━━━━━━━━━━━━━━━━\u001b[0m\u001b[37m\u001b[0m \u001b[1m0s\u001b[0m 47ms/step\n",
            "\u001b[1m1/1\u001b[0m \u001b[32m━━━━━━━━━━━━━━━━━━━━\u001b[0m\u001b[37m\u001b[0m \u001b[1m0s\u001b[0m 58ms/step\n",
            "\u001b[1m1/1\u001b[0m \u001b[32m━━━━━━━━━━━━━━━━━━━━\u001b[0m\u001b[37m\u001b[0m \u001b[1m0s\u001b[0m 76ms/step\n",
            "\u001b[1m1/1\u001b[0m \u001b[32m━━━━━━━━━━━━━━━━━━━━\u001b[0m\u001b[37m\u001b[0m \u001b[1m0s\u001b[0m 71ms/step\n",
            "\u001b[1m1/1\u001b[0m \u001b[32m━━━━━━━━━━━━━━━━━━━━\u001b[0m\u001b[37m\u001b[0m \u001b[1m0s\u001b[0m 54ms/step\n",
            "\u001b[1m1/1\u001b[0m \u001b[32m━━━━━━━━━━━━━━━━━━━━\u001b[0m\u001b[37m\u001b[0m \u001b[1m0s\u001b[0m 51ms/step\n",
            "\u001b[1m1/1\u001b[0m \u001b[32m━━━━━━━━━━━━━━━━━━━━\u001b[0m\u001b[37m\u001b[0m \u001b[1m0s\u001b[0m 58ms/step\n",
            "\u001b[1m1/1\u001b[0m \u001b[32m━━━━━━━━━━━━━━━━━━━━\u001b[0m\u001b[37m\u001b[0m \u001b[1m0s\u001b[0m 54ms/step\n",
            "\u001b[1m1/1\u001b[0m \u001b[32m━━━━━━━━━━━━━━━━━━━━\u001b[0m\u001b[37m\u001b[0m \u001b[1m0s\u001b[0m 39ms/step\n",
            "\u001b[1m1/1\u001b[0m \u001b[32m━━━━━━━━━━━━━━━━━━━━\u001b[0m\u001b[37m\u001b[0m \u001b[1m0s\u001b[0m 42ms/step\n",
            "\u001b[1m1/1\u001b[0m \u001b[32m━━━━━━━━━━━━━━━━━━━━\u001b[0m\u001b[37m\u001b[0m \u001b[1m0s\u001b[0m 41ms/step\n",
            "\u001b[1m1/1\u001b[0m \u001b[32m━━━━━━━━━━━━━━━━━━━━\u001b[0m\u001b[37m\u001b[0m \u001b[1m0s\u001b[0m 40ms/step\n",
            "\u001b[1m1/1\u001b[0m \u001b[32m━━━━━━━━━━━━━━━━━━━━\u001b[0m\u001b[37m\u001b[0m \u001b[1m0s\u001b[0m 39ms/step\n",
            "\u001b[1m1/1\u001b[0m \u001b[32m━━━━━━━━━━━━━━━━━━━━\u001b[0m\u001b[37m\u001b[0m \u001b[1m0s\u001b[0m 42ms/step\n",
            "\u001b[1m1/1\u001b[0m \u001b[32m━━━━━━━━━━━━━━━━━━━━\u001b[0m\u001b[37m\u001b[0m \u001b[1m0s\u001b[0m 39ms/step\n",
            "\u001b[1m1/1\u001b[0m \u001b[32m━━━━━━━━━━━━━━━━━━━━\u001b[0m\u001b[37m\u001b[0m \u001b[1m0s\u001b[0m 40ms/step\n",
            "\u001b[1m1/1\u001b[0m \u001b[32m━━━━━━━━━━━━━━━━━━━━\u001b[0m\u001b[37m\u001b[0m \u001b[1m0s\u001b[0m 40ms/step\n",
            "\u001b[1m1/1\u001b[0m \u001b[32m━━━━━━━━━━━━━━━━━━━━\u001b[0m\u001b[37m\u001b[0m \u001b[1m0s\u001b[0m 40ms/step\n",
            "\u001b[1m1/1\u001b[0m \u001b[32m━━━━━━━━━━━━━━━━━━━━\u001b[0m\u001b[37m\u001b[0m \u001b[1m0s\u001b[0m 36ms/step\n",
            "\u001b[1m1/1\u001b[0m \u001b[32m━━━━━━━━━━━━━━━━━━━━\u001b[0m\u001b[37m\u001b[0m \u001b[1m0s\u001b[0m 50ms/step\n",
            "\u001b[1m1/1\u001b[0m \u001b[32m━━━━━━━━━━━━━━━━━━━━\u001b[0m\u001b[37m\u001b[0m \u001b[1m0s\u001b[0m 39ms/step\n",
            "\u001b[1m1/1\u001b[0m \u001b[32m━━━━━━━━━━━━━━━━━━━━\u001b[0m\u001b[37m\u001b[0m \u001b[1m0s\u001b[0m 40ms/step\n",
            "\u001b[1m1/1\u001b[0m \u001b[32m━━━━━━━━━━━━━━━━━━━━\u001b[0m\u001b[37m\u001b[0m \u001b[1m0s\u001b[0m 39ms/step\n",
            "\u001b[1m1/1\u001b[0m \u001b[32m━━━━━━━━━━━━━━━━━━━━\u001b[0m\u001b[37m\u001b[0m \u001b[1m0s\u001b[0m 40ms/step\n",
            "\u001b[1m1/1\u001b[0m \u001b[32m━━━━━━━━━━━━━━━━━━━━\u001b[0m\u001b[37m\u001b[0m \u001b[1m0s\u001b[0m 41ms/step\n",
            "\u001b[1m1/1\u001b[0m \u001b[32m━━━━━━━━━━━━━━━━━━━━\u001b[0m\u001b[37m\u001b[0m \u001b[1m0s\u001b[0m 40ms/step\n",
            "\u001b[1m1/1\u001b[0m \u001b[32m━━━━━━━━━━━━━━━━━━━━\u001b[0m\u001b[37m\u001b[0m \u001b[1m0s\u001b[0m 40ms/step\n",
            "\u001b[1m1/1\u001b[0m \u001b[32m━━━━━━━━━━━━━━━━━━━━\u001b[0m\u001b[37m\u001b[0m \u001b[1m0s\u001b[0m 40ms/step\n",
            "\u001b[1m1/1\u001b[0m \u001b[32m━━━━━━━━━━━━━━━━━━━━\u001b[0m\u001b[37m\u001b[0m \u001b[1m0s\u001b[0m 47ms/step\n",
            "\u001b[1m1/1\u001b[0m \u001b[32m━━━━━━━━━━━━━━━━━━━━\u001b[0m\u001b[37m\u001b[0m \u001b[1m0s\u001b[0m 48ms/step\n",
            "\u001b[1m1/1\u001b[0m \u001b[32m━━━━━━━━━━━━━━━━━━━━\u001b[0m\u001b[37m\u001b[0m \u001b[1m0s\u001b[0m 49ms/step\n",
            "\u001b[1m1/1\u001b[0m \u001b[32m━━━━━━━━━━━━━━━━━━━━\u001b[0m\u001b[37m\u001b[0m \u001b[1m0s\u001b[0m 43ms/step\n",
            "\u001b[1m1/1\u001b[0m \u001b[32m━━━━━━━━━━━━━━━━━━━━\u001b[0m\u001b[37m\u001b[0m \u001b[1m0s\u001b[0m 39ms/step\n",
            "\u001b[1m1/1\u001b[0m \u001b[32m━━━━━━━━━━━━━━━━━━━━\u001b[0m\u001b[37m\u001b[0m \u001b[1m0s\u001b[0m 40ms/step\n",
            "\u001b[1m1/1\u001b[0m \u001b[32m━━━━━━━━━━━━━━━━━━━━\u001b[0m\u001b[37m\u001b[0m \u001b[1m0s\u001b[0m 41ms/step\n",
            "\u001b[1m1/1\u001b[0m \u001b[32m━━━━━━━━━━━━━━━━━━━━\u001b[0m\u001b[37m\u001b[0m \u001b[1m0s\u001b[0m 38ms/step\n",
            "\u001b[1m1/1\u001b[0m \u001b[32m━━━━━━━━━━━━━━━━━━━━\u001b[0m\u001b[37m\u001b[0m \u001b[1m0s\u001b[0m 40ms/step\n",
            "\u001b[1m1/1\u001b[0m \u001b[32m━━━━━━━━━━━━━━━━━━━━\u001b[0m\u001b[37m\u001b[0m \u001b[1m0s\u001b[0m 43ms/step\n",
            "\u001b[1m1/1\u001b[0m \u001b[32m━━━━━━━━━━━━━━━━━━━━\u001b[0m\u001b[37m\u001b[0m \u001b[1m0s\u001b[0m 48ms/step\n",
            "\u001b[1m1/1\u001b[0m \u001b[32m━━━━━━━━━━━━━━━━━━━━\u001b[0m\u001b[37m\u001b[0m \u001b[1m0s\u001b[0m 36ms/step\n",
            "\u001b[1m1/1\u001b[0m \u001b[32m━━━━━━━━━━━━━━━━━━━━\u001b[0m\u001b[37m\u001b[0m \u001b[1m0s\u001b[0m 40ms/step\n",
            "\u001b[1m1/1\u001b[0m \u001b[32m━━━━━━━━━━━━━━━━━━━━\u001b[0m\u001b[37m\u001b[0m \u001b[1m0s\u001b[0m 44ms/step\n",
            "\u001b[1m1/1\u001b[0m \u001b[32m━━━━━━━━━━━━━━━━━━━━\u001b[0m\u001b[37m\u001b[0m \u001b[1m0s\u001b[0m 40ms/step\n",
            "\u001b[1m1/1\u001b[0m \u001b[32m━━━━━━━━━━━━━━━━━━━━\u001b[0m\u001b[37m\u001b[0m \u001b[1m0s\u001b[0m 39ms/step\n",
            "\u001b[1m1/1\u001b[0m \u001b[32m━━━━━━━━━━━━━━━━━━━━\u001b[0m\u001b[37m\u001b[0m \u001b[1m0s\u001b[0m 40ms/step\n",
            "\u001b[1m1/1\u001b[0m \u001b[32m━━━━━━━━━━━━━━━━━━━━\u001b[0m\u001b[37m\u001b[0m \u001b[1m0s\u001b[0m 41ms/step\n",
            "\u001b[1m1/1\u001b[0m \u001b[32m━━━━━━━━━━━━━━━━━━━━\u001b[0m\u001b[37m\u001b[0m \u001b[1m0s\u001b[0m 39ms/step\n",
            "\u001b[1m1/1\u001b[0m \u001b[32m━━━━━━━━━━━━━━━━━━━━\u001b[0m\u001b[37m\u001b[0m \u001b[1m0s\u001b[0m 43ms/step\n",
            "\u001b[1m1/1\u001b[0m \u001b[32m━━━━━━━━━━━━━━━━━━━━\u001b[0m\u001b[37m\u001b[0m \u001b[1m0s\u001b[0m 40ms/step\n",
            "\u001b[1m1/1\u001b[0m \u001b[32m━━━━━━━━━━━━━━━━━━━━\u001b[0m\u001b[37m\u001b[0m \u001b[1m0s\u001b[0m 40ms/step\n",
            "\u001b[1m1/1\u001b[0m \u001b[32m━━━━━━━━━━━━━━━━━━━━\u001b[0m\u001b[37m\u001b[0m \u001b[1m0s\u001b[0m 40ms/step\n",
            "\u001b[1m1/1\u001b[0m \u001b[32m━━━━━━━━━━━━━━━━━━━━\u001b[0m\u001b[37m\u001b[0m \u001b[1m0s\u001b[0m 40ms/step\n",
            "\u001b[1m1/1\u001b[0m \u001b[32m━━━━━━━━━━━━━━━━━━━━\u001b[0m\u001b[37m\u001b[0m \u001b[1m0s\u001b[0m 39ms/step\n",
            "\u001b[1m1/1\u001b[0m \u001b[32m━━━━━━━━━━━━━━━━━━━━\u001b[0m\u001b[37m\u001b[0m \u001b[1m0s\u001b[0m 39ms/step\n",
            "\u001b[1m1/1\u001b[0m \u001b[32m━━━━━━━━━━━━━━━━━━━━\u001b[0m\u001b[37m\u001b[0m \u001b[1m0s\u001b[0m 40ms/step\n",
            "\u001b[1m1/1\u001b[0m \u001b[32m━━━━━━━━━━━━━━━━━━━━\u001b[0m\u001b[37m\u001b[0m \u001b[1m0s\u001b[0m 41ms/step\n",
            "\u001b[1m1/1\u001b[0m \u001b[32m━━━━━━━━━━━━━━━━━━━━\u001b[0m\u001b[37m\u001b[0m \u001b[1m0s\u001b[0m 42ms/step\n",
            "\u001b[1m1/1\u001b[0m \u001b[32m━━━━━━━━━━━━━━━━━━━━\u001b[0m\u001b[37m\u001b[0m \u001b[1m0s\u001b[0m 46ms/step\n",
            "\u001b[1m1/1\u001b[0m \u001b[32m━━━━━━━━━━━━━━━━━━━━\u001b[0m\u001b[37m\u001b[0m \u001b[1m0s\u001b[0m 44ms/step\n",
            "\u001b[1m1/1\u001b[0m \u001b[32m━━━━━━━━━━━━━━━━━━━━\u001b[0m\u001b[37m\u001b[0m \u001b[1m0s\u001b[0m 39ms/step\n",
            "\u001b[1m1/1\u001b[0m \u001b[32m━━━━━━━━━━━━━━━━━━━━\u001b[0m\u001b[37m\u001b[0m \u001b[1m0s\u001b[0m 34ms/step\n",
            "\u001b[1m1/1\u001b[0m \u001b[32m━━━━━━━━━━━━━━━━━━━━\u001b[0m\u001b[37m\u001b[0m \u001b[1m0s\u001b[0m 46ms/step\n",
            "\u001b[1m1/1\u001b[0m \u001b[32m━━━━━━━━━━━━━━━━━━━━\u001b[0m\u001b[37m\u001b[0m \u001b[1m0s\u001b[0m 40ms/step\n",
            "\u001b[1m1/1\u001b[0m \u001b[32m━━━━━━━━━━━━━━━━━━━━\u001b[0m\u001b[37m\u001b[0m \u001b[1m0s\u001b[0m 42ms/step\n",
            "\u001b[1m1/1\u001b[0m \u001b[32m━━━━━━━━━━━━━━━━━━━━\u001b[0m\u001b[37m\u001b[0m \u001b[1m0s\u001b[0m 41ms/step\n",
            "\u001b[1m1/1\u001b[0m \u001b[32m━━━━━━━━━━━━━━━━━━━━\u001b[0m\u001b[37m\u001b[0m \u001b[1m0s\u001b[0m 42ms/step\n",
            "\u001b[1m1/1\u001b[0m \u001b[32m━━━━━━━━━━━━━━━━━━━━\u001b[0m\u001b[37m\u001b[0m \u001b[1m0s\u001b[0m 42ms/step\n",
            "\u001b[1m1/1\u001b[0m \u001b[32m━━━━━━━━━━━━━━━━━━━━\u001b[0m\u001b[37m\u001b[0m \u001b[1m0s\u001b[0m 39ms/step\n",
            "\u001b[1m1/1\u001b[0m \u001b[32m━━━━━━━━━━━━━━━━━━━━\u001b[0m\u001b[37m\u001b[0m \u001b[1m0s\u001b[0m 42ms/step\n",
            "\u001b[1m1/1\u001b[0m \u001b[32m━━━━━━━━━━━━━━━━━━━━\u001b[0m\u001b[37m\u001b[0m \u001b[1m0s\u001b[0m 40ms/step\n",
            "\u001b[1m1/1\u001b[0m \u001b[32m━━━━━━━━━━━━━━━━━━━━\u001b[0m\u001b[37m\u001b[0m \u001b[1m0s\u001b[0m 40ms/step\n",
            "\u001b[1m1/1\u001b[0m \u001b[32m━━━━━━━━━━━━━━━━━━━━\u001b[0m\u001b[37m\u001b[0m \u001b[1m0s\u001b[0m 42ms/step\n",
            "\u001b[1m1/1\u001b[0m \u001b[32m━━━━━━━━━━━━━━━━━━━━\u001b[0m\u001b[37m\u001b[0m \u001b[1m0s\u001b[0m 40ms/step\n",
            "\u001b[1m1/1\u001b[0m \u001b[32m━━━━━━━━━━━━━━━━━━━━\u001b[0m\u001b[37m\u001b[0m \u001b[1m0s\u001b[0m 43ms/step\n",
            "\u001b[1m1/1\u001b[0m \u001b[32m━━━━━━━━━━━━━━━━━━━━\u001b[0m\u001b[37m\u001b[0m \u001b[1m0s\u001b[0m 41ms/step\n",
            "\u001b[1m1/1\u001b[0m \u001b[32m━━━━━━━━━━━━━━━━━━━━\u001b[0m\u001b[37m\u001b[0m \u001b[1m0s\u001b[0m 43ms/step\n",
            "\u001b[1m1/1\u001b[0m \u001b[32m━━━━━━━━━━━━━━━━━━━━\u001b[0m\u001b[37m\u001b[0m \u001b[1m0s\u001b[0m 43ms/step\n",
            "\u001b[1m1/1\u001b[0m \u001b[32m━━━━━━━━━━━━━━━━━━━━\u001b[0m\u001b[37m\u001b[0m \u001b[1m0s\u001b[0m 48ms/step\n",
            "\u001b[1m1/1\u001b[0m \u001b[32m━━━━━━━━━━━━━━━━━━━━\u001b[0m\u001b[37m\u001b[0m \u001b[1m0s\u001b[0m 42ms/step\n",
            "\u001b[1m1/1\u001b[0m \u001b[32m━━━━━━━━━━━━━━━━━━━━\u001b[0m\u001b[37m\u001b[0m \u001b[1m0s\u001b[0m 40ms/step\n",
            "\u001b[1m1/1\u001b[0m \u001b[32m━━━━━━━━━━━━━━━━━━━━\u001b[0m\u001b[37m\u001b[0m \u001b[1m0s\u001b[0m 41ms/step\n",
            "\u001b[1m1/1\u001b[0m \u001b[32m━━━━━━━━━━━━━━━━━━━━\u001b[0m\u001b[37m\u001b[0m \u001b[1m0s\u001b[0m 34ms/step\n",
            "\u001b[1m1/1\u001b[0m \u001b[32m━━━━━━━━━━━━━━━━━━━━\u001b[0m\u001b[37m\u001b[0m \u001b[1m0s\u001b[0m 40ms/step\n",
            "\u001b[1m1/1\u001b[0m \u001b[32m━━━━━━━━━━━━━━━━━━━━\u001b[0m\u001b[37m\u001b[0m \u001b[1m0s\u001b[0m 39ms/step\n",
            "\u001b[1m1/1\u001b[0m \u001b[32m━━━━━━━━━━━━━━━━━━━━\u001b[0m\u001b[37m\u001b[0m \u001b[1m0s\u001b[0m 39ms/step\n",
            "\u001b[1m1/1\u001b[0m \u001b[32m━━━━━━━━━━━━━━━━━━━━\u001b[0m\u001b[37m\u001b[0m \u001b[1m0s\u001b[0m 44ms/step\n",
            "\u001b[1m1/1\u001b[0m \u001b[32m━━━━━━━━━━━━━━━━━━━━\u001b[0m\u001b[37m\u001b[0m \u001b[1m0s\u001b[0m 45ms/step\n",
            "\u001b[1m1/1\u001b[0m \u001b[32m━━━━━━━━━━━━━━━━━━━━\u001b[0m\u001b[37m\u001b[0m \u001b[1m0s\u001b[0m 47ms/step\n",
            "\u001b[1m1/1\u001b[0m \u001b[32m━━━━━━━━━━━━━━━━━━━━\u001b[0m\u001b[37m\u001b[0m \u001b[1m0s\u001b[0m 42ms/step\n",
            "\u001b[1m1/1\u001b[0m \u001b[32m━━━━━━━━━━━━━━━━━━━━\u001b[0m\u001b[37m\u001b[0m \u001b[1m0s\u001b[0m 41ms/step\n",
            "\u001b[1m1/1\u001b[0m \u001b[32m━━━━━━━━━━━━━━━━━━━━\u001b[0m\u001b[37m\u001b[0m \u001b[1m0s\u001b[0m 42ms/step\n",
            "\u001b[1m1/1\u001b[0m \u001b[32m━━━━━━━━━━━━━━━━━━━━\u001b[0m\u001b[37m\u001b[0m \u001b[1m0s\u001b[0m 40ms/step\n",
            "\u001b[1m1/1\u001b[0m \u001b[32m━━━━━━━━━━━━━━━━━━━━\u001b[0m\u001b[37m\u001b[0m \u001b[1m0s\u001b[0m 40ms/step\n",
            "\u001b[1m1/1\u001b[0m \u001b[32m━━━━━━━━━━━━━━━━━━━━\u001b[0m\u001b[37m\u001b[0m \u001b[1m0s\u001b[0m 39ms/step\n",
            "\u001b[1m1/1\u001b[0m \u001b[32m━━━━━━━━━━━━━━━━━━━━\u001b[0m\u001b[37m\u001b[0m \u001b[1m0s\u001b[0m 39ms/step\n",
            "\u001b[1m1/1\u001b[0m \u001b[32m━━━━━━━━━━━━━━━━━━━━\u001b[0m\u001b[37m\u001b[0m \u001b[1m0s\u001b[0m 39ms/step\n",
            "\u001b[1m1/1\u001b[0m \u001b[32m━━━━━━━━━━━━━━━━━━━━\u001b[0m\u001b[37m\u001b[0m \u001b[1m0s\u001b[0m 41ms/step\n",
            "\u001b[1m1/1\u001b[0m \u001b[32m━━━━━━━━━━━━━━━━━━━━\u001b[0m\u001b[37m\u001b[0m \u001b[1m0s\u001b[0m 42ms/step\n",
            "\u001b[1m1/1\u001b[0m \u001b[32m━━━━━━━━━━━━━━━━━━━━\u001b[0m\u001b[37m\u001b[0m \u001b[1m0s\u001b[0m 40ms/step\n",
            "\u001b[1m1/1\u001b[0m \u001b[32m━━━━━━━━━━━━━━━━━━━━\u001b[0m\u001b[37m\u001b[0m \u001b[1m0s\u001b[0m 42ms/step\n",
            "\u001b[1m1/1\u001b[0m \u001b[32m━━━━━━━━━━━━━━━━━━━━\u001b[0m\u001b[37m\u001b[0m \u001b[1m0s\u001b[0m 41ms/step\n",
            "\u001b[1m1/1\u001b[0m \u001b[32m━━━━━━━━━━━━━━━━━━━━\u001b[0m\u001b[37m\u001b[0m \u001b[1m0s\u001b[0m 41ms/step\n",
            "\u001b[1m1/1\u001b[0m \u001b[32m━━━━━━━━━━━━━━━━━━━━\u001b[0m\u001b[37m\u001b[0m \u001b[1m0s\u001b[0m 38ms/step\n",
            "\u001b[1m1/1\u001b[0m \u001b[32m━━━━━━━━━━━━━━━━━━━━\u001b[0m\u001b[37m\u001b[0m \u001b[1m0s\u001b[0m 41ms/step\n",
            "\u001b[1m1/1\u001b[0m \u001b[32m━━━━━━━━━━━━━━━━━━━━\u001b[0m\u001b[37m\u001b[0m \u001b[1m0s\u001b[0m 51ms/step\n",
            "\u001b[1m1/1\u001b[0m \u001b[32m━━━━━━━━━━━━━━━━━━━━\u001b[0m\u001b[37m\u001b[0m \u001b[1m0s\u001b[0m 60ms/step\n",
            "\u001b[1m1/1\u001b[0m \u001b[32m━━━━━━━━━━━━━━━━━━━━\u001b[0m\u001b[37m\u001b[0m \u001b[1m0s\u001b[0m 50ms/step\n",
            "\u001b[1m1/1\u001b[0m \u001b[32m━━━━━━━━━━━━━━━━━━━━\u001b[0m\u001b[37m\u001b[0m \u001b[1m0s\u001b[0m 56ms/step\n",
            "\u001b[1m1/1\u001b[0m \u001b[32m━━━━━━━━━━━━━━━━━━━━\u001b[0m\u001b[37m\u001b[0m \u001b[1m0s\u001b[0m 75ms/step\n",
            "\u001b[1m1/1\u001b[0m \u001b[32m━━━━━━━━━━━━━━━━━━━━\u001b[0m\u001b[37m\u001b[0m \u001b[1m0s\u001b[0m 57ms/step\n",
            "\u001b[1m1/1\u001b[0m \u001b[32m━━━━━━━━━━━━━━━━━━━━\u001b[0m\u001b[37m\u001b[0m \u001b[1m0s\u001b[0m 57ms/step\n",
            "\u001b[1m1/1\u001b[0m \u001b[32m━━━━━━━━━━━━━━━━━━━━\u001b[0m\u001b[37m\u001b[0m \u001b[1m0s\u001b[0m 62ms/step\n",
            "\u001b[1m1/1\u001b[0m \u001b[32m━━━━━━━━━━━━━━━━━━━━\u001b[0m\u001b[37m\u001b[0m \u001b[1m0s\u001b[0m 70ms/step\n",
            "\u001b[1m1/1\u001b[0m \u001b[32m━━━━━━━━━━━━━━━━━━━━\u001b[0m\u001b[37m\u001b[0m \u001b[1m0s\u001b[0m 71ms/step\n",
            "\u001b[1m1/1\u001b[0m \u001b[32m━━━━━━━━━━━━━━━━━━━━\u001b[0m\u001b[37m\u001b[0m \u001b[1m0s\u001b[0m 54ms/step\n",
            "\u001b[1m1/1\u001b[0m \u001b[32m━━━━━━━━━━━━━━━━━━━━\u001b[0m\u001b[37m\u001b[0m \u001b[1m0s\u001b[0m 61ms/step\n",
            "\u001b[1m1/1\u001b[0m \u001b[32m━━━━━━━━━━━━━━━━━━━━\u001b[0m\u001b[37m\u001b[0m \u001b[1m0s\u001b[0m 60ms/step\n",
            "\u001b[1m1/1\u001b[0m \u001b[32m━━━━━━━━━━━━━━━━━━━━\u001b[0m\u001b[37m\u001b[0m \u001b[1m0s\u001b[0m 60ms/step\n",
            "\u001b[1m1/1\u001b[0m \u001b[32m━━━━━━━━━━━━━━━━━━━━\u001b[0m\u001b[37m\u001b[0m \u001b[1m0s\u001b[0m 60ms/step\n",
            "\u001b[1m1/1\u001b[0m \u001b[32m━━━━━━━━━━━━━━━━━━━━\u001b[0m\u001b[37m\u001b[0m \u001b[1m0s\u001b[0m 75ms/step\n",
            "\u001b[1m1/1\u001b[0m \u001b[32m━━━━━━━━━━━━━━━━━━━━\u001b[0m\u001b[37m\u001b[0m \u001b[1m0s\u001b[0m 57ms/step\n",
            "\u001b[1m1/1\u001b[0m \u001b[32m━━━━━━━━━━━━━━━━━━━━\u001b[0m\u001b[37m\u001b[0m \u001b[1m0s\u001b[0m 62ms/step\n",
            "\u001b[1m1/1\u001b[0m \u001b[32m━━━━━━━━━━━━━━━━━━━━\u001b[0m\u001b[37m\u001b[0m \u001b[1m0s\u001b[0m 74ms/step\n",
            "\u001b[1m1/1\u001b[0m \u001b[32m━━━━━━━━━━━━━━━━━━━━\u001b[0m\u001b[37m\u001b[0m \u001b[1m0s\u001b[0m 60ms/step\n",
            "\u001b[1m1/1\u001b[0m \u001b[32m━━━━━━━━━━━━━━━━━━━━\u001b[0m\u001b[37m\u001b[0m \u001b[1m0s\u001b[0m 64ms/step\n",
            "\u001b[1m1/1\u001b[0m \u001b[32m━━━━━━━━━━━━━━━━━━━━\u001b[0m\u001b[37m\u001b[0m \u001b[1m0s\u001b[0m 65ms/step\n",
            "\u001b[1m1/1\u001b[0m \u001b[32m━━━━━━━━━━━━━━━━━━━━\u001b[0m\u001b[37m\u001b[0m \u001b[1m0s\u001b[0m 61ms/step\n",
            "\u001b[1m1/1\u001b[0m \u001b[32m━━━━━━━━━━━━━━━━━━━━\u001b[0m\u001b[37m\u001b[0m \u001b[1m0s\u001b[0m 41ms/step\n",
            "\u001b[1m1/1\u001b[0m \u001b[32m━━━━━━━━━━━━━━━━━━━━\u001b[0m\u001b[37m\u001b[0m \u001b[1m0s\u001b[0m 40ms/step\n",
            "\u001b[1m1/1\u001b[0m \u001b[32m━━━━━━━━━━━━━━━━━━━━\u001b[0m\u001b[37m\u001b[0m \u001b[1m0s\u001b[0m 41ms/step\n",
            "\u001b[1m1/1\u001b[0m \u001b[32m━━━━━━━━━━━━━━━━━━━━\u001b[0m\u001b[37m\u001b[0m \u001b[1m0s\u001b[0m 40ms/step\n",
            "\u001b[1m1/1\u001b[0m \u001b[32m━━━━━━━━━━━━━━━━━━━━\u001b[0m\u001b[37m\u001b[0m \u001b[1m0s\u001b[0m 39ms/step\n",
            "\u001b[1m1/1\u001b[0m \u001b[32m━━━━━━━━━━━━━━━━━━━━\u001b[0m\u001b[37m\u001b[0m \u001b[1m0s\u001b[0m 38ms/step\n",
            "\u001b[1m1/1\u001b[0m \u001b[32m━━━━━━━━━━━━━━━━━━━━\u001b[0m\u001b[37m\u001b[0m \u001b[1m0s\u001b[0m 40ms/step\n",
            "\u001b[1m1/1\u001b[0m \u001b[32m━━━━━━━━━━━━━━━━━━━━\u001b[0m\u001b[37m\u001b[0m \u001b[1m0s\u001b[0m 40ms/step\n",
            "\u001b[1m1/1\u001b[0m \u001b[32m━━━━━━━━━━━━━━━━━━━━\u001b[0m\u001b[37m\u001b[0m \u001b[1m0s\u001b[0m 42ms/step\n",
            "\u001b[1m1/1\u001b[0m \u001b[32m━━━━━━━━━━━━━━━━━━━━\u001b[0m\u001b[37m\u001b[0m \u001b[1m0s\u001b[0m 51ms/step\n",
            "\u001b[1m1/1\u001b[0m \u001b[32m━━━━━━━━━━━━━━━━━━━━\u001b[0m\u001b[37m\u001b[0m \u001b[1m0s\u001b[0m 41ms/step\n",
            "\u001b[1m1/1\u001b[0m \u001b[32m━━━━━━━━━━━━━━━━━━━━\u001b[0m\u001b[37m\u001b[0m \u001b[1m0s\u001b[0m 40ms/step\n",
            "\u001b[1m1/1\u001b[0m \u001b[32m━━━━━━━━━━━━━━━━━━━━\u001b[0m\u001b[37m\u001b[0m \u001b[1m0s\u001b[0m 39ms/step\n",
            "\u001b[1m1/1\u001b[0m \u001b[32m━━━━━━━━━━━━━━━━━━━━\u001b[0m\u001b[37m\u001b[0m \u001b[1m0s\u001b[0m 40ms/step\n",
            "\u001b[1m1/1\u001b[0m \u001b[32m━━━━━━━━━━━━━━━━━━━━\u001b[0m\u001b[37m\u001b[0m \u001b[1m0s\u001b[0m 44ms/step\n",
            "\u001b[1m1/1\u001b[0m \u001b[32m━━━━━━━━━━━━━━━━━━━━\u001b[0m\u001b[37m\u001b[0m \u001b[1m0s\u001b[0m 40ms/step\n",
            "\u001b[1m1/1\u001b[0m \u001b[32m━━━━━━━━━━━━━━━━━━━━\u001b[0m\u001b[37m\u001b[0m \u001b[1m0s\u001b[0m 40ms/step\n",
            "\u001b[1m1/1\u001b[0m \u001b[32m━━━━━━━━━━━━━━━━━━━━\u001b[0m\u001b[37m\u001b[0m \u001b[1m0s\u001b[0m 34ms/step\n",
            "\u001b[1m1/1\u001b[0m \u001b[32m━━━━━━━━━━━━━━━━━━━━\u001b[0m\u001b[37m\u001b[0m \u001b[1m0s\u001b[0m 49ms/step\n",
            "\u001b[1m1/1\u001b[0m \u001b[32m━━━━━━━━━━━━━━━━━━━━\u001b[0m\u001b[37m\u001b[0m \u001b[1m0s\u001b[0m 44ms/step\n",
            "\u001b[1m1/1\u001b[0m \u001b[32m━━━━━━━━━━━━━━━━━━━━\u001b[0m\u001b[37m\u001b[0m \u001b[1m0s\u001b[0m 41ms/step\n",
            "\u001b[1m1/1\u001b[0m \u001b[32m━━━━━━━━━━━━━━━━━━━━\u001b[0m\u001b[37m\u001b[0m \u001b[1m0s\u001b[0m 42ms/step\n",
            "\u001b[1m1/1\u001b[0m \u001b[32m━━━━━━━━━━━━━━━━━━━━\u001b[0m\u001b[37m\u001b[0m \u001b[1m0s\u001b[0m 41ms/step\n",
            "\u001b[1m1/1\u001b[0m \u001b[32m━━━━━━━━━━━━━━━━━━━━\u001b[0m\u001b[37m\u001b[0m \u001b[1m0s\u001b[0m 41ms/step\n",
            "\u001b[1m1/1\u001b[0m \u001b[32m━━━━━━━━━━━━━━━━━━━━\u001b[0m\u001b[37m\u001b[0m \u001b[1m0s\u001b[0m 51ms/step\n",
            "\u001b[1m1/1\u001b[0m \u001b[32m━━━━━━━━━━━━━━━━━━━━\u001b[0m\u001b[37m\u001b[0m \u001b[1m0s\u001b[0m 38ms/step\n",
            "\u001b[1m1/1\u001b[0m \u001b[32m━━━━━━━━━━━━━━━━━━━━\u001b[0m\u001b[37m\u001b[0m \u001b[1m0s\u001b[0m 42ms/step\n",
            "\u001b[1m1/1\u001b[0m \u001b[32m━━━━━━━━━━━━━━━━━━━━\u001b[0m\u001b[37m\u001b[0m \u001b[1m0s\u001b[0m 47ms/step\n",
            "\u001b[1m1/1\u001b[0m \u001b[32m━━━━━━━━━━━━━━━━━━━━\u001b[0m\u001b[37m\u001b[0m \u001b[1m0s\u001b[0m 40ms/step\n",
            "\u001b[1m1/1\u001b[0m \u001b[32m━━━━━━━━━━━━━━━━━━━━\u001b[0m\u001b[37m\u001b[0m \u001b[1m0s\u001b[0m 40ms/step\n",
            "\u001b[1m1/1\u001b[0m \u001b[32m━━━━━━━━━━━━━━━━━━━━\u001b[0m\u001b[37m\u001b[0m \u001b[1m0s\u001b[0m 43ms/step\n",
            "\u001b[1m1/1\u001b[0m \u001b[32m━━━━━━━━━━━━━━━━━━━━\u001b[0m\u001b[37m\u001b[0m \u001b[1m0s\u001b[0m 42ms/step\n",
            "\u001b[1m1/1\u001b[0m \u001b[32m━━━━━━━━━━━━━━━━━━━━\u001b[0m\u001b[37m\u001b[0m \u001b[1m0s\u001b[0m 42ms/step\n",
            "\u001b[1m1/1\u001b[0m \u001b[32m━━━━━━━━━━━━━━━━━━━━\u001b[0m\u001b[37m\u001b[0m \u001b[1m0s\u001b[0m 42ms/step\n",
            "\u001b[1m1/1\u001b[0m \u001b[32m━━━━━━━━━━━━━━━━━━━━\u001b[0m\u001b[37m\u001b[0m \u001b[1m0s\u001b[0m 42ms/step\n",
            "\u001b[1m1/1\u001b[0m \u001b[32m━━━━━━━━━━━━━━━━━━━━\u001b[0m\u001b[37m\u001b[0m \u001b[1m0s\u001b[0m 40ms/step\n",
            "\u001b[1m1/1\u001b[0m \u001b[32m━━━━━━━━━━━━━━━━━━━━\u001b[0m\u001b[37m\u001b[0m \u001b[1m0s\u001b[0m 46ms/step\n",
            "\u001b[1m1/1\u001b[0m \u001b[32m━━━━━━━━━━━━━━━━━━━━\u001b[0m\u001b[37m\u001b[0m \u001b[1m0s\u001b[0m 41ms/step\n",
            "\u001b[1m1/1\u001b[0m \u001b[32m━━━━━━━━━━━━━━━━━━━━\u001b[0m\u001b[37m\u001b[0m \u001b[1m0s\u001b[0m 36ms/step\n",
            "\u001b[1m1/1\u001b[0m \u001b[32m━━━━━━━━━━━━━━━━━━━━\u001b[0m\u001b[37m\u001b[0m \u001b[1m0s\u001b[0m 40ms/step\n",
            "\u001b[1m1/1\u001b[0m \u001b[32m━━━━━━━━━━━━━━━━━━━━\u001b[0m\u001b[37m\u001b[0m \u001b[1m0s\u001b[0m 43ms/step\n",
            "\u001b[1m1/1\u001b[0m \u001b[32m━━━━━━━━━━━━━━━━━━━━\u001b[0m\u001b[37m\u001b[0m \u001b[1m0s\u001b[0m 39ms/step\n",
            "\u001b[1m1/1\u001b[0m \u001b[32m━━━━━━━━━━━━━━━━━━━━\u001b[0m\u001b[37m\u001b[0m \u001b[1m0s\u001b[0m 41ms/step\n",
            "\u001b[1m1/1\u001b[0m \u001b[32m━━━━━━━━━━━━━━━━━━━━\u001b[0m\u001b[37m\u001b[0m \u001b[1m0s\u001b[0m 41ms/step\n",
            "\u001b[1m1/1\u001b[0m \u001b[32m━━━━━━━━━━━━━━━━━━━━\u001b[0m\u001b[37m\u001b[0m \u001b[1m0s\u001b[0m 42ms/step\n",
            "\u001b[1m1/1\u001b[0m \u001b[32m━━━━━━━━━━━━━━━━━━━━\u001b[0m\u001b[37m\u001b[0m \u001b[1m0s\u001b[0m 40ms/step\n",
            "\u001b[1m1/1\u001b[0m \u001b[32m━━━━━━━━━━━━━━━━━━━━\u001b[0m\u001b[37m\u001b[0m \u001b[1m0s\u001b[0m 46ms/step\n",
            "\u001b[1m1/1\u001b[0m \u001b[32m━━━━━━━━━━━━━━━━━━━━\u001b[0m\u001b[37m\u001b[0m \u001b[1m0s\u001b[0m 40ms/step\n",
            "\u001b[1m1/1\u001b[0m \u001b[32m━━━━━━━━━━━━━━━━━━━━\u001b[0m\u001b[37m\u001b[0m \u001b[1m0s\u001b[0m 41ms/step\n",
            "\u001b[1m1/1\u001b[0m \u001b[32m━━━━━━━━━━━━━━━━━━━━\u001b[0m\u001b[37m\u001b[0m \u001b[1m0s\u001b[0m 40ms/step\n",
            "\u001b[1m1/1\u001b[0m \u001b[32m━━━━━━━━━━━━━━━━━━━━\u001b[0m\u001b[37m\u001b[0m \u001b[1m0s\u001b[0m 39ms/step\n",
            "\u001b[1m1/1\u001b[0m \u001b[32m━━━━━━━━━━━━━━━━━━━━\u001b[0m\u001b[37m\u001b[0m \u001b[1m0s\u001b[0m 41ms/step\n",
            "\u001b[1m1/1\u001b[0m \u001b[32m━━━━━━━━━━━━━━━━━━━━\u001b[0m\u001b[37m\u001b[0m \u001b[1m0s\u001b[0m 40ms/step\n",
            "\u001b[1m1/1\u001b[0m \u001b[32m━━━━━━━━━━━━━━━━━━━━\u001b[0m\u001b[37m\u001b[0m \u001b[1m0s\u001b[0m 39ms/step\n",
            "\u001b[1m1/1\u001b[0m \u001b[32m━━━━━━━━━━━━━━━━━━━━\u001b[0m\u001b[37m\u001b[0m \u001b[1m0s\u001b[0m 40ms/step\n",
            "\u001b[1m1/1\u001b[0m \u001b[32m━━━━━━━━━━━━━━━━━━━━\u001b[0m\u001b[37m\u001b[0m \u001b[1m0s\u001b[0m 49ms/step\n",
            "\u001b[1m1/1\u001b[0m \u001b[32m━━━━━━━━━━━━━━━━━━━━\u001b[0m\u001b[37m\u001b[0m \u001b[1m0s\u001b[0m 42ms/step\n",
            "\u001b[1m1/1\u001b[0m \u001b[32m━━━━━━━━━━━━━━━━━━━━\u001b[0m\u001b[37m\u001b[0m \u001b[1m0s\u001b[0m 41ms/step\n",
            "\u001b[1m1/1\u001b[0m \u001b[32m━━━━━━━━━━━━━━━━━━━━\u001b[0m\u001b[37m\u001b[0m \u001b[1m0s\u001b[0m 40ms/step\n",
            "\u001b[1m1/1\u001b[0m \u001b[32m━━━━━━━━━━━━━━━━━━━━\u001b[0m\u001b[37m\u001b[0m \u001b[1m0s\u001b[0m 34ms/step\n",
            "\u001b[1m1/1\u001b[0m \u001b[32m━━━━━━━━━━━━━━━━━━━━\u001b[0m\u001b[37m\u001b[0m \u001b[1m0s\u001b[0m 41ms/step\n",
            "\u001b[1m1/1\u001b[0m \u001b[32m━━━━━━━━━━━━━━━━━━━━\u001b[0m\u001b[37m\u001b[0m \u001b[1m0s\u001b[0m 41ms/step\n",
            "\u001b[1m1/1\u001b[0m \u001b[32m━━━━━━━━━━━━━━━━━━━━\u001b[0m\u001b[37m\u001b[0m \u001b[1m0s\u001b[0m 45ms/step\n",
            "\u001b[1m1/1\u001b[0m \u001b[32m━━━━━━━━━━━━━━━━━━━━\u001b[0m\u001b[37m\u001b[0m \u001b[1m0s\u001b[0m 40ms/step\n",
            "\u001b[1m1/1\u001b[0m \u001b[32m━━━━━━━━━━━━━━━━━━━━\u001b[0m\u001b[37m\u001b[0m \u001b[1m0s\u001b[0m 43ms/step\n",
            "\u001b[1m1/1\u001b[0m \u001b[32m━━━━━━━━━━━━━━━━━━━━\u001b[0m\u001b[37m\u001b[0m \u001b[1m0s\u001b[0m 46ms/step\n",
            "\u001b[1m1/1\u001b[0m \u001b[32m━━━━━━━━━━━━━━━━━━━━\u001b[0m\u001b[37m\u001b[0m \u001b[1m0s\u001b[0m 42ms/step\n",
            "\u001b[1m1/1\u001b[0m \u001b[32m━━━━━━━━━━━━━━━━━━━━\u001b[0m\u001b[37m\u001b[0m \u001b[1m0s\u001b[0m 44ms/step\n",
            "\u001b[1m1/1\u001b[0m \u001b[32m━━━━━━━━━━━━━━━━━━━━\u001b[0m\u001b[37m\u001b[0m \u001b[1m0s\u001b[0m 41ms/step\n",
            "\u001b[1m1/1\u001b[0m \u001b[32m━━━━━━━━━━━━━━━━━━━━\u001b[0m\u001b[37m\u001b[0m \u001b[1m0s\u001b[0m 42ms/step\n",
            "\u001b[1m1/1\u001b[0m \u001b[32m━━━━━━━━━━━━━━━━━━━━\u001b[0m\u001b[37m\u001b[0m \u001b[1m0s\u001b[0m 41ms/step\n",
            "\u001b[1m1/1\u001b[0m \u001b[32m━━━━━━━━━━━━━━━━━━━━\u001b[0m\u001b[37m\u001b[0m \u001b[1m0s\u001b[0m 40ms/step\n",
            "\u001b[1m1/1\u001b[0m \u001b[32m━━━━━━━━━━━━━━━━━━━━\u001b[0m\u001b[37m\u001b[0m \u001b[1m0s\u001b[0m 42ms/step\n",
            "\u001b[1m1/1\u001b[0m \u001b[32m━━━━━━━━━━━━━━━━━━━━\u001b[0m\u001b[37m\u001b[0m \u001b[1m0s\u001b[0m 40ms/step\n",
            "\u001b[1m1/1\u001b[0m \u001b[32m━━━━━━━━━━━━━━━━━━━━\u001b[0m\u001b[37m\u001b[0m \u001b[1m0s\u001b[0m 49ms/step\n",
            "\u001b[1m1/1\u001b[0m \u001b[32m━━━━━━━━━━━━━━━━━━━━\u001b[0m\u001b[37m\u001b[0m \u001b[1m0s\u001b[0m 39ms/step\n",
            "\u001b[1m1/1\u001b[0m \u001b[32m━━━━━━━━━━━━━━━━━━━━\u001b[0m\u001b[37m\u001b[0m \u001b[1m0s\u001b[0m 41ms/step\n",
            "\u001b[1m1/1\u001b[0m \u001b[32m━━━━━━━━━━━━━━━━━━━━\u001b[0m\u001b[37m\u001b[0m \u001b[1m0s\u001b[0m 40ms/step\n",
            "\u001b[1m1/1\u001b[0m \u001b[32m━━━━━━━━━━━━━━━━━━━━\u001b[0m\u001b[37m\u001b[0m \u001b[1m0s\u001b[0m 43ms/step\n",
            "\u001b[1m1/1\u001b[0m \u001b[32m━━━━━━━━━━━━━━━━━━━━\u001b[0m\u001b[37m\u001b[0m \u001b[1m0s\u001b[0m 43ms/step\n",
            "Processing example 30/50\n",
            "\u001b[1m1/1\u001b[0m \u001b[32m━━━━━━━━━━━━━━━━━━━━\u001b[0m\u001b[37m\u001b[0m \u001b[1m0s\u001b[0m 35ms/step\n",
            "\u001b[1m1/1\u001b[0m \u001b[32m━━━━━━━━━━━━━━━━━━━━\u001b[0m\u001b[37m\u001b[0m \u001b[1m0s\u001b[0m 43ms/step\n",
            "\u001b[1m1/1\u001b[0m \u001b[32m━━━━━━━━━━━━━━━━━━━━\u001b[0m\u001b[37m\u001b[0m \u001b[1m0s\u001b[0m 41ms/step\n",
            "\u001b[1m1/1\u001b[0m \u001b[32m━━━━━━━━━━━━━━━━━━━━\u001b[0m\u001b[37m\u001b[0m \u001b[1m0s\u001b[0m 48ms/step\n",
            "\u001b[1m1/1\u001b[0m \u001b[32m━━━━━━━━━━━━━━━━━━━━\u001b[0m\u001b[37m\u001b[0m \u001b[1m0s\u001b[0m 41ms/step\n",
            "\u001b[1m1/1\u001b[0m \u001b[32m━━━━━━━━━━━━━━━━━━━━\u001b[0m\u001b[37m\u001b[0m \u001b[1m0s\u001b[0m 41ms/step\n",
            "\u001b[1m1/1\u001b[0m \u001b[32m━━━━━━━━━━━━━━━━━━━━\u001b[0m\u001b[37m\u001b[0m \u001b[1m0s\u001b[0m 41ms/step\n",
            "\u001b[1m1/1\u001b[0m \u001b[32m━━━━━━━━━━━━━━━━━━━━\u001b[0m\u001b[37m\u001b[0m \u001b[1m0s\u001b[0m 41ms/step\n",
            "\u001b[1m1/1\u001b[0m \u001b[32m━━━━━━━━━━━━━━━━━━━━\u001b[0m\u001b[37m\u001b[0m \u001b[1m0s\u001b[0m 42ms/step\n",
            "\u001b[1m1/1\u001b[0m \u001b[32m━━━━━━━━━━━━━━━━━━━━\u001b[0m\u001b[37m\u001b[0m \u001b[1m0s\u001b[0m 40ms/step\n",
            "\u001b[1m1/1\u001b[0m \u001b[32m━━━━━━━━━━━━━━━━━━━━\u001b[0m\u001b[37m\u001b[0m \u001b[1m0s\u001b[0m 41ms/step\n",
            "\u001b[1m1/1\u001b[0m \u001b[32m━━━━━━━━━━━━━━━━━━━━\u001b[0m\u001b[37m\u001b[0m \u001b[1m0s\u001b[0m 51ms/step\n",
            "\u001b[1m1/1\u001b[0m \u001b[32m━━━━━━━━━━━━━━━━━━━━\u001b[0m\u001b[37m\u001b[0m \u001b[1m0s\u001b[0m 43ms/step\n",
            "\u001b[1m1/1\u001b[0m \u001b[32m━━━━━━━━━━━━━━━━━━━━\u001b[0m\u001b[37m\u001b[0m \u001b[1m0s\u001b[0m 56ms/step\n",
            "\u001b[1m1/1\u001b[0m \u001b[32m━━━━━━━━━━━━━━━━━━━━\u001b[0m\u001b[37m\u001b[0m \u001b[1m0s\u001b[0m 73ms/step\n",
            "\u001b[1m1/1\u001b[0m \u001b[32m━━━━━━━━━━━━━━━━━━━━\u001b[0m\u001b[37m\u001b[0m \u001b[1m0s\u001b[0m 57ms/step\n",
            "\u001b[1m1/1\u001b[0m \u001b[32m━━━━━━━━━━━━━━━━━━━━\u001b[0m\u001b[37m\u001b[0m \u001b[1m0s\u001b[0m 54ms/step\n",
            "\u001b[1m1/1\u001b[0m \u001b[32m━━━━━━━━━━━━━━━━━━━━\u001b[0m\u001b[37m\u001b[0m \u001b[1m0s\u001b[0m 51ms/step\n",
            "\u001b[1m1/1\u001b[0m \u001b[32m━━━━━━━━━━━━━━━━━━━━\u001b[0m\u001b[37m\u001b[0m \u001b[1m0s\u001b[0m 50ms/step\n",
            "\u001b[1m1/1\u001b[0m \u001b[32m━━━━━━━━━━━━━━━━━━━━\u001b[0m\u001b[37m\u001b[0m \u001b[1m0s\u001b[0m 55ms/step\n",
            "\u001b[1m1/1\u001b[0m \u001b[32m━━━━━━━━━━━━━━━━━━━━\u001b[0m\u001b[37m\u001b[0m \u001b[1m0s\u001b[0m 63ms/step\n",
            "\u001b[1m1/1\u001b[0m \u001b[32m━━━━━━━━━━━━━━━━━━━━\u001b[0m\u001b[37m\u001b[0m \u001b[1m0s\u001b[0m 49ms/step\n",
            "\u001b[1m1/1\u001b[0m \u001b[32m━━━━━━━━━━━━━━━━━━━━\u001b[0m\u001b[37m\u001b[0m \u001b[1m0s\u001b[0m 66ms/step\n",
            "\u001b[1m1/1\u001b[0m \u001b[32m━━━━━━━━━━━━━━━━━━━━\u001b[0m\u001b[37m\u001b[0m \u001b[1m0s\u001b[0m 59ms/step\n",
            "\u001b[1m1/1\u001b[0m \u001b[32m━━━━━━━━━━━━━━━━━━━━\u001b[0m\u001b[37m\u001b[0m \u001b[1m0s\u001b[0m 61ms/step\n",
            "\u001b[1m1/1\u001b[0m \u001b[32m━━━━━━━━━━━━━━━━━━━━\u001b[0m\u001b[37m\u001b[0m \u001b[1m0s\u001b[0m 49ms/step\n",
            "\u001b[1m1/1\u001b[0m \u001b[32m━━━━━━━━━━━━━━━━━━━━\u001b[0m\u001b[37m\u001b[0m \u001b[1m0s\u001b[0m 52ms/step\n",
            "\u001b[1m1/1\u001b[0m \u001b[32m━━━━━━━━━━━━━━━━━━━━\u001b[0m\u001b[37m\u001b[0m \u001b[1m0s\u001b[0m 72ms/step\n",
            "\u001b[1m1/1\u001b[0m \u001b[32m━━━━━━━━━━━━━━━━━━━━\u001b[0m\u001b[37m\u001b[0m \u001b[1m0s\u001b[0m 77ms/step\n",
            "\u001b[1m1/1\u001b[0m \u001b[32m━━━━━━━━━━━━━━━━━━━━\u001b[0m\u001b[37m\u001b[0m \u001b[1m0s\u001b[0m 54ms/step\n",
            "\u001b[1m1/1\u001b[0m \u001b[32m━━━━━━━━━━━━━━━━━━━━\u001b[0m\u001b[37m\u001b[0m \u001b[1m0s\u001b[0m 67ms/step\n",
            "\u001b[1m1/1\u001b[0m \u001b[32m━━━━━━━━━━━━━━━━━━━━\u001b[0m\u001b[37m\u001b[0m \u001b[1m0s\u001b[0m 57ms/step\n",
            "\u001b[1m1/1\u001b[0m \u001b[32m━━━━━━━━━━━━━━━━━━━━\u001b[0m\u001b[37m\u001b[0m \u001b[1m0s\u001b[0m 54ms/step\n",
            "\u001b[1m1/1\u001b[0m \u001b[32m━━━━━━━━━━━━━━━━━━━━\u001b[0m\u001b[37m\u001b[0m \u001b[1m0s\u001b[0m 61ms/step\n",
            "\u001b[1m1/1\u001b[0m \u001b[32m━━━━━━━━━━━━━━━━━━━━\u001b[0m\u001b[37m\u001b[0m \u001b[1m0s\u001b[0m 54ms/step\n",
            "\u001b[1m1/1\u001b[0m \u001b[32m━━━━━━━━━━━━━━━━━━━━\u001b[0m\u001b[37m\u001b[0m \u001b[1m0s\u001b[0m 70ms/step\n",
            "\u001b[1m1/1\u001b[0m \u001b[32m━━━━━━━━━━━━━━━━━━━━\u001b[0m\u001b[37m\u001b[0m \u001b[1m0s\u001b[0m 71ms/step\n",
            "\u001b[1m1/1\u001b[0m \u001b[32m━━━━━━━━━━━━━━━━━━━━\u001b[0m\u001b[37m\u001b[0m \u001b[1m0s\u001b[0m 72ms/step\n",
            "\u001b[1m1/1\u001b[0m \u001b[32m━━━━━━━━━━━━━━━━━━━━\u001b[0m\u001b[37m\u001b[0m \u001b[1m0s\u001b[0m 42ms/step\n",
            "\u001b[1m1/1\u001b[0m \u001b[32m━━━━━━━━━━━━━━━━━━━━\u001b[0m\u001b[37m\u001b[0m \u001b[1m0s\u001b[0m 42ms/step\n",
            "\u001b[1m1/1\u001b[0m \u001b[32m━━━━━━━━━━━━━━━━━━━━\u001b[0m\u001b[37m\u001b[0m \u001b[1m0s\u001b[0m 39ms/step\n",
            "\u001b[1m1/1\u001b[0m \u001b[32m━━━━━━━━━━━━━━━━━━━━\u001b[0m\u001b[37m\u001b[0m \u001b[1m0s\u001b[0m 42ms/step\n",
            "\u001b[1m1/1\u001b[0m \u001b[32m━━━━━━━━━━━━━━━━━━━━\u001b[0m\u001b[37m\u001b[0m \u001b[1m0s\u001b[0m 37ms/step\n",
            "\u001b[1m1/1\u001b[0m \u001b[32m━━━━━━━━━━━━━━━━━━━━\u001b[0m\u001b[37m\u001b[0m \u001b[1m0s\u001b[0m 39ms/step\n",
            "\u001b[1m1/1\u001b[0m \u001b[32m━━━━━━━━━━━━━━━━━━━━\u001b[0m\u001b[37m\u001b[0m \u001b[1m0s\u001b[0m 40ms/step\n",
            "\u001b[1m1/1\u001b[0m \u001b[32m━━━━━━━━━━━━━━━━━━━━\u001b[0m\u001b[37m\u001b[0m \u001b[1m0s\u001b[0m 42ms/step\n",
            "\u001b[1m1/1\u001b[0m \u001b[32m━━━━━━━━━━━━━━━━━━━━\u001b[0m\u001b[37m\u001b[0m \u001b[1m0s\u001b[0m 42ms/step\n",
            "\u001b[1m1/1\u001b[0m \u001b[32m━━━━━━━━━━━━━━━━━━━━\u001b[0m\u001b[37m\u001b[0m \u001b[1m0s\u001b[0m 44ms/step\n",
            "\u001b[1m1/1\u001b[0m \u001b[32m━━━━━━━━━━━━━━━━━━━━\u001b[0m\u001b[37m\u001b[0m \u001b[1m0s\u001b[0m 44ms/step\n",
            "\u001b[1m1/1\u001b[0m \u001b[32m━━━━━━━━━━━━━━━━━━━━\u001b[0m\u001b[37m\u001b[0m \u001b[1m0s\u001b[0m 46ms/step\n",
            "\u001b[1m1/1\u001b[0m \u001b[32m━━━━━━━━━━━━━━━━━━━━\u001b[0m\u001b[37m\u001b[0m \u001b[1m0s\u001b[0m 42ms/step\n",
            "\u001b[1m1/1\u001b[0m \u001b[32m━━━━━━━━━━━━━━━━━━━━\u001b[0m\u001b[37m\u001b[0m \u001b[1m0s\u001b[0m 41ms/step\n",
            "\u001b[1m1/1\u001b[0m \u001b[32m━━━━━━━━━━━━━━━━━━━━\u001b[0m\u001b[37m\u001b[0m \u001b[1m0s\u001b[0m 45ms/step\n",
            "\u001b[1m1/1\u001b[0m \u001b[32m━━━━━━━━━━━━━━━━━━━━\u001b[0m\u001b[37m\u001b[0m \u001b[1m0s\u001b[0m 42ms/step\n",
            "\u001b[1m1/1\u001b[0m \u001b[32m━━━━━━━━━━━━━━━━━━━━\u001b[0m\u001b[37m\u001b[0m \u001b[1m0s\u001b[0m 40ms/step\n",
            "\u001b[1m1/1\u001b[0m \u001b[32m━━━━━━━━━━━━━━━━━━━━\u001b[0m\u001b[37m\u001b[0m \u001b[1m0s\u001b[0m 39ms/step\n",
            "\u001b[1m1/1\u001b[0m \u001b[32m━━━━━━━━━━━━━━━━━━━━\u001b[0m\u001b[37m\u001b[0m \u001b[1m0s\u001b[0m 39ms/step\n",
            "\u001b[1m1/1\u001b[0m \u001b[32m━━━━━━━━━━━━━━━━━━━━\u001b[0m\u001b[37m\u001b[0m \u001b[1m0s\u001b[0m 42ms/step\n",
            "\u001b[1m1/1\u001b[0m \u001b[32m━━━━━━━━━━━━━━━━━━━━\u001b[0m\u001b[37m\u001b[0m \u001b[1m0s\u001b[0m 43ms/step\n",
            "\u001b[1m1/1\u001b[0m \u001b[32m━━━━━━━━━━━━━━━━━━━━\u001b[0m\u001b[37m\u001b[0m \u001b[1m0s\u001b[0m 42ms/step\n",
            "\u001b[1m1/1\u001b[0m \u001b[32m━━━━━━━━━━━━━━━━━━━━\u001b[0m\u001b[37m\u001b[0m \u001b[1m0s\u001b[0m 41ms/step\n",
            "\u001b[1m1/1\u001b[0m \u001b[32m━━━━━━━━━━━━━━━━━━━━\u001b[0m\u001b[37m\u001b[0m \u001b[1m0s\u001b[0m 47ms/step\n",
            "\u001b[1m1/1\u001b[0m \u001b[32m━━━━━━━━━━━━━━━━━━━━\u001b[0m\u001b[37m\u001b[0m \u001b[1m0s\u001b[0m 52ms/step\n",
            "\u001b[1m1/1\u001b[0m \u001b[32m━━━━━━━━━━━━━━━━━━━━\u001b[0m\u001b[37m\u001b[0m \u001b[1m0s\u001b[0m 34ms/step\n",
            "\u001b[1m1/1\u001b[0m \u001b[32m━━━━━━━━━━━━━━━━━━━━\u001b[0m\u001b[37m\u001b[0m \u001b[1m0s\u001b[0m 41ms/step\n",
            "\u001b[1m1/1\u001b[0m \u001b[32m━━━━━━━━━━━━━━━━━━━━\u001b[0m\u001b[37m\u001b[0m \u001b[1m0s\u001b[0m 40ms/step\n",
            "\u001b[1m1/1\u001b[0m \u001b[32m━━━━━━━━━━━━━━━━━━━━\u001b[0m\u001b[37m\u001b[0m \u001b[1m0s\u001b[0m 41ms/step\n",
            "\u001b[1m1/1\u001b[0m \u001b[32m━━━━━━━━━━━━━━━━━━━━\u001b[0m\u001b[37m\u001b[0m \u001b[1m0s\u001b[0m 40ms/step\n",
            "\u001b[1m1/1\u001b[0m \u001b[32m━━━━━━━━━━━━━━━━━━━━\u001b[0m\u001b[37m\u001b[0m \u001b[1m0s\u001b[0m 38ms/step\n",
            "\u001b[1m1/1\u001b[0m \u001b[32m━━━━━━━━━━━━━━━━━━━━\u001b[0m\u001b[37m\u001b[0m \u001b[1m0s\u001b[0m 39ms/step\n",
            "\u001b[1m1/1\u001b[0m \u001b[32m━━━━━━━━━━━━━━━━━━━━\u001b[0m\u001b[37m\u001b[0m \u001b[1m0s\u001b[0m 41ms/step\n",
            "\u001b[1m1/1\u001b[0m \u001b[32m━━━━━━━━━━━━━━━━━━━━\u001b[0m\u001b[37m\u001b[0m \u001b[1m0s\u001b[0m 40ms/step\n",
            "\u001b[1m1/1\u001b[0m \u001b[32m━━━━━━━━━━━━━━━━━━━━\u001b[0m\u001b[37m\u001b[0m \u001b[1m0s\u001b[0m 42ms/step\n",
            "\u001b[1m1/1\u001b[0m \u001b[32m━━━━━━━━━━━━━━━━━━━━\u001b[0m\u001b[37m\u001b[0m \u001b[1m0s\u001b[0m 41ms/step\n",
            "\u001b[1m1/1\u001b[0m \u001b[32m━━━━━━━━━━━━━━━━━━━━\u001b[0m\u001b[37m\u001b[0m \u001b[1m0s\u001b[0m 44ms/step\n",
            "\u001b[1m1/1\u001b[0m \u001b[32m━━━━━━━━━━━━━━━━━━━━\u001b[0m\u001b[37m\u001b[0m \u001b[1m0s\u001b[0m 41ms/step\n",
            "\u001b[1m1/1\u001b[0m \u001b[32m━━━━━━━━━━━━━━━━━━━━\u001b[0m\u001b[37m\u001b[0m \u001b[1m0s\u001b[0m 42ms/step\n",
            "\u001b[1m1/1\u001b[0m \u001b[32m━━━━━━━━━━━━━━━━━━━━\u001b[0m\u001b[37m\u001b[0m \u001b[1m0s\u001b[0m 41ms/step\n",
            "\u001b[1m1/1\u001b[0m \u001b[32m━━━━━━━━━━━━━━━━━━━━\u001b[0m\u001b[37m\u001b[0m \u001b[1m0s\u001b[0m 39ms/step\n",
            "\u001b[1m1/1\u001b[0m \u001b[32m━━━━━━━━━━━━━━━━━━━━\u001b[0m\u001b[37m\u001b[0m \u001b[1m0s\u001b[0m 41ms/step\n",
            "\u001b[1m1/1\u001b[0m \u001b[32m━━━━━━━━━━━━━━━━━━━━\u001b[0m\u001b[37m\u001b[0m \u001b[1m0s\u001b[0m 40ms/step\n",
            "\u001b[1m1/1\u001b[0m \u001b[32m━━━━━━━━━━━━━━━━━━━━\u001b[0m\u001b[37m\u001b[0m \u001b[1m0s\u001b[0m 51ms/step\n",
            "\u001b[1m1/1\u001b[0m \u001b[32m━━━━━━━━━━━━━━━━━━━━\u001b[0m\u001b[37m\u001b[0m \u001b[1m0s\u001b[0m 42ms/step\n",
            "\u001b[1m1/1\u001b[0m \u001b[32m━━━━━━━━━━━━━━━━━━━━\u001b[0m\u001b[37m\u001b[0m \u001b[1m0s\u001b[0m 43ms/step\n",
            "\u001b[1m1/1\u001b[0m \u001b[32m━━━━━━━━━━━━━━━━━━━━\u001b[0m\u001b[37m\u001b[0m \u001b[1m0s\u001b[0m 37ms/step\n",
            "\u001b[1m1/1\u001b[0m \u001b[32m━━━━━━━━━━━━━━━━━━━━\u001b[0m\u001b[37m\u001b[0m \u001b[1m0s\u001b[0m 39ms/step\n",
            "\u001b[1m1/1\u001b[0m \u001b[32m━━━━━━━━━━━━━━━━━━━━\u001b[0m\u001b[37m\u001b[0m \u001b[1m0s\u001b[0m 42ms/step\n",
            "\u001b[1m1/1\u001b[0m \u001b[32m━━━━━━━━━━━━━━━━━━━━\u001b[0m\u001b[37m\u001b[0m \u001b[1m0s\u001b[0m 42ms/step\n",
            "\u001b[1m1/1\u001b[0m \u001b[32m━━━━━━━━━━━━━━━━━━━━\u001b[0m\u001b[37m\u001b[0m \u001b[1m0s\u001b[0m 39ms/step\n",
            "\u001b[1m1/1\u001b[0m \u001b[32m━━━━━━━━━━━━━━━━━━━━\u001b[0m\u001b[37m\u001b[0m \u001b[1m0s\u001b[0m 41ms/step\n",
            "\u001b[1m1/1\u001b[0m \u001b[32m━━━━━━━━━━━━━━━━━━━━\u001b[0m\u001b[37m\u001b[0m \u001b[1m0s\u001b[0m 41ms/step\n",
            "\u001b[1m1/1\u001b[0m \u001b[32m━━━━━━━━━━━━━━━━━━━━\u001b[0m\u001b[37m\u001b[0m \u001b[1m0s\u001b[0m 50ms/step\n",
            "\u001b[1m1/1\u001b[0m \u001b[32m━━━━━━━━━━━━━━━━━━━━\u001b[0m\u001b[37m\u001b[0m \u001b[1m0s\u001b[0m 48ms/step\n",
            "\u001b[1m1/1\u001b[0m \u001b[32m━━━━━━━━━━━━━━━━━━━━\u001b[0m\u001b[37m\u001b[0m \u001b[1m0s\u001b[0m 40ms/step\n",
            "\u001b[1m1/1\u001b[0m \u001b[32m━━━━━━━━━━━━━━━━━━━━\u001b[0m\u001b[37m\u001b[0m \u001b[1m0s\u001b[0m 41ms/step\n",
            "\u001b[1m1/1\u001b[0m \u001b[32m━━━━━━━━━━━━━━━━━━━━\u001b[0m\u001b[37m\u001b[0m \u001b[1m0s\u001b[0m 41ms/step\n",
            "\u001b[1m1/1\u001b[0m \u001b[32m━━━━━━━━━━━━━━━━━━━━\u001b[0m\u001b[37m\u001b[0m \u001b[1m0s\u001b[0m 43ms/step\n",
            "\u001b[1m1/1\u001b[0m \u001b[32m━━━━━━━━━━━━━━━━━━━━\u001b[0m\u001b[37m\u001b[0m \u001b[1m0s\u001b[0m 42ms/step\n",
            "\u001b[1m1/1\u001b[0m \u001b[32m━━━━━━━━━━━━━━━━━━━━\u001b[0m\u001b[37m\u001b[0m \u001b[1m0s\u001b[0m 43ms/step\n",
            "\u001b[1m1/1\u001b[0m \u001b[32m━━━━━━━━━━━━━━━━━━━━\u001b[0m\u001b[37m\u001b[0m \u001b[1m0s\u001b[0m 41ms/step\n",
            "\u001b[1m1/1\u001b[0m \u001b[32m━━━━━━━━━━━━━━━━━━━━\u001b[0m\u001b[37m\u001b[0m \u001b[1m0s\u001b[0m 41ms/step\n",
            "\u001b[1m1/1\u001b[0m \u001b[32m━━━━━━━━━━━━━━━━━━━━\u001b[0m\u001b[37m\u001b[0m \u001b[1m0s\u001b[0m 41ms/step\n",
            "\u001b[1m1/1\u001b[0m \u001b[32m━━━━━━━━━━━━━━━━━━━━\u001b[0m\u001b[37m\u001b[0m \u001b[1m0s\u001b[0m 41ms/step\n",
            "\u001b[1m1/1\u001b[0m \u001b[32m━━━━━━━━━━━━━━━━━━━━\u001b[0m\u001b[37m\u001b[0m \u001b[1m0s\u001b[0m 41ms/step\n",
            "\u001b[1m1/1\u001b[0m \u001b[32m━━━━━━━━━━━━━━━━━━━━\u001b[0m\u001b[37m\u001b[0m \u001b[1m0s\u001b[0m 39ms/step\n",
            "\u001b[1m1/1\u001b[0m \u001b[32m━━━━━━━━━━━━━━━━━━━━\u001b[0m\u001b[37m\u001b[0m \u001b[1m0s\u001b[0m 34ms/step\n",
            "\u001b[1m1/1\u001b[0m \u001b[32m━━━━━━━━━━━━━━━━━━━━\u001b[0m\u001b[37m\u001b[0m \u001b[1m0s\u001b[0m 42ms/step\n",
            "\u001b[1m1/1\u001b[0m \u001b[32m━━━━━━━━━━━━━━━━━━━━\u001b[0m\u001b[37m\u001b[0m \u001b[1m0s\u001b[0m 43ms/step\n",
            "\u001b[1m1/1\u001b[0m \u001b[32m━━━━━━━━━━━━━━━━━━━━\u001b[0m\u001b[37m\u001b[0m \u001b[1m0s\u001b[0m 50ms/step\n",
            "\u001b[1m1/1\u001b[0m \u001b[32m━━━━━━━━━━━━━━━━━━━━\u001b[0m\u001b[37m\u001b[0m \u001b[1m0s\u001b[0m 41ms/step\n",
            "\u001b[1m1/1\u001b[0m \u001b[32m━━━━━━━━━━━━━━━━━━━━\u001b[0m\u001b[37m\u001b[0m \u001b[1m0s\u001b[0m 43ms/step\n",
            "\u001b[1m1/1\u001b[0m \u001b[32m━━━━━━━━━━━━━━━━━━━━\u001b[0m\u001b[37m\u001b[0m \u001b[1m0s\u001b[0m 41ms/step\n",
            "\u001b[1m1/1\u001b[0m \u001b[32m━━━━━━━━━━━━━━━━━━━━\u001b[0m\u001b[37m\u001b[0m \u001b[1m0s\u001b[0m 45ms/step\n",
            "\u001b[1m1/1\u001b[0m \u001b[32m━━━━━━━━━━━━━━━━━━━━\u001b[0m\u001b[37m\u001b[0m \u001b[1m0s\u001b[0m 40ms/step\n",
            "\u001b[1m1/1\u001b[0m \u001b[32m━━━━━━━━━━━━━━━━━━━━\u001b[0m\u001b[37m\u001b[0m \u001b[1m0s\u001b[0m 40ms/step\n",
            "\u001b[1m1/1\u001b[0m \u001b[32m━━━━━━━━━━━━━━━━━━━━\u001b[0m\u001b[37m\u001b[0m \u001b[1m0s\u001b[0m 39ms/step\n",
            "\u001b[1m1/1\u001b[0m \u001b[32m━━━━━━━━━━━━━━━━━━━━\u001b[0m\u001b[37m\u001b[0m \u001b[1m0s\u001b[0m 39ms/step\n",
            "\u001b[1m1/1\u001b[0m \u001b[32m━━━━━━━━━━━━━━━━━━━━\u001b[0m\u001b[37m\u001b[0m \u001b[1m0s\u001b[0m 48ms/step\n",
            "\u001b[1m1/1\u001b[0m \u001b[32m━━━━━━━━━━━━━━━━━━━━\u001b[0m\u001b[37m\u001b[0m \u001b[1m0s\u001b[0m 42ms/step\n",
            "\u001b[1m1/1\u001b[0m \u001b[32m━━━━━━━━━━━━━━━━━━━━\u001b[0m\u001b[37m\u001b[0m \u001b[1m0s\u001b[0m 42ms/step\n",
            "\u001b[1m1/1\u001b[0m \u001b[32m━━━━━━━━━━━━━━━━━━━━\u001b[0m\u001b[37m\u001b[0m \u001b[1m0s\u001b[0m 45ms/step\n",
            "\u001b[1m1/1\u001b[0m \u001b[32m━━━━━━━━━━━━━━━━━━━━\u001b[0m\u001b[37m\u001b[0m \u001b[1m0s\u001b[0m 44ms/step\n",
            "\u001b[1m1/1\u001b[0m \u001b[32m━━━━━━━━━━━━━━━━━━━━\u001b[0m\u001b[37m\u001b[0m \u001b[1m0s\u001b[0m 43ms/step\n",
            "\u001b[1m1/1\u001b[0m \u001b[32m━━━━━━━━━━━━━━━━━━━━\u001b[0m\u001b[37m\u001b[0m \u001b[1m0s\u001b[0m 41ms/step\n",
            "\u001b[1m1/1\u001b[0m \u001b[32m━━━━━━━━━━━━━━━━━━━━\u001b[0m\u001b[37m\u001b[0m \u001b[1m0s\u001b[0m 39ms/step\n",
            "\u001b[1m1/1\u001b[0m \u001b[32m━━━━━━━━━━━━━━━━━━━━\u001b[0m\u001b[37m\u001b[0m \u001b[1m0s\u001b[0m 40ms/step\n",
            "\u001b[1m1/1\u001b[0m \u001b[32m━━━━━━━━━━━━━━━━━━━━\u001b[0m\u001b[37m\u001b[0m \u001b[1m0s\u001b[0m 37ms/step\n",
            "\u001b[1m1/1\u001b[0m \u001b[32m━━━━━━━━━━━━━━━━━━━━\u001b[0m\u001b[37m\u001b[0m \u001b[1m0s\u001b[0m 44ms/step\n",
            "\u001b[1m1/1\u001b[0m \u001b[32m━━━━━━━━━━━━━━━━━━━━\u001b[0m\u001b[37m\u001b[0m \u001b[1m0s\u001b[0m 41ms/step\n",
            "\u001b[1m1/1\u001b[0m \u001b[32m━━━━━━━━━━━━━━━━━━━━\u001b[0m\u001b[37m\u001b[0m \u001b[1m0s\u001b[0m 42ms/step\n",
            "\u001b[1m1/1\u001b[0m \u001b[32m━━━━━━━━━━━━━━━━━━━━\u001b[0m\u001b[37m\u001b[0m \u001b[1m0s\u001b[0m 44ms/step\n",
            "\u001b[1m1/1\u001b[0m \u001b[32m━━━━━━━━━━━━━━━━━━━━\u001b[0m\u001b[37m\u001b[0m \u001b[1m0s\u001b[0m 52ms/step\n",
            "\u001b[1m1/1\u001b[0m \u001b[32m━━━━━━━━━━━━━━━━━━━━\u001b[0m\u001b[37m\u001b[0m \u001b[1m0s\u001b[0m 55ms/step\n",
            "\u001b[1m1/1\u001b[0m \u001b[32m━━━━━━━━━━━━━━━━━━━━\u001b[0m\u001b[37m\u001b[0m \u001b[1m0s\u001b[0m 53ms/step\n",
            "\u001b[1m1/1\u001b[0m \u001b[32m━━━━━━━━━━━━━━━━━━━━\u001b[0m\u001b[37m\u001b[0m \u001b[1m0s\u001b[0m 71ms/step\n",
            "\u001b[1m1/1\u001b[0m \u001b[32m━━━━━━━━━━━━━━━━━━━━\u001b[0m\u001b[37m\u001b[0m \u001b[1m0s\u001b[0m 64ms/step\n",
            "\u001b[1m1/1\u001b[0m \u001b[32m━━━━━━━━━━━━━━━━━━━━\u001b[0m\u001b[37m\u001b[0m \u001b[1m0s\u001b[0m 50ms/step\n",
            "\u001b[1m1/1\u001b[0m \u001b[32m━━━━━━━━━━━━━━━━━━━━\u001b[0m\u001b[37m\u001b[0m \u001b[1m0s\u001b[0m 63ms/step\n",
            "\u001b[1m1/1\u001b[0m \u001b[32m━━━━━━━━━━━━━━━━━━━━\u001b[0m\u001b[37m\u001b[0m \u001b[1m0s\u001b[0m 53ms/step\n",
            "\u001b[1m1/1\u001b[0m \u001b[32m━━━━━━━━━━━━━━━━━━━━\u001b[0m\u001b[37m\u001b[0m \u001b[1m0s\u001b[0m 47ms/step\n",
            "\u001b[1m1/1\u001b[0m \u001b[32m━━━━━━━━━━━━━━━━━━━━\u001b[0m\u001b[37m\u001b[0m \u001b[1m0s\u001b[0m 47ms/step\n",
            "\u001b[1m1/1\u001b[0m \u001b[32m━━━━━━━━━━━━━━━━━━━━\u001b[0m\u001b[37m\u001b[0m \u001b[1m0s\u001b[0m 50ms/step\n",
            "\u001b[1m1/1\u001b[0m \u001b[32m━━━━━━━━━━━━━━━━━━━━\u001b[0m\u001b[37m\u001b[0m \u001b[1m0s\u001b[0m 64ms/step\n",
            "\u001b[1m1/1\u001b[0m \u001b[32m━━━━━━━━━━━━━━━━━━━━\u001b[0m\u001b[37m\u001b[0m \u001b[1m0s\u001b[0m 60ms/step\n",
            "\u001b[1m1/1\u001b[0m \u001b[32m━━━━━━━━━━━━━━━━━━━━\u001b[0m\u001b[37m\u001b[0m \u001b[1m0s\u001b[0m 55ms/step\n",
            "\u001b[1m1/1\u001b[0m \u001b[32m━━━━━━━━━━━━━━━━━━━━\u001b[0m\u001b[37m\u001b[0m \u001b[1m0s\u001b[0m 66ms/step\n",
            "\u001b[1m1/1\u001b[0m \u001b[32m━━━━━━━━━━━━━━━━━━━━\u001b[0m\u001b[37m\u001b[0m \u001b[1m0s\u001b[0m 79ms/step\n",
            "\u001b[1m1/1\u001b[0m \u001b[32m━━━━━━━━━━━━━━━━━━━━\u001b[0m\u001b[37m\u001b[0m \u001b[1m0s\u001b[0m 52ms/step\n",
            "\u001b[1m1/1\u001b[0m \u001b[32m━━━━━━━━━━━━━━━━━━━━\u001b[0m\u001b[37m\u001b[0m \u001b[1m0s\u001b[0m 68ms/step\n",
            "\u001b[1m1/1\u001b[0m \u001b[32m━━━━━━━━━━━━━━━━━━━━\u001b[0m\u001b[37m\u001b[0m \u001b[1m0s\u001b[0m 77ms/step\n",
            "\u001b[1m1/1\u001b[0m \u001b[32m━━━━━━━━━━━━━━━━━━━━\u001b[0m\u001b[37m\u001b[0m \u001b[1m0s\u001b[0m 65ms/step\n",
            "\u001b[1m1/1\u001b[0m \u001b[32m━━━━━━━━━━━━━━━━━━━━\u001b[0m\u001b[37m\u001b[0m \u001b[1m0s\u001b[0m 68ms/step\n",
            "\u001b[1m1/1\u001b[0m \u001b[32m━━━━━━━━━━━━━━━━━━━━\u001b[0m\u001b[37m\u001b[0m \u001b[1m0s\u001b[0m 57ms/step\n",
            "\u001b[1m1/1\u001b[0m \u001b[32m━━━━━━━━━━━━━━━━━━━━\u001b[0m\u001b[37m\u001b[0m \u001b[1m0s\u001b[0m 70ms/step\n",
            "\u001b[1m1/1\u001b[0m \u001b[32m━━━━━━━━━━━━━━━━━━━━\u001b[0m\u001b[37m\u001b[0m \u001b[1m0s\u001b[0m 59ms/step\n",
            "\u001b[1m1/1\u001b[0m \u001b[32m━━━━━━━━━━━━━━━━━━━━\u001b[0m\u001b[37m\u001b[0m \u001b[1m0s\u001b[0m 65ms/step\n",
            "\u001b[1m1/1\u001b[0m \u001b[32m━━━━━━━━━━━━━━━━━━━━\u001b[0m\u001b[37m\u001b[0m \u001b[1m0s\u001b[0m 42ms/step\n",
            "\u001b[1m1/1\u001b[0m \u001b[32m━━━━━━━━━━━━━━━━━━━━\u001b[0m\u001b[37m\u001b[0m \u001b[1m0s\u001b[0m 41ms/step\n",
            "\u001b[1m1/1\u001b[0m \u001b[32m━━━━━━━━━━━━━━━━━━━━\u001b[0m\u001b[37m\u001b[0m \u001b[1m0s\u001b[0m 41ms/step\n",
            "\u001b[1m1/1\u001b[0m \u001b[32m━━━━━━━━━━━━━━━━━━━━\u001b[0m\u001b[37m\u001b[0m \u001b[1m0s\u001b[0m 40ms/step\n",
            "\u001b[1m1/1\u001b[0m \u001b[32m━━━━━━━━━━━━━━━━━━━━\u001b[0m\u001b[37m\u001b[0m \u001b[1m0s\u001b[0m 42ms/step\n",
            "\u001b[1m1/1\u001b[0m \u001b[32m━━━━━━━━━━━━━━━━━━━━\u001b[0m\u001b[37m\u001b[0m \u001b[1m0s\u001b[0m 51ms/step\n",
            "\u001b[1m1/1\u001b[0m \u001b[32m━━━━━━━━━━━━━━━━━━━━\u001b[0m\u001b[37m\u001b[0m \u001b[1m0s\u001b[0m 40ms/step\n",
            "\u001b[1m1/1\u001b[0m \u001b[32m━━━━━━━━━━━━━━━━━━━━\u001b[0m\u001b[37m\u001b[0m \u001b[1m0s\u001b[0m 38ms/step\n",
            "\u001b[1m1/1\u001b[0m \u001b[32m━━━━━━━━━━━━━━━━━━━━\u001b[0m\u001b[37m\u001b[0m \u001b[1m0s\u001b[0m 38ms/step\n",
            "\u001b[1m1/1\u001b[0m \u001b[32m━━━━━━━━━━━━━━━━━━━━\u001b[0m\u001b[37m\u001b[0m \u001b[1m0s\u001b[0m 43ms/step\n",
            "\u001b[1m1/1\u001b[0m \u001b[32m━━━━━━━━━━━━━━━━━━━━\u001b[0m\u001b[37m\u001b[0m \u001b[1m0s\u001b[0m 42ms/step\n",
            "\u001b[1m1/1\u001b[0m \u001b[32m━━━━━━━━━━━━━━━━━━━━\u001b[0m\u001b[37m\u001b[0m \u001b[1m0s\u001b[0m 42ms/step\n",
            "\u001b[1m1/1\u001b[0m \u001b[32m━━━━━━━━━━━━━━━━━━━━\u001b[0m\u001b[37m\u001b[0m \u001b[1m0s\u001b[0m 36ms/step\n",
            "\u001b[1m1/1\u001b[0m \u001b[32m━━━━━━━━━━━━━━━━━━━━\u001b[0m\u001b[37m\u001b[0m \u001b[1m0s\u001b[0m 41ms/step\n",
            "\u001b[1m1/1\u001b[0m \u001b[32m━━━━━━━━━━━━━━━━━━━━\u001b[0m\u001b[37m\u001b[0m \u001b[1m0s\u001b[0m 53ms/step\n",
            "\u001b[1m1/1\u001b[0m \u001b[32m━━━━━━━━━━━━━━━━━━━━\u001b[0m\u001b[37m\u001b[0m \u001b[1m0s\u001b[0m 41ms/step\n",
            "\u001b[1m1/1\u001b[0m \u001b[32m━━━━━━━━━━━━━━━━━━━━\u001b[0m\u001b[37m\u001b[0m \u001b[1m0s\u001b[0m 40ms/step\n",
            "\u001b[1m1/1\u001b[0m \u001b[32m━━━━━━━━━━━━━━━━━━━━\u001b[0m\u001b[37m\u001b[0m \u001b[1m0s\u001b[0m 43ms/step\n",
            "\u001b[1m1/1\u001b[0m \u001b[32m━━━━━━━━━━━━━━━━━━━━\u001b[0m\u001b[37m\u001b[0m \u001b[1m0s\u001b[0m 40ms/step\n",
            "\u001b[1m1/1\u001b[0m \u001b[32m━━━━━━━━━━━━━━━━━━━━\u001b[0m\u001b[37m\u001b[0m \u001b[1m0s\u001b[0m 39ms/step\n",
            "\u001b[1m1/1\u001b[0m \u001b[32m━━━━━━━━━━━━━━━━━━━━\u001b[0m\u001b[37m\u001b[0m \u001b[1m0s\u001b[0m 41ms/step\n",
            "\u001b[1m1/1\u001b[0m \u001b[32m━━━━━━━━━━━━━━━━━━━━\u001b[0m\u001b[37m\u001b[0m \u001b[1m0s\u001b[0m 42ms/step\n",
            "\u001b[1m1/1\u001b[0m \u001b[32m━━━━━━━━━━━━━━━━━━━━\u001b[0m\u001b[37m\u001b[0m \u001b[1m0s\u001b[0m 40ms/step\n",
            "\u001b[1m1/1\u001b[0m \u001b[32m━━━━━━━━━━━━━━━━━━━━\u001b[0m\u001b[37m\u001b[0m \u001b[1m0s\u001b[0m 43ms/step\n",
            "\u001b[1m1/1\u001b[0m \u001b[32m━━━━━━━━━━━━━━━━━━━━\u001b[0m\u001b[37m\u001b[0m \u001b[1m0s\u001b[0m 43ms/step\n",
            "\u001b[1m1/1\u001b[0m \u001b[32m━━━━━━━━━━━━━━━━━━━━\u001b[0m\u001b[37m\u001b[0m \u001b[1m0s\u001b[0m 41ms/step\n",
            "\u001b[1m1/1\u001b[0m \u001b[32m━━━━━━━━━━━━━━━━━━━━\u001b[0m\u001b[37m\u001b[0m \u001b[1m0s\u001b[0m 41ms/step\n",
            "\u001b[1m1/1\u001b[0m \u001b[32m━━━━━━━━━━━━━━━━━━━━\u001b[0m\u001b[37m\u001b[0m \u001b[1m0s\u001b[0m 44ms/step\n",
            "\u001b[1m1/1\u001b[0m \u001b[32m━━━━━━━━━━━━━━━━━━━━\u001b[0m\u001b[37m\u001b[0m \u001b[1m0s\u001b[0m 41ms/step\n",
            "\u001b[1m1/1\u001b[0m \u001b[32m━━━━━━━━━━━━━━━━━━━━\u001b[0m\u001b[37m\u001b[0m \u001b[1m0s\u001b[0m 39ms/step\n",
            "\u001b[1m1/1\u001b[0m \u001b[32m━━━━━━━━━━━━━━━━━━━━\u001b[0m\u001b[37m\u001b[0m \u001b[1m0s\u001b[0m 42ms/step\n",
            "\u001b[1m1/1\u001b[0m \u001b[32m━━━━━━━━━━━━━━━━━━━━\u001b[0m\u001b[37m\u001b[0m \u001b[1m0s\u001b[0m 42ms/step\n",
            "\u001b[1m1/1\u001b[0m \u001b[32m━━━━━━━━━━━━━━━━━━━━\u001b[0m\u001b[37m\u001b[0m \u001b[1m0s\u001b[0m 40ms/step\n",
            "\u001b[1m1/1\u001b[0m \u001b[32m━━━━━━━━━━━━━━━━━━━━\u001b[0m\u001b[37m\u001b[0m \u001b[1m0s\u001b[0m 35ms/step\n",
            "\u001b[1m1/1\u001b[0m \u001b[32m━━━━━━━━━━━━━━━━━━━━\u001b[0m\u001b[37m\u001b[0m \u001b[1m0s\u001b[0m 49ms/step\n",
            "\u001b[1m1/1\u001b[0m \u001b[32m━━━━━━━━━━━━━━━━━━━━\u001b[0m\u001b[37m\u001b[0m \u001b[1m0s\u001b[0m 43ms/step\n",
            "\u001b[1m1/1\u001b[0m \u001b[32m━━━━━━━━━━━━━━━━━━━━\u001b[0m\u001b[37m\u001b[0m \u001b[1m0s\u001b[0m 43ms/step\n",
            "\u001b[1m1/1\u001b[0m \u001b[32m━━━━━━━━━━━━━━━━━━━━\u001b[0m\u001b[37m\u001b[0m \u001b[1m0s\u001b[0m 50ms/step\n",
            "\u001b[1m1/1\u001b[0m \u001b[32m━━━━━━━━━━━━━━━━━━━━\u001b[0m\u001b[37m\u001b[0m \u001b[1m0s\u001b[0m 43ms/step\n",
            "\u001b[1m1/1\u001b[0m \u001b[32m━━━━━━━━━━━━━━━━━━━━\u001b[0m\u001b[37m\u001b[0m \u001b[1m0s\u001b[0m 47ms/step\n",
            "\u001b[1m1/1\u001b[0m \u001b[32m━━━━━━━━━━━━━━━━━━━━\u001b[0m\u001b[37m\u001b[0m \u001b[1m0s\u001b[0m 40ms/step\n",
            "\u001b[1m1/1\u001b[0m \u001b[32m━━━━━━━━━━━━━━━━━━━━\u001b[0m\u001b[37m\u001b[0m \u001b[1m0s\u001b[0m 42ms/step\n",
            "\u001b[1m1/1\u001b[0m \u001b[32m━━━━━━━━━━━━━━━━━━━━\u001b[0m\u001b[37m\u001b[0m \u001b[1m0s\u001b[0m 39ms/step\n",
            "\u001b[1m1/1\u001b[0m \u001b[32m━━━━━━━━━━━━━━━━━━━━\u001b[0m\u001b[37m\u001b[0m \u001b[1m0s\u001b[0m 40ms/step\n",
            "\u001b[1m1/1\u001b[0m \u001b[32m━━━━━━━━━━━━━━━━━━━━\u001b[0m\u001b[37m\u001b[0m \u001b[1m0s\u001b[0m 55ms/step\n",
            "\u001b[1m1/1\u001b[0m \u001b[32m━━━━━━━━━━━━━━━━━━━━\u001b[0m\u001b[37m\u001b[0m \u001b[1m0s\u001b[0m 39ms/step\n",
            "\u001b[1m1/1\u001b[0m \u001b[32m━━━━━━━━━━━━━━━━━━━━\u001b[0m\u001b[37m\u001b[0m \u001b[1m0s\u001b[0m 42ms/step\n",
            "\u001b[1m1/1\u001b[0m \u001b[32m━━━━━━━━━━━━━━━━━━━━\u001b[0m\u001b[37m\u001b[0m \u001b[1m0s\u001b[0m 46ms/step\n",
            "\u001b[1m1/1\u001b[0m \u001b[32m━━━━━━━━━━━━━━━━━━━━\u001b[0m\u001b[37m\u001b[0m \u001b[1m0s\u001b[0m 40ms/step\n",
            "\u001b[1m1/1\u001b[0m \u001b[32m━━━━━━━━━━━━━━━━━━━━\u001b[0m\u001b[37m\u001b[0m \u001b[1m0s\u001b[0m 42ms/step\n",
            "\u001b[1m1/1\u001b[0m \u001b[32m━━━━━━━━━━━━━━━━━━━━\u001b[0m\u001b[37m\u001b[0m \u001b[1m0s\u001b[0m 40ms/step\n",
            "\u001b[1m1/1\u001b[0m \u001b[32m━━━━━━━━━━━━━━━━━━━━\u001b[0m\u001b[37m\u001b[0m \u001b[1m0s\u001b[0m 43ms/step\n",
            "\u001b[1m1/1\u001b[0m \u001b[32m━━━━━━━━━━━━━━━━━━━━\u001b[0m\u001b[37m\u001b[0m \u001b[1m0s\u001b[0m 42ms/step\n",
            "\u001b[1m1/1\u001b[0m \u001b[32m━━━━━━━━━━━━━━━━━━━━\u001b[0m\u001b[37m\u001b[0m \u001b[1m0s\u001b[0m 41ms/step\n",
            "Processing example 40/50\n",
            "\u001b[1m1/1\u001b[0m \u001b[32m━━━━━━━━━━━━━━━━━━━━\u001b[0m\u001b[37m\u001b[0m \u001b[1m0s\u001b[0m 53ms/step\n",
            "\u001b[1m1/1\u001b[0m \u001b[32m━━━━━━━━━━━━━━━━━━━━\u001b[0m\u001b[37m\u001b[0m \u001b[1m0s\u001b[0m 39ms/step\n",
            "\u001b[1m1/1\u001b[0m \u001b[32m━━━━━━━━━━━━━━━━━━━━\u001b[0m\u001b[37m\u001b[0m \u001b[1m0s\u001b[0m 41ms/step\n",
            "\u001b[1m1/1\u001b[0m \u001b[32m━━━━━━━━━━━━━━━━━━━━\u001b[0m\u001b[37m\u001b[0m \u001b[1m0s\u001b[0m 41ms/step\n",
            "\u001b[1m1/1\u001b[0m \u001b[32m━━━━━━━━━━━━━━━━━━━━\u001b[0m\u001b[37m\u001b[0m \u001b[1m0s\u001b[0m 42ms/step\n",
            "\u001b[1m1/1\u001b[0m \u001b[32m━━━━━━━━━━━━━━━━━━━━\u001b[0m\u001b[37m\u001b[0m \u001b[1m0s\u001b[0m 43ms/step\n",
            "\u001b[1m1/1\u001b[0m \u001b[32m━━━━━━━━━━━━━━━━━━━━\u001b[0m\u001b[37m\u001b[0m \u001b[1m0s\u001b[0m 42ms/step\n",
            "\u001b[1m1/1\u001b[0m \u001b[32m━━━━━━━━━━━━━━━━━━━━\u001b[0m\u001b[37m\u001b[0m \u001b[1m0s\u001b[0m 41ms/step\n",
            "\u001b[1m1/1\u001b[0m \u001b[32m━━━━━━━━━━━━━━━━━━━━\u001b[0m\u001b[37m\u001b[0m \u001b[1m0s\u001b[0m 41ms/step\n",
            "\u001b[1m1/1\u001b[0m \u001b[32m━━━━━━━━━━━━━━━━━━━━\u001b[0m\u001b[37m\u001b[0m \u001b[1m0s\u001b[0m 42ms/step\n",
            "\u001b[1m1/1\u001b[0m \u001b[32m━━━━━━━━━━━━━━━━━━━━\u001b[0m\u001b[37m\u001b[0m \u001b[1m0s\u001b[0m 41ms/step\n",
            "\u001b[1m1/1\u001b[0m \u001b[32m━━━━━━━━━━━━━━━━━━━━\u001b[0m\u001b[37m\u001b[0m \u001b[1m0s\u001b[0m 40ms/step\n",
            "\u001b[1m1/1\u001b[0m \u001b[32m━━━━━━━━━━━━━━━━━━━━\u001b[0m\u001b[37m\u001b[0m \u001b[1m0s\u001b[0m 40ms/step\n",
            "\u001b[1m1/1\u001b[0m \u001b[32m━━━━━━━━━━━━━━━━━━━━\u001b[0m\u001b[37m\u001b[0m \u001b[1m0s\u001b[0m 41ms/step\n",
            "\u001b[1m1/1\u001b[0m \u001b[32m━━━━━━━━━━━━━━━━━━━━\u001b[0m\u001b[37m\u001b[0m \u001b[1m0s\u001b[0m 43ms/step\n",
            "\u001b[1m1/1\u001b[0m \u001b[32m━━━━━━━━━━━━━━━━━━━━\u001b[0m\u001b[37m\u001b[0m \u001b[1m0s\u001b[0m 41ms/step\n",
            "\u001b[1m1/1\u001b[0m \u001b[32m━━━━━━━━━━━━━━━━━━━━\u001b[0m\u001b[37m\u001b[0m \u001b[1m0s\u001b[0m 42ms/step\n",
            "\u001b[1m1/1\u001b[0m \u001b[32m━━━━━━━━━━━━━━━━━━━━\u001b[0m\u001b[37m\u001b[0m \u001b[1m0s\u001b[0m 41ms/step\n",
            "\u001b[1m1/1\u001b[0m \u001b[32m━━━━━━━━━━━━━━━━━━━━\u001b[0m\u001b[37m\u001b[0m \u001b[1m0s\u001b[0m 43ms/step\n",
            "\u001b[1m1/1\u001b[0m \u001b[32m━━━━━━━━━━━━━━━━━━━━\u001b[0m\u001b[37m\u001b[0m \u001b[1m0s\u001b[0m 43ms/step\n",
            "\u001b[1m1/1\u001b[0m \u001b[32m━━━━━━━━━━━━━━━━━━━━\u001b[0m\u001b[37m\u001b[0m \u001b[1m0s\u001b[0m 41ms/step\n",
            "\u001b[1m1/1\u001b[0m \u001b[32m━━━━━━━━━━━━━━━━━━━━\u001b[0m\u001b[37m\u001b[0m \u001b[1m0s\u001b[0m 35ms/step\n",
            "\u001b[1m1/1\u001b[0m \u001b[32m━━━━━━━━━━━━━━━━━━━━\u001b[0m\u001b[37m\u001b[0m \u001b[1m0s\u001b[0m 40ms/step\n",
            "\u001b[1m1/1\u001b[0m \u001b[32m━━━━━━━━━━━━━━━━━━━━\u001b[0m\u001b[37m\u001b[0m \u001b[1m0s\u001b[0m 44ms/step\n",
            "\u001b[1m1/1\u001b[0m \u001b[32m━━━━━━━━━━━━━━━━━━━━\u001b[0m\u001b[37m\u001b[0m \u001b[1m0s\u001b[0m 40ms/step\n",
            "\u001b[1m1/1\u001b[0m \u001b[32m━━━━━━━━━━━━━━━━━━━━\u001b[0m\u001b[37m\u001b[0m \u001b[1m0s\u001b[0m 40ms/step\n",
            "\u001b[1m1/1\u001b[0m \u001b[32m━━━━━━━━━━━━━━━━━━━━\u001b[0m\u001b[37m\u001b[0m \u001b[1m0s\u001b[0m 39ms/step\n",
            "\u001b[1m1/1\u001b[0m \u001b[32m━━━━━━━━━━━━━━━━━━━━\u001b[0m\u001b[37m\u001b[0m \u001b[1m0s\u001b[0m 41ms/step\n",
            "\u001b[1m1/1\u001b[0m \u001b[32m━━━━━━━━━━━━━━━━━━━━\u001b[0m\u001b[37m\u001b[0m \u001b[1m0s\u001b[0m 47ms/step\n",
            "\u001b[1m1/1\u001b[0m \u001b[32m━━━━━━━━━━━━━━━━━━━━\u001b[0m\u001b[37m\u001b[0m \u001b[1m0s\u001b[0m 44ms/step\n",
            "\u001b[1m1/1\u001b[0m \u001b[32m━━━━━━━━━━━━━━━━━━━━\u001b[0m\u001b[37m\u001b[0m \u001b[1m0s\u001b[0m 47ms/step\n",
            "\u001b[1m1/1\u001b[0m \u001b[32m━━━━━━━━━━━━━━━━━━━━\u001b[0m\u001b[37m\u001b[0m \u001b[1m0s\u001b[0m 41ms/step\n",
            "\u001b[1m1/1\u001b[0m \u001b[32m━━━━━━━━━━━━━━━━━━━━\u001b[0m\u001b[37m\u001b[0m \u001b[1m0s\u001b[0m 41ms/step\n",
            "\u001b[1m1/1\u001b[0m \u001b[32m━━━━━━━━━━━━━━━━━━━━\u001b[0m\u001b[37m\u001b[0m \u001b[1m0s\u001b[0m 43ms/step\n",
            "\u001b[1m1/1\u001b[0m \u001b[32m━━━━━━━━━━━━━━━━━━━━\u001b[0m\u001b[37m\u001b[0m \u001b[1m0s\u001b[0m 41ms/step\n",
            "\u001b[1m1/1\u001b[0m \u001b[32m━━━━━━━━━━━━━━━━━━━━\u001b[0m\u001b[37m\u001b[0m \u001b[1m0s\u001b[0m 42ms/step\n",
            "\u001b[1m1/1\u001b[0m \u001b[32m━━━━━━━━━━━━━━━━━━━━\u001b[0m\u001b[37m\u001b[0m \u001b[1m0s\u001b[0m 39ms/step\n",
            "\u001b[1m1/1\u001b[0m \u001b[32m━━━━━━━━━━━━━━━━━━━━\u001b[0m\u001b[37m\u001b[0m \u001b[1m0s\u001b[0m 41ms/step\n",
            "\u001b[1m1/1\u001b[0m \u001b[32m━━━━━━━━━━━━━━━━━━━━\u001b[0m\u001b[37m\u001b[0m \u001b[1m0s\u001b[0m 41ms/step\n",
            "\u001b[1m1/1\u001b[0m \u001b[32m━━━━━━━━━━━━━━━━━━━━\u001b[0m\u001b[37m\u001b[0m \u001b[1m0s\u001b[0m 43ms/step\n",
            "\u001b[1m1/1\u001b[0m \u001b[32m━━━━━━━━━━━━━━━━━━━━\u001b[0m\u001b[37m\u001b[0m \u001b[1m0s\u001b[0m 62ms/step\n",
            "\u001b[1m1/1\u001b[0m \u001b[32m━━━━━━━━━━━━━━━━━━━━\u001b[0m\u001b[37m\u001b[0m \u001b[1m0s\u001b[0m 69ms/step\n",
            "\u001b[1m1/1\u001b[0m \u001b[32m━━━━━━━━━━━━━━━━━━━━\u001b[0m\u001b[37m\u001b[0m \u001b[1m0s\u001b[0m 53ms/step\n",
            "\u001b[1m1/1\u001b[0m \u001b[32m━━━━━━━━━━━━━━━━━━━━\u001b[0m\u001b[37m\u001b[0m \u001b[1m0s\u001b[0m 70ms/step\n",
            "\u001b[1m1/1\u001b[0m \u001b[32m━━━━━━━━━━━━━━━━━━━━\u001b[0m\u001b[37m\u001b[0m \u001b[1m0s\u001b[0m 57ms/step\n",
            "\u001b[1m1/1\u001b[0m \u001b[32m━━━━━━━━━━━━━━━━━━━━\u001b[0m\u001b[37m\u001b[0m \u001b[1m0s\u001b[0m 61ms/step\n",
            "\u001b[1m1/1\u001b[0m \u001b[32m━━━━━━━━━━━━━━━━━━━━\u001b[0m\u001b[37m\u001b[0m \u001b[1m0s\u001b[0m 61ms/step\n",
            "\u001b[1m1/1\u001b[0m \u001b[32m━━━━━━━━━━━━━━━━━━━━\u001b[0m\u001b[37m\u001b[0m \u001b[1m0s\u001b[0m 50ms/step\n",
            "\u001b[1m1/1\u001b[0m \u001b[32m━━━━━━━━━━━━━━━━━━━━\u001b[0m\u001b[37m\u001b[0m \u001b[1m0s\u001b[0m 47ms/step\n",
            "\u001b[1m1/1\u001b[0m \u001b[32m━━━━━━━━━━━━━━━━━━━━\u001b[0m\u001b[37m\u001b[0m \u001b[1m0s\u001b[0m 53ms/step\n",
            "\u001b[1m1/1\u001b[0m \u001b[32m━━━━━━━━━━━━━━━━━━━━\u001b[0m\u001b[37m\u001b[0m \u001b[1m0s\u001b[0m 49ms/step\n",
            "\u001b[1m1/1\u001b[0m \u001b[32m━━━━━━━━━━━━━━━━━━━━\u001b[0m\u001b[37m\u001b[0m \u001b[1m0s\u001b[0m 55ms/step\n",
            "\u001b[1m1/1\u001b[0m \u001b[32m━━━━━━━━━━━━━━━━━━━━\u001b[0m\u001b[37m\u001b[0m \u001b[1m0s\u001b[0m 52ms/step\n",
            "\u001b[1m1/1\u001b[0m \u001b[32m━━━━━━━━━━━━━━━━━━━━\u001b[0m\u001b[37m\u001b[0m \u001b[1m0s\u001b[0m 77ms/step\n",
            "\u001b[1m1/1\u001b[0m \u001b[32m━━━━━━━━━━━━━━━━━━━━\u001b[0m\u001b[37m\u001b[0m \u001b[1m0s\u001b[0m 51ms/step\n",
            "\u001b[1m1/1\u001b[0m \u001b[32m━━━━━━━━━━━━━━━━━━━━\u001b[0m\u001b[37m\u001b[0m \u001b[1m0s\u001b[0m 58ms/step\n",
            "\u001b[1m1/1\u001b[0m \u001b[32m━━━━━━━━━━━━━━━━━━━━\u001b[0m\u001b[37m\u001b[0m \u001b[1m0s\u001b[0m 51ms/step\n",
            "\u001b[1m1/1\u001b[0m \u001b[32m━━━━━━━━━━━━━━━━━━━━\u001b[0m\u001b[37m\u001b[0m \u001b[1m0s\u001b[0m 62ms/step\n",
            "\u001b[1m1/1\u001b[0m \u001b[32m━━━━━━━━━━━━━━━━━━━━\u001b[0m\u001b[37m\u001b[0m \u001b[1m0s\u001b[0m 56ms/step\n",
            "\u001b[1m1/1\u001b[0m \u001b[32m━━━━━━━━━━━━━━━━━━━━\u001b[0m\u001b[37m\u001b[0m \u001b[1m0s\u001b[0m 55ms/step\n",
            "\u001b[1m1/1\u001b[0m \u001b[32m━━━━━━━━━━━━━━━━━━━━\u001b[0m\u001b[37m\u001b[0m \u001b[1m0s\u001b[0m 68ms/step\n",
            "\u001b[1m1/1\u001b[0m \u001b[32m━━━━━━━━━━━━━━━━━━━━\u001b[0m\u001b[37m\u001b[0m \u001b[1m0s\u001b[0m 69ms/step\n",
            "\u001b[1m1/1\u001b[0m \u001b[32m━━━━━━━━━━━━━━━━━━━━\u001b[0m\u001b[37m\u001b[0m \u001b[1m0s\u001b[0m 54ms/step\n",
            "\u001b[1m1/1\u001b[0m \u001b[32m━━━━━━━━━━━━━━━━━━━━\u001b[0m\u001b[37m\u001b[0m \u001b[1m0s\u001b[0m 46ms/step\n",
            "\u001b[1m1/1\u001b[0m \u001b[32m━━━━━━━━━━━━━━━━━━━━\u001b[0m\u001b[37m\u001b[0m \u001b[1m0s\u001b[0m 43ms/step\n",
            "\u001b[1m1/1\u001b[0m \u001b[32m━━━━━━━━━━━━━━━━━━━━\u001b[0m\u001b[37m\u001b[0m \u001b[1m0s\u001b[0m 41ms/step\n",
            "\u001b[1m1/1\u001b[0m \u001b[32m━━━━━━━━━━━━━━━━━━━━\u001b[0m\u001b[37m\u001b[0m \u001b[1m0s\u001b[0m 41ms/step\n",
            "\u001b[1m1/1\u001b[0m \u001b[32m━━━━━━━━━━━━━━━━━━━━\u001b[0m\u001b[37m\u001b[0m \u001b[1m0s\u001b[0m 41ms/step\n",
            "\u001b[1m1/1\u001b[0m \u001b[32m━━━━━━━━━━━━━━━━━━━━\u001b[0m\u001b[37m\u001b[0m \u001b[1m0s\u001b[0m 41ms/step\n",
            "\u001b[1m1/1\u001b[0m \u001b[32m━━━━━━━━━━━━━━━━━━━━\u001b[0m\u001b[37m\u001b[0m \u001b[1m0s\u001b[0m 50ms/step\n",
            "\u001b[1m1/1\u001b[0m \u001b[32m━━━━━━━━━━━━━━━━━━━━\u001b[0m\u001b[37m\u001b[0m \u001b[1m0s\u001b[0m 42ms/step\n",
            "\u001b[1m1/1\u001b[0m \u001b[32m━━━━━━━━━━━━━━━━━━━━\u001b[0m\u001b[37m\u001b[0m \u001b[1m0s\u001b[0m 42ms/step\n",
            "\u001b[1m1/1\u001b[0m \u001b[32m━━━━━━━━━━━━━━━━━━━━\u001b[0m\u001b[37m\u001b[0m \u001b[1m0s\u001b[0m 42ms/step\n",
            "\u001b[1m1/1\u001b[0m \u001b[32m━━━━━━━━━━━━━━━━━━━━\u001b[0m\u001b[37m\u001b[0m \u001b[1m0s\u001b[0m 41ms/step\n",
            "\u001b[1m1/1\u001b[0m \u001b[32m━━━━━━━━━━━━━━━━━━━━\u001b[0m\u001b[37m\u001b[0m \u001b[1m0s\u001b[0m 39ms/step\n",
            "\u001b[1m1/1\u001b[0m \u001b[32m━━━━━━━━━━━━━━━━━━━━\u001b[0m\u001b[37m\u001b[0m \u001b[1m0s\u001b[0m 40ms/step\n",
            "\u001b[1m1/1\u001b[0m \u001b[32m━━━━━━━━━━━━━━━━━━━━\u001b[0m\u001b[37m\u001b[0m \u001b[1m0s\u001b[0m 44ms/step\n",
            "\u001b[1m1/1\u001b[0m \u001b[32m━━━━━━━━━━━━━━━━━━━━\u001b[0m\u001b[37m\u001b[0m \u001b[1m0s\u001b[0m 43ms/step\n",
            "\u001b[1m1/1\u001b[0m \u001b[32m━━━━━━━━━━━━━━━━━━━━\u001b[0m\u001b[37m\u001b[0m \u001b[1m0s\u001b[0m 42ms/step\n",
            "\u001b[1m1/1\u001b[0m \u001b[32m━━━━━━━━━━━━━━━━━━━━\u001b[0m\u001b[37m\u001b[0m \u001b[1m0s\u001b[0m 43ms/step\n",
            "\u001b[1m1/1\u001b[0m \u001b[32m━━━━━━━━━━━━━━━━━━━━\u001b[0m\u001b[37m\u001b[0m \u001b[1m0s\u001b[0m 43ms/step\n",
            "\u001b[1m1/1\u001b[0m \u001b[32m━━━━━━━━━━━━━━━━━━━━\u001b[0m\u001b[37m\u001b[0m \u001b[1m0s\u001b[0m 43ms/step\n",
            "\u001b[1m1/1\u001b[0m \u001b[32m━━━━━━━━━━━━━━━━━━━━\u001b[0m\u001b[37m\u001b[0m \u001b[1m0s\u001b[0m 42ms/step\n",
            "\u001b[1m1/1\u001b[0m \u001b[32m━━━━━━━━━━━━━━━━━━━━\u001b[0m\u001b[37m\u001b[0m \u001b[1m0s\u001b[0m 42ms/step\n",
            "\u001b[1m1/1\u001b[0m \u001b[32m━━━━━━━━━━━━━━━━━━━━\u001b[0m\u001b[37m\u001b[0m \u001b[1m0s\u001b[0m 34ms/step\n",
            "\u001b[1m1/1\u001b[0m \u001b[32m━━━━━━━━━━━━━━━━━━━━\u001b[0m\u001b[37m\u001b[0m \u001b[1m0s\u001b[0m 39ms/step\n",
            "\u001b[1m1/1\u001b[0m \u001b[32m━━━━━━━━━━━━━━━━━━━━\u001b[0m\u001b[37m\u001b[0m \u001b[1m0s\u001b[0m 40ms/step\n",
            "\u001b[1m1/1\u001b[0m \u001b[32m━━━━━━━━━━━━━━━━━━━━\u001b[0m\u001b[37m\u001b[0m \u001b[1m0s\u001b[0m 40ms/step\n",
            "\u001b[1m1/1\u001b[0m \u001b[32m━━━━━━━━━━━━━━━━━━━━\u001b[0m\u001b[37m\u001b[0m \u001b[1m0s\u001b[0m 45ms/step\n",
            "\u001b[1m1/1\u001b[0m \u001b[32m━━━━━━━━━━━━━━━━━━━━\u001b[0m\u001b[37m\u001b[0m \u001b[1m0s\u001b[0m 45ms/step\n",
            "\u001b[1m1/1\u001b[0m \u001b[32m━━━━━━━━━━━━━━━━━━━━\u001b[0m\u001b[37m\u001b[0m \u001b[1m0s\u001b[0m 42ms/step\n",
            "\u001b[1m1/1\u001b[0m \u001b[32m━━━━━━━━━━━━━━━━━━━━\u001b[0m\u001b[37m\u001b[0m \u001b[1m0s\u001b[0m 45ms/step\n",
            "\u001b[1m1/1\u001b[0m \u001b[32m━━━━━━━━━━━━━━━━━━━━\u001b[0m\u001b[37m\u001b[0m \u001b[1m0s\u001b[0m 41ms/step\n",
            "\u001b[1m1/1\u001b[0m \u001b[32m━━━━━━━━━━━━━━━━━━━━\u001b[0m\u001b[37m\u001b[0m \u001b[1m0s\u001b[0m 41ms/step\n",
            "\u001b[1m1/1\u001b[0m \u001b[32m━━━━━━━━━━━━━━━━━━━━\u001b[0m\u001b[37m\u001b[0m \u001b[1m0s\u001b[0m 43ms/step\n",
            "\u001b[1m1/1\u001b[0m \u001b[32m━━━━━━━━━━━━━━━━━━━━\u001b[0m\u001b[37m\u001b[0m \u001b[1m0s\u001b[0m 40ms/step\n",
            "\u001b[1m1/1\u001b[0m \u001b[32m━━━━━━━━━━━━━━━━━━━━\u001b[0m\u001b[37m\u001b[0m \u001b[1m0s\u001b[0m 41ms/step\n",
            "\u001b[1m1/1\u001b[0m \u001b[32m━━━━━━━━━━━━━━━━━━━━\u001b[0m\u001b[37m\u001b[0m \u001b[1m0s\u001b[0m 43ms/step\n",
            "\u001b[1m1/1\u001b[0m \u001b[32m━━━━━━━━━━━━━━━━━━━━\u001b[0m\u001b[37m\u001b[0m \u001b[1m0s\u001b[0m 41ms/step\n",
            "\u001b[1m1/1\u001b[0m \u001b[32m━━━━━━━━━━━━━━━━━━━━\u001b[0m\u001b[37m\u001b[0m \u001b[1m0s\u001b[0m 42ms/step\n",
            "\u001b[1m1/1\u001b[0m \u001b[32m━━━━━━━━━━━━━━━━━━━━\u001b[0m\u001b[37m\u001b[0m \u001b[1m0s\u001b[0m 44ms/step\n",
            "\u001b[1m1/1\u001b[0m \u001b[32m━━━━━━━━━━━━━━━━━━━━\u001b[0m\u001b[37m\u001b[0m \u001b[1m0s\u001b[0m 45ms/step\n",
            "\u001b[1m1/1\u001b[0m \u001b[32m━━━━━━━━━━━━━━━━━━━━\u001b[0m\u001b[37m\u001b[0m \u001b[1m0s\u001b[0m 45ms/step\n",
            "\u001b[1m1/1\u001b[0m \u001b[32m━━━━━━━━━━━━━━━━━━━━\u001b[0m\u001b[37m\u001b[0m \u001b[1m0s\u001b[0m 44ms/step\n",
            "\u001b[1m1/1\u001b[0m \u001b[32m━━━━━━━━━━━━━━━━━━━━\u001b[0m\u001b[37m\u001b[0m \u001b[1m0s\u001b[0m 44ms/step\n",
            "\u001b[1m1/1\u001b[0m \u001b[32m━━━━━━━━━━━━━━━━━━━━\u001b[0m\u001b[37m\u001b[0m \u001b[1m0s\u001b[0m 37ms/step\n",
            "\u001b[1m1/1\u001b[0m \u001b[32m━━━━━━━━━━━━━━━━━━━━\u001b[0m\u001b[37m\u001b[0m \u001b[1m0s\u001b[0m 42ms/step\n",
            "\u001b[1m1/1\u001b[0m \u001b[32m━━━━━━━━━━━━━━━━━━━━\u001b[0m\u001b[37m\u001b[0m \u001b[1m0s\u001b[0m 55ms/step\n",
            "\u001b[1m1/1\u001b[0m \u001b[32m━━━━━━━━━━━━━━━━━━━━\u001b[0m\u001b[37m\u001b[0m \u001b[1m0s\u001b[0m 41ms/step\n",
            "\u001b[1m1/1\u001b[0m \u001b[32m━━━━━━━━━━━━━━━━━━━━\u001b[0m\u001b[37m\u001b[0m \u001b[1m0s\u001b[0m 41ms/step\n",
            "\u001b[1m1/1\u001b[0m \u001b[32m━━━━━━━━━━━━━━━━━━━━\u001b[0m\u001b[37m\u001b[0m \u001b[1m0s\u001b[0m 40ms/step\n",
            "\u001b[1m1/1\u001b[0m \u001b[32m━━━━━━━━━━━━━━━━━━━━\u001b[0m\u001b[37m\u001b[0m \u001b[1m0s\u001b[0m 40ms/step\n",
            "\u001b[1m1/1\u001b[0m \u001b[32m━━━━━━━━━━━━━━━━━━━━\u001b[0m\u001b[37m\u001b[0m \u001b[1m0s\u001b[0m 43ms/step\n",
            "\u001b[1m1/1\u001b[0m \u001b[32m━━━━━━━━━━━━━━━━━━━━\u001b[0m\u001b[37m\u001b[0m \u001b[1m0s\u001b[0m 44ms/step\n",
            "\u001b[1m1/1\u001b[0m \u001b[32m━━━━━━━━━━━━━━━━━━━━\u001b[0m\u001b[37m\u001b[0m \u001b[1m0s\u001b[0m 43ms/step\n",
            "\u001b[1m1/1\u001b[0m \u001b[32m━━━━━━━━━━━━━━━━━━━━\u001b[0m\u001b[37m\u001b[0m \u001b[1m0s\u001b[0m 43ms/step\n",
            "\u001b[1m1/1\u001b[0m \u001b[32m━━━━━━━━━━━━━━━━━━━━\u001b[0m\u001b[37m\u001b[0m \u001b[1m0s\u001b[0m 42ms/step\n",
            "\u001b[1m1/1\u001b[0m \u001b[32m━━━━━━━━━━━━━━━━━━━━\u001b[0m\u001b[37m\u001b[0m \u001b[1m0s\u001b[0m 43ms/step\n",
            "\u001b[1m1/1\u001b[0m \u001b[32m━━━━━━━━━━━━━━━━━━━━\u001b[0m\u001b[37m\u001b[0m \u001b[1m0s\u001b[0m 43ms/step\n",
            "\u001b[1m1/1\u001b[0m \u001b[32m━━━━━━━━━━━━━━━━━━━━\u001b[0m\u001b[37m\u001b[0m \u001b[1m0s\u001b[0m 44ms/step\n",
            "\u001b[1m1/1\u001b[0m \u001b[32m━━━━━━━━━━━━━━━━━━━━\u001b[0m\u001b[37m\u001b[0m \u001b[1m0s\u001b[0m 42ms/step\n",
            "\u001b[1m1/1\u001b[0m \u001b[32m━━━━━━━━━━━━━━━━━━━━\u001b[0m\u001b[37m\u001b[0m \u001b[1m0s\u001b[0m 42ms/step\n",
            "\u001b[1m1/1\u001b[0m \u001b[32m━━━━━━━━━━━━━━━━━━━━\u001b[0m\u001b[37m\u001b[0m \u001b[1m0s\u001b[0m 41ms/step\n",
            "\u001b[1m1/1\u001b[0m \u001b[32m━━━━━━━━━━━━━━━━━━━━\u001b[0m\u001b[37m\u001b[0m \u001b[1m0s\u001b[0m 38ms/step\n",
            "\u001b[1m1/1\u001b[0m \u001b[32m━━━━━━━━━━━━━━━━━━━━\u001b[0m\u001b[37m\u001b[0m \u001b[1m0s\u001b[0m 48ms/step\n",
            "\u001b[1m1/1\u001b[0m \u001b[32m━━━━━━━━━━━━━━━━━━━━\u001b[0m\u001b[37m\u001b[0m \u001b[1m0s\u001b[0m 41ms/step\n",
            "\u001b[1m1/1\u001b[0m \u001b[32m━━━━━━━━━━━━━━━━━━━━\u001b[0m\u001b[37m\u001b[0m \u001b[1m0s\u001b[0m 37ms/step\n",
            "\u001b[1m1/1\u001b[0m \u001b[32m━━━━━━━━━━━━━━━━━━━━\u001b[0m\u001b[37m\u001b[0m \u001b[1m0s\u001b[0m 41ms/step\n",
            "\u001b[1m1/1\u001b[0m \u001b[32m━━━━━━━━━━━━━━━━━━━━\u001b[0m\u001b[37m\u001b[0m \u001b[1m0s\u001b[0m 42ms/step\n",
            "\u001b[1m1/1\u001b[0m \u001b[32m━━━━━━━━━━━━━━━━━━━━\u001b[0m\u001b[37m\u001b[0m \u001b[1m0s\u001b[0m 41ms/step\n",
            "\u001b[1m1/1\u001b[0m \u001b[32m━━━━━━━━━━━━━━━━━━━━\u001b[0m\u001b[37m\u001b[0m \u001b[1m0s\u001b[0m 44ms/step\n",
            "\u001b[1m1/1\u001b[0m \u001b[32m━━━━━━━━━━━━━━━━━━━━\u001b[0m\u001b[37m\u001b[0m \u001b[1m0s\u001b[0m 42ms/step\n",
            "\u001b[1m1/1\u001b[0m \u001b[32m━━━━━━━━━━━━━━━━━━━━\u001b[0m\u001b[37m\u001b[0m \u001b[1m0s\u001b[0m 40ms/step\n",
            "\u001b[1m1/1\u001b[0m \u001b[32m━━━━━━━━━━━━━━━━━━━━\u001b[0m\u001b[37m\u001b[0m \u001b[1m0s\u001b[0m 48ms/step\n",
            "\u001b[1m1/1\u001b[0m \u001b[32m━━━━━━━━━━━━━━━━━━━━\u001b[0m\u001b[37m\u001b[0m \u001b[1m0s\u001b[0m 43ms/step\n",
            "\u001b[1m1/1\u001b[0m \u001b[32m━━━━━━━━━━━━━━━━━━━━\u001b[0m\u001b[37m\u001b[0m \u001b[1m0s\u001b[0m 40ms/step\n",
            "\u001b[1m1/1\u001b[0m \u001b[32m━━━━━━━━━━━━━━━━━━━━\u001b[0m\u001b[37m\u001b[0m \u001b[1m0s\u001b[0m 41ms/step\n",
            "\u001b[1m1/1\u001b[0m \u001b[32m━━━━━━━━━━━━━━━━━━━━\u001b[0m\u001b[37m\u001b[0m \u001b[1m0s\u001b[0m 42ms/step\n",
            "\u001b[1m1/1\u001b[0m \u001b[32m━━━━━━━━━━━━━━━━━━━━\u001b[0m\u001b[37m\u001b[0m \u001b[1m0s\u001b[0m 42ms/step\n",
            "\u001b[1m1/1\u001b[0m \u001b[32m━━━━━━━━━━━━━━━━━━━━\u001b[0m\u001b[37m\u001b[0m \u001b[1m0s\u001b[0m 44ms/step\n",
            "\u001b[1m1/1\u001b[0m \u001b[32m━━━━━━━━━━━━━━━━━━━━\u001b[0m\u001b[37m\u001b[0m \u001b[1m0s\u001b[0m 42ms/step\n",
            "\u001b[1m1/1\u001b[0m \u001b[32m━━━━━━━━━━━━━━━━━━━━\u001b[0m\u001b[37m\u001b[0m \u001b[1m0s\u001b[0m 43ms/step\n",
            "\u001b[1m1/1\u001b[0m \u001b[32m━━━━━━━━━━━━━━━━━━━━\u001b[0m\u001b[37m\u001b[0m \u001b[1m0s\u001b[0m 43ms/step\n",
            "\u001b[1m1/1\u001b[0m \u001b[32m━━━━━━━━━━━━━━━━━━━━\u001b[0m\u001b[37m\u001b[0m \u001b[1m0s\u001b[0m 42ms/step\n",
            "\u001b[1m1/1\u001b[0m \u001b[32m━━━━━━━━━━━━━━━━━━━━\u001b[0m\u001b[37m\u001b[0m \u001b[1m0s\u001b[0m 40ms/step\n",
            "\u001b[1m1/1\u001b[0m \u001b[32m━━━━━━━━━━━━━━━━━━━━\u001b[0m\u001b[37m\u001b[0m \u001b[1m0s\u001b[0m 51ms/step\n",
            "\u001b[1m1/1\u001b[0m \u001b[32m━━━━━━━━━━━━━━━━━━━━\u001b[0m\u001b[37m\u001b[0m \u001b[1m0s\u001b[0m 42ms/step\n",
            "\u001b[1m1/1\u001b[0m \u001b[32m━━━━━━━━━━━━━━━━━━━━\u001b[0m\u001b[37m\u001b[0m \u001b[1m0s\u001b[0m 35ms/step\n",
            "\u001b[1m1/1\u001b[0m \u001b[32m━━━━━━━━━━━━━━━━━━━━\u001b[0m\u001b[37m\u001b[0m \u001b[1m0s\u001b[0m 42ms/step\n",
            "\u001b[1m1/1\u001b[0m \u001b[32m━━━━━━━━━━━━━━━━━━━━\u001b[0m\u001b[37m\u001b[0m \u001b[1m0s\u001b[0m 42ms/step\n",
            "\u001b[1m1/1\u001b[0m \u001b[32m━━━━━━━━━━━━━━━━━━━━\u001b[0m\u001b[37m\u001b[0m \u001b[1m0s\u001b[0m 43ms/step\n",
            "\u001b[1m1/1\u001b[0m \u001b[32m━━━━━━━━━━━━━━━━━━━━\u001b[0m\u001b[37m\u001b[0m \u001b[1m0s\u001b[0m 51ms/step\n",
            "\u001b[1m1/1\u001b[0m \u001b[32m━━━━━━━━━━━━━━━━━━━━\u001b[0m\u001b[37m\u001b[0m \u001b[1m0s\u001b[0m 47ms/step\n",
            "\u001b[1m1/1\u001b[0m \u001b[32m━━━━━━━━━━━━━━━━━━━━\u001b[0m\u001b[37m\u001b[0m \u001b[1m0s\u001b[0m 40ms/step\n",
            "\u001b[1m1/1\u001b[0m \u001b[32m━━━━━━━━━━━━━━━━━━━━\u001b[0m\u001b[37m\u001b[0m \u001b[1m0s\u001b[0m 47ms/step\n",
            "\u001b[1m1/1\u001b[0m \u001b[32m━━━━━━━━━━━━━━━━━━━━\u001b[0m\u001b[37m\u001b[0m \u001b[1m0s\u001b[0m 42ms/step\n",
            "\u001b[1m1/1\u001b[0m \u001b[32m━━━━━━━━━━━━━━━━━━━━\u001b[0m\u001b[37m\u001b[0m \u001b[1m0s\u001b[0m 51ms/step\n",
            "\u001b[1m1/1\u001b[0m \u001b[32m━━━━━━━━━━━━━━━━━━━━\u001b[0m\u001b[37m\u001b[0m \u001b[1m0s\u001b[0m 65ms/step\n",
            "\u001b[1m1/1\u001b[0m \u001b[32m━━━━━━━━━━━━━━━━━━━━\u001b[0m\u001b[37m\u001b[0m \u001b[1m0s\u001b[0m 51ms/step\n",
            "\u001b[1m1/1\u001b[0m \u001b[32m━━━━━━━━━━━━━━━━━━━━\u001b[0m\u001b[37m\u001b[0m \u001b[1m0s\u001b[0m 63ms/step\n",
            "\u001b[1m1/1\u001b[0m \u001b[32m━━━━━━━━━━━━━━━━━━━━\u001b[0m\u001b[37m\u001b[0m \u001b[1m0s\u001b[0m 63ms/step\n",
            "\u001b[1m1/1\u001b[0m \u001b[32m━━━━━━━━━━━━━━━━━━━━\u001b[0m\u001b[37m\u001b[0m \u001b[1m0s\u001b[0m 54ms/step\n",
            "\u001b[1m1/1\u001b[0m \u001b[32m━━━━━━━━━━━━━━━━━━━━\u001b[0m\u001b[37m\u001b[0m \u001b[1m0s\u001b[0m 53ms/step\n",
            "\u001b[1m1/1\u001b[0m \u001b[32m━━━━━━━━━━━━━━━━━━━━\u001b[0m\u001b[37m\u001b[0m \u001b[1m0s\u001b[0m 70ms/step\n",
            "\u001b[1m1/1\u001b[0m \u001b[32m━━━━━━━━━━━━━━━━━━━━\u001b[0m\u001b[37m\u001b[0m \u001b[1m0s\u001b[0m 53ms/step\n",
            "\u001b[1m1/1\u001b[0m \u001b[32m━━━━━━━━━━━━━━━━━━━━\u001b[0m\u001b[37m\u001b[0m \u001b[1m0s\u001b[0m 53ms/step\n",
            "\u001b[1m1/1\u001b[0m \u001b[32m━━━━━━━━━━━━━━━━━━━━\u001b[0m\u001b[37m\u001b[0m \u001b[1m0s\u001b[0m 69ms/step\n",
            "\u001b[1m1/1\u001b[0m \u001b[32m━━━━━━━━━━━━━━━━━━━━\u001b[0m\u001b[37m\u001b[0m \u001b[1m0s\u001b[0m 54ms/step\n",
            "\u001b[1m1/1\u001b[0m \u001b[32m━━━━━━━━━━━━━━━━━━━━\u001b[0m\u001b[37m\u001b[0m \u001b[1m0s\u001b[0m 58ms/step\n",
            "\u001b[1m1/1\u001b[0m \u001b[32m━━━━━━━━━━━━━━━━━━━━\u001b[0m\u001b[37m\u001b[0m \u001b[1m0s\u001b[0m 77ms/step\n",
            "\u001b[1m1/1\u001b[0m \u001b[32m━━━━━━━━━━━━━━━━━━━━\u001b[0m\u001b[37m\u001b[0m \u001b[1m0s\u001b[0m 48ms/step\n",
            "\u001b[1m1/1\u001b[0m \u001b[32m━━━━━━━━━━━━━━━━━━━━\u001b[0m\u001b[37m\u001b[0m \u001b[1m0s\u001b[0m 54ms/step\n",
            "\u001b[1m1/1\u001b[0m \u001b[32m━━━━━━━━━━━━━━━━━━━━\u001b[0m\u001b[37m\u001b[0m \u001b[1m0s\u001b[0m 57ms/step\n",
            "\u001b[1m1/1\u001b[0m \u001b[32m━━━━━━━━━━━━━━━━━━━━\u001b[0m\u001b[37m\u001b[0m \u001b[1m0s\u001b[0m 50ms/step\n",
            "\u001b[1m1/1\u001b[0m \u001b[32m━━━━━━━━━━━━━━━━━━━━\u001b[0m\u001b[37m\u001b[0m \u001b[1m0s\u001b[0m 77ms/step\n",
            "\u001b[1m1/1\u001b[0m \u001b[32m━━━━━━━━━━━━━━━━━━━━\u001b[0m\u001b[37m\u001b[0m \u001b[1m0s\u001b[0m 51ms/step\n",
            "\u001b[1m1/1\u001b[0m \u001b[32m━━━━━━━━━━━━━━━━━━━━\u001b[0m\u001b[37m\u001b[0m \u001b[1m0s\u001b[0m 81ms/step\n",
            "\u001b[1m1/1\u001b[0m \u001b[32m━━━━━━━━━━━━━━━━━━━━\u001b[0m\u001b[37m\u001b[0m \u001b[1m0s\u001b[0m 78ms/step\n",
            "\u001b[1m1/1\u001b[0m \u001b[32m━━━━━━━━━━━━━━━━━━━━\u001b[0m\u001b[37m\u001b[0m \u001b[1m0s\u001b[0m 57ms/step\n",
            "\u001b[1m1/1\u001b[0m \u001b[32m━━━━━━━━━━━━━━━━━━━━\u001b[0m\u001b[37m\u001b[0m \u001b[1m0s\u001b[0m 59ms/step\n",
            "\u001b[1m1/1\u001b[0m \u001b[32m━━━━━━━━━━━━━━━━━━━━\u001b[0m\u001b[37m\u001b[0m \u001b[1m0s\u001b[0m 63ms/step\n",
            "\u001b[1m1/1\u001b[0m \u001b[32m━━━━━━━━━━━━━━━━━━━━\u001b[0m\u001b[37m\u001b[0m \u001b[1m0s\u001b[0m 44ms/step\n",
            "\u001b[1m1/1\u001b[0m \u001b[32m━━━━━━━━━━━━━━━━━━━━\u001b[0m\u001b[37m\u001b[0m \u001b[1m0s\u001b[0m 40ms/step\n",
            "\u001b[1m1/1\u001b[0m \u001b[32m━━━━━━━━━━━━━━━━━━━━\u001b[0m\u001b[37m\u001b[0m \u001b[1m0s\u001b[0m 41ms/step\n",
            "\u001b[1m1/1\u001b[0m \u001b[32m━━━━━━━━━━━━━━━━━━━━\u001b[0m\u001b[37m\u001b[0m \u001b[1m0s\u001b[0m 48ms/step\n",
            "\u001b[1m1/1\u001b[0m \u001b[32m━━━━━━━━━━━━━━━━━━━━\u001b[0m\u001b[37m\u001b[0m \u001b[1m0s\u001b[0m 49ms/step\n",
            "\u001b[1m1/1\u001b[0m \u001b[32m━━━━━━━━━━━━━━━━━━━━\u001b[0m\u001b[37m\u001b[0m \u001b[1m0s\u001b[0m 49ms/step\n",
            "\u001b[1m1/1\u001b[0m \u001b[32m━━━━━━━━━━━━━━━━━━━━\u001b[0m\u001b[37m\u001b[0m \u001b[1m0s\u001b[0m 43ms/step\n",
            "\u001b[1m1/1\u001b[0m \u001b[32m━━━━━━━━━━━━━━━━━━━━\u001b[0m\u001b[37m\u001b[0m \u001b[1m0s\u001b[0m 43ms/step\n",
            "\u001b[1m1/1\u001b[0m \u001b[32m━━━━━━━━━━━━━━━━━━━━\u001b[0m\u001b[37m\u001b[0m \u001b[1m0s\u001b[0m 47ms/step\n",
            "\u001b[1m1/1\u001b[0m \u001b[32m━━━━━━━━━━━━━━━━━━━━\u001b[0m\u001b[37m\u001b[0m \u001b[1m0s\u001b[0m 43ms/step\n",
            "\u001b[1m1/1\u001b[0m \u001b[32m━━━━━━━━━━━━━━━━━━━━\u001b[0m\u001b[37m\u001b[0m \u001b[1m0s\u001b[0m 40ms/step\n",
            "\u001b[1m1/1\u001b[0m \u001b[32m━━━━━━━━━━━━━━━━━━━━\u001b[0m\u001b[37m\u001b[0m \u001b[1m0s\u001b[0m 41ms/step\n",
            "\u001b[1m1/1\u001b[0m \u001b[32m━━━━━━━━━━━━━━━━━━━━\u001b[0m\u001b[37m\u001b[0m \u001b[1m0s\u001b[0m 41ms/step\n",
            "\u001b[1m1/1\u001b[0m \u001b[32m━━━━━━━━━━━━━━━━━━━━\u001b[0m\u001b[37m\u001b[0m \u001b[1m0s\u001b[0m 54ms/step\n",
            "\u001b[1m1/1\u001b[0m \u001b[32m━━━━━━━━━━━━━━━━━━━━\u001b[0m\u001b[37m\u001b[0m \u001b[1m0s\u001b[0m 40ms/step\n",
            "\u001b[1m1/1\u001b[0m \u001b[32m━━━━━━━━━━━━━━━━━━━━\u001b[0m\u001b[37m\u001b[0m \u001b[1m0s\u001b[0m 43ms/step\n",
            "\u001b[1m1/1\u001b[0m \u001b[32m━━━━━━━━━━━━━━━━━━━━\u001b[0m\u001b[37m\u001b[0m \u001b[1m0s\u001b[0m 46ms/step\n",
            "\u001b[1m1/1\u001b[0m \u001b[32m━━━━━━━━━━━━━━━━━━━━\u001b[0m\u001b[37m\u001b[0m \u001b[1m0s\u001b[0m 47ms/step\n",
            "\u001b[1m1/1\u001b[0m \u001b[32m━━━━━━━━━━━━━━━━━━━━\u001b[0m\u001b[37m\u001b[0m \u001b[1m0s\u001b[0m 43ms/step\n",
            "\u001b[1m1/1\u001b[0m \u001b[32m━━━━━━━━━━━━━━━━━━━━\u001b[0m\u001b[37m\u001b[0m \u001b[1m0s\u001b[0m 44ms/step\n",
            "\u001b[1m1/1\u001b[0m \u001b[32m━━━━━━━━━━━━━━━━━━━━\u001b[0m\u001b[37m\u001b[0m \u001b[1m0s\u001b[0m 45ms/step\n",
            "\u001b[1m1/1\u001b[0m \u001b[32m━━━━━━━━━━━━━━━━━━━━\u001b[0m\u001b[37m\u001b[0m \u001b[1m0s\u001b[0m 45ms/step\n",
            "\u001b[1m1/1\u001b[0m \u001b[32m━━━━━━━━━━━━━━━━━━━━\u001b[0m\u001b[37m\u001b[0m \u001b[1m0s\u001b[0m 47ms/step\n",
            "\u001b[1m1/1\u001b[0m \u001b[32m━━━━━━━━━━━━━━━━━━━━\u001b[0m\u001b[37m\u001b[0m \u001b[1m0s\u001b[0m 41ms/step\n",
            "\u001b[1m1/1\u001b[0m \u001b[32m━━━━━━━━━━━━━━━━━━━━\u001b[0m\u001b[37m\u001b[0m \u001b[1m0s\u001b[0m 40ms/step\n",
            "\u001b[1m1/1\u001b[0m \u001b[32m━━━━━━━━━━━━━━━━━━━━\u001b[0m\u001b[37m\u001b[0m \u001b[1m0s\u001b[0m 40ms/step\n",
            "\u001b[1m1/1\u001b[0m \u001b[32m━━━━━━━━━━━━━━━━━━━━\u001b[0m\u001b[37m\u001b[0m \u001b[1m0s\u001b[0m 46ms/step\n",
            "\u001b[1m1/1\u001b[0m \u001b[32m━━━━━━━━━━━━━━━━━━━━\u001b[0m\u001b[37m\u001b[0m \u001b[1m0s\u001b[0m 43ms/step\n",
            "\u001b[1m1/1\u001b[0m \u001b[32m━━━━━━━━━━━━━━━━━━━━\u001b[0m\u001b[37m\u001b[0m \u001b[1m0s\u001b[0m 42ms/step\n",
            "Average BLEU Score for Seq2Seq With Attention: 0.0047\n",
            "\n",
            "Final BLEU Scores (based on 50 samples):\n",
            "Seq2Seq Without Attention: 0.0003\n",
            "Seq2Seq With Attention: 0.0047\n"
          ]
        }
      ],
      "source": [
        "def evaluate_bleu(test_data, tokenizer, max_question_len, decode_fn, model_name, sample_size=50, max_tokens=30):\n",
        "    \"\"\"\n",
        "    Evaluate BLEU score on a sample of test data\n",
        "    \"\"\"\n",
        "    # Take a small random sample\n",
        "    if sample_size and sample_size < len(test_data):\n",
        "        test_sample = test_data.sample(sample_size, random_state=42)\n",
        "    else:\n",
        "        test_sample = test_data\n",
        "\n",
        "    print(f\"Evaluating {model_name} on {len(test_sample)} test examples...\")\n",
        "\n",
        "    bleu_scores = []\n",
        "    smooth_fn = SmoothingFunction().method4\n",
        "\n",
        "    for i, (index, row) in enumerate(test_sample.iterrows()):\n",
        "        # Show progress every 10 examples\n",
        "        if i % 10 == 0:\n",
        "            print(f\"Processing example {i}/{len(test_sample)}\")\n",
        "\n",
        "        input_seq = tokenizer.texts_to_sequences([row['Question']])\n",
        "        input_seq = pad_sequences(input_seq, maxlen=max_question_len, padding='post')\n",
        "\n",
        "        decoded_sentence = decode_fn(input_seq, max_tokens=max_tokens)\n",
        "\n",
        "        # Calculate BLEU score\n",
        "        reference = [row['Answer'].split()]\n",
        "        candidate = decoded_sentence.split()\n",
        "        bleu = sentence_bleu(reference, candidate, smoothing_function=smooth_fn)\n",
        "        bleu_scores.append(bleu)\n",
        "\n",
        "    average_bleu = np.mean(bleu_scores) if bleu_scores else 0.0\n",
        "    print(f\"Average BLEU Score for {model_name}: {average_bleu:.4f}\")\n",
        "    return average_bleu\n",
        "\n",
        "# Run evaluation\n",
        "sample_size = 50\n",
        "max_tokens = 20\n",
        "\n",
        "bleu_without_attention = evaluate_bleu(\n",
        "    test_data, tokenizer, max_question_len, decode_sequence_without_attention,\n",
        "    \"Seq2Seq Without Attention\", sample_size=sample_size, max_tokens=max_tokens\n",
        ")\n",
        "\n",
        "bleu_with_attention = evaluate_bleu(\n",
        "    test_data, tokenizer, max_question_len, decode_sequence_with_attention,\n",
        "    \"Seq2Seq With Attention\", sample_size=sample_size, max_tokens=max_tokens\n",
        ")\n",
        "\n",
        "print(f\"\\nFinal BLEU Scores (based on {sample_size} samples):\")\n",
        "print(f\"Seq2Seq Without Attention: {bleu_without_attention:.4f}\")\n",
        "print(f\"Seq2Seq With Attention: {bleu_with_attention:.4f}\")"
      ]
    },
    {
      "cell_type": "markdown",
      "metadata": {
        "id": "wbtyJNKojX3c"
      },
      "source": [
        "#(Section 2): Build Seq2Seq Model Chatbot With Luong Attention"
      ]
    },
    {
      "cell_type": "markdown",
      "metadata": {
        "id": "rpQ93x6upDWo"
      },
      "source": [
        "#(Step1): Load the Dataset (Question and Answer Dataset)"
      ]
    },
    {
      "cell_type": "code",
      "source": [
        "# Verify the Files"
      ],
      "metadata": {
        "id": "42qHr3fpEZrS"
      },
      "execution_count": 121,
      "outputs": []
    },
    {
      "cell_type": "code",
      "source": [
        "import os\n",
        "file_path = \"/content/drive/MyDrive/Question_Answer_Dataset_v1.2\"\n",
        "if os.path.exists(file_path):\n",
        "  print('File Found')\n",
        "else:\n",
        "  print('File not Found, Check the path again.')\n",
        "print(os .listdir(file_path))"
      ],
      "metadata": {
        "colab": {
          "base_uri": "https://localhost:8080/"
        },
        "id": "BmP9eukEGvHS",
        "outputId": "5659775e-c0d9-40d9-9a60-83fa8c075df4"
      },
      "execution_count": 122,
      "outputs": [
        {
          "output_type": "stream",
          "name": "stdout",
          "text": [
            "File Found\n",
            "['LICENSE-S08,S09', 'README.v1.2', 'S09', 'S08', 'S10']\n"
          ]
        }
      ]
    },
    {
      "cell_type": "code",
      "source": [
        "# Loop through S08, S09, S10 and print their contect"
      ],
      "metadata": {
        "id": "iC9Sl7MOLQwd"
      },
      "execution_count": 123,
      "outputs": []
    },
    {
      "cell_type": "code",
      "source": [
        "for subdir in [\"S08\", \"S09\", \"S10\"]:\n",
        "  subdir_path = os.path.join(file_path, subdir)\n",
        "  print(f\"Contents of {subdir}: {os.listdir(subdir_path)}\\n\")"
      ],
      "metadata": {
        "colab": {
          "base_uri": "https://localhost:8080/"
        },
        "id": "1TDzUU0lLhJ1",
        "outputId": "9f5dc6d4-b7f8-4c5b-ae8c-eda5311976c3"
      },
      "execution_count": 124,
      "outputs": [
        {
          "output_type": "stream",
          "name": "stdout",
          "text": [
            "Contents of S08: ['question_answer_pairs.txt', 'data']\n",
            "\n",
            "Contents of S09: ['question_answer_pairs.txt', 'data']\n",
            "\n",
            "Contents of S10: ['question_answer_pairs.txt', 'data']\n",
            "\n"
          ]
        }
      ]
    },
    {
      "cell_type": "code",
      "source": [
        "# Define the File Path for all the three files"
      ],
      "metadata": {
        "id": "Z8CpklxyGweR"
      },
      "execution_count": 126,
      "outputs": []
    },
    {
      "cell_type": "code",
      "source": [
        "s08_file = \"/content/drive/MyDrive/Question_Answer_Dataset_v1.2/S08/question_answer_pairs.txt\"\n",
        "s09_file = \"/content/drive/MyDrive/Question_Answer_Dataset_v1.2/S09/question_answer_pairs.txt\"\n",
        "s10_file = \"/content/drive/MyDrive/Question_Answer_Dataset_v1.2/S10/question_answer_pairs.txt\""
      ],
      "metadata": {
        "id": "VMmd-qXyNxGY"
      },
      "execution_count": 127,
      "outputs": []
    },
    {
      "cell_type": "code",
      "source": [
        "# Read Few Lines of File S08"
      ],
      "metadata": {
        "id": "zljr82GQPnxs"
      },
      "execution_count": 128,
      "outputs": []
    },
    {
      "cell_type": "code",
      "source": [
        "with open(s08_file, \"r\", encoding=\"utf-8\", errors=\"ignore\") as f:\n",
        "  lines = f.readlines()"
      ],
      "metadata": {
        "id": "Klnbrs0iQdWh"
      },
      "execution_count": 129,
      "outputs": []
    },
    {
      "cell_type": "code",
      "source": [
        "# Display first 10 lines to check the structure of the files\n",
        "for line in lines[:10]:\n",
        "  print(line.strip())"
      ],
      "metadata": {
        "colab": {
          "base_uri": "https://localhost:8080/"
        },
        "id": "ET27jXSRQ-PQ",
        "outputId": "5dc8d5f7-a1dc-4e72-d60b-db7aefb47ae4"
      },
      "execution_count": 130,
      "outputs": [
        {
          "output_type": "stream",
          "name": "stdout",
          "text": [
            "ArticleTitle\tQuestion\tAnswer\tDifficultyFromQuestioner\tDifficultyFromAnswerer\tArticleFile\n",
            "Abraham_Lincoln\tWas Abraham Lincoln the sixteenth President of the United States?\tyes\teasy\teasy\tdata/set3/a4\n",
            "Abraham_Lincoln\tWas Abraham Lincoln the sixteenth President of the United States?\tYes.\teasy\teasy\tdata/set3/a4\n",
            "Abraham_Lincoln\tDid Lincoln sign the National Banking Act of 1863?\tyes\teasy\tmedium\tdata/set3/a4\n",
            "Abraham_Lincoln\tDid Lincoln sign the National Banking Act of 1863?\tYes.\teasy\teasy\tdata/set3/a4\n",
            "Abraham_Lincoln\tDid his mother die of pneumonia?\tno\teasy\tmedium\tdata/set3/a4\n",
            "Abraham_Lincoln\tDid his mother die of pneumonia?\tNo.\teasy\teasy\tdata/set3/a4\n",
            "Abraham_Lincoln\tHow many long was Lincoln's formal education?\t18 months\tmedium\teasy\tdata/set3/a4\n",
            "Abraham_Lincoln\tHow many long was Lincoln's formal education?\t18 months.\tmedium\tmedium\tdata/set3/a4\n",
            "Abraham_Lincoln\tWhen did Lincoln begin his political career?\t1832\tmedium\teasy\tdata/set3/a4\n"
          ]
        }
      ]
    },
    {
      "cell_type": "code",
      "source": [
        "# Load all the into a DataFrame"
      ],
      "metadata": {
        "id": "WPwautcXRkTj"
      },
      "execution_count": 131,
      "outputs": []
    },
    {
      "cell_type": "code",
      "source": [
        "def load_data():\n",
        "  df_s08 = pd.read_csv(s08_file, sep=\"\\t\", encoding=\"ISO-8859-1\", on_bad_lines='skip')\n",
        "  df_s09 = pd.read_csv(s09_file, sep=\"\\t\", encoding=\"ISO-8859-1\", on_bad_lines='skip')\n",
        "  df_s10 = pd.read_csv(s10_file, sep=\"\\t\", encoding=\"ISO-8859-1\", on_bad_lines='skip')\n",
        "\n",
        "# Combine all the three datasets\n",
        "  df_combined = pd.concat([df_s08, df_s09, df_s10], ignore_index=True)\n",
        "\n",
        "  return df_combined\n",
        "\n",
        "  # Now load the combined dataset\n",
        "df_combined = load_data()\n",
        "\n",
        "# Display the First Few rows\n",
        "print(df_combined.head())"
      ],
      "metadata": {
        "colab": {
          "base_uri": "https://localhost:8080/"
        },
        "id": "0d3UW0XXSNrI",
        "outputId": "a05a9f6c-7f98-4c52-bcff-04afcc1d77aa"
      },
      "execution_count": 133,
      "outputs": [
        {
          "output_type": "stream",
          "name": "stdout",
          "text": [
            "      ArticleTitle                                           Question Answer  \\\n",
            "0  Abraham_Lincoln  Was Abraham Lincoln the sixteenth President of...    yes   \n",
            "1  Abraham_Lincoln  Was Abraham Lincoln the sixteenth President of...   Yes.   \n",
            "2  Abraham_Lincoln  Did Lincoln sign the National Banking Act of 1...    yes   \n",
            "3  Abraham_Lincoln  Did Lincoln sign the National Banking Act of 1...   Yes.   \n",
            "4  Abraham_Lincoln                   Did his mother die of pneumonia?     no   \n",
            "\n",
            "  DifficultyFromQuestioner DifficultyFromAnswerer   ArticleFile  \n",
            "0                     easy                   easy  data/set3/a4  \n",
            "1                     easy                   easy  data/set3/a4  \n",
            "2                     easy                 medium  data/set3/a4  \n",
            "3                     easy                   easy  data/set3/a4  \n",
            "4                     easy                 medium  data/set3/a4  \n"
          ]
        }
      ]
    },
    {
      "cell_type": "markdown",
      "source": [
        "#Load the Datasets"
      ],
      "metadata": {
        "id": "4hnFhkW-KKu8"
      }
    },
    {
      "cell_type": "code",
      "source": [
        "# Print the column\n",
        "print(df_combined.columns)"
      ],
      "metadata": {
        "colab": {
          "base_uri": "https://localhost:8080/"
        },
        "id": "WxzhjTUAsPNm",
        "outputId": "8bc31268-9f76-4bd5-d64a-3202f2a41d57"
      },
      "execution_count": 134,
      "outputs": [
        {
          "output_type": "stream",
          "name": "stdout",
          "text": [
            "Index(['ArticleTitle', 'Question', 'Answer', 'DifficultyFromQuestioner',\n",
            "       'DifficultyFromAnswerer', 'ArticleFile'],\n",
            "      dtype='object')\n"
          ]
        }
      ]
    },
    {
      "cell_type": "code",
      "source": [
        "# Load the Conversations"
      ],
      "metadata": {
        "id": "DC5jvGrwseLn"
      },
      "execution_count": 135,
      "outputs": []
    },
    {
      "cell_type": "code",
      "source": [
        "def load_data(df_combined):\n",
        "  conversations = []\n",
        "\n",
        "\n",
        "  # Iterate through each row and combine 'Question' and 'Answer' to form a conversation\n",
        "\n",
        "  for index, row in df_combined.iterrows():\n",
        "    conversation = row['Question'] + \"\" + row['Answer'] # Combine Question and Answer\n",
        "    conversations.append(conversation)\n",
        "\n",
        "  return conversations"
      ],
      "metadata": {
        "id": "TSJ0XaovGaik"
      },
      "execution_count": 136,
      "outputs": []
    },
    {
      "cell_type": "markdown",
      "source": [
        "#(Step2): Data Cleaning and Preprocessing"
      ],
      "metadata": {
        "id": "nrWbzNMEJUXQ"
      }
    },
    {
      "cell_type": "code",
      "source": [
        "# Data Cleaning\n",
        "\n",
        "# Download stopwords if not already download\n",
        "nltk.download('stopwords')\n",
        "\n",
        "# Define the stop words\n",
        "stop_words = set(stopwords.words('english'))\n",
        "\n",
        "# Define clean text\n",
        "def clean_text(text):\n",
        "  \"\"\"\n",
        "  Clean the input list of words by:\n",
        "  1. lowercase each word\n",
        "  2. Removing non-alphabetic characters\n",
        "  3. Removing stop words.\n",
        "  \"\"\"\n",
        "\n",
        "  # Ensure the text is a string\n",
        "  if not isinstance(text, list):\n",
        "    return [] # Return empty list if not a list\n",
        "\n",
        "  # Clean the test lower case, remove noise and unnecessary space\n",
        "  cleaned_words = []\n",
        "  for word in text:\n",
        "    cleaned_word = word.lower()\n",
        "    cleaned_word = re.sub(r\"[^a-zA-Z]\", \"\", cleaned_word)\n",
        "    if cleaned_word and cleaned_word not in stop_words:\n",
        "      cleaned_words.append(cleaned_word)   #text = re.sub(r\"\\s+\", \" \", text).strip()\n",
        "\n",
        "  return cleaned_words\n",
        "\n",
        "# Drop rows with missing values\n",
        "df_combined.dropna(subset=['Question', 'Answer'], inplace=True)\n",
        "\n",
        "# Define the Preprocessing\n",
        "def preprocess_data(conversations):\n",
        "  \"\"\"This function takes a list of conversations (Questions and Answers),\n",
        "  process them to remove unwanted Characters.\n",
        "  \"\"\"\n",
        "  inputs, targets = [], []\n",
        "  for i in range (len(conversations) - 1):\n",
        "\n",
        "    # Claen the question and append it as input, answer as target\n",
        "    question = conversations[i] if isinstance(conversations[i], str) else \" \" # Question\n",
        "    answer = conversations[i + 1] if isinstance(conversations[i + 1], str) else \" \" # Answers\n",
        "\n",
        "    # Clean the question and append it\n",
        "    clean_input = clean_text(question.split())\n",
        "    inputs.append(clean_input)\n",
        "\n",
        "    # Clean the answer and append with <start> and <End>\n",
        "    clean_target = \"<start>\" + \" \".join(clean_text(answer.split())) + \"<end>\"\n",
        "    targets.append(clean_target)\n",
        "\n",
        "  return inputs, targets\n",
        "\n",
        "# Example usage for Demo\n",
        "conversations = ['How are you?', 'I am good, thank you!']\n",
        "inputs, targets = preprocess_data(conversations)\n",
        "\n",
        "print(inputs)\n",
        "print(targets)\n",
        "\n",
        "df_combined['Question'] = df_combined['Question'].apply(preprocess_text)\n",
        "df_combined['Answer'] = df_combined['Answer'].apply(preprocess_text)"
      ],
      "metadata": {
        "id": "wPpwZfqIJNVR",
        "colab": {
          "base_uri": "https://localhost:8080/"
        },
        "outputId": "75eee379-3976-4855-fdba-4c80c0f63615"
      },
      "execution_count": 137,
      "outputs": [
        {
          "output_type": "stream",
          "name": "stdout",
          "text": [
            "[[]]\n",
            "['<start>good thank<end>']\n"
          ]
        },
        {
          "output_type": "stream",
          "name": "stderr",
          "text": [
            "[nltk_data] Downloading package stopwords to /root/nltk_data...\n",
            "[nltk_data]   Package stopwords is already up-to-date!\n"
          ]
        }
      ]
    },
    {
      "cell_type": "code",
      "source": [
        "# Define questions and answers\n",
        "\n",
        "questions = df_combined['Question'].values\n",
        "answers = df_combined['Answer'].values"
      ],
      "metadata": {
        "id": "un2Busru_a3_"
      },
      "execution_count": 138,
      "outputs": []
    },
    {
      "cell_type": "markdown",
      "source": [
        "#(Step 3):Tokenizer, Sequence and Padding"
      ],
      "metadata": {
        "id": "-9Bj9vpDXD0G"
      }
    },
    {
      "cell_type": "code",
      "source": [
        "# Create tokenizers for questions and answers\n",
        "# Print first five questions and answer\n",
        "print(type(questions))\n",
        "print(questions[:5])\n",
        "print(answers[:5])\n"
      ],
      "metadata": {
        "colab": {
          "base_uri": "https://localhost:8080/"
        },
        "id": "y67XcS3UHmFD",
        "outputId": "8b0601b3-66fe-48c3-b42c-644f5c6fd1f1"
      },
      "execution_count": 141,
      "outputs": [
        {
          "output_type": "stream",
          "name": "stdout",
          "text": [
            "<class 'numpy.ndarray'>\n",
            "['was abraham lincoln the sixteenth president of the united states'\n",
            " 'was abraham lincoln the sixteenth president of the united states'\n",
            " 'did lincoln sign the national banking act of'\n",
            " 'did lincoln sign the national banking act of'\n",
            " 'did his mother die of pneumonia']\n",
            "['yes' 'yes' 'yes' 'yes' 'no']\n"
          ]
        }
      ]
    },
    {
      "cell_type": "markdown",
      "source": [
        "#Trained Questions and Answers"
      ],
      "metadata": {
        "id": "qG5o56i_MxQE"
      }
    },
    {
      "cell_type": "code",
      "source": [
        "# Trained Questions\n",
        "questions = df_combined['Question'].fillna('').tolist() # Fill missing values and convert to list\n",
        "questions = [str(q) for q in questions] # convert all element to strings\n",
        "tokenizer_q = tf.keras.preprocessing.text.Tokenizer(filters='')  # Tokenizer for Questions\n",
        "tokenizer_q.fit_on_texts(questions)\n",
        "\n",
        "# Trained Answers\n",
        "answers = df_combined['Answer'].fillna('').tolist()  # Fill missing values and convert to list\n",
        "answers = [str (a) for a in answers] # convert all elements to strings\n",
        "tokenizer_a = tf.keras.preprocessing.text.Tokenizer(filters='') # Tokenizer for Answers\n",
        "tokenizer_a.fit_on_texts(answers)"
      ],
      "metadata": {
        "id": "iOShEo9ZHz9B"
      },
      "execution_count": 142,
      "outputs": []
    },
    {
      "cell_type": "markdown",
      "source": [
        "#Split the data into Training, Validation and Test Sets"
      ],
      "metadata": {
        "id": "ro7Cyin-v40r"
      }
    },
    {
      "cell_type": "code",
      "source": [
        "# Split the datasets into training, validation and test sets\n",
        "x_train, x_test, y_train, y_test = train_test_split(questions, answers, test_size=0.2, random_state=42)\n",
        "x_train, x_val, y_train, y_val = train_test_split(x_train, y_train, test_size=0.2, random_state=42)\n",
        "\n",
        "# Define tokenizer for input and output sequences, which represent our questions/x_train and answers/y_train\n",
        "tokenizer = Tokenizer()\n",
        "\n",
        "# Vocabulary size\n",
        "vocab_size = len(tokenizer.word_index) + 1\n",
        "\n",
        "# Set the limit tokenize word\n",
        "tokenizer_input = Tokenizer(num_words=5000, oov_token=\"<OOV>\")\n",
        "tokenizer_ouput = Tokenizer(num_words=5000, oov_token=\"<OOV>\")\n",
        "\n",
        "# Fit the tokenizer on the training and validation data\n",
        "tokenizer.fit_on_texts(questions) # fit the tokenizer on questions and answers\n",
        "tokenizer.fit_on_texts(answers) #fit the tokinizer on validation data\n",
        "tokenizer.fit_on_texts(y_val)\n",
        "\n",
        "# To print out the length of Input and Output sequence\n",
        "max_input_len = df_combined['Question'].apply(lambda x: len(x.split())).max()\n",
        "max_output_len = df_combined['Answer'].apply(lambda x: len(x.split())).max()\n",
        "\n",
        "# Convert input(questions) and output(answers) to sequences and Pad both input_seq & output_seq\n",
        "input_seq = tokenizer_q.texts_to_sequences(questions) # x_train\n",
        "output_seq = tokenizer_a.texts_to_sequences(answers)  # y_train\n",
        "\n",
        "# Pad the input and output sequences.\n",
        "input_seq_padded = pad_sequences(input_seq, maxlen=537, padding='post', truncating='post')\n",
        "output_seq_padded = pad_sequences(output_seq, maxlen=537, padding='post', truncating='post')\n",
        "\n",
        "max_input_len = min(max([len(seq) for seq in input_seq]), max([len(seq) for seq in output_seq]))\n",
        "max_output_len = max_input_len # Make input seq/x_train and output seq/y_train sequel length equal\n",
        "\n",
        "# Prepare target output with shifted sequence for decoder input\n",
        "output_seq_decoder = output_seq_padded[:, :154]\n",
        "output_seq_decoder = np.zeros_like(output_seq_padded)\n",
        "output_seq_decoder[:, 1:] = output_seq_padded[:, :-1]\n",
        "\n",
        "# Convert test y val labels into sequence of numbers\n",
        "y_val_seq = tokenizer.texts_to_sequences(y_val)\n",
        "max_output_len = max([len(seq) for seq in y_val_seq])\n",
        "\n",
        "# Pad the y Val set to ensure uniformity\n",
        "y_val_padded = pad_sequences(y_val_seq, maxlen=max_output_len, padding='post', truncating='post') # Add padding\n",
        "\n",
        "print(f\"Max input sequence length: {max_input_len}\")\n",
        "print(f\"Max output sequence length: {max_output_len}\")\n",
        "print(f\"Input sequennce shape(x_train/questions): {input_seq}\")\n",
        "print(f\"Output sequence shape(y_train/answers): {output_seq}\")\n",
        "print(f\"Input Sequence shape after padded: {input_seq_padded}\")\n"
      ],
      "metadata": {
        "id": "BZ1C8tmLPnKa",
        "colab": {
          "base_uri": "https://localhost:8080/"
        },
        "outputId": "e0d2f5fa-3945-4539-9ce5-53536e86fa76"
      },
      "execution_count": 146,
      "outputs": [
        {
          "output_type": "stream",
          "name": "stdout",
          "text": [
            "Max input sequence length: 43\n",
            "Max output sequence length: 38\n",
            "Input sequennce shape(x_train/questions): [[7, 718, 90, 1, 1426, 57, 2, 1, 108, 113], [7, 718, 90, 1, 1426, 57, 2, 1, 108, 113], [8, 90, 719, 1, 137, 1427, 381, 2], [8, 90, 719, 1, 137, 1427, 381, 2], [8, 29, 238, 105, 2, 1428], [8, 29, 238, 105, 2, 1428], [11, 19, 62, 7, 834, 720, 382], [11, 19, 62, 7, 834, 720, 382], [17, 8, 90, 383, 29, 259, 721], [17, 8, 90, 383, 29, 259, 721], [4, 8, 1, 616, 1429, 381, 2, 835], [4, 8, 1, 616, 1429, 381, 2, 835], [20, 1430, 90, 836, 6, 1431], [20, 1430, 90, 836, 6, 1431], [17, 8, 1, 1432, 1433, 837, 31, 224, 7, 38], [17, 8, 1, 1432, 1433, 837, 31, 224, 7, 38], [8, 90, 1434, 109, 472, 1435, 5, 1, 428], [8, 90, 1434, 109, 472, 1435, 5, 1, 428], [7, 718, 90, 1, 36, 57, 2, 1, 108, 113], [7, 718, 90, 1, 36, 57, 2, 1, 108, 113], [8, 90, 838, 29, 259, 721, 5], [8, 90, 838, 29, 259, 721, 5], [8, 90, 296, 839, 1436, 1437, 1438], [8, 90, 296, 839, 1436, 1437, 1438], [37, 473, 7, 90, 38, 5], [37, 473, 7, 90, 38, 5], [17, 8, 90, 36, 429, 22, 57], [17, 8, 90, 36, 429, 22, 57], [20, 1439, 90], [20, 1439, 90], [8, 90, 187, 1, 428, 2], [8, 90, 187, 1, 428, 2], [20, 7, 1, 384, 5, 474, 34, 1, 430, 2, 1440], [20, 7, 1, 384, 5, 474, 34, 1, 430, 2, 1440], [32, 8, 90, 532, 1, 1441, 1442], [32, 8, 90, 532, 1, 1441, 1442], [12, 2645, 1108, 90, 431, 1, 1443, 297, 533], [8, 90, 15, 1444, 2, 2646], [7, 90, 722, 22, 6, 432, 1445, 5], [11, 91, 7, 90, 5], [17, 7, 1, 36, 2647, 2, 90, 2648], [11, 62, 7, 834, 616, 721], [4, 2649, 8, 90, 64, 6, 1446, 2650, 5], [8, 718, 90, 61, 5, 1, 1447], [8, 834, 2651, 55, 298, 1109], [20, 3, 33, 534, 16, 29, 1110, 10, 1, 299, 2, 1448, 13, 840, 475], [20, 1449, 5, 1450, 181, 34, 1, 476, 280, 2, 13, 723, 10, 841], [20, 1449, 5, 1450, 181, 34, 1, 476, 280, 2, 13, 723, 10, 841], [17, 8, 27, 385, 386, 2652], [17, 8, 27, 158, 6, 182], [3, 30, 98, 31, 27, 260, 6, 182, 5], [7, 1451, 2653, 225, 2654, 65, 21, 433, 2655], [7, 225, 65, 38, 5, 387, 724, 10, 6, 2656, 477, 55, 2, 2657, 2658], [3, 27, 33, 534, 16, 29, 1110, 10, 1, 299, 2, 1448, 13, 840, 475], [7, 617, 725, 1111, 1112, 35, 10, 726, 1113, 10, 65], [3, 65, 159, 99, 842, 46, 10, 843, 1, 618, 2, 434, 844], [8, 1, 727, 535, 76, 1114, 845, 2659, 10, 29, 299], [7, 617, 725, 1111, 1112, 35, 10, 726, 1113, 10, 65], [44, 1, 1452, 2, 300, 328, 388, 48, 1453, 1454, 92, 93], [4, 110, 5], [4, 110, 5], [20, 728, 1, 1455, 2, 1, 389, 2, 94, 25, 1456, 729], [4, 3, 86, 75, 301], [17, 8, 27, 385, 6, 536], [3, 30, 98, 31, 27, 435, 6, 536, 5], [3, 30, 98, 31, 1115, 188, 16, 1, 1116, 329], [7, 160, 38, 5, 846, 5, 1117], [7, 390, 160, 847, 848, 6, 352, 1457], [3, 1, 160, 478, 24, 1, 537, 86, 75, 301], [20, 7, 1, 36, 10, 1458, 13, 385, 1459, 730, 1460, 34, 1, 731, 2, 21, 353, 436, 619, 24, 727, 1461], [1, 160, 478, 24, 1, 537, 3, 4], [3, 1, 160, 478, 24, 1, 537, 86, 75, 301], [188, 29, 1115, 16, 1, 1116, 329, 2, 94, 13, 16, 1, 389, 329], [7, 160, 38, 5, 846, 5, 1117], [3, 1, 160, 478, 24, 1, 537, 86, 75, 301], [8, 27, 76, 1118, 1, 1455, 2, 1, 389, 2, 94, 25, 1456, 729, 239, 5, 1462, 2660, 25, 131, 2661, 210], [4, 110, 23, 10], [4, 110, 5], [9, 123, 1463], [9, 123, 1463], [44, 123, 48, 261, 5, 80, 538], [44, 123, 48, 261, 5, 80, 538], [12, 123, 1119, 1464, 849, 22, 539, 2, 1465], [12, 123, 1119, 1464, 849, 22, 539, 2, 1465], [4, 9, 1, 297, 1120, 2, 6, 540], [4, 9, 1, 297, 1120, 2, 6, 540], [37, 850, 851, 620, 1466, 59, 354, 10, 1467, 852, 1468], [37, 850, 851, 620, 1466, 59, 354, 10, 1467, 852, 1468], [37, 199, 2, 540, 3, 6, 1469, 2, 1470, 541], [37, 199, 2, 540, 3, 6, 1469, 2, 1470, 541], [11, 44, 540, 853, 48, 1471, 23, 129, 1121, 853], [11, 44, 540, 853, 48, 1471, 23, 129, 1121, 853], [4, 12, 123, 161], [4, 12, 123, 161], [4, 9, 1, 1472, 167, 123, 13, 1473], [4, 9, 1, 1472, 167, 123, 13, 1473], [9, 854, 47, 2, 123, 262, 1474], [9, 854, 47, 2, 123, 262, 1474], [3, 6, 123, 384, 1475, 1476], [3, 6, 123, 384, 1475, 1476], [9, 123, 1122], [9, 123, 1122], [11, 19, 47, 2, 123, 9, 35], [11, 19, 47, 2, 123, 9, 35], [17, 9, 1477, 1123, 1478, 10, 1, 168], [17, 9, 1477, 1123, 1478, 10, 1, 168], [4, 3, 1, 138, 2, 123, 40], [4, 3, 1, 138, 2, 123, 40], [3, 30, 391, 31, 35, 9, 100, 41, 47, 2, 123], [3, 30, 391, 31, 35, 9, 100, 41, 47, 2, 123], [3, 1, 1479, 355, 211, 41, 1, 1480, 355], [3, 1, 1479, 355, 211, 41, 1, 1480, 355], [12, 1481, 123, 161, 1482], [12, 1481, 123, 161, 1482], [4, 9, 732, 2, 2662, 240, 1124, 281, 13, 1125], [4, 7, 855, 28, 1126, 16, 1, 1483, 2663, 153, 2664], [20, 59, 4, 2665, 1484, 5, 241, 1127, 1, 2666], [9, 19, 123, 2667], [9, 123, 1122, 25, 1128, 2668], [2669, 3, 4], [3, 35, 6, 2670, 856, 5, 1, 536, 2, 540, 2671, 16, 2672, 13, 2673, 2674], [15, 1485, 621, 2675, 10, 2676, 1, 138, 2, 123], [3, 1, 138, 2, 123, 40, 2677, 13, 81, 2678, 9, 1485], [392, 6, 857, 168, 356, 23, 393, 2679, 10, 393, 2680, 189, 106, 2681, 1129], [44, 123, 48, 261, 5, 437, 82, 2682], [4, 110, 24, 541, 13, 2683], [7, 282, 74, 1, 1486, 542, 57], [7, 282, 74, 1, 1486, 542, 57], [7, 282, 74, 38, 5, 1487, 1488, 473, 1489], [7, 282, 74, 38, 5, 1487, 1488, 473, 1489], [8, 74, 543, 23, 242, 200, 1490], [8, 74, 543, 23, 242, 200, 1490], [17, 8, 27, 1491, 109, 23, 29, 58], [17, 8, 27, 1491, 109, 23, 29, 58], [17, 8, 74, 544, 13, 263, 733, 622, 858], [17, 8, 74, 544, 13, 263, 733, 622, 858], [4, 438, 2, 1492, 439, 1130, 8, 1, 108, 113, 1131, 106, 623, 394], [4, 438, 2, 1492, 439, 1130, 8, 1, 108, 113, 1131, 106, 623, 394], [4, 8, 74, 12, 75, 1493, 23, 859], [4, 8, 74, 12, 75, 1493, 23, 859], [2, 4, 114, 7, 74, 357], [20, 860, 1494, 1495, 1496, 10, 1, 1497, 734], [20, 860, 1494, 1495, 1496, 10, 1, 1497, 734], [7, 74, 1, 861, 57, 2, 1, 108, 113], [7, 74, 1, 861, 57, 2, 1, 108, 113], [7, 282, 74, 358], [7, 282, 74, 358], [7, 282, 74, 6, 357, 2, 624], [7, 282, 74, 6, 357, 2, 624], [17, 7, 74, 38], [17, 7, 74, 38], [18, 8, 623, 1498, 188, 226, 1499], [18, 8, 623, 1498, 188, 226, 1499], [37, 114, 51, 74, 38, 5], [37, 114, 51, 74, 38, 5], [3, 282, 862, 479, 41, 109, 74], [3, 282, 862, 479, 41, 109, 74], [8, 74, 625, 5, 859, 264], [8, 74, 625, 5, 859, 264], [4, 735, 282, 1500, 545], [4, 735, 282, 1500, 545], [7, 109, 282, 74, 862, 7, 38, 5, 1501, 1502], [7, 109, 282, 74, 862, 7, 38, 5, 1501, 1502], [7, 74, 1132, 5, 1, 358, 1503, 16, 357, 2, 624, 5], [7, 74, 1132, 5, 1, 358, 1503, 16, 357, 2, 624, 5], [8, 74, 544, 13, 263, 733, 622, 858], [8, 74, 544, 13, 263, 733, 622, 858], [4, 115, 8, 74, 626, 29, 546, 181, 863], [4, 115, 8, 74, 626, 29, 546, 181, 863], [4, 864, 7, 74, 6, 83, 2], [4, 864, 7, 74, 6, 83, 2], [5, 74, 1504, 13, 359, 440], [5, 74, 1504, 13, 359, 440], [32, 8, 74, 76, 395, 181, 360], [32, 8, 74, 76, 395, 181, 360], [15, 35, 49, 129, 201, 533, 31, 15, 865, 1133], [15, 35, 49, 129, 201, 533, 31, 15, 865, 1133], [4, 67, 51, 623, 77, 1134, 38, 5], [4, 67, 51, 623, 77, 1134, 38, 5], [8, 330, 1505, 627, 82, 2, 81, 441, 5, 265, 5], [8, 330, 1505, 627, 82, 2, 81, 441, 5, 265, 5], [3, 95, 6, 83, 2, 1, 1506], [3, 95, 6, 83, 2, 1, 1506], [3, 736, 60, 26, 1507], [3, 736, 60, 26, 1507], [4, 3, 69, 1135, 1508, 26], [4, 3, 69, 1135, 1508, 26], [5, 1509, 10, 2684, 442, 18, 1136, 8, 2685, 66, 2686, 835, 6, 628], [4, 7, 1, 1510, 381, 1511, 40], [4, 7, 1, 1510, 381, 1511, 40], [37, 243, 443, 441, 5, 95], [37, 243, 443, 441, 5, 95], [11, 39, 95, 866, 1512, 1513, 867], [11, 39, 95, 866, 1512, 1513, 867], [4, 480, 2, 1, 70, 868, 331, 93, 59, 154, 34, 629], [4, 480, 2, 1, 70, 868, 331, 93, 59, 154, 34, 629], [3, 95, 1514], [3, 95, 1514], [8, 1515, 869, 187, 1, 430, 2, 1516, 1517, 5], [8, 1515, 869, 187, 1, 430, 2, 1516, 1517, 5], [3, 21, 60, 26, 2, 95, 202], [3, 21, 60, 26, 2, 95, 202], [11, 19, 1137, 13, 737, 14, 95, 15], [11, 19, 1137, 13, 737, 14, 95, 15], [4, 3, 736, 137, 1518, 1519], [4, 3, 736, 137, 1518, 1519], [18, 3, 1, 33, 870, 481, 139, 2, 95], [18, 3, 1, 33, 870, 481, 139, 2, 95], [4, 3, 1, 42, 111, 5, 1, 53], [4, 3, 1, 42, 111, 5, 1, 53], [4, 3, 1, 42, 396, 212, 5, 95], [4, 3, 1, 42, 396, 212, 5, 95], [17, 8, 95, 15, 69, 2, 1, 42, 1520, 738, 5, 1, 53], [17, 8, 95, 15, 69, 2, 1, 42, 1520, 738, 5, 1, 53], [4, 15, 49, 2687, 16, 2688, 28, 2689, 482], [244, 1138, 13, 2690, 723, 2691, 10, 300, 483, 22, 95, 5, 4, 115], [4, 7, 736, 33, 266, 856, 2692, 1], [3, 30, 98, 31, 30, 2693, 19, 1139, 2, 1, 2694, 441], [11, 12, 1133, 13, 2695, 2696, 739], [3, 30, 98, 31, 1137, 15, 6, 190, 1521, 2, 2697], [4, 8, 95, 2698, 5], [4, 1522, 5, 2699], [9, 95, 159, 77, 60, 140, 93, 13, 154], [9, 95, 159, 60, 137, 484, 871, 740, 872, 13, 2700, 873], [3, 95, 6, 2701, 1140, 13, 2702, 2703, 111], [8, 1141, 2704, 2705, 76, 169, 361, 547, 548, 25, 1, 1523, 2, 2706], [8, 2707, 76, 64, 1, 71, 95, 10, 444, 10, 76, 245, 31, 1142, 1524, 1, 2708, 362, 630, 10, 2709, 741, 34, 2710], [8, 485, 244, 1143, 76, 2711, 1, 2712], [3, 30, 1, 53, 159, 302, 42, 111, 28, 549, 362], [4, 110, 5], [9, 112, 5, 1, 874, 397, 875, 1144], [9, 112, 5, 1, 874, 397, 875, 1144], [3, 6, 1525, 6, 246], [3, 6, 1525, 6, 246], [12, 82, 112, 876], [12, 82, 112, 876], [4, 3, 1, 58, 2, 6, 1526, 47, 2, 267, 877, 10, 2713, 190, 631], [4, 332, 1527, 1, 33, 1528, 13, 1529], [4, 332, 1527, 1, 33, 1528, 13, 1529], [4, 3, 21, 439, 64, 2, 6, 267], [4, 3, 21, 439, 64, 2, 6, 267], [20, 3, 1530, 267], [20, 3, 1530, 267], [4, 303, 30, 100, 878, 16, 6, 879, 267, 10, 880], [4, 303, 30, 100, 878, 16, 6, 879, 267, 10, 880], [4, 9, 1, 2714, 16, 1145, 398, 112], [12, 112, 1531, 486], [12, 112, 1531, 486], [12, 82, 112, 876], [12, 82, 112, 876], [3, 1532, 1533, 183, 72, 23, 112], [3, 1532, 1533, 183, 72, 23, 112], [4, 439, 620, 10, 112, 15], [4, 439, 620, 10, 112, 15], [4, 487, 2, 112, 881, 24, 213], [4, 487, 2, 112, 881, 24, 213], [4, 882, 94, 281, 9, 112, 445, 632, 25], [4, 882, 94, 281, 9, 112, 445, 632, 25], [4, 14, 1, 71, 267, 304], [4, 14, 1, 71, 267, 304], [4, 9, 116, 146, 363, 2, 112], [4, 9, 116, 146, 363, 2, 112], [11, 14, 6, 1534, 742, 162], [11, 14, 6, 1534, 742, 162], [9, 879, 112, 883, 1535, 1536, 112], [9, 879, 112, 883, 1535, 1536, 112], [9, 488, 112, 1537, 1538], [9, 488, 112, 1537, 1538], [9, 112, 21, 1539, 1540, 5, 116, 481, 399], [9, 112, 21, 1539, 1540, 5, 116, 481, 399], [4, 633, 2, 882, 94, 281, 25, 489, 1146, 9, 112, 445, 632, 25], [4, 633, 2, 882, 94, 281, 25, 489, 1146, 9, 112, 445, 632, 25], [32, 9, 1541, 1542, 743], [32, 9, 1541, 1542, 743], [4, 9, 116, 439, 620, 16, 267], [4, 9, 116, 439, 620, 16, 267], [4, 1147, 6, 267, 10, 1543, 94, 550, 2, 1, 884, 2, 163, 1544, 13, 490, 333, 1148], [4, 1147, 6, 267, 10, 1543, 94, 550, 2, 1, 884, 2, 163, 1544, 13, 490, 333, 1148], [4, 885, 3, 139, 2, 6, 1545, 1149, 16, 1546, 1547, 1548], [4, 885, 3, 139, 2, 6, 1545, 1149, 16, 1546, 1547, 1548], [18, 8, 1, 885, 6, 1549, 267, 169, 23], [18, 8, 1, 885, 6, 1549, 267, 169, 23], [3, 147, 551, 28, 1, 1550, 1150], [3, 147, 551, 28, 1, 1550, 1150], [3, 147, 1, 33, 481, 111, 5, 268], [3, 147, 1, 33, 481, 111, 5, 268], [14, 147, 15, 259, 552, 5, 1, 334, 400], [14, 147, 15, 259, 552, 5, 1, 334, 400], [17, 7, 1, 1151, 886, 148], [17, 7, 1, 1151, 886, 148], [4, 634, 39, 147, 1551], [4, 634, 39, 147, 1551], [4, 3, 1, 1552, 2, 147], [4, 3, 1, 1552, 2, 147], [32, 14, 33, 2, 887, 70, 61, 553, 1, 888], [32, 14, 33, 2, 887, 70, 61, 553, 1, 888], [9, 35, 6, 190, 99, 2, 1152, 203, 5, 147, 269], [9, 35, 6, 190, 99, 2, 1152, 203, 5, 147, 269], [106, 4, 438, 7, 1553, 6, 1554], [106, 4, 438, 7, 1553, 6, 1554], [3, 147, 5, 889], [14, 147, 446, 1, 491, 1153, 5, 1, 53], [14, 147, 446, 1, 491, 1153, 5, 1, 53], [14, 887, 744, 1555, 1556, 364, 1557, 1154], [14, 887, 744, 1555, 1556, 364, 1557, 1154], [401, 17, 39, 147, 49, 6, 283], [401, 17, 39, 147, 49, 6, 283], [17, 51, 1, 845, 1558, 13, 1, 1559, 2, 1560, 365], [17, 51, 1, 845, 1558, 13, 1, 1559, 2, 1560, 365], [4, 243, 270, 147], [4, 243, 270, 147], [4, 3, 1, 745, 70, 2, 147], [4, 3, 1, 745, 70, 2, 147], [14, 890, 635, 5, 147], [14, 890, 635, 5, 147], [17, 8, 1561, 891, 305, 5, 1, 888, 892], [17, 8, 1561, 891, 305, 5, 1, 888, 892], [9, 101, 1, 42, 213, 240, 492, 269], [9, 101, 1, 42, 213, 240, 492, 269], [44, 21, 271, 746, 6, 1562], [44, 21, 271, 746, 6, 1562], [9, 101, 747, 893], [9, 101, 747, 893], [11, 19, 203, 47, 2, 272, 101, 9, 35], [11, 19, 203, 47, 2, 272, 101, 9, 35], [11, 62, 392, 101, 61], [11, 62, 392, 101, 61], [32, 14, 1, 748, 101, 894, 1563, 15, 749, 1564, 895], [32, 14, 1, 748, 101, 894, 1563, 15, 749, 1564, 895], [11, 19, 203, 47, 2, 402, 101, 9, 35], [11, 19, 203, 47, 2, 402, 101, 9, 35], [11, 164, 12, 101, 475, 34, 554], [11, 164, 12, 101, 475, 34, 554], [4, 8, 1126, 493, 124, 101], [4, 8, 1126, 493, 124, 101], [9, 271, 750, 5, 636, 268, 555, 284, 13, 1565], [9, 271, 750, 5, 636, 268, 555, 284, 13, 1565], [3, 1, 402, 271, 211, 41, 1, 272], [3, 1, 402, 271, 211, 41, 1, 272], [3, 21, 101, 447, 1566], [3, 21, 101, 447, 1566], [11, 12, 101, 1567, 494, 62, 1155], [11, 12, 101, 1567, 494, 62, 1155], [17, 12, 272, 101, 2715, 751], [11, 62, 3, 1, 101, 1568, 438], [11, 62, 3, 1, 101, 1568, 438], [11, 19, 47, 2, 272, 101, 15, 49, 1569], [11, 19, 47, 2, 272, 101, 15, 49, 1569], [4, 9, 1, 101, 896, 266, 16], [4, 9, 1, 101, 896, 266, 16], [4, 213, 332, 39, 1, 42, 1570], [4, 213, 332, 39, 1, 42, 1570], [9, 101, 1125], [9, 101, 1125], [15, 101, 49, 46, 22, 897, 240], [15, 101, 49, 46, 22, 897, 240], [12, 285, 1571, 1572, 399], [12, 285, 1571, 1572, 399], [4, 3, 1, 53, 70, 2, 402, 101], [4, 3, 1, 53, 70, 2, 402, 101], [4, 139, 2, 21, 271, 3, 448, 266, 16, 436, 1573], [4, 139, 2, 21, 271, 3, 448, 266, 16, 436, 1573], [18, 7, 1, 42, 271, 296, 898, 637], [18, 7, 1, 42, 271, 296, 898, 637], [3, 21, 402, 271, 495, 41, 21, 272, 271], [3, 21, 402, 271, 495, 41, 21, 272, 271], [4, 213, 332, 3, 211, 41, 21, 271], [39, 1574, 158, 6, 899, 1575], [39, 1574, 158, 6, 899, 1575], [51, 1, 1576, 1156, 5, 13, 25, 1, 900], [51, 1, 1576, 1156, 5, 13, 25, 1, 900], [3, 286, 6, 83, 2, 1, 1577, 1578, 2, 1, 1579, 140], [3, 286, 6, 83, 2, 1, 1577, 1578, 2, 1, 1579, 140], [3, 1, 33, 1580, 901, 5, 132, 1581], [3, 1, 33, 1580, 901, 5, 132, 1581], [37, 1157, 449, 384, 1582, 132, 5], [37, 1157, 449, 384, 1582, 132, 5], [4, 3, 1, 170, 556, 16, 496, 5, 132], [4, 3, 1, 170, 556, 16, 496, 5, 132], [5, 4, 115, 51, 1, 1158, 2, 1, 1583, 1584, 403], [5, 4, 115, 51, 1, 1158, 2, 1, 1583, 1584, 403], [4, 366, 2, 94, 1585, 10, 1, 214, 2, 132], [4, 366, 2, 94, 1585, 10, 1, 214, 2, 132], [58, 21, 332, 31, 3, 902, 5, 99, 1586, 10, 1159, 903, 867], [58, 21, 332, 31, 3, 902, 5, 99, 1586, 10, 1159, 903, 867], [269, 9, 35, 100, 1160, 1587, 1588, 41, 102, 5, 132], [269, 9, 35, 100, 1160, 1587, 1588, 41, 102, 5, 132], [3, 1589, 1590, 1, 638, 639, 2, 132], [3, 1589, 1590, 1, 638, 639, 2, 132], [3, 1, 125, 43, 1591], [3, 1, 125, 43, 1591], [14, 30, 15, 6, 270, 25, 1592], [14, 30, 15, 6, 270, 25, 1592], [4, 3, 1, 170, 556, 16, 496], [4, 3, 1, 170, 556, 16, 496], [4, 3, 1, 752, 43, 5, 132], [4, 3, 1, 752, 43, 5, 132], [20, 3, 1, 33, 335, 904, 212, 5, 132], [20, 3, 1, 33, 335, 904, 212, 5, 132], [4, 3, 2716, 450, 153], [18, 3, 132, 133], [18, 3, 132, 133], [4, 3, 1, 905, 153, 5, 873], [4, 3, 1, 905, 153, 5, 873], [14, 1593, 1161, 1, 1162, 2, 880, 1594, 1595], [14, 1593, 1161, 1, 1162, 2, 880, 1594, 1595], [9, 35, 1596, 1597, 82, 753, 132], [9, 35, 1596, 1597, 82, 753, 132], [906, 10, 1598, 1599, 3, 132, 247, 16, 203], [906, 10, 1598, 1599, 3, 132, 247, 16, 203], [17, 8, 1, 36, 1600, 287, 1601, 305], [17, 8, 1, 36, 1600, 287, 1601, 305], [4, 3, 1, 125, 43], [4, 3, 1, 125, 43], [4, 3, 1, 33, 1602, 1163, 1603], [4, 3, 1, 33, 1602, 1163, 1603], [14, 6, 190, 2717, 2, 1, 70, 331, 352, 22, 81, 238, 742], [12, 907, 61, 1604, 41, 496], [12, 907, 61, 1604, 41, 496], [4, 3, 6, 111, 25, 37, 132, 3, 1164, 5, 21, 353, 2718], [7, 78, 6, 83, 2, 1, 248, 2, 640], [7, 78, 6, 83, 2, 1, 248, 2, 640], [16, 11, 62, 7, 78, 6, 83, 2, 1, 248, 2, 640], [16, 11, 62, 7, 78, 6, 83, 2, 1, 248, 2, 640], [7, 641, 78, 6, 83, 2, 908, 909, 1605], [7, 641, 78, 6, 83, 2, 908, 909, 1605], [8, 78, 625, 21, 1606, 40, 1607, 1165], [8, 78, 625, 21, 1606, 40, 1607, 1165], [8, 78, 395, 1, 96, 2, 1166], [8, 78, 395, 1, 96, 2, 1166], [4, 910, 78, 204, 5, 1, 360, 1167, 754], [4, 910, 78, 204, 5, 1, 360, 1167, 754], [4, 8, 78, 493, 124, 29, 1608, 336], [4, 8, 78, 493, 124, 29, 1608, 336], [20, 8, 78, 1609, 16, 542, 57], [20, 8, 78, 1609, 16, 542, 57], [7, 78, 642, 124, 215, 1610], [643], [7, 78, 642, 124, 215, 1610], [188, 911, 557, 359, 184], [188, 911, 557, 359, 184], [3, 78, 558, 25, 1, 2719, 2, 109, 2720, 2721], [7, 641, 78, 1, 57, 2, 1, 108, 113], [7, 641, 78, 1, 57, 2, 1, 108, 113], [8, 641, 78, 429, 22, 1, 358, 912, 559, 2, 1, 248, 2, 640], [8, 641, 78, 429, 22, 1, 358, 912, 559, 2, 1, 248, 2, 640], [7, 78, 21, 644, 913], [7, 78, 21, 644, 913], [4, 755, 7, 78, 216, 23], [4, 755, 7, 78, 216, 23], [11, 19, 644, 1168, 51, 1164, 5, 911, 1611, 1612], [11, 19, 644, 1168, 51, 1164, 5, 911, 1611, 1612], [37, 1613, 1614, 1615, 914, 8, 78, 1616], [37, 1613, 1614, 1615, 914, 8, 78, 1616], [39, 386, 201, 57, 49, 21, 644, 913], [39, 386, 201, 57, 49, 21, 644, 913], [8, 78, 1169, 10, 12, 1617, 162, 10, 726, 16, 264], [8, 78, 1169, 10, 12, 1617, 162, 10, 726, 16, 264], [15, 100, 41, 1618, 533, 915, 1619, 1, 280, 2], [15, 100, 41, 1618, 533, 915, 1619, 1, 280, 2], [11, 12, 2722, 13, 2723, 739], [4, 8, 78, 446, 24, 848], [7, 78, 1170, 23, 1, 2724], [7, 78, 2725, 34, 29, 432, 367, 5, 497, 1620, 1166], [3, 78, 69, 2, 245, 288, 1171, 533, 10, 61, 10, 59, 100, 67, 2, 280], [7, 78, 1, 498, 916, 83, 2, 1, 2726, 2727], [8, 497, 1620, 1172, 76, 2728, 301, 10, 337, 24, 2729, 2730, 2731, 1, 2732, 358, 1165], [8, 285, 76, 2733, 78, 159, 2734, 7, 2735, 2736, 2737, 5, 1621, 16, 2738, 159, 2739], [14, 191, 15, 917, 1, 560, 645, 1173, 2, 1, 1622, 243, 5, 636, 268], [14, 191, 15, 917, 1, 560, 645, 1173, 2, 1, 1622, 243, 5, 636, 268], [3, 93, 646, 60, 26], [3, 93, 646, 60, 26], [8, 1, 647, 756, 1, 1623, 1624], [8, 1, 647, 756, 1, 1623, 1624], [17, 8, 191, 1625, 561, 23, 1, 108, 499], [17, 8, 191, 1625, 561, 23, 1, 108, 499], [11, 19, 538, 3, 191, 306, 92], [11, 19, 538, 3, 191, 306, 92], [20, 3, 1, 273, 2, 114, 2, 191], [20, 3, 1, 273, 2, 114, 2, 191], [4, 3, 1, 562, 338, 5, 191], [4, 3, 1, 562, 338, 5, 191], [4, 9, 1, 77, 1626, 2, 1, 451, 1627, 140], [4, 9, 1, 77, 1626, 2, 1, 451, 1627, 140], [4, 3, 1, 905, 153, 34, 1174, 45], [4, 3, 1, 905, 153, 34, 1174, 45], [3, 191, 5, 889], [3, 191, 5, 889], [3, 93, 1, 60, 26], [3, 93, 1, 60, 26], [3, 646, 273, 2, 114, 109, 1628, 1629], [3, 646, 273, 2, 114, 109, 1628, 1629], [4, 14, 1, 71, 191, 304], [4, 14, 1, 71, 191, 304], [20, 7, 1630, 1631], [20, 7, 1630, 1631], [18, 3, 91, 191, 5, 1175, 10, 918, 191], [18, 3, 91, 191, 5, 1175, 10, 918, 191], [20, 303, 289, 646, 648], [20, 303, 289, 646, 648], [4, 244, 243, 443, 113, 5, 191], [4, 244, 243, 443, 113, 5, 191], [14, 1, 339, 368, 452, 21, 1176, 25, 1, 757, 1632], [14, 1, 339, 368, 452, 21, 1176, 25, 1, 757, 1632], [12, 368, 1177, 1633, 10, 15, 1634, 758, 41, 1178], [12, 368, 1177, 1633, 10, 15, 1634, 758, 41, 1178], [12, 171, 649, 163, 1635], [12, 171, 649, 163, 1635], [4, 919, 2, 1636, 12, 171, 15], [4, 919, 2, 1636, 12, 171, 15], [18, 12, 171, 15, 1637, 1638], [18, 12, 171, 15, 1637, 1638], [11, 164, 12, 171, 404], [11, 164, 12, 171, 404], [32, 12, 171, 1639], [32, 12, 171, 1639], [4, 3, 1640, 1179], [4, 3, 1640, 1179], [9, 339, 171, 451, 10, 369, 224], [9, 339, 171, 451, 10, 369, 224], [3, 1, 339, 368, 6, 307], [3, 1, 339, 368, 6, 307], [9, 6, 1641, 1642, 81, 192, 920], [9, 6, 1641, 1642, 81, 192, 920], [9, 171, 365, 16, 1643], [9, 171, 365, 16, 1643], [18, 3, 1, 42, 339, 368, 70, 1644, 10, 48, 261], [18, 3, 1, 42, 339, 368, 70, 1644, 10, 48, 261], [10, 4, 1180, 14, 1, 339, 368, 453], [10, 4, 1180, 14, 1, 339, 368, 453], [17, 12, 171, 1645], [17, 12, 171, 1645], [32, 3, 30, 1646, 16, 1647, 563, 13, 564, 10, 1648, 1649, 129, 171, 23, 1650], [32, 3, 30, 1646, 16, 1647, 563, 13, 564, 10, 1648, 1649, 129, 171, 23, 1650], [4, 199, 2, 1651, 12, 1652, 64, 10, 1653, 171, 16, 1654], [4, 199, 2, 1651, 12, 1652, 64, 10, 1653, 171, 16, 1654], [1655, 1656, 896, 13, 921, 1657, 1658, 9, 6, 719, 2, 4, 5, 171], [1655, 1656, 896, 13, 921, 1657, 1658, 9, 6, 719, 2, 4, 5, 171], [7, 193, 117, 38, 5, 194, 308], [7, 193, 117, 38, 5, 194, 308], [8, 193, 117, 187, 1, 428], [8, 193, 117, 187, 1, 428], [8, 193, 117, 298, 1659, 1660], [8, 193, 117, 298, 1659, 1660], [18, 7, 193, 117, 359], [18, 7, 193, 117, 359], [4, 8, 117, 105, 23], [4, 8, 117, 105, 23], [11, 19, 67, 75, 117, 565, 863, 8, 1, 201, 187, 1, 1661, 148], [11, 19, 67, 75, 117, 565, 863, 8, 1, 201, 187, 1, 1661, 148], [4, 8, 922, 1181, 493, 5, 10, 1662, 29, 1663, 1182], [4, 8, 922, 1181, 493, 5, 10, 1662, 29, 1663, 1182], [20, 8, 117, 500, 566, 5], [20, 8, 117, 500, 566, 5], [32, 8, 117, 923, 10, 924, 29, 1664, 1665, 23, 1, 309], [32, 8, 117, 923, 10, 924, 29, 1664, 1665, 23, 1, 309], [7, 193, 117, 1, 1666, 57, 2, 1, 108, 113], [7, 193, 117, 1, 1666, 57, 2, 1, 108, 113], [3, 193, 117, 1667], [3, 193, 117, 1667], [7, 193, 117, 359, 5, 1, 1668], [7, 193, 117, 359, 5, 1, 1668], [17, 7, 27, 216, 1183, 2, 1669, 473, 194, 308], [17, 7, 27, 216, 1183, 2, 1669, 473, 194, 308], [17, 8, 27, 105], [17, 8, 27, 105], [37, 428, 8, 193, 117, 187], [20, 51, 193, 922, 1670], [20, 51, 193, 922, 1670], [11, 19, 501, 8, 193, 117, 15], [11, 19, 501, 8, 193, 117, 15], [20, 759, 1184, 2, 29, 370, 10, 1, 2740, 13, 2741, 5], [3, 30, 98, 31, 27, 925, 5, 1671, 1672, 10, 2742], [7, 117, 38, 5, 2743, 194, 2744, 10, 1, 2745, 2746, 117, 13, 2747, 2748], [7, 193, 117, 216, 1183, 2, 2749, 473, 194, 308], [7, 117, 159, 2750, 24, 1, 201, 2751, 23, 10], [3, 27, 249, 5, 1, 2752, 2753, 2, 1, 567, 2754, 250], [8, 1, 650, 2, 1, 926, 76, 474, 31, 1, 1673, 2, 651, 16, 300, 213, 1674, 48, 2755, 10, 1, 309, 2756, 1, 2757, 1185, 10, 1675, 163, 1154, 906, 10, 2758], [8, 1, 754, 2759, 117, 25, 2760, 2761, 239, 2762, 927, 210, 76, 2763, 29, 1676, 565, 2764, 13, 2765, 2, 29, 643, 2766], [27, 260, 741, 760, 5, 1, 650, 2, 928, 13, 929, 5, 4, 115], [4, 930, 68, 10, 761, 1, 2767, 2768, 2, 1677, 2769], [3, 30, 98, 31, 27, 359, 1678, 1679, 1680, 5], [3, 30, 98, 31, 27, 1681, 1, 310, 311, 5, 172], [17, 8, 27, 263, 1678, 1679, 1680], [7, 68, 216, 1682, 1186, 2, 1, 1683, 652, 1187], [7, 68, 38, 5, 568, 92, 6, 55, 37, 1124, 27, 13, 29, 1684, 2770, 931, 288, 2771, 2, 2772], [20, 1188, 1, 310, 311, 5, 172, 16, 2773, 340], [8, 27, 76, 105, 34, 1, 280, 2, 5, 1685, 2774], [8, 69, 2775, 167, 1, 1686, 502, 13, 1, 388, 6, 2776, 2, 2777, 59, 6, 932, 2778, 76, 2779, 25, 6, 2780, 569], [4, 110, 5], [4, 110, 25, 6, 2781, 2782, 5, 77, 2783, 2, 448, 2784, 242, 388], [3, 35, 6, 68, 478, 24, 1, 537, 13, 6, 68, 478, 24, 2785], [9, 1, 1687, 1, 42, 13, 762, 562, 653, 212, 5, 134], [9, 1, 1687, 1, 42, 13, 762, 562, 653, 212, 5, 134], [3, 134, 6, 1688, 25, 6, 432, 454], [3, 134, 6, 1688, 25, 6, 432, 454], [8, 1, 503, 1189, 13, 1689, 933, 106, 1190, 405, 647, 548], [8, 1, 503, 1189, 13, 1689, 933, 106, 1190, 405, 647, 548], [5, 4, 115, 8, 400, 934, 1690, 23, 134], [5, 4, 115, 8, 400, 934, 1690, 23, 134], [17, 8, 763, 158, 1, 562, 338, 5, 935, 13, 936], [17, 8, 763, 158, 1, 562, 338, 5, 935, 13, 936], [14, 134, 15, 1, 764, 1691, 654, 2, 1692], [14, 134, 15, 1, 764, 1691, 654, 2, 1692], [7, 134, 86, 75, 30, 260, 21, 504, 111], [7, 134, 86, 75, 30, 260, 21, 504, 111], [32, 8, 134, 1693, 937, 1191, 25, 1, 482, 283, 2, 274], [32, 8, 134, 1693, 937, 1191, 25, 1, 482, 283, 2, 274], [37, 1192, 1694, 1695, 1696, 10, 134], [37, 1192, 1694, 1695, 1696, 10, 134], [4, 3, 173], [4, 1193, 213, 2786, 25, 2787, 194, 2788, 400, 934, 13, 455], [4, 9, 1, 42, 13, 762, 562, 653, 212], [4, 765, 17, 1, 2789, 499, 621, 938, 1697], [3, 30, 98, 31, 134, 39, 1140, 399, 2, 2790], [3, 134, 6, 283], [9, 484, 5, 134, 555, 1698], [3, 134, 1, 764, 42, 1699, 114], [9, 484, 5, 134, 555, 1698, 13, 2791, 484, 9, 183, 939, 25, 2792, 2793], [3, 2794, 2795, 21, 1700, 2796, 505], [39, 134, 1, 53, 159, 42, 2797, 70], [20, 39, 81, 546, 259, 1194, 13, 357], [3, 30, 1, 53, 159, 42, 1699, 114], [3, 30, 1, 53, 159, 940, 33, 941, 111, 13, 1, 33, 941, 2798, 570], [3, 134, 6, 283], [3, 54, 1701, 1, 1702, 57, 2, 201], [3, 54, 1701, 1, 1702, 57, 2, 201], [4, 3, 1, 36, 71, 24, 1, 655], [4, 3, 1, 36, 71, 24, 1, 655], [4, 3, 1, 36, 99, 24, 1, 655], [4, 3, 1, 36, 99, 24, 1, 655], [17, 8, 571, 394, 1195], [17, 8, 571, 394, 1195], [4, 3, 571, 572, 58], [4, 3, 571, 572, 58], [4, 3, 571, 1703, 58], [4, 3, 571, 1703, 58], [4, 14, 1196, 2, 747, 1704, 1705, 10], [4, 14, 1196, 2, 747, 1704, 1705, 10], [8, 87, 1706, 942, 34, 1, 943, 250, 5, 194, 308], [8, 87, 1706, 942, 34, 1, 943, 250, 5, 194, 308], [4, 3, 87, 766], [4, 3, 87, 766], [7, 54, 87, 57, 2, 1, 108, 113], [7, 54, 87, 57, 2, 1, 108, 113], [8, 54, 87, 395, 1, 264, 2, 1197, 13, 1198], [8, 54, 87, 395, 1, 264, 2, 1197, 13, 1198], [8, 54, 87, 1199, 5, 1, 485, 449], [8, 54, 87, 1199, 5, 1, 485, 449], [18, 7, 54, 87, 38], [18, 7, 54, 87, 38], [18, 7, 54, 87, 637], [18, 7, 54, 87, 637], [20, 8, 54, 87, 263], [20, 8, 54, 87, 263], [4, 8, 54, 87, 12, 184, 312, 216, 357], [4, 8, 54, 87, 12, 184, 312, 216, 357], [5, 37, 67, 51, 109, 87, 216, 22, 57], [5, 37, 67, 51, 109, 87, 216, 22, 57], [20, 7, 109, 87, 506, 1707, 5, 1, 573, 2, 767, 1200, 1, 1201], [20, 7, 109, 87, 506, 1707, 5, 1, 573, 2, 767, 1200, 1, 1201], [17, 7, 54, 87, 860, 10, 1186, 2, 148], [17, 8, 54, 87, 105], [17, 8, 54, 87, 543, 23, 1197, 13, 1198], [17, 7, 54, 87, 216, 57], [37, 2799, 8, 54, 87, 1202, 5], [17, 8, 54, 87, 1203, 1, 87, 766], [20, 8, 54, 87, 61, 25, 5, 194, 308, 43], [4, 8, 54, 571, 656, 76, 406], [4, 7, 1, 2800, 2, 1, 2801, 2, 1, 2802, 1523], [20, 3, 1204, 1205, 1, 2803, 5, 1, 328, 573, 2, 767, 1200, 1, 1201], [4, 2804, 13, 2805, 205, 550, 1708, 25, 1, 2806, 2807], [3, 30, 98, 31, 27, 2808, 181, 5, 2809], [4, 8, 54, 87, 341, 5], [7, 87, 2810], [7, 87, 860, 639, 10, 330, 23, 10], [4, 1195, 24, 768], [188, 87, 1709, 289, 19, 1710, 106, 29, 67, 2, 309, 170], [20, 2811, 2812, 13, 2813, 2814], [188, 87, 1709, 289, 19, 1710, 106, 29, 67, 2, 309, 170], [4, 110, 5], [4, 110, 5, 1, 428, 2], [20, 205, 5, 2815, 5], [20, 205, 5], [3, 149, 2816, 28, 2817, 5, 2818, 769, 1711, 13, 2819, 1206, 1712], [7, 149, 6, 1207, 1484, 1713, 28, 129, 1714, 496, 2, 1, 1208, 574], [7, 149, 6, 2820, 2, 1, 442, 770, 2, 1712, 13, 1, 442, 770, 2, 657], [288, 67, 75, 2821, 29, 2822, 149, 723, 4], [7, 149, 771, 5, 407, 1209, 2823, 159, 2824, 2, 1, 33, 1210, 1715, 5, 1211], [8, 109, 88, 839, 1, 485, 772, 5, 265], [8, 109, 88, 839, 1, 485, 772, 5, 265], [7, 88, 658, 1716], [7, 88, 658, 1716], [7, 88, 21, 1212, 2, 1, 944, 381], [7, 88, 21, 1212, 2, 1, 944, 381], [17, 8, 88, 543, 23, 264], [17, 8, 88, 543, 23, 264], [20, 7, 24, 1, 945, 25, 88, 10, 1717, 6, 1718, 2, 561], [20, 7, 24, 1, 945, 25, 88, 10, 1717, 6, 1718, 2, 561], [4, 8, 946, 773, 109, 88], [4, 8, 946, 773, 109, 88], [4, 7, 88, 259, 370], [4, 7, 88, 259, 370], [7, 88, 1, 36, 10, 1203, 6, 1719, 1194], [7, 88, 1, 36, 10, 1203, 6, 1719, 1194], [8, 109, 88, 625, 364, 25, 1720, 1213], [8, 109, 88, 625, 364, 25, 1720, 1213], [8, 109, 88, 774, 10, 947], [8, 109, 88, 774, 10, 947], [8, 109, 88, 298, 1, 944, 381, 2], [8, 109, 88, 298, 1, 944, 381, 2], [3, 88, 948, 139, 2, 6, 137, 313], [3, 88, 948, 139, 2, 6, 137, 313], [17, 8, 109, 88, 429, 22, 542, 57], [17, 8, 109, 88, 429, 22, 542, 57], [25, 4, 370, 8, 88, 500, 16, 394], [25, 4, 370, 8, 88, 500, 16, 394], [18, 3, 88, 249], [18, 3, 88, 249], [20, 51, 1, 1214, 1721], [20, 51, 1, 1214, 1721], [5, 4, 1722, 7, 88, 1132, 28, 2825, 1213], [4, 1723, 8, 27, 408, 5, 29, 1724], [4, 1723, 8, 27, 408, 5, 29, 1724], [20, 7, 2826, 16, 2827, 5, 1, 574, 2, 28, 1215, 946], [20, 2828, 1, 485, 772, 5, 265], [4, 3, 659, 139, 2, 88, 137, 1216, 313], [3, 30, 98, 31, 88, 188, 1725, 116, 227, 22, 1, 2829], [3, 30, 98, 31, 624, 925, 301, 5], [20, 8, 624, 2830, 5], [9, 29, 498, 174, 183, 2831, 22, 1215, 946, 2832], [1, 109, 88, 1726, 2833, 34, 1, 2834, 309, 1726, 2835, 4], [88, 1181, 51, 4], [8, 1, 428, 2, 76, 158, 6, 2836, 13, 2837, 430, 25, 575, 884, 2838, 2839, 2840, 2, 1, 129, 370, 13, 81, 2841], [4, 110, 5], [3, 6, 217, 6, 1727], [3, 6, 217, 6, 1727], [3, 6, 217, 24, 1, 576, 1728, 2, 577], [3, 6, 217, 24, 1, 576, 1728, 2, 577], [7, 54, 1729, 1, 36, 10, 408, 1, 58, 1730], [7, 54, 1729, 1, 36, 10, 408, 1, 58, 1730], [4, 3, 6, 775, 660, 16, 141], [4, 3, 6, 775, 660, 16, 141], [18, 12, 1731, 1128, 1732, 776], [18, 12, 1731, 1128, 1732, 776], [4, 12, 141, 64, 16, 1733], [4, 12, 141, 64, 16, 1733], [32, 12, 141, 15, 6, 578, 1734], [32, 12, 141, 15, 6, 578, 1734], [4, 3, 1735, 16, 1736, 1, 1737, 1738, 2, 1739, 92, 1740], [4, 3, 1735, 16, 1736, 1, 1737, 1738, 2, 1739, 92, 1740], [9, 398, 141, 637, 16, 1741], [9, 398, 141, 637, 16, 1741], [15, 141, 1742, 218, 401, 244, 628], [15, 141, 1742, 218, 401, 244, 628], [12, 141, 15, 19, 777, 363], [12, 141, 15, 19, 777, 363], [4, 3, 1, 314, 170, 556, 2, 6, 217], [4, 3, 1, 314, 170, 556, 2, 6, 217], [17, 8, 1, 36, 60, 949, 2, 217, 1217, 337, 409], [17, 8, 1, 36, 60, 949, 2, 217, 1217, 337, 409], [4, 9, 1743, 31, 579, 1744, 950, 183, 1745, 25], [4, 9, 1743, 31, 579, 1744, 950, 183, 1745, 25], [12, 141, 161, 541], [12, 141, 161, 541], [4, 9, 116, 580, 363, 2, 1, 217], [4, 9, 116, 580, 363, 2, 1, 217], [3, 6, 217, 6, 1218], [3, 1, 217, 21, 2842], [9, 141, 2843], [4, 951, 2, 2844, 12, 141, 64], [4, 3, 1, 314, 170, 556, 2, 6, 217], [4, 3, 6, 775, 660, 16, 6, 217], [4, 3, 6, 2845], [4, 3, 46, 10, 2846, 6, 2847, 23, 6, 217], [4, 951, 3, 46, 28, 141, 10, 456], [20, 2848, 6, 2849, 581, 4, 1, 778, 51, 40], [4, 9, 288, 47, 31, 9, 842, 661, 10, 22, 141], [9, 141, 13, 2850, 2851, 893], [9, 141, 2852, 10, 315, 2853], [20, 175, 275, 31, 662, 41, 297, 1219, 2, 141, 2854, 10, 1, 2855, 2856, 1217], [316, 47, 2, 141, 161, 4], [15, 141, 2857, 28, 2858, 59, 2859, 28, 1220, 2860, 49, 89, 10, 2861, 5, 2862, 2, 2863], [3, 6, 2864, 25, 6, 1746, 2865, 2, 1179, 6, 217], [7, 1, 2866, 2, 2867, 2868, 204, 582, 6, 2869, 72, 23, 217, 28, 1, 2870, 102], [15, 141, 190, 2871, 2872, 779, 190, 1221, 877, 16, 2873, 6, 62, 1222, 780, 16, 2874, 13, 6, 284, 273], [3, 6, 217, 6, 1218, 23, 1, 55, 2875, 239, 2876, 895, 190, 1747, 210], [4, 919, 2, 507, 15, 211, 141, 877, 164, 952, 10], [15, 211, 141, 877, 164, 952, 10, 507], [3, 1, 118, 495, 41, 1, 129, 1748, 2, 953], [3, 1, 118, 495, 41, 1, 129, 1748, 2, 953], [3, 6, 118, 211, 13, 662, 1749, 41, 6, 1750], [3, 6, 118, 211, 13, 662, 1749, 41, 6, 1750], [9, 190, 1751, 852, 732, 16, 228], [9, 190, 1751, 852, 732, 16, 228], [4, 392, 6, 118, 48, 1752, 16], [4, 392, 6, 118, 48, 1752, 16], [4, 3, 6, 1753, 332, 1754, 23, 6, 508, 167, 6, 118, 13, 6, 1755], [4, 3, 6, 1753, 332, 1754, 23, 6, 508, 167, 6, 118, 13, 6, 1755], [18, 12, 228, 183, 924, 163, 1756], [18, 12, 228, 183, 924, 163, 1756], [11, 8, 476, 1757, 1758, 167, 228, 13, 954], [11, 8, 476, 1757, 1758, 167, 228, 13, 954], [4, 9, 1759, 228, 89, 22, 1760], [4, 9, 1759, 228, 89, 22, 1760], [4, 354, 9, 6, 228, 242, 1761, 5, 400, 268], [4, 354, 9, 6, 228, 242, 1761, 5, 400, 268], [3, 1, 118, 21, 91, 53, 307], [3, 1, 118, 21, 91, 53, 307], [3, 1, 118, 21, 91, 53, 307], [3, 1, 118, 2, 1, 1223, 55], [3, 1, 118, 2, 1, 1223, 55], [3, 1, 118, 69, 2, 1, 288, 1224, 509], [3, 1, 118, 69, 2, 1, 288, 1224, 509], [18, 3, 1, 118, 1762], [18, 3, 1, 118, 1762], [11, 62, 3, 6, 228, 780], [11, 62, 3, 6, 228, 780], [11, 164, 14, 6, 118, 404], [11, 164, 14, 6, 118, 404], [14, 6, 246, 118, 404, 100, 41, 6, 168, 118], [14, 6, 246, 118, 404, 100, 41, 6, 168, 118], [4, 3, 1, 955, 167, 228, 13, 1763], [4, 3, 1, 955, 167, 228, 13, 1763], [11, 14, 1, 956, 957, 2, 1, 118, 958, 10, 1, 956, 2, 129, 398, 509], [11, 14, 1, 956, 957, 2, 1, 118, 958, 10, 1, 956, 2, 129, 398, 509], [4, 2877, 31, 2, 1, 2878, 457, 5, 1, 2879], [4, 7, 69, 2, 1, 19, 47, 1764, 5, 2880, 162, 2881, 2882], [4, 1225, 2, 509, 9, 959], [9, 228, 2883], [3, 1, 118, 959], [4, 2884, 5, 2885], [2886, 1765, 7, 4], [39, 1, 194, 2887, 2888, 510, 2889, 1, 2890, 228, 13, 2891, 1, 2892, 228], [51, 1, 118, 496, 6, 636, 272, 2893, 770, 20, 2894, 2895], [7, 1, 118, 1766, 6, 202, 2896, 1766, 37, 2897, 1226, 5], [3, 1, 242, 458, 2898, 13, 735, 28, 245, 69, 2899, 2900, 2901], [3, 1, 118, 239, 953, 1765, 210, 21, 91, 53, 307, 2, 1, 1223, 55, 13, 1, 219, 2, 1, 288, 1224, 509, 2, 1, 1180, 953, 364, 25, 1, 410, 1227, 13, 2902], [44, 6, 2903, 48, 315, 2, 393, 47, 2, 190, 2904], [3, 1, 118, 21, 960, 13, 2905, 2906], [3, 126, 551, 28, 1228], [3, 126, 551, 28, 1228], [3, 126, 1, 219, 961, 111, 5, 1, 53], [3, 126, 1, 219, 961, 111, 5, 1, 53], [7, 126, 139, 2, 1, 477, 781, 782, 2, 1767], [7, 126, 139, 2, 1, 477, 781, 782, 2, 1767], [17, 7, 1, 36, 1229, 663], [17, 7, 1, 36, 1229, 663], [11, 19, 583, 3, 126, 306, 92], [11, 19, 583, 3, 126, 306, 92], [4, 3, 1, 137, 1768, 2, 126], [4, 3, 1, 137, 1768, 2, 126], [39, 2907, 2908, 10, 1769, 1, 2909, 1182, 28, 2910, 353, 2911], [4, 1230, 1770, 1771, 1772], [4, 1230, 1770, 1771, 1772], [4, 480, 2, 962, 70, 3, 1773], [4, 480, 2, 962, 70, 3, 1773], [3, 35, 21, 963, 5, 126], [3, 35, 21, 963, 5, 126], [3, 126, 459, 1231], [3, 126, 459, 1231], [3, 126, 1774, 1775], [3, 126, 1774, 1775], [14, 126, 15, 21, 449], [14, 126, 15, 21, 449], [17, 7, 962, 783, 664, 1776], [17, 7, 962, 783, 664, 1776], [4, 3, 1, 60, 26, 2, 126], [4, 3, 1, 60, 26, 2, 126], [4, 243, 270, 126], [4, 243, 270, 126], [4, 781, 782, 7, 126, 139, 2], [4, 781, 782, 7, 126, 139, 2], [11, 19, 583, 9, 1127, 1777], [11, 19, 583, 9, 1127, 1777], [4, 3, 1, 219, 961, 111, 5, 1, 53], [1, 2912, 13, 2913, 2914, 7, 176, 22, 7, 1, 36, 2915, 2916, 5, 4, 115], [4, 2917, 69, 2, 1, 764, 584, 2918, 2, 203], [14, 1, 114, 734, 548, 24, 1, 2919, 2, 665], [4, 12, 33, 2920, 353, 1230, 13, 42, 2921, 15, 5, 146], [3, 126, 459, 1231], [7, 126, 784, 5, 847], [4, 784, 5, 847], [1, 114, 734, 1232, 4], [1, 1216, 770, 2, 1, 2922, 2, 126, 964, 4], [3, 1, 367, 536, 175, 1, 137, 505, 536, 2, 126], [3, 35, 6, 284, 2923, 34, 2924, 5, 126, 666, 16, 1778, 2925, 2926], [9, 2927, 661, 10, 28, 1, 1233, 2928], [3, 30, 6, 872, 484, 1779, 1780, 30, 3, 1781, 247, 89, 22, 6, 2929, 2930], [3, 30, 6, 872, 484, 1779], [3, 30, 1, 219, 961, 111, 5, 1, 53], [4, 110, 5, 2931, 2932, 1782, 2933, 13, 2934, 2935, 5, 82, 1783, 667, 737, 51, 403, 5, 2936, 361, 129, 100, 2937, 2938, 2939], [8, 1784, 668, 342, 44, 659, 965, 2, 1785], [8, 1784, 668, 342, 44, 659, 965, 2, 1785], [7, 1, 1786, 2, 1787, 1788, 1789, 559, 2, 6, 1185, 1790, 574, 386, 532, 31, 1791, 1792, 106, 1793, 394], [7, 1, 1786, 2, 1787, 1788, 1789, 559, 2, 6, 1185, 1790, 574, 386, 532, 31, 1791, 1792, 106, 1793, 394], [8, 27, 105, 34, 1794, 24, 768, 2, 1, 1795, 2, 6, 1796], [8, 27, 105, 34, 1794, 24, 768, 2, 1, 1795, 2, 6, 1796], [20, 1797, 1798, 216, 10, 1, 1799], [20, 1797, 1798, 216, 10, 1, 1799], [18, 7, 1800, 1801, 472, 1802, 925, 10, 626, 1803, 10, 343, 938], [18, 7, 1800, 1801, 472, 1802, 925, 10, 626, 1803, 10, 343, 938], [4, 3, 1, 1804, 290, 107], [4, 3, 1, 1804, 290, 107], [8, 107, 241, 6, 181, 1805, 184, 59, 75, 27, 176, 1, 1234, 96, 2, 966], [8, 107, 241, 6, 181, 1805, 184, 59, 75, 27, 176, 1, 1234, 96, 2, 966], [8, 107, 500, 16, 57, 6, 302, 227], [8, 107, 500, 16, 57, 6, 302, 227], [11, 62, 75, 1, 545, 2, 29, 36, 557, 8, 107, 263, 2940, 2941], [7, 290, 107, 1, 861, 57, 2, 1, 108, 113], [7, 290, 107, 1, 861, 57, 2, 1, 108, 113], [7, 290, 107, 38, 24, 669], [7, 290, 107, 38, 24, 669], [8, 290, 107, 105, 24, 768], [8, 290, 107, 105, 24, 768], [18, 7, 290, 107, 38], [18, 7, 290, 107, 38], [10, 440, 7, 290, 107, 38, 10], [10, 440, 7, 290, 107, 38, 10], [20, 8, 290, 107, 635, 5, 1235, 25], [20, 8, 290, 107, 635, 5, 1235, 25], [4, 8, 1236, 13, 107, 1806, 967], [4, 8, 1236, 13, 107, 1806, 967], [11, 8, 107, 1807, 10, 1, 394], [11, 8, 107, 1807, 10, 1, 394], [11, 8, 1, 1172, 2, 968, 1808, 969, 124, 107, 5], [11, 8, 1, 1172, 2, 968, 1808, 969, 124, 107, 5], [20, 7, 36, 2942, 10, 6, 2943, 10, 1237, 1, 2944, 938], [27, 176, 1, 1234, 96, 2, 966, 24, 4, 785], [20, 59, 4, 2945, 5, 1235, 25, 2946, 970], [7, 107, 69, 2, 1, 2947, 2, 1, 96, 2, 966], [7, 386, 317, 2948, 2, 107, 10, 2949, 1, 508, 23, 1, 2950, 1109, 2951], [7, 107, 1, 302, 2952, 6, 1238, 27, 2953, 2954, 371, 542, 57, 13, 57], [3, 107, 1, 36, 2, 77, 533, 10, 15, 49, 21, 2955, 1809], [3, 1, 2956, 1150, 2957, 107, 86, 75, 1, 57], [7, 107, 1, 36, 201, 57, 38, 75, 1, 545, 2, 6, 1171, 57], [8, 107, 76, 971, 751, 1, 786, 2958, 31, 27, 188, 2959, 1, 787, 2960, 727, 2961, 10, 2962, 1, 1521], [4, 110, 5, 6, 2963, 2964, 5, 2965, 194, 308], [20, 7, 38, 1810, 34, 1214, 106, 21, 511, 2966, 10, 6, 2967, 55, 5, 1, 1142, 2, 2968, 553, 2969, 5, 1, 2970, 483, 2, 1, 2971, 2972, 5, 788, 1447, 139, 2, 1, 2973, 1239, 5, 1, 1811, 2974], [9, 35, 34, 491, 77, 2975, 1812, 73, 159, 170], [15, 6, 99, 2, 61, 2976, 964, 411, 24, 73, 159, 170, 49, 931, 13, 2977, 972], [12, 155, 50, 15, 62, 1222, 1813], [12, 155, 50, 15, 62, 1222, 1813], [44, 50, 1814, 5, 789, 94], [44, 50, 1814, 5, 789, 94], [14, 1, 127, 177, 790, 214, 268], [14, 1, 127, 177, 790, 214, 268], [11, 19, 47, 2, 177, 9, 35], [11, 19, 47, 2, 177, 9, 35], [4, 12, 200, 50, 161], [4, 12, 200, 50, 161], [11, 164, 12, 155, 50, 404], [11, 164, 12, 155, 50, 404], [11, 12, 155, 50, 1240, 670], [11, 12, 155, 50, 1240, 670], [32, 9, 155, 50, 627, 580], [32, 9, 155, 50, 627, 580], [4, 3, 69, 2, 1, 1815, 2, 1816, 6, 70, 2, 1817, 50, 5, 1, 973], [4, 3, 69, 2, 1, 1815, 2, 1816, 6, 70, 2, 1817, 50, 5, 1, 973], [3, 177, 6, 487, 2, 307], [3, 177, 6, 487, 2, 307], [11, 19, 47, 13, 1818, 14, 177, 15], [11, 19, 47, 13, 1818, 14, 177, 15], [12, 50, 61, 5, 94], [12, 50, 61, 5, 94], [4, 12, 200, 50, 161], [4, 12, 200, 50, 161], [18, 12, 155, 50, 61], [18, 12, 155, 50, 61], [18, 14, 1, 71, 177, 1819, 23], [18, 14, 1, 71, 177, 1819, 23], [14, 177, 195, 554, 59, 356, 1241], [4, 1820, 155, 177, 437, 10, 974], [4, 1820, 155, 177, 437, 10, 974], [32, 50, 9, 262, 22, 1821, 240], [12, 155, 50, 61, 364, 1, 975, 1242], [12, 155, 50, 61, 364, 1, 975, 1242], [9, 50, 1821, 240], [9, 50, 1822], [9, 50, 1822], [4, 3, 1, 317, 1243, 5, 21, 50, 791], [4, 3, 1, 317, 1243, 5, 21, 50, 791], [4, 3, 21, 50, 671, 40], [4, 3, 21, 50, 671, 40], [32, 3, 1, 127, 177, 1823, 1244, 899], [32, 3, 1, 127, 177, 1823, 1244, 899], [11, 12, 50, 490, 670, 792, 585, 1824], [11, 12, 50, 490, 670, 792, 585, 1824], [11, 9, 50, 1245, 240], [11, 9, 50, 1245, 240], [4, 240, 9, 558, 10, 50], [4, 2978, 6, 976, 2, 251, 13, 2979, 1825, 1246, 13, 792, 361, 94], [1, 775, 660, 2980, 3, 445, 46, 16, 6, 212, 2, 4], [3, 30, 98, 31, 50, 161, 6, 793, 2, 631], [9, 50, 1245, 240], [9, 50, 448, 642], [9, 246, 50, 1826], [21, 177, 159, 671, 3, 4], [155, 50, 161, 4], [3, 1, 2981, 2, 177, 159, 2982, 1, 1708, 329, 2, 1, 2983, 2984], [9, 246, 50, 1826, 564, 9, 2985, 13, 2986, 9, 977, 59, 1177], [3, 21, 177, 159, 671, 40, 6, 2987], [15, 33, 50, 631, 22, 1, 317, 1243, 5, 163, 791, 2988, 28, 2989, 2990, 13, 2991], [12, 84, 881, 24, 1827], [12, 84, 881, 24, 1827], [4, 3, 1, 42, 203, 47, 2, 318], [4, 3, 1, 42, 203, 47, 2, 318], [12, 84, 61, 437, 1828, 5, 1, 412, 875], [12, 84, 61, 437, 1828, 5, 1, 412, 875], [4, 3, 1829], [4, 3, 1829], [32, 9, 84, 1247], [32, 9, 84, 1247], [9, 84, 1830, 2, 460], [9, 84, 1830, 2, 460], [11, 164, 227, 10, 84, 586, 24, 213], [11, 164, 227, 10, 84, 586, 24, 213], [11, 19, 47, 2, 84, 9, 35], [11, 19, 47, 2, 84, 9, 35], [11, 9, 1831, 84, 316, 23, 33, 84], [11, 9, 1831, 84, 316, 23, 33, 84], [9, 84, 281], [9, 84, 281], [12, 84, 15, 6, 952, 41, 314, 1248, 2, 1249, 16, 281], [12, 84, 15, 6, 952, 41, 314, 1248, 2, 1249, 16, 281], [9, 84, 262, 978, 1832], [9, 84, 262, 978, 1832], [4, 206, 12, 84, 453, 10], [4, 206, 12, 84, 453, 10], [4, 3, 1, 42, 203, 47, 2, 318], [4, 3, 1, 42, 203, 47, 2, 318], [11, 672, 51, 1, 979, 512, 84], [11, 672, 51, 1, 979, 512, 84], [4, 303, 84, 1833, 960, 5, 1, 94], [4, 303, 84, 1833, 960, 5, 1, 94], [32, 12, 84, 1834], [32, 12, 84, 1834], [20, 586, 1250, 2, 163, 170, 24, 213, 13, 1250, 5, 1, 2992], [4, 3, 175, 1, 2993, 31, 2994, 1251, 9, 2995, 10, 490, 23, 84], [4, 15, 158, 2996, 2997, 16, 1835, 5, 1, 251], [4, 765, 17, 2998, 794, 6, 2999], [3, 30, 98, 31, 575, 318, 1252, 6, 971, 5, 1, 461], [9, 82, 84, 1247], [9, 84, 3000, 960], [9, 84, 34, 1253], [3, 30, 175, 391, 31, 318, 3001, 23, 1, 276, 3002, 1254], [15, 84, 21, 314, 1248, 2, 1249, 16, 281], [44, 211, 84, 3003, 3004, 5, 1255, 2, 1169], [3, 1, 219, 318, 47, 1, 1836, 980, 318, 239, 175, 89, 22, 1, 1837, 318, 210, 37, 1838, 673, 1839, 672, 239, 5, 210, 13, 1840, 1841, 239, 3005, 210], [3, 30, 76, 3006, 89, 1842, 1, 3007, 3008, 3009, 6, 3010, 3011, 59, 1842, 3012, 7, 3013, 3014, 5, 6, 164, 1843, 3015, 13, 1, 3016], [3, 1, 42, 203, 47, 1, 3017, 318, 239, 3018, 3019, 210], [3, 1, 219, 318, 47, 1, 1836, 980, 318, 239, 175, 89, 22, 1, 1837, 318, 210, 37, 1838, 673, 1839, 672, 239, 5, 210, 13, 1840, 1841, 239], [4, 110, 5, 6, 483, 76, 981, 3020, 214, 2, 1, 3021, 3022], [4, 3, 1, 498, 71, 24, 1, 655], [4, 3, 1, 498, 71, 24, 1, 655], [3, 80, 207, 6, 307], [3, 80, 207, 6, 307], [3, 80, 207, 6, 1256], [3, 80, 207, 6, 1256], [4, 3, 42, 80, 207, 24, 408], [4, 3, 42, 80, 207, 24, 408], [4, 3, 80, 229, 447, 458], [4, 3, 80, 229, 447, 458], [11, 62, 3, 80, 229, 1844, 1845], [11, 62, 3, 80, 229, 1844, 1845], [4, 3, 587, 2, 80, 229, 447, 1846], [4, 3, 587, 2, 80, 229, 447, 1846], [32, 80, 207, 3, 6, 1847, 47], [4, 12, 1848, 13, 1849, 982, 1850, 201], [4, 12, 1848, 13, 1849, 982, 1850, 201], [14, 6, 80, 207, 61, 5, 1, 874], [14, 6, 80, 207, 61, 5, 1, 874], [3, 6, 80, 207, 372, 5, 458], [3, 6, 80, 207, 372, 5, 458], [3, 6, 80, 207, 34, 588, 1253, 2, 974], [3, 6, 80, 207, 34, 588, 1253, 2, 974], [11, 983, 3, 6, 246, 80, 207], [11, 983, 3, 6, 246, 80, 207], [11, 983, 7, 1, 42, 80, 207, 24, 408], [11, 983, 7, 1, 42, 80, 207, 24, 408], [4, 14, 6, 80, 229, 758, 1851], [4, 14, 6, 80, 229, 758, 1851], [12, 168, 80, 229, 475, 100, 41, 1, 246], [12, 168, 80, 229, 475, 100, 41, 1, 246], [11, 164, 475, 12, 168, 80, 229, 1852, 106, 1853], [11, 164, 475, 12, 168, 80, 229, 1852, 106, 1853], [44, 80, 229, 48, 1854, 361, 1855, 1856], [44, 80, 229, 48, 1854, 361, 1855, 1856], [4, 3, 984, 242, 5, 458], [4, 1240, 30, 566, 1, 789], [4, 1857, 6, 3023, 1257, 2, 32, 300, 47, 3, 3024, 22, 743], [4, 12, 25, 3025, 13, 1, 777, 3026, 850, 1258, 15, 5, 146], [9, 1858, 1859, 982, 16, 1259, 1860], [9, 80, 229, 1462, 893], [6, 3027, 3028, 307, 1, 80, 207, 39, 4], [3029, 3, 4], [1, 229, 445, 4], [3, 1, 80, 207, 1, 3030, 2, 3031, 264], [15, 3032, 229, 49, 72, 371, 1260, 13, 328, 16, 163, 1861, 372, 758, 13, 163, 3033], [8, 3034, 1236, 1, 3035, 226, 3036, 2, 1862, 1261, 76, 668, 6, 1262, 10, 1, 201, 631, 13, 1862, 1226, 3037, 31, 581, 1858, 9, 1859, 982, 16, 1259, 1860, 34, 300, 227], [9, 977, 38, 5, 3038, 585, 3039, 1, 238], [14, 220, 1108, 22, 1, 1863, 1864, 111, 5, 1, 53, 560, 645], [14, 220, 1108, 22, 1, 1863, 1864, 111, 5, 1, 53, 560, 645], [12, 627, 82, 1263, 985, 763], [12, 627, 82, 1263, 985, 763], [44, 907, 1865, 1866, 5, 220], [44, 907, 1865, 1866, 5, 220], [17, 8, 220, 158, 21, 504, 114], [17, 8, 220, 158, 21, 504, 114], [18, 3, 1264, 1265, 454, 1266], [18, 3, 1264, 1265, 454, 1266], [18, 8, 6, 1867, 746, 6, 1868, 5], [18, 8, 6, 1867, 746, 6, 1868, 5], [14, 1, 451, 674, 2, 220, 221, 153, 1869], [14, 1, 451, 674, 2, 220, 221, 153, 1869], [4, 3, 1, 119, 71, 16, 583], [4, 3, 1, 119, 71, 16, 583], [4, 1870, 9, 5, 382, 43], [4, 1870, 9, 5, 382, 43], [4, 3040, 25, 30, 6, 3041, 3042, 2, 1264, 986, 22, 3043, 23, 3044], [220, 260, 21, 504, 3045, 114, 5, 4, 115], [4, 3046, 2, 6, 1267, 3047, 1871, 1268, 25, 1872], [11, 12, 220, 13, 1, 1873, 483, 739], [7, 220, 96, 176, 5], [3, 220, 551, 28, 1874, 3048, 10, 1, 214], [4, 551, 28, 1874], [20, 1269, 22, 1, 1875, 13, 69, 2, 1, 192, 3049, 3050, 2, 1, 201, 1189, 2, 1876, 5], [39, 220, 6, 131, 1265, 454, 1266, 5, 1877], [7, 220, 96, 176, 5], [8, 1, 1263, 76, 3051, 22, 163, 3052, 1, 1713, 3053, 13, 3054, 1270, 2, 1877, 3055, 3056, 3057], [589, 3058, 13, 927, 3059, 1161, 1, 3060, 2, 220, 159, 450, 16, 116, 227, 10, 169], [39, 30, 49, 413, 25, 6, 62, 987, 3061, 10, 298, 1, 776, 2, 220, 13, 1, 1873, 483, 1878, 581, 13, 675, 1879, 13, 3062, 1, 1697, 167, 1, 1271, 411, 3063, 13, 1259, 1880, 1879], [4, 110, 5, 667, 910, 5, 93], [44, 667, 3064, 76, 988, 5, 667, 910, 5, 93], [3, 210, 989, 1, 114, 2, 220, 239, 119, 3065, 22, 3066, 220, 210, 21, 3067, 3068, 5, 1881, 889], [14, 79, 270, 1882], [14, 79, 270, 1882], [3, 79, 6, 990, 114], [3, 79, 6, 990, 114], [3, 1, 57, 216, 28, 335, 1272], [3, 1, 57, 216, 28, 335, 1272], [11, 19, 1883, 3, 79, 306, 92], [11, 19, 1883, 3, 79, 306, 92], [4, 3, 1, 584, 590, 5, 79], [4, 3, 1, 584, 590, 5, 79], [4, 3, 1, 60, 26, 2, 79], [4, 3, 1, 60, 26, 2, 79], [3, 1, 3069, 450, 3070, 218], [9, 35, 19, 1884, 5, 79], [9, 35, 19, 1884, 5, 79], [11, 19, 737, 1885, 10, 241, 79], [11, 19, 737, 1885, 10, 241, 79], [14, 79, 452, 6, 270, 25, 900], [14, 79, 452, 6, 270, 25, 900], [8, 79, 991, 1886, 106, 53, 148, 342], [8, 79, 991, 1886, 106, 53, 148, 342], [14, 79, 452, 1, 252, 26, 25, 1887], [14, 79, 452, 1, 252, 26, 25, 1887], [20, 7, 1, 36, 1888, 10, 1889, 6, 513, 992], [20, 7, 1, 36, 1888, 10, 1889, 6, 513, 992], [4, 3, 1, 42, 43, 5, 79], [4, 3, 1, 42, 43, 5, 79], [4, 3, 1, 42, 653, 912, 5, 79], [4, 3, 1, 42, 653, 912, 5, 79], [11, 19, 243, 5, 265, 9, 1890, 41, 79], [11, 19, 243, 5, 265, 9, 1890, 41, 79], [32, 3071, 79, 15, 6, 114, 338], [32, 373, 79, 1891, 106, 53, 148, 993], [32, 373, 79, 1891, 106, 53, 148, 993], [3072, 6, 190, 43, 5, 3073, 7, 722, 22, 244, 125, 2, 994, 5, 4, 115], [4, 9, 1273, 67, 91, 13, 15, 49, 3074, 109, 2, 3075], [3, 30, 98, 31, 79, 39, 6, 70, 2], [4, 12, 450, 13, 181, 15, 5, 146], [4, 8, 3076, 5, 79, 3077, 5], [3, 79, 6, 990, 114], [3, 79, 6, 1274, 1892, 114], [3, 79, 6, 1274, 1893, 283, 18, 3078, 3079, 9, 1681, 167, 1, 57, 13, 1, 638, 639], [7, 3080, 3081, 1, 559, 2, 1, 3082, 1275, 5, 79], [7, 1, 3083, 3084, 245, 663, 5], [3, 79, 239, 210, 6, 111, 5, 3085, 265], [3, 79, 6, 1274, 1892, 114], [12, 1894, 676, 1895], [12, 1894, 676, 1895], [8, 677, 178, 2, 203, 995, 401, 561], [8, 677, 178, 2, 203, 995, 401, 561], [8, 1, 1896, 1897, 10, 677, 678, 5], [8, 1, 1896, 1897, 10, 677, 678, 5], [11, 19, 102, 64, 1, 1898, 996, 1276], [11, 19, 102, 64, 1, 1898, 996, 1276], [18, 8, 1899, 1900, 102, 61], [18, 8, 1899, 1900, 102, 61], [4, 3, 1, 1901], [4, 3, 1, 1901], [11, 3, 677, 795, 1277], [11, 3, 677, 795, 1277], [11, 164, 997, 5, 1, 1902, 998, 10, 678, 3, 1, 226, 1903], [11, 164, 997, 5, 1, 1902, 998, 10, 678, 3, 1, 226, 1903], [11, 19, 1904, 8, 30, 337, 1, 1905, 503, 449, 10, 187, 1, 430, 2, 142], [11, 19, 1904, 8, 30, 337, 1, 1905, 503, 449, 10, 187, 1, 430, 2, 142], [3, 142, 133, 34, 1, 412, 1278, 2, 1, 150, 1906], [3, 142, 133, 34, 1, 412, 1278, 2, 1, 150, 1906], [3, 142, 6, 1907], [3, 142, 6, 1907], [39, 1908, 1909, 1910, 865, 142], [39, 1908, 1909, 1910, 865, 142], [4, 14, 3086, 304], [17, 3, 1, 36, 408, 2, 628, 5, 142], [17, 3, 1, 36, 408, 2, 628, 5, 142], [37, 570, 1911, 142, 106, 53, 148, 993], [37, 570, 1911, 142, 106, 53, 148, 993], [32, 3087, 40, 1, 933, 2, 3088, 28, 3089, 106, 1190, 3090, 796, 3091], [7, 797, 1279, 1280, 6, 1912, 559, 2, 142], [7, 797, 1279, 1280, 6, 1912, 559, 2, 142], [17, 8, 3092, 3093, 3094, 3095, 797, 22, 638, 639], [4, 3, 1, 317, 757, 3096, 2, 94, 3097], [4, 3, 1, 137, 26, 2, 142], [18, 3, 1, 137, 3098, 3099], [32, 9, 1191, 25, 455, 13, 134, 266], [4, 3, 1, 33, 870, 481, 504, 111, 5, 1, 53], [20, 8, 798, 1215, 3100, 3101, 162, 16], [17, 7, 797, 1279, 1280, 638, 639, 2, 142], [4, 3, 1, 3102, 16, 3103, 3104], [4, 443, 6, 1281, 679, 24, 1, 999, 5], [4, 46, 142, 22, 6, 3105, 1281, 679, 364, 1, 1192, 3106], [4, 260, 69, 2, 1, 33, 266, 3107, 13, 788, 3108, 2, 1, 547, 1239], [20, 3109, 6, 3110, 535, 2, 28], [11, 12, 1913, 13, 94, 739], [3, 30, 98, 31, 142, 39, 393, 62, 506, 3111, 25, 455], [39, 142, 3112, 963, 6, 996, 2, 3113, 3114, 142, 10, 374, 5, 243], [39, 142, 6, 996, 2, 1913, 13, 94, 3115, 399], [39, 3116, 3117, 19, 399, 2, 1171, 317, 1914, 25, 1, 245, 3118, 362, 2, 317, 1914, 312, 3119, 3120, 3121, 1114], [14, 1, 450, 76, 1282, 459, 24, 3122, 3123, 3124, 1915, 1000, 5, 3125], [3, 142, 239, 210, 989, 1, 283, 2, 142, 239, 210, 21, 999, 570, 133, 34, 1, 412, 1278, 2, 1, 120, 1001], [3, 142, 1, 3126, 111, 5, 1, 53, 5, 1916, 2, 678, 560, 645], [7, 1917, 143, 6, 83, 2, 1, 358, 370], [7, 1917, 143, 6, 83, 2, 1, 358, 370], [14, 344, 143, 15, 6, 1002], [14, 344, 143, 15, 6, 1002], [8, 344, 143, 774, 10, 947], [8, 344, 143, 774, 10, 947], [18, 7, 344, 143, 38], [18, 7, 344, 143, 38], [4, 8, 143, 12, 10, 514, 29, 1918, 1283], [4, 8, 143, 12, 10, 514, 29, 1918, 1283], [32, 8, 143, 838, 1919, 1920], [32, 8, 143, 838, 1919, 1920], [4, 7, 1, 1921, 2, 344, 462, 680, 622], [4, 7, 1, 1921, 2, 344, 462, 680, 622], [4, 7, 462, 1257, 16, 1922, 1003, 2, 345, 5, 194, 308], [4, 7, 462, 1257, 16, 1922, 1003, 2, 345, 5, 194, 308], [11, 8, 1284, 1923, 10, 143, 1924, 1925, 1926, 767, 10, 1927, 34, 1, 372, 248], [11, 8, 1284, 1923, 10, 143, 1924, 1925, 1926, 767, 10, 1927, 34, 1, 372, 248], [8, 344, 143, 138, 1928], [8, 344, 143, 138, 1928], [8, 143, 446, 6, 1285, 2, 786], [8, 143, 446, 6, 1285, 2, 786], [8, 143, 138, 1929], [8, 143, 138, 1929], [18, 7, 344, 143, 23], [18, 7, 344, 143, 23], [20, 7, 462, 432, 1286], [20, 7, 462, 432, 1286], [17, 8, 143, 105], [17, 8, 143, 105], [20, 866, 10, 1930, 462, 272, 1931], [20, 866, 10, 1930, 462, 272, 1931], [8, 143, 298, 1932, 1933, 5, 345], [8, 143, 298, 1932, 1933, 5, 345], [7, 462, 55, 1934], [9, 52, 1004], [9, 52, 1004], [14, 1, 238, 1935, 16, 1, 515], [14, 1, 238, 1935, 16, 1, 515], [9, 52, 1936], [9, 52, 1936], [4, 354, 9, 1, 189, 2, 1, 1937, 47, 2, 185], [4, 354, 9, 1, 189, 2, 1, 1937, 47, 2, 185], [11, 183, 12, 52, 1287], [4, 12, 82, 52, 13, 516, 591], [4, 12, 82, 52, 13, 516, 591], [11, 12, 52, 1938], [11, 12, 52, 1938], [4, 39, 49, 275, 124, 52, 539], [4, 39, 49, 275, 124, 52, 539], [4, 355, 2, 185, 1288, 81, 273, 92, 81, 463], [4, 355, 2, 185, 1288, 81, 273, 92, 81, 463], [12, 155, 52, 356, 189, 24, 1246, 1939, 1940], [12, 155, 52, 356, 189, 24, 1246, 1939, 1940], [9, 1289, 89, 22, 592, 52], [9, 1289, 89, 22, 592, 52], [9, 52, 6, 139, 2, 1, 3127, 3128, 3129], [11, 19, 1941, 9, 52, 306, 92], [11, 19, 1941, 9, 52, 306, 92], [58, 6, 185, 1942, 1005, 22, 6, 1943], [58, 6, 185, 1942, 1005, 22, 6, 1943], [58, 288, 558, 1944, 16, 1, 1006, 24, 52], [58, 288, 558, 1944, 16, 1, 1006, 24, 52], [464, 6, 185, 1241, 7, 1005, 792, 4, 277, 593, 1945], [464, 6, 185, 1241, 7, 1005, 792, 4, 277, 593, 1945], [4, 12, 3130, 64, 10, 591, 5, 1, 94], [32, 9, 592, 52, 40, 592, 52], [32, 9, 592, 52, 40, 592, 52], [12, 52, 356, 189, 486], [12, 52, 356, 189, 486], [9, 185, 189, 1946, 13, 1947], [9, 185, 189, 1946, 13, 1947], [9, 52, 312, 1948, 16, 1290, 1291], [9, 52, 312, 1948, 16, 1290, 1291], [4, 355, 2, 52, 3, 580], [4, 355, 2, 52, 3, 580], [4, 12, 185, 189, 3131, 10, 161, 1007, 3132, 2], [18, 12, 155, 52, 356, 163, 189], [18, 12, 155, 52, 356, 163, 189], [4, 3, 1, 219, 355, 2, 52], [4, 3, 1, 219, 355, 2, 52], [4, 9, 185, 189, 1268, 5, 17, 285, 1949], [4, 9, 185, 189, 1268, 5, 17, 285, 1949], [4, 199, 2, 778, 591, 251, 13, 868, 356, 189, 486], [4, 199, 2, 778, 591, 251, 13, 868, 356, 189, 486], [4, 9, 3133, 5, 3134, 3135, 92, 3136, 59, 1872], [4, 1225, 2, 52, 9, 1004], [9, 52, 1004], [9, 1, 42, 52, 1950], [3, 1950, 3137, 5, 576, 3138, 52, 312, 1951], [667, 3139, 40, 3140, 15, 4], [1, 189, 2, 1, 42, 47, 9, 4], [39, 300, 799, 1952, 3141, 10, 383, 3142, 1, 185, 1292, 16, 1290, 1291], [44, 52, 337, 19, 67, 10, 1953, 3143, 280], [9, 3144, 155, 52, 76, 3145, 16, 28, 1, 1178], [9, 1, 1289, 445, 89, 22, 1, 592, 52, 6, 1954, 10, 1, 651, 285, 3146, 163, 1008, 92, 163, 3147], [14, 1, 206, 800, 76, 594, 371, 1009, 239, 203, 210, 13, 580, 47, 1, 517, 89, 52, 312, 23, 673, 1010, 67, 278], [7, 801, 253, 6, 384, 5, 1, 375, 518, 148], [7, 801, 253, 6, 384, 5, 1, 375, 518, 148], [7, 681, 1955, 6, 1293], [7, 681, 1955, 6, 1293], [8, 801, 187, 1, 430, 2, 1956, 1294], [8, 801, 187, 1, 430, 2, 1956, 1294], [20, 7, 681, 1002, 5, 181], [20, 7, 681, 1002, 5, 181], [18, 7, 253, 38], [18, 7, 253, 38], [4, 7, 681, 259, 1957], [4, 7, 681, 259, 1957], [32, 8, 253, 493, 1958, 342, 188, 1959, 10, 12, 25, 300, 1960], [32, 8, 253, 493, 1958, 342, 188, 1959, 10, 12, 25, 300, 1960], [8, 1961, 1962, 794, 5, 1, 432, 1295, 2], [8, 1961, 1962, 794, 5, 1, 432, 1295, 2], [32, 8, 253, 1963, 31, 148, 7, 1964], [32, 8, 253, 1963, 31, 148, 7, 1964], [20, 3148, 353, 1296, 22, 1, 3149, 508, 384, 5, 1, 375, 518, 148], [253, 7, 216, 57, 22, 6, 358, 5, 4, 115], [20, 3150, 6, 643, 3151, 31, 1965, 3152, 28, 465, 153, 1, 3153, 3154, 3155], [17, 8, 27, 1272, 16, 1293, 54, 3156], [20, 8, 57, 90, 1769, 2, 682, 384, 5, 1, 3157, 449, 1011, 3158], [7, 253, 216, 57, 22, 6, 358], [4, 7, 23, 3159], [7, 30, 6, 3160, 3161, 31, 1966, 3162, 1, 3163, 2, 801, 159, 253], [7, 253, 159, 1162, 3164, 2, 1297, 3165, 91, 3166], [188, 27, 1298, 245, 3167], [8, 253, 3168, 76, 1202, 3169, 3170, 13, 129, 3171, 1915, 13, 3172, 1299, 23, 1446, 5, 1, 3173, 3174, 362], [3, 1, 328, 1012, 1013, 34, 1, 3175, 10, 1, 755, 34, 1, 3176, 2, 253, 13, 3177, 1206], [4, 110, 5], [4, 110, 5, 1159, 67], [3, 121, 133, 5, 1, 1967, 139, 2, 268], [3, 121, 133, 5, 1, 1967, 139, 2, 268], [3, 346, 125, 519], [3, 346, 125, 519], [14, 121, 15, 789, 1968], [14, 121, 15, 789, 1968], [20, 176, 519], [20, 176, 519], [18, 3, 346, 376, 250], [18, 3, 346, 376, 250], [20, 459, 1014, 1, 1969, 13, 994, 2, 519], [20, 459, 1014, 1, 1969, 13, 994, 2, 519], [4, 9, 466, 1970, 40, 683], [4, 9, 466, 1970, 40, 683], [3, 346, 1971, 1972], [3, 346, 1971, 1972], [4, 338, 12, 33, 1973, 985], [4, 338, 12, 33, 1973, 985], [3, 121, 133, 5, 214, 224], [3, 121, 133, 5, 214, 224], [44, 1974, 684, 507, 10, 1, 664], [44, 1974, 684, 507, 10, 1, 664], [8, 121, 685, 1, 36, 296, 53, 1015], [8, 121, 685, 1, 36, 296, 53, 1015], [20, 176, 519], [20, 176, 519], [11, 19, 769, 1975, 2, 485, 213, 3, 121], [11, 19, 769, 1975, 2, 485, 213, 3, 121], [11, 164, 2, 1, 70, 3, 2, 372, 244, 1976], [11, 164, 2, 1, 70, 3, 2, 372, 244, 1976], [32, 7, 1, 125, 2, 121, 176], [32, 7, 1, 125, 2, 121, 176], [11, 19, 467, 39, 121, 1188, 1, 53, 1015], [11, 19, 467, 39, 121, 1188, 1, 53, 1015], [11, 164, 3, 1, 314, 3178, 2, 21, 272, 3179, 3180, 10, 6, 244, 686], [14, 121, 1977, 1978, 518, 1979], [14, 121, 1977, 1978, 518, 1979], [14, 121, 270, 154, 1300], [14, 121, 270, 154, 1300], [3, 346, 1980, 1981, 1301], [3, 346, 1980, 1981, 1301], [4, 14, 6, 1302, 64, 10, 684, 507, 10, 1, 664], [4, 14, 6, 1302, 64, 10, 684, 507, 10, 1, 664], [18, 3, 346, 376, 250], [18, 3, 346, 376, 250], [4, 634, 9, 261, 5, 121], [4, 634, 9, 261, 5, 121], [4, 39, 121, 1303, 10, 48, 1982, 5, 891], [4, 39, 121, 1303, 10, 48, 1982, 5, 891], [4, 9, 1, 319, 2, 346, 259, 1983], [4, 9, 1, 319, 2, 346, 259, 1983], [3, 121, 1, 219, 1984, 570, 5, 214, 224], [3, 121, 1, 219, 1984, 570, 5, 214, 224], [4, 7, 176, 28, 1, 414, 5, 1, 476, 320, 22, 6, 788, 3181], [4, 39, 19, 391, 3182], [11, 12, 1985, 13, 276, 224, 739], [4, 8, 121, 187, 5], [3, 121, 448, 146], [3, 1, 795, 5, 121, 3183], [3, 1, 192, 1304, 5, 121, 1167], [3, 121, 159, 376, 250, 5, 156, 3184, 3185], [3, 121, 6, 83, 2, 1, 3186, 212, 2, 3187, 2, 3188, 3189], [3, 30, 595, 262, 1, 33, 990, 570, 5, 276, 224], [3, 30, 1, 302, 219, 504, 111, 5, 214, 224, 211, 245, 41, 3190, 13, 1, 154, 3191, 650, 2, 154, 1300], [3, 30, 6, 3192, 3193, 18, 1, 57, 3194, 1, 3195, 2, 371, 273, 2, 114, 13, 273, 2, 226], [7, 415, 103, 1, 1986, 57, 2, 1, 108, 113], [7, 415, 103, 1, 1986, 57, 2, 1, 108, 113], [8, 415, 103, 1305, 1, 510, 2, 687], [8, 415, 103, 1305, 1, 510, 2, 687], [8, 1, 201, 1016, 1, 510, 2, 687], [8, 1, 201, 1016, 1, 510, 2, 687], [18, 7, 1, 510, 2, 687, 413], [18, 7, 1, 510, 2, 687, 413], [17, 7, 415, 103, 38], [17, 7, 415, 103, 38], [20, 7, 57, 17, 103, 1987, 1988, 226], [20, 7, 57, 17, 103, 1987, 1988, 226], [4, 596, 8, 415, 103, 649, 181, 841, 10, 138], [4, 596, 8, 415, 103, 649, 181, 841, 10, 138], [4, 735, 103, 10, 1989, 772, 10, 991, 148, 24, 1, 802, 970], [4, 735, 103, 10, 1989, 772, 10, 991, 148, 24, 1, 802, 970], [4, 7, 100, 3196, 41, 1990, 1991, 92, 1992], [7, 103, 6, 83, 2, 1, 1993, 909, 1994, 864], [7, 103, 6, 83, 2, 1, 1993, 909, 1994, 864], [7, 103, 21, 1995, 1996], [7, 103, 21, 1995, 1996], [8, 1997, 336, 546, 1306], [8, 1997, 336, 546, 1306], [18, 3, 103, 249], [18, 3, 103, 249], [18, 8, 103, 395, 181, 360], [18, 8, 103, 395, 181, 360], [18, 7, 415, 103, 38], [18, 7, 415, 103, 38], [8, 103, 298, 1003], [8, 103, 298, 1003], [8, 103, 298, 1, 945, 454], [8, 103, 298, 1, 945, 454], [8, 103, 15, 315, 803], [4, 7, 3197, 13, 3198], [4, 3199, 1109, 3200, 1306, 13, 1998, 289, 6, 3201, 360, 16, 1825], [20, 8, 103, 187, 5], [7, 103, 3202, 1, 310, 3203, 311], [7, 103, 6, 3204, 1011, 3205, 13, 3206], [4, 915, 5, 3207], [7, 103, 57, 2, 1, 375, 259, 597, 1017, 5], [8, 27, 76, 3208, 29, 3209, 16, 109, 3210, 3211, 1, 432, 1445, 2, 1, 137, 1893, 370, 59, 1018, 3212, 6, 3213, 370, 31, 1307, 6, 1018, 178, 1267, 3214, 13, 1999, 226], [8, 103, 76, 586, 598, 1, 3215, 2, 3216, 10, 490, 224, 550, 2, 1, 148, 5, 265], [7, 103, 6, 3217, 1212, 2, 3218, 3219, 10, 1, 3220, 2, 1152, 1000, 5, 3221, 13, 5, 330], [4, 110, 5], [7, 45, 21, 433, 377], [7, 45, 21, 433, 377], [3, 45, 249, 5, 1, 43, 2, 2000], [3, 45, 249, 5, 1, 43, 2, 2000], [8, 45, 15, 6, 1019, 16, 1, 138, 2, 1020], [8, 45, 15, 6, 1019, 16, 1, 138, 2, 1020], [4, 3, 1, 599, 72, 28, 45, 804, 10, 48], [4, 3, 1, 599, 72, 28, 45, 804, 10, 48], [4, 266, 511, 291, 7, 86, 5, 786, 2, 45], [4, 266, 511, 291, 7, 86, 5, 786, 2, 45], [18, 8, 45, 1308, 2001], [18, 8, 45, 1308, 2001], [3, 30, 6, 2002, 16, 1021, 10, 48, 2003, 10, 2004], [3, 30, 6, 2002, 16, 1021, 10, 48, 2003, 10, 2004], [7, 1022, 361, 1309, 548, 5], [7, 1022, 361, 1309, 548, 5], [7, 1, 433, 2005, 2006, 413, 184, 1, 2007], [7, 1, 433, 2005, 2006, 413, 184, 1, 2007], [16, 11, 19, 67, 8, 144, 45, 61], [8, 144, 45, 61, 10, 48, 67, 91], [4, 7, 144, 3222, 805], [11, 91, 7, 144, 45, 17, 27, 205], [11, 19, 67, 278, 7, 30, 17, 45, 359, 1, 2008, 2, 520, 2009, 2010, 3223, 25, 440, 27, 658, 297, 1134], [3, 1, 3224, 3225, 3226], [3, 45, 249, 5, 1, 43, 2, 688], [7, 29, 388, 287, 5, 154], [184, 7, 1022, 3227, 28, 1782], [8, 27, 446, 1, 3228, 3229, 1285], [8, 27, 1310, 25, 3230, 1123], [17, 8, 1022, 169, 361, 1309, 548], [18, 8, 27, 385, 29, 1311, 2, 1, 2011, 2012, 599], [8, 27, 158, 182, 2, 1312, 172, 34, 1, 96, 2, 806], [3, 30, 98, 31, 29, 1019, 49, 1313, 1, 138, 2, 1020], [29, 1019, 49, 1313, 1, 138, 2, 4], [3, 30, 98, 31, 45, 359, 1, 2008, 2, 520, 2009, 2010], [3, 30, 98, 31, 27, 435, 29, 1311, 2, 1, 2011, 2012, 599], [7, 225, 65, 433], [7, 225, 65, 433], [8, 225, 65, 543], [8, 225, 65, 543], [8, 65, 61, 5, 807], [18, 7, 65, 6, 182, 2, 172], [18, 7, 65, 6, 182, 2, 172], [11, 19, 501, 8, 65, 15], [11, 19, 501, 8, 65, 15], [4, 3, 65, 33, 534, 16], [4, 3, 65, 33, 534, 16], [4, 3, 196, 99], [4, 3, 196, 99], [5, 4, 115, 8, 65, 1314, 2013, 34, 387, 96], [5, 4, 115, 8, 65, 1314, 2013, 34, 387, 96], [4, 630, 8, 65, 138, 36], [4, 630, 8, 65, 138, 36], [4, 7, 225, 196, 948], [4, 7, 225, 196, 805], [11, 19, 67, 278, 7, 30, 17, 27, 260, 6, 182, 2, 172, 34, 1, 96, 2, 387], [4, 3, 225, 196, 36, 58], [4, 3, 225, 196, 498, 58], [7, 225, 65, 38, 5, 369, 224], [7, 617, 725, 1111, 1112, 35, 10, 726, 1113, 10, 65], [5, 2014, 7, 65, 159, 328, 388, 287, 5, 154], [3, 65, 159, 99, 842, 46, 10, 843, 1, 618, 2, 434, 844], [2015, 44, 808, 840, 809, 48, 689, 23, 1, 809, 2, 927, 2016], [8, 27, 385, 29, 162], [8, 65, 3231, 29, 3232], [3, 30, 98, 31, 1023, 689, 36, 1, 690, 2, 65, 99], [1023, 689, 36, 1, 690, 2, 4], [2015, 44, 808, 840, 809, 48, 689, 23, 1, 809, 2, 927, 2016], [44, 1, 1452, 2, 300, 328, 388, 48, 1453, 1454, 92, 93, 22, 3233, 24, 3234, 1, 808, 809, 2, 1, 1315, 3235, 2, 1316], [4, 3, 225, 65], [18, 3, 225, 65, 23], [17, 8, 390, 2017, 385, 29, 1024, 24, 1, 2018, 2019], [17, 8, 390, 2017, 385, 29, 1024, 24, 1, 2018, 2019], [4, 8, 390, 160, 1118, 124, 1, 389, 2, 94], [4, 8, 390, 160, 1118, 124, 1, 389, 2, 94], [37, 436, 619, 8, 160, 684], [37, 436, 619, 8, 160, 684], [4, 3, 1, 389, 329, 2, 94, 1025, 24], [4, 3, 1, 389, 329, 2, 94, 1025, 24], [18, 7, 160, 38], [18, 7, 160, 38], [3236, 8, 160, 949, 5, 29, 388, 1024, 2, 77, 3237, 3238, 24, 6, 1115], [11, 91, 7, 160, 17, 27, 205], [11, 91, 7, 160, 17, 27, 205], [4, 3, 436, 277, 94, 15, 10, 48, 10, 48, 3239, 167, 81, 178, 389, 13, 1116, 329], [4, 3, 1, 955, 167, 160, 1317, 436, 619, 13, 1, 69, 691, 64, 269], [4, 3, 1, 955, 167, 160, 1317, 436, 619, 13, 1, 69, 691, 64, 269], [4, 7, 390, 2020, 805], [11, 91, 7, 390, 160, 17, 27, 205], [4, 3, 390, 2020, 498, 58], [7, 160, 38, 5, 846, 5, 1117], [3, 1, 160, 478, 24, 1, 537, 86, 75, 301], [7, 390, 160, 847, 848, 6, 352, 1457], [7, 390, 160, 1, 36, 10, 1458, 13, 385, 1459, 730, 1460, 34, 1, 731, 2, 21, 353, 436, 619, 24, 727, 1461], [7, 27, 182, 34, 846, 96], [3, 30, 98, 31, 27, 435, 6, 536, 2, 1024], [27, 435, 6, 536, 2, 4], [44, 2021, 383, 25, 6, 1026], [9, 3240, 403, 5, 845, 3241], [15, 19, 244, 140, 692, 3242, 174, 23, 30], [9, 1, 33, 642, 5, 3243, 13, 3244], [12, 3245, 1027, 787, 119], [1, 3246, 3247, 2, 119, 3248, 6, 638, 230, 2, 4], [9, 2022, 5, 787, 119, 1318, 16, 693, 99, 13, 2023], [2024, 9, 3249, 1233, 2025, 3250, 262, 10, 48, 2026, 2027], [3, 6, 2028, 21, 1121], [9, 694, 558, 10, 135], [15, 3251, 750, 2, 244, 2029, 694, 3252, 3253, 3254], [18, 12, 694, 61], [17, 12, 3255, 441, 1953, 3256, 70], [4, 12, 102, 842, 773, 3257, 694], [11, 8, 3258, 3259, 695], [4, 12, 460, 64, 694, 16], [32, 12, 2029, 2028, 2030, 1319, 10, 356, 189, 106, 1, 3260, 1320], [14, 600, 304, 397, 125], [9, 1, 3261, 2, 1012, 3262, 1294, 553, 1, 1142, 2, 3263, 5, 3264, 755], [9, 3265, 3266], [17, 8, 600, 685, 1, 3267, 1158], [17, 7, 1, 21, 3268, 3269, 3270], [5, 18, 8, 3271, 738, 1308, 585, 6, 1199], [17, 8, 3272, 3273, 105], [18, 14, 251, 3274, 5, 600, 169, 23], [22, 2, 724, 11, 19, 3275, 1314, 1276, 34, 1, 600, 2031, 2032, 59, 1, 600, 636, 2031, 2032], [4, 3, 1, 58, 2, 6, 96, 59, 489, 1321, 16, 3276, 978, 382, 5, 600], [9, 328, 334, 345, 5, 600], [7, 601, 151, 6, 696, 2, 1, 36, 206], [7, 601, 151, 6, 696, 2, 1, 36, 206], [1322, 601, 151, 810, 585, 2033], [1322, 601, 151, 810, 585, 2033], [39, 1, 58, 151, 49, 855, 10, 1, 347, 291, 2, 729], [39, 1, 58, 151, 49, 855, 10, 1, 347, 291, 2, 729], [23, 4, 8, 151, 811, 697, 29, 170], [23, 4, 8, 151, 811, 697, 29, 170], [4, 8, 151, 837, 7, 22, 513, 22, 391], [4, 8, 151, 837, 7, 22, 513, 22, 391], [4, 3, 1, 247, 3277], [20, 7, 1, 3278, 3279], [2034, 23, 1, 2035, 656, 396, 552, 51, 285, 335, 22, 6, 787, 162], [2034, 23, 1, 2035, 656, 396, 552, 51, 285, 335, 22, 6, 787, 162], [2, 698, 3280, 466, 1323, 7, 1, 587, 894, 1810, 728], [3, 1, 165, 152, 6, 2036, 812, 231], [3, 1, 165, 152, 6, 2036, 812, 231], [3, 1, 3281, 1324, 16, 3282], [9, 1, 2037, 46, 22, 2038, 2039, 10, 1, 926, 2, 1, 152], [9, 1, 2037, 46, 22, 2038, 2039, 10, 1, 926, 2, 1, 152], [4, 14, 1325, 304], [4, 9, 1, 77, 3283, 31, 3284, 9, 72, 2, 813], [4, 3, 46, 10, 2040, 6, 152], [4, 3, 46, 10, 2040, 6, 152], [37, 2041, 44, 468, 315, 2042, 2043, 334, 472], [37, 2041, 44, 468, 315, 2042, 2043, 334, 472], [20, 661, 10, 1, 152, 22, 2044, 66, 1326, 1028, 2045], [20, 661, 10, 1, 152, 22, 2044, 66, 1326, 1028, 2045], [18, 3, 1, 1325, 403], [18, 3, 1, 1325, 403], [3, 35, 152, 5, 2046, 28, 2047], [3, 35, 152, 5, 2046, 28, 2047], [9, 1029, 348, 25, 2048], [9, 1029, 348, 25, 2048], [3, 1, 152, 6, 1030, 231], [3, 1, 152, 6, 1030, 231], [4, 3, 152, 21, 2049, 2], [4, 3, 152, 21, 2049, 2], [4, 1238, 3, 46, 10, 254, 1, 152], [4, 1238, 3, 46, 10, 254, 1, 152], [4, 3, 6, 693, 20, 964, 1, 152, 40], [4, 3, 6, 693, 20, 964, 1, 152, 40], [32, 3, 35, 3285, 24, 6, 152], [17, 8, 1, 36, 2050, 602, 305, 16, 1, 152], [17, 8, 1, 36, 2050, 602, 305, 16, 1, 152], [4, 152, 2051, 1031, 342, 2052, 23, 464, 342, 923, 10, 254, 814], [4, 152, 2051, 1031, 342, 2052, 23, 464, 342, 923, 10, 254, 814], [7, 104, 66, 63, 6, 83, 2, 1, 137, 2053], [7, 104, 66, 63, 6, 83, 2, 1, 137, 2053], [8, 104, 66, 63, 2054, 315, 1327, 167, 603, 2055, 13, 604, 2056], [8, 104, 66, 63, 2054, 315, 1327, 167, 603, 2055, 13, 604, 2056], [7, 104, 66, 605, 572, 55, 5, 1328], [7, 104, 66, 605, 572, 55, 5, 1328], [18, 8, 104, 66, 63, 105], [18, 8, 104, 66, 63, 105], [17, 7, 104, 66, 63, 2057, 2058, 5, 568], [17, 7, 104, 66, 63, 2057, 2058, 5, 568], [4, 998, 8, 104, 66, 63, 341, 10, 1, 596, 2, 2059, 606], [18, 8, 1, 1329, 2, 1032, 1297, 337, 409], [18, 8, 1, 1329, 2, 1032, 1297, 337, 409], [4, 3, 1, 731, 2, 1, 1330, 1331, 2, 1332, 13, 1333], [4, 3, 1, 731, 2, 1, 1330, 1331, 2, 1332, 13, 1333], [17, 8, 104, 66, 63, 521, 10, 6, 284, 2060, 27, 2061, 34, 2062], [17, 8, 104, 66, 63, 521, 10, 6, 284, 2060, 27, 2061, 34, 2062], [464, 104, 66, 63, 7, 492, 269, 11, 91, 277, 27, 15, 49], [16, 11, 19, 67, 8, 104, 66, 63, 61], [8, 104, 66, 63, 61, 10, 48, 67, 91], [11, 91, 7, 104, 66, 63, 17, 27, 205], [11, 19, 67, 278, 8, 27, 2063, 29, 3286, 22, 3287, 66, 3288, 2064, 3289], [11, 19, 67, 278, 8, 104, 66, 63, 105], [7, 1, 347, 291, 2, 474, 1, 63, 86, 75, 301], [7, 63, 38, 5, 1033, 330, 10, 6, 218, 10, 12, 55], [7, 29, 336, 136, 63, 2065, 2, 1, 442, 2066, 5, 1328], [3, 63, 2067, 5, 1, 1211, 2, 1334, 13, 2, 1020, 13, 3290], [7, 1034, 3291, 66, 63, 38, 1301, 1033, 330, 205, 724, 568, 330, 6, 154, 377], [14, 63, 649, 6, 1035], [17, 7, 104, 66, 63, 38], [8, 27, 385, 21, 266, 3292, 2, 1, 665, 2, 3293], [7, 63, 38, 5, 1033, 330, 10, 6, 218, 10, 12, 55], [7, 29, 336, 2065, 2, 1, 442, 2066], [27, 275, 21, 3294, 1327, 2, 4], [3, 30, 98, 31, 63, 3295, 6, 1035, 22, 6, 1286], [18, 3, 104, 66, 63, 23], [7, 91, 128, 3296, 3297], [9, 1, 131, 128, 416, 100, 153, 6, 55], [3, 30, 98, 31, 2068, 2, 53, 70, 331, 116, 241, 2, 128], [2068, 2, 53, 70, 331, 116, 241, 2, 4], [3, 815, 157, 128, 2067, 28, 81, 588, 654], [378, 3, 1, 125, 2, 4, 111], [378, 3, 1, 125, 2, 4, 111], [4, 3, 1, 70, 2, 378], [4, 3, 1, 70, 2, 378], [4, 2069, 1036, 7, 784, 5], [4, 2069, 1036, 7, 784, 5], [32, 3, 378, 6, 675, 2070], [32, 3, 378, 6, 675, 2070], [4, 110, 10, 378, 167, 13], [3, 378, 1966, 3298, 25, 94], [378, 3, 771, 99, 69, 972, 16, 37, 2071], [378, 3, 771, 99, 69, 972, 16, 37, 2071], [32, 8, 202, 1672, 699, 378], [15, 122, 49, 46, 1037, 10, 1038, 2072], [15, 122, 49, 46, 1037, 10, 1038, 2072], [44, 1, 700, 2, 122, 48, 1039, 10, 512, 467], [44, 1, 700, 2, 122, 48, 1039, 10, 512, 467], [9, 122, 46, 5, 2073, 1335], [9, 122, 46, 5, 2073, 1335], [4, 9, 1, 33, 146, 122], [4, 9, 1, 33, 146, 122], [4, 3, 1, 302, 192, 522, 64, 2, 122], [4, 3, 1, 302, 192, 522, 64, 2, 122], [4, 15, 1040, 122, 813, 49, 1336, 28], [4, 15, 1040, 122, 813, 49, 1336, 28], [4, 765, 17, 1, 461, 2, 6, 417, 3, 2074], [4, 765, 17, 1, 461, 2, 6, 417, 3, 2074], [4, 3, 21, 1011, 651, 10, 2075, 6, 1337], [4, 3, 21, 1011, 651, 10, 2075, 6, 1337], [23, 4, 199, 2, 122, 44, 6, 2076, 1041, 1338, 21, 2077, 2078, 418], [23, 4, 199, 2, 122, 44, 6, 2076, 1041, 1338, 21, 2077, 2078, 418], [44, 1, 700, 2, 122, 48, 1039, 2079, 10, 512, 467], [44, 1, 700, 2, 122, 48, 1039, 2079, 10, 512, 467], [8, 1, 131, 2080, 695, 23, 1040, 122], [8, 1, 131, 2080, 695, 23, 1040, 122], [3, 1, 71, 417, 523, 23, 6, 2081, 71], [3, 1, 71, 417, 523, 23, 6, 2081, 71], [4, 3, 1, 461, 2, 6, 417, 40], [4, 3, 1, 461, 2, 6, 417, 40], [4, 139, 2, 1, 417, 1252, 1, 247, 1042], [4, 139, 2, 1, 417, 1252, 1, 247, 1042], [4, 3, 1, 302, 192, 522, 64, 2, 122], [4, 3, 1, 302, 192, 522, 64, 2, 122], [4, 77, 524, 241, 1, 131, 197, 1043], [4, 1339, 2082, 778, 51, 1204, 1205, 122], [4, 1339, 2082, 778, 51, 1204, 1205, 122], [4, 9, 522, 1042, 122, 2083, 40], [4, 9, 522, 1042, 122, 2083, 40], [3, 525, 1, 125, 2, 2084], [3, 525, 133, 24, 1, 1044, 3299, 2, 1, 3300, 200], [3, 96, 2, 525, 1, 42, 309, 96, 5, 525], [11, 164, 362, 14, 525, 701], [11, 19, 102, 8, 1, 3301, 3302, 746], [17, 3, 1, 405, 2, 1, 561, 148, 2, 2084], [8, 1, 3303, 1340, 5, 525], [3, 96, 2, 525, 479, 41, 1, 525, 264], [4, 3, 855, 16, 1, 99, 2, 451, 279], [3, 93, 21, 3304, 26], [3, 93, 6, 66, 3305, 60, 26, 2, 3306], [3, 1, 2085, 1341, 40, 1, 1677, 1341], [14, 93, 3307, 15, 3308, 3309], [8, 91, 93, 1878, 92, 334, 93], [9, 1138, 3310, 13, 1284, 287, 5, 93, 666], [3, 1, 3311, 2, 202, 316, 25, 316, 1232], [3, 30, 98, 31, 3312, 3313, 6, 99, 2, 3314, 1342], [3315, 9, 82, 2021, 3316, 3317, 1, 3318, 247, 13, 1303, 37, 9, 2085], [9, 19, 174, 1812, 1, 3319, 633, 2, 3320, 13, 129, 3321, 59, 3322, 24, 1, 94, 2, 647, 816], [9, 581, 3323, 5, 1, 720, 287, 3324, 2, 1, 26, 981, 1999, 312, 1843, 1343, 10, 1, 2086, 2087, 167, 547, 13, 375, 93], [3, 1, 130, 6, 321, 231], [3, 1, 130, 6, 321, 231], [3, 30, 391, 10, 626, 232, 34, 69, 59, 371, 2088], [3, 30, 391, 10, 626, 232, 34, 69, 59, 371, 2088], [9, 526, 1045, 232, 666, 5, 178, 2089], [9, 526, 1045, 232, 666, 5, 178, 2089], [4, 12, 691, 444, 1344, 20, 254, 130], [4, 12, 691, 444, 1344, 20, 254, 130], [17, 7, 6, 2090, 130, 72, 23, 6, 2091, 2092, 275], [17, 7, 6, 2090, 130, 72, 23, 6, 2091, 2092, 275], [17, 8, 1, 2093, 1046, 36, 305], [17, 8, 1, 2093, 1046, 36, 305], [4, 9, 1, 376, 89, 321, 524], [4, 9, 1, 376, 89, 321, 524], [17, 7, 1, 702, 130, 1047, 10, 129, 703, 2, 265], [17, 7, 1, 702, 130, 1047, 10, 129, 703, 2, 265], [4, 14, 1, 251, 3325, 753, 300, 3326, 1305], [9, 379, 2094, 2, 460], [9, 379, 2094, 2, 460], [9, 2095, 379, 704], [9, 2095, 379, 704], [14, 1, 791, 2, 379, 594, 2096], [14, 1, 791, 2, 379, 594, 2096], [11, 62, 12, 33, 379, 61], [11, 62, 12, 33, 379, 61], [5, 4, 111, 8, 1048, 1145, 1345], [5, 4, 111, 8, 1048, 1145, 1345], [4, 3, 1, 219, 47, 2, 1048], [4, 3, 1, 219, 47, 2, 1048], [4, 9, 168, 379, 40], [4, 9, 168, 379, 40], [4, 3, 2097, 333], [4, 3, 2097, 333], [12, 379, 3327, 1346, 24, 3328], [11, 19, 67, 278, 8, 272, 102, 1047, 753, 3329, 272, 243, 44, 331, 154, 2098, 22, 6, 36, 59, 302, 26], [5, 91, 154, 7, 1, 1233, 16, 332, 240], [3, 3330, 1, 245, 60, 26, 2, 1347], [5, 2099, 2024, 3, 3331, 1049, 46], [3, 154, 817, 5, 19, 345, 22, 6, 317, 26, 364, 25, 119], [4, 3, 595, 46, 28, 1, 3332, 1000, 16, 705, 3333], [3, 154, 1348, 2, 1, 276, 26], [9, 35, 175, 6, 793, 2, 675, 140, 5, 1509], [3, 30, 98, 31, 330, 1156, 1, 244, 1778, 16, 675, 140], [9, 1, 3334, 3335, 13, 3336, 1313, 3337], [11, 19, 67, 278, 7, 1, 1050, 2100, 28, 2101, 1050, 2102], [3, 202, 21, 3338, 26], [5, 1228, 3, 46, 34, 82], [9, 35, 77, 146, 71, 3339], [9, 3340, 3341, 5, 1, 2027], [3, 2, 1, 3342, 70, 202], [3, 202, 287, 582, 1, 276, 607], [7, 1, 1050, 2100, 28, 2101, 1050, 2102], [14, 6, 3343, 3344, 31, 1, 3345, 1026, 3, 1051], [9, 35, 279, 2, 202, 5, 95], [9, 35, 175, 190, 750, 2, 202, 1176, 5, 3346], [277, 3347, 76, 3348, 369, 3349, 3350, 13, 3351], [15, 3352, 2, 227, 10, 305, 5, 1, 608, 409, 5, 1, 3353, 1324, 75, 1, 3354], [12, 371, 2103, 2, 1052, 15, 1053], [12, 371, 2103, 2, 1052, 15, 1053], [12, 233, 195, 554, 506, 289], [12, 233, 195, 554, 506, 289], [9, 233, 1054, 16, 163, 1299], [9, 233, 1054, 16, 163, 1299], [4, 399, 44, 233, 790], [4, 399, 44, 233, 790], [4, 589, 6, 1052, 64, 10, 2104, 937, 315, 2105, 31, 305, 24, 81, 2106], [4, 589, 6, 1052, 64, 10, 2104, 937, 315, 2105, 31, 305, 24, 81, 2106], [11, 12, 233, 1055, 670], [11, 12, 233, 1055, 670], [12, 246, 233, 404, 100, 41, 168, 233], [12, 246, 233, 404, 100, 41, 168, 233], [12, 246, 233, 15, 211, 1053, 41, 168, 233], [12, 246, 233, 15, 211, 1053, 41, 168, 233], [9, 246, 564, 555, 3355, 41, 168, 233], [7, 136, 68, 69, 2, 1, 2107, 2, 340], [7, 136, 68, 69, 2, 1, 2107, 2, 340], [3, 1, 347, 291, 16, 340, 86, 75, 301], [3, 1, 347, 291, 16, 340, 86, 75, 301], [7, 136, 68, 6, 154, 377], [7, 136, 68, 6, 154, 377], [5, 4, 115, 8, 136, 68, 105], [5, 4, 115, 8, 136, 68, 105], [18, 7, 136, 68, 38], [18, 7, 136, 68, 38], [5, 4, 115, 8, 136, 68, 187, 1, 310, 311, 5, 172], [5, 4, 115, 8, 136, 68, 187, 1, 310, 311, 5, 172], [7, 136, 68, 36, 5, 29, 55, 10, 699, 1, 172, 818, 34, 1, 367, 137, 1349, 1350], [7, 136, 68, 36, 5, 29, 55, 10, 699, 1, 172, 818, 34, 1, 367, 137, 1349, 1350], [7, 136, 68, 1, 2108, 914, 2, 1, 310, 311, 5, 172], [7, 136, 68, 1, 2108, 914, 2, 1, 310, 311, 5, 172], [8, 136, 68, 2109, 322, 340], [8, 136, 68, 2109, 322, 340], [464, 136, 68, 7, 492, 269, 11, 91, 277, 27, 15, 49], [16, 11, 19, 67, 8, 136, 68, 61], [8, 136, 68, 61, 10, 48, 67, 91], [4, 7, 136, 3356, 805], [11, 91, 7, 136, 68, 17, 27, 205], [11, 19, 67, 278, 7, 30, 17, 27, 260, 1, 608, 5, 29, 55, 10, 699, 1, 172, 818, 34, 1, 3357, 137, 1349, 1350], [5, 1, 115, 2, 29, 545, 7, 68, 216, 1682, 1186, 2, 1, 1683, 652, 1187], [17, 7, 136, 68, 38], [8, 27, 158, 741, 760, 5, 1, 650, 2, 928, 13, 929], [8, 27, 452, 1, 310, 311, 5, 172], [3, 30, 98, 31, 68, 2110, 6, 2111, 502, 5, 3358, 3359], [68, 2110, 6, 2111, 502, 5, 4], [3, 35, 6, 68, 478, 24, 1, 537, 16, 340], [1674, 69, 3360, 23, 667, 730, 31, 1, 1686, 502, 5, 3361, 3362, 3363, 37, 3364, 598, 1, 3365, 388, 13, 3366, 3367, 3368], [4, 3, 136, 68], [18, 3, 136, 68, 23], [4, 14, 136, 68, 12], [4, 14, 136, 68, 12], [7, 85, 6, 93, 377], [7, 85, 6, 93, 377], [8, 85, 2112, 1, 2113, 766, 2, 1, 943], [8, 85, 2112, 1, 2113, 766, 2, 1, 943], [7, 85, 2114, 92, 2115, 264], [7, 85, 2114, 92, 2115, 264], [17, 7, 419, 785, 2, 554, 898], [17, 7, 419, 785, 2, 554, 898], [11, 19, 665, 2, 2116, 8, 1056, 15], [11, 19, 665, 2, 2116, 8, 1056, 15], [20, 8, 85, 1351, 22, 1, 1057, 2117], [20, 8, 85, 1351, 22, 1, 1057, 2117], [17, 8, 1056, 761, 1, 2118, 2, 1352], [17, 8, 1056, 761, 1, 2118, 2, 1352], [4, 2119, 8, 85, 2120, 16, 1334], [4, 2119, 8, 85, 2120, 16, 1334], [2121, 25, 4, 686, 2122, 289, 419, 2123, 5, 2124], [2121, 25, 4, 686, 2122, 289, 419, 2123, 5, 2124], [54, 469, 2125, 2, 4, 51, 2126, 10, 1, 507, 2127, 28, 1, 1208, 574], [54, 469, 2125, 2, 4, 51, 2126, 10, 1, 507, 2127, 28, 1, 1208, 574], [54, 149, 7, 38, 18], [4, 7, 1, 58, 2, 54, 469, 238], [4, 7, 1, 58, 2, 54, 469, 238], [11, 19, 2, 54, 469, 501, 8, 76, 61, 10, 2128], [11, 19, 2, 54, 469, 501, 8, 76, 61, 10, 2128], [54, 149, 771, 36, 431, 11, 19, 102, 5, 1034, 2129, 2130, 2, 2131], [54, 149, 771, 36, 431, 11, 19, 102, 5, 1034, 2129, 2130, 2, 2131], [5, 4, 115, 8, 54, 456, 10, 3369, 10, 138, 3370], [16, 11, 19, 67, 2, 54, 469, 170, 7, 29, 238, 492], [4, 3, 54, 149, 33, 328, 16], [12, 33, 503, 102, 3371, 3372], [3, 30, 98, 31, 503, 692, 6, 1353, 99, 2, 174], [9, 1, 393, 416, 2, 3373, 328, 10, 279], [3, 527, 1, 125, 2, 2132], [3, 1, 367, 2, 1018, 5, 527], [14, 527, 15, 3374, 3375], [17, 7, 527, 176], [18, 3, 1, 313, 2, 1, 1114, 133], [4, 3, 6, 3376], [3, 1, 137, 96, 2, 156, 3377, 5, 527], [39, 1, 156, 1451, 3378, 3379, 49, 784], [11, 19, 67, 278, 7, 1, 527, 2133, 1621, 1, 33, 3380, 5, 1, 53], [3, 1153, 448, 1267], [3, 527, 1, 125, 13, 42, 43, 2, 2132], [3, 1, 678, 560, 645, 5, 527, 2134], [1, 414, 1354, 86, 3381, 357, 2, 4], [3, 30, 98, 31, 1, 1058, 2, 1, 2135, 1059, 1, 776, 2, 1, 43], [1, 1058, 2, 1, 2135, 1059, 1, 776, 2, 4], [3, 657, 1, 125, 2, 1, 108, 499], [3, 657, 1, 125, 2, 1, 108, 499], [14, 2136, 70, 2137, 23, 6, 578, 418, 2, 634], [14, 2136, 70, 2137, 23, 6, 578, 418, 2, 634], [8, 3382, 337, 1184, 2, 1, 93, 3383, 5], [494, 11, 19, 140, 9, 157, 5, 657], [494, 11, 19, 140, 9, 157, 5, 657], [4, 188, 1, 2138, 413, 28, 1], [4, 188, 1, 2138, 413, 28, 1], [4, 43, 5, 1, 973, 39, 49, 2139, 10, 1355, 2, 2140], [4, 43, 5, 1, 973, 39, 49, 2139, 10, 1355, 2, 2140], [4, 243, 8, 54, 2141, 2, 2142, 2143], [4, 243, 8, 54, 2141, 2, 2142, 2143], [11, 8, 518, 3384, 3385, 807, 106, 1, 334, 3386], [9, 1, 292, 2, 6, 323, 293, 72, 2, 3387], [14, 6, 323, 293, 15, 6, 2144], [3, 293, 204, 5, 3388, 819], [37, 139, 2, 1, 292, 14, 1, 565, 3389, 3390], [5, 37, 409, 3, 293, 3391, 204], [14, 6, 323, 293, 15, 6, 3392], [3, 6, 186, 204, 25, 6, 3393, 153, 6, 293], [7, 407, 56, 21, 93, 2145], [7, 407, 56, 21, 93, 2145], [7, 56, 6, 2146, 706], [7, 56, 6, 2146, 706], [7, 56, 262, 6, 1207], [7, 56, 262, 6, 1207], [20, 7, 6, 83, 2, 1, 1060, 1356, 2, 2147], [20, 7, 6, 83, 2, 1, 1060, 1356, 2, 2147], [4, 8, 2148, 968, 593, 322], [4, 8, 2148, 968, 593, 322], [4, 8, 1, 96, 2, 2149, 253, 56], [4, 8, 1, 96, 2, 2149, 253, 56], [20, 7, 72, 10, 456, 814, 1, 3394], [8, 56, 1357, 1, 2150, 2, 131, 2151, 2152], [8, 56, 1357, 1, 2150, 2, 131, 2151, 2152], [8, 56, 2153, 24, 382, 5], [8, 56, 2153, 24, 382, 5], [8, 56, 446, 21, 2154, 720, 382], [8, 56, 446, 21, 2154, 720, 382], [8, 56, 322, 1, 434, 502, 820], [8, 56, 322, 1, 434, 502, 820], [7, 56, 38, 5, 807], [7, 56, 38, 5, 807], [4, 12, 116, 2155, 2, 597, 444, 10, 56, 22], [4, 12, 116, 2155, 2, 597, 444, 10, 56, 22], [20, 7, 1, 2156, 13, 1358, 2, 56], [20, 7, 1, 2156, 13, 1358, 2, 56], [4, 8, 56, 380, 31, 3, 46, 437, 1049, 5, 597, 2157], [4, 8, 56, 380, 31, 3, 46, 437, 1049, 5, 597, 2157], [14, 1, 2158, 2, 434, 920, 3395, 21, 3396, 532], [4, 7, 1, 56, 609, 36, 40], [4, 7, 1, 56, 609, 36, 40], [44, 3397, 544, 1061, 598, 3398, 6, 250], [4, 7, 407, 1359, 948], [4, 7, 407, 1359, 805], [11, 19, 67, 278, 8, 56, 949, 24, 1, 36, 3399, 2, 2159, 341, 23, 3400, 13, 3401, 472, 1209, 13, 472, 1209], [11, 19, 67, 278, 7, 30, 17, 27, 275, 1, 2160, 31, 27, 86, 1360, 13, 4, 3, 659, 40, 1, 56, 609], [11, 19, 67, 278, 7, 30, 17, 56, 821, 6, 1262, 10, 1, 467, 24, 1, 630, 2, 1, 3402, 1283, 2, 1, 200, 3403, 37, 3404, 5, 21, 3405, 3406, 5, 3407], [11, 19, 67, 278, 7, 30, 17, 27, 275, 31, 1, 3408, 3409, 2, 1018, 3410, 3411, 23, 3412, 2, 1, 3413, 3414, 932], [7, 382, 386, 362, 2, 1226, 16, 56], [7, 56, 159, 517, 434, 162, 22, 21, 3415, 10, 3416], [20, 205, 34, 29, 248, 34, 3417, 734, 24, 724], [17, 7, 407, 56, 38], [18, 8, 27, 429, 77, 1916], [20, 7, 38, 5, 3418, 3419, 553, 1811, 214, 657, 807], [3, 30, 98, 31, 1321, 621, 1, 2161, 2, 603, 3420, 3421], [1321, 621, 1, 2161, 2, 4], [7, 29, 336, 83, 2, 1, 1060, 1356], [7, 56, 706, 2, 1, 284, 1060, 3422], [3, 567, 221, 6, 366, 2, 94, 5, 3423], [7, 567, 3424, 5, 3425, 28, 3426, 3427], [20, 7, 1032, 567, 365, 28], [4, 3, 567, 3428], [4, 7, 1, 3429, 59, 492, 3430, 3431, 3432, 75], [3, 567, 418, 1, 584, 590, 418, 5, 1, 53], [3, 567, 473, 86, 75, 6, 202, 2162], [14, 1, 108, 113, 15, 6, 3433, 553, 1711], [8, 73, 138, 511, 606], [8, 73, 138, 511, 606], [7, 73, 38, 5, 1, 108, 113], [7, 73, 38, 5, 1, 108, 113], [7, 73, 2163, 28, 2164], [7, 73, 2163, 28, 2164], [17, 8, 73, 2165, 2166, 2167, 2168], [17, 8, 73, 2165, 2166, 2167, 2168], [4, 3, 1, 347, 291, 2169, 604, 2170, 2171, 59, 604, 2172], [4, 3, 1, 347, 291, 2169, 604, 2170, 2171, 59, 604, 2172], [7, 73, 1062, 22, 6, 2173, 2174], [7, 73, 1062, 22, 6, 2173, 2174], [4, 199, 2, 783, 8, 73, 380], [20, 7, 1, 725, 2, 1, 148, 2, 2175], [20, 7, 1, 725, 2, 1, 148, 2, 2175], [18, 8, 73, 138, 511, 606], [18, 8, 73, 138, 511, 606], [3, 234, 1, 125, 2, 95], [14, 234, 3434, 24, 1, 3435, 200], [12, 284, 3436, 988, 5, 234], [4, 3, 707, 70], [4, 9, 707, 317, 3437], [4, 3, 707, 3438, 871, 740, 754], [4, 3, 707, 682, 510, 740, 754], [4, 9, 3439, 3440, 3441, 3442, 40], [3, 234, 3443, 41, 1361, 5, 669], [3, 234, 24, 6, 200], [3, 234, 24, 6, 200], [14, 30, 890, 5, 234], [14, 30, 890, 5, 234], [7, 35, 6, 2176, 2177, 5], [7, 35, 6, 2176, 2177, 5], [20, 3, 1, 1063, 2, 234], [20, 3, 1, 1063, 2, 234], [11, 19, 2178, 9, 5, 234], [11, 19, 2178, 9, 5, 234], [1064, 1, 192, 2179, 5, 234], [1064, 1, 192, 2179, 5, 234], [4, 7, 707, 58, 5], [4, 7, 707, 58, 5], [411, 24, 1, 314, 5, 4, 115, 589, 1, 1065, 284, 2180, 988, 5, 234], [411, 24, 1, 314, 5, 4, 115, 589, 1, 1065, 284, 2180, 988, 5, 234], [18, 51, 1143, 23, 5, 1], [18, 51, 1143, 23, 5, 1], [9, 35, 175, 3444, 2, 3445, 3446, 3447, 1352, 3448, 13, 3449, 3450, 3451, 3452, 24, 1, 3453, 884, 2, 1, 234, 200], [14, 1, 127, 177, 61, 5, 214, 224], [14, 1, 127, 177, 61, 5, 214, 224], [12, 50, 15, 2181], [12, 50, 15, 2181], [12, 50, 161, 631], [12, 50, 161, 631], [4, 3, 21, 50, 671, 40], [4, 3, 21, 50, 671, 40], [18, 12, 155, 50, 61], [18, 12, 155, 50, 61], [32, 9, 50, 743, 10, 732, 2182], [32, 9, 50, 743, 10, 732, 2182], [12, 50, 676, 1362], [12, 50, 676, 1362], [12, 155, 50, 15, 6, 976, 2, 1254, 153, 2183], [12, 155, 50, 15, 6, 976, 2, 1254, 153, 2183], [3, 1, 177, 5, 1, 252, 55, 22, 1, 2184], [3, 1, 177, 5, 1, 252, 55, 22, 1, 2184], [9, 35, 315, 374, 86, 198, 5, 1, 108, 113], [9, 35, 315, 374, 86, 198, 5, 1, 108, 113], [7, 198, 1, 58, 2, 21, 2185, 2186], [7, 198, 1, 58, 2, 21, 2185, 2186], [3, 198, 6, 58, 5, 414], [3, 198, 6, 58, 5, 414], [4, 3, 1, 816, 2, 1, 58, 198], [4, 3, 1, 816, 2, 1, 58, 198], [20, 39, 1170, 21, 1066, 59, 1067, 86, 198], [20, 39, 1170, 21, 1066, 59, 1067, 86, 198], [4, 3, 1, 206, 2, 198], [4, 3, 1, 206, 2, 198], [4, 2187, 102, 15, 49, 86, 198], [4, 2187, 102, 15, 49, 86, 198], [4, 2188, 2189, 594, 6, 192, 1068, 86, 198], [4, 2188, 2189, 594, 6, 192, 1068, 86, 198], [3, 198, 1, 137, 125, 2, 6, 111], [3, 198, 414, 16, 1363, 54, 23, 3454, 822, 3455, 54], [3, 198, 414, 16, 1363, 54], [4, 3, 198], [39, 235, 749, 3456], [3, 6, 608, 2190, 1, 3457, 2190], [3, 2134, 235, 3458, 431, 1364, 140], [9, 1365, 894, 1965, 2191, 2, 1069], [14, 1, 576, 242, 222, 15, 372, 2192, 24, 81, 1070], [14, 1, 576, 242, 222, 15, 372, 2192, 24, 81, 1070], [12, 294, 453, 10, 1, 55, 1071], [12, 294, 453, 10, 1, 55, 1071], [44, 242, 294, 2193, 25, 245, 69, 2194], [44, 242, 294, 2193, 25, 245, 69, 2194], [4, 9, 515, 294, 89, 22], [4, 9, 515, 294, 89, 22], [4, 3, 1, 2195, 1072, 2, 1, 501, 2, 2196, 124], [4, 3, 1, 2195, 1072, 2, 1, 501, 2, 2196, 124], [4, 3, 1, 2197, 71, 16, 222], [4, 3, 1, 2197, 71, 16, 222], [37, 1066, 7, 1, 1067, 1, 2198, 294, 23], [37, 1066, 7, 1, 1067, 1, 2198, 294, 23], [4, 3, 1, 2199, 71, 16, 222], [4, 3, 1, 2199, 71, 16, 222], [37, 2200, 28, 2201, 2202, 3, 2203, 411, 24, 21, 477, 202, 1072, 124, 6, 2204, 20, 7, 2205, 92, 6, 222], [37, 2200, 28, 2201, 2202, 3, 2203, 411, 24, 21, 477, 202, 1072, 124, 6, 2204, 20, 7, 2205, 92, 6, 222], [9, 222, 281, 2, 1, 55, 1071], [9, 222, 281, 2, 1, 55, 1071], [12, 294, 708, 2206, 5, 2207], [12, 294, 708, 2206, 5, 2207], [3, 1, 1366, 222, 1, 42, 2208], [3, 1, 1366, 222, 1, 42, 2208], [4, 3, 1, 58, 2, 515, 294], [4, 3, 1, 58, 2, 515, 294], [18, 3, 1, 71, 222, 523, 23], [18, 3, 1, 71, 222, 523, 23], [4, 3, 1, 247, 89, 2209, 124, 6, 222], [4, 3, 1, 247, 89, 2209, 124, 6, 222], [9, 294, 13, 112, 281, 2, 1, 252, 55], [9, 294, 13, 112, 281, 2, 1, 252, 55], [4, 3, 1, 58, 2, 21, 488, 168], [4, 3, 1, 58, 2, 21, 488, 168], [4, 3, 1, 458, 2, 1, 576, 242, 222], [4, 3, 1, 458, 2, 1, 576, 242, 222], [3, 1, 410, 6, 83, 2, 1, 2210, 55], [3, 1, 410, 6, 83, 2, 1, 2210, 55], [9, 420, 959, 240], [9, 420, 959, 240], [9, 954, 6, 199, 2, 410], [9, 954, 6, 199, 2, 410], [4, 12, 420, 2211, 365, 779, 13, 2212, 2213, 420, 10, 12], [4, 12, 420, 2211, 365, 779, 13, 2212, 2213, 420, 10, 12], [4, 277, 6, 410, 12, 17, 2214, 28, 6, 2215], [4, 277, 6, 410, 12, 17, 2214, 28, 6, 2215], [4, 9, 1, 709, 610, 2, 6, 410, 111], [4, 9, 1, 709, 610, 2, 6, 410, 111], [277, 30, 48, 146, 16, 420, 10, 2216, 5, 669], [277, 30, 48, 146, 16, 420, 10, 2216, 5, 669], [124, 11, 19, 769, 2217, 277, 48, 2218, 10, 248, 168, 420], [124, 11, 19, 769, 2217, 277, 48, 2218, 10, 248, 168, 420], [277, 6, 410, 48, 593, 10, 3459, 495, 240, 1073, 22, 3460], [8, 1, 3461, 10, 324, 15, 3462], [9, 324, 348, 2, 823], [3, 1, 3463, 97, 1, 219, 97], [4, 321, 2219, 3, 1, 97, 46, 5], [4, 3, 1, 33, 146, 199, 2, 97], [11, 14, 6, 97, 468, 221], [11, 12, 324, 3464, 16, 368, 2220], [8, 3465, 3466, 254, 1, 97], [14, 6, 97, 15, 6, 1367, 824, 41, 6, 1368], [3, 1, 58, 2, 1, 1676, 463, 2, 6, 185, 40, 1, 3467], [12, 2221, 635, 2222, 23, 1, 52, 463], [12, 2221, 635, 2222, 23, 1, 52, 463], [12, 1074, 516, 15, 1051, 1221], [12, 1074, 516, 15, 1051, 1221], [11, 19, 465, 9, 52, 2223, 751, 92], [11, 19, 465, 9, 52, 2223, 751, 92], [18, 9, 1, 245, 916, 127, 516], [18, 9, 1, 245, 916, 127, 516], [11, 12, 52, 2224, 333], [11, 12, 52, 2224, 333], [9, 516, 213, 411], [9, 516, 213, 411], [18, 9, 185, 189, 2225], [18, 9, 185, 189, 2225], [3, 185, 2226, 262, 6, 1075], [3, 185, 2226, 262, 6, 1075], [9, 800, 1, 1354, 212, 2, 1, 2227, 2228], [9, 800, 1, 1354, 212, 2, 1, 2227, 2228], [12, 52, 591, 251], [12, 52, 591, 251], [9, 1369, 398, 52, 616, 2229], [1273, 11, 19, 47, 2, 800, 9, 492, 269], [1273, 11, 19, 47, 2, 800, 9, 492, 269], [18, 3, 1369, 398, 52, 616], [18, 3, 1369, 398, 52, 616], [4, 7, 1, 42, 296, 2230], [4, 7, 1, 42, 296, 2230], [3, 35, 6, 651, 10, 2231, 1, 280, 2, 6, 185], [3, 35, 6, 651, 10, 2231, 1, 280, 2, 6, 185], [44, 52, 586, 82, 163, 227, 486], [44, 52, 586, 82, 163, 227, 486], [9, 2232, 13, 2233, 1, 252, 2234], [9, 2232, 13, 2233, 1, 252, 2234], [9, 325, 6, 857, 957], [9, 325, 6, 857, 957], [9, 2235, 13, 1029, 5, 1, 252, 55, 2, 524, 22, 325], [9, 2235, 13, 1029, 5, 1, 252, 55, 2, 524, 22, 325], [18, 14, 1, 71, 165, 169, 23], [18, 14, 1, 71, 165, 169, 23], [4, 3, 1061, 20, 303, 325, 40], [4, 3, 1061, 20, 303, 325, 40], [11, 19, 292, 14, 6, 165, 528, 15], [11, 19, 292, 14, 6, 165, 528, 15], [4, 9, 325, 72, 2], [4, 9, 325, 72, 2], [11, 62, 15, 102, 49, 1370, 524, 153, 325], [11, 62, 15, 102, 49, 1370, 524, 153, 325], [2236, 3, 1, 2237, 611, 418, 2, 6, 165], [2236, 3, 1, 2237, 611, 418, 2, 6, 165], [9, 255, 3468, 72, 2, 3469], [3, 1, 255, 6, 3470, 10, 1, 1371], [51, 477, 3471, 72, 2, 3472], [18, 8, 1, 255, 1345], [4, 3, 1, 517, 1216, 1954, 5, 265], [11, 9, 3473, 710, 3474], [44, 6, 255, 48, 3475], [44, 6, 1051, 2238, 1372, 6, 62, 2238], [8, 3476, 3477, 5], [7, 144, 45, 6, 182, 2, 2239], [7, 144, 45, 6, 182, 2, 2239], [8, 144, 45, 380, 1, 2240, 2241, 2242], [8, 144, 45, 380, 1, 2240, 2241, 2242], [7, 144, 45, 817, 5, 309, 345], [7, 144, 45, 817, 5, 309, 345], [20, 8, 144, 45, 263], [20, 8, 144, 45, 263], [4, 8, 144, 45, 380, 5], [4, 8, 144, 45, 380, 5], [4, 3, 1, 599, 72, 28, 144, 45, 804, 22], [4, 3, 1, 599, 72, 28, 144, 45, 804, 22], [8, 144, 45, 105, 13, 521, 5, 1, 252, 409], [8, 144, 45, 105, 13, 521, 5, 1, 252, 409], [17, 8, 144, 45, 514, 13, 2243, 1, 1373], [17, 8, 144, 45, 514, 13, 2243, 1, 1373], [11, 62, 7, 144, 45, 6, 182, 34, 1, 96, 2, 806], [11, 62, 7, 144, 45, 6, 182, 34, 1, 96, 2, 806], [7, 144, 45, 21, 1076], [7, 144, 45, 21, 1076], [7, 45, 817, 5, 309, 345], [7, 45, 817, 5, 309, 345], [7, 45, 72, 6, 520, 5], [7, 45, 72, 6, 520, 5], [20, 72, 45, 6, 520], [20, 72, 45, 6, 520], [18, 7, 45, 38], [18, 7, 45, 38], [17, 8, 45, 521], [17, 8, 45, 521], [6, 115, 184, 3478, 13, 3479, 1, 1373, 4, 8, 45, 158], [7, 45, 249, 18, 27, 205, 59, 7, 27, 249, 2244, 1136], [7, 45, 249, 18, 27, 205, 59, 7, 27, 249, 2244, 1136], [8, 45, 263, 184, 27, 260, 182, 2, 1312, 172, 34, 1, 96, 2, 806], [8, 45, 263, 184, 27, 260, 182, 2, 1312, 172, 34, 1, 96, 2, 806], [4, 110, 5], [373, 144, 45, 38, 5, 688], [7, 144, 45, 38, 5, 688], [20, 260, 6, 182, 2, 172, 34, 1, 442, 360, 5, 688], [17, 7, 45, 72, 6, 520, 28, 2245], [3, 3480, 1035, 1163, 28, 6, 3481, 24, 1, 3482, 2, 1174, 688, 5, 1, 461, 2, 1, 2162], [3, 1, 599, 72, 28, 45, 804, 22, 1, 36, 3483, 1160], [7, 45, 72, 6, 520, 28, 2245, 5], [5, 4, 115, 8, 27, 158, 6, 182, 2, 172, 34, 1, 442, 360, 5, 688], [7, 65, 6, 182, 34, 1, 96, 2, 387], [7, 65, 6, 182, 34, 1, 96, 2, 387], [7, 27, 6, 83, 2, 1, 442, 2246, 1258, 24, 309, 2247], [7, 27, 6, 83, 2, 1, 442, 2246, 1258, 24, 309, 2247], [3, 196, 99, 46, 10, 843, 1, 618, 2, 434, 844], [3, 196, 99, 46, 10, 843, 1, 618, 2, 434, 844], [20, 36, 689, 1, 690, 2, 196, 99], [20, 36, 689, 1, 690, 2, 196, 99], [4, 14, 196, 181, 114], [4, 14, 196, 181, 114], [20, 2248, 31, 196, 299, 403, 5, 2249, 2250], [20, 2248, 31, 196, 299, 403, 5, 2249, 2250], [5, 4, 26, 7, 29, 388, 435], [5, 4, 26, 7, 29, 388, 435], [20, 7, 196, 557], [20, 7, 196, 557], [32, 8, 65, 794, 29, 818, 34, 1, 96, 2, 387], [32, 8, 65, 794, 29, 818, 34, 1, 96, 2, 387], [7, 225, 65, 7, 38, 5, 387], [7, 225, 65, 7, 38, 5, 387], [3, 65, 2251, 22, 6, 2252, 2, 1, 2253, 299], [3, 65, 2251, 22, 6, 2252, 2, 1, 2253, 299], [8, 2254, 2255, 1023, 36, 2256, 1, 690, 2, 196, 99], [8, 2254, 2255, 1023, 36, 2256, 1, 690, 2, 196, 99], [5, 65, 260, 6, 182, 2, 172, 18], [5, 65, 260, 6, 182, 2, 172, 18], [65, 8, 76, 984, 64, 4, 71], [65, 8, 76, 984, 64, 4, 71], [1, 99, 2, 1315, 2257, 5, 2258, 2, 6, 502, 3, 89, 22, 4], [1, 99, 2, 1315, 2257, 5, 2258, 2, 6, 502, 3, 89, 22, 4], [4, 277, 6, 202, 773, 196, 99], [4, 277, 6, 202, 773, 196, 99], [3, 225, 65, 433], [3, 225, 65, 433], [8, 27, 158, 6, 182, 184, 1, 2259, 2260, 566, 1, 617, 2, 2261], [8, 27, 158, 6, 182, 184, 1, 2259, 2260, 566, 1, 617, 2, 2261], [12, 135, 453, 10, 1, 1374, 206], [12, 135, 453, 10, 1, 1374, 206], [9, 135, 46, 5, 711], [9, 135, 46, 5, 711], [14, 21, 135, 273, 406, 2262, 539], [14, 21, 135, 273, 406, 2262, 539], [11, 12, 33, 135, 456], [11, 12, 33, 135, 456], [5, 712, 441, 4, 9, 1, 2263, 168, 135, 40], [5, 712, 441, 4, 9, 1, 2263, 168, 135, 40], [20, 821, 124, 135, 5, 6, 2264, 2265], [20, 821, 124, 135, 5, 6, 2264, 2265], [12, 1, 135, 161, 541, 3484, 59, 371], [4, 539, 3485, 6, 3486, 712, 81, 747, 3487], [4, 392, 942, 10, 1077, 2266, 135, 464, 691, 64, 389, 94, 24, 1, 1375], [4, 392, 942, 10, 1077, 2266, 135, 464, 691, 64, 389, 94, 24, 1, 1375], [9, 135, 261, 5, 3488], [12, 246, 135, 337, 1835, 184, 564], [12, 3489, 135, 15, 1070], [4, 9, 1, 297, 3490, 2, 21, 712], [4, 9, 1, 712, 441, 31, 3491, 2030, 40], [18, 9, 3492, 135, 133], [12, 135, 453, 10, 1, 252, 206, 22, 694], [4, 3, 1, 33, 146, 458, 2, 135], [12, 82, 135, 756, 3493], [3494, 3495, 7, 36, 275, 5, 135, 28, 798, 20, 5], [12, 135, 3496, 5, 33, 3497], [9, 393, 47, 2, 135, 1376, 10, 64, 1, 3498, 604, 596], [9, 3499, 984, 100, 3500, 558, 10, 3501, 22, 218, 22, 3502], [12, 116, 3503, 468, 3504, 22, 218, 22, 1078], [8, 135, 695, 23, 3505, 3506, 5, 1, 3507, 438, 167, 13, 1010, 67, 278, 13, 3508, 75, 1, 3509, 2, 3510, 541], [3, 1, 712, 6, 1218], [9, 285, 3511, 3512, 28, 163, 3513, 1119, 13, 6, 1861, 3514, 3515, 31, 1146, 6, 3516, 3517], [3, 470, 6, 43], [3, 470, 6, 3518], [3, 470, 5, 2099], [4, 3, 470], [4, 3, 1, 70, 2, 1, 43, 2, 470], [18, 3, 1, 43, 2, 470], [32, 3, 470, 266, 10, 3519], [470, 3, 10, 1, 400, 2, 4, 200], [11, 19, 583, 14, 470, 15], [3, 119, 6, 802, 1079, 26], [7, 119, 6, 682, 1746, 2, 994, 5, 265], [3, 119, 1080, 3520, 1079, 140], [11, 19, 102, 331, 1, 119, 26], [17, 7, 119, 3521, 3522], [18, 3, 119, 157], [32, 3, 119, 558, 10, 763], [32, 14, 119, 459, 552, 244, 140], [3, 119, 1, 42, 83, 2, 1, 1079, 26, 55], [3, 119, 1, 42, 83, 2, 1, 1079, 26, 55], [14, 131, 178, 119, 1319, 10, 695, 153, 129, 140], [14, 131, 178, 119, 1319, 10, 695, 153, 129, 140], [3, 2267, 119, 157, 5, 2268], [3, 2267, 119, 157, 5, 2268], [4, 3, 1, 245, 793, 2, 131, 119, 31, 39, 2269, 60, 26, 986], [4, 3, 1, 245, 793, 2, 131, 119, 31, 39, 2269, 60, 26, 986], [1076, 119, 3, 157, 28, 11, 19, 5, 147], [1076, 119, 3, 157, 28, 11, 19, 5, 147], [18, 9, 1, 343, 119, 2270, 46], [18, 9, 1, 343, 119, 2270, 46], [1, 33, 642, 3523, 2, 119, 26, 9, 261, 18], [2271, 2272, 3, 6, 1057, 2, 4, 2273], [2271, 2272, 3, 6, 1057, 2, 4, 2273], [3, 236, 1, 125, 43, 2, 612], [3, 236, 1, 125, 43, 2, 612], [3, 236, 1, 42, 43, 5, 612], [3, 236, 1, 42, 43, 5, 612], [3, 2274, 2275, 1, 42, 2276, 1081, 5, 236], [3, 2274, 2275, 1, 42, 2276, 1081, 5, 236], [37, 421, 3, 1, 1377, 2, 1, 202, 648], [37, 421, 3, 1, 1377, 2, 1, 202, 648], [37, 77, 484, 2277, 8, 1, 2278, 685], [37, 77, 484, 2277, 8, 1, 2278, 685], [18, 3, 1, 2279, 2280, 133], [18, 3, 1, 2279, 2280, 133], [37, 236, 421, 8, 2281, 1082, 2282, 2283, 5, 1], [37, 236, 421, 8, 2281, 1082, 2282, 2283, 5, 1], [32, 3, 2284, 2285, 2286, 2287, 24, 2288, 2289, 1271, 529], [32, 3, 2284, 2285, 2286, 2287, 24, 2288, 2289, 1271, 529], [4, 9, 1, 319, 2, 1, 77, 2290, 5, 236], [4, 9, 1, 319, 2, 1, 77, 2290, 5, 236], [3, 236, 1, 1875, 2, 3524], [14, 1, 3525, 270, 1, 154, 2291], [3, 1, 3526, 1871, 369, 2, 236], [18, 3, 1, 3527, 2, 1375, 3528], [18, 14, 1, 202, 57, 61], [17, 8, 236, 195, 289, 81, 986, 22, 6, 2292, 3529, 43], [37, 3, 1, 1378, 963, 5, 236], [11, 19, 933, 3530, 7, 612, 306, 92, 75, 1, 148], [18, 7, 3531, 403, 184, 1990, 10, 236], [20, 7, 601, 825, 336], [20, 7, 601, 825, 336], [7, 151, 6, 154, 696], [7, 151, 6, 154, 696], [8, 151, 15, 466, 1323, 697, 29, 170], [8, 151, 15, 466, 1323, 697, 29, 170], [11, 91, 7, 151, 17, 27, 759, 29, 238], [11, 91, 7, 151, 17, 27, 759, 29, 238], [20, 7, 825, 1379, 680], [20, 7, 825, 1379, 680], [4, 930, 151, 10, 29, 396, 2293], [4, 930, 151, 10, 29, 396, 2293], [11, 91, 7, 151, 17, 27, 205], [11, 91, 7, 151, 17, 27, 205], [8, 151, 668, 124, 3532, 184], [3, 35, 6, 2294, 26, 40, 151], [3, 35, 6, 2294, 26, 40, 151], [3533, 2, 3534, 1380, 10, 1351, 13, 3535, 1, 3536, 82, 2, 2295, 18, 3537, 6, 3538], [373, 601, 151, 6, 162, 2, 3539, 24, 3540, 1120], [20, 205, 1, 1065, 3541], [17, 8, 29, 336, 105], [17, 8, 29, 336, 105], [7, 27, 6, 1381, 3542, 20, 7, 1382, 28, 29, 336, 6, 518, 1809], [7, 825, 517, 162, 5, 1, 777, 13, 3543, 1187, 18, 27, 72, 266, 1110, 10, 1, 1329, 2, 3544, 3545, 1, 138, 2, 3546, 13, 3547, 1, 3548, 2, 729, 13, 3549, 28, 3550, 1, 162, 2, 3551, 3552], [8, 151, 175, 668, 5, 850, 2, 1, 727, 951], [12, 1083, 341, 1078], [12, 1083, 15, 77, 826], [14, 6, 242, 3553, 304, 31, 1061, 39, 205], [4, 3, 1, 3554, 976, 2, 1, 3555, 72, 2], [18, 7, 35, 6, 1140, 3556, 2, 1083], [4, 2296, 3, 1144], [12, 1083, 3557, 100, 3558, 41, 1374], [4, 1147, 1, 2296, 10, 3559, 363], [4, 765, 464, 6, 3560, 3, 3561], [7, 104, 66, 63, 6, 414, 2297], [7, 104, 66, 63, 6, 414, 2297], [7, 1, 347, 291, 2, 474, 86, 75, 104, 66, 63], [7, 1, 347, 291, 2, 474, 86, 75, 104, 66, 63], [7, 104, 66, 63, 296, 1084, 34, 1383, 2298], [7, 104, 66, 63, 296, 1084, 34, 1383, 2298], [4, 3, 104, 66, 63, 247, 89, 16], [4, 3, 104, 66, 63, 247, 89, 16], [698, 1058, 799, 104, 66, 605, 730, 24, 1, 2299, 2, 2300], [698, 1058, 799, 104, 66, 605, 730, 24, 1, 2299, 2, 2300], [17, 8, 104, 66, 63, 1016, 29, 572, 55, 5, 3562], [8, 104, 66, 63, 169, 23, 6, 466, 55], [8, 104, 66, 63, 169, 23, 6, 466, 55], [4, 3, 605, 181], [4, 3, 605, 181], [18, 3, 1384, 652, 1385, 133], [18, 3, 1384, 652, 1385, 133], [4, 110, 5], [4, 110, 5, 10], [1386, 300, 1387, 4, 8, 1, 574, 12], [20, 728, 10, 3563, 3564], [17, 8, 63, 3565, 10, 568], [14, 63, 649, 6, 1035, 22, 6, 3566, 5, 1, 596, 2, 2059, 606, 16, 29, 998, 10, 3567, 1388, 569], [8, 1, 55, 810, 10, 568, 22, 218, 22, 35, 63, 1951, 34, 1, 3568, 1384, 652, 1385], [7, 63, 38, 5, 3569, 2301, 10, 6, 2302, 55], [3, 27, 247, 89, 16, 1389, 605, 181, 1, 731, 2, 1, 1330, 1331, 2, 1332, 13, 1333], [1, 347, 291, 2, 474, 1, 63, 7, 86, 75, 301], [8, 63, 105, 5, 1033, 330, 10, 6, 2302, 55], [9, 82, 157, 613, 2, 128, 2303, 13, 2304], [9, 82, 157, 613, 2, 128, 2303, 13, 2304], [3, 1390, 1219, 59, 100, 2, 150, 1085, 2, 128, 816], [3, 1390, 1219, 59, 100, 2, 150, 1085, 2, 128, 816], [14, 2305, 169, 23, 1, 2306, 674, 2, 2307], [14, 2305, 169, 23, 1, 2306, 674, 2, 2307], [4, 3, 1, 33, 146, 2308, 178, 16, 178, 815, 269], [4, 3, 1, 33, 146, 2308, 178, 16, 178, 815, 269], [4, 3, 1, 60, 178, 26, 46, 28, 1, 482, 283, 2, 274, 1, 283, 2, 274, 13, 142, 18, 30, 3, 40, 2309], [4, 3, 1, 60, 178, 26, 46, 28, 1, 482, 283, 2, 274, 1, 283, 2, 274, 13, 142, 18, 30, 3, 40, 2309], [11, 19, 273, 2310, 16, 1068, 2311, 14, 1, 2312, 2313, 406], [11, 19, 273, 2310, 16, 1068, 2311, 14, 1, 2312, 2313, 406], [4, 14, 1, 2314, 226, 1086, 22, 2315, 2316, 2317], [4, 14, 1, 2314, 226, 1086, 22, 2315, 2316, 2317], [11, 3, 214, 274, 3570, 316, 23, 369, 274], [2318, 59, 2319, 2320, 23, 2321, 13, 2322, 711, 9, 2323, 174, 23, 37, 26], [2318, 59, 2319, 2320, 23, 2321, 13, 2322, 711, 9, 2323, 174, 23, 37, 26], [4, 3, 1, 2324, 241, 2, 157, 128], [4, 3, 1, 2324, 241, 2, 157, 128], [3, 2325, 6, 146, 708, 5, 1141, 274, 13, 2326], [3, 2325, 6, 146, 708, 5, 1141, 274, 13, 2326], [12, 1087, 183, 2327, 128, 22, 6, 26, 55], [12, 1087, 183, 2327, 128, 22, 6, 26, 55], [17, 8, 323, 128, 2328, 383], [17, 8, 323, 128, 2328, 383], [11, 14, 1, 226, 2, 1, 482, 283, 2, 274, 183, 444, 10, 82, 2329, 2, 1, 2330, 140, 1391, 178, 815], [11, 14, 1, 226, 2, 1, 482, 283, 2, 274, 183, 444, 10, 82, 2329, 2, 1, 2330, 140, 1391, 178, 815], [17, 7, 334, 128, 46], [17, 7, 334, 128, 46], [11, 3, 1, 674, 2, 744, 174, 728], [11, 3, 1, 674, 2, 744, 174, 728], [4, 3, 1, 549, 99, 2, 128, 174], [4, 26, 7, 46, 5, 1, 3571, 13, 412, 3572], [3, 6, 457, 175, 89, 22, 6, 590, 1227], [3, 6, 457, 175, 89, 22, 6, 590, 1227], [9, 713, 211, 41, 2331], [9, 713, 211, 41, 2331], [14, 1, 53, 903, 508, 1027, 1, 457, 6, 491, 2332, 47], [14, 1, 53, 903, 508, 1027, 1, 457, 6, 491, 2332, 47], [4, 9, 116, 2, 1, 713, 317, 333, 529], [4, 9, 116, 2, 1, 713, 317, 333, 529], [11, 62, 9, 457, 488, 563, 23, 2333, 10, 780], [11, 62, 9, 457, 488, 563, 23, 2333, 10, 780], [11, 62, 3, 21, 488, 713, 2334, 2335], [11, 62, 3, 21, 488, 713, 2334, 2335], [4, 9, 1, 297, 2336, 509, 5, 1, 53], [4, 9, 1, 297, 2336, 509, 5, 1, 53], [24, 314, 9, 457, 563, 883, 41, 564], [24, 314, 9, 457, 563, 883, 41, 564], [4, 9, 1, 297, 2337, 47, 31, 9, 451, 10, 95], [4, 9, 1, 297, 2337, 47, 31, 9, 451, 10, 95], [3, 69, 2, 1, 703, 2, 6, 417, 40, 6, 3573], [9, 3574, 122, 448, 146], [14, 3575, 341, 122], [4, 139, 2, 1, 417, 3, 1, 3576], [1064, 1, 3577, 2, 477, 3578, 153, 2338], [4, 14, 30, 221, 153, 10, 254, 122, 25, 6, 152, 3579], [4, 9, 122, 72, 2], [11, 19, 122, 1392, 774, 5, 6, 197, 1043], [4, 919, 2, 321, 465, 64, 122], [3, 1, 3580, 939, 25, 1393, 873, 22, 218, 22, 476, 3581], [14, 3582, 10, 251, 587, 1, 3583, 10, 383, 3584], [3, 30, 1277, 28, 190, 3585, 826, 77, 2339, 2, 2340, 3586, 1070, 13, 21, 3587, 366], [3, 1, 197, 6, 83, 2, 1, 614, 212], [3, 1, 197, 6, 83, 2, 1, 614, 212], [14, 575, 199, 2, 197, 273, 429, 81, 546, 321, 2341], [14, 575, 199, 2, 197, 273, 429, 81, 546, 321, 2341], [3, 1, 2342, 6, 199, 2, 197], [3, 1, 2342, 6, 199, 2, 197], [11, 62, 39, 1, 471, 569, 2, 1, 197, 2343, 2344], [11, 62, 39, 1, 471, 569, 2, 1, 197, 2343, 2344], [4, 3, 1, 302, 752, 2345, 2346, 1, 221, 931, 28, 6, 197], [4, 3, 1, 302, 752, 2345, 2346, 1, 221, 931, 28, 6, 197], [28, 4, 58, 9, 166, 1080, 22, 361, 1, 614, 212], [28, 4, 58, 9, 166, 1080, 22, 361, 1, 614, 212], [11, 12, 904, 13, 1394, 2347, 153, 163, 2348], [11, 12, 904, 13, 1394, 2347, 153, 163, 2348], [3588, 3, 1, 58, 16, 166, 31, 15, 6, 1998, 2, 3589, 403, 753, 116, 2, 82, 2, 1, 197, 1008], [188, 1, 166, 49, 46, 5, 1395, 1396, 401, 184, 2349], [188, 1, 166, 49, 46, 5, 1395, 1396, 401, 184, 2349], [3, 1, 197, 6, 83, 2, 1, 614, 212], [3, 1, 197, 6, 83, 2, 1, 614, 212], [9, 166, 183, 46, 5, 422, 1397], [9, 166, 183, 46, 5, 422, 1397], [12, 166, 1007, 2, 34, 491, 2350, 2351], [12, 166, 1007, 2, 34, 491, 2350, 2351], [4, 39, 1, 33, 609, 24, 11, 6, 197, 1078], [4, 39, 1, 33, 609, 24, 11, 6, 197, 1078], [20, 348, 6, 1043, 582, 2352, 13, 2353, 1398, 166], [20, 348, 6, 1043, 582, 2352, 13, 2353, 1398, 166], [166, 9, 528, 204, 28, 4], [166, 9, 528, 204, 28, 4], [39, 1, 569, 2, 166, 2354, 2355], [39, 1, 569, 2, 166, 2354, 2355], [44, 116, 2356, 463, 166, 15, 749, 197, 1008], [44, 116, 2356, 463, 166, 15, 749, 197, 1008], [14, 1399, 1400, 341, 1, 252, 221], [14, 1399, 1400, 341, 1, 252, 221], [2357, 166, 183, 46, 5, 422, 1397], [2357, 166, 528, 204, 28, 1, 2358], [9, 166, 528, 204, 28, 1, 2358], [12, 19, 1073, 166, 15, 1151, 10, 992, 3590, 3591], [12, 166, 1007, 2, 34, 491, 69, 3592, 40, 6, 1400, 59, 197, 447, 31, 3, 3593, 494, 6, 463, 13, 3594, 2098, 2359, 25, 703, 2, 6, 827, 366, 59, 25, 116, 1225, 2, 3595, 1073, 22, 6, 3596, 10, 468, 221], [15, 129, 3597, 49, 46, 10, 587, 166, 10, 341, 221, 1073, 22, 1, 3598, 1394], [3, 1, 603, 530, 6, 98, 530], [3, 1, 603, 530, 6, 98, 530], [9, 33, 423, 363], [9, 33, 423, 363], [3, 530, 1088, 2360, 10, 460], [3, 530, 1088, 2360, 10, 460], [11, 19, 47, 2, 98, 423, 9, 35], [11, 19, 47, 2, 98, 423, 9, 35], [18, 3, 1298, 530, 262, 6, 1075], [18, 3, 1298, 530, 262, 6, 1075], [11, 12, 423, 383, 170], [11, 12, 423, 383, 170], [4, 633, 2, 1401, 12, 423, 15], [4, 633, 2, 1401, 12, 423, 15], [4, 12, 2361, 161], [4, 12, 2361, 161], [12, 82, 423, 61, 5, 2362, 94], [12, 82, 423, 61, 5, 2362, 94], [3, 286, 21, 60, 26, 2, 1, 244, 508], [3, 286, 21, 60, 26, 2, 1, 244, 508], [9, 1, 416, 2, 286, 306, 92, 77, 465], [9, 1, 416, 2, 286, 306, 92, 77, 465], [3, 286, 1402, 28, 93], [3, 286, 1402, 28, 93], [17, 8, 2363, 26, 1340, 5, 132], [17, 8, 2363, 26, 1340, 5, 132], [4, 9, 2364, 610, 2, 286], [4, 9, 2364, 610, 2, 286], [18, 3, 1, 2365, 26, 157], [18, 3, 1, 2365, 26, 157], [16, 11, 62, 39, 1, 2366, 2, 416, 157, 814, 2, 132, 49, 6, 1260, 532], [16, 11, 62, 39, 1, 2366, 2, 416, 157, 814, 2, 132, 49, 6, 1260, 532], [20, 821, 1, 36, 2367, 5, 286], [20, 821, 1, 36, 2367, 5, 286], [4, 2368, 2369, 1, 60, 286, 26], [4, 2368, 2369, 1, 60, 286, 26], [4, 3, 1, 517, 1009, 2370, 130], [4, 3, 1, 517, 1009, 2370, 130], [17, 14, 6, 130, 468, 221], [17, 14, 6, 130, 468, 221], [11, 44, 6, 232, 2371, 48, 2372], [11, 44, 6, 232, 2371, 48, 2372], [12, 2373, 232, 15, 2374, 2375], [12, 2373, 232, 15, 2374, 2375], [18, 7, 1, 376, 130, 296, 275, 261], [18, 7, 1, 376, 130, 296, 275, 261], [9, 343, 232, 2376, 41, 526, 232], [9, 343, 232, 2376, 41, 526, 232], [32, 3, 6, 2377, 1046, 448, 578, 16, 81, 611], [32, 3, 6, 2377, 1046, 448, 578, 16, 81, 611], [4, 9, 1, 77, 192, 613, 2, 526, 232], [4, 9, 1, 77, 192, 613, 2, 526, 232], [39, 1, 130, 49, 2378, 10, 512, 467], [39, 1, 130, 49, 2378, 10, 512, 467], [7, 1, 702, 130, 46, 5, 819], [7, 1, 702, 130, 46, 5, 819], [44, 6, 130, 48, 204, 25, 393, 316, 251, 529], [44, 6, 130, 48, 204, 25, 393, 316, 251, 529], [17, 7, 1, 702, 130, 46, 5, 819], [17, 7, 1, 702, 130, 46, 5, 819], [17, 8, 1045, 232, 383, 3599, 5, 1045, 3600], [11, 19, 192, 613, 2, 526, 232, 9, 2379, 46], [11, 19, 192, 613, 2, 526, 232, 9, 2379, 46], [4, 2380, 3, 6, 2381, 130, 2382, 23], [4, 2380, 3, 6, 2381, 130, 2382, 23], [11, 14, 6, 130, 1041, 2383, 1, 611, 2, 1, 221], [11, 14, 6, 130, 1041, 2383, 1, 611, 2, 1, 221], [4, 3, 1, 33, 471, 241, 2, 1, 130], [4, 3, 1, 33, 471, 241, 2, 1, 130], [39, 1, 1012, 1037, 1269, 22, 2384, 137, 2385], [39, 1, 1012, 1037, 1269, 22, 2384, 137, 2385], [12, 295, 2386], [12, 295, 2386], [12, 127, 295, 1403, 460], [12, 127, 295, 1403, 460], [4, 55, 3, 1, 208, 6, 139, 2], [4, 55, 3, 1, 208, 6, 139, 2], [11, 62, 14, 30, 337, 16, 1, 208, 977, 447, 10, 971, 339], [11, 62, 14, 30, 337, 16, 1, 208, 977, 447, 10, 971, 339], [11, 19, 316, 319, 8, 128, 2387, 195, 10, 1, 208], [11, 19, 316, 319, 8, 128, 2387, 195, 10, 1, 208], [4, 2388, 12, 295, 161], [4, 2388, 12, 295, 161], [4, 9, 1, 77, 1089, 2, 127, 295], [4, 9, 1, 77, 1089, 2, 127, 295], [4, 3, 208, 2389], [4, 3, 208, 2389], [3, 1, 127, 208, 6, 307], [3, 1, 127, 208, 6, 307], [3, 1, 127, 208, 6, 1074, 332], [3, 1, 127, 208, 6, 1074, 332], [3, 1, 127, 208, 21, 704, 47], [3, 1, 127, 208, 21, 704, 47], [18, 12, 127, 295, 61], [18, 12, 127, 295, 61], [17, 7, 1, 127, 295, 1292, 2390], [17, 7, 1, 127, 295, 1292, 2390], [11, 19, 1089, 2, 1, 127, 208, 9, 35], [11, 19, 1089, 2, 1, 127, 208, 9, 35], [3, 1, 127, 208, 6, 1256], [32, 3, 1, 127, 208, 21, 704, 47], [32, 3, 1, 127, 208, 21, 704, 47], [3, 1, 70, 2, 398, 127, 295, 902], [3, 1, 70, 2, 398, 127, 295, 902], [3, 21, 2391, 186, 1025, 24, 21, 2392, 2393], [3, 21, 2391, 186, 1025, 24, 21, 2392, 2393], [3, 1, 2394, 495, 41, 6, 323, 186], [3, 1, 2394, 495, 41, 6, 323, 186], [3, 1, 2395, 186, 489, 10, 1, 323, 186], [3, 1, 2395, 186, 489, 10, 1, 323, 186], [18, 3, 1, 2396, 133], [18, 3, 1, 2396, 133], [440, 9, 424, 72, 13, 2397, 28], [440, 9, 424, 72, 13, 2397, 28], [4, 9, 131, 186, 292, 348, 2], [4, 9, 131, 186, 292, 348, 2], [32, 9, 1404, 424, 878, 10, 1086], [32, 9, 1404, 424, 878, 10, 1086], [4, 3, 1, 1036, 46, 16], [4, 3, 1, 1036, 46, 16], [37, 424, 64, 297, 2398, 2399], [37, 424, 64, 297, 2398, 2399], [3, 6, 186, 21, 231], [3, 6, 186, 21, 231], [44, 424, 48, 306, 92, 77, 1405, 2400], [44, 424, 48, 306, 92, 77, 1405, 2400], [12, 2401, 169, 5, 19, 2402, 13, 2403], [12, 2401, 169, 5, 19, 2402, 13, 2403], [11, 19, 292, 14, 6, 186, 1392, 15], [11, 19, 292, 14, 6, 186, 1392, 15], [4, 3, 133, 34, 1, 405, 2, 1, 186, 2404, 2405, 23, 1, 366], [4, 3, 133, 34, 1, 405, 2, 1, 186, 2404, 2405, 23, 1, 366], [4, 9, 33, 603, 186, 1316, 72, 2], [4, 9, 33, 603, 186, 1316, 72, 2], [32, 12, 116, 102, 2406, 31, 2407, 102, 1031, 1237, 10, 254, 424, 22, 2408, 102, 12], [32, 12, 116, 102, 2406, 31, 2407, 102, 1031, 1237, 10, 254, 424, 22, 2408, 102, 12], [11, 91, 3, 1, 376, 89, 2409, 2, 6, 2410, 2411, 312, 204], [11, 91, 3, 1, 376, 89, 2409, 2, 6, 2410, 2411, 312, 204], [4, 3, 1, 329, 40, 31, 3, 2412, 59, 2413, 10, 1, 366, 2, 1, 186], [4, 3, 1, 329, 40, 31, 3, 2412, 59, 2413, 10, 1, 366, 2, 1, 186], [8, 68, 138, 597, 34, 1, 3601, 652, 3602, 2064, 3603], [8, 27, 158, 741, 760, 5, 1, 650, 2, 928, 13, 929, 5], [8, 27, 158, 741, 760, 5, 1, 650, 2, 928, 13, 929, 5], [7, 68, 6, 154, 377], [7, 68, 6, 154, 377], [440, 8, 27, 452, 1, 310, 311, 25], [440, 8, 27, 452, 1, 310, 311, 25], [17, 8, 27, 105], [17, 8, 27, 105], [4, 3, 1, 347, 291, 16, 340, 40], [4, 3, 1, 347, 291, 16, 340, 40], [17, 68, 275, 340, 698, 162, 8, 27, 761], [17, 68, 275, 340, 698, 162, 8, 27, 761], [18, 9, 35, 2414, 86, 68], [18, 9, 35, 2414, 86, 68], [32, 8, 2415, 187, 1, 310, 311, 5, 172], [32, 8, 2415, 187, 1, 310, 311, 5, 172], [7, 145, 85, 547], [7, 145, 85, 547], [7, 145, 85, 396], [7, 145, 85, 396], [8, 145, 85, 105, 5], [8, 145, 85, 105, 5], [18, 7, 145, 85, 38], [18, 7, 145, 85, 38], [20, 1193, 2416, 25, 145, 85, 16, 1389, 2417], [20, 1193, 2416, 25, 145, 85, 16, 1389, 2417], [17, 8, 145, 85, 322, 1, 2418, 2419, 2420], [17, 8, 145, 85, 322, 1, 2418, 2419, 2420], [8, 1, 2421, 552, 419, 299, 2, 1090], [8, 1, 2421, 552, 419, 299, 2, 1090], [51, 419, 396, 2422, 2423, 25, 2424], [51, 419, 396, 2422, 2423, 25, 2424], [37, 1346, 799, 145, 419, 299, 2, 1090], [37, 1346, 799, 145, 419, 299, 2, 1090], [7, 798, 145, 85, 21, 93, 377, 13, 696], [7, 798, 145, 85, 21, 93, 377, 13, 696], [8, 27, 756, 1, 36, 3604, 3605, 3606], [7, 145, 85, 1382, 34, 1, 2425, 2426, 2427], [7, 145, 85, 1382, 34, 1, 2425, 2426, 2427], [18, 7, 145, 85, 38], [18, 7, 145, 85, 38], [17, 7, 1, 2428, 435], [17, 7, 1, 2428, 435], [18, 3, 35, 6, 85, 1091, 24, 2429], [18, 3, 35, 6, 85, 1091, 24, 2429], [18, 7, 145, 85, 249], [18, 7, 145, 85, 249], [4, 338, 8, 145, 85, 1372], [4, 338, 8, 145, 85, 1372], [4, 333, 2430, 145, 85, 2431, 10, 29, 299, 2, 2432], [4, 333, 2430, 145, 85, 2431, 10, 29, 299, 2, 2432], [20, 7, 6, 3607, 13, 3608, 6, 213, 3609, 16, 1, 226], [1386, 300, 1387, 4, 8, 3610, 3611, 3612, 12], [20, 46, 1483, 3613, 3614], [17, 51, 29, 3615, 3616, 28, 797, 3617], [8, 2292, 3618, 708, 6, 1406, 573, 22, 81, 701, 3619], [7, 2433, 3620, 1406, 21, 1210, 375, 2434, 22, 218, 22, 6, 682, 3621, 5, 1, 3622, 3623, 1275], [195, 21, 230, 2, 1, 700, 2, 1, 987, 3624, 573], [106, 29, 1129, 8, 1406, 676, 1353, 1296, 13, 3625], [7, 27, 1062, 22, 6, 3626, 3627, 2435], [3, 1, 2436, 421, 1, 979, 421, 5, 134], [3, 1, 2436, 421, 1, 979, 421, 5, 134], [3, 35, 6, 128, 535, 5, 173], [3, 35, 6, 128, 535, 5, 173], [3, 173, 1, 42, 43, 5, 1, 53], [3, 173, 1, 42, 43, 5, 1, 53], [4, 3, 1, 125, 2, 134], [4, 3, 1, 125, 2, 134], [4, 3, 1, 60, 58, 2, 173], [4, 3, 1, 60, 58, 2, 173], [11, 3, 1, 795, 5, 1, 43], [11, 3, 1, 795, 5, 1, 43], [18, 14, 1, 58, 2, 1, 43, 173, 169, 23], [11, 3, 1, 714, 357, 722], [11, 3, 1, 714, 357, 722], [32, 14, 173, 811, 579, 1092], [32, 14, 173, 811, 579, 1092], [3, 1, 1, 752, 96, 5, 173, 1, 96, 2, 134], [3, 173, 6, 43], [3, 173, 6, 43], [3, 1, 33, 266, 200, 1, 2437, 200], [3, 1, 33, 266, 200, 1, 2437, 200], [18, 3, 173, 133], [18, 3, 173, 133], [20, 413, 2438, 313], [20, 413, 2438, 313], [12, 2439, 456, 24, 1, 192, 950], [12, 2439, 456, 24, 1, 192, 950], [4, 2440, 10, 579, 1092, 5, 173], [4, 2440, 10, 579, 1092, 5, 173], [8, 1, 450, 514, 5, 173, 5], [8, 1, 450, 514, 5, 173, 5], [5, 3628, 617, 3629, 443, 3630, 3631, 22, 6, 194, 125, 43, 16, 1, 499, 133, 34, 1, 397, 1242, 2, 18], [5, 1, 547, 400, 1985, 3632, 36, 3633, 3634, 28, 798, 20, 1522, 5, 3635, 13, 3636, 24, 10, 3637, 18, 285, 51, 1093, 10, 756, 6, 1281, 679], [20, 723, 1184, 2, 3638, 10, 1, 43, 5, 206, 10, 3639, 1, 3640, 13, 1407], [8, 3641, 869, 1403, 1, 647, 2441], [8, 3642, 2063, 22, 57], [7, 1, 173, 362, 139, 2, 1, 940, 320, 3643, 499, 2, 3644], [12, 129, 3645, 594, 1, 3646, 3647, 22, 218, 22, 173, 2291], [195, 21, 230, 2, 1, 19, 3648, 1196, 3649, 5, 1, 43], [3, 173, 1, 3650, 439, 2442, 13, 259, 461], [3, 54, 149, 154], [3, 54, 149, 154], [8, 54, 149, 514, 21, 1220], [8, 54, 149, 514, 21, 1220], [3, 35, 6, 1091, 2, 149, 5, 1, 372, 248], [3, 35, 6, 1091, 2, 149, 5, 1, 372, 248], [4, 7, 54, 469, 572, 2443], [4, 7, 54, 469, 572, 2443], [17, 8, 149, 521], [17, 8, 149, 521], [18, 3, 1, 54, 149, 2444, 264], [18, 3, 1, 54, 149, 2444, 264], [32, 3, 1, 149, 86, 75, 149], [32, 3, 1, 149, 86, 75, 149], [18, 8, 149, 395, 96], [18, 8, 149, 395, 96], [4, 8, 27, 380], [4, 8, 27, 380], [4, 110, 5, 1, 476, 320], [12, 2445, 15, 6, 3651, 3652], [8, 3653, 3654, 836, 5, 1, 409, 2, 3655], [14, 1, 1408, 3656, 1, 252, 3657, 3658, 22, 1, 3659, 2, 214, 224], [3, 1, 62, 987, 3660, 2, 1, 1408, 3661, 1402, 28, 1952, 3662], [3, 1, 1408, 261, 5, 3663, 538, 2, 1044, 13, 412, 2446, 23, 553, 3664, 10, 1, 412, 139, 2, 3665, 308, 1001], [12, 750, 175, 1675, 16, 1353, 1155, 3666, 5, 538, 25, 3667, 3668, 10, 298, 3669, 3670], [51, 1, 2445, 2, 214, 2446, 1343, 3671, 106, 1, 476, 139, 2, 1, 320, 1524, 1, 114, 39, 401, 49, 3672, 25, 3673, 2133], [3, 150, 1, 60, 26, 2, 715], [3, 150, 1, 60, 26, 2, 715], [3, 1, 71, 150, 523, 23, 2447], [3, 1, 71, 150, 523, 23, 2447], [9, 82, 416, 2, 150, 489, 10, 575, 129], [9, 82, 416, 2, 150, 489, 10, 575, 129], [124, 11, 19, 1094, 279, 9, 35], [124, 11, 19, 1094, 279, 9, 35], [479, 93, 529, 46, 1, 58, 150, 10, 444, 10, 4], [479, 93, 529, 46, 1, 58, 150, 10, 444, 10, 4], [4, 3, 1, 60, 26, 2, 369, 715], [4, 3, 1, 60, 26, 2, 369, 715], [32, 392, 93, 2448, 2, 1094, 1409, 2449, 1038, 31, 285, 9, 2450], [32, 392, 93, 2448, 2, 1094, 1409, 2449, 1038, 31, 285, 9, 2450], [18, 12, 1, 1095, 2, 2451, 129, 41, 1096, 169, 23], [18, 12, 1, 1095, 2, 2451, 129, 41, 1096, 169, 23], [11, 19, 150, 279, 9, 35], [11, 19, 703, 2, 1410, 14, 1, 150, 26, 406], [11, 19, 2452, 2453, 9, 35, 5, 150], [4, 3, 1, 1096, 454, 2, 3674, 411, 24], [4, 3, 386, 987, 16, 150, 1409], [3, 131, 150, 287, 5, 3675, 59, 3676], [4, 480, 2, 1, 150, 26, 14, 3677, 3678, 3679, 10, 48, 1096], [12, 128, 13, 503, 15, 2454, 167, 174], [23, 37, 140, 3, 150, 3680], [9, 35, 1411, 2452, 2453, 59, 1410, 3681, 5, 150], [3, 131, 150, 287, 25, 2454, 167, 174], [9, 1, 150, 319, 16, 1, 26, 411, 24, 1, 319, 16, 715, 46, 5, 369, 22, 218, 22, 214, 715], [3, 30, 76, 175, 69, 2, 1, 77, 60, 140, 2, 1, 2455, 150, 2456, 2457, 5, 274], [3, 1, 828, 157, 5, 3682, 133, 5, 2014, 1080, 22, 6, 316, 26, 28, 82, 150, 1087], [3, 30, 175, 69, 2, 1, 77, 60, 140, 5, 1, 2455, 150, 2456, 2457, 5, 274], [3, 425, 426, 1, 3683, 2, 455, 2338], [3, 425, 426, 5, 1, 3684, 114], [1064, 1, 70, 2, 425, 426], [4, 26, 12, 285, 331, 5, 425, 426], [4, 14, 1, 58, 425, 426, 304], [4, 1412, 14, 425, 426, 15], [11, 62, 7, 425, 426, 3685, 28, 1, 503], [11, 19, 3686, 14, 425, 426, 1131], [17, 51, 1, 3687, 3688, 5, 425, 426, 348], [3, 30, 6, 685, 43, 16, 1, 3689, 69, 53, 3690], [3, 1, 802, 3691, 133, 5, 1, 3692, 2, 1, 3693, 3694], [3, 30, 629, 10, 1, 648, 2, 455], [17, 8, 425, 426, 158, 6, 1671, 3695, 2, 455], [4, 3, 1, 714, 70], [4, 3, 1, 60, 338, 5, 1, 111], [3, 35, 6, 100, 3696, 483, 5, 455], [75, 1, 1295, 4, 370, 188, 1, 33, 648, 3697], [4, 3, 1, 58, 2, 1, 1097, 31, 1288, 1, 764, 1443, 3698, 10, 455], [373, 829, 1028, 2458, 3699, 22, 21, 760], [373, 829, 1028, 2458, 38, 24, 848], [20, 565, 3700, 1413], [17, 8, 3701, 3702, 3703, 2, 3704, 3705, 1, 3706, 668], [17, 8, 27, 3707, 10, 3708], [7, 829, 6, 2459, 2, 3709, 3710, 3711, 22, 218, 22, 3712], [3, 1, 211, 162, 659, 437, 1049, 3713, 10, 829], [39, 829, 183, 49, 1764, 22, 1, 3714, 2, 1, 2460, 686, 6, 686, 698, 3715, 3716, 7, 3717, 245, 28, 29, 970, 2, 1311], [3, 27, 595, 262, 10, 48, 69, 2, 1, 796, 2461, 2, 82, 227, 13, 1781, 1, 33, 3718, 3719, 693, 296, 10, 15, 915], [906, 10, 505, 3720, 3721, 3722, 51, 1, 3723, 13, 3724, 2, 29, 2462, 585, 3725, 13, 29, 3726, 13, 3727, 3728, 10, 201, 3729, 1, 686, 3730, 3731, 13, 3732], [9, 256, 2463], [9, 256, 2463], [9, 256, 2464], [9, 256, 2464], [12, 256, 15, 980, 1088], [12, 256, 15, 980, 1088], [11, 19, 779, 12, 256, 15], [11, 19, 779, 12, 256, 15], [18, 9, 256, 261], [18, 9, 256, 261], [4, 3, 1, 304, 654, 2, 2465, 5, 375, 256], [4, 3, 1, 304, 654, 2, 2465, 5, 375, 256], [12, 256, 969, 2466], [12, 256, 969, 2466], [8, 1, 2467, 102, 2468, 256], [8, 1, 2467, 102, 2468, 256], [4, 3, 1, 2469, 2470, 2471], [4, 3, 1, 2469, 2470, 2471], [51, 1, 3733, 2, 1, 477, 3734, 1336, 28, 293, 1362], [14, 6, 323, 293, 15, 6, 3735, 366], [3, 1, 293, 6, 1030, 321, 231], [37, 3736, 3, 2472, 10, 3737, 6, 293, 354], [11, 19, 658, 577, 9, 3738, 23, 1, 2144, 2, 6, 323, 293], [4, 51, 1, 292, 2, 6, 323, 293, 72, 2], [3, 1, 1747, 615, 1149, 16, 6, 257, 40, 6, 293], [18, 7, 1, 3739, 1337, 2, 1, 323, 293, 5, 1175, 10, 1, 827, 366], [14, 6, 178, 257, 15, 3740, 292, 41, 6, 1404], [3, 120, 1, 60, 26, 2, 1876], [1322, 120, 15, 3741, 23, 936, 999], [3, 120, 21, 1414, 26], [3, 120, 21, 1414, 26], [4, 55, 3, 120, 6, 83, 2], [4, 55, 3, 120, 6, 83, 2], [4, 3, 1, 471, 71, 206, 5, 120], [4, 3, 1, 471, 71, 206, 5, 120], [4, 140, 39, 120, 692, 174, 23], [4, 140, 39, 120, 692, 174, 23], [9, 35, 19, 174, 5, 120, 31, 64, 777, 2023], [11, 9, 194, 174, 621, 5, 120], [11, 9, 194, 174, 621, 5, 120], [3, 120, 5, 1, 3742, 55, 2, 140], [3, 120, 21, 1414, 26], [3, 35, 69, 3743, 71, 5, 120], [11, 19, 703, 2, 1410, 9, 35, 5, 120], [4, 3, 1, 471, 71, 206, 5, 120], [4, 3, 1, 137, 26, 5, 455], [12, 1087, 1027, 120, 10, 48, 6, 857, 26], [44, 279, 2, 131, 120, 3744, 91, 120], [4, 26, 1391, 120, 3, 5, 1, 3745, 26, 55], [373, 120, 26, 261, 5, 936], [373, 120, 26, 287, 582, 2473], [7, 120, 26, 287, 582, 2473], [188, 1, 26, 3746, 49, 46, 22, 1, 2474, 2475, 697, 1, 3747, 401, 1, 320], [12, 386, 3748, 708, 2, 120, 594, 1700, 120], [3, 120, 157, 22, 581, 828, 2, 653, 3749], [195, 21, 230, 2, 1, 3750, 113, 2, 1, 3751, 499, 5, 1044, 935], [3, 120, 1, 69, 2, 1, 33, 595, 157, 140, 5, 1, 53], [7, 30, 523, 23, 276], [3, 237, 1, 125, 13, 33, 941, 43, 5, 1, 114, 2, 2476], [3, 237, 1, 125, 13, 33, 941, 43, 5, 1, 114, 2, 2476], [3, 237, 629, 10, 2477, 1378, 2478], [3, 237, 629, 10, 2477, 1378, 2478], [14, 237, 15, 6, 190, 353, 2479, 535], [14, 237, 15, 6, 190, 353, 2479, 535], [4, 3, 6, 1270, 2, 237, 89, 22], [4, 3, 6, 1270, 2, 237, 89, 22], [17, 7, 237, 989, 2480, 22, 6, 43], [17, 7, 237, 989, 2480, 22, 6, 43], [11, 19, 680, 374, 14, 1, 43, 2, 237, 15], [11, 19, 680, 374, 14, 1, 43, 2, 237, 15], [18, 3, 237, 3752], [11, 19, 757, 1251, 2481, 237], [11, 19, 757, 1251, 2481, 237], [4, 338, 2482, 1095, 5, 237], [4, 338, 2482, 1095, 5, 237], [8, 2483, 2484, 490, 6, 2485, 2, 56, 24, 29, 138, 1388], [8, 2483, 2484, 490, 6, 2485, 2, 56, 24, 29, 138, 1388], [8, 56, 263, 2486, 2487], [8, 56, 263, 2486, 2487], [8, 56, 175, 322, 1, 665, 2, 2488], [8, 56, 175, 322, 1, 665, 2, 2488], [20, 275, 820], [20, 275, 820], [18, 7, 407, 56, 38], [18, 7, 407, 56, 38], [4, 3, 1, 56, 609], [4, 3, 1, 56, 609], [8, 56, 322, 1360], [8, 56, 322, 1360], [11, 19, 803, 8, 56, 15], [11, 19, 803, 8, 56, 15], [18, 3, 407, 56, 249], [18, 3, 407, 56, 249], [3, 56, 247, 89, 16, 29, 162, 25, 3753], [7, 27, 642, 5, 1, 362, 659, 40, 3754, 597], [8, 27, 322, 820], [20, 7, 29, 1358], [20, 7, 1359, 557], [8, 27, 3755, 1, 547, 226, 24, 1, 2158, 2, 434, 920, 16, 64, 5, 1, 3756, 148], [8, 56, 15, 2340, 3757, 2462], [14, 1, 474, 3758, 24, 1, 926, 2, 6, 3759, 3760], [373, 2489, 3761], [373, 2489, 6, 3762], [17, 8, 3763, 3764, 1202, 30, 10, 2490, 342], [17, 7, 29, 248, 3765], [7, 3766, 238, 3767, 2491, 3768, 3769, 3770, 2491, 3771], [195, 21, 230, 2, 1, 33, 3772, 602, 2, 1, 2460], [7, 3773, 1173, 5, 1399, 596, 106, 29, 62, 170, 3774], [3, 93, 1, 26, 33, 183, 157, 5, 349], [3, 93, 1, 26, 33, 183, 157, 5, 349], [3, 1098, 450, 1, 608, 42, 2, 82, 374, 5, 95], [3, 1098, 450, 1, 608, 42, 2, 82, 374, 5, 95], [3, 1, 33, 335, 1304, 5, 349, 871, 740], [3, 1, 33, 335, 1304, 5, 349, 871, 740], [11, 19, 353, 1412, 14, 349, 15], [11, 19, 353, 1412, 14, 349, 15], [20, 3, 1, 1063, 2, 349], [20, 3, 1, 1063, 2, 349], [4, 3, 1, 58, 2, 1, 42, 250, 5, 349], [4, 3, 1, 58, 2, 1, 42, 250, 5, 349], [18, 7, 164, 2, 1098, 856, 106, 1, 1393, 13, 2492, 320], [18, 7, 164, 2, 1098, 856, 106, 1, 1393, 13, 2492, 320], [14, 349, 406, 1, 42, 250, 5, 95], [14, 349, 406, 1, 42, 250, 5, 95], [4, 3, 1, 42, 849, 2493, 43, 5, 1, 343, 53], [4, 3, 1, 42, 849, 2493, 43, 5, 1, 343, 53], [3, 427, 1, 125, 2, 2494], [7, 427, 176, 5], [3, 1, 783, 745, 70, 2, 427, 124, 3775], [4, 3, 1, 783, 745, 70, 2, 427], [5, 4, 115, 7, 427, 176], [37, 2495, 5, 427, 7, 3776, 5, 724], [11, 19, 3777, 205, 5, 1, 201, 2495, 2496], [11, 19, 3778, 44, 1, 3779, 341, 560, 886], [124, 11, 19, 102, 9, 745, 10, 61, 5, 427], [1, 755, 3, 551, 10, 1, 1881, 28, 2497, 313, 13, 18], [17, 8, 1, 2295, 96, 2, 1044, 268, 37, 1338, 81, 1262, 2, 3780, 3781], [3, 802, 313, 3782, 10, 2497, 313], [195, 21, 230, 2, 1, 584, 1130, 3783, 2, 315, 43, 5, 268], [195, 21, 230, 2, 1, 33, 1714, 374, 5, 268, 762, 13, 3784], [3, 427, 76, 1, 125, 22, 218, 22, 42, 43, 2, 2494], [14, 1, 43, 13, 81, 3785, 362, 175, 241, 1, 427, 782], [14, 1, 58, 427, 169, 23, 1, 3786, 748, 3787, 3788, 37, 3789, 10, 1, 409, 2, 3790, 3791], [8, 223, 73, 105, 2498], [8, 223, 73, 105, 2498], [7, 223, 73, 1099, 1342, 25, 2499, 2500], [7, 223, 73, 1099, 1342, 25, 2499, 2500], [8, 223, 73, 64, 6, 2501, 40, 2502, 2503], [8, 223, 73, 64, 6, 2501, 40, 2502, 2503], [17, 8, 223, 73, 305, 24, 1, 701, 2, 227, 830], [17, 8, 223, 73, 305, 24, 1, 701, 2, 227, 830], [20, 260, 2504, 25, 223, 73], [20, 260, 2504, 25, 223, 73], [18, 8, 223, 73, 810, 10, 5], [18, 8, 223, 73, 810, 10, 5], [7, 223, 2505, 238, 2506], [7, 223, 2505, 238, 2506], [11, 19, 803, 8, 223, 73, 15], [11, 19, 803, 8, 223, 73, 15], [7, 223, 73, 6, 2507], [7, 223, 73, 6, 2507], [3, 35, 6, 3792, 10, 73, 34, 3793, 3794, 194, 308], [7, 73, 21, 375, 1302], [7, 73, 24, 1, 701, 2, 227, 830], [18, 8, 73, 138, 511, 606], [17, 8, 73, 446, 29, 498, 3795], [4, 140, 8, 73, 331], [8, 73, 187, 1, 310, 311], [7, 73, 1934, 34, 1, 227, 2, 29, 545], [4, 422, 212, 7, 86, 75, 73], [3796, 4, 3, 76, 262, 6, 3797, 2434, 28, 116, 2459, 1415, 20, 183, 3798, 29, 162, 22, 3799, 13, 3800], [20, 1725, 1, 1065, 67, 573, 16, 3801, 830], [17, 7, 29, 498, 573, 16, 1, 679, 435], [17, 8, 831, 263, 29, 36, 557, 3802, 3803], [8, 1082, 831, 586, 1, 872, 1444, 22, 3804, 34, 3805, 264, 2, 505, 22, 218, 22, 569], [8, 1082, 831, 385, 6, 549, 2, 1317, 3806, 16, 1, 2508, 2509, 679, 494, 67], [7, 831, 175, 3807, 10, 3808, 494, 1138, 1124, 3809, 3810, 22, 218, 22, 3811, 3812], [12, 29, 602, 676, 6, 1405, 335, 3813, 5, 1, 108, 113, 18, 831, 3, 33, 328, 16, 1, 701, 3814, 2, 3815, 170, 3816, 27, 413, 16, 1, 2508, 2509, 679, 830, 494, 100, 41, 288, 3817], [9, 431, 1, 3818, 2, 3819, 602, 1, 3820, 3821, 2510, 2511, 1, 3822, 1780, 29, 2511, 7, 3823, 662, 41, 3824, 2, 1, 886, 3825, 733, 13, 1, 288, 3826, 2510], [3, 27, 175, 534, 16, 29, 162, 16, 1, 2512, 1168, 2, 224, 3827], [3, 1, 179, 6, 2513], [3, 1, 179, 6, 2513], [14, 1, 179, 15, 77, 826], [14, 1, 179, 15, 77, 826], [14, 1, 179, 15, 6, 643, 1416], [14, 1, 179, 15, 6, 643, 1416], [18, 3, 1, 1417, 2, 21, 179], [18, 3, 1, 1417, 2, 21, 179], [673, 11, 19, 1418, 179, 47, 9, 35], [673, 11, 19, 1418, 179, 47, 9, 35], [11, 19, 577, 14, 21, 179, 15], [11, 19, 577, 14, 21, 179, 15], [4, 3, 1, 418, 2, 2514, 2, 1, 179], [4, 3, 1, 418, 2, 2514, 2, 1, 179], [4, 3, 21, 230, 2, 1021, 21, 179, 2515, 5, 6, 1261, 1310], [4, 3, 21, 230, 2, 1021, 21, 179, 2515, 5, 6, 1261, 1310], [11, 44, 21, 179, 1055, 566, 363], [11, 44, 21, 179, 1055, 566, 363], [9, 179, 3828, 3829], [12, 563, 64, 6, 1526, 3830, 40, 6, 3831, 10, 3832, 3833], [12, 1, 2516, 5, 1, 662, 3834, 3835, 355, 15, 77, 1401, 13, 21, 3836, 463], [12, 2516, 15, 77, 826, 13, 288, 2339, 2, 577], [3, 179, 6, 146, 333, 5, 3837, 711, 22, 218, 22, 209, 711], [3, 1, 775, 241, 179, 528, 3838, 16, 240, 3839, 16, 333], [39, 21, 179, 6, 643, 1416, 25, 81, 1417, 34, 1, 461, 329, 2, 1, 577], [4, 110, 5, 598], [4, 110, 5], [20, 7, 76, 62, 5, 3840, 386, 3841, 3842, 3843], [17, 8, 1100, 341, 29, 36, 3844, 10, 568], [195, 21, 230, 2, 1, 33, 3845, 3846, 1009, 2, 315, 682, 1415, 3847], [3, 5, 1, 3848, 916, 1100, 1100, 204, 28, 3849, 3850, 3851], [3, 1, 201, 3852, 2517, 16, 1, 1100, 3853, 1, 1415, 1673, 770], [3, 27, 69, 2, 1, 33, 1418, 1715, 5, 505], [3, 27, 247, 89, 16, 3854, 1, 3855, 1275, 13, 16, 1, 578, 793, 2, 2219, 3856, 5, 29, 162], [9, 431, 29, 33, 328, 602, 1, 3857, 3858, 3859, 3860, 13, 2518, 29, 3861, 2, 1, 202, 2496, 2, 2518, 106, 1, 414, 518, 148], [9, 180, 46, 5, 343, 422], [9, 180, 46, 5, 343, 422], [9, 716, 180, 40, 2519, 180], [9, 716, 180, 40, 2519, 180], [8, 2520, 2521, 380, 1, 131, 257], [8, 2520, 2521, 380, 1, 131, 257], [4, 3, 1, 334, 615, 40, 24, 497, 180], [4, 3, 1, 334, 615, 40, 24, 497, 180], [11, 19, 242, 350, 12, 131, 180, 15], [11, 19, 242, 350, 12, 131, 180, 15], [4, 3, 1, 2522, 615, 40], [4, 3, 1, 2522, 615, 40], [18, 3, 1101, 2523, 257, 133], [18, 3, 1101, 2523, 257, 133], [4, 487, 2, 257, 8, 1101, 236, 254], [4, 487, 2, 257, 8, 1101, 236, 254], [3, 1, 2524, 615, 24, 6, 497, 257, 40, 1, 2525, 2526], [3, 1, 2524, 615, 24, 6, 497, 257, 40, 1, 2525, 2526], [3, 30, 2527, 16, 6, 497, 180, 932, 2528, 10, 48, 981, 2529], [3, 30, 2527, 16, 6, 497, 180, 932, 2528, 10, 48, 981, 2529], [3, 1, 851, 5, 21, 716, 257, 2530, 10, 81, 350], [3, 1, 851, 5, 21, 716, 257, 2530, 10, 81, 350], [124, 11, 672, 3, 6, 709, 1413, 257], [124, 11, 672, 3, 6, 709, 1413, 257], [4, 9, 6, 180, 350, 555, 72, 2], [4, 9, 6, 180, 350, 555, 72, 2], [11, 19, 549, 350, 14, 6, 709, 131, 257, 15], [11, 19, 549, 350, 14, 6, 709, 131, 257, 15], [32, 9, 716, 180, 100, 1102], [32, 9, 716, 180, 100, 1102], [12, 479, 180, 15, 100, 350, 41, 131, 180], [12, 479, 180, 15, 100, 350, 41, 131, 180], [4, 9, 1, 319, 2, 6, 180, 2531], [4, 9, 1, 319, 2, 6, 180, 2531], [4, 110, 5, 1, 669], [4, 110, 5], [3, 69, 2, 1, 247, 89, 3862, 602, 2532, 3863, 34, 1685, 3864, 66, 1383, 3865], [7, 2533, 1419, 38, 5, 3866, 3867, 2301, 1, 1381, 2, 6, 897, 2534, 55], [15, 77, 2, 2532, 3868, 3869, 16, 100, 41, 1010], [22, 6, 3870, 2, 3871, 13, 1000, 2026, 3872, 39, 30, 49, 2472, 31, 1419, 3, 1, 3873, 2517, 2, 6, 2535, 37, 3874, 2359, 23, 3875, 10, 3876], [8, 2533, 1419, 105, 5, 3877, 3878, 330, 1, 1381, 2, 6, 897, 2534, 55], [22, 6, 2512, 8, 27, 162, 5, 6, 3879, 1229, 18, 29, 3880, 3881, 930, 10, 301, 312, 722, 10, 3882, 3883, 24, 3884, 274], [3, 209, 21, 60, 26, 2, 1347], [3, 209, 21, 60, 26, 2, 1347], [14, 1, 209, 26, 15, 81, 2536, 5, 1, 276, 26], [14, 1, 209, 26, 15, 81, 2536, 5, 1, 276, 26], [14, 209, 406, 174, 23, 1, 119, 26], [14, 209, 406, 174, 23, 1, 119, 26], [18, 9, 35, 284, 2537, 2538], [18, 9, 35, 284, 2537, 2538], [4, 9, 1, 77, 192, 465, 2, 209, 416], [4, 9, 1, 77, 192, 465, 2, 209, 416], [4, 1097, 1318, 1, 405, 2, 1, 91, 209, 438], [4, 1097, 1318, 1, 405, 2, 1, 91, 209, 438], [37, 226, 443, 209, 22, 81, 608, 60, 26, 5, 206, 10, 544, 1, 2539, 10, 2540, 16, 2541, 2542, 5, 1, 2543], [37, 226, 443, 209, 22, 81, 608, 60, 26, 5, 206, 10, 544, 1, 2539, 10, 2540, 16, 2541, 2542, 5, 1, 2543], [28, 4, 589, 1, 549, 70, 2, 209, 279, 5, 1, 53, 48], [28, 4, 589, 1, 549, 70, 2, 209, 279, 5, 1, 53, 48], [5, 37, 111, 3, 209, 1, 2544, 26, 25, 2545, 128], [5, 37, 111, 3, 209, 1, 2544, 26, 25, 2545, 128], [373, 209, 26, 1047, 28, 3885, 781, 869], [18, 154, 39, 6, 489, 2160, 25, 3886, 3887, 1420, 2, 3888], [195, 21, 230, 2, 1, 60, 140, 2, 1, 1847, 705, 483, 2, 3889, 13, 400, 934], [3, 209, 21, 60, 26, 2, 393, 353, 3890], [3, 30, 523, 23, 1, 276, 157, 28, 1, 3891, 3892, 482, 2, 1, 3893, 1001, 3894, 1, 3895, 1, 3896, 1, 3897, 13, 1, 3898, 673, 67, 278], [7, 30, 46, 22, 1, 3899, 2474, 2475, 24, 1, 999, 2, 1395, 1396, 16, 437, 67], [3, 1, 43, 86, 75, 1, 2546, 822, 832], [3, 1, 43, 86, 75, 1, 2546, 822, 832], [39, 1, 2547, 5, 1, 43, 49, 2548, 658], [39, 1, 2547, 5, 1, 43, 49, 2548, 658], [4, 51, 116, 129, 319, 2, 1, 43], [4, 51, 116, 129, 319, 2, 1, 43], [4, 2549, 610, 2550, 2551, 1, 405, 2, 1, 360, 115], [4, 2549, 610, 2550, 2551, 1, 405, 2, 1, 360, 115], [18, 12, 33, 102, 5, 2552, 822, 1103, 61], [18, 12, 33, 102, 5, 2552, 822, 1103, 61], [4, 7, 72, 5, 2553, 42, 2554], [4, 7, 72, 5, 2553, 42, 2554], [17, 8, 1, 3900, 654, 158, 978], [11, 10, 456, 10, 162, 23, 1, 43, 10, 1361], [11, 10, 456, 10, 162, 23, 1, 43, 10, 1361], [20, 2555, 751, 1, 832, 13, 2433, 2441], [17, 7, 1, 2556, 3901], [39, 3902, 49, 6, 62, 2535, 335, 431, 1, 3903, 13, 3904], [195, 21, 230, 2, 1, 42, 3905, 2229, 5, 1, 53, 13, 1, 629, 10, 3906, 3907, 1363, 1103, 5, 13], [195, 21, 230, 2, 1, 247, 89, 2556, 1335, 5, 1, 53, 361, 1, 3908, 2, 3909, 3910, 3911, 13, 3912, 3913], [195, 21, 230, 2, 1, 3914, 33, 3915, 13, 33, 3916, 3917, 2, 682, 374, 5, 131, 1211], [51, 1, 714, 129, 319, 3918, 13, 3919], [3, 30, 183, 40, 1324, 1103, 210, 13, 3, 683, 89, 22, 3920, 210], [176, 28, 3921, 832, 342, 2, 3922, 24, 392, 7, 30, 1, 125, 2, 1, 1157, 1239, 16, 100, 41, 77, 3923, 67], [3, 1, 178, 2, 203, 5, 156, 2557, 588], [3, 1, 178, 2, 203, 5, 156, 2557, 588], [14, 156, 258, 15, 6, 588, 480, 2, 2558, 13, 2559, 2560], [14, 156, 258, 15, 6, 588, 480, 2, 2558, 13, 2559, 2560], [3, 156, 2561, 6, 335, 2562, 2563], [3, 156, 2561, 6, 335, 2562, 2563], [11, 190, 3, 1, 70, 2, 156, 258], [11, 190, 3, 1, 70, 2, 156, 258], [11, 19, 114, 2564, 9, 5, 156, 258], [11, 19, 114, 2564, 9, 5, 156, 258], [18, 3, 156, 258], [18, 3, 156, 258], [4, 3, 1, 587, 2, 581, 2565], [4, 3, 1, 587, 2, 581, 2565], [9, 100, 1139, 1084, 28, 284, 2566, 41, 5], [9, 100, 1139, 1084, 28, 284, 2566, 41, 5], [11, 14, 1407, 5, 156, 258, 958, 10, 1, 2567, 314], [11, 14, 1407, 5, 156, 258, 958, 10, 1, 2567, 314], [7, 1104, 1105, 1421, 663, 5], [7, 1104, 1105, 1421, 663, 5], [7, 1, 96, 2, 156, 3924, 176, 5], [3, 833, 1013, 313, 1, 42, 43, 313], [3, 833, 1013, 313, 1, 42, 43, 313], [4, 3, 397, 2568, 33, 595, 2569, 901], [4, 3, 397, 2568, 33, 595, 2569, 901], [4, 303, 156, 258, 431, 1, 2570, 369, 375, 2571, 16, 2572, 13, 2573], [4, 303, 156, 258, 431, 1, 2570, 369, 375, 2571, 16, 2572, 13, 2573], [20, 2574, 2575, 329], [20, 2574, 2575, 329], [3, 3925, 596, 21, 3926], [14, 1, 66, 515, 367, 248, 1, 402, 505, 367], [14, 1, 66, 515, 367, 248, 1, 402, 505, 367], [4, 2576, 1, 43, 10, 2577, 81, 421, 2578], [4, 2576, 1, 43, 10, 2577, 81, 421, 2578], [153, 19, 211, 18, 374, 156, 258, 3, 6, 3927, 43, 22, 3928, 3929, 3930, 662, 41, 1250, 2, 1, 70], [20, 2555, 550, 6, 1206, 3931, 16, 1, 3932, 628], [17, 7, 6, 1104, 1105, 1421, 663], [17, 8, 30, 719, 24, 1, 251], [195, 21, 230, 2, 1, 42, 3933, 535, 1992, 5, 1, 111], [195, 21, 230, 2, 1, 992, 3934, 53, 374], [1, 245, 3935, 3936, 5, 3937, 14, 30, 3938, 6, 213, 362, 2, 24, 1, 397, 405, 2, 1, 156, 258, 1001, 1370, 30, 1, 302, 33, 870, 481, 43, 5, 1, 108, 113], [3, 156, 258, 175, 1, 1880, 2442, 13, 3939, 461, 2, 1, 211, 156, 258, 1105, 362, 6, 483, 2, 1010, 102], [5, 4, 115, 8, 1, 414, 835, 6, 1032, 34, 1, 833, 1013, 13, 6, 1104, 86, 16, 2490, 2, 3940, 24, 1, 1377], [14, 235, 15, 3941], [3, 235, 6, 2579, 26], [3, 235, 6, 2579, 26], [8, 2580, 341, 235, 6, 2581, 630, 5, 317, 345], [8, 2580, 341, 235, 6, 2581, 630, 5, 317, 345], [4, 3, 1, 235, 71, 16, 1, 235, 26], [4, 3, 1, 235, 71, 16, 1, 235, 26], [3, 235, 157, 5, 2582], [3, 235, 157, 5, 2582], [11, 14, 235, 227, 500], [11, 14, 235, 227, 500], [11, 19, 660, 2583, 14, 235, 15], [11, 19, 660, 2583, 14, 235, 15], [5, 4, 115, 8, 612, 2584, 2585], [5, 4, 115, 8, 612, 2584, 2585], [37, 3, 1, 1364, 2586, 26, 25, 1, 796, 99, 2, 279], [37, 3, 1, 1364, 2586, 26, 25, 1, 796, 99, 2, 279], [3, 352, 6, 1348, 2, 91, 2587], [3, 352, 6, 1348, 2, 91, 2587], [14, 352, 64, 1, 513, 2588, 10, 241, 1, 918, 513, 2589], [14, 352, 64, 1, 513, 2588, 10, 241, 1, 918, 513, 2589], [11, 19, 352, 279, 51, 2590, 5, 95, 5], [11, 19, 352, 279, 51, 2590, 5, 95, 5], [11, 19, 656, 9, 5, 1, 471, 276, 607], [11, 19, 656, 9, 5, 1, 471, 276, 607], [17, 8, 6, 178, 13, 146, 26, 158, 666, 10, 82, 2591], [17, 8, 6, 178, 13, 146, 26, 158, 666, 10, 82, 2591], [17, 8, 1, 2592, 788, 738, 699, 2593], [17, 8, 1, 2592, 788, 738, 699, 2593], [4, 9, 1, 2087, 167, 93, 13, 352, 2022], [11, 14, 352, 26, 3942, 1, 3943, 2, 1783], [3, 351, 5, 6, 892], [3, 351, 5, 6, 892], [7, 351, 176, 5, 1, 320], [7, 351, 176, 5, 1, 320], [3, 1, 137, 1081, 367, 5, 351], [3, 1, 137, 1081, 367, 5, 351], [4, 3, 364, 1, 714, 343, 270], [4, 3, 364, 1, 714, 343, 270], [4, 3, 351], [4, 3, 351], [4, 9, 116, 2594, 2595, 5, 351], [4, 9, 116, 2594, 2595, 5, 351], [17, 3, 1, 975, 2596, 1320], [17, 3, 1, 975, 2596, 1320], [20, 2597, 289, 2598], [20, 2597, 289, 2598], [4, 14, 351, 468], [4, 14, 351, 468], [3, 1, 97, 1, 321, 231, 25, 1, 584, 2599, 5, 1, 823, 55], [3, 1, 97, 1, 321, 231, 25, 1, 584, 2599, 5, 1, 823, 55], [3, 6, 97, 204, 28, 1422, 251, 598, 1423, 1424], [3, 6, 97, 204, 28, 1422, 251, 598, 1423, 1424], [3, 1, 33, 146, 199, 2, 97, 1, 717, 97], [3, 1, 33, 146, 199, 2, 97, 1, 717, 97], [4, 3, 1, 517, 785, 2, 1, 97], [4, 3, 1, 517, 785, 2, 1, 97], [4, 3, 6, 97, 348, 2], [4, 3, 6, 97, 348, 2], [4, 9, 1, 219, 324, 661, 10, 22], [4, 9, 1, 219, 324, 661, 10, 22], [32, 12, 324, 15, 6, 2600, 2601, 221], [32, 12, 324, 15, 6, 2600, 2601, 221], [32, 14, 1, 1368, 15, 6, 921, 1367, 824, 41, 1, 97], [32, 14, 1, 1368, 15, 6, 921, 1367, 824, 41, 1, 97], [4, 303, 6, 97, 3944, 3945], [51, 97, 827, 459, 2602], [51, 97, 827, 459, 2602], [9, 2603, 324, 1102, 717, 324], [9, 2603, 324, 1102, 717, 324], [7, 3946, 3947, 6, 328, 1366, 5], [4, 354, 3, 6, 97, 1106, 92], [4, 354, 3, 6, 97, 1106, 92], [4, 97, 7, 1, 36, 10, 48, 1093, 5, 1, 706, 250], [4, 97, 7, 1, 36, 10, 48, 1093, 5, 1, 706, 250], [1, 97, 44, 48, 632, 25, 4, 1099, 808], [1, 97, 44, 48, 632, 25, 4, 1099, 808], [4, 44, 48, 2604, 25, 6, 940, 2605], [4, 44, 48, 2604, 25, 6, 940, 2605], [4, 7, 2606, 2607, 534, 16, 312, 1376, 10, 254, 2608], [4, 7, 2606, 2607, 534, 16, 312, 1376, 10, 254, 2608], [4, 7, 365, 10, 254, 5, 371, 717, 13, 6, 350], [4, 7, 365, 10, 254, 5, 371, 717, 13, 6, 350], [4, 110, 5], [4, 110, 5, 3948, 1390, 1411], [3, 1, 3949, 3950, 951, 445, 46, 10, 3951, 1379, 1991], [12, 19, 827, 64, 6, 495, 3952, 24, 1, 3953, 97], [3, 1, 97, 348, 2, 823, 2609, 1106, 917, 92, 21, 2610, 354], [195, 21, 230, 2, 1, 33, 1210, 1344, 2, 1, 320], [51, 3954, 324, 1, 36, 324, 1093, 5, 1, 706, 250], [9, 285, 348, 2, 823, 2609, 1106, 917, 92, 21, 2610, 354, 13, 9, 204, 28, 1422, 251, 598, 1423, 1424, 3955, 6, 3956, 221, 37, 3957, 6, 506, 3958, 3959, 5, 1, 251, 3960, 1148, 1, 97], [9, 35, 393, 633, 2, 97], [7, 1, 2611, 2612, 2613, 25, 6, 2614, 2, 1, 276, 607], [7, 1, 2611, 2612, 2613, 25, 6, 2614, 2, 1, 276, 607], [3, 35, 6, 2615, 1006, 5, 326, 26], [3, 35, 6, 2615, 1006, 5, 326, 26], [3, 30, 391, 10, 2616, 1, 71, 206, 10, 1069, 1, 2617, 2, 6, 854, 748], [3, 30, 391, 10, 2616, 1, 71, 206, 10, 1069, 1, 2617, 2, 6, 854, 748], [4, 3, 1, 60, 26, 2, 2618], [4, 3, 1, 60, 26, 2, 2618], [17, 7, 1, 326, 26, 1017, 176], [17, 7, 1, 326, 26, 1017, 176], [4, 9, 1, 33, 1135, 744, 3961, 10, 326, 1085], [20, 51, 1, 2619, 2620, 365, 16], [20, 51, 1, 2619, 2620, 365, 16], [4, 7, 69, 2, 1, 618, 2, 1, 2621, 2, 1, 194, 326, 607], [4, 7, 69, 2, 1, 618, 2, 1, 2621, 2, 1, 194, 326, 607], [32, 14, 2622, 64, 2623, 1255, 1420, 2, 2624], [32, 14, 2622, 64, 2623, 1255, 1420, 2, 2624], [11, 19, 102, 331, 326, 972], [5, 326, 37, 1341, 528, 39, 1, 1069], [3, 1, 2086, 2, 326, 3962], [4, 480, 2, 1, 174, 5, 326, 1085, 15, 326, 700], [75, 4, 1097, 7, 1, 326, 26, 1017, 443], [4, 3963, 10, 1, 1232, 2, 1026, 2625, 12, 2159, 174, 15], [4, 9, 1, 3964, 2, 1026, 2625], [4, 9, 1, 1722, 10, 1016, 465, 2, 2025], [14, 215, 15, 6, 3965, 190, 99, 2, 1365], [3, 215, 1, 238, 742, 2, 1, 215, 102], [3, 215, 1, 238, 742, 2, 1, 215, 102], [3, 215, 1, 60, 705, 26, 2, 1107], [3, 215, 1, 60, 705, 26, 2, 1107], [7, 215, 1014, 28, 128], [7, 215, 1014, 28, 128], [17, 8, 287, 215, 158, 1, 60, 705, 26], [17, 8, 287, 215, 158, 1, 60, 705, 26], [15, 2626, 2627, 49, 759], [15, 2626, 2627, 49, 759], [3, 1, 1077, 200, 908, 813, 466], [3, 1, 1077, 200, 908, 813, 466], [4, 487, 2, 174, 15, 49, 692, 23, 128], [4, 487, 2, 174, 15, 49, 692, 23, 128], [3, 1107, 504, 23, 330], [7, 215, 3966, 287, 582, 1, 128, 3967, 454], [14, 215, 15, 6, 190, 99, 2, 1365], [4, 9, 1, 297, 828, 538, 2, 215], [17, 7, 1, 3968, 2, 1107], [11, 19, 2220, 12, 397, 613, 15], [14, 215, 3969, 23, 276, 13, 1339], [8, 215, 169, 10, 3970, 762, 5, 320, 3971], [12, 100, 397, 279, 331, 1, 412, 675, 828, 41, 412, 279, 331, 1, 397, 828], [4, 110, 5], [20, 3972, 1, 3973, 2, 1, 3974, 2435, 109, 832, 3975], [51, 1, 656, 36, 3976, 5, 28, 3977, 3978, 3979, 2628, 3980], [7, 3981, 1411, 67, 479, 41, 2628, 3982, 22, 218, 22, 188, 21, 3983, 1684], [8, 27, 811, 23, 3984, 13, 1244, 579, 1355, 2, 3985, 3986, 697, 29, 170, 13, 205, 1343, 3987, 34, 1, 280, 2, 23, 6, 3988, 3989, 3990], [3991, 106, 29, 1129, 8, 29, 1296, 836, 5, 1, 67, 75, 29, 545], [3, 269, 27, 595, 1062, 22, 69, 2, 3992, 796, 2461, 13, 21, 266, 3993, 10, 1, 3994, 2, 131, 505], [14, 6, 165, 15, 288, 292], [14, 6, 165, 15, 288, 292], [3, 1, 165, 1307, 28, 1, 565, 2629], [3, 1, 165, 1307, 28, 1, 565, 2629], [3, 1, 165, 1059, 153, 21, 2630], [3, 1, 165, 1059, 153, 21, 2630], [4, 51, 292, 36, 72, 550, 2], [4, 51, 292, 36, 72, 550, 2], [4, 3, 6, 165, 40, 683], [4, 3, 6, 165, 40, 683], [4, 14, 1425, 304], [4, 14, 1425, 304], [4, 3, 6, 693, 31, 303, 59, 2631, 325, 40], [4, 3, 6, 693, 31, 303, 59, 2631, 325, 40], [4, 14, 1, 2632, 2, 6, 165, 1282, 967], [4, 14, 1, 2632, 2, 6, 165, 1282, 967], [3, 1, 165, 6, 614, 231], [4, 110, 5], [20, 610, 3995, 3996, 3997], [1386, 300, 1387, 4, 8, 3998, 3999, 12], [17, 8, 1034, 4000, 206, 4001, 10, 1357, 325, 16, 301], [3, 6, 812, 36, 1398, 10, 6, 178, 611], [3, 575, 4002, 34, 21, 4003, 4004, 2, 1, 812], [3, 1, 4005, 4006, 46, 16, 33, 165, 422], [3, 30, 1, 219, 13, 4007, 83, 2, 1, 165, 55, 2, 812, 524, 37, 175, 1857, 1, 1326, 13, 152], [3, 6, 165, 445, 683, 40, 6, 4008, 2191, 2, 1, 199, 2, 422, 204, 24, 30], [14, 1, 71, 165, 169, 23, 1, 334, 276, 71, 1425, 895, 1030, 231], [3, 1, 255, 6, 321, 231], [3, 1, 255, 6, 321, 231], [7, 1, 255, 939, 25, 1, 2633, 422, 2, 1, 108, 113, 28, 1, 320], [7, 1, 255, 939, 25, 1, 2633, 422, 2, 1, 108, 113, 28, 1, 320], [7, 30, 593, 31, 1, 255, 2634, 265, 106, 1, 2635], [7, 30, 593, 31, 1, 255, 2634, 265, 106, 1, 2635], [1, 255, 3, 21, 231, 23, 4, 55], [1, 255, 3, 21, 231, 23, 4, 55], [11, 12, 1, 935, 13, 4009, 64, 710], [116, 2636, 2, 710, 15, 2637, 72, 2, 4], [116, 2636, 2, 710, 15, 2637, 72, 2, 4], [37, 1380, 36, 1, 255, 59, 1, 1371], [37, 1380, 36, 1, 255, 59, 1, 1371], [8, 1, 833, 280, 2, 710, 169, 184, 59, 75, 1, 36, 2638, 2, 1, 2639, 522], [8, 1, 833, 280, 2, 710, 169, 184, 59, 75, 1, 36, 2638, 2, 1, 2639, 522], [14, 2640, 997, 59, 995, 824, 2641, 2, 1, 255], [14, 2640, 997, 59, 995, 824, 2641, 2, 1, 255], [12, 1, 316, 47, 2, 327, 2642], [12, 1, 316, 47, 2, 327, 2642], [12, 327, 965, 506, 289], [12, 327, 965, 506, 289], [15, 2643, 327, 49, 2644, 25, 590, 327], [15, 2643, 327, 49, 2644, 25, 590, 327], [11, 19, 47, 2, 531, 9, 35], [11, 19, 47, 2, 531, 9, 35], [4, 12, 327, 161], [4, 12, 327, 161], [4, 9, 327, 1054, 16], [4, 9, 327, 1054, 16], [4, 399, 12, 1, 4010, 327, 790], [37, 47, 2, 531, 3, 89, 22, 1, 146, 531], [37, 47, 2, 531, 3, 89, 22, 1, 146, 531], [34, 4, 280, 44, 6, 531, 1287], [34, 4, 280, 44, 6, 531, 1287]]\n",
            "Output sequence shape(y_train/answers): [[1], [1], [1], [1], [6], [6], [233], [233], [], [], [2, 50, 80, 560, 2, 51, 561, 851, 5, 50, 80, 107], [2, 50, 80, 560, 2, 51, 561, 851, 5, 50, 80, 107], [380, 852], [380, 852], [], [], [1], [1], [6], [6], [1], [1], [1], [1], [853, 144], [562, 853, 144, 1711], [294], [294], [70, 854, 855], [70, 854, 855], [1], [1], [381, 1712], [70, 563, 1713], [8, 382, 1714], [2, 1715, 10, 8, 1716, 2, 1717, 42, 10, 564, 4, 1718, 13, 1719, 1720], [1], [1], [1], [856], [], [30], [22, 1721, 857, 1722, 1723], [1], [1], [565, 145], [565, 145], [383], [], [], [1], [1], [1], [1], [1], [1], [1], [1], [1], [145, 64, 108, 1724, 8, 146, 34], [383, 383, 383], [858, 295], [2, 295, 1725, 17, 2, 566], [], [6], [1], [1], [1], [1], [858, 295], [181, 65, 182], [1], [1, 18, 64], [1], [1], [1, 22, 147], [22, 10, 148, 3, 859, 25, 567, 34], [2, 296, 10, 568], [1], [1], [6], [6], [1], [1], [2, 149, 2, 860, 4, 2, 384], [2, 149, 2, 860, 4, 2, 384], [861], [861], [385, 862, 863], [385, 862, 863], [23, 569, 150, 864, 149, 2, 865, 3, 866, 386, 4, 867, 234, 2, 570, 3, 2, 183], [13, 23, 569, 150, 864, 149, 2, 865, 3, 866, 386, 4, 867, 234, 2, 570, 3, 2, 183], [94, 12, 1726, 1727, 297, 868, 4, 571, 59, 387, 12, 572, 1728, 5, 23, 869], [24, 150, 870, 17, 868, 4, 1729, 573, 95, 184, 4, 574, 1730, 4, 235, 59, 871], [386], [387, 31, 386, 872, 8, 388, 3, 1731], [1], [1], [1], [1], [1], [1], [], [81], [71, 873], [71, 873], [874], [874], [1], [1], [6], [1], [6], [6], [387], [2, 236, 1732], [875], [1], [1], [43, 1733, 3, 1734, 1735, 1736, 7, 1737, 151], [1], [1], [1], [1], [1], [24, 12, 109, 8, 387], [6], [1], [1], [1], [1], [1], [185, 876, 15, 389], [185, 876, 15, 389], [], [5], [2, 877, 878], [2, 877, 878], [390, 298, 8, 879, 575], [390, 298, 8, 879, 575, 8, 880, 110, 2, 1738, 3, 72], [575], [390], [390], [6], [1], [1], [1], [1], [1], [576], [391, 881, 144, 577], [391], [2, 1739, 3, 391, 1740], [391, 881, 144, 577], [577], [6], [6], [1], [1], [392, 299], [392, 299], [6], [6], [1], [6], [1], [1], [], [], [882, 883, 884], [882, 883, 884], [380, 885, 886], [380, 885, 886], [18, 10, 578, 1741], [1742], [6], [6], [4], [4], [1], [1], [1], [1], [6], [6], [44], [44], [393, 35], [2, 152, 82, 124, 579], [152, 82, 124, 579], [237, 4, 580], [1743, 4, 580], [71, 2, 887, 888, 3, 889, 581, 890, 891, 582, 13, 892, 2, 893, 3, 2, 50, 583, 186, 238, 83, 26, 125, 300, 5, 186, 894, 301, 584, 585, 186, 895, 394], [83, 26, 896, 7, 1744, 302, 5, 585, 186, 1745, 71, 2, 887, 888, 3, 889, 581, 890, 891, 582, 13, 892, 2, 893, 3, 2, 50, 583, 186, 238, 83, 26, 125, 300, 5, 186, 894, 301, 584, 585, 186, 895, 394], [], [], [1], [1, 18, 9], [1], [6, 18, 147, 29], [6], [6, 18, 9, 29], [7, 1746, 239, 1747, 897, 395, 4, 37, 586], [897, 395, 4, 37, 586], [303, 14, 3, 187, 898, 111, 587, 304, 3, 9, 27, 1748, 5, 30, 1749, 587, 899, 1750, 15, 7, 305, 3, 5, 1751, 8, 7, 240, 3, 5, 1752, 4, 1753], [5, 187, 898, 111, 587, 304, 9], [2, 49, 900, 901, 96, 3, 2, 153, 9, 2, 393, 902, 903, 234, 2, 241, 904, 4, 306, 905, 188, 5, 2, 562], [2, 49, 900, 901, 96, 3, 2, 153, 9, 2, 393, 902, 903, 234, 2, 241, 904, 4, 306, 905, 188, 5, 2, 562], [83, 9, 2, 189, 38, 153, 5, 2, 52, 65, 906, 4, 38, 17, 2, 1754], [906], [588, 8, 1755, 3, 589, 907, 14, 242, 1756, 3, 190, 1757, 908, 110, 2, 38, 1758, 3, 589, 2, 38, 590, 1759, 9, 2, 50, 154, 3, 83, 81, 3, 589, 1760, 6, 396, 1761, 4, 2, 1762, 73, 1763, 21, 909, 59, 33, 397, 3, 42, 2, 38, 9, 307, 1764, 1765, 13, 591], [191], [], [52, 126, 592], [2, 1766], [], [2, 97, 593], [1], [83, 1767, 594, 910, 21, 297], [1], [2, 911, 1768, 1769], [2, 51, 595, 596, 1770, 5, 1771, 592], [1], [1], [1], [6], [1], [6], [1], [83, 10, 912, 14, 7, 597, 1772, 1773], [94, 12], [1], [1], [1], [6], [6], [2, 1774], [2, 398], [2, 398], [243], [242, 244, 16, 23, 243], [7, 913, 914, 127], [7, 913, 914, 127], [24, 12, 308], [24, 12, 308], [243, 128, 4, 245], [1], [1775, 192, 4, 66, 192, 1776, 1777], [6], [6], [1], [1], [24, 12, 244, 16, 23, 243, 128, 4, 245, 24, 12, 45, 915, 4, 1778, 13, 1779, 4, 150, 1780, 5, 399], [24, 55, 56, 244, 16, 243, 128, 4, 245], [916, 192], [916, 192, 870, 17, 60], [400, 11, 401, 402, 403, 4, 404], [400, 11, 401, 402, 403, 4, 404], [18, 9, 2, 193, 236, 16, 7, 98, 3, 53, 5, 2, 1781, 112, 3, 309], [8, 1782, 95, 305, 14, 598, 8, 1783, 405, 1784], [917, 918, 1785, 1786, 4, 1787], [917, 918, 4, 59, 1788, 1789], [27, 599, 9, 7, 600, 601, 4, 17, 2, 919, 1790, 194, 9, 7, 406, 1791, 1792, 21, 81, 406, 920, 16, 1793, 921, 129, 4, 59, 109, 95, 27, 922], [18, 1794, 406, 920, 8, 1795, 921, 129, 4, 59, 109, 95, 27, 922], [1], [1], [1], [1], [1], [1], [400, 11, 401, 402, 403, 4, 404], [400, 11, 401, 402, 403, 4, 404], [23, 923, 8, 924], [23, 923, 8, 924, 925, 155, 1796, 129], [1797], [242, 244, 16, 23, 243, 128, 245, 926, 23, 95], [927, 602, 3, 407, 61, 928], [927, 602, 3, 407, 61, 928, 246, 7, 1798, 1799], [929, 246, 7, 398], [929, 246, 7, 398], [5, 84, 310, 247, 1800, 408, 53, 301, 192, 244, 4, 930, 76, 2, 247, 12, 248, 16, 109, 11, 409, 13, 931, 11, 410, 13, 932], [5, 84, 310, 247, 192, 3, 408, 53, 301, 192, 244, 4, 930, 76, 2, 247, 12, 248, 16, 109, 11, 409, 13, 931, 11, 410, 13, 932], [1], [1], [6], [6], [1], [1], [], [], [54, 113, 397, 307, 4, 591], [54, 909, 4, 1801, 603, 307, 397, 4, 591], [57, 33, 39], [39, 85], [2, 249, 933, 934, 60, 9, 604, 40], [2, 249, 933, 934, 60, 9, 604, 40], [6], [6], [2, 47, 195, 99], [2, 47, 195], [6], [1], [1], [1], [1], [250], [250], [71, 2, 62, 195], [71, 2, 62, 195], [935, 936, 2, 937, 938, 4, 939], [935, 936, 2, 937, 938, 4, 939], [57, 33, 39], [39], [1], [1], [99], [81, 99], [1], [1], [1], [1], [1], [1], [], [2, 940, 156, 1802, 411, 28, 11, 1803, 37, 311, 53], [30], [14, 157, 14, 30, 312, 605], [18, 412, 941, 8, 413, 942, 606, 19, 414, 943], [48, 18, 412, 941, 8, 413, 942, 606, 19, 414, 943], [], [43], [415], [25, 313, 18, 9, 193, 16, 19, 156, 1804, 8, 607, 415, 314], [2, 944, 42, 945, 54, 315, 5, 946, 4, 947], [1805, 1806, 1807, 2, 156, 10, 2, 944, 42, 945, 54, 315, 5, 946, 4, 947], [1], [1], [6], [312], [1], [1], [13, 948, 4, 949, 305, 1808, 158], [13, 948, 4, 949, 1809, 158, 1810], [159, 24, 12, 1811, 11, 1812], [233], [233], [37], [37], [196, 608], [196, 608], [156], [2, 156], [1], [1], [1], [1], [1], [1], [], [2, 52, 197, 3, 1813, 413, 45, 61, 1814, 413, 11, 1815, 1816, 9, 609, 8, 56, 100], [950], [2, 251, 1817, 950, 3, 19, 156, 12, 45, 610, 611, 16, 196, 608], [951], [2, 38, 156, 1818, 952, 10, 953, 5, 951, 5], [1], [1], [612, 2, 156, 9, 2, 38, 60, 184], [6], [6, 1819, 26, 252, 7, 1820, 1821, 1822], [6], [6], [1], [1], [6], [6], [563, 416], [563, 416], [30], [30], [], [], [2, 1823, 3, 417], [954, 66], [418, 955, 316, 253, 11, 1824, 613, 1825, 1826, 8, 1827], [418, 955], [1], [1], [1], [1], [6], [6], [1], [1], [30], [30], [956, 419], [2, 254, 3, 2, 956, 419, 957, 317], [958], [958], [7, 572, 1828, 1829, 614], [86, 615], [86, 615], [616, 420], [616, 420], [1], [1], [1], [1], [1], [1], [959, 36], [2, 51, 1830, 617, 1831, 1832, 5, 2, 959, 36], [419], [2, 160, 35, 9, 419], [421], [421, 9, 2, 49, 1833, 960, 1834], [6], [1], [1], [417, 9, 29, 1835, 5, 198, 1836, 11, 961, 1837], [1], [1], [101, 199, 30], [962, 300, 16, 101, 199, 30, 14, 2, 618, 1838, 1839, 3, 2, 50, 80, 318, 3, 1840], [1], [1], [1], [6], [1], [1], [200, 4, 1841], [619], [22, 10, 963, 4, 64, 7, 107, 3, 964, 20, 422], [20, 1842, 201, 10, 963, 4, 64, 7, 107, 3, 964, 20, 422], [1843, 1844], [1845, 1846], [6], [620], [1], [1], [6], [1], [1], [1], [1], [1], [1], [1], [965, 966, 967], [965, 966, 967], [], [81], [968, 969], [968, 969], [6], [6], [1], [1], [6], [6], [2, 1847, 970, 1848, 25, 297, 1849], [962, 971, 7, 1850, 14, 1851, 5, 2, 423, 1852, 1853], [1], [1], [1], [1], [6], [24, 147, 1854, 1855, 1856, 10, 1857, 1858, 1859], [1], [1], [1], [1], [6], [6], [], [], [], [], [130, 70, 972, 1860], [70, 972, 1861], [191], [191], [973, 4, 974], [973, 4, 974], [420, 4, 621, 975], [420, 4, 621, 975], [6], [6], [1], [1], [1], [1], [976, 424], [976, 424], [977, 4, 51, 130], [977, 4, 51, 130, 3, 2, 161, 1862, 162], [622, 82], [622, 82, 3, 2, 1863, 1864, 4, 1865, 2, 317, 58, 425, 1866, 4, 1867], [2, 47, 978, 255, 4, 111, 623, 979], [2, 47, 978, 255, 4, 111, 623, 979], [2, 1868], [1869, 237, 580, 624], [1], [1], [1], [1, 24, 256, 1870, 8, 31, 1871, 1872], [1], [24, 1873, 23, 313, 257, 159, 24, 1874, 1875, 1876], [1877, 1878, 21, 28, 1879], [1880, 980, 625, 41, 1881, 114, 4, 1882, 4, 7, 626, 1883, 202], [1884, 2, 1885, 8, 627, 1886, 101, 251, 1887, 303, 1888, 1889, 315, 1890, 3, 27, 1891], [58, 7, 1892, 1893], [1894, 981, 58, 4, 415], [58, 4, 415], [628, 982, 257, 629, 630, 5, 983, 631, 155, 8, 984, 627, 5, 985, 986, 310, 11, 101, 241, 319, 628, 45, 982, 8, 1895, 257, 629, 8, 7, 1896, 426, 628, 55, 45, 987, 14, 7, 988, 3, 1897, 14, 989, 5, 7, 1898, 1899, 1900, 8, 1901, 8, 7, 632, 1902, 3, 7, 1903, 633, 5, 19, 317, 2, 633, 1904, 27, 427], [8, 257, 629, 630, 5, 983, 631, 155, 8, 984, 627, 5, 985, 986, 310, 11, 101, 241, 319], [1905, 634, 9, 990, 14, 2, 634, 3, 320, 129, 571, 578, 991, 8, 235, 25, 43, 635], [2, 634, 3, 320, 129, 571, 578, 991, 8, 235, 25, 43, 635], [1], [6, 1906, 203, 1907, 41, 27, 15, 636], [1], [1], [1], [1], [1], [1], [992], [992], [993], [993], [321, 637, 11, 115, 322], [321, 637, 11, 115, 322], [7, 257, 55, 249, 1908, 43, 1909, 428, 323], [2, 257, 429, 1910, 14, 638, 1911, 633, 1912, 1913, 8, 1914], [994, 4, 995, 996, 997], [994, 4, 995, 996, 997], [998], [998], [6], [6], [1], [1], [6], [6], [5, 2, 131, 318], [5, 2, 1915, 1916, 5, 2, 131, 318], [7, 392, 299], [7, 392, 299], [43, 323], [43], [41, 22, 64, 999, 19, 1000, 639], [41, 22, 64, 999, 19, 1000, 639, 303, 22, 10, 7, 1917, 5, 1001], [1002, 1918, 77, 1003, 1004, 3, 1919], [77, 1003, 1004], [8, 1920, 1005, 640, 1921], [48, 3, 2, 1006, 1922, 3, 2, 153], [6], [6], [1], [1], [1], [1], [1], [], [250], [], [4, 430, 1923], [258, 10, 116, 5, 1924, 47, 1925, 8, 2, 1007, 641, 258, 4, 642, 1008], [1007, 641, 258, 4, 642, 1008], [], [78], [643, 258], [1], [1], [1], [1], [1], [1], [1], [5], [1926, 407, 242, 1927, 1009], [1], [1], [], [1], [1], [644, 259], [1, 22, 117, 25, 2, 1010, 3], [1], [259, 1011, 324, 645], [2, 601, 431, 29, 252, 1928, 185, 242, 1009, 8, 2, 1012, 16, 7, 325], [1], [1], [1], [6], [6], [1], [1], [], [], [2, 194, 3, 2, 36], [13, 2, 194, 3, 2, 36], [6], [6], [6], [6], [48, 3, 1013, 1014, 115, 5, 2, 1015, 326], [1013, 1014, 115, 5, 2, 1015, 326], [1016, 1017, 11, 1018, 1019], [1016, 1017, 4, 1018, 1019], [1929, 1930, 160, 646], [432], [2, 1931], [2, 1020, 954, 260, 19, 611, 593, 646], [1], [1], [1], [1], [1], [1], [1], [638, 1021], [1], [1], [1], [1], [1], [77], [1932], [], [], [294], [294], [1022], [1022, 102], [433, 647, 102, 648], [433, 647, 102, 648], [649, 429], [102, 650, 20, 1023, 1933, 8, 1934, 42, 649, 582, 4, 564, 8, 2, 1935, 3, 20, 326, 14, 2, 326, 3, 651, 1936], [1], [1], [7, 1024, 1937, 423, 1938, 8, 87, 652, 5, 2, 653], [5, 18, 102, 1939, 2, 653, 1940, 56, 382, 15, 1941, 87, 1942, 4, 382, 15, 87, 652, 5, 1943, 654, 1944, 18, 1005, 1945, 2, 50, 80, 1946, 8, 1947, 1948, 5, 87, 1025, 4, 1025, 58, 87, 655, 4, 23, 261, 113, 8, 1949, 204, 47, 261, 11, 652, 21, 1026, 654, 5, 2, 653, 14, 1950, 1951, 656, 2, 50, 80], [1], [1], [1], [1], [1], [1], [1027, 144, 88], [1027, 144, 88], [25, 2, 327, 3, 1028, 5, 20, 657, 658], [2, 327, 3, 1028], [1029, 1030], [1029, 1030], [22, 1031, 72, 5, 88], [22, 1031, 72], [], [], [659, 434], [659, 434], [], [576], [], [102, 10, 435, 130, 5, 2, 660, 3, 4, 1952, 5], [102, 1953, 17, 2, 1954, 3, 2, 34, 3, 88], [262], [20, 1955, 433, 647, 102, 648], [6, 661, 1032, 5, 42, 22, 1033, 31, 1956, 20, 396, 1957], [14, 7, 1958, 2, 28, 583, 298, 1959, 656, 2, 126, 3], [102], [2, 328, 255], [1], [28, 157, 1960], [6], [1], [1961, 1034], [1], [84, 1962], [1], [102, 1963, 8, 2, 88, 318, 3, 1964, 4, 10, 435, 8, 436, 329, 14, 1035, 3, 88], [102, 10, 435, 130], [1036, 1037], [1036, 1037], [1], [1], [1], [163, 330, 8, 1965, 21, 132, 65, 20, 1966, 148, 70, 1967, 61, 20, 1968, 8, 18], [1], [1], [1], [1], [1], [1], [1], [], [], [1038, 1039, 1040, 1041, 662, 1042, 1043, 4, 1044, 1045], [1038, 1039, 1040, 1041, 662, 1042, 1043, 4, 1044, 1045], [2, 1046, 3, 331], [1046, 3, 331], [2, 328, 255], [328], [1], [1], [6], [6], [1], [1], [6], [6], [1], [1], [], [], [2, 328, 255], [2, 328, 255], [50, 51, 1047, 154], [50, 51, 1047, 154], [24, 73, 7, 1048, 3, 1049, 1050, 61, 48, 49, 3, 155, 73, 1051, 1052, 332, 205, 164, 430, 329, 1053], [24, 73, 1049, 1051, 1052, 332, 205, 164, 329, 1053], [1969, 1970, 8, 663, 2, 596, 1971, 33, 164], [1054, 3, 437, 4, 1972, 3, 664], [22, 665, 1054, 3, 437, 4, 1973, 3, 664], [70, 164], [70, 164], [70, 164, 1974], [1], [1], [70, 164], [1], [1975, 1976, 1977, 3, 57, 33, 1978], [623, 1979], [6], [164, 666, 667, 1980], [6], [6], [1], [1], [1], [1], [668, 669, 11, 670], [668, 669, 11, 670], [1055], [7, 1981, 61, 7, 1055], [27, 671, 1056], [23, 671, 1056, 4, 23, 672], [2, 28, 570, 3, 2, 206, 1057, 12, 29, 438, 1982, 4, 2, 206, 1983, 12, 1984, 1985], [48, 3, 1986], [1987], [2, 1988, 151, 3, 7, 263], [1], [1], [1], [1], [6], [6], [30], [81, 30], [], [], [673, 674], [673, 674], [1], [1], [1058, 1989, 333, 1990, 4, 1991], [2, 1058], [1], [1], [1], [1059], [8, 30], [7, 668, 669, 11, 670], [7, 263], [673, 674], [1059], [619, 77, 1992, 4, 1993, 1994, 1995, 1996], [2, 675, 263, 2, 1060, 1061, 263, 2, 264, 1061, 263, 4, 2, 1997, 263], [1], [6], [1998], [265, 1999], [1], [1], [1], [1], [1], [1062, 2000, 8, 2, 2001, 2002, 13, 334], [1], [1], [1], [1], [1], [1], [1], [7, 439, 11, 7, 266], [7, 439, 11, 7, 266], [7, 1063], [7, 1063], [5, 626, 1064], [5, 626, 1064, 11, 5, 2003], [13, 2, 676, 3, 23, 672], [13, 2, 676, 3, 2, 440, 677, 606, 605, 672, 33, 678], [118, 677], [118, 677], [1065], [1065], [1], [1], [], [1], [1], [1], [1], [335, 636, 4, 103], [335, 636, 4, 103, 15, 2004, 8, 207, 103, 4, 441], [8], [], [442, 12, 2005, 104, 33, 443, 4, 607, 8, 133, 1066, 8, 8, 133, 16, 443], [48, 3, 1067], [1], [1], [2, 208, 26, 1068, 444, 33, 1069, 1070, 679, 4, 2, 208, 9, 104, 4, 336, 1071, 33, 2, 439], [2, 208, 26, 1068, 444, 33, 1069, 1070, 679, 113, 24, 680, 1072, 679, 2006, 2, 266, 2, 208, 9, 104, 4, 336, 1071, 33, 2, 439, 113, 681, 33, 2, 266], [14, 3, 2, 208, 64, 2, 38, 1073, 3, 204, 247, 682, 1074, 1075, 205, 4, 125, 31, 989, 7, 1076, 2007, 4, 12, 2008, 1077, 3, 1078, 103], [2, 208, 64, 2, 38, 1073, 3, 204, 247, 682], [2, 678, 445, 302], [2009, 2010], [678], [6], [1], [2, 208, 664], [43, 3, 2, 84, 53, 2011, 5, 2012, 446, 2013, 2014], [1], [1], [1], [1], [1], [1], [1], [1], [1], [1], [1], [1], [1], [], [], [], [], [1079, 1080], [1079, 1080], [1], [337, 597, 1081], [337, 597, 1081], [2015], [], [6], [6], [6], [6], [1], [1], [6], [6], [187], [187], [267], [267], [1082, 4, 1083], [1082, 4, 1083], [1084], [1084], [], [], [683], [], [2016, 197], [1], [24, 12, 2017], [6], [6], [2, 2018, 683], [17, 2, 2019, 3, 447, 21, 2, 2020], [7, 302, 5, 2021, 2, 1085, 4, 107, 3, 2, 153], [1], [1], [1], [1], [1], [1], [2, 683, 1086, 2022, 1087, 2023, 3, 60], [1], [1], [1], [1], [1], [1], [1088], [1088, 1089, 2024, 2025, 435, 8, 2, 2026], [684], [2027, 2028, 1090, 2029, 2030, 8, 684], [7, 1091, 1092, 685, 17, 1093, 437, 41, 1094, 5, 1095, 268], [5, 659, 2031, 665, 2, 2032, 269, 209, 7, 1091, 1092, 685, 17, 1093, 437, 41, 1094, 5, 1095, 268], [205], [72, 2033, 448, 205, 34, 3, 1001], [1], [416, 2034, 2035, 2036, 1067], [1096, 9, 2, 338, 1097, 3, 20, 51, 1098], [1], [1], [1], [1], [6], [6], [5, 7, 686, 687, 5, 1099, 47, 134], [5, 7, 686, 687, 5, 1099, 47, 134], [8, 1100, 4, 1101, 269, 209], [8, 1100, 4, 1101, 269, 209], [22, 2037, 5, 2038, 21, 667, 655], [667, 655], [2039, 2040], [688, 4, 209, 2041, 17, 2, 689, 1102, 5, 2, 47, 264, 586, 2042, 15, 1103, 5, 2, 2043, 126], [185, 2, 338, 3, 2, 635, 130, 688], [210, 131, 318, 2044, 3, 269, 2045, 2046, 8, 2, 1034, 185, 2, 2047, 4, 2048, 338, 3, 130, 688, 5, 576], [24, 73, 2049, 21, 182], [2050], [269, 209], [], [269, 209], [1], [1], [6], [1], [1], [1], [6], [209, 10, 116], [135, 79], [1], [1], [6], [6], [1], [1], [6], [6], [], [], [7, 339, 3, 211, 4, 340, 14, 136, 14, 165, 60, 449, 4, 309], [7, 339, 3, 211, 4, 340, 14, 136, 14, 165, 60, 449, 4, 309], [133, 81, 1104], [133, 81, 1104], [7, 202, 3, 89, 450, 5, 23, 97], [14, 21, 59, 53, 3, 451, 24, 2051, 17, 7, 202, 3, 89, 450, 5, 23, 97, 42, 24, 630, 2052, 110, 13, 1105, 76, 2, 97, 15, 23, 2053], [2054, 108, 248, 16, 23, 97], [66, 270, 31, 94, 625, 428, 341, 342, 3, 452, 7, 690, 97, 16, 42, 334, 248, 155], [1106, 1107], [1106, 1107, 31, 252, 43, 3, 2, 1108, 2055, 8, 2, 2056, 3, 23, 2057], [1], [1], [53, 4, 1109], [53, 5, 1109], [1], [1], [188, 270, 235, 7, 339, 3, 211, 4, 340, 14, 136, 14, 165, 60, 449, 4, 309], [188, 270, 235, 7, 339, 3, 211, 4, 340, 14, 136, 14, 165, 60, 449, 4, 309], [66, 270, 2058, 2059, 453, 234, 2, 1110, 212, 3, 82, 124], [2, 66, 451, 1111, 1112, 5, 2, 66], [2, 137, 451, 1113, 15, 2, 62, 67, 137, 1114, 1115, 11, 1116], [2, 137, 451, 1113, 15, 2, 62, 67, 137, 1114, 1115, 11, 1116, 190, 4, 2060, 105, 5, 59, 1117, 343, 1089, 1118, 15, 7, 1119, 42, 45, 1120, 2061, 8, 2, 67, 105, 114, 2062, 4, 2063], [2064, 313], [334, 248, 155, 344, 8, 1121], [66, 270, 31, 94, 625, 428, 341, 342, 3, 452, 7, 690, 97, 16, 42, 334, 248, 155, 344, 8, 1121], [2, 345, 3, 323, 1122, 21, 190, 9, 45, 1122, 21, 2, 2065, 2066, 3, 2, 2067, 166, 42, 2, 1012, 2068, 346], [1], [1], [1], [6], [6], [211], [211], [347], [347], [1123, 454, 455, 4, 2069, 5, 1124, 1125], [1123, 454, 455, 4, 2, 119, 3, 2070, 5, 2071, 2072, 1124, 1125], [7, 202, 3, 89, 450, 5, 23, 97], [7, 202, 3, 89, 450, 5, 23, 97], [2, 167, 95, 1126, 1127, 2073, 16, 1128, 1129], [24, 167, 2074, 95, 1126, 1127, 16, 1128, 1129], [2075, 2076, 4, 2077], [157, 980, 2078], [270], [1], [1], [1], [1], [7, 347], [340, 4, 59, 871], [1], [1], [1], [1], [1], [1], [271, 348], [2, 271, 348, 2079, 2080], [1], [1], [159, 456, 167, 17, 23, 1130, 349, 2, 350], [2081, 9, 159, 456, 167, 17, 23, 1130, 349, 2, 350], [16, 272], [16, 272], [6], [6], [691, 3, 23, 268], [24, 2082, 691, 3, 23, 268, 17, 60], [58, 4, 311, 53], [348, 2083, 981, 58, 4, 311, 53, 54, 5, 2, 2084, 2085], [24, 31, 316, 444, 33, 118, 692], [48, 24, 12, 116, 21, 316, 444, 33, 118, 692], [1], [1], [1], [6], [1], [1], [1131], [1131], [271, 348], [271], [138], [14, 693, 14, 19, 273, 632], [23, 213, 31, 252, 1132], [2086, 692, 2087, 7, 202, 3, 89, 2088, 2089, 213, 12, 1132], [18, 1133, 694, 303, 351, 352], [1133, 694, 303, 351, 352], [456], [138], [456, 213], [24, 312, 2090, 8, 2091, 436, 2092], [1], [1], [5, 2, 114, 24, 12], [1], [1], [1], [1], [1], [18, 9, 29, 1134, 274], [1], [1], [25, 695, 43, 696, 348], [2093], [], [1], [1], [1], [1], [314], [7, 2094, 1135, 1136, 2095, 133, 314, 953, 25, 2096, 158, 5, 2097, 2098, 5], [131, 11, 2099], [118], [342], [342], [697, 11, 59, 698], [697, 11, 59, 698], [2, 52, 457, 458, 2100, 275, 459, 14, 7, 2101, 53, 43, 3, 37, 2102, 3, 276, 1137, 5, 353, 23, 2103, 2104, 9, 41, 1138, 3, 2105, 12, 1076, 11, 2106, 2107, 649], [2, 275, 253, 1139, 15, 2, 316, 253, 81, 1140, 30, 699], [2, 275, 253, 1139, 15, 2, 316, 253, 700, 1140, 30, 699], [1], [1], [1], [1], [1], [1], [133, 314], [49, 273, 442, 607, 133], [133, 314], [22, 1136, 2108, 133], [18, 1141, 2, 184, 21, 1142, 272], [7, 275, 459, 97, 1141, 272, 4, 2109], [6], [6], [24, 701, 1143, 23, 460], [24, 1143, 23, 460, 71, 2110], [275, 459, 12, 1144, 2111, 405, 2112, 2113], [249, 23, 2114, 4, 2115, 55, 56, 1145, 2116], [7, 275, 459, 452], [27, 2117, 2118, 4, 97], [2119, 2120], [24, 2121, 2122, 5, 354], [18, 9, 2123], [1], [18, 26, 2124, 16, 268, 17, 7, 1146, 3, 60, 66, 4, 702], [2125, 9, 239, 2126, 11, 2127, 8, 2128, 2129], [24, 312, 31, 2130, 21, 408, 452, 2131, 21, 2132, 703, 312, 13, 697, 11, 59, 698], [1], [1], [6], [1], [6], [6], [1], [1], [1], [1], [461], [461], [462], [462], [25, 2, 462, 704, 1147], [462, 704, 1147], [1], [6], [1148], [1148], [463, 1149, 34, 1150, 34, 214, 3, 355, 464, 1151, 1152, 34, 88, 1153, 34, 4, 1154, 2133, 2134, 2135, 389], [463, 1149, 34, 1150, 34, 214, 3, 355, 464, 1151, 1152, 34, 88, 1153, 34, 4, 1154, 34], [2, 152, 2136, 428, 2137, 2138, 2139, 2140, 8, 2141, 21, 7, 2142, 15, 465, 65, 2143, 2144, 3, 2, 2145, 2146], [17, 461], [356, 3, 2, 153], [465, 9, 2147, 8, 252, 7, 302, 2148, 16, 1155, 4, 705, 2149, 5, 2, 646, 251, 296, 2150, 5, 54, 705, 4, 1155, 2151, 277, 45, 2152, 8, 2, 466, 3, 7, 1156, 1006, 640], [1], [1], [465], [465], [1], [1], [1], [1], [1], [2153, 2154, 2155, 2156, 40], [1], [1], [1], [1], [1], [1], [1], [1], [], [2157], [1157, 1158], [1157, 1158], [1159], [1159], [1], [6], [6], [], [], [1], [1], [1], [1], [1], [2158], [1160, 1161], [1160, 1161], [1162], [1162], [1163], [1163], [467], [467], [2159, 9, 7, 2160, 162], [18, 971, 7, 2161, 2162], [2, 2163, 276, 2164], [], [2, 2165, 2, 206, 1057, 3, 2, 1164, 161, 632], [1], [29, 2166, 2167, 8, 2168, 190], [2169, 2170, 39, 2171], [1], [1], [1], [1], [1], [1], [1], [1, 24, 256], [1], [6, 2, 215, 311, 10, 1165], [6], [6, 18, 2172, 8, 706, 5], [6], [57, 33, 39, 85], [39, 85], [1166, 1167, 85, 1168, 100, 2, 212, 425, 4, 681, 468], [320, 1169, 1170, 1166, 1167, 85, 45, 1168, 100, 2, 212, 425, 4, 681, 468], [43, 3, 37, 2173, 2174, 2175, 2176, 2177, 5, 139], [2178, 2179, 2180, 151], [139, 26, 7, 2181, 2182, 469, 21, 6, 1171, 2183], [27, 469, 9, 1172, 13, 2184, 196, 4, 216, 240, 2185, 4, 2186, 1173], [2, 278, 1174, 8, 470, 27, 706, 1175, 8, 13], [2, 278, 1174, 8, 470, 27, 706, 1175, 8, 13], [78, 332], [332], [6], [1], [1], [1], [1], [1], [333], [189, 36, 707], [2, 51, 2187, 3, 708, 5, 139, 12, 15, 2, 189, 36, 707], [684], [71, 52, 126, 592, 2, 2188, 357, 596, 2189, 2190, 2191, 5, 2, 327, 3, 139], [2, 152, 73, 2192, 5, 78, 332], [1], [1], [5, 2193, 2194, 2195, 2196, 1176, 14, 2197, 2198], [2, 709, 358, 2199, 3, 114, 1177, 5, 139, 9, 1173], [2, 111, 32, 3, 139, 9, 359], [139, 2200, 2201], [1178, 8, 2202, 2203, 2204, 910, 21, 2205, 4, 432, 12, 49, 611], [2206], [152, 168, 471, 1179], [], [40, 12, 447, 42, 1180, 160, 2207, 5, 139, 16, 2208, 2209, 4, 2210, 2211], [152, 168, 471, 1179], [152], [139], [152, 471, 2212], [13, 40, 73, 2213, 114, 1181, 2214, 1182, 4, 2215, 11, 464, 1181, 2216, 8, 987, 358, 2217], [1], [1], [1], [1], [6], [1], [6], [1], [1], [1], [1], [1], [1], [168, 1183, 5, 2, 1184, 710, 360, 3, 47, 134, 35], [7, 2218, 2219, 25, 168, 1183, 5, 2, 1184, 710, 360, 3, 47, 134, 35], [711, 472, 110, 2220], [22, 2221, 2222], [8, 1185, 21, 1186], [8, 1185, 21, 1186], [1187, 14, 7, 639, 4, 2223, 14, 19, 273], [1187], [2224, 41, 20, 473, 64, 108, 1188, 21, 59, 712, 4, 40, 10, 1189, 1190, 21, 18], [41, 20, 473, 64, 108, 1188, 21, 59, 712, 4, 40, 10, 1189, 1190, 21, 18], [2225, 3, 2, 712, 17, 705, 2226], [24, 2227], [6], [6, 2228], [1], [2229], [1], [22, 10, 1156, 5, 2230], [710, 360, 3, 47, 134, 35], [47, 134, 35], [1191, 10, 1192, 430, 1193], [1191, 10, 1192, 430, 1193], [17, 346, 711, 117, 5, 20, 713], [17, 346, 711, 117, 5, 20, 713], [2231, 13, 714, 463, 4, 20, 427, 2232, 2233], [714, 463], [1], [22, 970, 7, 2234, 631, 214, 2235, 5, 47, 134, 162], [1], [1], [1], [6], [6], [1], [1], [715], [715], [584, 1194, 30, 11, 57], [89], [89], [24, 716, 128], [24, 716, 128], [24, 256, 29, 2236, 573, 95, 11, 252, 336, 2237, 101, 345], [24, 256, 29, 573, 95], [474], [474], [1], [1], [1], [1], [2238], [37], [37], [1195, 1196], [1195, 1196], [1197, 1198, 1199, 1200, 717, 1201, 184], [1197, 1198, 1199, 1200, 717, 1201, 184], [7, 718, 1202], [7, 718, 1202], [2239], [48, 3, 2, 361, 24, 1203, 23, 1204, 76, 23, 1205], [2, 361, 24, 1203, 23, 1204, 76, 23, 1205], [6], [6], [1], [1], [1], [1], [1206], [1206], [2240], [169, 1207, 76, 2, 475, 11, 476], [169, 1207, 76, 475, 11, 476], [474], [474], [475, 11, 476], [475, 11, 476], [2241], [2242], [128], [54, 3, 155], [1], [1], [1], [7, 690, 1208, 1177], [715], [1], [1], [1], [1], [1], [1], [1], [1], [2243], [1], [2244, 2245], [1209, 1210], [1209, 1210], [279, 1211, 1212], [7, 686, 687, 5, 279, 1211, 2246, 144, 1212], [618], [618], [18, 2247, 136], [48, 2, 2248, 405, 182, 2249, 17, 23, 427], [1], [1213], [22, 1214, 18, 10, 1215, 8, 701, 60, 280, 8, 689], [22, 1216, 2, 203, 41, 18, 10, 1215, 8, 701, 60, 280, 8, 689], [719], [], [719], [], [719], [1], [20, 201], [1], [1], [1], [24, 147], [1], [22, 1216, 2, 2250, 3, 662, 2251, 1176], [20, 2252, 14, 130, 26, 1217], [6], [6], [1], [1], [6], [6], [2, 120], [2, 120], [46, 477, 478], [46, 477, 478], [87, 1218], [87, 1218], [1219], [1219], [6], [29, 2253], [612], [720, 721], [1, 27, 281, 5, 2, 2254, 96], [1], [1, 85, 12, 650, 8, 2255, 447], [1], [1, 5], [1], [13, 2, 120, 5, 2, 115, 36], [722, 10, 448, 13, 2, 120, 5, 2, 115, 36, 14, 7, 479, 723], [2256], [341, 2257], [], [170, 3, 27, 197, 12, 3, 2258, 131, 87, 2259], [16, 7, 479, 723], [2260, 160, 722, 10, 448, 13, 2, 120, 5, 2, 115, 36, 14, 7, 479, 723], [1220], [17, 28, 11, 57, 2261], [940, 2262, 1221, 3, 7, 87, 724, 1221, 5, 480], [1], [1], [6], [6], [6], [6], [2263], [2264], [46, 477, 478], [46, 477, 478], [720, 721, 590, 1222, 4, 2265], [720, 721, 590, 1222], [2266, 14, 481, 11, 445], [119, 305, 2267, 3, 2268, 725, 4, 160, 42, 1223, 5, 206, 2269, 113, 45, 2270, 2, 2271, 16, 1224, 8, 640, 27, 2272, 14, 481, 11, 445], [482, 385, 4, 482, 1225], [482, 1225, 4, 482, 385], [6], [6], [722], [2273], [1224, 2274, 2275, 2276, 8, 471, 4, 217, 124], [27, 331], [6], [1], [1], [1], [1], [1], [1], [1], [6], [6], [1], [1], [6], [6], [90], [90], [262], [262], [643, 258], [643, 258], [107, 4, 1023, 483], [278], [267, 330, 2277, 2278, 2279], [52, 126, 416], [20, 2280, 21, 714, 2281, 218], [1], [2282], [1], [2283], [1], [2284], [22, 10, 1226, 5, 434, 111, 484], [434, 111, 484], [726, 1227, 72, 214, 25, 34, 3, 88], [34, 3, 88], [2285, 726, 10, 116, 5, 1228, 88], [1228, 88], [6], [29, 5, 2, 2286], [6], [6], [1], [20, 2287], [20, 201], [1229, 2288], [1], [1], [726], [1], [1], [1], [1], [1165, 2289, 166, 2290, 727, 2291, 19, 2292, 2293, 728, 110, 2, 126, 2294, 2295, 2296, 2297, 458, 729, 2298, 2299, 4, 109, 2300, 166, 2, 2301, 579, 472, 101, 663, 3, 2, 2302, 4, 2303, 2304, 730], [1], [1], [6], [6], [1], [1], [2, 51, 485], [2, 51, 485], [2, 1230], [1230], [441], [441], [1], [1], [1], [1], [1], [1], [], [6], [731], [], [], [1], [1], [1], [1], [1], [1], [15, 8], [2, 2305, 2306, 3, 2, 732, 2307], [1], [1], [1231], [1], [1], [1], [1], [1], [1], [6], [34, 3, 146], [34, 3, 146], [78], [78], [486, 8, 2, 203, 3, 1232, 4, 487, 460], [486, 8, 2, 203, 3, 1232, 4, 487, 460], [], [], [], [], [1233, 72], [1233, 72], [146], [148, 3, 1234], [], [565], [145], [6], [1], [1], [1], [1], [1], [1], [1], [219, 98], [1], [1], [7, 2308], [733], [], [], [22, 2309, 2, 1235, 3, 2, 2310, 3, 114, 21, 488, 216], [1235, 21, 488, 216], [2311], [2, 295, 196, 296], [488, 216], [488, 216], [567, 5, 489], [567, 489], [2, 2312, 279, 9, 1026, 3, 2313], [], [], [], [2, 296, 10, 568, 13, 2314, 2315], [296, 10, 568], [148, 3, 859], [], [295], [1], [1], [1], [1], [1], [1], [2316], [6], [1], [1], [1236, 1237], [1236, 1237], [2, 1238, 1239, 3, 734], [1], [1], [1], [1], [1], [5, 261], [2317, 8, 321, 322], [2318, 1240], [15, 2319, 2320], [2321], [8, 2322, 2323, 2324], [1], [1], [1], [], [5, 707], [2325], [], [2326, 254, 4, 395], [], [2327, 34], [1], [1], [1], [22, 1241, 2328, 2329, 2330, 394, 7, 2331, 299, 5], [6], [1], [1], [2332, 1242], [2333, 1242], [2, 1243, 91, 5, 1244], [2, 1243, 91, 5, 1244], [345], [2334], [1], [1], [2335, 490], [1], [1], [6], [6], [6], [1245, 2336, 2337, 2338], [1246, 2339, 12, 68, 15, 2340, 11, 2341], [1247, 12, 91, 8, 2342, 7, 735], [2, 1247], [1248, 1249, 55, 2343, 204, 1250, 362, 171, 1090], [1248, 1249], [1251, 2344, 8, 2, 735, 14, 2345, 121, 1252, 491, 2346], [1251], [2, 1245, 9, 736, 17, 2, 658], [17, 2, 658], [1], [1], [1], [1], [1], [1], [1253], [1253], [7, 2347], [2348], [1254], [1254], [8, 2349, 2350, 15, 2351, 2352], [2, 36], [36], [1255, 1256], [1255, 1256], [1], [1], [6], [6], [1], [1], [363, 121, 140, 117, 5, 90], [90, 237], [363, 121, 140, 10, 2353, 2354, 5, 90, 5], [1], [2355, 1257, 2356], [2, 2357, 3, 1258, 2358, 472, 737, 5, 1259], [1259], [492, 72, 9, 2, 738, 3, 2, 739, 238, 3, 740, 4, 741], [492, 72], [363, 121, 140, 742, 8, 7, 165, 2359, 22, 2360, 25, 2361, 17, 2, 2362, 3, 2, 493, 5], [], [], [], [6], [], [], [], [1], [1], [1], [1], [1], [1], [250], [1], [1], [1], [1260, 4, 1261, 238], [1], [237], [6], [1], [1], [44], [6, 27, 2363, 13, 1262], [494], [494], [], [], [1263, 1264], [1263, 1264], [27, 1265, 426, 4, 414, 495], [27, 1265, 426, 4, 414, 495, 21, 2, 38, 364, 5, 281, 2364, 13, 2365, 15, 2, 35, 2366], [7, 2367, 3, 2368], [6], [49, 1266, 35, 5, 2, 52], [49, 1266, 35, 426, 2369, 1267], [48, 18, 10], [1], [1], [1], [1], [1], [1], [2, 49, 193, 172, 12, 2, 1268, 496, 1269, 1270, 4, 220], [1268, 496, 1269, 1270, 4, 220], [2, 497, 282, 9, 2, 189, 743, 2370, 119, 3, 2371], [2, 497, 282], [498, 172, 31, 1246, 108, 1271, 13, 2, 499, 221, 365, 19, 283, 96], [2, 499, 221, 365, 19, 283, 96], [18, 1272, 7, 158, 42, 9, 5, 7, 1273, 744, 33, 2, 1274, 3, 2, 2372], [18, 1272, 7, 158, 42, 9, 5, 7, 1273, 744, 33, 2, 1274, 3, 2, 282], [365, 7, 499, 221, 365, 19, 283, 96, 9, 19, 1142, 361, 8, 2373, 7, 560], [2, 1146, 3, 7, 498, 2374, 242, 1271, 13, 7, 499, 221, 365, 19, 283, 96, 896, 2375], [19, 2376, 745, 55, 2377, 19, 2378, 2379, 1275, 15, 496, 172], [496, 172], [1], [1], [1], [1], [6], [6], [1276], [1276], [1277, 11, 1278], [1277, 11, 1278], [2, 497, 282], [2, 497, 282], [2, 172, 4, 2, 221], [1279, 4, 1280], [1279, 4, 1280], [7, 2380, 3, 498, 172], [498, 172], [1], [1], [1], [341, 1281], [], [262], [1], [6], [6, 1282, 9, 2381, 16, 2, 98, 3, 746, 222], [1], [6], [1], [1], [1], [1], [1], [747], [1], [1], [1], [1], [1], [1], [1], [1], [1], [7, 500, 745, 7, 1283, 11, 7, 1284], [7, 500, 745, 7, 1283, 11, 7, 1284], [], [5], [36], [5, 2, 36], [7, 37, 2382, 68, 15, 7, 1285, 1286, 4, 28, 366, 68, 15, 501, 1287], [7, 2383, 500, 68, 15, 7, 1285, 1286, 4, 28, 366, 68, 15, 501, 1287, 12, 1288, 2, 1164, 274, 2384, 1289], [36, 99], [65, 2, 36, 99], [7, 2385, 11, 2386], [1], [1], [6], [6], [1], [1], [49, 2387, 453, 8, 30, 113, 24, 55, 1032, 16, 110, 8, 30, 11, 1134, 605, 5, 2388], [8, 30], [2, 50, 195], [5, 2, 50, 195], [2, 1290, 748, 9, 2, 1291, 53, 3, 748], [2, 1290, 748], [1292], [1292], [2389, 9, 1293, 18, 16, 367, 1294, 1295, 405, 749, 350, 11, 2390], [1293, 18, 16, 367, 1294], [6], [30, 699], [1], [1], [1], [1], [122], [1], [1], [1], [1], [], [1], [6], [1], [6], [6], [1], [1], [6], [1], [1], [1], [1], [1], [1], [1], [1], [1], [1], [1296, 750, 11, 280, 751], [2391, 1296, 750, 11, 280, 751], [1297, 157, 599], [27, 1297, 157, 599], [21, 7, 1298, 2392], [21, 1298, 2393], [1], [1], [1], [1], [1], [1], [1], [1], [1], [1], [1], [], [2394], [90], [90], [], [], [6], [6], [6], [6], [6], [22, 324, 18, 1011], [], [], [6], [731], [], [], [1], [262], [1], [1], [1], [2395, 407, 4, 118, 2396], [1], [1], [644, 259, 10, 7, 2397, 502], [90], [10, 7, 731], [644, 259, 10, 7, 502], [1], [1], [284, 353, 31, 2398, 2, 2399, 1024, 3, 2, 2400], [1299], [6], [1299, 113, 18, 2401, 2402, 1050, 5, 2, 2403], [421, 325, 2404], [20, 1097, 3, 313, 10, 952, 14, 421, 325, 262], [37], [37], [1300], [284, 2405, 1300, 14, 2, 2406, 2407, 2408, 2409, 1241, 29, 56, 2410, 5, 2, 2411, 3, 2, 2412, 3, 54, 2413], [15, 8], [], [2, 1301, 3, 457, 3, 503, 4, 1302, 503], [5, 2414, 284, 2415, 2, 1301, 3, 457, 3, 503, 4, 1302, 503], [1303, 57], [2, 2416, 21, 2, 2417, 1303, 57, 2418, 20, 1304, 5, 2419], [2, 132, 285], [132, 285], [752, 7, 2420, 17, 2, 2421, 3, 2422], [2423, 1305], [2424, 1305], [], [], [], [], [], [30], [132, 285], [1], [1], [1], [1], [1], [1], [346], [2425, 2, 2426, 317], [2427, 41, 2428, 1306, 464, 17, 94, 504, 2429, 3, 2, 1307, 957, 317], [1], [6], [37], [1], [1], [1], [2430], [1], [2, 35, 1307], [1], [1], [1], [1], [6], [101, 343, 12, 141, 5, 368], [101], [13, 2, 2, 2431, 64, 2432, 7, 47, 708, 61, 1308], [7, 47, 708, 61, 1308], [368, 26, 108, 2433, 8, 2434, 3, 2435], [368], [77, 2436, 3, 505, 50, 505, 4, 1309], [1309, 4, 505], [368, 1310, 616, 2437], [1], [1], [6], [2, 206, 506], [2438, 507, 3, 103], [1], [1], [1], [1], [1], [1], [6], [6], [1], [74], [1311], [1311], [7, 1312, 3, 1313, 72, 1314, 1315], [1312, 3, 1313, 72, 1314, 1315], [74], [1], [1], [1], [1], [6], [6], [1], [1], [1], [1], [2, 508, 1316, 5, 2, 107, 3, 483], [508, 1316, 5, 2, 107, 3, 483], [70, 753, 754, 755], [70, 753, 754, 755], [2, 1317, 1318], [1317, 1318], [1], [756], [756], [1], [757, 758], [2439, 4, 502], [], [], [], [], [1], [1], [74], [461], [2, 154, 3, 505], [369, 74], [6], [161, 2440, 725], [1], [1], [6], [1], [2, 759], [19, 2441, 5, 2442, 47, 134, 2443], [7, 760, 2444, 2445, 2446, 15, 2447], [6], [1], [1], [1], [1], [6], [6], [1], [1], [], [], [2, 79], [2, 79], [1], [1], [2448], [79], [135, 79], [2, 337, 761, 5, 762], [337, 761, 5, 762], [1], [1], [1], [], [2449, 4, 2450], [2, 1319], [2, 1319, 2451], [2452, 2453], [1], [1], [1], [1], [1], [1], [1], [1320, 1321], [1320, 1321], [467], [467], [1322, 2, 2454], [2455, 1322], [1323], [1323], [], [], [1229], [2456], [1], [1], [1], [1], [1], [1], [1], [7, 347], [347], [1324, 114], [1110, 212, 3, 82, 124], [2457], [2458], [1], [1], [6], [6], [1], [1], [1], [1], [1], [1], [1], [1], [120, 16, 509, 77], [2459, 2460, 77], [2, 1325, 1326, 1327], [2, 1325, 4, 1326, 1327], [7, 120, 1328, 286], [7, 120, 1328, 286], [1329, 92, 1330, 92, 2461, 92, 2462, 92, 2463, 92, 433, 92, 2464, 92, 2465, 77, 1331, 3, 1332], [1329, 1330, 4, 315], [1333, 3, 126, 2466, 78, 2467, 2468, 2469, 338, 1334, 13, 2470, 2471, 2472, 2473, 2474, 2, 62, 724, 4, 2, 66, 2, 1335, 1048, 1336, 642, 2475, 763, 764, 21, 2, 765, 2476, 2477, 2, 766, 763, 2, 1335, 2478, 1337, 1338, 1339], [764, 21, 2, 765, 2, 766, 4, 315], [1], [1], [1], [92, 9, 120, 16, 509, 77, 18, 9, 45, 2, 236, 3, 2479, 5, 2480, 767, 2481, 2482, 2483, 2484, 2485, 2486, 1340, 2, 2487, 768, 2488, 2489, 2490, 1103, 2491, 2492, 2493, 2494, 2, 1341, 1342, 441, 2, 50, 80, 2495, 4, 2, 2496, 18, 9, 45, 2, 236, 3, 7, 2497, 2498, 7, 2499, 2500, 7, 2501, 19, 2502, 7, 2503, 7, 2504, 19, 2505, 4, 77, 1331, 3, 1332, 2506, 85, 21, 190, 236, 510, 7, 127, 15, 1333, 3, 126, 7, 127, 15, 769, 3, 7, 338, 1334, 7, 127, 5, 62, 724, 4, 2, 66, 7, 127, 5, 1336, 7, 127, 5, 764, 21, 2, 765, 2, 743, 127, 3, 2, 766, 4, 7, 127, 17, 1337, 1338, 1339, 40, 26, 45, 108, 7, 327, 3, 92, 121, 1340, 7, 2507, 3, 1343, 181, 92, 19, 286, 3, 92, 4, 92, 14, 7, 2508, 370, 3, 2, 2509, 327, 2510], [6], [1], [1], [1], [1], [1], [1], [1], [1], [1], [511], [511], [7, 1344, 1345, 770, 473, 76, 501, 16, 30], [7, 1344, 1345, 770, 473, 76, 501, 16, 30], [1346, 11, 1347], [1346, 11, 1347], [2, 1348, 4, 1349], [2, 1348, 4, 1349], [], [2511], [287, 1350], [287, 1350], [1], [1], [1], [1], [18, 9, 2, 38, 1351, 3, 82, 124], [2, 2512, 287, 9, 2, 38, 1351, 3, 82, 124], [511], [511], [62, 67, 287], [2, 62, 67, 137, 287, 512, 15, 2, 1117, 1119, 2513, 1352, 8, 158, 11, 8, 2514], [2, 1353, 1354, 2515], [2, 1353, 1354], [1], [1], [1355], [19, 273, 718, 287, 9, 61, 7, 1355], [1356, 118, 603, 16, 2, 131, 1357, 245, 17, 27, 213], [1356, 118, 603, 16, 2, 131, 245, 17, 27, 213], [6], [6], [1], [1], [6], [6], [24, 31, 2, 1358, 8, 1359, 95, 129, 1360, 308, 33, 1361], [31, 2, 1358, 8, 1359, 95, 129, 1360, 308, 33, 1361], [7, 771, 277, 1362, 25, 2, 1363, 223, 21, 27, 1364], [1362, 25, 2, 1363, 223, 21, 27, 1364], [18, 277, 1365, 31, 651, 772, 18, 277, 1365, 56, 513, 8, 114, 4, 1366, 3, 129], [651, 772, 513, 8, 114, 4, 1366, 3, 129], [1], [1], [341, 1281], [], [1], [6], [1], [6], [1367, 1367, 2516, 773, 2517, 1368, 2518, 2519, 2520, 2521, 774, 2522, 4, 2523], [2, 581, 775], [13, 1105, 89, 166, 2524, 2525], [2526, 2527, 31, 7, 167, 1369, 2528, 5, 8, 2529], [1], [6], [6], [94, 3, 2, 2530, 1370, 1371, 2531, 15, 2, 776], [1, 1370], [1], [1], [28], [28], [24, 12, 17, 2, 1372, 4, 1373, 468], [1372, 4, 1373, 468], [777, 119, 23, 1374, 8, 1375, 4, 1376, 109], [777, 119, 23, 1374, 8, 1375, 4, 1376, 109], [1], [1], [777, 716, 128, 17, 60], [17, 60], [6], [1], [1], [1], [1], [1], [1], [], [], [1377], [1377], [2532, 2533], [2, 241, 2534, 66, 2535], [1], [1], [6], [6], [1], [1], [6], [6], [1], [1], [2, 171, 217, 137, 1378, 1352, 778, 142], [2, 171, 217, 137, 1378], [7, 514, 11, 1379, 7, 779, 1380], [7, 514], [224], [], [265, 2536, 3, 780], [911, 2537, 225, 515], [125, 2538, 781], [125], [15, 8], [15, 8], [1], [1], [6], [432], [2539, 2540, 2541, 717, 2542, 2543, 2544], [13, 7, 2545, 2546, 371, 4, 240, 744], [1], [6], [1], [226, 75, 10, 29, 7, 148, 3, 2547], [6], [226, 75, 147, 2548, 2, 2549, 1381, 2550], [1], [75, 10, 1382, 5, 516, 782], [1], [226, 75, 666, 1383, 1384], [1383, 1384], [5, 226, 75, 783, 2, 1385, 1386], [1385, 1386], [2, 2551, 68, 13, 75, 9, 2552, 14, 2, 51, 1387, 485], [2, 51, 1387, 485], [226, 75, 742, 4, 117, 5, 2, 143, 737], [1], [226, 75, 1217, 4, 2553, 2, 2554, 5], [], [226, 75, 10, 7, 148, 25, 2, 34, 3, 2555, 16, 344, 30], [344, 30], [6], [6], [1], [1], [1], [6], [372], [372], [517], [517, 733], [], [5], [7, 148, 3, 1234, 25, 2, 732, 214, 5, 517], [1096, 22, 117], [1], [6], [6], [75, 10, 68, 7, 784, 13, 372], [1, 75, 10, 116, 5, 517, 733, 4, 10, 1382, 5, 2, 516, 782, 40], [1], [75], [75, 10, 68, 7, 784, 13, 372, 5], [1], [1], [1, 75, 10, 68, 7, 784, 13, 372, 5], [], [1], [1, 145, 10, 7, 148, 25, 2, 34, 3, 146], [1], [1, 145, 10, 7, 1388, 3, 2, 732, 2556, 2557, 17, 516, 2558], [1], [1, 2559, 98, 9, 91, 8, 2560, 2, 1223, 3, 2561, 2562], [1389, 1390, 518], [1389, 1390, 518, 51, 2563, 2, 2564, 3, 219, 98], [2, 519, 58, 2, 1391, 3, 2, 143, 288, 3, 265, 1392, 25, 2, 143, 196, 4, 216, 1393, 8, 2, 519, 58, 23, 1394, 487, 1395], [219, 72, 80, 41, 2, 519, 58, 2, 1391, 3, 2, 143, 288, 3, 265, 1392, 25, 2, 143, 196, 4, 216, 1393, 8, 2, 519, 58, 23, 1394, 487, 1395], [1396, 1397, 289, 1398], [1396, 1397, 289, 2565, 1398, 2566, 41, 219, 203, 2567, 5, 2568, 2569], [122], [219, 561, 10, 785, 5, 122], [1399, 1400], [1399, 1400, 10, 219, 1098], [22, 10, 1401, 5, 2, 1402, 730, 3, 520, 2, 424, 3, 1403], [145, 2570, 20, 2571, 25, 2, 34, 3, 146, 48, 22, 10, 1401, 5, 2, 1402, 730, 3, 520, 2, 424, 3, 1403], [1], [1], [1], [1], [1], [1], [34, 3, 146], [34, 3, 146], [1404], [1404], [145, 1405], [219, 1405], [518, 98], [518, 98], [1], [1], [1], [1], [1], [1], [1], [1], [1], [1], [49, 123, 2572, 13, 1406], [13, 1406], [521], [521], [786, 787, 665, 81, 123], [786, 787], [297], [788, 223], [1407, 3, 675, 2573, 123, 353, 56, 2574], [2575], [6, 40, 12, 6, 123, 5, 2576], [1, 1135, 123, 880, 1357, 205, 443], [6, 2577, 123, 256, 29, 31, 213], [2, 149, 2578, 4, 2579, 12, 2, 37, 1408, 183, 2580], [261, 41, 680, 521, 12, 61, 2581, 261], [2582, 123, 12, 281, 5, 373, 4, 207, 124], [1, 123, 2583, 8, 2, 143, 286, 14, 1240], [49, 123, 12, 675, 11, 118], [6, 29, 54, 123, 2584, 1407], [70, 2585], [1], [1], [1, 2586, 12, 1112, 57, 2587, 2588, 8, 2589, 14, 136, 14, 2590], [1], [1], [6], [1, 24, 12, 1145, 907, 13, 23, 2591, 875, 4, 7, 1171, 2592, 2593, 41, 2594, 7, 2595, 2596], [1], [1], [1], [522, 9, 7, 35, 4, 1409, 5, 1410], [2597, 197, 9], [522, 9, 5, 1410], [1], [522, 9, 8, 2, 168, 3, 2, 2598, 188], [612, 522, 9, 7, 1409], [1], [1], [1], [39, 85], [84, 2599, 73, 1411, 65], [2, 171, 168, 4, 82, 103], [227, 9, 2, 2600, 32, 3, 307], [227, 10, 7, 504, 2601, 3, 1085, 5, 615, 4, 2, 2602, 4, 87, 2603, 12, 2604, 513], [1], [1], [1], [1], [1], [1], [1412], [1412], [39], [39], [82, 103], [2605, 82, 103], [2606, 4, 2607], [2608, 2609], [227, 2610], [106, 9, 2, 160, 35, 3, 228], [1], [106, 9, 2611, 38, 35], [1], [1413, 2612, 9, 2, 38, 1414, 2613, 5, 106], [1], [2, 523, 524, 9, 2, 789, 3, 2, 267, 2614], [2, 523, 524], [2, 2615, 2616, 2, 322, 1415, 4, 2, 1416, 52, 1417, 1418], [2, 322, 1415, 4, 2, 1416, 52, 1417, 1418], [2, 1419, 2617, 9, 281, 17, 2, 1420, 1421, 349, 15, 2, 789, 3, 2, 1419, 2618, 4, 1422, 8, 2, 2619], [17, 2, 1420, 1421], [2, 523, 524, 10, 2620, 13, 2621, 1423, 2622, 5, 2], [523, 524], [48, 1424, 1425, 525, 1426, 1427, 2623, 26, 2624, 7, 2625, 8, 2626, 2627, 2628, 17, 2629, 2630, 694, 1428], [48, 1424, 1425, 525, 1426, 1427], [2, 28, 399, 5, 106, 12, 2, 1429, 1430, 106, 4, 2, 1431, 1432], [1429, 1430, 106, 4, 1431, 1432], [1, 106, 9, 2, 2631, 3, 2632], [1, 2, 2633, 1433, 2, 122, 484], [6, 2, 2634, 526, 2635, 8, 2, 218, 3, 106], [2, 2636, 3, 1434, 2637, 9, 5, 2, 2638, 374], [2, 267, 130, 1111, 218, 3, 2, 200, 1413, 2639], [5, 106, 1120, 110, 27, 1137, 14, 7, 382, 2640, 35], [2641, 198, 364, 9, 2, 2642, 364, 5, 106], [228, 10, 1435, 76, 224, 2643, 2644, 65, 2, 126], [2645, 10, 736, 5, 2646, 205, 351, 8, 106], [20, 201, 1436, 490, 2647, 45, 64, 19, 1304, 5, 483, 4, 2648, 10, 7, 2649, 2650], [1436, 490], [1], [1], [1], [1], [25, 2, 1010, 3, 37], [], [1437], [1437], [28, 2651, 2652, 564, 182, 8, 20, 2653, 1438, 4, 1439], [1438, 4, 1439], [], [], [6], [1], [1], [90], [1, 18, 10], [490], [], [20, 201, 117, 5], [1], [1], [1], [94, 527, 908, 1440], [1, 527, 31, 28, 223], [5, 2, 1341, 7, 118, 790, 11, 2654, 2655, 41, 2656, 26, 117], [2, 2657, 202, 3, 2, 2658, 9, 68, 3, 3, 7, 2659, 3, 2660, 4, 2661, 2662], [5, 2663, 40, 10, 7, 1087, 2664, 3, 527], [2, 2665, 790, 9, 2666], [6, 527, 2667, 336, 2668, 33, 2669], [7, 2670, 671, 213, 1180, 2, 790, 8, 2671, 791], [598, 7, 2672, 9, 2673, 2, 59, 37, 277, 2674, 8, 7, 104, 2675], [6], [6, 22, 10, 7, 122, 502], [1], [1, 2, 1213, 2676, 3, 2677, 2, 140, 10, 181, 65, 182], [1], [1, 185, 20, 2678, 8, 237, 21, 2, 2679, 3, 619, 22, 10, 1441, 25, 2680, 2681], [22, 9, 508, 274, 16, 1442, 492, 72], [22, 9, 508, 274, 16, 1442, 492, 72], [1443, 289, 1444], [22, 2682, 1138, 320, 1445, 17, 2, 2683, 3, 2684, 42, 73, 1446, 13, 2, 792, 3, 1443, 289, 1444, 17, 2685], [15, 8, 22, 438, 20, 1447, 112, 5, 793], [6], [6, 20, 422, 1448, 15, 7, 2686, 112, 5, 2, 2687, 593], [2, 738, 3, 2, 739, 238, 3, 740, 4, 741], [2, 738, 3, 2, 739, 238, 3, 740, 4, 741], [5, 793], [5, 90], [140, 2688, 20, 37, 1449, 17, 1231, 4, 2689], [363, 121, 140, 438, 20, 1447, 112, 5, 793, 4, 472, 96, 5, 2, 446, 3, 2, 2690, 3, 2, 35], [2, 493, 703, 140, 8, 2691, 20, 2692, 14, 2693, 2694, 2695, 2696, 2697, 4, 2698], [363, 121, 140], [5], [1], [1], [140, 10, 116, 5, 2699, 237, 8, 7, 2700, 112], [1], [1], [6], [1], [1], [1], [1], [1], [1], [794, 1450], [794, 1450], [2701, 2702, 150, 61, 290], [215, 290], [149, 1451], [], [1452, 3, 528], [7, 1452, 3, 528], [207, 220, 2703, 57, 1238, 1262], [357], [44], [2, 795, 370, 3, 141, 44, 9, 215, 290], [2, 795, 15, 3, 141, 44, 9, 215, 290], [1, 734, 9, 7, 193, 796, 5, 1453, 220, 4, 1454], [1, 734, 9, 7, 193, 796, 5, 1453, 220, 4, 1454], [1, 797, 150, 1455, 44, 14, 7, 32, 112], [1, 797, 150, 1455, 44, 14, 7, 32, 112], [773, 44, 1456, 330, 5, 2, 637, 4, 2704, 1457], [773, 44, 1456, 330, 5, 2, 8, 2705, 798], [2, 278, 3, 2, 2706, 768, 3, 220, 412, 8, 54, 2707, 3, 2, 1458, 343, 2708, 215, 290, 14, 1459], [2, 2709, 2710, 412, 8, 54, 2711, 3, 2, 1458, 343, 1324, 215, 290, 14, 1459, 11, 2712, 919], [171, 44, 10, 91, 71, 335, 4, 86, 1460, 4, 2, 2713, 2714, 4, 2715, 1460], [171, 44, 10, 2, 32, 91, 5, 2, 166, 1461, 2716], [2, 2717, 3, 355, 105, 9, 2718, 13, 2719, 44, 528, 21, 872, 2720], [355, 105, 12, 2721, 76, 2722, 1414, 44, 2723], [2, 794, 491, 2724, 1462, 149, 1451, 16, 528], [62, 44, 10, 2, 32, 193, 71, 2, 115, 4, 171, 2725, 1086], [7, 375, 9, 45, 274, 14, 7, 1463, 333], [1], [799, 12, 29, 104, 33, 2726], [6], [2, 52, 457, 458, 2727, 1464, 2728, 2, 375, 14, 7, 695, 2729, 53], [1], [2, 799, 709, 109, 1428, 510, 1465, 800, 14, 1466, 1467, 4, 1468, 225, 14, 136, 14, 358, 1469, 1470, 4, 225, 926, 5, 2, 86, 96, 3, 27, 1275], [1465, 800, 14, 1466, 1467, 4, 1468, 225, 14, 136, 14, 358, 1469, 1470, 4, 225], [2, 676, 3, 273, 442, 9, 100, 138, 2730, 157, 2731, 8, 440], [138], [19, 273, 799, 2732, 2733, 9, 170, 342, 529, 157], [529], [2, 37, 2734, 2735, 5, 2, 52, 12, 2, 771, 333, 4, 266], [771, 333, 4, 266], [17, 480, 375, 442, 12, 308, 33, 443], [1], [2, 37, 682, 53, 41, 12, 746, 8, 83, 12, 2, 375, 2, 1471, 4, 2, 595, 613], [375, 1471, 595, 613], [6], [1], [6], [2, 200, 3, 7, 282], [246, 41, 3, 165, 2736, 11, 3, 2, 1250, 3, 2, 2737, 2738], [2739, 2740, 2741], [801], [25, 695], [172, 12, 91, 5, 161, 1472, 4, 84, 479, 2742, 2743, 4, 59, 1343], [1], [1, 2744], [1], [1], [1], [1], [1], [1], [1], [1310, 2745, 2746, 16, 530, 3, 30], [530, 3, 30], [429], [2, 429, 25, 42, 2, 221, 149, 9, 736, 520, 2, 776, 3, 2, 221], [2747], [2748], [1368, 4, 2749, 2750, 353, 2751, 802, 41, 158, 1473, 4, 1474], [802, 41, 158, 1473, 4, 1474], [2752], [1], [1], [1], [1], [1], [1], [6], [6], [2, 1475], [2, 1475], [1476, 1477], [1476, 1477], [2, 1478, 11, 13, 43, 11, 28, 1479], [2, 1478], [6], [6], [6], [6], [6], [6], [1, 802, 12, 150, 91, 5, 774, 2753], [1], [1], [1], [1], [1], [6], [6, 2, 1261, 531, 9, 29, 7, 747, 531], [1], [1, 49, 376, 12, 791], [1], [1, 531, 1208, 9, 2754, 8, 334], [170, 53], [40, 12, 170, 53, 3, 747, 376], [86, 228, 2, 624, 494, 489], [2755, 531, 9, 2756, 7, 2757, 5, 86, 228, 2, 624, 494, 4, 489], [14, 600, 4, 1480, 1481, 61, 803], [376, 2758, 268, 14, 600, 4, 1480, 1481, 61, 803], [1482, 1483, 2759, 440, 532], [376, 31, 1482, 4, 1483, 532, 2760, 21, 7, 440, 2761, 94, 45, 31, 2762, 532], [1484, 350], [803, 235, 165, 2763, 61, 1484, 350], [6], [6, 29, 54, 376, 453, 5, 2764, 114], [1], [1, 173, 9, 19, 210, 32, 3, 2, 87, 458], [1], [1, 2, 533, 3, 173, 12, 1435, 76, 28, 804], [6], [6, 173, 9, 29, 276, 13, 67], [100, 798], [2765, 32, 2766, 5, 417, 100, 798], [1485, 1486, 4, 19, 1487, 1488], [2767, 805, 3, 173, 12, 1485, 1486, 4, 19, 1487, 1488], [1489], [2, 2768, 32, 9, 141, 5, 86, 1489], [125, 1490, 331, 5], [2, 2769, 3, 533, 141, 1077, 3, 417, 26, 108, 7, 2770, 1102, 125, 1490, 331, 5], [1491, 1492], [2, 51, 763, 5, 173, 10, 785, 13, 1491, 1492], [2, 1493, 3, 806, 173], [2, 1493, 3, 806, 173, 990, 2, 210, 173, 32], [18, 2771, 15, 99], [2772], [159, 7, 1494, 3, 89, 1495, 349, 7, 534, 5, 2, 142, 2773, 7, 807, 3, 89, 25, 2, 534], [159, 7, 1494, 3, 89, 1495, 349, 7, 534, 5, 2, 142, 2774, 7, 807, 3, 89, 25, 2, 534], [7, 366, 288, 55, 535, 56, 808, 13, 809, 27, 536, 4, 371, 169, 104], [7, 366, 288, 55, 56, 808, 13, 809, 27, 536, 4, 371, 169, 104], [1], [1], [228], [408, 507, 3, 228], [6], [1], [7, 366, 288, 55, 535, 56, 808, 13, 809, 27, 536, 4, 371, 169, 104], [27, 288, 9, 240, 1496, 48, 3, 27, 104, 536, 11, 104, 371, 169], [2, 51, 2, 1497, 2, 189, 2, 1498, 11, 1499], [1497, 4, 2, 1498, 11, 1499], [1], [1], [1], [1], [1], [1], [2, 36, 99], [36, 99], [2], [28], [28], [1500, 537], [1500, 537], [13, 1501, 4, 1502, 169, 5, 2, 183, 3, 2, 142], [1501, 4, 1502, 169, 5, 2, 183, 3, 2, 142], [7, 500, 55, 56, 19, 280, 1503, 42, 9, 1504, 246, 7, 1505], [280, 1503, 42, 9, 1504, 246, 7, 1505], [1], [1], [6], [6], [1], [1], [1506, 253], [1506], [43, 8, 28, 1507, 65, 313], [43, 8, 28, 1507], [], [], [537], [537, 2775, 128, 211, 2776, 2777, 749, 2778, 4, 2779], [538, 291, 291, 4, 538, 291, 1508], [538, 291, 291, 4, 2, 2780, 2781, 538, 291, 1508], [727, 3, 696, 1509, 8, 539, 4, 357, 399], [727, 3, 696, 1509, 8, 539, 4, 357, 399], [1], [1], [1], [1], [1], [1], [7, 1194, 1463, 2782, 5, 373, 220], [2783, 1021, 2784, 4, 2785, 395], [], [], [28], [28], [1], [276, 13, 454, 455], [18, 9, 276, 13, 2786, 454, 455, 4, 13, 7, 610, 305, 2787], [588, 8, 94, 1449, 1], [1, 113, 2788], [6], [6], [1], [1], [1], [1], [194, 3, 2, 810, 811, 2789, 15, 2, 183], [25, 2, 194, 3, 2, 810], [1510], [1510], [1511, 1512, 184, 11, 574, 1513, 812], [1511, 1512, 11, 184, 11, 574, 1513, 812], [14, 40, 12, 84, 1514, 1515, 190, 540, 3, 810], [40, 12, 84, 1514, 1515, 190, 540], [1516, 2, 807, 15, 2, 506, 8, 2, 2790], [2, 1516, 3, 1517, 2791], [1518, 2792, 540, 1519], [1518, 2793, 540, 1519], [1], [1], [1], [1], [1], [1], [78], [78], [1520], [1520], [780], [780], [8, 1521, 2, 142], [8, 1521, 2, 142], [30, 62], [30, 62], [811, 1522], [811, 1522, 11, 2794], [1], [6], [1], [1], [1], [1523, 4, 1524, 1525], [1523, 4, 1524, 1525], [], [], [259], [2, 259, 2795], [1526, 1527, 1528], [1526, 1527, 1528], [566, 4, 1529], [17, 2, 566, 4, 17, 1529], [2796, 3, 2797, 645], [10, 2, 2798, 3, 645], [1], [1, 22, 10, 67], [18, 9, 29, 1530], [1, 22, 10, 572, 396, 1531, 19, 1532, 191], [6], [6, 284, 117, 5, 20, 713, 5, 368, 17, 294], [25, 541, 542, 5, 2799], [22, 10, 116, 25, 541, 542, 5, 813, 7, 2800, 5, 2, 144, 3, 2801], [1533, 1534], [284, 2802, 2, 2803, 21, 1533, 1534, 16, 2, 466, 3, 2, 2804, 4, 2805, 2806], [5], [5], [1], [598, 284, 64, 29, 2807, 17, 2, 2808, 2809, 3, 1535, 25, 7, 1260, 22, 1033, 29, 31, 1411, 20, 203, 3, 2810], [6], [6, 7, 2811, 58, 1536, 396, 2812, 4, 2813, 2814, 10, 2815], [2, 543], [2816, 1536, 203, 3, 2817, 10, 1446, 13, 2818, 2, 1371, 3, 19, 543, 15, 7, 2819], [1], [1], [1], [1], [1], [541, 542, 5, 813], [541, 542, 5, 813], [], [], [1537, 34, 374, 3, 481, 107], [1537, 34, 374, 3, 481, 107], [814, 815], [814, 815], [22, 1538, 68, 7, 516, 988, 3, 20, 2820, 2821], [1532, 191], [543], [543], [2822, 544, 10, 7, 2823, 4, 367, 7, 60, 2824, 16, 2, 278], [544, 10, 2825, 8, 2, 119, 3, 2826, 1539, 5, 25, 19, 2827, 2828, 1381, 5, 47, 134, 35, 13, 2, 2829, 2830, 1540, 2831, 2832], [2833, 544, 91, 569, 2834, 1479], [5], [1], [1, 544, 10, 19, 2835, 539, 2836, 4, 7, 504, 1282, 5, 2, 816, 2837, 2838], [2839, 1541, 3, 2840, 4, 2841, 1539, 9, 1214, 8, 56, 43, 3, 2, 1542, 3, 2, 329, 1535, 1543], [1], [1, 22, 10, 2842, 14, 7, 2843, 2844, 2845], [1], [1], [1], [1], [1], [1], [229], [2, 160, 3, 432, 9, 229], [1544, 1545, 2846, 229], [1544, 1545], [229, 26, 7, 817, 4, 1546, 2847, 469], [2, 35, 9, 817, 4, 1546], [2, 236, 229, 9, 512, 15, 2, 818, 137, 2848], [660], [166, 660], [48, 18, 9, 281, 170, 199, 138, 362, 2, 66, 545], [2, 1547, 41, 2, 86, 96, 3, 229, 819, 17, 7, 526, 170, 199, 138, 362, 2, 66, 545], [1], [1], [1], [1], [1], [1548, 212, 3, 546], [17, 2, 1548, 212, 3, 546], [381, 1549, 1550, 1551], [759, 1035, 381, 1549, 1550, 1551], [6], [6], [229, 819, 17, 7, 526, 199, 138, 170, 199, 138, 362, 2, 66, 545], [18, 819, 17, 7, 526, 170, 199, 138, 362, 2, 66, 545], [1], [1], [546], [77, 2849], [2850, 381, 2851, 2852, 330, 663, 3, 2853, 8, 2, 35, 5, 286, 8, 1118, 2, 2854, 4, 547], [1], [1], [1], [1], [2, 218, 2855, 2856, 820, 9, 43, 3, 2, 84, 2857, 326, 2858, 5, 2, 35], [1], [6, 22, 10, 2859], [6], [1, 20, 821, 8, 2, 2860, 132, 285, 73, 2861, 8, 2, 1062, 2862, 13, 2, 2863, 493], [1], [6, 7, 2864, 820, 3, 163, 13, 2865, 10, 2866, 5, 814, 815, 4, 367, 10, 298, 8, 509, 2867, 484], [6], [20, 201, 10, 7, 1552, 1553, 1554, 4, 1555, 4, 300, 14, 2, 1556, 1557, 1558], [20, 201, 10, 7, 1552, 1553, 1554, 4, 1555, 4, 300, 14, 2, 1556, 1557, 1558], [5], [163, 742, 5], [5, 752], [2, 77, 163, 2868, 9, 5, 752], [2, 163, 9, 181, 65, 182, 16, 20, 486, 8, 2, 466, 3, 2, 132, 285], [2, 163, 9, 181, 65, 77, 163, 16, 20, 486, 8, 2, 466, 3, 2, 132, 285], [163, 147, 29, 1559, 214, 2869], [22, 147, 29, 1559, 7, 34], [22, 783, 7, 47, 822, 3, 1560, 319, 13, 1561, 7, 1562, 16, 548, 661, 821, 5, 2, 1563, 1564, 7, 132, 1565, 4, 7, 1566, 16, 548, 549], [22, 783, 7, 47, 822, 3, 1560, 319, 13, 1561, 7, 1562, 16, 548, 661, 821, 5, 2, 1563, 1564, 7, 132, 1565, 4, 7, 1566, 16, 548, 549], [2, 1567, 3, 207, 1568, 73, 823, 1569], [1], [1, 2, 824, 147, 29, 2870, 5, 7, 869, 3, 2871, 394, 2, 469, 2872, 4, 2873, 2874, 2875, 5, 2, 737, 3, 2876], [2, 824, 2877, 2, 143, 445, 302, 14, 2, 2878, 3, 207, 124], [2, 157, 329, 2879, 3, 2, 824, 9, 2880, 276, 13, 2881, 2882], [1], [1075, 45, 2883, 16, 2884, 319, 1570, 5, 1571, 21, 2885, 2886, 8, 2887, 2888, 751], [2, 1567, 3, 207, 1568, 73, 823, 1569, 71, 2, 115, 96, 3, 2, 36, 113, 2, 162, 26, 125, 108, 2889, 21, 2890, 2891], [1], [1], [1], [1], [1], [1], [39], [39, 93, 222], [32, 153, 4, 85], [32, 153, 4, 85], [93], [93], [67, 431, 29, 31, 19, 283, 1572, 1573], [67, 431, 29, 31, 19, 283, 1572, 1573], [161, 781], [161, 781, 3, 42, 12, 15, 67], [40, 12, 81, 39, 93, 222], [2, 93, 32, 411, 2892, 507, 3, 1574], [40, 12, 856, 550, 2893, 11, 1574, 825, 5, 93], [2, 1575, 151, 9, 1144, 2894, 685, 17, 2, 44, 2895], [2896, 12, 45, 274, 14, 2897, 1576, 11, 2898, 1576], [18, 9, 617, 5, 602], [1575, 925, 110, 3, 2, 93, 32], [6, 44, 4, 357, 256, 29, 31, 2899, 58, 105], [93, 9, 2900, 15, 62, 93, 171, 93, 4, 161, 93], [1], [1], [1], [1], [2, 826, 141, 5, 2901, 9, 5, 1547, 2902, 14, 7, 265, 32, 13, 94, 93, 797], [1], [1], [1], [39], [2903, 2904], [827, 2905, 827, 2906, 4, 827, 35], [2907, 2908, 198, 364, 4, 2909, 198, 364], [233], [], [656, 2, 194, 3, 2, 4, 115, 1461], [1], [6], [1], [2910], [39], [307], [6], [2911], [2912, 1577, 2913, 2914], [6], [1, 551, 491, 1578, 10, 116, 17, 2915], [551, 491, 1578, 657, 2916, 828], [], [5], [551, 10, 7, 806, 3, 2917, 2918, 1579, 4, 2919], [1074, 2920, 1580, 8, 1579, 2, 104, 446, 9, 239, 344, 2921, 1580, 8, 551], [1], [1], [1], [1], [1], [6], [6], [1], [1], [], [], [5, 54, 1581], [5, 54, 1581], [1582], [1582], [1], [1], [1], [1], [2922, 1583, 352, 13, 1584, 4, 1585, 23, 384], [159, 2923, 2924, 1583, 352, 13, 1584, 4, 1585, 23, 384], [1], [1], [1], [2925], [28], [515], [1], [18, 10, 2926, 15, 2, 704, 183], [6], [6], [1], [1], [1], [1586, 112], [1586], [552, 550, 553], [552, 553, 550], [818, 227, 4, 67], [227, 818, 2927, 1587, 174, 759, 2928, 44, 533, 4, 67], [6], [37, 2929], [2930, 2931, 4, 2932], [1], [1], [6], [224], [552, 550, 553], [359], [6], [6], [2933], [2, 359, 32, 10, 604, 5, 2934], [1], [1], [1], [436, 2935, 796, 3, 359, 510, 1020, 359, 9, 27, 119, 3, 2936, 105, 2937, 2938], [1], [2939, 9, 19, 1588, 3, 2, 2940, 80, 3, 2, 2941, 195, 5, 1060, 546], [1], [1], [1], [1], [1], [1], [1], [1], [1589], [7, 1589], [], [5], [78], [78], [2942, 3, 2, 610, 817, 1570, 310, 4, 2, 2943, 335, 2944], [39, 358, 2945], [39], [191], [397], [1, 2946, 2947, 915, 7, 2948, 3, 74, 17, 20, 2949, 1257], [1], [1, 74, 666, 1590, 1591], [1], [1, 74, 45, 324, 2, 447, 3, 2950], [1], [369, 74, 324, 2951], [369, 74], [369, 74, 10, 116, 5, 757, 758], [757, 758], [2, 74, 2952, 9, 2, 1239, 41, 2, 1592, 3, 1593, 3, 1594, 1595, 554, 55, 56, 1596, 13, 2, 1597, 3, 19, 2953, 760, 1598, 1599, 5, 2, 1600, 2, 554, 9, 351], [2, 1592, 3, 1593, 3, 1594, 1595, 554, 55, 56, 1596, 13, 2, 1597, 3, 19, 2954, 760, 1598, 1599, 5, 2, 1600, 2, 554, 9, 351], [1, 74, 324, 756], [1], [74, 64, 37, 1601], [28], [369, 74, 9, 1226, 5, 2, 1602, 360, 3, 1603, 1604], [5, 2, 1602, 360, 3, 1603, 1604], [6], [1], [1], [70, 753, 754, 755], [1590, 1591], [6], [1], [6], [1605, 10, 2955], [18, 9, 29, 1530], [5], [], [1], [2, 820, 3, 1540, 2956, 13, 1605, 5], [1], [2, 32, 49, 141, 25, 377, 5, 2, 35, 9, 122], [6, 2, 32, 49, 141, 5, 175, 9, 122], [6, 1606, 614, 9, 2, 189, 38, 3, 54, 254, 5, 83], [6, 1606, 614, 9, 2, 189, 38, 3, 54, 254, 5, 83], [1, 2, 49, 829, 409, 5, 175, 9, 702, 1607], [1, 2, 49, 829, 409, 5, 175, 9, 702, 1607], [175, 26, 28, 198, 1608], [175, 26, 28, 198, 1608], [2, 1609, 9, 1610, 1611], [2, 1609, 9, 1610, 1611], [2, 38, 154, 5, 175, 9, 181, 306, 1612, 1613], [306, 1612, 1613, 9, 2, 38, 154, 5, 175], [2, 1614, 1615, 10, 377, 8, 356, 3, 2, 830, 1616, 71, 2, 321, 4, 1617, 36], [2, 1614, 1615, 10, 377, 8, 356, 3, 2, 830, 1616, 71, 2, 321, 4, 1617, 36], [1], [1, 175, 411, 2, 38, 154, 5, 83], [90, 9, 2, 38, 1618, 1619, 35, 5, 2, 264, 52], [2, 38, 1618, 1619, 35, 5, 2, 264, 52, 9, 90], [1], [1], [6], [81, 39], [], [2, 50, 80, 2957], [101, 28, 1169], [39, 2958], [39], [373, 176], [5], [373, 176, 9, 1422, 8, 2959, 176], [2, 729, 304, 3, 831, 9, 1464, 19, 1588, 3, 2, 1620, 729, 899, 3, 204, 35, 5, 103], [831, 9, 239, 43, 3, 2, 49, 2960, 254, 5, 103, 1621, 4, 2961], [831, 9, 2, 160, 4, 38, 35, 3, 1622], [1], [1], [135, 79, 117, 2962], [1], [135, 79, 10, 513, 2963, 21, 786, 787], [1], [135, 79, 91, 7, 1541, 61, 2964, 2965], [1], [17, 1623, 2966, 5, 345, 2967, 2968, 182, 17, 27, 772], [], [135, 79, 260, 2969, 21, 1624], [1624], [5, 135, 79, 298, 8, 1625], [1625], [135, 1623, 422, 1538, 1626, 8, 2970], [1], [135, 79, 64, 224, 1601], [], [5, 20, 367, 30, 79, 260, 7, 2971], [1], [1], [1], [1], [2, 337, 761, 5, 762], [], [2972, 2973, 67, 122, 267, 2974, 1627, 4, 217], [6], [6], [79], [832], [1423, 832], [], [5], [1], [1], [832, 10, 45, 2975, 8, 2976, 101, 2977, 301, 2978, 2979, 4, 2980, 2981], [1], [1], [1], [1, 2, 63, 9, 7, 1628], [1, 2, 63, 9, 7, 1628], [1, 2, 63, 26, 28, 223], [1, 2, 63, 26, 28, 223], [1, 2, 63, 26, 7, 620, 1629], [1, 2, 63, 26, 7, 620, 1629], [2, 1630, 3, 19, 63, 9, 25, 2, 200, 279, 3, 2, 378], [2, 63, 1630, 9, 25, 2, 200, 279, 3, 2, 378], [40, 12, 100, 1631, 63, 53], [40, 12, 100, 1631, 63, 53], [19, 63, 26, 224, 833, 3, 378], [2, 63, 26, 224, 833, 3, 378], [834, 55, 453, 15, 78, 233, 8, 1632, 30], [2, 63, 26, 7, 406, 2982], [5, 2983, 1445, 63, 55, 56, 2984, 8, 1633, 58, 265, 2985, 4, 2986], [19, 63, 1626, 8, 2987, 2988], [8, 2989, 520, 791, 19, 63, 55, 1634, 1635, 352, 1636, 1637, 11, 119, 2990, 272], [24, 55, 1634, 1635, 1636, 1637, 11, 119, 272], [1], [1], [1, 2, 834, 5, 2, 336, 2991, 2992, 2993, 31, 28, 532, 4, 19, 1072, 776], [1, 834, 31, 28, 223, 4, 224, 833, 3, 378], [1], [1], [1], [2994, 20, 594, 2995, 8, 20, 446, 835, 260, 57, 2996, 20, 1182, 57, 2997, 4, 2998, 4, 15, 166], [2999, 3000, 3001, 3002, 3003, 10, 116], [835], [], [3004, 835], [1], [1], [1], [1], [1], [1], [1], [1], [1], [1], [1], [2, 555, 379], [555, 379], [], [], [2, 379], [836, 379], [5, 2, 1638, 374], [5, 2, 1638, 374], [2, 1639, 230], [1639, 230], [1], [1, 2, 3005, 379, 17, 7, 1577, 230, 9, 61, 2, 837, 838], [1], [18, 9, 3006, 16, 2, 601, 8, 56, 3007, 3008], [1], [2, 1369, 5, 839, 231, 9, 3009, 8, 2, 292], [828, 231, 12, 100, 8, 529, 693], [828, 231, 12, 100, 8, 529, 693], [230, 292, 12, 535, 68, 3, 1640, 11, 1641], [230, 292, 12, 535, 68, 3, 1640, 11, 1641], [292], [7, 161, 230, 26, 292], [839, 231, 12, 57, 1642, 48, 2, 1643, 4, 506, 12, 1644], [839, 231, 12, 57, 1642, 48, 2, 1643, 4, 506, 12, 1644], [6], [84, 3010, 231, 249, 31, 292], [230, 1645, 15, 657, 8, 3011, 837, 838, 555, 4, 836], [2, 3012, 3, 7, 231, 1645, 12, 837, 838, 555, 4, 836], [17, 346, 3013, 3014, 2, 3015, 641, 3016, 25, 20, 377, 5, 3017, 3018], [5, 7, 323, 159, 1434, 3019, 960, 770, 418, 3020, 4, 185, 2, 3021, 3, 2, 521, 3022, 3023, 3024, 22, 3025, 320, 1646, 8, 2, 122, 3026, 1646, 3027, 14, 7, 3028, 3, 20, 3029], [1], [1], [1, 204, 1543, 3030, 16, 57, 33, 39, 1531], [1], [6], [1], [6], [6, 174, 9, 29, 19, 210, 32, 3, 3031], [1], [1, 174, 9, 512, 15, 217], [1], [1, 174, 411, 105, 15, 2, 227, 32], [1002, 3032, 261, 3, 1342, 800, 14, 556, 4, 168, 1647], [40, 12, 165, 1648, 3033, 5, 556, 4, 168, 1647], [388, 3, 767, 4, 388, 3, 2, 62, 52], [2, 28, 743, 804, 3, 533, 12, 767, 4, 2, 62, 52], [2, 1649, 3, 2, 1650, 1651, 13, 1652, 121, 1653, 5], [2, 194, 3, 2, 62, 174, 1457, 10, 3034, 13, 2, 1649, 3, 2, 1650, 1651, 13, 1652, 121, 1653], [1654, 1655], [2, 278, 3, 1654, 1655, 840, 174, 14, 27, 841, 210, 32, 5, 286, 8, 3035, 2, 3036, 8, 3037, 16, 594, 3038, 5, 2, 3039], [39, 85], [13, 1648, 654, 277, 31, 7, 3040, 197, 3, 39, 85], [556], [174, 9, 2, 3041, 32, 21, 3042, 44, 5, 556], [1], [393], [174], [1], [1], [1], [1], [1], [1], [1], [1656, 557, 4, 3043], [1656, 4, 557], [2, 131, 1657, 177, 5, 306, 842], [2, 131, 1657, 177], [1658], [1658], [530, 3, 549, 4, 1659], [530, 3, 549, 4, 1659], [65, 2, 187, 493], [1660], [43, 361, 9, 166, 2, 3044, 842, 1660], [3045, 2, 241], [], [1], [3046, 3047, 239, 3048, 10, 43, 3, 2, 38, 3049, 3050, 5, 2, 52, 4, 2, 377, 8, 3051, 3052, 509, 842, 5, 4], [2, 557, 3053, 3054], [2, 3055, 3, 557], [1], [1], [1], [1, 46, 69, 9, 1172, 13, 7, 240, 215, 3, 311], [1], [1, 588, 8, 2, 539, 3056, 1267, 46, 69, 26, 2, 1620, 3057, 3, 3058, 4, 3059, 3060, 3, 204, 3, 2, 38, 423, 254, 25], [1], [1, 46, 69, 9, 7, 829, 198, 3061, 3062], [1], [2, 609, 197, 3, 46, 69, 5, 2, 323, 10], [46, 69, 26, 19, 609, 197, 3], [40, 9, 249, 43, 176, 3063, 13, 2, 354, 162, 176, 151, 3064, 279], [40, 9, 43, 162, 176, 5, 46, 69], [46, 69, 9, 281, 17, 2, 218, 212, 3, 2, 50, 80, 25, 2, 3065, 3, 2, 46, 69, 3066], [46, 69, 9, 5, 354], [18, 10, 2, 46, 1661, 3067, 42, 3068, 4, 703, 2, 843, 5, 4], [2, 3069, 46, 1661, 4, 3070, 3071, 12, 3072, 16, 356, 3073, 3074], [2, 98, 3, 46, 3075, 1441, 13, 3076, 3, 57, 33, 3077, 26, 3078, 13, 691, 125], [6], [2, 830, 547, 304, 9, 4, 2, 98, 3, 3079, 5, 547, 3080, 25, 297, 206, 33, 2, 111, 480], [46, 3081, 547, 304, 9, 206, 33, 2, 111, 480], [1], [1], [1], [1], [1], [46, 69, 769], [46, 69, 769], [46, 69, 26, 7, 251, 1662, 495, 4, 7, 1663, 1664, 1665, 5, 2, 1666, 200], [7, 251, 1662, 495, 4, 7, 1663, 1664, 1665, 5, 2, 1666, 200], [354, 162, 176, 151], [2, 354, 162, 176, 151], [1], [1], [6], [843], [2, 3082, 3, 504, 843], [423], [857, 3083, 4, 3084, 69, 121, 3085], [], [5], [2, 35, 389, 3, 46, 69], [46, 3086], [46, 69], [1], [5, 2, 120, 840, 7, 1258, 25, 2, 418, 3087, 4, 7, 3088, 181, 16, 3089, 3, 3090, 17, 2, 789], [1, 178, 26, 3091, 3092], [1, 178, 9, 7, 3093, 32], [1], [1, 3094, 68, 178, 7, 3095, 552, 5, 709, 782], [1], [1667, 9, 2, 178, 137, 16, 2, 178, 32], [1667], [1, 178, 9, 141, 5, 507, 3, 86, 3096], [1], [178, 345, 3097, 15, 1668, 8, 1669], [15, 1668, 8, 1669], [178, 26, 1670, 3098, 3099], [1670], [228, 3100, 3101, 5], [], [1671, 3, 218, 103, 9, 2, 1078, 1170, 32, 21, 2, 3102, 98, 3, 222], [1671], [1], [1], [6], [6], [], [40, 12, 3103, 844, 222, 5, 83], [], [], [5, 2, 36], [18, 10, 71, 2, 36, 41, 7, 193, 795, 111, 32, 260, 3104, 8, 54, 3105], [], [5], [844, 3106, 12, 3107, 2, 143, 14, 388, 3, 67, 113, 1633, 28, 3108, 4, 31, 19, 3109, 553, 370, 512, 15, 2, 62, 3110, 370, 14, 136, 14, 7, 1408, 3111, 3112], [2, 680, 3, 3113, 5, 844, 9, 3114, 13, 7, 3115, 339, 3, 3116], [232, 9, 5, 2, 3117, 3, 2, 3118, 4, 3119, 425], [1], [1], [1], [1], [1], [2, 1672, 188, 1433, 232, 8, 2, 218], [232, 26, 2, 1672, 188, 234, 27, 264, 961], [232, 9, 7, 1673, 1674], [232, 9, 7, 1673, 1674], [2, 3120, 177, 3121, 325, 1675, 1676, 177, 4, 2, 1677, 177], [94, 3122, 3123, 510, 3124, 325, 2, 1675, 1676, 177, 2, 3125, 177, 4, 2, 1677, 177], [58, 250, 4, 187], [27, 58, 250, 4, 187], [84, 1678, 4, 3126, 728, 110, 1679], [84, 1678, 4, 3127, 3128, 728, 110, 1679], [232, 525, 240, 725, 4, 3129, 3130], [232, 525, 3131, 3132, 3133, 3134, 3135, 812, 3136, 3137, 109, 4, 3138], [1], [1], [1], [1], [1], [1], [99], [100, 99], [801, 1680], [801, 1680, 3139, 1220, 76, 19, 845, 558], [559, 179], [559, 179], [2, 775, 4, 3140, 3141, 7, 700, 1681, 1682], [1178, 8, 2, 1681, 1682], [2, 1683, 4, 846, 31, 1684, 1685], [48, 18, 26, 1684, 1685], [3142, 8, 3143, 54, 3144, 3145, 3, 264, 774], [1], [1], [1], [1], [6], [845], [19, 845, 558], [167, 179], [167, 179], [2, 1683], [2, 3146], [2, 846], [846], [1], [1], [559, 179], [559, 179], [3147, 3148, 785, 3149, 3150, 822, 16, 775], [3151, 3152, 912, 20, 427, 1686], [1], [1], [1], [622, 3153], [167, 179, 73, 2, 51, 179, 650, 5, 2, 191, 154], [1], [1], [1], [1], [6], [6], [1], [1], [180], [180, 9, 2, 210, 32, 3, 1687], [5], [2, 180, 32, 1688, 10, 448, 5], [1288, 2, 49, 1108, 355, 3154, 8, 180, 847, 12, 227, 122, 1587, 1627, 67, 4, 848], [16, 2, 1689, 1690, 1691, 4, 20, 1692, 271, 1693, 1694], [2, 3155, 3156, 73, 3157, 5, 3158, 3, 2, 1689, 1690, 1691, 4, 20, 1692, 271, 1693, 1694], [7, 1695, 470, 5, 1696, 15, 841, 52, 825], [40, 10, 7, 1695, 470, 5, 1696, 15, 27, 3159, 841, 52, 825], [48, 18, 9, 45, 91, 16, 2, 849, 1697], [48, 18, 9, 45, 91, 16, 2, 849, 1697], [40, 12, 700, 436, 39, 746, 222, 3160], [3161, 9, 1295, 17, 2, 3162, 3163], [1, 180, 239, 26, 19, 3164, 3165, 8, 2, 1440, 3, 2, 32, 2, 3166, 9, 823, 3167, 21, 43, 3168, 3169, 8, 638, 3170], [3, 2, 180, 847, 31, 180, 1542], [65, 2, 3171, 3, 2, 768, 3, 1687, 4, 2, 3172, 3173, 2, 180, 32, 1688, 3174, 10, 840, 5], [5, 788, 105, 2, 850, 3175, 29, 3176, 58, 2, 3177, 105, 3, 2, 788], [850, 12, 3178, 13, 28, 805, 3179, 4, 3180], [28, 1698, 11, 804, 3, 1698, 353, 56, 438, 5, 1496, 3, 28, 3181, 3182, 11, 849], [1], [1], [1], [1], [1], [356, 847, 26, 108, 3183, 15, 44], [1], [2, 36], [293, 260, 2, 210, 3184, 32, 13, 2, 36], [1], [1], [29, 1066, 8, 3185, 19, 3186, 3187, 11, 3188, 3189], [1], [105, 41, 3190, 816, 792, 5, 2, 143, 361, 87, 343, 1699, 370, 217, 4, 848], [293, 3191, 105, 15, 44, 42, 1306, 816, 792], [1], [1, 293, 10, 410, 617, 3192, 2, 44, 3193, 151], [1, 293, 26, 7, 621, 251, 98, 3, 850], [2, 37, 1571, 12, 82, 373, 4, 207], [2, 3194, 3, 3195, 3196, 5], [86, 293, 26, 78, 3197], [6, 293, 431, 29, 1699, 15, 217, 4, 848], [6, 44, 1448, 8, 3198, 1621, 5, 2, 36, 99], [57, 335, 222, 1700, 2, 86, 826, 33, 3199, 1700, 2, 3200, 826], [3201, 289, 1701, 1227, 2, 3202, 3203, 214, 15], [289, 1701], [1], [1], [1], [1], [1], [1], [1], [1], [1], [1], [1], [225, 515], [225, 515], [1702], [7, 1702], [778, 142], [778, 142], [514], [7, 514, 11, 1379, 7, 779, 1380], [558], [27, 558], [1], [2, 119, 3, 3204, 3205, 1472, 3206], [3207, 3208, 1686, 805, 3209, 3210, 3211], [3212, 3213, 68, 3214], [], [1], [1], [1], [1, 18, 9, 2, 1291, 4, 3215, 1388, 3, 2, 779, 112, 3, 1517, 1289, 42, 45, 1462, 2, 1252, 4, 735], [1], [1], [1], [1], [6], [6], [1], [1], [2, 1703, 112], [1703], [5, 3216, 3217], [1704], [1704], [1705], [2, 1705], [65], [65], [6], [3218], [6], [6], [1], [1], [1], [1], [37], [37], [1706, 3219], [3220, 3221, 3222, 3223, 749, 4, 3224], [1706, 16, 23, 1707], [1707], [3225, 750, 3, 3226, 4, 86, 1622], [1708, 1709, 1710, 3227, 410, 1710, 3228], [1708, 1709], [1632, 11, 78], [11]]\n",
            "Input Sequence shape after padded: [[  7 718  90 ...   0   0   0]\n",
            " [  7 718  90 ...   0   0   0]\n",
            " [  8  90 719 ...   0   0   0]\n",
            " ...\n",
            " [ 37  47   2 ...   0   0   0]\n",
            " [ 34   4 280 ...   0   0   0]\n",
            " [ 34   4 280 ...   0   0   0]]\n"
          ]
        }
      ]
    },
    {
      "cell_type": "markdown",
      "source": [
        "#Test  Questions and Answers After tokenized as the input to the Encoder"
      ],
      "metadata": {
        "id": "bHOhQ55tNVWB"
      }
    },
    {
      "cell_type": "code",
      "source": [
        "# Test the Question and Answer after tokenized\n",
        "for i in range(5):\n",
        "          print(f\"questions{i+1}: {x_train[i]}\")\n",
        "          print(f\"answers{i+1}: {y_train[i]}\\n\")\n",
        "          print(y_val[:10])"
      ],
      "metadata": {
        "colab": {
          "base_uri": "https://localhost:8080/"
        },
        "id": "-iaS4sEXNe9h",
        "outputId": "0375f2a9-62c4-4271-8037-4fce8337556e"
      },
      "execution_count": 147,
      "outputs": [
        {
          "output_type": "stream",
          "name": "stdout",
          "text": [
            "questions1: where was isaac newton born\n",
            "answers1: at woolsthorpe manor in woosthorpebycolsterworth\n",
            "\n",
            "['days', 'yes', 'yes', 'yes', '', 'the definition of the electrostatic force of attraction and repulsion', 'yes', '', 'no', 'none']\n",
            "questions2: where is finland located\n",
            "answers2: northern europe\n",
            "\n",
            "['days', 'yes', 'yes', 'yes', '', 'the definition of the electrostatic force of attraction and repulsion', 'yes', '', 'no', 'none']\n",
            "questions3: are wolves built for stamina\n",
            "answers3: yes\n",
            "\n",
            "['days', 'yes', 'yes', 'yes', '', 'the definition of the electrostatic force of attraction and repulsion', 'yes', '', 'no', 'none']\n",
            "questions4: how old was pascal when he died\n",
            "answers4: \n",
            "\n",
            "['days', 'yes', 'yes', 'yes', '', 'the definition of the electrostatic force of attraction and repulsion', 'yes', '', 'no', 'none']\n",
            "questions5: did pascal have poor health throughout his life\n",
            "answers5: yes\n",
            "\n",
            "['days', 'yes', 'yes', 'yes', '', 'the definition of the electrostatic force of attraction and repulsion', 'yes', '', 'no', 'none']\n"
          ]
        }
      ]
    },
    {
      "cell_type": "code",
      "source": [
        "# Print y_val\n",
        "print(type(y_train))\n",
        "print(type(x_train))\n",
        "print(type(y_val))\n",
        "print(y_val[:10])\n",
        "print(y_train[:2])\n",
        "print(x_train[:2])"
      ],
      "metadata": {
        "colab": {
          "base_uri": "https://localhost:8080/"
        },
        "id": "bBud2Aa1wfop",
        "outputId": "17fee881-30e0-4c38-fa47-fa77fd7cab6e"
      },
      "execution_count": 148,
      "outputs": [
        {
          "output_type": "stream",
          "name": "stdout",
          "text": [
            "<class 'list'>\n",
            "<class 'list'>\n",
            "<class 'list'>\n",
            "['days', 'yes', 'yes', 'yes', '', 'the definition of the electrostatic force of attraction and repulsion', 'yes', '', 'no', 'none']\n",
            "['at woolsthorpe manor in woosthorpebycolsterworth', 'northern europe']\n",
            "['where was isaac newton born', 'where is finland located']\n"
          ]
        }
      ]
    },
    {
      "cell_type": "markdown",
      "metadata": {
        "id": "d2LB8F2P2j7x"
      },
      "source": [
        "#(Step 5): Analyse the Dataset Distribution"
      ]
    },
    {
      "cell_type": "code",
      "execution_count": 149,
      "metadata": {
        "id": "uXPjNO1j26lm"
      },
      "outputs": [],
      "source": [
        "# Analyse the Dataset Distribution"
      ]
    },
    {
      "cell_type": "code",
      "execution_count": 150,
      "metadata": {
        "id": "mFnMhiNLq4k3",
        "colab": {
          "base_uri": "https://localhost:8080/",
          "height": 487
        },
        "outputId": "08828193-1ad2-4e5c-8402-4980a96be4e2"
      },
      "outputs": [
        {
          "output_type": "display_data",
          "data": {
            "text/plain": [
              "<Figure size 1000x500 with 1 Axes>"
            ],
            "image/png": "[encoded data removed]"
          },
          "metadata": {}
        }
      ],
      "source": [
        "response_lengths = [len(text.split()) for text in answers]\n",
        "input_lengths = [len(text.split()) for text in questions]\n",
        "\n",
        "# Plot Response Length Distribution\n",
        "plt.figure(figsize=(10, 5))\n",
        "sns.histplot(response_lengths, bins=30, kde=True, color='blue', label='Responses')\n",
        "sns.histplot(input_lengths, bins=30, kde=True, color='orange', label='Inputs')\n",
        "plt.xlabel('Number of Words')\n",
        "plt.ylabel('Frequency')\n",
        "plt.title('Distribution of Input and Output Lengths (Question & Answer)')\n",
        "plt.legend()\n",
        "plt.show()\n"
      ]
    },
    {
      "cell_type": "markdown",
      "source": [
        "#Check for the Vocabulary Sizes"
      ],
      "metadata": {
        "id": "JEsJvqhgd0SD"
      }
    },
    {
      "cell_type": "code",
      "source": [
        "vocab_size_input = len(tokenizer.word_index) + 1  # for padding token\n",
        "vocab_size_output = len(tokenizer.word_index) + 1  # for padding token\n",
        "\n",
        "print(f\"Input Vocabulary Size: {vocab_size_input}\")\n",
        "print(f\"Output Vocabulary Size: {vocab_size_output}\")"
      ],
      "metadata": {
        "colab": {
          "base_uri": "https://localhost:8080/"
        },
        "id": "aI_9-3QwQ4Y6",
        "outputId": "bbf4ecab-4c96-4e84-8eb9-aa75f10b241c"
      },
      "execution_count": 151,
      "outputs": [
        {
          "output_type": "stream",
          "name": "stdout",
          "text": [
            "Input Vocabulary Size: 5376\n",
            "Output Vocabulary Size: 5376\n"
          ]
        }
      ]
    },
    {
      "cell_type": "code",
      "execution_count": 152,
      "metadata": {
        "id": "zpmyUj8YyD9_"
      },
      "outputs": [],
      "source": [
        "# Check the Frequency of the Words"
      ]
    },
    {
      "cell_type": "code",
      "execution_count": 153,
      "metadata": {
        "id": "3ncypGZ_yOp4"
      },
      "outputs": [],
      "source": [
        "tokenizer = Tokenizer()\n",
        "tokenizer.fit_on_texts(np.concatenate((questions, answers)))\n",
        "word_counts = Counter(tokenizer.word_counts)"
      ]
    },
    {
      "cell_type": "code",
      "execution_count": 154,
      "metadata": {
        "id": "5yvOT5ifzBaa"
      },
      "outputs": [],
      "source": [
        "# Plot to Check for Most Common Words"
      ]
    },
    {
      "cell_type": "code",
      "execution_count": 155,
      "metadata": {
        "id": "SYm_f1yY0uc2",
        "colab": {
          "base_uri": "https://localhost:8080/",
          "height": 507
        },
        "outputId": "455bdef0-9df0-437f-ecc7-1284a1050657"
      },
      "outputs": [
        {
          "output_type": "display_data",
          "data": {
            "text/plain": [
              "<Figure size 1200x500 with 1 Axes>"
            ],
            "image/png": "[encoded data removed]"
          },
          "metadata": {}
        }
      ],
      "source": [
        "most_common_words = word_counts.most_common(20)\n",
        "words, counts = zip(*most_common_words)\n",
        "plt.figure(figsize=(12, 5))\n",
        "sns.barplot(x=list(words), y=list(counts))\n",
        "plt.xticks(rotation=45)\n",
        "plt.xlabel('Words')\n",
        "plt.ylabel('Frequency')\n",
        "plt.title('Most Common Words in Dataset')\n",
        "plt.show()"
      ]
    },
    {
      "cell_type": "markdown",
      "metadata": {
        "id": "3sqTu5IypScY"
      },
      "source": [
        "#(Step 6):Build Model with Luong Attention"
      ]
    },
    {
      "cell_type": "code",
      "execution_count": 157,
      "metadata": {
        "id": "Ud62kEbMj3wZ"
      },
      "outputs": [],
      "source": [
        "# Implement Luong Attention\n",
        "\n",
        "class LuongAttention(layers.Layer):\n",
        "  def __init__(self, units):\n",
        "       super(LuongAttention, self).__init__()\n",
        "       self.latent_dim = latent_dim\n",
        "\n",
        "  def build(self, inputs_shape):\n",
        "    print('Received input_shape:', inputs_shape)  # Debugging\n",
        "    if inputs_shape is None or inputs_shape[0] is None:\n",
        "      raise ValueError(\"Invalid Inputs shape received. Ensure the layers get correct input\")\n",
        "\n",
        "  def call(self, inputs): #\n",
        "      encoder_outputs, hidden_state = inputs #\n",
        "\n",
        "      # Compute the Attention Scores\n",
        "      hidden_state_expanded = tf.expand_dims(hidden_state, 1) # Shape batch size\n",
        "      score = tf.matmul(encoder_outputs, hidden_state_expanded, transpose_b=True) #\n",
        "      attention_weights = tf.nn.softmax(score, axis=1) # Shape batch size and seq len\n",
        "\n",
        "      # Compute context vector\n",
        "      context_vector = tf.matmul(tf.transpose(attention_weights, perm=[0, 2, 1]), encoder_outputs) #dum\n",
        "      context_vector = tf.squeeze(context_vector, axis=1) # remove extra dimension\n",
        "\n",
        "      return context_vector, attention_weights"
      ]
    },
    {
      "cell_type": "code",
      "source": [
        "# Define Variables and Dimensions\n",
        "batch_size = 64\n",
        "sequence_length = 537 # Length of seqequence = input length\n",
        "latent_dim = 256\n",
        "input_dim = vocab_size_input\n",
        "output_dim = vocab_size_output\n",
        "embedding_dim = 256\n",
        "\n",
        "#define Encoder Input\n",
        "encoder_inputs = layers.Input(shape=(sequence_length,))\n",
        "decoder_inputs = layers.Input(shape=(sequence_length,))\n",
        "\n",
        "#Define Enbedding layer\n",
        "embedding_layer = Embedding(input_dim=vocab_size, output_dim=embedding_dim, input_length=sequence_length)\n",
        "\n",
        "# encoder_output to create a test data\n",
        "input_seq = tf.random.normal((batch_size, sequence_length))\n",
        "batch_size = tf.shape(input_seq)[0] if isinstance(input_seq, tf.Tensor) else len(input_seq) # Dynamically get batch\n",
        "encoder_outputs = tf.random.normal((batch_size, 537, latent_dim)) # 538 was used before\n",
        "state_h = tf.random.normal((batch_size, latent_dim))\n",
        "\n",
        "attention_layer = LuongAttention(latent_dim) # create attention\n",
        "context_vector, attention_weights = attention_layer([encoder_outputs, state_h]) # apply attention\n",
        "\n",
        "print(\"Context vector shape:\", context_vector.shape)\n",
        "print(\"Attenction weightsshape:\", attention_weights.shape)"
      ],
      "metadata": {
        "colab": {
          "base_uri": "https://localhost:8080/"
        },
        "id": "r2IJgym3tqN-",
        "outputId": "02fd579f-a3d2-4ad5-9e68-18232339fdd2"
      },
      "execution_count": 158,
      "outputs": [
        {
          "output_type": "stream",
          "name": "stderr",
          "text": [
            "/usr/local/lib/python3.11/dist-packages/keras/src/layers/core/embedding.py:90: UserWarning: Argument `input_length` is deprecated. Just remove it.\n",
            "  warnings.warn(\n"
          ]
        },
        {
          "output_type": "stream",
          "name": "stdout",
          "text": [
            "Received input_shape: [(64, 537, 256), (64, 256)]\n",
            "Context vector shape: (64, 256)\n",
            "Attenction weightsshape: (64, 537, 1)\n"
          ]
        }
      ]
    },
    {
      "cell_type": "markdown",
      "metadata": {
        "id": "VEmCBjNSk1SN"
      },
      "source": [
        "#(Step 7): Define the Model Architecture"
      ]
    },
    {
      "cell_type": "markdown",
      "metadata": {
        "id": "U9G-t2QFCQvg"
      },
      "source": [
        "#Encoder"
      ]
    },
    {
      "cell_type": "code",
      "execution_count": 160,
      "metadata": {
        "id": "8Drl7DrBk5jG"
      },
      "outputs": [],
      "source": [
        "def build_seq2seq_attention_model(input_dim, output_dim, latent_dim):\n",
        "  # Encoder\n",
        "  encoder_inputs = layers.Input(shape=(sequence_length,))\n",
        "  encoder_embedding = layers.Embedding(input_dim=input_dim, output_dim=latent_dim, mask_zero=True )(encoder_inputs)\n",
        "  encoder_lstm = layers.LSTM(latent_dim, return_state=True, return_sequences=True, dropout=0.3)\n",
        "  encoder_outputs, state_h, state_c = encoder_lstm(encoder_embedding)\n",
        "\n",
        "  # Decoder\n",
        "  decoder_inputs = layers.Input(shape=(sequence_length,))\n",
        "  decoder_embedding = layers.Embedding(input_dim=output_dim, output_dim=latent_dim, mask_zero=True)(decoder_inputs)\n",
        "  decoder_lstm = layers.LSTM(latent_dim, return_sequences=True, return_state=True, dropout=0.3)\n",
        "  decoder_outputs, _,_ = decoder_lstm(decoder_embedding, initial_state = [state_h, state_c])\n",
        "\n",
        "# Apply Attention Layer\n",
        "  context_vector_repeated = Lambda(lambda x: tf.repeat(tf.expand_dims(x[0], axis=1), tf.shape(x[1])[1], axis=1))(\n",
        "       [context_vector, decoder_outputs]\n",
        "  )\n",
        "\n",
        "  decoder_with_context = layers.Concatenate(axis=-1)([decoder_outputs, context_vector_repeated]) # concanate context vector\n",
        "  decoder_dense_intermediate = layers.Dense(latent_dim, activation='tanh')(decoder_with_context)\n",
        "\n",
        "  decoder_dense = layers.Dense(output_dim, activation='softmax')(decoder_dense_intermediate)\n",
        "  decoder_outputs = decoder_dense\n",
        "\n",
        "  # Define the Model\n",
        "  model = Model(inputs=[encoder_inputs, decoder_inputs], outputs=decoder_outputs)   #decoder_outputs)\n",
        "  model.compile(optimizer='adam', loss='sparse_categorical_crossentropy', metrics=['accuracy'])\n",
        "\n",
        "  return model"
      ]
    },
    {
      "cell_type": "code",
      "source": [
        "print(\"attention_weights shape:\",attention_weights.shape)\n",
        "print(\"encoder_output shape:\", encoder_outputs.shape)\n",
        "print(\"encoder input shape:\", encoder_inputs.shape)\n"
      ],
      "metadata": {
        "colab": {
          "base_uri": "https://localhost:8080/"
        },
        "id": "NXnk1mgTVBu2",
        "outputId": "d663e6d9-4f21-4d4a-e39e-c316f9689c12"
      },
      "execution_count": 161,
      "outputs": [
        {
          "output_type": "stream",
          "name": "stdout",
          "text": [
            "attention_weights shape: (64, 537, 1)\n",
            "encoder_output shape: (64, 537, 256)\n",
            "encoder input shape: (None, 537)\n"
          ]
        }
      ]
    },
    {
      "cell_type": "code",
      "source": [
        "# Print out input, output and Latent Dim Values\n",
        "\n",
        "print(f\"Input Dim: {input_dim}, Type: {type(input_dim)}\")\n",
        "print(f\"Output Dim: {output_dim}, Type: {type(output_dim)}\")\n",
        "print(f\"Latent Dim: {latent_dim}, Type: {type(latent_dim)}\")"
      ],
      "metadata": {
        "id": "0nRkiKm33O9z",
        "colab": {
          "base_uri": "https://localhost:8080/"
        },
        "outputId": "83d279a8-4f59-4f53-96f7-1af6028e4666"
      },
      "execution_count": 162,
      "outputs": [
        {
          "output_type": "stream",
          "name": "stdout",
          "text": [
            "Input Dim: 5376, Type: <class 'int'>\n",
            "Output Dim: 5376, Type: <class 'int'>\n",
            "Latent Dim: 256, Type: <class 'int'>\n"
          ]
        }
      ]
    },
    {
      "cell_type": "markdown",
      "source": [
        "#(Step 8): Seq2seq Model Attention Summary"
      ],
      "metadata": {
        "id": "aVGhbGVF3JX8"
      }
    },
    {
      "cell_type": "code",
      "source": [
        "# Build the seq2seq model\n",
        "\n",
        "seq2seq_attention_model = build_seq2seq_attention_model(input_dim, output_dim, latent_dim)\n",
        "seq2seq_attention_model.summary()"
      ],
      "metadata": {
        "colab": {
          "base_uri": "https://localhost:8080/",
          "height": 735
        },
        "id": "z02MZdRZ3PW8",
        "outputId": "82d749ed-7838-4570-ddd1-64ac998ac022"
      },
      "execution_count": 163,
      "outputs": [
        {
          "output_type": "stream",
          "name": "stderr",
          "text": [
            "/usr/local/lib/python3.11/dist-packages/keras/src/layers/layer.py:938: UserWarning: Layer 'lambda_3' (of type Lambda) was passed an input with a mask attached to it. However, this layer does not support masking and will therefore destroy the mask information. Downstream layers will not see the mask.\n",
            "  warnings.warn(\n"
          ]
        },
        {
          "output_type": "display_data",
          "data": {
            "text/plain": [
              "\u001b[1mModel: \"functional_3\"\u001b[0m\n"
            ],
            "text/html": [
              "<pre style=\"white-space:pre;overflow-x:auto;line-height:normal;font-family:Menlo,'DejaVu Sans Mono',consolas,'Courier New',monospace\"><span style=\"font-weight: bold\">Model: \"functional_3\"</span>\n",
              "</pre>\n"
            ]
          },
          "metadata": {}
        },
        {
          "output_type": "display_data",
          "data": {
            "text/plain": [
              "┏━━━━━━━━━━━━━━━━━━━━━━━━━━━┳━━━━━━━━━━━━━━━━━━━━━━━━┳━━━━━━━━━━━━━━━━┳━━━━━━━━━━━━━━━━━━━━━━━━┓\n",
              "┃\u001b[1m \u001b[0m\u001b[1mLayer (type)             \u001b[0m\u001b[1m \u001b[0m┃\u001b[1m \u001b[0m\u001b[1mOutput Shape          \u001b[0m\u001b[1m \u001b[0m┃\u001b[1m \u001b[0m\u001b[1m       Param #\u001b[0m\u001b[1m \u001b[0m┃\u001b[1m \u001b[0m\u001b[1mConnected to          \u001b[0m\u001b[1m \u001b[0m┃\n",
              "┡━━━━━━━━━━━━━━━━━━━━━━━━━━━╇━━━━━━━━━━━━━━━━━━━━━━━━╇━━━━━━━━━━━━━━━━╇━━━━━━━━━━━━━━━━━━━━━━━━┩\n",
              "│ input_layer_11            │ (\u001b[38;5;45mNone\u001b[0m, \u001b[38;5;34m537\u001b[0m)            │              \u001b[38;5;34m0\u001b[0m │ -                      │\n",
              "│ (\u001b[38;5;33mInputLayer\u001b[0m)              │                        │                │                        │\n",
              "├───────────────────────────┼────────────────────────┼────────────────┼────────────────────────┤\n",
              "│ input_layer_12            │ (\u001b[38;5;45mNone\u001b[0m, \u001b[38;5;34m537\u001b[0m)            │              \u001b[38;5;34m0\u001b[0m │ -                      │\n",
              "│ (\u001b[38;5;33mInputLayer\u001b[0m)              │                        │                │                        │\n",
              "├───────────────────────────┼────────────────────────┼────────────────┼────────────────────────┤\n",
              "│ embedding_9 (\u001b[38;5;33mEmbedding\u001b[0m)   │ (\u001b[38;5;45mNone\u001b[0m, \u001b[38;5;34m537\u001b[0m, \u001b[38;5;34m256\u001b[0m)       │      \u001b[38;5;34m1,376,256\u001b[0m │ input_layer_11[\u001b[38;5;34m0\u001b[0m][\u001b[38;5;34m0\u001b[0m]   │\n",
              "├───────────────────────────┼────────────────────────┼────────────────┼────────────────────────┤\n",
              "│ not_equal_7 (\u001b[38;5;33mNotEqual\u001b[0m)    │ (\u001b[38;5;45mNone\u001b[0m, \u001b[38;5;34m537\u001b[0m)            │              \u001b[38;5;34m0\u001b[0m │ input_layer_11[\u001b[38;5;34m0\u001b[0m][\u001b[38;5;34m0\u001b[0m]   │\n",
              "├───────────────────────────┼────────────────────────┼────────────────┼────────────────────────┤\n",
              "│ embedding_10 (\u001b[38;5;33mEmbedding\u001b[0m)  │ (\u001b[38;5;45mNone\u001b[0m, \u001b[38;5;34m537\u001b[0m, \u001b[38;5;34m256\u001b[0m)       │      \u001b[38;5;34m1,376,256\u001b[0m │ input_layer_12[\u001b[38;5;34m0\u001b[0m][\u001b[38;5;34m0\u001b[0m]   │\n",
              "├───────────────────────────┼────────────────────────┼────────────────┼────────────────────────┤\n",
              "│ lstm_7 (\u001b[38;5;33mLSTM\u001b[0m)             │ [(\u001b[38;5;45mNone\u001b[0m, \u001b[38;5;34m537\u001b[0m, \u001b[38;5;34m256\u001b[0m),     │        \u001b[38;5;34m525,312\u001b[0m │ embedding_9[\u001b[38;5;34m0\u001b[0m][\u001b[38;5;34m0\u001b[0m],     │\n",
              "│                           │ (\u001b[38;5;45mNone\u001b[0m, \u001b[38;5;34m256\u001b[0m), (\u001b[38;5;45mNone\u001b[0m,    │                │ not_equal_7[\u001b[38;5;34m0\u001b[0m][\u001b[38;5;34m0\u001b[0m]      │\n",
              "│                           │ \u001b[38;5;34m256\u001b[0m)]                  │                │                        │\n",
              "├───────────────────────────┼────────────────────────┼────────────────┼────────────────────────┤\n",
              "│ lstm_8 (\u001b[38;5;33mLSTM\u001b[0m)             │ [(\u001b[38;5;45mNone\u001b[0m, \u001b[38;5;34m537\u001b[0m, \u001b[38;5;34m256\u001b[0m),     │        \u001b[38;5;34m525,312\u001b[0m │ embedding_10[\u001b[38;5;34m0\u001b[0m][\u001b[38;5;34m0\u001b[0m],    │\n",
              "│                           │ (\u001b[38;5;45mNone\u001b[0m, \u001b[38;5;34m256\u001b[0m), (\u001b[38;5;45mNone\u001b[0m,    │                │ lstm_7[\u001b[38;5;34m0\u001b[0m][\u001b[38;5;34m1\u001b[0m],          │\n",
              "│                           │ \u001b[38;5;34m256\u001b[0m)]                  │                │ lstm_7[\u001b[38;5;34m0\u001b[0m][\u001b[38;5;34m2\u001b[0m]           │\n",
              "├───────────────────────────┼────────────────────────┼────────────────┼────────────────────────┤\n",
              "│ not_equal_8 (\u001b[38;5;33mNotEqual\u001b[0m)    │ (\u001b[38;5;45mNone\u001b[0m, \u001b[38;5;34m537\u001b[0m)            │              \u001b[38;5;34m0\u001b[0m │ input_layer_12[\u001b[38;5;34m0\u001b[0m][\u001b[38;5;34m0\u001b[0m]   │\n",
              "├───────────────────────────┼────────────────────────┼────────────────┼────────────────────────┤\n",
              "│ lambda_3 (\u001b[38;5;33mLambda\u001b[0m)         │ (\u001b[38;5;34m64\u001b[0m, \u001b[38;5;34m537\u001b[0m, \u001b[38;5;34m256\u001b[0m)         │              \u001b[38;5;34m0\u001b[0m │ lstm_8[\u001b[38;5;34m0\u001b[0m][\u001b[38;5;34m0\u001b[0m],          │\n",
              "│                           │                        │                │ not_equal_8[\u001b[38;5;34m0\u001b[0m][\u001b[38;5;34m0\u001b[0m]      │\n",
              "├───────────────────────────┼────────────────────────┼────────────────┼────────────────────────┤\n",
              "│ concatenate_6             │ (\u001b[38;5;45mNone\u001b[0m, \u001b[38;5;34m537\u001b[0m, \u001b[38;5;34m512\u001b[0m)       │              \u001b[38;5;34m0\u001b[0m │ lstm_8[\u001b[38;5;34m0\u001b[0m][\u001b[38;5;34m0\u001b[0m],          │\n",
              "│ (\u001b[38;5;33mConcatenate\u001b[0m)             │                        │                │ lambda_3[\u001b[38;5;34m0\u001b[0m][\u001b[38;5;34m0\u001b[0m]         │\n",
              "├───────────────────────────┼────────────────────────┼────────────────┼────────────────────────┤\n",
              "│ dense_6 (\u001b[38;5;33mDense\u001b[0m)           │ (\u001b[38;5;45mNone\u001b[0m, \u001b[38;5;34m537\u001b[0m, \u001b[38;5;34m256\u001b[0m)       │        \u001b[38;5;34m131,328\u001b[0m │ concatenate_6[\u001b[38;5;34m0\u001b[0m][\u001b[38;5;34m0\u001b[0m]    │\n",
              "├───────────────────────────┼────────────────────────┼────────────────┼────────────────────────┤\n",
              "│ dense_7 (\u001b[38;5;33mDense\u001b[0m)           │ (\u001b[38;5;45mNone\u001b[0m, \u001b[38;5;34m537\u001b[0m, \u001b[38;5;34m5376\u001b[0m)      │      \u001b[38;5;34m1,381,632\u001b[0m │ dense_6[\u001b[38;5;34m0\u001b[0m][\u001b[38;5;34m0\u001b[0m]          │\n",
              "└───────────────────────────┴────────────────────────┴────────────────┴────────────────────────┘\n"
            ],
            "text/html": [
              "<pre style=\"white-space:pre;overflow-x:auto;line-height:normal;font-family:Menlo,'DejaVu Sans Mono',consolas,'Courier New',monospace\">┏━━━━━━━━━━━━━━━━━━━━━━━━━━━┳━━━━━━━━━━━━━━━━━━━━━━━━┳━━━━━━━━━━━━━━━━┳━━━━━━━━━━━━━━━━━━━━━━━━┓\n",
              "┃<span style=\"font-weight: bold\"> Layer (type)              </span>┃<span style=\"font-weight: bold\"> Output Shape           </span>┃<span style=\"font-weight: bold\">        Param # </span>┃<span style=\"font-weight: bold\"> Connected to           </span>┃\n",
              "┡━━━━━━━━━━━━━━━━━━━━━━━━━━━╇━━━━━━━━━━━━━━━━━━━━━━━━╇━━━━━━━━━━━━━━━━╇━━━━━━━━━━━━━━━━━━━━━━━━┩\n",
              "│ input_layer_11            │ (<span style=\"color: #00d7ff; text-decoration-color: #00d7ff\">None</span>, <span style=\"color: #00af00; text-decoration-color: #00af00\">537</span>)            │              <span style=\"color: #00af00; text-decoration-color: #00af00\">0</span> │ -                      │\n",
              "│ (<span style=\"color: #0087ff; text-decoration-color: #0087ff\">InputLayer</span>)              │                        │                │                        │\n",
              "├───────────────────────────┼────────────────────────┼────────────────┼────────────────────────┤\n",
              "│ input_layer_12            │ (<span style=\"color: #00d7ff; text-decoration-color: #00d7ff\">None</span>, <span style=\"color: #00af00; text-decoration-color: #00af00\">537</span>)            │              <span style=\"color: #00af00; text-decoration-color: #00af00\">0</span> │ -                      │\n",
              "│ (<span style=\"color: #0087ff; text-decoration-color: #0087ff\">InputLayer</span>)              │                        │                │                        │\n",
              "├───────────────────────────┼────────────────────────┼────────────────┼────────────────────────┤\n",
              "│ embedding_9 (<span style=\"color: #0087ff; text-decoration-color: #0087ff\">Embedding</span>)   │ (<span style=\"color: #00d7ff; text-decoration-color: #00d7ff\">None</span>, <span style=\"color: #00af00; text-decoration-color: #00af00\">537</span>, <span style=\"color: #00af00; text-decoration-color: #00af00\">256</span>)       │      <span style=\"color: #00af00; text-decoration-color: #00af00\">1,376,256</span> │ input_layer_11[<span style=\"color: #00af00; text-decoration-color: #00af00\">0</span>][<span style=\"color: #00af00; text-decoration-color: #00af00\">0</span>]   │\n",
              "├───────────────────────────┼────────────────────────┼────────────────┼────────────────────────┤\n",
              "│ not_equal_7 (<span style=\"color: #0087ff; text-decoration-color: #0087ff\">NotEqual</span>)    │ (<span style=\"color: #00d7ff; text-decoration-color: #00d7ff\">None</span>, <span style=\"color: #00af00; text-decoration-color: #00af00\">537</span>)            │              <span style=\"color: #00af00; text-decoration-color: #00af00\">0</span> │ input_layer_11[<span style=\"color: #00af00; text-decoration-color: #00af00\">0</span>][<span style=\"color: #00af00; text-decoration-color: #00af00\">0</span>]   │\n",
              "├───────────────────────────┼────────────────────────┼────────────────┼────────────────────────┤\n",
              "│ embedding_10 (<span style=\"color: #0087ff; text-decoration-color: #0087ff\">Embedding</span>)  │ (<span style=\"color: #00d7ff; text-decoration-color: #00d7ff\">None</span>, <span style=\"color: #00af00; text-decoration-color: #00af00\">537</span>, <span style=\"color: #00af00; text-decoration-color: #00af00\">256</span>)       │      <span style=\"color: #00af00; text-decoration-color: #00af00\">1,376,256</span> │ input_layer_12[<span style=\"color: #00af00; text-decoration-color: #00af00\">0</span>][<span style=\"color: #00af00; text-decoration-color: #00af00\">0</span>]   │\n",
              "├───────────────────────────┼────────────────────────┼────────────────┼────────────────────────┤\n",
              "│ lstm_7 (<span style=\"color: #0087ff; text-decoration-color: #0087ff\">LSTM</span>)             │ [(<span style=\"color: #00d7ff; text-decoration-color: #00d7ff\">None</span>, <span style=\"color: #00af00; text-decoration-color: #00af00\">537</span>, <span style=\"color: #00af00; text-decoration-color: #00af00\">256</span>),     │        <span style=\"color: #00af00; text-decoration-color: #00af00\">525,312</span> │ embedding_9[<span style=\"color: #00af00; text-decoration-color: #00af00\">0</span>][<span style=\"color: #00af00; text-decoration-color: #00af00\">0</span>],     │\n",
              "│                           │ (<span style=\"color: #00d7ff; text-decoration-color: #00d7ff\">None</span>, <span style=\"color: #00af00; text-decoration-color: #00af00\">256</span>), (<span style=\"color: #00d7ff; text-decoration-color: #00d7ff\">None</span>,    │                │ not_equal_7[<span style=\"color: #00af00; text-decoration-color: #00af00\">0</span>][<span style=\"color: #00af00; text-decoration-color: #00af00\">0</span>]      │\n",
              "│                           │ <span style=\"color: #00af00; text-decoration-color: #00af00\">256</span>)]                  │                │                        │\n",
              "├───────────────────────────┼────────────────────────┼────────────────┼────────────────────────┤\n",
              "│ lstm_8 (<span style=\"color: #0087ff; text-decoration-color: #0087ff\">LSTM</span>)             │ [(<span style=\"color: #00d7ff; text-decoration-color: #00d7ff\">None</span>, <span style=\"color: #00af00; text-decoration-color: #00af00\">537</span>, <span style=\"color: #00af00; text-decoration-color: #00af00\">256</span>),     │        <span style=\"color: #00af00; text-decoration-color: #00af00\">525,312</span> │ embedding_10[<span style=\"color: #00af00; text-decoration-color: #00af00\">0</span>][<span style=\"color: #00af00; text-decoration-color: #00af00\">0</span>],    │\n",
              "│                           │ (<span style=\"color: #00d7ff; text-decoration-color: #00d7ff\">None</span>, <span style=\"color: #00af00; text-decoration-color: #00af00\">256</span>), (<span style=\"color: #00d7ff; text-decoration-color: #00d7ff\">None</span>,    │                │ lstm_7[<span style=\"color: #00af00; text-decoration-color: #00af00\">0</span>][<span style=\"color: #00af00; text-decoration-color: #00af00\">1</span>],          │\n",
              "│                           │ <span style=\"color: #00af00; text-decoration-color: #00af00\">256</span>)]                  │                │ lstm_7[<span style=\"color: #00af00; text-decoration-color: #00af00\">0</span>][<span style=\"color: #00af00; text-decoration-color: #00af00\">2</span>]           │\n",
              "├───────────────────────────┼────────────────────────┼────────────────┼────────────────────────┤\n",
              "│ not_equal_8 (<span style=\"color: #0087ff; text-decoration-color: #0087ff\">NotEqual</span>)    │ (<span style=\"color: #00d7ff; text-decoration-color: #00d7ff\">None</span>, <span style=\"color: #00af00; text-decoration-color: #00af00\">537</span>)            │              <span style=\"color: #00af00; text-decoration-color: #00af00\">0</span> │ input_layer_12[<span style=\"color: #00af00; text-decoration-color: #00af00\">0</span>][<span style=\"color: #00af00; text-decoration-color: #00af00\">0</span>]   │\n",
              "├───────────────────────────┼────────────────────────┼────────────────┼────────────────────────┤\n",
              "│ lambda_3 (<span style=\"color: #0087ff; text-decoration-color: #0087ff\">Lambda</span>)         │ (<span style=\"color: #00af00; text-decoration-color: #00af00\">64</span>, <span style=\"color: #00af00; text-decoration-color: #00af00\">537</span>, <span style=\"color: #00af00; text-decoration-color: #00af00\">256</span>)         │              <span style=\"color: #00af00; text-decoration-color: #00af00\">0</span> │ lstm_8[<span style=\"color: #00af00; text-decoration-color: #00af00\">0</span>][<span style=\"color: #00af00; text-decoration-color: #00af00\">0</span>],          │\n",
              "│                           │                        │                │ not_equal_8[<span style=\"color: #00af00; text-decoration-color: #00af00\">0</span>][<span style=\"color: #00af00; text-decoration-color: #00af00\">0</span>]      │\n",
              "├───────────────────────────┼────────────────────────┼────────────────┼────────────────────────┤\n",
              "│ concatenate_6             │ (<span style=\"color: #00d7ff; text-decoration-color: #00d7ff\">None</span>, <span style=\"color: #00af00; text-decoration-color: #00af00\">537</span>, <span style=\"color: #00af00; text-decoration-color: #00af00\">512</span>)       │              <span style=\"color: #00af00; text-decoration-color: #00af00\">0</span> │ lstm_8[<span style=\"color: #00af00; text-decoration-color: #00af00\">0</span>][<span style=\"color: #00af00; text-decoration-color: #00af00\">0</span>],          │\n",
              "│ (<span style=\"color: #0087ff; text-decoration-color: #0087ff\">Concatenate</span>)             │                        │                │ lambda_3[<span style=\"color: #00af00; text-decoration-color: #00af00\">0</span>][<span style=\"color: #00af00; text-decoration-color: #00af00\">0</span>]         │\n",
              "├───────────────────────────┼────────────────────────┼────────────────┼────────────────────────┤\n",
              "│ dense_6 (<span style=\"color: #0087ff; text-decoration-color: #0087ff\">Dense</span>)           │ (<span style=\"color: #00d7ff; text-decoration-color: #00d7ff\">None</span>, <span style=\"color: #00af00; text-decoration-color: #00af00\">537</span>, <span style=\"color: #00af00; text-decoration-color: #00af00\">256</span>)       │        <span style=\"color: #00af00; text-decoration-color: #00af00\">131,328</span> │ concatenate_6[<span style=\"color: #00af00; text-decoration-color: #00af00\">0</span>][<span style=\"color: #00af00; text-decoration-color: #00af00\">0</span>]    │\n",
              "├───────────────────────────┼────────────────────────┼────────────────┼────────────────────────┤\n",
              "│ dense_7 (<span style=\"color: #0087ff; text-decoration-color: #0087ff\">Dense</span>)           │ (<span style=\"color: #00d7ff; text-decoration-color: #00d7ff\">None</span>, <span style=\"color: #00af00; text-decoration-color: #00af00\">537</span>, <span style=\"color: #00af00; text-decoration-color: #00af00\">5376</span>)      │      <span style=\"color: #00af00; text-decoration-color: #00af00\">1,381,632</span> │ dense_6[<span style=\"color: #00af00; text-decoration-color: #00af00\">0</span>][<span style=\"color: #00af00; text-decoration-color: #00af00\">0</span>]          │\n",
              "└───────────────────────────┴────────────────────────┴────────────────┴────────────────────────┘\n",
              "</pre>\n"
            ]
          },
          "metadata": {}
        },
        {
          "output_type": "display_data",
          "data": {
            "text/plain": [
              "\u001b[1m Total params: \u001b[0m\u001b[38;5;34m5,316,096\u001b[0m (20.28 MB)\n"
            ],
            "text/html": [
              "<pre style=\"white-space:pre;overflow-x:auto;line-height:normal;font-family:Menlo,'DejaVu Sans Mono',consolas,'Courier New',monospace\"><span style=\"font-weight: bold\"> Total params: </span><span style=\"color: #00af00; text-decoration-color: #00af00\">5,316,096</span> (20.28 MB)\n",
              "</pre>\n"
            ]
          },
          "metadata": {}
        },
        {
          "output_type": "display_data",
          "data": {
            "text/plain": [
              "\u001b[1m Trainable params: \u001b[0m\u001b[38;5;34m5,316,096\u001b[0m (20.28 MB)\n"
            ],
            "text/html": [
              "<pre style=\"white-space:pre;overflow-x:auto;line-height:normal;font-family:Menlo,'DejaVu Sans Mono',consolas,'Courier New',monospace\"><span style=\"font-weight: bold\"> Trainable params: </span><span style=\"color: #00af00; text-decoration-color: #00af00\">5,316,096</span> (20.28 MB)\n",
              "</pre>\n"
            ]
          },
          "metadata": {}
        },
        {
          "output_type": "display_data",
          "data": {
            "text/plain": [
              "\u001b[1m Non-trainable params: \u001b[0m\u001b[38;5;34m0\u001b[0m (0.00 B)\n"
            ],
            "text/html": [
              "<pre style=\"white-space:pre;overflow-x:auto;line-height:normal;font-family:Menlo,'DejaVu Sans Mono',consolas,'Courier New',monospace\"><span style=\"font-weight: bold\"> Non-trainable params: </span><span style=\"color: #00af00; text-decoration-color: #00af00\">0</span> (0.00 B)\n",
              "</pre>\n"
            ]
          },
          "metadata": {}
        }
      ]
    },
    {
      "cell_type": "code",
      "source": [
        "print(y_train[:3]) # check the first five labels"
      ],
      "metadata": {
        "colab": {
          "base_uri": "https://localhost:8080/"
        },
        "id": "cUi1-NRXn2XE",
        "outputId": "374f64d1-d362-40c5-b049-9baa34e4b9f7"
      },
      "execution_count": 166,
      "outputs": [
        {
          "output_type": "stream",
          "name": "stdout",
          "text": [
            "['at woolsthorpe manor in woosthorpebycolsterworth', 'northern europe', 'yes']\n"
          ]
        }
      ]
    },
    {
      "cell_type": "code",
      "source": [
        "# Run the model to confirm input dim, output dim and latent dim\n",
        "#model = build_seq2seq_attention_model(input_dim, output_dim, 256)\n",
        "#model.summary()"
      ],
      "metadata": {
        "id": "RlMCH4nmeu48"
      },
      "execution_count": 167,
      "outputs": []
    },
    {
      "cell_type": "code",
      "source": [
        "# test\n",
        "#for i, seq in enumerate(input_seq[:5]):\n",
        " # (f\"Sequence{i}: {seq}, Type: {type(seq)}\")"
      ],
      "metadata": {
        "id": "inmXAFp_zDng"
      },
      "execution_count": 168,
      "outputs": []
    },
    {
      "cell_type": "markdown",
      "source": [
        "#(Step 9): **Fit** and **train** the **Model**"
      ],
      "metadata": {
        "id": "0D5JWdqAfVff"
      }
    },
    {
      "cell_type": "code",
      "source": [
        "# Convert list to numpy array\n",
        "\n",
        "# Define Training Data , Test Data and Validation Data\n",
        "x_train = [questions]\n",
        "y_train = [answers]\n",
        "\n",
        "# Now slice\n",
        "x_encoder_train = x_train  #[:, :-1] # Encoder input from x_train(questions)\n",
        "x_decoder_train = y_train #[:, :-1] # Decoder input from y_train (answers)\n",
        "y_train = y_train #[:, 1:] # Target output shifted to the left\n",
        "\n",
        "# For Validation:\n",
        "x_encoder_val = x_val  #[:, :-1] # Encoder val excluding last token\n",
        "x_decoder_val = y_val #[:, :-1] # Decoder input from y_val\n",
        "y_val = y_val #[:, 1:] # Target output shifted to the left\n",
        "\n",
        "#Initialize and fit token on train data\n",
        "tokenizer = Tokenizer()\n",
        "tokenizer.fit_on_texts(x_train)\n",
        "tokenizer.fit_on_texts(y_train)\n",
        "tokenizer.fit_on_texts(x_train)\n",
        "tokenizer.fit_on_texts(y_train)\n",
        "\n",
        "x_train_seq = tokenizer.texts_to_sequences(x_train)\n",
        "y_train_seq = tokenizer.texts_to_sequences(y_train)\n",
        "\n",
        "# Initiate and fit token on validation data\n",
        "# Convert the validation sets into sequence data\n",
        "x_val_seq = tokenizer.texts_to_sequences(x_train)\n",
        "y_val_seq = tokenizer.texts_to_sequences(y_train)\n",
        "\n",
        "# Make the lengths equals\n",
        "max_len = max(max(len(seq) for seq in x_train_seq), max(len(seq) for seq in y_train_seq))\n",
        "max_len = max(max(len(seq) for seq in x_val_seq), max(len(seq) for seq in y_val_seq))\n",
        "\n",
        "# Convert the list to integers\n",
        "x_train_seq = [list(map(int,seq)) for seq in x_train_seq]\n",
        "y_train_seq = [list(map(int,seq)) for seq in y_train_seq]\n",
        "x_val_seq = [list(map(int,seq)) for seq in x_val_seq]\n",
        "y_val_seq = [list(map(int,seq)) for seq in y_val_seq]\n",
        "\n",
        "# Pad the x_train and y_train\n",
        "x_train_padded = pad_sequences(x_train_seq, maxlen=538, padding='post', truncating='post') # This equal the length of max_input_len\n",
        "y_train_padded = pad_sequences(y_train_seq, maxlen=538, padding='post', truncating='post') # This equal the length of max_output_len\n",
        "#y_train_padded = pad_sequences(y_train, maxlen=538, padding='post', truncating='post')\n",
        "\n",
        "# Pad the x_val and y_val dataset\n",
        "x_val_padded = pad_sequences(x_val_seq, maxlen=538, padding='post', truncating='post')\n",
        "#x_decoder_val_padded = pad_sequences(x_decoder_val, maxlen=538, padding='post', truncating='post')\n",
        "y_val_padded = pad_sequences(y_val_seq, maxlen=538, padding='post', truncating='post')\n",
        "\n",
        "# Convert list to Numpy array\n",
        "x_train_padded = np.array(x_train_padded, dtype=object)\n",
        "y_train_padded = np.array(y_train_padded, dtype=object)\n",
        "x_val_padded = np.array(x_val_padded, dtype=object)\n",
        "y_val_padded = np.array(y_val_padded, dtype=object)\n",
        "\n",
        "# Now slice the x_train and y_train\n",
        "x_encoder_train = x_train_padded[:, :-1]\n",
        "x_decoder_train = y_train_padded[:, :-1]\n",
        "y_train = y_train_padded[:, 1:] # with a shift or axis\n",
        "\n",
        "# Slice the validation sets\n",
        "x_encoder_val = x_val_padded[:, :-1]\n",
        "x_decoder_val = y_val_padded[:, :-1]\n",
        "y_val = y_val_padded[:, 1: ] # with a shift or axis\n",
        "\n",
        "# Print the shapes\n",
        "print(\"x_encoder_train shape:\", x_encoder_train.shape)\n",
        "print(\"x_decoder_train shape:\", x_decoder_train.shape)\n",
        "print(\"y_train shape:\", y_train.shape)\n",
        "print(\"x_encoder_val:\", x_encoder_val.shape)\n",
        "print(\"x_decoder_val:\", x_decoder_val.shape)\n",
        "print(\"y_val shape:\", y_val.shape)\n",
        "\n",
        "# Print first few elements to inspect\n",
        "print(\"\\nx_encoder_train sample:\\n\", x_encoder_train[:2])\n",
        "print(\"\\nx_decoder_train sample:\\n\", x_decoder_train[:2])\n",
        "print(\"\\ny_train sample:\\n\", y_train[:2])\n",
        "print(\"\\ny_val sample:\", y_val[:2])"
      ],
      "metadata": {
        "colab": {
          "base_uri": "https://localhost:8080/"
        },
        "id": "0bwsz93njcRX",
        "outputId": "5977291d-c5ef-42a9-bebd-d6c26c20db0a"
      },
      "execution_count": 171,
      "outputs": [
        {
          "output_type": "stream",
          "name": "stdout",
          "text": [
            "x_encoder_train shape: (1, 537)\n",
            "x_decoder_train shape: (1, 537)\n",
            "y_train shape: (1, 537)\n",
            "x_encoder_val: (1, 537)\n",
            "x_decoder_val: (1, 537)\n",
            "y_val shape: (1, 537)\n",
            "\n",
            "x_encoder_train sample:\n",
            " [[62 62 63 63 64 64 65 65 66 66 67 67 68 68 69 69 70 70 71 71 72 72 73 73\n",
            "  74 74 75 75 76 76 77 77 78 78 79 79 1448 1449 1450 1451 1452 1453 1454\n",
            "  1455 1456 1457 80 80 1458 1459 1460 1461 1462 1463 40 81 1464 40 1465 5\n",
            "  5 1466 1467 1468 1469 1470 41 82 14 1471 1472 14 1473 41 14 1474 1475 5\n",
            "  83 83 84 84 85 85 86 86 87 87 88 88 89 89 90 90 91 91 92 92 93 93 94 94\n",
            "  95 95 96 96 97 97 98 98 99 99 100 100 1476 1477 1478 1479 1480 1481\n",
            "  1482 1483 1484 1485 1486 1487 101 101 102 102 103 103 104 104 105 105\n",
            "  106 106 107 107 1488 108 108 109 109 110 110 111 111 112 112 113 113\n",
            "  114 114 115 115 116 116 117 117 118 118 119 119 120 120 121 121 122 122\n",
            "  123 123 124 124 125 125 126 126 127 127 128 128 129 129 130 130 1489\n",
            "  131 131 132 132 133 133 134 134 135 135 136 136 137 137 138 138 139 139\n",
            "  140 140 141 141 142 142 143 143 1490 1491 1492 1493 1494 1495 1496 1497\n",
            "  1498 1499 1500 1501 1502 1503 1504 5 144 144 145 145 15 15 1505 146 146\n",
            "  147 147 148 148 149 149 1506 150 150 15 15 151 151 152 152 153 153 154\n",
            "  154 155 155 156 156 157 157 158 158 159 159 160 160 161 161 162 162 163\n",
            "  163 164 164 165 165 166 166 167 167 168 168 169 169 170 170 171 171 172\n",
            "  172 173 173 174 174 175 175 1507 176 176 177 177 178 178 179 179 180\n",
            "  180 181 181 182 182 183 183 184 184 185 185 186 186 187 187 188 188 189\n",
            "  189 190 190 191 191 192 192 193 193 194 194 195 195 196 196 1508 197\n",
            "  197 198 198 199 199 200 200 201 201 202 202 203 203 204 204 205 205 206\n",
            "  206 207 207 1509 208 208 209 209 210 210 211 211 212 212 213 213 214\n",
            "  214 215 215 216 216 217 217 218 218 219 219 220 220 221 221 222 222 223\n",
            "  223 1510 224 224 225 225 226 226 227 227 228 228 229 229 230 230 231\n",
            "  231 1511 232 232 1512 233 233 234 234 235 235 236 236 237 237 238 238\n",
            "  239 239 240 240 241 242 241 243 243 1513 244 244 245 245 246 246 247\n",
            "  247 248 248 249 249 250 250 251 251 252 252 1514 1515 1516 1517 1518\n",
            "  1519 1520 1521 253 253 254 254 255 255 256 256 257 257 258 258 259 259\n",
            "  260 260 261 261 262 262 263 263 264 264 265 265 266 266 267 267 268 268\n",
            "  269 269 270 270 271 271 272 272 273 273 274 274 275 275 276 276 277 277\n",
            "  278 278 279 279 280 280 281 281 282 282 283 283 284 284 285 285 286 286\n",
            "  287]]\n",
            "\n",
            "x_decoder_train sample:\n",
            " [[1 1 1 1 2 2 12 12 3 3 1235 1235 1236 1236 3 3 1 1 2 2 1 1 1 1 2429 2430\n",
            "  26 26 1237 1237 1 1 2431 2432 2433 2434 1 1 1 2435 3 7 2436 1 1 1238\n",
            "  1238 2437 3 3 1 1 1 1 1 1 1 1 1 2438 2439 1239 2440 3 2 1 1 1 1 1239\n",
            "  2441 1 2442 1 1 2443 2444 2445 1 1 2 2 1 1 1240 1240 1241 1241 1242\n",
            "  1242 2446 2447 2448 2449 2450 2451 1 1 1 1 1 1 3 1243 1244 1244 1245\n",
            "  1245 1 1 2 1 2 2 2452 2453 2454 1 1 2455 1 1 1 1 1 2456 2 1 1 1 1 1\n",
            "  1246 1246 3 4 1247 1247 2457 2458 2459 1248 1248 2 1 1 1 1 1 1249 1250\n",
            "  2460 2461 1250 2462 2 2 1 1 1251 1251 2 2 1 2 1 1 3 3 1252 1252 1253\n",
            "  1253 2463 2464 2 2 1254 1254 1 1 1 1 2 2 27 27 2465 2466 2467 2468 2469\n",
            "  2470 2471 3 3 1 2472 1 2473 2 2474 2475 2476 2477 2478 1255 1255 2479\n",
            "  2480 2481 28 3 2482 2483 3 2484 1 2485 1 2486 2487 1 1 1 2 1 2 1 2488\n",
            "  2489 1 1 1 2 2 2490 1256 1256 2491 2492 1257 1257 1258 1258 2493 1 2494\n",
            "  2 2 1 1 2495 2496 2497 2498 29 29 2499 2500 2501 2502 2503 2504 1 1 1 1\n",
            "  1 1 29 29 2505 2506 2507 2508 2509 2510 1259 1259 2511 2512 1 1 2 2 1 1\n",
            "  3 3 2513 2514 1260 30 1261 1261 2 2 2515 2516 2 1 1 1 1 31 31 1262 1262\n",
            "  1263 1263 1260 8 1 1 1264 2517 1 1 1 1 1 1 3 2518 7 2519 2520 2521 3\n",
            "  1265 2522 2523 2524 2525 1 1 2 2526 1 1 2527 2528 2529 12 12 6 6 1266\n",
            "  1266 2530 2531 1 1 1 1 1 1 3 2532 2533 2534 2535 2536 1 1 2537 2 2538 2\n",
            "  2 1 1 2 2 1267 1267 7 7 3 3 2539 2540 2541 2542 1 1 1 1 2 2 1 1 7 7\n",
            "  2543 2544 1268 1268 2545 1269 1269 1270 1270 1 1 1 1 1 1 2546 2547 2548\n",
            "  2549 2550 2551 2 1 1 2552 1 1 2553 2554 1 1 1 2 1 1 2555 2556 2557 2558\n",
            "  2559 2560 2 242 1 1 2 1 1 1 1 1 1 1 1271 1271 3 1243 1272 1272 2 2 1 1\n",
            "  2 2 2561 2562 1 1 1 1 2 2563 1 1 1 1 2 2 3 3 3 3 2564 2565 28 28 1273\n",
            "  1273 1274 1274 2 2 1 1 1 1 1275 1275 2566 2567 2568 2569 1276 1276 2570\n",
            "  2571 1 1 1 2572 1 2573 2574 2575 2576 2577 2578 2579 2580 2581 2582\n",
            "  2583 1 2584 1 1 1 1 1 1 1277 1277 1278 1278 1279 1279 2585 2586 1280\n",
            "  1280 1281]]\n",
            "\n",
            "y_train sample:\n",
            " [[1 1 1 2 2 12 12 3 3 1235 1235 1236 1236 3 3 1 1 2 2 1 1 1 1 2429 2430\n",
            "  26 26 1237 1237 1 1 2431 2432 2433 2434 1 1 1 2435 3 7 2436 1 1 1238\n",
            "  1238 2437 3 3 1 1 1 1 1 1 1 1 1 2438 2439 1239 2440 3 2 1 1 1 1 1239\n",
            "  2441 1 2442 1 1 2443 2444 2445 1 1 2 2 1 1 1240 1240 1241 1241 1242\n",
            "  1242 2446 2447 2448 2449 2450 2451 1 1 1 1 1 1 3 1243 1244 1244 1245\n",
            "  1245 1 1 2 1 2 2 2452 2453 2454 1 1 2455 1 1 1 1 1 2456 2 1 1 1 1 1\n",
            "  1246 1246 3 4 1247 1247 2457 2458 2459 1248 1248 2 1 1 1 1 1 1249 1250\n",
            "  2460 2461 1250 2462 2 2 1 1 1251 1251 2 2 1 2 1 1 3 3 1252 1252 1253\n",
            "  1253 2463 2464 2 2 1254 1254 1 1 1 1 2 2 27 27 2465 2466 2467 2468 2469\n",
            "  2470 2471 3 3 1 2472 1 2473 2 2474 2475 2476 2477 2478 1255 1255 2479\n",
            "  2480 2481 28 3 2482 2483 3 2484 1 2485 1 2486 2487 1 1 1 2 1 2 1 2488\n",
            "  2489 1 1 1 2 2 2490 1256 1256 2491 2492 1257 1257 1258 1258 2493 1 2494\n",
            "  2 2 1 1 2495 2496 2497 2498 29 29 2499 2500 2501 2502 2503 2504 1 1 1 1\n",
            "  1 1 29 29 2505 2506 2507 2508 2509 2510 1259 1259 2511 2512 1 1 2 2 1 1\n",
            "  3 3 2513 2514 1260 30 1261 1261 2 2 2515 2516 2 1 1 1 1 31 31 1262 1262\n",
            "  1263 1263 1260 8 1 1 1264 2517 1 1 1 1 1 1 3 2518 7 2519 2520 2521 3\n",
            "  1265 2522 2523 2524 2525 1 1 2 2526 1 1 2527 2528 2529 12 12 6 6 1266\n",
            "  1266 2530 2531 1 1 1 1 1 1 3 2532 2533 2534 2535 2536 1 1 2537 2 2538 2\n",
            "  2 1 1 2 2 1267 1267 7 7 3 3 2539 2540 2541 2542 1 1 1 1 2 2 1 1 7 7\n",
            "  2543 2544 1268 1268 2545 1269 1269 1270 1270 1 1 1 1 1 1 2546 2547 2548\n",
            "  2549 2550 2551 2 1 1 2552 1 1 2553 2554 1 1 1 2 1 1 2555 2556 2557 2558\n",
            "  2559 2560 2 242 1 1 2 1 1 1 1 1 1 1 1271 1271 3 1243 1272 1272 2 2 1 1\n",
            "  2 2 2561 2562 1 1 1 1 2 2563 1 1 1 1 2 2 3 3 3 3 2564 2565 28 28 1273\n",
            "  1273 1274 1274 2 2 1 1 1 1 1275 1275 2566 2567 2568 2569 1276 1276 2570\n",
            "  2571 1 1 1 2572 1 2573 2574 2575 2576 2577 2578 2579 2580 2581 2582\n",
            "  2583 1 2584 1 1 1 1 1 1 1277 1277 1278 1278 1279 1279 2585 2586 1280\n",
            "  1280 1281 1281]]\n",
            "\n",
            "y_val sample: [[1 1 1 2 2 12 12 3 3 1235 1235 1236 1236 3 3 1 1 2 2 1 1 1 1 2429 2430\n",
            "  26 26 1237 1237 1 1 2431 2432 2433 2434 1 1 1 2435 3 7 2436 1 1 1238\n",
            "  1238 2437 3 3 1 1 1 1 1 1 1 1 1 2438 2439 1239 2440 3 2 1 1 1 1 1239\n",
            "  2441 1 2442 1 1 2443 2444 2445 1 1 2 2 1 1 1240 1240 1241 1241 1242\n",
            "  1242 2446 2447 2448 2449 2450 2451 1 1 1 1 1 1 3 1243 1244 1244 1245\n",
            "  1245 1 1 2 1 2 2 2452 2453 2454 1 1 2455 1 1 1 1 1 2456 2 1 1 1 1 1\n",
            "  1246 1246 3 4 1247 1247 2457 2458 2459 1248 1248 2 1 1 1 1 1 1249 1250\n",
            "  2460 2461 1250 2462 2 2 1 1 1251 1251 2 2 1 2 1 1 3 3 1252 1252 1253\n",
            "  1253 2463 2464 2 2 1254 1254 1 1 1 1 2 2 27 27 2465 2466 2467 2468 2469\n",
            "  2470 2471 3 3 1 2472 1 2473 2 2474 2475 2476 2477 2478 1255 1255 2479\n",
            "  2480 2481 28 3 2482 2483 3 2484 1 2485 1 2486 2487 1 1 1 2 1 2 1 2488\n",
            "  2489 1 1 1 2 2 2490 1256 1256 2491 2492 1257 1257 1258 1258 2493 1 2494\n",
            "  2 2 1 1 2495 2496 2497 2498 29 29 2499 2500 2501 2502 2503 2504 1 1 1 1\n",
            "  1 1 29 29 2505 2506 2507 2508 2509 2510 1259 1259 2511 2512 1 1 2 2 1 1\n",
            "  3 3 2513 2514 1260 30 1261 1261 2 2 2515 2516 2 1 1 1 1 31 31 1262 1262\n",
            "  1263 1263 1260 8 1 1 1264 2517 1 1 1 1 1 1 3 2518 7 2519 2520 2521 3\n",
            "  1265 2522 2523 2524 2525 1 1 2 2526 1 1 2527 2528 2529 12 12 6 6 1266\n",
            "  1266 2530 2531 1 1 1 1 1 1 3 2532 2533 2534 2535 2536 1 1 2537 2 2538 2\n",
            "  2 1 1 2 2 1267 1267 7 7 3 3 2539 2540 2541 2542 1 1 1 1 2 2 1 1 7 7\n",
            "  2543 2544 1268 1268 2545 1269 1269 1270 1270 1 1 1 1 1 1 2546 2547 2548\n",
            "  2549 2550 2551 2 1 1 2552 1 1 2553 2554 1 1 1 2 1 1 2555 2556 2557 2558\n",
            "  2559 2560 2 242 1 1 2 1 1 1 1 1 1 1 1271 1271 3 1243 1272 1272 2 2 1 1\n",
            "  2 2 2561 2562 1 1 1 1 2 2563 1 1 1 1 2 2 3 3 3 3 2564 2565 28 28 1273\n",
            "  1273 1274 1274 2 2 1 1 1 1 1275 1275 2566 2567 2568 2569 1276 1276 2570\n",
            "  2571 1 1 1 2572 1 2573 2574 2575 2576 2577 2578 2579 2580 2581 2582\n",
            "  2583 1 2584 1 1 1 1 1 1 1277 1277 1278 1278 1279 1279 2585 2586 1280\n",
            "  1280 1281 1281]]\n"
          ]
        }
      ]
    },
    {
      "cell_type": "markdown",
      "source": [
        "#(Step 10) : Convert and Reshape the Datasets"
      ],
      "metadata": {
        "id": "Y6dPt5z4xA9x"
      }
    },
    {
      "cell_type": "code",
      "source": [
        "# Converting training and validation sequences to Numpy integer arrays\n",
        "x_encoder_train = np.array(x_encoder_train, dtype=np.int32)\n",
        "x_decoder_train = np.array(x_decoder_train, dtype=np.int32)\n",
        "y_train = np.array(y_train, dtype=np.int32)\n",
        "\n",
        "x_encoder_val = np.array(x_encoder_val, dtype=np.int32)\n",
        "x_decoder_val = np.array(x_decoder_val, dtype=np.int32)\n",
        "y_val = np.array(y_val, dtype=np.int32)\n",
        "\n",
        "# Print the New set of shapes\n",
        "print(\"New x_encoder_train_reshaped shape:\", x_encoder_train.shape)\n",
        "print(\"New x_decoder_train_reshaped shape:\", x_decoder_train.shape)\n",
        "print(\"New y_train reshape shape:\", y_train.shape)\n",
        "print(\"New x_encoder_val reshape:\", x_encoder_val.shape)\n",
        "print(\"New x_decoder_val reshape\", x_decoder_val.shape)\n",
        "print(\"New y_val reshape:\", y_val.shape)\n",
        "print(\"model outpout shape\", model.output_shape)"
      ],
      "metadata": {
        "id": "ZTzYnLWWOjNC",
        "colab": {
          "base_uri": "https://localhost:8080/"
        },
        "outputId": "6e6dc411-b7e0-476b-8159-56a4a00ea6e4"
      },
      "execution_count": 175,
      "outputs": [
        {
          "output_type": "stream",
          "name": "stdout",
          "text": [
            "New x_encoder_train_reshaped shape: (1, 537)\n",
            "New x_decoder_train_reshaped shape: (1, 537)\n",
            "New y_train reshape shape: (1, 537)\n",
            "New x_encoder_val reshape: (1, 537)\n",
            "New x_decoder_val reshape (1, 537)\n",
            "New y_val reshape: (1, 537)\n",
            "model outpout shape (None, 537, 5376)\n"
          ]
        }
      ]
    },
    {
      "cell_type": "code",
      "source": [
        "# Reshapes the training and validation sets\n",
        "batch_size = 64\n",
        "\n",
        "if y_train.shape[0] < batch_size:\n",
        "  y_train = np.tile(y_train, (batch_size // y_train.shape[0] + 1, 1))[:batch_size] # reshape y_train\n",
        "else:\n",
        "  y_train = y_train[:batch_size]\n",
        "\n",
        "if x_encoder_train.shape[0] < batch_size:  # Reshape x_encoder_ train\n",
        "  x_encoder_train = np.tile(x_encoder_train, (batch_size// x_encoder_train.shape[0] +1, 1))[:batch_size]\n",
        "else:\n",
        "  x_encoder_train = x_encoder_train[:batch_size]\n",
        "\n",
        "if x_decoder_train.shape[0] < batch_size:\n",
        "  x_decoder_train = np.tile(x_decoder_train, (batch_size// x_decoder_train.shape[0] + 1, 1))[:batch_size]\n",
        "else:x_decoder_train = x_decoder_train[:batch_size]\n",
        "\n",
        "if x_encoder_val.shape[0] < batch_size:\n",
        "  x_encoder_val = np.tile(x_encoder_val, (batch_size// x_encoder_val.shape[0] + 1, 1))[:batch_size]\n",
        "else:\n",
        "  x_encoder_val = x_encoder_val[:batch_size]\n",
        "\n",
        "if x_decoder_val.ndim == 1:\n",
        "  x_decoder_val = x_decoder_val.reshape(-1, 1) # Convert to 2D before tile\n",
        "\n",
        "if x_decoder_val.shape[1] != 537:\n",
        "  x_decoder_val = np.tile(x_decoder_val, (1, 537)) # Expand to (64, 537)\n",
        "\n",
        "if x_decoder_val.shape[0] < batch_size:\n",
        "  x_decoder_val = np.tile(x_decoder_val, (batch_size // x_decoder_val.shape[0] + 1, 1))[:batch_size]\n",
        "else:\n",
        "  x_decoder_val = x_decoder_val[:batch_size]\n",
        "\n",
        "  # Ensure Final shape\n",
        "x_decoder_val = x_decoder_val.reshape(batch_size, 537)\n",
        "\n",
        "if y_val.shape[0] < batch_size:\n",
        "  y_val = np.tile(y_val, (batch_size // y_val.shape[0] + 1, 1))[:batch_size]\n",
        "else:\n",
        "  y_val = y_val[:batch_size]\n",
        "\n",
        "print(\"new x_encoder_train:\", x_encoder_train.shape)\n",
        "print(\"new x_decoder_train:\", x_decoder_train.shape)\n",
        "print(\"new y_train shape:\", y_train.shape)\n",
        "print(\"new x_encoder_val shape:\", x_encoder_val.shape)\n",
        "print(\"new x_decoder_val shape\", x_decoder_val.shape)\n",
        "print(\"new y_val shape:\", y_val.shape)"
      ],
      "metadata": {
        "colab": {
          "base_uri": "https://localhost:8080/"
        },
        "id": "dJWhZn1hFcHb",
        "outputId": "d530ac04-30ea-4dd6-e500-e7322cd03ac3"
      },
      "execution_count": 177,
      "outputs": [
        {
          "output_type": "stream",
          "name": "stdout",
          "text": [
            "new x_encoder_train: (64, 537)\n",
            "new x_decoder_train: (64, 537)\n",
            "new y_train shape: (64, 537)\n",
            "new x_encoder_val shape: (64, 537)\n",
            "new x_decoder_val shape (64, 537)\n",
            "new y_val shape: (64, 537)\n"
          ]
        }
      ]
    },
    {
      "cell_type": "markdown",
      "source": [
        "#(Step 11): Custom Data Generation for Training the Model"
      ],
      "metadata": {
        "id": "8raPaDnhnXBu"
      }
    },
    {
      "cell_type": "code",
      "source": [],
      "metadata": {
        "id": "ao6g06R_nikG"
      },
      "execution_count": 177,
      "outputs": []
    },
    {
      "cell_type": "code",
      "source": [
        "# Data Generator for memory efficiency\n",
        "early_stopping = EarlyStopping(monitor='val_loss', patience=3, restore_best_weights=True)\n",
        "\n",
        "def data_generator(x_encoder_train, x_decoder_train, y_train,  batch_size):\n",
        "  size = len(x_encoder_train)\n",
        "  while True:\n",
        "    for i in range(0, size, batch_size):\n",
        "      batch_x_encoder = x_encoder_train[i:i + batch_size]\n",
        "      batch_x_decoder = x_decoder_train[i:i + batch_size]\n",
        "      batch_target = y_train[i:i + batch_size]\n",
        "\n",
        "\n",
        "      # Yield the data as numpy arrays\n",
        "      yield(np.array(batch_x_encoder), np.array(batch_x_decoder)), np.array(batch_target)\n",
        "\n",
        "      #yield([batch_x_encoder, batch_x_decoder], batch_target)\n",
        "\n",
        "# Parameteers for training\n",
        "batch_size = 64\n",
        "\n",
        "# Create data generator for training and validation\n",
        "train_gen = data_generator(x_encoder_train, x_decoder_train, y_train, batch_size)\n",
        "val_gen = data_generator(x_encoder_val, x_decoder_val, y_val, batch_size)\n",
        "\n",
        "# Steps per epoch (size of data divide by size of batch)\n",
        "steps_per_epoch = len(x_encoder_train) // batch_size\n",
        "validation_steps = len(x_encoder_val) // batch_size\n",
        "\n",
        "# Training the model using the data generator\n",
        "history = model.fit(\n",
        "    train_gen,\n",
        "    steps_per_epoch = steps_per_epoch,\n",
        "    epochs = 10,\n",
        "    validation_data = val_gen,\n",
        "    validation_steps = validation_steps,\n",
        "    callbacks=[early_stopping]\n",
        ")"
      ],
      "metadata": {
        "colab": {
          "base_uri": "https://localhost:8080/"
        },
        "id": "vtsuexOPxDLY",
        "outputId": "44f1431d-f693-4197-cf4b-2e3b0ed55ff7"
      },
      "execution_count": 178,
      "outputs": [
        {
          "output_type": "stream",
          "name": "stdout",
          "text": [
            "Epoch 1/10\n",
            "\u001b[1m1/1\u001b[0m \u001b[32m━━━━━━━━━━━━━━━━━━━━\u001b[0m\u001b[37m\u001b[0m \u001b[1m30s\u001b[0m 30s/step - accuracy: 0.3296 - loss: 6.3777 - val_accuracy: 0.3296 - val_loss: 5.8787\n",
            "Epoch 2/10\n",
            "\u001b[1m1/1\u001b[0m \u001b[32m━━━━━━━━━━━━━━━━━━━━\u001b[0m\u001b[37m\u001b[0m \u001b[1m26s\u001b[0m 26s/step - accuracy: 0.3296 - loss: 5.8802 - val_accuracy: 0.3296 - val_loss: 5.4275\n",
            "Epoch 3/10\n",
            "\u001b[1m1/1\u001b[0m \u001b[32m━━━━━━━━━━━━━━━━━━━━\u001b[0m\u001b[37m\u001b[0m \u001b[1m41s\u001b[0m 41s/step - accuracy: 0.3296 - loss: 5.4291 - val_accuracy: 0.3296 - val_loss: 5.0567\n",
            "Epoch 4/10\n",
            "\u001b[1m1/1\u001b[0m \u001b[32m━━━━━━━━━━━━━━━━━━━━\u001b[0m\u001b[37m\u001b[0m \u001b[1m41s\u001b[0m 41s/step - accuracy: 0.3296 - loss: 5.0576 - val_accuracy: 0.3296 - val_loss: 4.7740\n",
            "Epoch 5/10\n",
            "\u001b[1m1/1\u001b[0m \u001b[32m━━━━━━━━━━━━━━━━━━━━\u001b[0m\u001b[37m\u001b[0m \u001b[1m27s\u001b[0m 27s/step - accuracy: 0.3296 - loss: 4.7744 - val_accuracy: 0.3296 - val_loss: 4.5614\n",
            "Epoch 6/10\n",
            "\u001b[1m1/1\u001b[0m \u001b[32m━━━━━━━━━━━━━━━━━━━━\u001b[0m\u001b[37m\u001b[0m \u001b[1m27s\u001b[0m 27s/step - accuracy: 0.3296 - loss: 4.5616 - val_accuracy: 0.3296 - val_loss: 4.3968\n",
            "Epoch 7/10\n",
            "\u001b[1m1/1\u001b[0m \u001b[32m━━━━━━━━━━━━━━━━━━━━\u001b[0m\u001b[37m\u001b[0m \u001b[1m41s\u001b[0m 41s/step - accuracy: 0.3296 - loss: 4.3969 - val_accuracy: 0.3296 - val_loss: 4.2657\n",
            "Epoch 8/10\n",
            "\u001b[1m1/1\u001b[0m \u001b[32m━━━━━━━━━━━━━━━━━━━━\u001b[0m\u001b[37m\u001b[0m \u001b[1m41s\u001b[0m 41s/step - accuracy: 0.3296 - loss: 4.2658 - val_accuracy: 0.3296 - val_loss: 4.1612\n",
            "Epoch 9/10\n",
            "\u001b[1m1/1\u001b[0m \u001b[32m━━━━━━━━━━━━━━━━━━━━\u001b[0m\u001b[37m\u001b[0m \u001b[1m26s\u001b[0m 26s/step - accuracy: 0.3296 - loss: 4.1612 - val_accuracy: 0.3296 - val_loss: 4.0800\n",
            "Epoch 10/10\n",
            "\u001b[1m1/1\u001b[0m \u001b[32m━━━━━━━━━━━━━━━━━━━━\u001b[0m\u001b[37m\u001b[0m \u001b[1m26s\u001b[0m 26s/step - accuracy: 0.3296 - loss: 4.0801 - val_accuracy: 0.3296 - val_loss: 4.0206\n"
          ]
        }
      ]
    },
    {
      "cell_type": "markdown",
      "source": [
        "#(Step 12): Evaluation of the Training Performance (Loss Curve)"
      ],
      "metadata": {
        "id": "JNPR8u6MVijL"
      }
    },
    {
      "cell_type": "code",
      "source": [
        "# Convert the training history to Dataframe\n",
        "history_df = pd.DataFrame(history.history)\n",
        "\n",
        "# Plot Training and Validation Loss\n",
        "plt.figure(figsize=(10, 6))\n",
        "plt.plot(history_df.index, history_df['loss'], label='Training Loss', color='blue')\n",
        "plt.plot(history_df.index, history_df['val_loss'], label='Validation Loss', color='red')\n",
        "plt.xlabel('Epochs')\n",
        "plt.ylabel('Loss')\n",
        "plt.title('Model Loss Curve')\n",
        "plt.legend()\n",
        "plt.show()"
      ],
      "metadata": {
        "colab": {
          "base_uri": "https://localhost:8080/",
          "height": 564
        },
        "id": "mso6bd_RWYAa",
        "outputId": "e9b0e6a9-b416-4069-9c93-7e57dddbee38"
      },
      "execution_count": 179,
      "outputs": [
        {
          "output_type": "display_data",
          "data": {
            "text/plain": [
              "<Figure size 1000x600 with 1 Axes>"
            ],
            "image/png": "[encoded data removed]"
          },
          "metadata": {}
        }
      ]
    },
    {
      "cell_type": "markdown",
      "source": [
        "#Model Evaluation"
      ],
      "metadata": {
        "id": "-d9zv-UaWZUZ"
      }
    },
    {
      "cell_type": "code",
      "source": [
        "# Model evaluation on validation data\n",
        "val_loss, val_accuracy = model.evaluate([x_encoder_val, x_decoder_val], y_val, batch_size=batch_size)\n",
        "\n",
        "# Print the evaluation results\n",
        "print(f\"Validation Loss: {val_loss}\")\n",
        "print(f\"Validation Accuracy: {val_accuracy}\")"
      ],
      "metadata": {
        "id": "JxZhQtTX2e29",
        "colab": {
          "base_uri": "https://localhost:8080/"
        },
        "outputId": "15a6c607-03c0-4b04-f50c-8351148feb8f"
      },
      "execution_count": 180,
      "outputs": [
        {
          "output_type": "stream",
          "name": "stdout",
          "text": [
            "\u001b[1m1/1\u001b[0m \u001b[32m━━━━━━━━━━━━━━━━━━━━\u001b[0m\u001b[37m\u001b[0m \u001b[1m7s\u001b[0m 7s/step - accuracy: 0.3296 - loss: 4.0206\n",
            "Validation Loss: 4.020638942718506\n",
            "Validation Accuracy: 0.3296089470386505\n"
          ]
        }
      ]
    },
    {
      "cell_type": "markdown",
      "source": [
        "# Calculate the Mean Squared Error and R Score"
      ],
      "metadata": {
        "id": "QNVo2Ix4dYLl"
      }
    },
    {
      "cell_type": "code",
      "source": [
        "# Compute Metric Reports\n",
        "from sklearn.metrics import mean_squared_error, mean_absolute_error, r2_score\n",
        "\n",
        "# Predict on the validation data\n",
        "y_pred = model.predict([x_encoder_val, x_decoder_val], batch_size=batch_size)\n",
        "\n",
        "# Compute Regression Metrics\n",
        "#mse = mean_squared_error(y_val, y_pred)\n",
        "mae = mean_absolute_error(y_val, y_pred)\n",
        "r2 = r2_score(y_val, y_pred)\n",
        "\n",
        "print(f\"Mean Squared Error: {mse}\")\n",
        "print(f\"Mean Absolute Error: {mae}\")\n",
        "print(f\"R2 Score: {r2}\")\n"
      ],
      "metadata": {
        "colab": {
          "base_uri": "https://localhost:8080/",
          "height": 391
        },
        "id": "QM4NaSu5dlhV",
        "outputId": "c785bc07-04b5-4e3d-d035-d68b1370e54f"
      },
      "execution_count": 87,
      "outputs": [
        {
          "output_type": "stream",
          "name": "stdout",
          "text": [
            "\u001b[1m1/1\u001b[0m \u001b[32m━━━━━━━━━━━━━━━━━━━━\u001b[0m\u001b[37m\u001b[0m \u001b[1m5s\u001b[0m 5s/step\n"
          ]
        },
        {
          "output_type": "error",
          "ename": "ValueError",
          "evalue": "Found array with dim 3. None expected <= 2.",
          "traceback": [
            "\u001b[0;31m---------------------------------------------------------------------------\u001b[0m",
            "\u001b[0;31mValueError\u001b[0m                                Traceback (most recent call last)",
            "\u001b[0;32m<ipython-input-87-225a55bf1a1d>\u001b[0m in \u001b[0;36m<cell line: 0>\u001b[0;34m()\u001b[0m\n\u001b[1;32m      7\u001b[0m \u001b[0;31m# Compute Regression Metrics\u001b[0m\u001b[0;34m\u001b[0m\u001b[0;34m\u001b[0m\u001b[0m\n\u001b[1;32m      8\u001b[0m \u001b[0;31m#mse = mean_squared_error(y_val, y_pred)\u001b[0m\u001b[0;34m\u001b[0m\u001b[0;34m\u001b[0m\u001b[0m\n\u001b[0;32m----> 9\u001b[0;31m \u001b[0mmae\u001b[0m \u001b[0;34m=\u001b[0m \u001b[0mmean_absolute_error\u001b[0m\u001b[0;34m(\u001b[0m\u001b[0my_val\u001b[0m\u001b[0;34m,\u001b[0m \u001b[0my_pred\u001b[0m\u001b[0;34m)\u001b[0m\u001b[0;34m\u001b[0m\u001b[0;34m\u001b[0m\u001b[0m\n\u001b[0m\u001b[1;32m     10\u001b[0m \u001b[0mr2\u001b[0m \u001b[0;34m=\u001b[0m \u001b[0mr2_score\u001b[0m\u001b[0;34m(\u001b[0m\u001b[0my_val\u001b[0m\u001b[0;34m,\u001b[0m \u001b[0my_pred\u001b[0m\u001b[0;34m)\u001b[0m\u001b[0;34m\u001b[0m\u001b[0;34m\u001b[0m\u001b[0m\n\u001b[1;32m     11\u001b[0m \u001b[0;34m\u001b[0m\u001b[0m\n",
            "\u001b[0;32m/usr/local/lib/python3.11/dist-packages/sklearn/utils/_param_validation.py\u001b[0m in \u001b[0;36mwrapper\u001b[0;34m(*args, **kwargs)\u001b[0m\n\u001b[1;32m    214\u001b[0m                     )\n\u001b[1;32m    215\u001b[0m                 ):\n\u001b[0;32m--> 216\u001b[0;31m                     \u001b[0;32mreturn\u001b[0m \u001b[0mfunc\u001b[0m\u001b[0;34m(\u001b[0m\u001b[0;34m*\u001b[0m\u001b[0margs\u001b[0m\u001b[0;34m,\u001b[0m \u001b[0;34m**\u001b[0m\u001b[0mkwargs\u001b[0m\u001b[0;34m)\u001b[0m\u001b[0;34m\u001b[0m\u001b[0;34m\u001b[0m\u001b[0m\n\u001b[0m\u001b[1;32m    217\u001b[0m             \u001b[0;32mexcept\u001b[0m \u001b[0mInvalidParameterError\u001b[0m \u001b[0;32mas\u001b[0m \u001b[0me\u001b[0m\u001b[0;34m:\u001b[0m\u001b[0;34m\u001b[0m\u001b[0;34m\u001b[0m\u001b[0m\n\u001b[1;32m    218\u001b[0m                 \u001b[0;31m# When the function is just a wrapper around an estimator, we allow\u001b[0m\u001b[0;34m\u001b[0m\u001b[0;34m\u001b[0m\u001b[0m\n",
            "\u001b[0;32m/usr/local/lib/python3.11/dist-packages/sklearn/metrics/_regression.py\u001b[0m in \u001b[0;36mmean_absolute_error\u001b[0;34m(y_true, y_pred, sample_weight, multioutput)\u001b[0m\n\u001b[1;32m    275\u001b[0m \u001b[0;34m\u001b[0m\u001b[0m\n\u001b[1;32m    276\u001b[0m     _, y_true, y_pred, sample_weight, multioutput = (\n\u001b[0;32m--> 277\u001b[0;31m         _check_reg_targets_with_floating_dtype(\n\u001b[0m\u001b[1;32m    278\u001b[0m             \u001b[0my_true\u001b[0m\u001b[0;34m,\u001b[0m \u001b[0my_pred\u001b[0m\u001b[0;34m,\u001b[0m \u001b[0msample_weight\u001b[0m\u001b[0;34m,\u001b[0m \u001b[0mmultioutput\u001b[0m\u001b[0;34m,\u001b[0m \u001b[0mxp\u001b[0m\u001b[0;34m=\u001b[0m\u001b[0mxp\u001b[0m\u001b[0;34m\u001b[0m\u001b[0;34m\u001b[0m\u001b[0m\n\u001b[1;32m    279\u001b[0m         )\n",
            "\u001b[0;32m/usr/local/lib/python3.11/dist-packages/sklearn/metrics/_regression.py\u001b[0m in \u001b[0;36m_check_reg_targets_with_floating_dtype\u001b[0;34m(y_true, y_pred, sample_weight, multioutput, xp)\u001b[0m\n\u001b[1;32m    196\u001b[0m     \u001b[0mdtype_name\u001b[0m \u001b[0;34m=\u001b[0m \u001b[0m_find_matching_floating_dtype\u001b[0m\u001b[0;34m(\u001b[0m\u001b[0my_true\u001b[0m\u001b[0;34m,\u001b[0m \u001b[0my_pred\u001b[0m\u001b[0;34m,\u001b[0m \u001b[0msample_weight\u001b[0m\u001b[0;34m,\u001b[0m \u001b[0mxp\u001b[0m\u001b[0;34m=\u001b[0m\u001b[0mxp\u001b[0m\u001b[0;34m)\u001b[0m\u001b[0;34m\u001b[0m\u001b[0;34m\u001b[0m\u001b[0m\n\u001b[1;32m    197\u001b[0m \u001b[0;34m\u001b[0m\u001b[0m\n\u001b[0;32m--> 198\u001b[0;31m     y_type, y_true, y_pred, multioutput = _check_reg_targets(\n\u001b[0m\u001b[1;32m    199\u001b[0m         \u001b[0my_true\u001b[0m\u001b[0;34m,\u001b[0m \u001b[0my_pred\u001b[0m\u001b[0;34m,\u001b[0m \u001b[0mmultioutput\u001b[0m\u001b[0;34m,\u001b[0m \u001b[0mdtype\u001b[0m\u001b[0;34m=\u001b[0m\u001b[0mdtype_name\u001b[0m\u001b[0;34m,\u001b[0m \u001b[0mxp\u001b[0m\u001b[0;34m=\u001b[0m\u001b[0mxp\u001b[0m\u001b[0;34m\u001b[0m\u001b[0;34m\u001b[0m\u001b[0m\n\u001b[1;32m    200\u001b[0m     )\n",
            "\u001b[0;32m/usr/local/lib/python3.11/dist-packages/sklearn/metrics/_regression.py\u001b[0m in \u001b[0;36m_check_reg_targets\u001b[0;34m(y_true, y_pred, multioutput, dtype, xp)\u001b[0m\n\u001b[1;32m    104\u001b[0m     \u001b[0mcheck_consistent_length\u001b[0m\u001b[0;34m(\u001b[0m\u001b[0my_true\u001b[0m\u001b[0;34m,\u001b[0m \u001b[0my_pred\u001b[0m\u001b[0;34m)\u001b[0m\u001b[0;34m\u001b[0m\u001b[0;34m\u001b[0m\u001b[0m\n\u001b[1;32m    105\u001b[0m     \u001b[0my_true\u001b[0m \u001b[0;34m=\u001b[0m \u001b[0mcheck_array\u001b[0m\u001b[0;34m(\u001b[0m\u001b[0my_true\u001b[0m\u001b[0;34m,\u001b[0m \u001b[0mensure_2d\u001b[0m\u001b[0;34m=\u001b[0m\u001b[0;32mFalse\u001b[0m\u001b[0;34m,\u001b[0m \u001b[0mdtype\u001b[0m\u001b[0;34m=\u001b[0m\u001b[0mdtype\u001b[0m\u001b[0;34m)\u001b[0m\u001b[0;34m\u001b[0m\u001b[0;34m\u001b[0m\u001b[0m\n\u001b[0;32m--> 106\u001b[0;31m     \u001b[0my_pred\u001b[0m \u001b[0;34m=\u001b[0m \u001b[0mcheck_array\u001b[0m\u001b[0;34m(\u001b[0m\u001b[0my_pred\u001b[0m\u001b[0;34m,\u001b[0m \u001b[0mensure_2d\u001b[0m\u001b[0;34m=\u001b[0m\u001b[0;32mFalse\u001b[0m\u001b[0;34m,\u001b[0m \u001b[0mdtype\u001b[0m\u001b[0;34m=\u001b[0m\u001b[0mdtype\u001b[0m\u001b[0;34m)\u001b[0m\u001b[0;34m\u001b[0m\u001b[0;34m\u001b[0m\u001b[0m\n\u001b[0m\u001b[1;32m    107\u001b[0m \u001b[0;34m\u001b[0m\u001b[0m\n\u001b[1;32m    108\u001b[0m     \u001b[0;32mif\u001b[0m \u001b[0my_true\u001b[0m\u001b[0;34m.\u001b[0m\u001b[0mndim\u001b[0m \u001b[0;34m==\u001b[0m \u001b[0;36m1\u001b[0m\u001b[0;34m:\u001b[0m\u001b[0;34m\u001b[0m\u001b[0;34m\u001b[0m\u001b[0m\n",
            "\u001b[0;32m/usr/local/lib/python3.11/dist-packages/sklearn/utils/validation.py\u001b[0m in \u001b[0;36mcheck_array\u001b[0;34m(array, accept_sparse, accept_large_sparse, dtype, order, copy, force_writeable, force_all_finite, ensure_all_finite, ensure_non_negative, ensure_2d, allow_nd, ensure_min_samples, ensure_min_features, estimator, input_name)\u001b[0m\n\u001b[1;32m   1099\u001b[0m             )\n\u001b[1;32m   1100\u001b[0m         \u001b[0;32mif\u001b[0m \u001b[0;32mnot\u001b[0m \u001b[0mallow_nd\u001b[0m \u001b[0;32mand\u001b[0m \u001b[0marray\u001b[0m\u001b[0;34m.\u001b[0m\u001b[0mndim\u001b[0m \u001b[0;34m>=\u001b[0m \u001b[0;36m3\u001b[0m\u001b[0;34m:\u001b[0m\u001b[0;34m\u001b[0m\u001b[0;34m\u001b[0m\u001b[0m\n\u001b[0;32m-> 1101\u001b[0;31m             raise ValueError(\n\u001b[0m\u001b[1;32m   1102\u001b[0m                 \u001b[0;34m\"Found array with dim %d. %s expected <= 2.\"\u001b[0m\u001b[0;34m\u001b[0m\u001b[0;34m\u001b[0m\u001b[0m\n\u001b[1;32m   1103\u001b[0m                 \u001b[0;34m%\u001b[0m \u001b[0;34m(\u001b[0m\u001b[0marray\u001b[0m\u001b[0;34m.\u001b[0m\u001b[0mndim\u001b[0m\u001b[0;34m,\u001b[0m \u001b[0mestimator_name\u001b[0m\u001b[0;34m)\u001b[0m\u001b[0;34m\u001b[0m\u001b[0;34m\u001b[0m\u001b[0m\n",
            "\u001b[0;31mValueError\u001b[0m: Found array with dim 3. None expected <= 2."
          ]
        }
      ]
    },
    {
      "cell_type": "markdown",
      "metadata": {
        "id": "HMffWfP_Hmjw"
      },
      "source": [
        "#Training Seq2seq Model"
      ]
    },
    {
      "cell_type": "code",
      "source": [
        "# Apply early stopping callback\n",
        "#early_stopping = EarlyStopping(monitor='val_loss', patience=3, restore_best_weights=True)\n",
        "\n",
        "#Train the model with early stopping\n",
        "#history = model.fit(\n",
        "    #[x_encoder_train, x_decoder_train],\n",
        "   # x_decoder_train,\n",
        "   # batch_size=64,\n",
        "   # epochs=10,\n",
        "    #validation_data=([x_encoder_val, x_decoder_val], x_decoder_train ),\n",
        "   # callbacks=[early_stopping]  # Include early stopping callback\n",
        "#)"
      ],
      "metadata": {
        "id": "mzDR3f7z5nsd"
      },
      "execution_count": 70,
      "outputs": []
    },
    {
      "cell_type": "markdown",
      "source": [
        "#Extract Encoder & Decoder Models for Inference"
      ],
      "metadata": {
        "id": "0Rlk4wQmTEkY"
      }
    },
    {
      "cell_type": "code",
      "source": [
        "# Extract Encoder\n",
        "encoder_inputs = model.input[0]\n",
        "encoder_outputs, state_h, state_c = model.layers[2].output\n",
        "encoder_model = Model(encoder_inputs, [state_h, state_c])\n",
        "\n",
        "# Extract Decoder\n",
        "decoder_inputs = model.input[1]\n",
        "decoder_lstm = model.layers[3]\n",
        "decoder_dense = model.layers[4]\n",
        "\n",
        "decoder_state_input_h = Input(shape=(538,))\n",
        "decoder_state_input_c = Input(shape=(538,))\n",
        "decoder_states_inputs = [decoder_state_input_h, decoder_state_input_c]\n",
        "\n",
        "decoder_outputs, state_h, state_c = decoder_lstm(decoder_inputs, initial_state = decoder_states_inputs )\n",
        "decoder_states = [state_h, state_c]\n",
        "decoder_outputs = decoder_dense(decoder_outputs)\n",
        "\n",
        "decoder_model = Model([decoder_inputs] + decoder_states_inputs, [decoder_outputs] + decoder_states)"
      ],
      "metadata": {
        "id": "ZYFXZGKuTRP4"
      },
      "execution_count": 83,
      "outputs": []
    },
    {
      "cell_type": "markdown",
      "source": [
        "#Visualize the Model Architecture"
      ],
      "metadata": {
        "id": "sLe7CC-JX4uM"
      }
    },
    {
      "cell_type": "code",
      "source": [
        "# Plot the Encoder Model\n",
        "plot_model(encoder_model, to_file='encoder_model.png', show_shapes=True, show_layer_names=True)\n",
        "plt.figure(figsize=(10, 6))\n",
        "img = plt.imread('encoder_model.png')\n",
        "plt.imshow(img)\n",
        "plt.axis('off')\n",
        "plt.show()\n",
        "\n",
        "# Plot the Decoder Model\n",
        "plot_model(decoder_model, to_file = 'decoder_model.png', show_shapes=True, show_layer_names=True)\n",
        "plt.figure(figsize=(10, 6))\n",
        "img = plt.imread('decoder_model.png')\n",
        "plt.imshow(img)\n",
        "plt.axis('off')\n",
        "plt.show()"
      ],
      "metadata": {
        "id": "v_X0CmYyYEVB"
      },
      "execution_count": null,
      "outputs": []
    },
    {
      "cell_type": "markdown",
      "metadata": {
        "id": "VjZJnXTEKg8l"
      },
      "source": [
        "#Evaluation of the Training Performance (Loss Curve)"
      ]
    },
    {
      "cell_type": "code",
      "source": [
        "# Convert the training history to DataFrame\n",
        "history_df = pd.DataFrame(history.history)\n",
        "\n",
        "# Plot Training & Validation Loss\n",
        "plt.figure(figsize=(10, 6))\n",
        "plt.plot(history_df.index, history_df['loss'], label= 'Training Loss', color='blue')\n",
        "plt.plot(history_df.index, history_df['val_loss'], label= 'Validation Loss', color='red')\n",
        "plt.xlabel('Epochs')\n",
        "plt.ylabel('Loss')\n",
        "plt.title('Model Loss Curve')\n",
        "plt.legend()\n",
        "plt.show()"
      ],
      "metadata": {
        "id": "jegbXNZcbmxW"
      },
      "execution_count": null,
      "outputs": []
    },
    {
      "cell_type": "markdown",
      "source": [
        "#Define the Chabot with Luong Attention Response Function"
      ],
      "metadata": {
        "id": "Sioli9hseGqB"
      }
    },
    {
      "cell_type": "code",
      "source": [
        "# Define the chatbot\n",
        "def generate_response(input_text, encoder_model, decoder_model, tokenizer, max_len=538):\n",
        "  input_seq = tokenizer.texts_to_sequences([input_text])\n",
        "  input_seq = pad_sequences(input_seq, maxlen=max_len, padding='post')\n",
        "\n",
        "  # Encode the input sentence\n",
        "  states_value = encoder_model.predict(input_seq)\n",
        "\n",
        "  # Start token for decoding\n",
        "  target_seq = np.zeros((1, 1))\n",
        "  target_seq[0, 0] = tokenizer.word_index['<start>']\n",
        "\n",
        "  stop_condition = False\n",
        "  decoded_sentence = []\n",
        "\n",
        "  while not stop_condition:\n",
        "    output_tokens, h, c = decoder_model.predict([target_seq] + states_value)\n",
        "\n",
        "    sampled_token_index = np.argmax(output_tokens[0, -1, :])\n",
        "    sampled_word = tokenizer.index_word.get(sampled_token_index, '')\n",
        "\n",
        "    if sampled_word == '<end>' or len(decoded_sentence) > max_len:\n",
        "      stop_condition = True\n",
        "    else:\n",
        "      decoded_sentence.append(sampled_word)\n",
        "\n",
        "    target_seq[0, 0] = sampled_token_index\n",
        "    states_value = [h, c]\n",
        "\n",
        "  return ' '.join(decoded_sentence)"
      ],
      "metadata": {
        "id": "nlDchKp9erq6"
      },
      "execution_count": null,
      "outputs": []
    },
    {
      "cell_type": "markdown",
      "source": [
        "#Test the Chatbot with Different User Inputs"
      ],
      "metadata": {
        "id": "WiQYfESpllJw"
      }
    },
    {
      "cell_type": "code",
      "source": [
        "# Perform a test run of the chatbot\n",
        "sample_question = \"Hello, how are you?\"\n",
        "response = generate_response(sample_question, encoder_model, decoder_model, tokenizer)\n",
        "print(f\"User: {sample_question}\")\n",
        "print(f\"Chatbot: {response}\")"
      ],
      "metadata": {
        "id": "zY6z-NYdluWy"
      },
      "execution_count": null,
      "outputs": []
    },
    {
      "cell_type": "markdown",
      "source": [
        "#Evaluate Chatbot Performance Using BLEU Score"
      ],
      "metadata": {
        "id": "GYi552BVnoci"
      }
    },
    {
      "cell_type": "code",
      "source": [
        "# Compare the chatbot's feedback with reference to input questions\n",
        "def evaluate_bleu_score(reference, candidate):\n",
        "  reference = [reference.split()]\n",
        "  candidate = candidate.split()\n",
        "  score = sentence_bleu(reference, candidate)\n",
        "  return score"
      ],
      "metadata": {
        "id": "4Qy732BvoRWu"
      },
      "execution_count": null,
      "outputs": []
    },
    {
      "cell_type": "markdown",
      "source": [
        "#Sample BLEU Score Calculation"
      ],
      "metadata": {
        "id": "K3FrKm5hpPlJ"
      }
    },
    {
      "cell_type": "code",
      "source": [
        "reference_text = \"hello how are you?\"\n",
        "candidate_text = \"hello how are you\"\n",
        "\n",
        "bleu_score = evaluate_bleu_score(reference_text, candidate_text)\n",
        "print(f\"BLEU Score: {bleu_score:.4f}\")"
      ],
      "metadata": {
        "id": "8O6UyI9-pXwM"
      },
      "execution_count": null,
      "outputs": []
    },
    {
      "cell_type": "markdown",
      "source": [
        "#**END** OF **PROJECT**"
      ],
      "metadata": {
        "id": "JrLy6rawrmyy"
      }
    }
  ],
  "metadata": {
    "accelerator": "GPU",
    "colab": {
      "gpuType": "T4",
      "provenance": [],
      "include_colab_link": true
    },
    "kernelspec": {
      "display_name": "Python 3",
      "name": "python3"
    },
    "language_info": {
      "name": "python"
    }
  },
  "nbformat": 4,
  "nbformat_minor": 0
}