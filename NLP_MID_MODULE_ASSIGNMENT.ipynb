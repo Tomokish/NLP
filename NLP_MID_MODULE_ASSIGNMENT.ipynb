{
  "cells": [
    {
      "cell_type": "markdown",
      "metadata": {
        "id": "view-in-github",
        "colab_type": "text"
      },
      "source": [
        "<a href=\"https://colab.research.google.com/github/Tomokish/NLP/blob/main/NLP_MID_MODULE_ASSIGNMENT.ipynb\" target=\"_parent\"><img src=\"https://colab.research.google.com/assets/colab-badge.svg\" alt=\"Open In Colab\"/></a>"
      ]
    },
    {
      "cell_type": "markdown",
      "metadata": {
        "id": "Ddv9WhjYK5tR"
      },
      "source": [
        "# CSCK507 NLP MID MODULE PRACTICAL ASSESSMENT.\n",
        "# Submitted By: Ayeni Oluwakayode\n",
        "# MSc Artificial Intelligence and Data Science\n",
        "# Date: March 3, 2025"
      ]
    },
    {
      "cell_type": "markdown",
      "metadata": {
        "id": "Sqe0fgrSMFVm"
      },
      "source": [
        "#TASK (1) First Step: Install all the necessary Libraries"
      ]
    },
    {
      "cell_type": "code",
      "execution_count": null,
      "metadata": {
        "id": "LOLXDHetMmbu"
      },
      "outputs": [],
      "source": [
        "# Import all the python libraries."
      ]
    },
    {
      "cell_type": "code",
      "execution_count": null,
      "metadata": {
        "id": "KFa7YzoVMusF"
      },
      "outputs": [],
      "source": [
        "import pandas as pd\n",
        "import numpy as np\n",
        "import matplotlib.pyplot as plt\n",
        "import seaborn as sns\n",
        "from sklearn.linear_model import LogisticRegression\n",
        "from sklearn.svm import SVC\n",
        "from sklearn.model_selection import train_test_split\n",
        "from sklearn.feature_extraction.text import TfidfVectorizer\n",
        "from sklearn.ensemble import RandomForestClassifier\n",
        "from sklearn.naive_bayes import MultinomialNB\n",
        "from sklearn.neighbors import KNeighborsClassifier\n",
        "from sklearn.multioutput import MultiOutputClassifier\n",
        "from wordcloud import WordCloud\n",
        "from gensim.models import KeyedVectors\n",
        "import spacy\n",
        "import nltk\n",
        "import re\n",
        "import time\n",
        "from sklearn.pipeline import Pipeline\n",
        "from sklearn.compose import ColumnTransformer\n",
        "from sklearn.preprocessing import StandardScaler\n",
        "from sklearn.preprocessing import FunctionTransformer\n",
        "from tensorflow.keras.preprocessing.text import Tokenizer\n",
        "from tensorflow.keras.preprocessing.sequence import pad_sequences\n",
        "from nltk.corpus import stopwords\n",
        "from nltk.tokenize import word_tokenize\n",
        "from collections import Counter\n",
        "from sklearn.metrics import accuracy_score, f1_score, recall_score, precision_score, roc_auc_score"
      ]
    },
    {
      "cell_type": "code",
      "execution_count": null,
      "metadata": {
        "id": "PLf5rHN1Q4bf"
      },
      "outputs": [],
      "source": [
        "# Check the spaCy library version"
      ]
    },
    {
      "cell_type": "code",
      "execution_count": null,
      "metadata": {
        "colab": {
          "base_uri": "https://localhost:8080/"
        },
        "id": "dKzw-u9RQ_pV",
        "outputId": "916706d2-e5ad-4579-a370-e33d20075e6c"
      },
      "outputs": [
        {
          "name": "stdout",
          "output_type": "stream",
          "text": [
            "3.7.5\n"
          ]
        }
      ],
      "source": [
        "import spacy\n",
        "print(spacy.__version__)"
      ]
    },
    {
      "cell_type": "code",
      "execution_count": null,
      "metadata": {
        "id": "RDIHM-2sSZpH"
      },
      "outputs": [],
      "source": [
        "# Download the English Language Model"
      ]
    },
    {
      "cell_type": "code",
      "execution_count": null,
      "metadata": {
        "colab": {
          "base_uri": "https://localhost:8080/"
        },
        "id": "yaFSeOBpSmRM",
        "outputId": "8984774b-a1d3-4363-8e1b-46f9feae7bdc"
      },
      "outputs": [
        {
          "name": "stdout",
          "output_type": "stream",
          "text": [
            "Welcome\n"
          ]
        }
      ],
      "source": [
        "nlp = spacy.load(\"en_core_web_sm\")\n",
        "print(nlp(\"Welcome\"))"
      ]
    },
    {
      "cell_type": "code",
      "execution_count": null,
      "metadata": {
        "id": "TXL8eL3F-NyP"
      },
      "outputs": [],
      "source": [
        "# Download NLTK Data"
      ]
    },
    {
      "cell_type": "code",
      "execution_count": null,
      "metadata": {
        "colab": {
          "base_uri": "https://localhost:8080/"
        },
        "id": "zdNAjEqK_toZ",
        "outputId": "975f7e3c-d5d3-413b-cc07-825d5cce2224"
      },
      "outputs": [
        {
          "name": "stderr",
          "output_type": "stream",
          "text": [
            "[nltk_data] Downloading package punkt_tab to /root/nltk_data...\n",
            "[nltk_data]   Unzipping tokenizers/punkt_tab.zip.\n",
            "[nltk_data] Downloading package stopwords to /root/nltk_data...\n",
            "[nltk_data]   Unzipping corpora/stopwords.zip.\n"
          ]
        },
        {
          "data": {
            "text/plain": [
              "True"
            ]
          },
          "execution_count": 8,
          "metadata": {},
          "output_type": "execute_result"
        }
      ],
      "source": [
        "nltk.download ('punkt_tab') # one challenge encountered\n",
        "nltk.download ('stopwords')"
      ]
    },
    {
      "cell_type": "markdown",
      "metadata": {
        "id": "QwhuYC-zR10V"
      },
      "source": [
        "#TASK (2): Perform Data Analysis"
      ]
    },
    {
      "cell_type": "code",
      "execution_count": null,
      "metadata": {
        "id": "poNtjC7zB85E"
      },
      "outputs": [],
      "source": [
        "# Next is to Load the Dataset"
      ]
    },
    {
      "cell_type": "code",
      "execution_count": null,
      "metadata": {
        "id": "YLBgwrQoCEec"
      },
      "outputs": [],
      "source": [
        "df = pd.read_csv(\"train.csv\")"
      ]
    },
    {
      "cell_type": "code",
      "execution_count": null,
      "metadata": {
        "id": "t89c0X-cCogT"
      },
      "outputs": [],
      "source": [
        "# Display the information of the dataset and read first 5 lines"
      ]
    },
    {
      "cell_type": "code",
      "execution_count": null,
      "metadata": {
        "colab": {
          "base_uri": "https://localhost:8080/"
        },
        "id": "QC1s1jxqCx-W",
        "outputId": "71f73bb4-efbc-4d87-e9bb-0acc6f83a919"
      },
      "outputs": [
        {
          "name": "stdout",
          "output_type": "stream",
          "text": [
            "<class 'pandas.core.frame.DataFrame'>\n",
            "RangeIndex: 159571 entries, 0 to 159570\n",
            "Data columns (total 8 columns):\n",
            " #   Column         Non-Null Count   Dtype \n",
            "---  ------         --------------   ----- \n",
            " 0   id             159571 non-null  object\n",
            " 1   comment_text   159571 non-null  object\n",
            " 2   toxic          159571 non-null  int64 \n",
            " 3   severe_toxic   159571 non-null  int64 \n",
            " 4   obscene        159571 non-null  int64 \n",
            " 5   threat         159571 non-null  int64 \n",
            " 6   insult         159571 non-null  int64 \n",
            " 7   identity_hate  159571 non-null  int64 \n",
            "dtypes: int64(6), object(2)\n",
            "memory usage: 9.7+ MB\n",
            "None\n",
            "                 id                                       comment_text  toxic  \\\n",
            "0  0000997932d777bf  Explanation\\nWhy the edits made under my usern...      0   \n",
            "1  000103f0d9cfb60f  D'aww! He matches this background colour I'm s...      0   \n",
            "2  000113f07ec002fd  Hey man, I'm really not trying to edit war. It...      0   \n",
            "3  0001b41b1c6bb37e  \"\\nMore\\nI can't make any real suggestions on ...      0   \n",
            "4  0001d958c54c6e35  You, sir, are my hero. Any chance you remember...      0   \n",
            "\n",
            "   severe_toxic  obscene  threat  insult  identity_hate  \n",
            "0             0        0       0       0              0  \n",
            "1             0        0       0       0              0  \n",
            "2             0        0       0       0              0  \n",
            "3             0        0       0       0              0  \n",
            "4             0        0       0       0              0  \n"
          ]
        }
      ],
      "source": [
        "print(df.info())\n",
        "print(df.head())"
      ]
    },
    {
      "cell_type": "code",
      "execution_count": null,
      "metadata": {
        "id": "8LY9giJdSZkv"
      },
      "outputs": [],
      "source": [
        "# Check for Missing Values"
      ]
    },
    {
      "cell_type": "code",
      "execution_count": null,
      "metadata": {
        "colab": {
          "base_uri": "https://localhost:8080/"
        },
        "id": "ziuhQryySkUN",
        "outputId": "88e51c1a-b573-4cd9-b44f-67ac32350fc8"
      },
      "outputs": [
        {
          "name": "stdout",
          "output_type": "stream",
          "text": [
            "id               0\n",
            "comment_text     0\n",
            "toxic            0\n",
            "severe_toxic     0\n",
            "obscene          0\n",
            "threat           0\n",
            "insult           0\n",
            "identity_hate    0\n",
            "dtype: int64\n"
          ]
        }
      ],
      "source": [
        "print(df.isnull().sum())"
      ]
    },
    {
      "cell_type": "markdown",
      "metadata": {
        "id": "fBtE3fG1S0tc"
      },
      "source": [
        "Good output result. It shows no missing values in the datasets."
      ]
    },
    {
      "cell_type": "code",
      "execution_count": null,
      "metadata": {
        "id": "7OVpPeQYTETu"
      },
      "outputs": [],
      "source": [
        "# Check and Analyse the Class Distribution"
      ]
    },
    {
      "cell_type": "code",
      "execution_count": null,
      "metadata": {
        "colab": {
          "base_uri": "https://localhost:8080/"
        },
        "id": "tvGrnoYuTSKb",
        "outputId": "8b11ac95-0fcc-4276-9c70-8cf227122a21"
      },
      "outputs": [
        {
          "name": "stdout",
          "output_type": "stream",
          "text": [
            "toxic            15294\n",
            "severe_toxic      1595\n",
            "obscene           8449\n",
            "threat             478\n",
            "insult            7877\n",
            "identity_hate     1405\n",
            "dtype: int64\n"
          ]
        }
      ],
      "source": [
        "class_counts = df.iloc[:, 2:].sum()\n",
        "print(class_counts)"
      ]
    },
    {
      "cell_type": "code",
      "execution_count": null,
      "metadata": {
        "id": "JZT4iDKXVTd7"
      },
      "outputs": [],
      "source": [
        "# Plot the Class Distribution"
      ]
    },
    {
      "cell_type": "code",
      "execution_count": null,
      "metadata": {
        "colab": {
          "base_uri": "https://localhost:8080/",
          "height": 564
        },
        "id": "SiqqeF_VVYWo",
        "outputId": "3d685dd7-d3aa-4997-a206-41c96da7a582"
      },
      "outputs": [
        {
          "data": {
            "image/png": "[encoded data removed]",
            "text/plain": [
              "<Figure size 1000x600 with 1 Axes>"
            ]
          },
          "metadata": {},
          "output_type": "display_data"
        }
      ],
      "source": [
        "plt.figure(figsize=(10, 6))\n",
        "sns.barplot(x=class_counts.index, y=class_counts.values)\n",
        "plt.title('Class Distribution')\n",
        "plt.xlabel('Toxicity Type')\n",
        "plt.ylabel('Number of Comments')\n",
        "plt.show()"
      ]
    },
    {
      "cell_type": "markdown",
      "metadata": {
        "id": "KyhXoo1uX-2m"
      },
      "source": [
        "\n",
        "#TASK (3): Text Preprocessing Stages"
      ]
    },
    {
      "cell_type": "code",
      "execution_count": null,
      "metadata": {
        "id": "21Y1aR7WyQYO"
      },
      "outputs": [],
      "source": [
        "# Preprocess the text"
      ]
    },
    {
      "cell_type": "code",
      "execution_count": null,
      "metadata": {
        "id": "MkaeWtqnzQtJ"
      },
      "outputs": [],
      "source": [
        "def preprocess_text(text): # text preprocess function\n",
        "  text=text.lower() # Convert text into lower cases\n",
        "  text = re.sub(r'http\\S+|www\\S+|https\\S+','',text, flags=re.MULTILINE) # Remove urls\n",
        "  text = re.sub(r'<.*?','',text) # Remove HTML tags\n",
        "  text = re.sub(r'[a-z\\s]', '',text) # Remove punctuations and numbers"
      ]
    },
    {
      "cell_type": "code",
      "execution_count": null,
      "metadata": {
        "id": "YyA8pKQ2Yfg9"
      },
      "outputs": [],
      "source": [
        "# Tokenisation - We begins by analysing the number of tokens per class"
      ]
    },
    {
      "cell_type": "code",
      "execution_count": null,
      "metadata": {
        "id": "52xU237JY5XW"
      },
      "outputs": [],
      "source": [
        "def count_tokens(text):\n",
        "  tokens=word_tokenize(text)\n",
        "  return len(tokens)"
      ]
    },
    {
      "cell_type": "code",
      "execution_count": null,
      "metadata": {
        "id": "KLTeFPJlZxle"
      },
      "outputs": [],
      "source": [
        "df['token_count'] = df['comment_text'].apply(count_tokens)"
      ]
    },
    {
      "cell_type": "code",
      "execution_count": null,
      "metadata": {
        "id": "3tJEclrMd0S9"
      },
      "outputs": [],
      "source": [
        "# Plot the Distribution of the Tokens Count"
      ]
    },
    {
      "cell_type": "code",
      "execution_count": null,
      "metadata": {
        "colab": {
          "base_uri": "https://localhost:8080/",
          "height": 564
        },
        "id": "mbhhCXLdd7UB",
        "outputId": "7aadb52b-40af-408c-8d73-b51137a415e3"
      },
      "outputs": [
        {
          "data": {
            "image/png": "[encoded data removed]",
            "text/plain": [
              "<Figure size 1000x600 with 1 Axes>"
            ]
          },
          "metadata": {},
          "output_type": "display_data"
        }
      ],
      "source": [
        "plt.figure(figsize=(10, 6))\n",
        "sns.histplot(df['token_count'], bins=50, kde=True)\n",
        "plt.title('Token Count Distribution')\n",
        "plt.xlabel('Number of Tokens')\n",
        "plt.ylabel('Frequency')\n",
        "plt.show()"
      ]
    },
    {
      "cell_type": "markdown",
      "metadata": {
        "id": "ClCOTrOoEPPW"
      },
      "source": [
        "\n",
        "\n",
        "#EDA: We Analyse the Most Common Words For Each Class"
      ]
    },
    {
      "cell_type": "code",
      "execution_count": null,
      "metadata": {
        "id": "wWAK6J1FgWdH"
      },
      "outputs": [],
      "source": [
        "stop_words = list(stopwords.words('english')) # Another Challenge list instead of set\n",
        "tfidf_vectorizer = TfidfVectorizer(stop_words=stop_words, max_features=10000)"
      ]
    },
    {
      "cell_type": "code",
      "execution_count": null,
      "metadata": {
        "colab": {
          "base_uri": "https://localhost:8080/"
        },
        "id": "Txt-BcUigx6J",
        "outputId": "937e2d5c-0b94-4f4b-f8b4-d5b85839bef6"
      },
      "outputs": [
        {
          "name": "stdout",
          "output_type": "stream",
          "text": [
            "Top words for toxic:\n",
            "[('fuck', 465.74310911074923), ('fucking', 281.9145050378826), ('wikipedia', 234.52616423799776), ('like', 233.1396313706111), ('go', 225.26193214724975), ('get', 214.5677293842827), ('shit', 206.9035444447101), ('page', 201.3587466219367), ('stop', 173.7222705584454), ('bitch', 168.2213586146765), ('suck', 165.68010009803476), ('ass', 159.64120549351728), ('know', 159.47414435176805), ('stupid', 157.32612097559428), ('people', 151.75892874650114), ('talk', 142.8518089030154), ('asshole', 134.4717087210417), ('one', 133.01586966428516), ('gay', 132.81889771423275), ('article', 128.7196381311671)]\n",
            "\n",
            "\n",
            "Top words for severe_toxic:\n",
            "[('fuck', 128.60389605989414), ('fucking', 67.88512383054223), ('bitch', 51.17555739926028), ('go', 47.4337295638837), ('suck', 45.04493069566781), ('shit', 44.17897413721081), ('ass', 37.386111130994266), ('asshole', 35.19725409065157), ('dick', 33.16268774521794), ('cunt', 31.631292851321273), ('faggot', 30.81650054281765), ('get', 26.889403296312455), ('wikipedia', 22.60739280592105), ('cock', 22.17941845451401), ('like', 21.485551379810452), ('stupid', 21.483005308713736), ('gay', 20.772156269055674), ('die', 20.48179118178927), ('page', 20.022409056262262), ('piece', 19.980985429363844)]\n",
            "\n",
            "\n",
            "Top words for obscene:\n",
            "[('fuck', 386.5528950670527), ('fucking', 235.22487039027112), ('shit', 162.88063570858915), ('go', 159.28993893424183), ('bitch', 150.10283714062336), ('suck', 142.6600954502361), ('ass', 132.95542607985337), ('get', 128.20250245429935), ('like', 126.21476018569157), ('wikipedia', 125.39237066257412), ('asshole', 118.8957488934326), ('page', 110.08254692739455), ('dick', 104.63315372241671), ('cunt', 103.95452242360362), ('faggot', 97.02610112454197), ('stupid', 95.71198319850531), ('stop', 89.95990316734292), ('know', 88.27946405598273), ('talk', 75.08786916792646), ('life', 74.17773459911449)]\n",
            "\n",
            "\n",
            "Top words for threat:\n",
            "[('die', 21.835466330707057), ('kill', 21.10447654377536), ('fucking', 15.831605986524721), ('going', 14.856397896522315), ('fuck', 14.655183120607214), ('go', 11.048540448638658), ('ass', 10.81655582012572), ('hope', 9.819415096505239), ('shit', 9.107095057209223), ('get', 8.020770239274004), ('bitch', 7.608122996245483), ('rape', 6.966401156369596), ('hell', 6.768461884848865), ('like', 6.717377193773091), ('know', 6.628443002988789), ('death', 6.406630282213793), ('im', 6.141857641093916), ('wikipedia', 6.059323116989459), ('stop', 5.970757203958451), ('find', 5.722076266902531)]\n",
            "\n",
            "\n",
            "Top words for insult:\n",
            "[('fuck', 322.8234350479518), ('fucking', 202.19413847103402), ('go', 151.44928470276247), ('bitch', 140.6885166706995), ('shit', 132.96584647889685), ('like', 123.7923448053148), ('suck', 122.16953182589972), ('get', 121.53563485643025), ('wikipedia', 119.14351157344441), ('ass', 112.14119276673608), ('asshole', 108.98084040077225), ('stupid', 106.2332652685739), ('faggot', 96.41710842725011), ('page', 96.36520989399999), ('cunt', 93.24912174357868), ('idiot', 90.29467461680046), ('stop', 88.96755039543494), ('dick', 84.5962115050842), ('know', 81.2639648867051), ('life', 76.81598028710995)]\n",
            "\n",
            "\n",
            "Top words for identity_hate:\n",
            "[('gay', 55.62921372922657), ('fuck', 51.835624875021836), ('faggot', 38.96132806811178), ('fucking', 38.57398770592804), ('nigger', 38.01543938266776), ('shit', 27.42565816669012), ('go', 26.54494280950506), ('like', 25.144378143014237), ('bitch', 23.8215430736723), ('ass', 22.08086388690006), ('get', 21.447657218367038), ('jew', 16.678456297670927), ('wikipedia', 16.46231851782116), ('stupid', 15.725079164901086), ('people', 15.60718136560773), ('cunt', 15.00103732864741), ('fag', 14.622168741577301), ('suck', 14.172700783746855), ('page', 13.894470008123779), ('hey', 13.702289822010615)]\n",
            "\n",
            "\n"
          ]
        }
      ],
      "source": [
        "def get_top_n_words(corpus, n=None):\n",
        "  vec =TfidfVectorizer(stop_words=stop_words).fit(corpus)\n",
        "  bag_of_words = vec.transform(corpus)\n",
        "  sum_words = bag_of_words.sum(axis=0)\n",
        "  words_freq = [(word, sum_words[0, idx]) for word, idx in vec.vocabulary_.items()]\n",
        "  words_freq = sorted (words_freq, key = lambda x: x[1], reverse=True)\n",
        "  return words_freq[:n]\n",
        "\n",
        "for label in class_counts.index:\n",
        "  subset = df[df[label] == 1]\n",
        "  top_words = get_top_n_words(subset['comment_text'], 20)\n",
        "  print(f\"Top words for {label}:\")\n",
        "  print(top_words)\n",
        "  print(\"\\n\")"
      ]
    },
    {
      "cell_type": "code",
      "execution_count": null,
      "metadata": {
        "id": "xAfRMaJhN9Hf"
      },
      "outputs": [],
      "source": [
        "# We next Preprocess the Data"
      ]
    },
    {
      "cell_type": "code",
      "execution_count": null,
      "metadata": {
        "id": "OX6cI5gHOYAw"
      },
      "outputs": [],
      "source": [
        "def preprocess_text(text):\n",
        "  tokens = word_tokenize(text.lower()) # tokenize\n",
        "  tokens = [word for word in tokens if word.isalpha() and word not in stop_words]# remove stop words\n",
        "  return ''.join(tokens)"
      ]
    },
    {
      "cell_type": "code",
      "execution_count": null,
      "metadata": {
        "id": "X7aXfDJRQtxq"
      },
      "outputs": [],
      "source": [
        "df['cleaned_comment'] = df['comment_text'].apply(preprocess_text)"
      ]
    },
    {
      "cell_type": "code",
      "execution_count": null,
      "metadata": {
        "id": "d0UCX3il9XVo"
      },
      "outputs": [],
      "source": [
        "# We define the features and target variables"
      ]
    },
    {
      "cell_type": "code",
      "execution_count": null,
      "metadata": {
        "id": "-dh73O439jzN"
      },
      "outputs": [],
      "source": [
        "x = df['comment_text']\n",
        "y = df[['toxic', 'severe_toxic', 'obscene', 'threat', 'insult', 'identity_hate']]"
      ]
    },
    {
      "cell_type": "code",
      "execution_count": null,
      "metadata": {
        "id": "WC8mdFLN-sVM"
      },
      "outputs": [],
      "source": [
        "# We Split the Data into Training and Test Data"
      ]
    },
    {
      "cell_type": "code",
      "execution_count": null,
      "metadata": {
        "id": "1EskLzvi-2Pb"
      },
      "outputs": [],
      "source": [
        "x_train, x_test, y_train, y_test = train_test_split(x, y, test_size=0.2, random_state=42)"
      ]
    },
    {
      "cell_type": "markdown",
      "metadata": {
        "id": "uGb5J2-4SboA"
      },
      "source": [
        "#TASK (4): Following Next is to Perform Features Extraction of the model Using TF-IDF Method"
      ]
    },
    {
      "cell_type": "code",
      "execution_count": null,
      "metadata": {
        "id": "s1eKpoGsUs7y"
      },
      "outputs": [],
      "source": [
        "# Initialize TF-IDF Vectorizer"
      ]
    },
    {
      "cell_type": "code",
      "execution_count": null,
      "metadata": {
        "id": "kMI4-HjvSw_z"
      },
      "outputs": [],
      "source": [
        "tfidf_vectorizer = TfidfVectorizer(max_features=10000, ngram_range= (1, 2))"
      ]
    },
    {
      "cell_type": "code",
      "execution_count": null,
      "metadata": {
        "id": "5F2SyS4NBKJT"
      },
      "outputs": [],
      "source": [
        "# Fit and Transform the Training Data"
      ]
    },
    {
      "cell_type": "code",
      "execution_count": null,
      "metadata": {
        "id": "wLsGWLnQBS3b"
      },
      "outputs": [],
      "source": [
        "x_train_tfidf = tfidf_vectorizer.fit_transform(x_train)"
      ]
    },
    {
      "cell_type": "code",
      "execution_count": null,
      "metadata": {
        "id": "H1s8Fi7wCOQ0"
      },
      "outputs": [],
      "source": [
        "# Fit and Transform the Test Data"
      ]
    },
    {
      "cell_type": "code",
      "execution_count": null,
      "metadata": {
        "id": "S9kbLScaCVxu"
      },
      "outputs": [],
      "source": [
        "x_test_tfidf = tfidf_vectorizer.transform(x_test)"
      ]
    },
    {
      "cell_type": "code",
      "execution_count": null,
      "metadata": {
        "id": "Obg3X76tVacL"
      },
      "outputs": [],
      "source": [
        "# Display the shape of the TF-IDF"
      ]
    },
    {
      "cell_type": "code",
      "execution_count": null,
      "metadata": {
        "colab": {
          "base_uri": "https://localhost:8080/"
        },
        "id": "nnhNBaiDw1pe",
        "outputId": "679775b6-298c-4063-e08c-3337d98fdaa9"
      },
      "outputs": [
        {
          "name": "stdout",
          "output_type": "stream",
          "text": [
            "TF-IDF Training Data Shape: (127656, 10000)\n",
            "TF-IDF Testing Data Shape: (31915, 10000)\n"
          ]
        }
      ],
      "source": [
        "print(f\"TF-IDF Training Data Shape: {x_train_tfidf.shape}\")\n",
        "print(f\"TF-IDF Testing Data Shape: {x_test_tfidf.shape}\")"
      ]
    },
    {
      "cell_type": "markdown",
      "metadata": {
        "id": "gNThghlla_Pl"
      },
      "source": [
        "#TASK (5) Select Three Different Machine Learning Algorithms.\n",
        "# Logistic Regression , Random Forest and  K-Nearest Neighbors"
      ]
    },
    {
      "cell_type": "code",
      "execution_count": null,
      "metadata": {
        "id": "LVS81z6KXoXm"
      },
      "outputs": [],
      "source": [
        "# Next is to initialize and define the model"
      ]
    },
    {
      "cell_type": "code",
      "execution_count": null,
      "metadata": {
        "id": "wKQ1Ka6cOFYB"
      },
      "outputs": [],
      "source": [
        "# Define the three Classifiers"
      ]
    },
    {
      "cell_type": "code",
      "execution_count": null,
      "metadata": {
        "id": "smT5SC7cX0pQ"
      },
      "outputs": [],
      "source": [
        "classifiers = {\n",
        "   'Logistic Regression': LogisticRegression(max_iter=1000, random_state=42),\n",
        "    'Random Forest': RandomForestClassifier(n_estimators=100, random_state=42),\n",
        "    'K-Nearest Neighbors': KNeighborsClassifier(n_neighbors=5) # for 5 numbers of neighbors\n",
        "}"
      ]
    },
    {
      "cell_type": "code",
      "execution_count": null,
      "metadata": {
        "id": "2H9ij-KbZgT1"
      },
      "outputs": [],
      "source": [
        "# We define Functions to Evaluate the Model Performance"
      ]
    },
    {
      "cell_type": "code",
      "execution_count": null,
      "metadata": {
        "id": "q2N1kDYHYp--"
      },
      "outputs": [],
      "source": [
        "# Evaluate the Models"
      ]
    },
    {
      "cell_type": "code",
      "execution_count": null,
      "metadata": {
        "id": "1C2vTE_EfcYK"
      },
      "outputs": [],
      "source": [
        "def evaluate_model(name, model, x_test, y_test):\n",
        "    y_pred = model.predict(x_test)\n",
        "    y_pred_proba = model.predict_proba(x_test)\n",
        "\n",
        "    # Initialize an empty dictionary for storing the metrics\n",
        "    metrics_dict = {}\n",
        "\n",
        "    print(f\"Results for {name}:\")\n",
        "\n",
        "    # Iterate through each column\n",
        "\n",
        "    for i, column in enumerate(y_test.columns):\n",
        "      print (f\"Evaluating category: {column}\")\n",
        "\n",
        "      # Calculate and store metric for each categories\n",
        "      accuracy = accuracy_score(y_test[column], y_pred[:, i])\n",
        "      precision = precision_score(y_test[column], y_pred[:, i])\n",
        "      recall = recall_score(y_test[column], y_pred[:, i])\n",
        "      f1 = f1_score(y_test[column],y_pred[:, i])\n",
        "      auc = roc_auc_score(y_test[column], y_pred[:, i])\n",
        "\n",
        "      metrics_dict[column] = {\n",
        "          'accuracy': accuracy,\n",
        "          'precision': precision,\n",
        "          'recall': recall,\n",
        "          'f1': f1,\n",
        "          'auc': auc\n",
        "      }\n",
        "\n",
        "      # Print the result for each category\n",
        "      print(f\"Accuracy: {accuracy:.4f}\")\n",
        "      print(f\"Precision: {precision:.4f}\")\n",
        "      print(f\"Recall: {recall:.4f}\")\n",
        "      print(f\"F1 Score: {f1:.4f}\")\n",
        "      print(f\"AUC: {auc:.4f}\")\n",
        "      print(\"-\" * 80)\n",
        "\n",
        "    return metrics_dict #return the dictionary for each label"
      ]
    },
    {
      "cell_type": "code",
      "execution_count": null,
      "metadata": {
        "id": "JTNTUMS5aiYr"
      },
      "outputs": [],
      "source": [
        "# Model Training and Evaluation"
      ]
    },
    {
      "cell_type": "code",
      "execution_count": null,
      "metadata": {
        "id": "CmcVnxtaxQjf"
      },
      "outputs": [],
      "source": [
        "# Dictionary to store the result of each model"
      ]
    },
    {
      "cell_type": "code",
      "execution_count": null,
      "metadata": {
        "id": "Nv215FVexWYp"
      },
      "outputs": [],
      "source": [
        "results_tfidf = {}"
      ]
    },
    {
      "cell_type": "code",
      "execution_count": null,
      "metadata": {
        "colab": {
          "background_save": true,
          "base_uri": "https://localhost:8080/"
        },
        "id": "kSCztCx_XNyo",
        "outputId": "987f8d6c-0233-44b6-dd42-06ce858b7672"
      },
      "outputs": [
        {
          "name": "stdout",
          "output_type": "stream",
          "text": [
            "Evaluating Logistic Regression on TF-IDF Features...\n",
            "Results for Logistic Regression:\n",
            "Evaluating category: toxic\n",
            "Accuracy: 0.9567\n",
            "Precision: 0.9082\n",
            "Recall: 0.6090\n",
            "F1 Score: 0.7291\n",
            "AUC: 0.8012\n",
            "--------------------------------------------------------------------------------\n",
            "Evaluating category: severe_toxic\n",
            "Accuracy: 0.9907\n",
            "Precision: 0.5968\n",
            "Recall: 0.2305\n",
            "F1 Score: 0.3326\n",
            "AUC: 0.6145\n",
            "--------------------------------------------------------------------------------\n",
            "Evaluating category: obscene\n",
            "Accuracy: 0.9759\n",
            "Precision: 0.9164\n",
            "Recall: 0.6076\n",
            "F1 Score: 0.7307\n",
            "AUC: 0.8022\n",
            "--------------------------------------------------------------------------------\n",
            "Evaluating category: threat\n",
            "Accuracy: 0.9976\n",
            "Precision: 0.3750\n",
            "Recall: 0.0811\n",
            "F1 Score: 0.1333\n",
            "AUC: 0.5404\n",
            "--------------------------------------------------------------------------------\n",
            "Evaluating category: insult\n",
            "Accuracy: 0.9706\n",
            "Precision: 0.8451\n",
            "Recall: 0.5136\n",
            "F1 Score: 0.6389\n",
            "AUC: 0.7543\n",
            "--------------------------------------------------------------------------------\n",
            "Evaluating category: identity_hate\n",
            "Accuracy: 0.9915\n",
            "Precision: 0.6875\n",
            "Recall: 0.1497\n",
            "F1 Score: 0.2458\n",
            "AUC: 0.5745\n",
            "--------------------------------------------------------------------------------\n",
            "Evaluating Random Forest on TF-IDF Features...\n",
            "Results for Random Forest:\n",
            "Evaluating category: toxic\n",
            "Accuracy: 0.9532\n",
            "Precision: 0.9132\n",
            "Recall: 0.5648\n",
            "F1 Score: 0.6979\n",
            "AUC: 0.7796\n",
            "--------------------------------------------------------------------------------\n",
            "Evaluating category: severe_toxic\n",
            "Accuracy: 0.9899\n",
            "Precision: 0.4912\n",
            "Recall: 0.0872\n",
            "F1 Score: 0.1481\n",
            "AUC: 0.5432\n",
            "--------------------------------------------------------------------------------\n",
            "Evaluating category: obscene\n",
            "Accuracy: 0.9770\n",
            "Precision: 0.8959\n",
            "Recall: 0.6472\n",
            "F1 Score: 0.7515\n",
            "AUC: 0.8215\n",
            "--------------------------------------------------------------------------------\n",
            "Evaluating category: threat\n",
            "Accuracy: 0.9978\n",
            "Precision: 0.7273\n",
            "Recall: 0.1081\n",
            "F1 Score: 0.1882\n",
            "AUC: 0.5540\n",
            "--------------------------------------------------------------------------------\n",
            "Evaluating category: insult\n",
            "Accuracy: 0.9687\n",
            "Precision: 0.8247\n",
            "Recall: 0.4839\n",
            "F1 Score: 0.6099\n",
            "AUC: 0.7392\n",
            "--------------------------------------------------------------------------------\n",
            "Evaluating category: identity_hate\n",
            "Accuracy: 0.9914\n",
            "Precision: 0.7568\n",
            "Recall: 0.0952\n",
            "F1 Score: 0.1692\n",
            "AUC: 0.5475\n",
            "--------------------------------------------------------------------------------\n",
            "Evaluating K-Nearest Neighbors on TF-IDF Features...\n",
            "Results for K-Nearest Neighbors:\n",
            "Evaluating category: toxic\n",
            "Accuracy: 0.9010\n",
            "Precision: 0.4670\n",
            "Recall: 0.2363\n",
            "F1 Score: 0.3138\n",
            "AUC: 0.6039\n",
            "--------------------------------------------------------------------------------\n",
            "Evaluating category: severe_toxic\n",
            "Accuracy: 0.9897\n",
            "Precision: 0.4609\n",
            "Recall: 0.1651\n",
            "F1 Score: 0.2431\n",
            "AUC: 0.5816\n",
            "--------------------------------------------------------------------------------\n",
            "Evaluating category: obscene\n",
            "Accuracy: 0.9510\n",
            "Precision: 0.6087\n",
            "Recall: 0.2449\n",
            "F1 Score: 0.3493\n",
            "AUC: 0.6180\n",
            "--------------------------------------------------------------------------------\n",
            "Evaluating category: threat\n",
            "Accuracy: 0.9978\n",
            "Precision: 0.8000\n",
            "Recall: 0.0541\n",
            "F1 Score: 0.1013\n",
            "AUC: 0.5270\n",
            "--------------------------------------------------------------------------------\n",
            "Evaluating category: insult\n",
            "Accuracy: 0.9543\n",
            "Precision: 0.6498\n",
            "Recall: 0.2069\n",
            "F1 Score: 0.3139\n",
            "AUC: 0.6005\n",
            "--------------------------------------------------------------------------------\n",
            "Evaluating category: identity_hate\n",
            "Accuracy: 0.9908\n",
            "Precision: 0.5000\n",
            "Recall: 0.0306\n",
            "F1 Score: 0.0577\n",
            "AUC: 0.5152\n",
            "--------------------------------------------------------------------------------\n"
          ]
        }
      ],
      "source": [
        "for name, clf in classifiers.items():\n",
        "  multi_target_clf = MultiOutputClassifier(clf, n_jobs=1)\n",
        "  multi_target_clf.fit(x_train_tfidf, y_train)\n",
        "\n",
        "  print(f\"Evaluating {name} on TF-IDF Features...\")\n",
        "\n",
        "  results_tfidf[name] = evaluate_model(name, multi_target_clf, x_test_tfidf, y_test) # Store the Result"
      ]
    },
    {
      "cell_type": "markdown",
      "metadata": {
        "id": "KbU8S5-NsrEU"
      },
      "source": [
        "\n",
        "\n",
        "#TASK (6): To Perform Feature Extraction of the Model Using Word Embedding Method"
      ]
    },
    {
      "cell_type": "code",
      "execution_count": null,
      "metadata": {
        "id": "vog8Qw3uyW-X"
      },
      "outputs": [],
      "source": [
        "# Load Pre-trained Word Embedddings to Enhance the training and performance\n",
        "# Load pre-trained word2vec"
      ]
    },
    {
      "cell_type": "code",
      "execution_count": null,
      "metadata": {
        "colab": {
          "base_uri": "https://localhost:8080/"
        },
        "id": "uq8HIAFS5WHI",
        "outputId": "99e472ba-8fb7-4bae-d7e2-f6dfd6dcddce"
      },
      "outputs": [
        {
          "output_type": "stream",
          "name": "stdout",
          "text": [
            "Mounted at /content/drive\n"
          ]
        }
      ],
      "source": [
        "from google.colab import drive\n",
        "drive.mount('/content/drive')"
      ]
    },
    {
      "cell_type": "code",
      "execution_count": null,
      "metadata": {
        "id": "O66eWSTfzCyw"
      },
      "outputs": [],
      "source": [
        "word2vec_path = \"/content/drive/My Drive/word2vec/GoogleNews-vectors-negative300.bin\"\n",
        "word2vec = KeyedVectors.load_word2vec_format(word2vec_path, binary=True)"
      ]
    },
    {
      "cell_type": "code",
      "execution_count": null,
      "metadata": {
        "id": "JAhgLJ0503SF"
      },
      "outputs": [],
      "source": [
        "# Define a Function to convert comments into Embedding Mean or Average"
      ]
    },
    {
      "cell_type": "code",
      "execution_count": null,
      "metadata": {
        "id": "6t_45r-s1O80"
      },
      "outputs": [],
      "source": [
        "def comment_to_vec(comment, word2vec, vector_size=300):\n",
        "  #words = word_tokenize(comment.lower())\n",
        "  words = comment.split()\n",
        "  word_vectors = [word2vec[word] for word in words if word in word2vec]\n",
        "  if len(word_vectors) == 0:\n",
        "    return np.zeros(vector_size)\n",
        "  return np.mean(word_vectors, axis=0)"
      ]
    },
    {
      "cell_type": "code",
      "execution_count": null,
      "metadata": {
        "id": "kF8G_7wv4Jg9"
      },
      "outputs": [],
      "source": [
        "# Transform Comments into the Embedding Features"
      ]
    },
    {
      "cell_type": "code",
      "execution_count": null,
      "metadata": {
        "id": "uBj98aeT48ZE"
      },
      "outputs": [],
      "source": [
        "x_train_embedded = np.array([comment_to_vec(comment, word2vec) for comment in x_train])\n",
        "x_test_embedded = np.array([comment_to_vec(comment, word2vec) for comment in x_test])"
      ]
    },
    {
      "cell_type": "code",
      "execution_count": null,
      "metadata": {
        "id": "qcrSnloguVos"
      },
      "outputs": [],
      "source": [
        "# Setting Parameters"
      ]
    },
    {
      "cell_type": "code",
      "execution_count": null,
      "metadata": {
        "id": "fxv2eiOnFKYK"
      },
      "outputs": [],
      "source": [
        "MAX_NUM_WORDS = 10000 # For the size of the vocabulary\n",
        "MAX_SEQUENCE_LENGTH = 100 # Max length for input sequences"
      ]
    },
    {
      "cell_type": "code",
      "execution_count": null,
      "metadata": {
        "id": "z1BKLFGTFtPT"
      },
      "outputs": [],
      "source": [
        "# Tokenize the text"
      ]
    },
    {
      "cell_type": "code",
      "execution_count": null,
      "metadata": {
        "id": "dUV2mfNHHJl7"
      },
      "outputs": [],
      "source": [
        "tokenizer = Tokenizer(num_words=MAX_NUM_WORDS)\n",
        "tokenizer.fit_on_texts(x_train)"
      ]
    },
    {
      "cell_type": "code",
      "execution_count": null,
      "metadata": {
        "id": "W_pltvW9H_Zy"
      },
      "outputs": [],
      "source": [
        "# Convert the text to Sequences"
      ]
    },
    {
      "cell_type": "code",
      "execution_count": null,
      "metadata": {
        "id": "1p5jY6N6IE7e"
      },
      "outputs": [],
      "source": [
        "x_train_seq = tokenizer.texts_to_sequences(x_train)\n",
        "x_test_seq = tokenizer.texts_to_sequences(x_test)"
      ]
    },
    {
      "cell_type": "code",
      "execution_count": null,
      "metadata": {
        "id": "HYPO_Kn4IFCU"
      },
      "outputs": [],
      "source": [
        "# Ensure Uniform Input Sizes by Padding the Sequences"
      ]
    },
    {
      "cell_type": "code",
      "execution_count": null,
      "metadata": {
        "id": "BEVNnomUJNe8"
      },
      "outputs": [],
      "source": [
        "x_train_pad = pad_sequences(x_train_seq, maxlen=MAX_SEQUENCE_LENGTH)\n",
        "x_test_pad = pad_sequences(x_test_seq, maxlen=MAX_SEQUENCE_LENGTH )"
      ]
    },
    {
      "cell_type": "code",
      "execution_count": null,
      "metadata": {
        "id": "k3Mpj1TDJNmL"
      },
      "outputs": [],
      "source": [
        "# Define Function to Evaluate the Model Performance"
      ]
    },
    {
      "cell_type": "code",
      "execution_count": null,
      "metadata": {
        "id": "xdywrourK_41"
      },
      "outputs": [],
      "source": [
        "def evaluate_model( model, x_test, y_test):\n",
        "  y_pred = model.predict(x_test)\n",
        "  metrics = {}\n",
        "  for i, label in enumerate(y_test.columns):\n",
        "\n",
        "    accuracy = accuracy_score(y_test.iloc[:, i], y_pred[:, i])\n",
        "    precision = precision_score(y_test.iloc[:, i], y_pred[:, i], zero_division=0)\n",
        "    recall = recall_score(y_test.iloc[:, i], y_pred[:, i], zero_division=0)\n",
        "    f1 = f1_score(y_test.iloc[:, i], y_pred[:, i], zero_division=0)\n",
        "    auc= roc_auc_score(y_test.iloc[:, i], y_pred[:, i])\n",
        "    metrics[label] = {\n",
        "        'accuracy': accuracy,\n",
        "        'precision': precision,\n",
        "        'recall': recall,\n",
        "        'f1_score': f1,\n",
        "        'auc': auc\n",
        "    }\n",
        "  return metrics"
      ]
    },
    {
      "cell_type": "code",
      "execution_count": null,
      "metadata": {
        "id": "OHDamtQ6NtoG"
      },
      "outputs": [],
      "source": [
        "# Next is to Initialize the Classifiers"
      ]
    },
    {
      "cell_type": "code",
      "execution_count": null,
      "metadata": {
        "id": "xqh2EXcbN0W_"
      },
      "outputs": [],
      "source": [
        "classifiers = {\n",
        "    'Logistic Regression': LogisticRegression(max_iter=1000, n_jobs=1),\n",
        "    'Random Forest': RandomForestClassifier(n_estimators=100, n_jobs=1),\n",
        "    'K-Nearest Neighbors': KNeighborsClassifier(n_jobs=1)\n",
        "}"
      ]
    },
    {
      "cell_type": "code",
      "execution_count": null,
      "metadata": {
        "id": "GrC929sqPKwg"
      },
      "outputs": [],
      "source": [
        "# Store the Result"
      ]
    },
    {
      "cell_type": "code",
      "execution_count": null,
      "metadata": {
        "id": "NLa9PmkpPRsS"
      },
      "outputs": [],
      "source": [
        "results_embedded = {} # For Storing Word Embeding Results"
      ]
    },
    {
      "cell_type": "code",
      "execution_count": null,
      "metadata": {
        "id": "HfuXzgitPgtw"
      },
      "outputs": [],
      "source": [
        "# Then Train and Evaluate Each of the Classifiers"
      ]
    },
    {
      "cell_type": "code",
      "execution_count": null,
      "metadata": {
        "colab": {
          "base_uri": "https://localhost:8080/"
        },
        "id": "6s3wfV5jPtf_",
        "outputId": "bffebf2c-f866-42ce-a74c-c99773eac3fd"
      },
      "outputs": [
        {
          "output_type": "stream",
          "name": "stdout",
          "text": [
            "Training Logistic Regression...\n",
            "Training time: 11.84 seconds\n",
            "Evaluating Logistic Regression on Word Embedding Features...\n",
            "Label: toxic\n",
            " Accuracy: 0.9339\n",
            " Precision: 0.7595\n",
            " Recall: 0.4526\n",
            " F1 Score: 0.5672\n",
            " AUC: 0.7187\n",
            "--------------------------------------------------\n",
            "Label: severe_toxic\n",
            " Accuracy: 0.9897\n",
            " Precision: 0.4615\n",
            " Recall: 0.1682\n",
            " F1 Score: 0.2466\n",
            " AUC: 0.5831\n",
            "--------------------------------------------------\n",
            "Label: obscene\n",
            " Accuracy: 0.9613\n",
            " Precision: 0.7545\n",
            " Recall: 0.4157\n",
            " F1 Score: 0.5361\n",
            " AUC: 0.7040\n",
            "--------------------------------------------------\n",
            "Label: threat\n",
            " Accuracy: 0.9976\n",
            " Precision: 0.3571\n",
            " Recall: 0.0676\n",
            " F1 Score: 0.1136\n",
            " AUC: 0.5336\n",
            "--------------------------------------------------\n",
            "Label: insult\n",
            " Accuracy: 0.9585\n",
            " Precision: 0.6850\n",
            " Recall: 0.3315\n",
            " F1 Score: 0.4468\n",
            " AUC: 0.6617\n",
            "--------------------------------------------------\n",
            "Label: identity_hate\n",
            " Accuracy: 0.9904\n",
            " Precision: 0.3818\n",
            " Recall: 0.0714\n",
            " F1 Score: 0.1203\n",
            " AUC: 0.5352\n",
            "--------------------------------------------------\n",
            "Training Random Forest...\n",
            "Training time: 2763.36 seconds\n",
            "Evaluating Random Forest on Word Embedding Features...\n",
            "Label: toxic\n",
            " Accuracy: 0.9315\n",
            " Precision: 0.8507\n",
            " Recall: 0.3449\n",
            " F1 Score: 0.4908\n",
            " AUC: 0.6692\n",
            "--------------------------------------------------\n",
            "Label: severe_toxic\n",
            " Accuracy: 0.9899\n",
            " Precision: 0.4750\n",
            " Recall: 0.0592\n",
            " F1 Score: 0.1053\n",
            " AUC: 0.5293\n",
            "--------------------------------------------------\n",
            "Label: obscene\n",
            " Accuracy: 0.9605\n",
            " Precision: 0.9037\n",
            " Recall: 0.2956\n",
            " F1 Score: 0.4455\n",
            " AUC: 0.6469\n",
            "--------------------------------------------------\n",
            "Label: threat\n",
            " Accuracy: 0.9976\n",
            " Precision: 0.2500\n",
            " Recall: 0.0135\n",
            " F1 Score: 0.0256\n",
            " AUC: 0.5067\n",
            "--------------------------------------------------\n",
            "Label: insult\n",
            " Accuracy: 0.9597\n",
            " Precision: 0.8547\n",
            " Recall: 0.2441\n",
            " F1 Score: 0.3798\n",
            " AUC: 0.6210\n",
            "--------------------------------------------------\n",
            "Label: identity_hate\n",
            " Accuracy: 0.9909\n",
            " Precision: 0.7273\n",
            " Recall: 0.0272\n",
            " F1 Score: 0.0525\n",
            " AUC: 0.5136\n",
            "--------------------------------------------------\n",
            "Training K-Nearest Neighbors...\n",
            "Training time: 0.28 seconds\n",
            "Evaluating K-Nearest Neighbors on Word Embedding Features...\n",
            "Label: toxic\n",
            " Accuracy: 0.9287\n",
            " Precision: 0.6632\n",
            " Recall: 0.5180\n",
            " F1 Score: 0.5817\n",
            " AUC: 0.7451\n",
            "--------------------------------------------------\n",
            "Label: severe_toxic\n",
            " Accuracy: 0.9882\n",
            " Precision: 0.3654\n",
            " Recall: 0.2368\n",
            " F1 Score: 0.2873\n",
            " AUC: 0.6163\n",
            "--------------------------------------------------\n",
            "Label: obscene\n",
            " Accuracy: 0.9571\n",
            " Precision: 0.6279\n",
            " Recall: 0.4968\n",
            " F1 Score: 0.5547\n",
            " AUC: 0.7400\n",
            "--------------------------------------------------\n",
            "Label: threat\n",
            " Accuracy: 0.9978\n",
            " Precision: 0.5600\n",
            " Recall: 0.1892\n",
            " F1 Score: 0.2828\n",
            " AUC: 0.5944\n",
            "--------------------------------------------------\n",
            "Label: insult\n",
            " Accuracy: 0.9567\n",
            " Precision: 0.5892\n",
            " Recall: 0.4727\n",
            " F1 Score: 0.5246\n",
            " AUC: 0.7276\n",
            "--------------------------------------------------\n",
            "Label: identity_hate\n",
            " Accuracy: 0.9904\n",
            " Precision: 0.4476\n",
            " Recall: 0.1599\n",
            " F1 Score: 0.2356\n",
            " AUC: 0.5790\n",
            "--------------------------------------------------\n"
          ]
        }
      ],
      "source": [
        "for name, classifier in classifiers.items():\n",
        "  print(f\"Training {name}...\")\n",
        "  start_time = time.time()\n",
        "  model = MultiOutputClassifier(classifier, n_jobs=1)\n",
        "\n",
        "  #Train the model Using Word Embedding\n",
        "  model.fit(x_train_embedded, y_train)\n",
        "  end_time = time.time()\n",
        "  print(f\"Training time: {end_time - start_time:.2f} seconds\")\n",
        "\n",
        "  print(f\"Evaluating {name} on Word Embedding Features...\")\n",
        "  metrics = evaluate_model(model, x_test_embedded, y_test)\n",
        "  results_embedded[name] = metrics # Store the result\n",
        "\n",
        "  for label, scores in metrics.items():\n",
        "    print(f\"Label: {label}\")\n",
        "    print(f\" Accuracy: {scores['accuracy']:.4f}\")\n",
        "    print(f\" Precision: {scores['precision']:.4f}\")\n",
        "    print(f\" Recall: {scores['recall']:.4f}\")\n",
        "    print(f\" F1 Score: {scores['f1_score']:.4f}\")\n",
        "    print(f\" AUC: {scores['auc']:.4f}\")\n",
        "    print(\"-\" * 50)"
      ]
    },
    {
      "cell_type": "markdown",
      "metadata": {
        "id": "-v0h6OuQfPGb"
      },
      "source": [
        "#TASK (7): We Visualize the Metrics for Comparison"
      ]
    },
    {
      "cell_type": "code",
      "execution_count": null,
      "metadata": {
        "colab": {
          "base_uri": "https://localhost:8080/",
          "height": 807
        },
        "id": "WUb28437fVVY",
        "outputId": "f2109d5c-c85d-430c-c79e-20c956eb6fea"
      },
      "outputs": [
        {
          "output_type": "display_data",
          "data": {
            "text/plain": [
              "<Figure size 1200x800 with 1 Axes>"
            ],
            "image/png": "[encoded data removed]"
          },
          "metadata": {}
        }
      ],
      "source": [
        "metric_name = 'accuracy'\n",
        "plt.figure(figsize=(12, 8))\n",
        "\n",
        "\n",
        "  # For TF-IDF (results_tfidf)\n",
        "accuracy_values_tfidf = [\n",
        "      metric_scores.get(metric_name, None)\n",
        "\n",
        "      for model_name in results_tfidf\n",
        "      for label, metric_scores in results_tfidf[model_name].items()\n",
        "  ]\n",
        "\n",
        "  # For Word Ebbedding (results_embedded)\n",
        "accuracy_values_we = [\n",
        "      metric_scores.get(metric_name, None)\n",
        "\n",
        "      for model_name in results_embedded\n",
        "      for label, metric_scores in results_embedded[model_name].items()\n",
        "  ]\n",
        "\n",
        "\n",
        "if len(accuracy_values_we) == len(accuracy_values_tfidf):\n",
        "     index = np.arange(len(accuracy_values_we))\n",
        "\n",
        "     bar_width = 0.4\n",
        "\n",
        "     plt.bar(index, accuracy_values_we, bar_width, label='Word Embedding', alpha=0.7)\n",
        "     plt.bar(index + bar_width, accuracy_values_tfidf, bar_width, label='TF-IDF', alpha=0.7)\n",
        "\n",
        "\n",
        "     model_names = list(results_embedded.keys())[:len(index)]\n",
        "\n",
        "\n",
        "     plt.title(f\" Accuracy Comparison\")\n",
        "     plt.ylabel('Accuracy')\n",
        "     plt.legend()\n",
        "\n",
        "\n",
        "else:\n",
        "    print(f\"Error: Lengths of accuracy values do not match. Check data alignment. TF-IDF has:{len(accuracy_values_tfidf)}, Word Wmbedding has:{len(accuracy_values_we)}\")\n",
        "\n",
        "plt.tight_layout()\n",
        "plt.show()"
      ]
    },
    {
      "cell_type": "code",
      "execution_count": null,
      "metadata": {
        "colab": {
          "base_uri": "https://localhost:8080/"
        },
        "id": "qg5EyLguwlgy",
        "outputId": "3adb4cd4-5b15-471a-b6b4-18c921cb6fc0"
      },
      "outputs": [
        {
          "output_type": "stream",
          "name": "stdout",
          "text": [
            "key:Logistic Regression, value:{'toxic': {'accuracy': 0.9338555538148207, 'precision': 0.7594728171334432, 'recall': 0.4525523560209424, 'f1_score': 0.5671519376665983, 'auc': 0.7186875574761491}, 'severe_toxic': {'accuracy': 0.9896600344665518, 'precision': 0.46153846153846156, 'recall': 0.16822429906542055, 'f1_score': 0.2465753424657534, 'auc': 0.5831151247811751}, 'obscene': {'accuracy': 0.9613347955506815, 'precision': 0.7544973544973544, 'recall': 0.4157434402332362, 'f1_score': 0.5360902255639097, 'auc': 0.704030660513969}, 'threat': {'accuracy': 0.9975560081466395, 'precision': 0.35714285714285715, 'recall': 0.06756756756756757, 'f1_score': 0.11363636363636363, 'auc': 0.5336424565641613}, 'insult': {'accuracy': 0.958483471721761, 'precision': 0.6850192061459667, 'recall': 0.33147459727385375, 'f1_score': 0.44676409185803756, 'auc': 0.6616780266657049}, 'identity_hate': {'accuracy': 0.9903806987310042, 'precision': 0.38181818181818183, 'recall': 0.07142857142857142, 'f1_score': 0.12034383954154727, 'auc': 0.5351766683081315}}\n",
            "key:Random Forest, value:{'toxic': {'accuracy': 0.9314742284192385, 'precision': 0.8506860371267151, 'recall': 0.3448952879581152, 'f1_score': 0.4908032596041909, 'auc': 0.6692424047122778}, 'severe_toxic': {'accuracy': 0.9898793670687764, 'precision': 0.475, 'recall': 0.059190031152647975, 'f1_score': 0.10526315789473684, 'auc': 0.5292626739924788}, 'obscene': {'accuracy': 0.9604574651417829, 'precision': 0.9037433155080213, 'recall': 0.2956268221574344, 'f1_score': 0.44551845342706503, 'auc': 0.6469193713436179}, 'threat': {'accuracy': 0.997618674604418, 'precision': 0.25, 'recall': 0.013513513513513514, 'f1_score': 0.02564102564102564, 'auc': 0.5067096476835493}, 'insult': {'accuracy': 0.959674134419552, 'precision': 0.8546637744034707, 'recall': 0.24411400247831475, 'f1_score': 0.3797590361445783, 'auc': 0.6209514271656945}, 'identity_hate': {'accuracy': 0.9909446968510105, 'precision': 0.7272727272727273, 'recall': 0.027210884353741496, 'f1_score': 0.05245901639344262, 'auc': 0.513558005346916}}\n",
            "key:K-Nearest Neighbors, value:{'toxic': {'accuracy': 0.9286542378192073, 'precision': 0.6631755341432761, 'recall': 0.5179973821989529, 'f1_score': 0.5816645232408598, 'auc': 0.7450688945022277}, 'severe_toxic': {'accuracy': 0.9881873727087577, 'precision': 0.36538461538461536, 'recall': 0.2367601246105919, 'f1_score': 0.28733459357277885, 'auc': 0.6162910580639843}, 'obscene': {'accuracy': 0.9571361428795238, 'precision': 0.627855563743552, 'recall': 0.4967930029154519, 'f1_score': 0.5546875, 'auc': 0.740035574305408}, 'threat': {'accuracy': 0.9977753407488642, 'precision': 0.56, 'recall': 0.1891891891891892, 'f1_score': 0.2828282828282828, 'auc': 0.5944218613261671}, 'insult': {'accuracy': 0.9566661444461851, 'precision': 0.5891891891891892, 'recall': 0.47273853779429986, 'f1_score': 0.5245788930904091, 'auc': 0.7275906807317427}, 'identity_hate': {'accuracy': 0.9904433651887827, 'precision': 0.44761904761904764, 'recall': 0.1598639455782313, 'f1_score': 0.23558897243107768, 'auc': 0.5790148607433233}}\n"
          ]
        }
      ],
      "source": [
        "for key, value in results_embedded.items():\n",
        "  print(f\"key:{key}, value:{value}\")"
      ]
    },
    {
      "cell_type": "markdown",
      "source": [
        "#Visualise the Accuracy, F1 Score and AUC"
      ],
      "metadata": {
        "id": "kBIchou3QvoH"
      }
    },
    {
      "cell_type": "code",
      "source": [
        "# Define the Metric to Plot"
      ],
      "metadata": {
        "id": "AXdY5BvWRXW5"
      },
      "execution_count": null,
      "outputs": []
    },
    {
      "cell_type": "code",
      "source": [
        "metrics_to_plot = ['accuracy', 'f1_score', 'auc']\n",
        "\n",
        "#Get the list of Model Nmaes to Plot\n",
        "model_names = list(results_embedded.keys())\n",
        "\n",
        "for metric_name in metrics_to_plot:\n",
        "  plt.figure(figsize=(10, 6))\n",
        "\n",
        "  #Extract Values for Each Model to Plot Using TF-IDF\n",
        "  metric_values_tfidf = [\n",
        "      metric_scores.get(metric_name, 0)\n",
        "      for model_name in model_names\n",
        "      for label, metric_scores in results_tfidf[model_name].items()\n",
        "  ]\n",
        "\n",
        "  #Extract Values for Each Model to Plot Using Word Embedding\n",
        "  metric_values_we = [\n",
        "      metric_scores.get(metric_name, 0) # Default to 0 if metric is not found\n",
        "      for model_name in model_names\n",
        "      for label, metric_scores in results_embedded[model_name].items()\n",
        "  ]\n",
        "\n",
        "  # Check if Data is Available to Plot\n",
        "  if len(metric_values_we) == len(metric_values_tfidf):\n",
        "    index = np.arange(len(model_names))\n",
        "    bar_width = 0.4\n",
        "\n",
        "    plt.bar(index, metric_values_we[:len(index)], bar_width, label='Word Embedding', alpha=0.7)\n",
        "    plt.bar(index + bar_width, metric_values_tfidf[:len(index)], bar_width, label='TF-IDF', alpha=0.7 )\n",
        "\n",
        "    model_names = list(results_embedded.keys())[:len(index)]\n",
        "\n",
        "    plt.xticks(index + bar_width / 2, model_names, rotation=45)\n",
        "    plt.title(f\"{metric_name.capitalize()} Comparison for Different Models\")\n",
        "    plt.ylabel(metric_name.capitalize())\n",
        "    plt.legend()\n",
        "\n",
        "    plt.tight_layout()\n",
        "    plt.show()\n",
        "\n",
        "  else:\n",
        "    print(f\"Error: Lengths of {metric_name} values do not match. TF-IDF has: {len(metric_values_tfidf)}, Word Embedding has: {len(metric_values_we)}\")"
      ],
      "metadata": {
        "colab": {
          "base_uri": "https://localhost:8080/",
          "height": 1000
        },
        "id": "o17qFLS23d3V",
        "outputId": "f28abf12-b1ba-4482-a585-d2d18b61db25"
      },
      "execution_count": null,
      "outputs": [
        {
          "output_type": "display_data",
          "data": {
            "text/plain": [
              "<Figure size 1000x600 with 1 Axes>"
            ],
            "image/png": "[encoded data removed]"
          },
          "metadata": {}
        },
        {
          "output_type": "display_data",
          "data": {
            "text/plain": [
              "<Figure size 1000x600 with 1 Axes>"
            ],
            "image/png": "[encoded data removed]"
          },
          "metadata": {}
        },
        {
          "output_type": "display_data",
          "data": {
            "text/plain": [
              "<Figure size 1000x600 with 1 Axes>"
            ],
            "image/png": "[encoded data removed]"
          },
          "metadata": {}
        }
      ]
    },
    {
      "cell_type": "markdown",
      "metadata": {
        "id": "SxaTb-pPyFrw"
      },
      "source": [
        "#TASK (8): Prepare Model Ready For Submission to Kaggle Competition"
      ]
    },
    {
      "cell_type": "code",
      "execution_count": null,
      "metadata": {
        "id": "hq_l4-cUMJg2"
      },
      "outputs": [],
      "source": [
        "test_data = pd.read_csv('test.csv')"
      ]
    },
    {
      "cell_type": "code",
      "source": [
        "print(test_data.head())"
      ],
      "metadata": {
        "colab": {
          "base_uri": "https://localhost:8080/"
        },
        "id": "U8puz40L9q5-",
        "outputId": "b4b7780f-fa61-44dd-ad51-64379623d194"
      },
      "execution_count": null,
      "outputs": [
        {
          "output_type": "stream",
          "name": "stdout",
          "text": [
            "                 id                                       comment_text\n",
            "0  00001cee341fdb12  Yo bitch Ja Rule is more succesful then you'll...\n",
            "1  0000247867823ef7  == From RfC == \\n\\n The title is fine as it is...\n",
            "2  00013b17ad220c46  \" \\n\\n == Sources == \\n\\n * Zawe Ashton on Lap...\n",
            "3  00017563c3f7919a  :If you have a look back at the source, the in...\n",
            "4  00017695ad8997eb          I don't anonymously edit articles at all.\n"
          ]
        }
      ]
    },
    {
      "cell_type": "code",
      "source": [
        "# Print Test Data Columns"
      ],
      "metadata": {
        "id": "4kd-3wI8eHvT"
      },
      "execution_count": null,
      "outputs": []
    },
    {
      "cell_type": "code",
      "source": [
        "print(test_data.columns)"
      ],
      "metadata": {
        "colab": {
          "base_uri": "https://localhost:8080/"
        },
        "id": "CbkHVLC2eOrd",
        "outputId": "d165283f-1d89-4325-84d0-b8d77c9f4557"
      },
      "execution_count": null,
      "outputs": [
        {
          "output_type": "stream",
          "name": "stdout",
          "text": [
            "Index(['id', 'comment_text'], dtype='object')\n"
          ]
        }
      ]
    },
    {
      "cell_type": "code",
      "source": [
        "# Apply TF-IDF and Word Embedding to Test Data"
      ],
      "metadata": {
        "id": "LQ29oGhX5Swj"
      },
      "execution_count": null,
      "outputs": []
    },
    {
      "cell_type": "code",
      "source": [
        "x_test_tfidf = tfidf_vectorizer.transform(test_data['comment_text'])\n",
        "print(f\"Length of x_test_tfidf: {x_test_tfidf.shape[0]}\")"
      ],
      "metadata": {
        "colab": {
          "base_uri": "https://localhost:8080/"
        },
        "id": "z1PjZfaFX-I3",
        "outputId": "40c4d2a0-9c34-4ec9-cce9-9d28051f4f52"
      },
      "execution_count": null,
      "outputs": [
        {
          "output_type": "stream",
          "name": "stdout",
          "text": [
            "Length of x_test_tfidf: 153164\n"
          ]
        }
      ]
    },
    {
      "cell_type": "code",
      "source": [
        "# Print Training and Test Data Features"
      ],
      "metadata": {
        "id": "-xXEY-6cpFL1"
      },
      "execution_count": null,
      "outputs": []
    },
    {
      "cell_type": "code",
      "source": [
        "print(f\"Training Data Features: {x_train_tfidf.shape[1]}\")\n",
        "print(f\"Test Data Features: {x_test_tfidf.shape[1]}\")"
      ],
      "metadata": {
        "colab": {
          "base_uri": "https://localhost:8080/"
        },
        "id": "6x6jNG0epLMM",
        "outputId": "2b9a82bc-c7fd-493f-ac8d-9914ffd55582"
      },
      "execution_count": null,
      "outputs": [
        {
          "output_type": "stream",
          "name": "stdout",
          "text": [
            "Training Data Features: 10000\n",
            "Test Data Features: 10000\n"
          ]
        }
      ]
    },
    {
      "cell_type": "code",
      "source": [
        "# Train Your Model"
      ],
      "metadata": {
        "id": "fZe7SwSnqBXV"
      },
      "execution_count": null,
      "outputs": []
    },
    {
      "cell_type": "code",
      "source": [
        "model = KNeighborsClassifier()\n",
        "model.fit(x_train_tfidf, y_train)"
      ],
      "metadata": {
        "colab": {
          "base_uri": "https://localhost:8080/",
          "height": 80
        },
        "id": "c7UIBHo-qPdB",
        "outputId": "615b54fb-b0a1-4c35-c663-18502b684855"
      },
      "execution_count": null,
      "outputs": [
        {
          "output_type": "execute_result",
          "data": {
            "text/plain": [
              "KNeighborsClassifier()"
            ],
            "text/html": [
              "<style>#sk-container-id-4 {\n",
              "  /* Definition of color scheme common for light and dark mode */\n",
              "  --sklearn-color-text: #000;\n",
              "  --sklearn-color-text-muted: #666;\n",
              "  --sklearn-color-line: gray;\n",
              "  /* Definition of color scheme for unfitted estimators */\n",
              "  --sklearn-color-unfitted-level-0: #fff5e6;\n",
              "  --sklearn-color-unfitted-level-1: #f6e4d2;\n",
              "  --sklearn-color-unfitted-level-2: #ffe0b3;\n",
              "  --sklearn-color-unfitted-level-3: chocolate;\n",
              "  /* Definition of color scheme for fitted estimators */\n",
              "  --sklearn-color-fitted-level-0: #f0f8ff;\n",
              "  --sklearn-color-fitted-level-1: #d4ebff;\n",
              "  --sklearn-color-fitted-level-2: #b3dbfd;\n",
              "  --sklearn-color-fitted-level-3: cornflowerblue;\n",
              "\n",
              "  /* Specific color for light theme */\n",
              "  --sklearn-color-text-on-default-background: var(--sg-text-color, var(--theme-code-foreground, var(--jp-content-font-color1, black)));\n",
              "  --sklearn-color-background: var(--sg-background-color, var(--theme-background, var(--jp-layout-color0, white)));\n",
              "  --sklearn-color-border-box: var(--sg-text-color, var(--theme-code-foreground, var(--jp-content-font-color1, black)));\n",
              "  --sklearn-color-icon: #696969;\n",
              "\n",
              "  @media (prefers-color-scheme: dark) {\n",
              "    /* Redefinition of color scheme for dark theme */\n",
              "    --sklearn-color-text-on-default-background: var(--sg-text-color, var(--theme-code-foreground, var(--jp-content-font-color1, white)));\n",
              "    --sklearn-color-background: var(--sg-background-color, var(--theme-background, var(--jp-layout-color0, #111)));\n",
              "    --sklearn-color-border-box: var(--sg-text-color, var(--theme-code-foreground, var(--jp-content-font-color1, white)));\n",
              "    --sklearn-color-icon: #878787;\n",
              "  }\n",
              "}\n",
              "\n",
              "#sk-container-id-4 {\n",
              "  color: var(--sklearn-color-text);\n",
              "}\n",
              "\n",
              "#sk-container-id-4 pre {\n",
              "  padding: 0;\n",
              "}\n",
              "\n",
              "#sk-container-id-4 input.sk-hidden--visually {\n",
              "  border: 0;\n",
              "  clip: rect(1px 1px 1px 1px);\n",
              "  clip: rect(1px, 1px, 1px, 1px);\n",
              "  height: 1px;\n",
              "  margin: -1px;\n",
              "  overflow: hidden;\n",
              "  padding: 0;\n",
              "  position: absolute;\n",
              "  width: 1px;\n",
              "}\n",
              "\n",
              "#sk-container-id-4 div.sk-dashed-wrapped {\n",
              "  border: 1px dashed var(--sklearn-color-line);\n",
              "  margin: 0 0.4em 0.5em 0.4em;\n",
              "  box-sizing: border-box;\n",
              "  padding-bottom: 0.4em;\n",
              "  background-color: var(--sklearn-color-background);\n",
              "}\n",
              "\n",
              "#sk-container-id-4 div.sk-container {\n",
              "  /* jupyter's `normalize.less` sets `[hidden] { display: none; }`\n",
              "     but bootstrap.min.css set `[hidden] { display: none !important; }`\n",
              "     so we also need the `!important` here to be able to override the\n",
              "     default hidden behavior on the sphinx rendered scikit-learn.org.\n",
              "     See: https://github.com/scikit-learn/scikit-learn/issues/21755 */\n",
              "  display: inline-block !important;\n",
              "  position: relative;\n",
              "}\n",
              "\n",
              "#sk-container-id-4 div.sk-text-repr-fallback {\n",
              "  display: none;\n",
              "}\n",
              "\n",
              "div.sk-parallel-item,\n",
              "div.sk-serial,\n",
              "div.sk-item {\n",
              "  /* draw centered vertical line to link estimators */\n",
              "  background-image: linear-gradient(var(--sklearn-color-text-on-default-background), var(--sklearn-color-text-on-default-background));\n",
              "  background-size: 2px 100%;\n",
              "  background-repeat: no-repeat;\n",
              "  background-position: center center;\n",
              "}\n",
              "\n",
              "/* Parallel-specific style estimator block */\n",
              "\n",
              "#sk-container-id-4 div.sk-parallel-item::after {\n",
              "  content: \"\";\n",
              "  width: 100%;\n",
              "  border-bottom: 2px solid var(--sklearn-color-text-on-default-background);\n",
              "  flex-grow: 1;\n",
              "}\n",
              "\n",
              "#sk-container-id-4 div.sk-parallel {\n",
              "  display: flex;\n",
              "  align-items: stretch;\n",
              "  justify-content: center;\n",
              "  background-color: var(--sklearn-color-background);\n",
              "  position: relative;\n",
              "}\n",
              "\n",
              "#sk-container-id-4 div.sk-parallel-item {\n",
              "  display: flex;\n",
              "  flex-direction: column;\n",
              "}\n",
              "\n",
              "#sk-container-id-4 div.sk-parallel-item:first-child::after {\n",
              "  align-self: flex-end;\n",
              "  width: 50%;\n",
              "}\n",
              "\n",
              "#sk-container-id-4 div.sk-parallel-item:last-child::after {\n",
              "  align-self: flex-start;\n",
              "  width: 50%;\n",
              "}\n",
              "\n",
              "#sk-container-id-4 div.sk-parallel-item:only-child::after {\n",
              "  width: 0;\n",
              "}\n",
              "\n",
              "/* Serial-specific style estimator block */\n",
              "\n",
              "#sk-container-id-4 div.sk-serial {\n",
              "  display: flex;\n",
              "  flex-direction: column;\n",
              "  align-items: center;\n",
              "  background-color: var(--sklearn-color-background);\n",
              "  padding-right: 1em;\n",
              "  padding-left: 1em;\n",
              "}\n",
              "\n",
              "\n",
              "/* Toggleable style: style used for estimator/Pipeline/ColumnTransformer box that is\n",
              "clickable and can be expanded/collapsed.\n",
              "- Pipeline and ColumnTransformer use this feature and define the default style\n",
              "- Estimators will overwrite some part of the style using the `sk-estimator` class\n",
              "*/\n",
              "\n",
              "/* Pipeline and ColumnTransformer style (default) */\n",
              "\n",
              "#sk-container-id-4 div.sk-toggleable {\n",
              "  /* Default theme specific background. It is overwritten whether we have a\n",
              "  specific estimator or a Pipeline/ColumnTransformer */\n",
              "  background-color: var(--sklearn-color-background);\n",
              "}\n",
              "\n",
              "/* Toggleable label */\n",
              "#sk-container-id-4 label.sk-toggleable__label {\n",
              "  cursor: pointer;\n",
              "  display: flex;\n",
              "  width: 100%;\n",
              "  margin-bottom: 0;\n",
              "  padding: 0.5em;\n",
              "  box-sizing: border-box;\n",
              "  text-align: center;\n",
              "  align-items: start;\n",
              "  justify-content: space-between;\n",
              "  gap: 0.5em;\n",
              "}\n",
              "\n",
              "#sk-container-id-4 label.sk-toggleable__label .caption {\n",
              "  font-size: 0.6rem;\n",
              "  font-weight: lighter;\n",
              "  color: var(--sklearn-color-text-muted);\n",
              "}\n",
              "\n",
              "#sk-container-id-4 label.sk-toggleable__label-arrow:before {\n",
              "  /* Arrow on the left of the label */\n",
              "  content: \"▸\";\n",
              "  float: left;\n",
              "  margin-right: 0.25em;\n",
              "  color: var(--sklearn-color-icon);\n",
              "}\n",
              "\n",
              "#sk-container-id-4 label.sk-toggleable__label-arrow:hover:before {\n",
              "  color: var(--sklearn-color-text);\n",
              "}\n",
              "\n",
              "/* Toggleable content - dropdown */\n",
              "\n",
              "#sk-container-id-4 div.sk-toggleable__content {\n",
              "  max-height: 0;\n",
              "  max-width: 0;\n",
              "  overflow: hidden;\n",
              "  text-align: left;\n",
              "  /* unfitted */\n",
              "  background-color: var(--sklearn-color-unfitted-level-0);\n",
              "}\n",
              "\n",
              "#sk-container-id-4 div.sk-toggleable__content.fitted {\n",
              "  /* fitted */\n",
              "  background-color: var(--sklearn-color-fitted-level-0);\n",
              "}\n",
              "\n",
              "#sk-container-id-4 div.sk-toggleable__content pre {\n",
              "  margin: 0.2em;\n",
              "  border-radius: 0.25em;\n",
              "  color: var(--sklearn-color-text);\n",
              "  /* unfitted */\n",
              "  background-color: var(--sklearn-color-unfitted-level-0);\n",
              "}\n",
              "\n",
              "#sk-container-id-4 div.sk-toggleable__content.fitted pre {\n",
              "  /* unfitted */\n",
              "  background-color: var(--sklearn-color-fitted-level-0);\n",
              "}\n",
              "\n",
              "#sk-container-id-4 input.sk-toggleable__control:checked~div.sk-toggleable__content {\n",
              "  /* Expand drop-down */\n",
              "  max-height: 200px;\n",
              "  max-width: 100%;\n",
              "  overflow: auto;\n",
              "}\n",
              "\n",
              "#sk-container-id-4 input.sk-toggleable__control:checked~label.sk-toggleable__label-arrow:before {\n",
              "  content: \"▾\";\n",
              "}\n",
              "\n",
              "/* Pipeline/ColumnTransformer-specific style */\n",
              "\n",
              "#sk-container-id-4 div.sk-label input.sk-toggleable__control:checked~label.sk-toggleable__label {\n",
              "  color: var(--sklearn-color-text);\n",
              "  background-color: var(--sklearn-color-unfitted-level-2);\n",
              "}\n",
              "\n",
              "#sk-container-id-4 div.sk-label.fitted input.sk-toggleable__control:checked~label.sk-toggleable__label {\n",
              "  background-color: var(--sklearn-color-fitted-level-2);\n",
              "}\n",
              "\n",
              "/* Estimator-specific style */\n",
              "\n",
              "/* Colorize estimator box */\n",
              "#sk-container-id-4 div.sk-estimator input.sk-toggleable__control:checked~label.sk-toggleable__label {\n",
              "  /* unfitted */\n",
              "  background-color: var(--sklearn-color-unfitted-level-2);\n",
              "}\n",
              "\n",
              "#sk-container-id-4 div.sk-estimator.fitted input.sk-toggleable__control:checked~label.sk-toggleable__label {\n",
              "  /* fitted */\n",
              "  background-color: var(--sklearn-color-fitted-level-2);\n",
              "}\n",
              "\n",
              "#sk-container-id-4 div.sk-label label.sk-toggleable__label,\n",
              "#sk-container-id-4 div.sk-label label {\n",
              "  /* The background is the default theme color */\n",
              "  color: var(--sklearn-color-text-on-default-background);\n",
              "}\n",
              "\n",
              "/* On hover, darken the color of the background */\n",
              "#sk-container-id-4 div.sk-label:hover label.sk-toggleable__label {\n",
              "  color: var(--sklearn-color-text);\n",
              "  background-color: var(--sklearn-color-unfitted-level-2);\n",
              "}\n",
              "\n",
              "/* Label box, darken color on hover, fitted */\n",
              "#sk-container-id-4 div.sk-label.fitted:hover label.sk-toggleable__label.fitted {\n",
              "  color: var(--sklearn-color-text);\n",
              "  background-color: var(--sklearn-color-fitted-level-2);\n",
              "}\n",
              "\n",
              "/* Estimator label */\n",
              "\n",
              "#sk-container-id-4 div.sk-label label {\n",
              "  font-family: monospace;\n",
              "  font-weight: bold;\n",
              "  display: inline-block;\n",
              "  line-height: 1.2em;\n",
              "}\n",
              "\n",
              "#sk-container-id-4 div.sk-label-container {\n",
              "  text-align: center;\n",
              "}\n",
              "\n",
              "/* Estimator-specific */\n",
              "#sk-container-id-4 div.sk-estimator {\n",
              "  font-family: monospace;\n",
              "  border: 1px dotted var(--sklearn-color-border-box);\n",
              "  border-radius: 0.25em;\n",
              "  box-sizing: border-box;\n",
              "  margin-bottom: 0.5em;\n",
              "  /* unfitted */\n",
              "  background-color: var(--sklearn-color-unfitted-level-0);\n",
              "}\n",
              "\n",
              "#sk-container-id-4 div.sk-estimator.fitted {\n",
              "  /* fitted */\n",
              "  background-color: var(--sklearn-color-fitted-level-0);\n",
              "}\n",
              "\n",
              "/* on hover */\n",
              "#sk-container-id-4 div.sk-estimator:hover {\n",
              "  /* unfitted */\n",
              "  background-color: var(--sklearn-color-unfitted-level-2);\n",
              "}\n",
              "\n",
              "#sk-container-id-4 div.sk-estimator.fitted:hover {\n",
              "  /* fitted */\n",
              "  background-color: var(--sklearn-color-fitted-level-2);\n",
              "}\n",
              "\n",
              "/* Specification for estimator info (e.g. \"i\" and \"?\") */\n",
              "\n",
              "/* Common style for \"i\" and \"?\" */\n",
              "\n",
              ".sk-estimator-doc-link,\n",
              "a:link.sk-estimator-doc-link,\n",
              "a:visited.sk-estimator-doc-link {\n",
              "  float: right;\n",
              "  font-size: smaller;\n",
              "  line-height: 1em;\n",
              "  font-family: monospace;\n",
              "  background-color: var(--sklearn-color-background);\n",
              "  border-radius: 1em;\n",
              "  height: 1em;\n",
              "  width: 1em;\n",
              "  text-decoration: none !important;\n",
              "  margin-left: 0.5em;\n",
              "  text-align: center;\n",
              "  /* unfitted */\n",
              "  border: var(--sklearn-color-unfitted-level-1) 1pt solid;\n",
              "  color: var(--sklearn-color-unfitted-level-1);\n",
              "}\n",
              "\n",
              ".sk-estimator-doc-link.fitted,\n",
              "a:link.sk-estimator-doc-link.fitted,\n",
              "a:visited.sk-estimator-doc-link.fitted {\n",
              "  /* fitted */\n",
              "  border: var(--sklearn-color-fitted-level-1) 1pt solid;\n",
              "  color: var(--sklearn-color-fitted-level-1);\n",
              "}\n",
              "\n",
              "/* On hover */\n",
              "div.sk-estimator:hover .sk-estimator-doc-link:hover,\n",
              ".sk-estimator-doc-link:hover,\n",
              "div.sk-label-container:hover .sk-estimator-doc-link:hover,\n",
              ".sk-estimator-doc-link:hover {\n",
              "  /* unfitted */\n",
              "  background-color: var(--sklearn-color-unfitted-level-3);\n",
              "  color: var(--sklearn-color-background);\n",
              "  text-decoration: none;\n",
              "}\n",
              "\n",
              "div.sk-estimator.fitted:hover .sk-estimator-doc-link.fitted:hover,\n",
              ".sk-estimator-doc-link.fitted:hover,\n",
              "div.sk-label-container:hover .sk-estimator-doc-link.fitted:hover,\n",
              ".sk-estimator-doc-link.fitted:hover {\n",
              "  /* fitted */\n",
              "  background-color: var(--sklearn-color-fitted-level-3);\n",
              "  color: var(--sklearn-color-background);\n",
              "  text-decoration: none;\n",
              "}\n",
              "\n",
              "/* Span, style for the box shown on hovering the info icon */\n",
              ".sk-estimator-doc-link span {\n",
              "  display: none;\n",
              "  z-index: 9999;\n",
              "  position: relative;\n",
              "  font-weight: normal;\n",
              "  right: .2ex;\n",
              "  padding: .5ex;\n",
              "  margin: .5ex;\n",
              "  width: min-content;\n",
              "  min-width: 20ex;\n",
              "  max-width: 50ex;\n",
              "  color: var(--sklearn-color-text);\n",
              "  box-shadow: 2pt 2pt 4pt #999;\n",
              "  /* unfitted */\n",
              "  background: var(--sklearn-color-unfitted-level-0);\n",
              "  border: .5pt solid var(--sklearn-color-unfitted-level-3);\n",
              "}\n",
              "\n",
              ".sk-estimator-doc-link.fitted span {\n",
              "  /* fitted */\n",
              "  background: var(--sklearn-color-fitted-level-0);\n",
              "  border: var(--sklearn-color-fitted-level-3);\n",
              "}\n",
              "\n",
              ".sk-estimator-doc-link:hover span {\n",
              "  display: block;\n",
              "}\n",
              "\n",
              "/* \"?\"-specific style due to the `<a>` HTML tag */\n",
              "\n",
              "#sk-container-id-4 a.estimator_doc_link {\n",
              "  float: right;\n",
              "  font-size: 1rem;\n",
              "  line-height: 1em;\n",
              "  font-family: monospace;\n",
              "  background-color: var(--sklearn-color-background);\n",
              "  border-radius: 1rem;\n",
              "  height: 1rem;\n",
              "  width: 1rem;\n",
              "  text-decoration: none;\n",
              "  /* unfitted */\n",
              "  color: var(--sklearn-color-unfitted-level-1);\n",
              "  border: var(--sklearn-color-unfitted-level-1) 1pt solid;\n",
              "}\n",
              "\n",
              "#sk-container-id-4 a.estimator_doc_link.fitted {\n",
              "  /* fitted */\n",
              "  border: var(--sklearn-color-fitted-level-1) 1pt solid;\n",
              "  color: var(--sklearn-color-fitted-level-1);\n",
              "}\n",
              "\n",
              "/* On hover */\n",
              "#sk-container-id-4 a.estimator_doc_link:hover {\n",
              "  /* unfitted */\n",
              "  background-color: var(--sklearn-color-unfitted-level-3);\n",
              "  color: var(--sklearn-color-background);\n",
              "  text-decoration: none;\n",
              "}\n",
              "\n",
              "#sk-container-id-4 a.estimator_doc_link.fitted:hover {\n",
              "  /* fitted */\n",
              "  background-color: var(--sklearn-color-fitted-level-3);\n",
              "}\n",
              "</style><div id=\"sk-container-id-4\" class=\"sk-top-container\"><div class=\"sk-text-repr-fallback\"><pre>KNeighborsClassifier()</pre><b>In a Jupyter environment, please rerun this cell to show the HTML representation or trust the notebook. <br />On GitHub, the HTML representation is unable to render, please try loading this page with nbviewer.org.</b></div><div class=\"sk-container\" hidden><div class=\"sk-item\"><div class=\"sk-estimator fitted sk-toggleable\"><input class=\"sk-toggleable__control sk-hidden--visually\" id=\"sk-estimator-id-4\" type=\"checkbox\" checked><label for=\"sk-estimator-id-4\" class=\"sk-toggleable__label fitted sk-toggleable__label-arrow\"><div><div>KNeighborsClassifier</div></div><div><a class=\"sk-estimator-doc-link fitted\" rel=\"noreferrer\" target=\"_blank\" href=\"https://scikit-learn.org/1.6/modules/generated/sklearn.neighbors.KNeighborsClassifier.html\">?<span>Documentation for KNeighborsClassifier</span></a><span class=\"sk-estimator-doc-link fitted\">i<span>Fitted</span></span></div></label><div class=\"sk-toggleable__content fitted\"><pre>KNeighborsClassifier()</pre></div> </div></div></div></div>"
            ]
          },
          "metadata": {},
          "execution_count": 217
        }
      ]
    },
    {
      "cell_type": "code",
      "source": [
        "# Make Predicting Using the Transformed Data"
      ],
      "metadata": {
        "id": "sbrfY9noq9vi"
      },
      "execution_count": null,
      "outputs": []
    },
    {
      "cell_type": "code",
      "source": [
        "predictions = model.predict(x_test_tfidf)"
      ],
      "metadata": {
        "id": "aiaJTLA75Vpm"
      },
      "execution_count": null,
      "outputs": []
    },
    {
      "cell_type": "code",
      "source": [
        "# Print the length of predictions"
      ],
      "metadata": {
        "id": "WLMXqxJLQFgx"
      },
      "execution_count": null,
      "outputs": []
    },
    {
      "cell_type": "code",
      "source": [
        "print(f\"Length of Predictions: {len(predictions)}\")"
      ],
      "metadata": {
        "colab": {
          "base_uri": "https://localhost:8080/"
        },
        "id": "cNnXpYGOI0lx",
        "outputId": "a0dc7959-935b-4a60-a015-cd004f4c4b0a"
      },
      "execution_count": null,
      "outputs": [
        {
          "output_type": "stream",
          "name": "stdout",
          "text": [
            "Length of Predictions: 153164\n"
          ]
        }
      ]
    },
    {
      "cell_type": "code",
      "source": [
        "# Print the length of the Data"
      ],
      "metadata": {
        "id": "38yz-zFzyvhu"
      },
      "execution_count": null,
      "outputs": []
    },
    {
      "cell_type": "code",
      "source": [
        "print(f\"Length of test_data ['id]: {len(test_data['id'])}\")\n",
        "print(f\"Length of Predictions: {len(predictions)}\")\n",
        "print(f\"Length of x_test_tfidf:{x_test_tfidf.shape[0]}\")"
      ],
      "metadata": {
        "colab": {
          "base_uri": "https://localhost:8080/"
        },
        "id": "C4__dgThy3AD",
        "outputId": "6568e224-3b19-48f7-a4ab-62dca79e6603"
      },
      "execution_count": null,
      "outputs": [
        {
          "output_type": "stream",
          "name": "stdout",
          "text": [
            "Length of test_data ['id]: 153164\n",
            "Length of Predictions: 153164\n",
            "Length of x_test_tfidf:153164\n"
          ]
        }
      ]
    },
    {
      "cell_type": "code",
      "source": [
        "print(predictions.shape)"
      ],
      "metadata": {
        "colab": {
          "base_uri": "https://localhost:8080/"
        },
        "id": "IkWzKj7xfQXB",
        "outputId": "43d4690b-0f01-4875-98af-0c28b7541d21"
      },
      "execution_count": null,
      "outputs": [
        {
          "output_type": "stream",
          "name": "stdout",
          "text": [
            "(153164, 6)\n"
          ]
        }
      ]
    },
    {
      "cell_type": "code",
      "source": [
        "# Prepare the Submission DataFrame"
      ],
      "metadata": {
        "id": "zdRHAzW75kMx"
      },
      "execution_count": null,
      "outputs": []
    },
    {
      "cell_type": "code",
      "source": [
        "submission = pd.DataFrame(predictions, columns=['toxic', 'severe_toxic', 'obscene', 'threat', 'insult', 'identity_hate'])\n",
        "submission.insert(0, 'id', test_data['id']) # This add 'id' as the first column\n",
        "\n",
        "print(submission.head()) # This will verify the submission Format Used."
      ],
      "metadata": {
        "colab": {
          "base_uri": "https://localhost:8080/"
        },
        "id": "wfuIhTLuf8A8",
        "outputId": "f11bc135-b05a-4f70-a540-c40a4d49111d"
      },
      "execution_count": null,
      "outputs": [
        {
          "output_type": "stream",
          "name": "stdout",
          "text": [
            "                 id  toxic  severe_toxic  obscene  threat  insult  \\\n",
            "0  00001cee341fdb12      0             0        0       0       0   \n",
            "1  0000247867823ef7      0             0        0       0       0   \n",
            "2  00013b17ad220c46      0             0        0       0       0   \n",
            "3  00017563c3f7919a      0             0        0       0       0   \n",
            "4  00017695ad8997eb      0             0        0       0       0   \n",
            "\n",
            "   identity_hate  \n",
            "0              0  \n",
            "1              0  \n",
            "2              0  \n",
            "3              0  \n",
            "4              0  \n"
          ]
        }
      ]
    },
    {
      "cell_type": "code",
      "source": [
        "# Save the Submission File as CSV"
      ],
      "metadata": {
        "id": "KbjkwaYa6_ja"
      },
      "execution_count": null,
      "outputs": []
    },
    {
      "cell_type": "code",
      "source": [
        "submission_file = 'submission.csv'\n",
        "submission.to_csv(submission_file, index=False)\n",
        "print(f\"Submission file '{submission_file} is ready for upload to Kaggle\")"
      ],
      "metadata": {
        "colab": {
          "base_uri": "https://localhost:8080/"
        },
        "id": "8EdK-YvX7Hqy",
        "outputId": "5ceaa7bf-c22a-49f4-8bbd-344467f3ae5a"
      },
      "execution_count": null,
      "outputs": [
        {
          "output_type": "stream",
          "name": "stdout",
          "text": [
            "Submission file 'submission.csv is ready for upload to Kaggle\n"
          ]
        }
      ]
    },
    {
      "cell_type": "code",
      "source": [
        "# To Download the CSV Submission File."
      ],
      "metadata": {
        "id": "bMdca_Rhjc23"
      },
      "execution_count": null,
      "outputs": []
    },
    {
      "cell_type": "code",
      "source": [
        "from google.colab import files\n",
        "files.download('submission.csv')"
      ],
      "metadata": {
        "colab": {
          "base_uri": "https://localhost:8080/",
          "height": 17
        },
        "id": "VwGmJ4gXjnAZ",
        "outputId": "01666401-a927-4725-f9d5-aaf4dd92cd44"
      },
      "execution_count": null,
      "outputs": [
        {
          "output_type": "display_data",
          "data": {
            "text/plain": [
              "<IPython.core.display.Javascript object>"
            ],
            "application/javascript": [
              "\n",
              "    async function download(id, filename, size) {\n",
              "      if (!google.colab.kernel.accessAllowed) {\n",
              "        return;\n",
              "      }\n",
              "      const div = document.createElement('div');\n",
              "      const label = document.createElement('label');\n",
              "      label.textContent = `Downloading \"${filename}\": `;\n",
              "      div.appendChild(label);\n",
              "      const progress = document.createElement('progress');\n",
              "      progress.max = size;\n",
              "      div.appendChild(progress);\n",
              "      document.body.appendChild(div);\n",
              "\n",
              "      const buffers = [];\n",
              "      let downloaded = 0;\n",
              "\n",
              "      const channel = await google.colab.kernel.comms.open(id);\n",
              "      // Send a message to notify the kernel that we're ready.\n",
              "      channel.send({})\n",
              "\n",
              "      for await (const message of channel.messages) {\n",
              "        // Send a message to notify the kernel that we're ready.\n",
              "        channel.send({})\n",
              "        if (message.buffers) {\n",
              "          for (const buffer of message.buffers) {\n",
              "            buffers.push(buffer);\n",
              "            downloaded += buffer.byteLength;\n",
              "            progress.value = downloaded;\n",
              "          }\n",
              "        }\n",
              "      }\n",
              "      const blob = new Blob(buffers, {type: 'application/binary'});\n",
              "      const a = document.createElement('a');\n",
              "      a.href = window.URL.createObjectURL(blob);\n",
              "      a.download = filename;\n",
              "      div.appendChild(a);\n",
              "      a.click();\n",
              "      div.remove();\n",
              "    }\n",
              "  "
            ]
          },
          "metadata": {}
        },
        {
          "output_type": "display_data",
          "data": {
            "text/plain": [
              "<IPython.core.display.Javascript object>"
            ],
            "application/javascript": [
              "download(\"download_a988b35e-035f-4532-954f-d7049febff46\", \"submission.csv\", 4441814)"
            ]
          },
          "metadata": {}
        }
      ]
    }
  ],
  "metadata": {
    "colab": {
      "provenance": [],
      "authorship_tag": "ABX9TyPz+6eWTQmekIJvg8W4l1fT",
      "include_colab_link": true
    },
    "kernelspec": {
      "display_name": "Python 3",
      "name": "python3"
    },
    "language_info": {
      "name": "python"
    }
  },
  "nbformat": 4,
  "nbformat_minor": 0
}